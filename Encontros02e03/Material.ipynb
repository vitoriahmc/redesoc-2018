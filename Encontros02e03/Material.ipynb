{
 "cells": [
  {
   "cell_type": "markdown",
   "metadata": {
    "deletable": false,
    "editable": false
   },
   "source": [
    "<div style=\"background-color: #fff1cd; background-image: url('../socnet.svg'); background-position: 1em 1em; background-repeat: no-repeat; background-size: 3em 3em; box-shadow: 0 0 0.25em 0; color: #403c33; font-weight: bold; min-height: 3em; padding: 1em 1em 1em 5em;\">Como o nome sugere, você deve usar este notebook como um *caderno de anotações*. Use as células editáveis para tomar notas, principalmente quando os professores estiverem complementando o conteúdo com exposições orais ou exposições na lousa. Crie um *fork* pessoal do repositório, faça *commits* dessas notas e puxe do *upstream* sempre que o repositório for atualizado. Se alguma atualização modificar um notebook existente, essa modificação não envolverá as células editáveis, portanto não causará conflito.</div>"
   ]
  },
  {
   "cell_type": "markdown",
   "metadata": {
    "deletable": false,
    "editable": false
   },
   "source": [
    "# Redes Sociais: Material do Encontro 3\n",
    "\n",
    "Bem-vindo! Ao final desta atividade, você deverá ser capaz de:\n",
    "\n",
    "* usar a biblioteca Seaborn para visualizar relações entre dados;\n",
    "* usar a biblioteca SciPy para calcular coeficientes de correlação clássicos;\n",
    "* usar a biblioteca SciPy para realizar testes de não-correlação clássicos.\n",
    "\n",
    "Esta atividade deve ser realizada em *dupla* ou *trio*, pois o processo de discussão é importante."
   ]
  },
  {
   "cell_type": "code",
   "execution_count": null,
   "metadata": {
    "deletable": false,
    "editable": false
   },
   "outputs": [],
   "source": [
    "# Configura caminho dos módulos.\n",
    "import sys\n",
    "sys.path.append('..')\n",
    "\n",
    "# Importa módulos não-padrão.\n",
    "from scipy.stats import kendalltau, pearsonr, spearmanr\n",
    "import pandas as pd\n",
    "import seaborn as sns\n",
    "\n",
    "# Importa módulos próprios.\n",
    "import socnet as sn"
   ]
  },
  {
   "cell_type": "markdown",
   "metadata": {
    "deletable": false,
    "editable": false
   },
   "source": [
    "Vamos carregar novamente a rede de citações do Encontro 1."
   ]
  },
  {
   "cell_type": "code",
   "execution_count": null,
   "metadata": {
    "deletable": false,
    "editable": false
   },
   "outputs": [],
   "source": [
    "g = sn.load_graph('../Encontro01/entrada.gml')"
   ]
  },
  {
   "cell_type": "markdown",
   "metadata": {
    "deletable": false,
    "editable": false
   },
   "source": [
    "Vamos também construir um *data frame* com as seguintes colunas:\n",
    "* *qualities*: qualidade intrínseca;\n",
    "* *degrees*: quantidade de citações recebidas ou feitas;\n",
    "* *indegrees*: quantidade de citações recebidas;\n",
    "* *outdegrees*: quantidade de citações feitas."
   ]
  },
  {
   "cell_type": "code",
   "execution_count": null,
   "metadata": {
    "deletable": false,
    "editable": false
   },
   "outputs": [],
   "source": [
    "data = pd.DataFrame.from_dict({\n",
    "    'qualities': [g.nodes[n]['quality'] for n in g.nodes],\n",
    "    'degrees': [g.degree(n) for n in g.nodes],\n",
    "    'indegrees': [g.in_degree(n) for n in g.nodes],\n",
    "    'outdegrees': [g.out_degree(n) for n in g.nodes],\n",
    "})"
   ]
  },
  {
   "cell_type": "markdown",
   "metadata": {
    "deletable": false,
    "editable": false
   },
   "source": [
    "Agora vamos visualizar as relações entre esses dados."
   ]
  },
  {
   "cell_type": "code",
   "execution_count": null,
   "metadata": {
    "deletable": false,
    "editable": false
   },
   "outputs": [],
   "source": [
    "sns.pairplot(data);"
   ]
  },
  {
   "cell_type": "markdown",
   "metadata": {
    "deletable": false,
    "editable": false
   },
   "source": [
    "**Antes de rodar a próxima célula, estime qual você acha que seria o coeficiente de correlação para cada linha e cada coluna.**"
   ]
  },
  {
   "cell_type": "raw",
   "metadata": {
    "deletable": false
   },
   "source": []
  },
  {
   "cell_type": "markdown",
   "metadata": {
    "deletable": false,
    "editable": false
   },
   "source": [
    "Por fim, vamos calcular diferentes coeficientes de correlação e os *p-values* relativos ao teste da hipótese nula de que não existe correlação."
   ]
  },
  {
   "cell_type": "code",
   "execution_count": null,
   "metadata": {
    "deletable": false,
    "editable": false
   },
   "outputs": [],
   "source": [
    "def test_pearson(x, y):\n",
    "    return pearsonr(x, y)\n",
    "\n",
    "\n",
    "def test_spearman(x, y):\n",
    "    result = spearmanr(x, y)\n",
    "\n",
    "    return result.correlation, result.pvalue\n",
    "\n",
    "\n",
    "def test_kendall(x, y):\n",
    "    result = kendalltau(x, y)\n",
    "\n",
    "    return result.correlation, result.pvalue\n",
    "\n",
    "\n",
    "columns = list(data)\n",
    "\n",
    "for x in columns:\n",
    "    for y in columns:\n",
    "        if x != y:\n",
    "            print('{} x {}'.format(x, y))\n",
    "\n",
    "            for test in [test_pearson, test_spearman, test_kendall]:\n",
    "                correlation, pvalue = test(data[x], data[y])\n",
    "\n",
    "                print('  {}: correlation {}, pvalue {}'.format(test.__name__, correlation, pvalue))"
   ]
  },
  {
   "cell_type": "markdown",
   "metadata": {
    "deletable": false,
    "editable": false
   },
   "source": [
    "**Considerando o artigo da *Vox*, discuta sobre o significado e a significância dos resultados acima.**"
   ]
  },
  {
   "cell_type": "raw",
   "metadata": {
    "deletable": false
   },
   "source": []
  },
  {
   "cell_type": "markdown",
   "metadata": {
    "deletable": false,
    "editable": false
   },
   "source": [
    "Se você colocar o arquivo dos dados de Cabreúva na mesma pasta deste notebook, a linha abaixo deve carregá-lo."
   ]
  },
  {
   "cell_type": "code",
   "execution_count": null,
   "metadata": {
    "deletable": false,
    "editable": false
   },
   "outputs": [],
   "source": [
    "data = pd.read_csv('cabreuva_limpa.csv', encoding='iso-8859-1')"
   ]
  },
  {
   "cell_type": "markdown",
   "metadata": {
    "deletable": false,
    "editable": false
   },
   "source": [
    "**Tente fazer uma investigação análoga à investigação acima, mas sobre os dados de Cabreúva. Discuta sobre as diferenças dos resultados e sobre como essas diferenças estão relacionadas à natureza dos dados.**"
   ]
  },
  {
   "cell_type": "raw",
   "metadata": {
    "deletable": false
   },
   "source": []
  },
  {
   "cell_type": "markdown",
   "metadata": {
    "deletable": false,
    "editable": false
   },
   "source": [
    "Use as referências abaixo para experimentar outras direções de investigação.\n",
    "\n",
    "* [Visualizing statistical relationships](https://seaborn.pydata.org/tutorial/relational.html#relational-tutorial);\n",
    "* [Plotting with categorical data](https://seaborn.pydata.org/tutorial/categorical.html#categorical-tutorial);\n",
    "* [Visualizing the distribution of a dataset](https://seaborn.pydata.org/tutorial/distributions.html#distribution-tutorial)."
   ]
  },
  {
   "cell_type": "code",
   "execution_count": null,
   "metadata": {
    "deletable": false
   },
   "outputs": [],
   "source": []
  },
  {
   "cell_type": "markdown",
   "metadata": {
    "deletable": false,
    "editable": false
   },
   "source": [
    "### Observações"
   ]
  },
  {
   "cell_type": "raw",
   "metadata": {
    "deletable": false
   },
   "source": []
  }
 ],
 "metadata": {
  "kernelspec": {
   "display_name": "Python 3",
   "language": "python",
   "name": "python3"
  },
  "language_info": {
   "codemirror_mode": {
    "name": "ipython",
    "version": 3
   },
   "file_extension": ".py",
   "mimetype": "text/x-python",
   "name": "python",
   "nbconvert_exporter": "python",
   "pygments_lexer": "ipython3",
   "version": "3.6.5"
  }
 },
 "nbformat": 4,
 "nbformat_minor": 1
}
