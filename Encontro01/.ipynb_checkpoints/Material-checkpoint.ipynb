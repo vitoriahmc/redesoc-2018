{
 "cells": [
  {
   "cell_type": "markdown",
   "metadata": {
    "deletable": false,
    "editable": false
   },
   "source": [
    "<div style=\"background-color: #fff1cd; background-image: url('../socnet.svg'); background-position: 1em 1em; background-repeat: no-repeat; background-size: 3em 3em; box-shadow: 0 0 0.25em 0; color: #403c33; font-weight: bold; min-height: 3em; padding: 1em 1em 1em 5em;\">Como o nome sugere, você deve usar este notebook como um *caderno de anotações*. Use as células editáveis para tomar notas, principalmente quando os professores estiverem complementando o conteúdo com exposições orais ou exposições na lousa. Crie um *branch* pessoal do repositório, faça *commits* dessas notas e faça um *merge* sempre que o repositório for atualizado. Se alguma atualização modificar um notebook existente, essa modificação não envolverá as células editáveis, portanto não causará conflito.</div>"
   ]
  },
  {
   "cell_type": "markdown",
   "metadata": {
    "deletable": false,
    "editable": false
   },
   "source": [
    "# Redes Sociais: Material do Encontro 1\n",
    "\n",
    "Bem-vindo! Ao final desta atividade, você deverá ser capaz de:\n",
    "\n",
    "* articular o conceito de *metodologia de pesquisa*;\n",
    "* descrever as etapas do *método científico*;\n",
    "* articular o conceito de *rede social*;\n",
    "* articular o conceito de *Efeito Mateus.*\n",
    "\n",
    "Esta atividade deve ser realizada em *dupla* ou *trio*, pois o processo de discussão é importante."
   ]
  },
  {
   "cell_type": "code",
   "execution_count": 1,
   "metadata": {
    "deletable": false,
    "editable": false
   },
   "outputs": [
    {
     "data": {
      "text/html": [
       "<script>requirejs.config({paths: { 'plotly': ['https://cdn.plot.ly/plotly-latest.min']},});if(!window.Plotly) {{require(['plotly'],function(plotly) {window.Plotly=plotly;});}}</script>"
      ],
      "text/vnd.plotly.v1+html": [
       "<script>requirejs.config({paths: { 'plotly': ['https://cdn.plot.ly/plotly-latest.min']},});if(!window.Plotly) {{require(['plotly'],function(plotly) {window.Plotly=plotly;});}}</script>"
      ]
     },
     "metadata": {},
     "output_type": "display_data"
    }
   ],
   "source": [
    "# Configura caminho dos módulos.\n",
    "import sys\n",
    "sys.path.append('..')\n",
    "\n",
    "# Importa módulos padrão.\n",
    "from statistics import mean, stdev\n",
    "\n",
    "# Importa módulos não-padrão.\n",
    "import numpy as np\n",
    "import matplotlib.pyplot as plt\n",
    "from scipy.stats import norm, linregress\n",
    "\n",
    "# Importa módulos próprios.\n",
    "import socnet as sn\n",
    "\n",
    "# Ativa exibição de gráficos no notebook.\n",
    "%matplotlib inline"
   ]
  },
  {
   "cell_type": "markdown",
   "metadata": {
    "deletable": false,
    "editable": false
   },
   "source": [
    "### Introdução: ciência como mercado de ideias\n",
    "\n",
    "* \"O Sol gira em torno da Terra.\"\n",
    "* \"Objetos mais pesados caem mais rapidamente que objetos mais leves.\"\n",
    "* \"A Terra tem 5 mil anos de idade.\"\n",
    "\n",
    "Essas afirmações, entre muitas outras, foram consideradas verdadeiras por centenas de anos. Eram derivadas de observações a olho nu (por exemplo, a rotação do Sol era uma explicação para a ocorrência de nascente e poente), pressupostos religiosos (por exemplo, a idade da Terra era citada a partir das escrituras) ou ambos.\n",
    "\n",
    "Com a crescente separação entre religião, arte e ciência, a partir da [Renascença Italiana](https://en.wikipedia.org/wiki/Italian_Renaissance), essas ideias começaram a ser desafiadas. A passagem abaixo, sobre o início da carreira científica de [Galileo Galilei](https://en.wikipedia.org/wiki/Galileo_Galilei), ilustra essa mudança de paradigma que iria inaugurar a ciência moderna:\n",
    "\n",
    "> *Galileo's first trial of strength with the university professors was connected with his researches into the laws of motion as illustrated by falling bodies. It was an accepted axiom of Aristotle that the speed of falling bodies was regulated by their respective weights: thus, a stone weighing two pounds would fall twice as quick as one weighing only a single pound and so on. No one seems to have questioned the correctness of this rule, until Galileo gave it his denial. He declared that weight had nothing to do with the matter, and that two bodies of unequal weight would reach the ground at the same moment. As Galileo’s statement was flouted by the body of professors, he determined to put it to a public test. So he invited the whole University to witness the experiment which he was about to perform from the leaning tower. On the morning of the day fixed, Galileo, in the presence of the assesmbled University and townsfolk, mounted to the top of the tower, carrying with him two balls, one weighing one hundred pounds and the other weighing one pound. Balancing the balls carefully on the edge of the parapet, he rolled them over together; they were seen to fall evenly, and the next instant, with a loud clang, they struck the ground together. The old tradition was false, and modern science, in the person of the young discoverer, had vindicated her position.* [1, 2]\n",
    "\n",
    "O procedimento de Galileo era revolucionário para a época, não apenas por desafiar ideias consolidadas e consagradas, mas também por possibilitar que novos conhecimentos fossem construídos por indivíduos fora das estruturas hierárquicas tradicionais associadas, como por exemplo a Igreja e a Universidade Escolástica.\n",
    "\n",
    "Poderíamos, a partir de Galileo e da [Revolução Científica](https://en.wikipedia.org/wiki/Scientific_Revolution), imaginar a construção de conhecimento como um \"mercado\". Assim como Galileo, qualquer pessoa pode submeter suas ideias para serem testadas pela comunidade científica. Após serem criteriosamente verificadas pelos pares, as ideias aceitas passam a ser adotadas pela comunidade e as ideias rejeitadas são descartadas do corpo de conhecimento aprovado pela Ciência.\n",
    "\n",
    "A visão de que a Ciência possa ser feita de forma aberta, pública e independente de relações hierárquicas, desde que admitindo teste criterioso, impulsionou vários pensadores a associá-la aos valores de Liberdade e Democracia. Por exemplo: John Stuart Mill, em seu livro *On Liberty*, afirma que esse “mercado” é crucial para a emersão de canais de comunicação na sociedade onde fatos possam ser ratificados e, com isso, permitir que cidadãos possam monitorar melhor seus governos.\n",
    "\n",
    "O pressuposto central desse conceito de “mercado de ideias” livre e aberto é que a comunidade científica seja efetiva em testar a qualidade das ideias em circulação. Como isso ocorre? Quando um cientista concebe uma nova ideia, submete um artigo para publicação em uma revista acadêmica. A partir dessa submissão, pareceristas são encarregados de julgar se essa ideia, assim como as evidências e os procedimentos adotados, são consistentes e coerentes. Se esses pressupostos forem atendidos, o artigo é aceito para publicação e a nova ideia é adotada. A adoção de novas ideias pode ser confirmada por citações do artigo em outros publicados posteriormente.\n",
    "\n",
    "Faz sentido, portanto, esperar que a quantidade de citações recebidas por uma publicação seja proporcional à sua qualidade intrínseca. Por exemplo: se a distribuição de qualidade intrínseca for normal..."
   ]
  },
  {
   "cell_type": "code",
   "execution_count": 2,
   "metadata": {
    "deletable": false,
    "editable": false,
    "scrolled": true
   },
   "outputs": [
    {
     "ename": "AttributeError",
     "evalue": "Unknown property density",
     "output_type": "error",
     "traceback": [
      "\u001b[1;31m---------------------------------------------------------------------------\u001b[0m",
      "\u001b[1;31mAttributeError\u001b[0m                            Traceback (most recent call last)",
      "\u001b[1;32m<ipython-input-2-d70f8d08feaf>\u001b[0m in \u001b[0;36m<module>\u001b[1;34m()\u001b[0m\n\u001b[0;32m     10\u001b[0m \u001b[1;31m# Plota o histograma de qualidade.\u001b[0m\u001b[1;33m\u001b[0m\u001b[1;33m\u001b[0m\u001b[0m\n\u001b[0;32m     11\u001b[0m \u001b[0mqualities\u001b[0m \u001b[1;33m=\u001b[0m \u001b[1;33m[\u001b[0m\u001b[0mg\u001b[0m\u001b[1;33m.\u001b[0m\u001b[0mnodes\u001b[0m\u001b[1;33m[\u001b[0m\u001b[0mn\u001b[0m\u001b[1;33m]\u001b[0m\u001b[1;33m[\u001b[0m\u001b[1;34m'quality'\u001b[0m\u001b[1;33m]\u001b[0m \u001b[1;32mfor\u001b[0m \u001b[0mn\u001b[0m \u001b[1;32min\u001b[0m \u001b[0mg\u001b[0m\u001b[1;33m.\u001b[0m\u001b[0mnodes\u001b[0m\u001b[1;33m]\u001b[0m\u001b[1;33m\u001b[0m\u001b[0m\n\u001b[1;32m---> 12\u001b[1;33m \u001b[0mhist\u001b[0m \u001b[1;33m=\u001b[0m \u001b[0mplt\u001b[0m\u001b[1;33m.\u001b[0m\u001b[0mhist\u001b[0m\u001b[1;33m(\u001b[0m\u001b[0mqualities\u001b[0m\u001b[1;33m,\u001b[0m \u001b[0mdensity\u001b[0m\u001b[1;33m=\u001b[0m\u001b[1;32mTrue\u001b[0m\u001b[1;33m)\u001b[0m\u001b[1;33m\u001b[0m\u001b[0m\n\u001b[0m\u001b[0;32m     13\u001b[0m \u001b[1;33m\u001b[0m\u001b[0m\n\u001b[0;32m     14\u001b[0m \u001b[1;31m# Plota a curva da normal.\u001b[0m\u001b[1;33m\u001b[0m\u001b[1;33m\u001b[0m\u001b[0m\n",
      "\u001b[1;32mC:\\Anaconda3\\lib\\site-packages\\matplotlib\\pyplot.py\u001b[0m in \u001b[0;36mhist\u001b[1;34m(x, bins, range, normed, weights, cumulative, bottom, histtype, align, orientation, rwidth, log, color, label, stacked, hold, data, **kwargs)\u001b[0m\n\u001b[0;32m   2956\u001b[0m                       \u001b[0mhisttype\u001b[0m\u001b[1;33m=\u001b[0m\u001b[0mhisttype\u001b[0m\u001b[1;33m,\u001b[0m \u001b[0malign\u001b[0m\u001b[1;33m=\u001b[0m\u001b[0malign\u001b[0m\u001b[1;33m,\u001b[0m \u001b[0morientation\u001b[0m\u001b[1;33m=\u001b[0m\u001b[0morientation\u001b[0m\u001b[1;33m,\u001b[0m\u001b[1;33m\u001b[0m\u001b[0m\n\u001b[0;32m   2957\u001b[0m                       \u001b[0mrwidth\u001b[0m\u001b[1;33m=\u001b[0m\u001b[0mrwidth\u001b[0m\u001b[1;33m,\u001b[0m \u001b[0mlog\u001b[0m\u001b[1;33m=\u001b[0m\u001b[0mlog\u001b[0m\u001b[1;33m,\u001b[0m \u001b[0mcolor\u001b[0m\u001b[1;33m=\u001b[0m\u001b[0mcolor\u001b[0m\u001b[1;33m,\u001b[0m \u001b[0mlabel\u001b[0m\u001b[1;33m=\u001b[0m\u001b[0mlabel\u001b[0m\u001b[1;33m,\u001b[0m\u001b[1;33m\u001b[0m\u001b[0m\n\u001b[1;32m-> 2958\u001b[1;33m                       stacked=stacked, data=data, **kwargs)\n\u001b[0m\u001b[0;32m   2959\u001b[0m     \u001b[1;32mfinally\u001b[0m\u001b[1;33m:\u001b[0m\u001b[1;33m\u001b[0m\u001b[0m\n\u001b[0;32m   2960\u001b[0m         \u001b[0max\u001b[0m\u001b[1;33m.\u001b[0m\u001b[0mhold\u001b[0m\u001b[1;33m(\u001b[0m\u001b[0mwashold\u001b[0m\u001b[1;33m)\u001b[0m\u001b[1;33m\u001b[0m\u001b[0m\n",
      "\u001b[1;32mC:\\Anaconda3\\lib\\site-packages\\matplotlib\\__init__.py\u001b[0m in \u001b[0;36minner\u001b[1;34m(ax, *args, **kwargs)\u001b[0m\n\u001b[0;32m   1809\u001b[0m                     warnings.warn(msg % (label_namer, func.__name__),\n\u001b[0;32m   1810\u001b[0m                                   RuntimeWarning, stacklevel=2)\n\u001b[1;32m-> 1811\u001b[1;33m             \u001b[1;32mreturn\u001b[0m \u001b[0mfunc\u001b[0m\u001b[1;33m(\u001b[0m\u001b[0max\u001b[0m\u001b[1;33m,\u001b[0m \u001b[1;33m*\u001b[0m\u001b[0margs\u001b[0m\u001b[1;33m,\u001b[0m \u001b[1;33m**\u001b[0m\u001b[0mkwargs\u001b[0m\u001b[1;33m)\u001b[0m\u001b[1;33m\u001b[0m\u001b[0m\n\u001b[0m\u001b[0;32m   1812\u001b[0m         \u001b[0mpre_doc\u001b[0m \u001b[1;33m=\u001b[0m \u001b[0minner\u001b[0m\u001b[1;33m.\u001b[0m\u001b[0m__doc__\u001b[0m\u001b[1;33m\u001b[0m\u001b[0m\n\u001b[0;32m   1813\u001b[0m         \u001b[1;32mif\u001b[0m \u001b[0mpre_doc\u001b[0m \u001b[1;32mis\u001b[0m \u001b[1;32mNone\u001b[0m\u001b[1;33m:\u001b[0m\u001b[1;33m\u001b[0m\u001b[0m\n",
      "\u001b[1;32mC:\\Anaconda3\\lib\\site-packages\\matplotlib\\axes\\_axes.py\u001b[0m in \u001b[0;36mhist\u001b[1;34m(self, x, bins, range, normed, weights, cumulative, bottom, histtype, align, orientation, rwidth, log, color, label, stacked, **kwargs)\u001b[0m\n\u001b[0;32m   6221\u001b[0m             \u001b[1;32mif\u001b[0m \u001b[0mpatch\u001b[0m\u001b[1;33m:\u001b[0m\u001b[1;33m\u001b[0m\u001b[0m\n\u001b[0;32m   6222\u001b[0m                 \u001b[0mp\u001b[0m \u001b[1;33m=\u001b[0m \u001b[0mpatch\u001b[0m\u001b[1;33m[\u001b[0m\u001b[1;36m0\u001b[0m\u001b[1;33m]\u001b[0m\u001b[1;33m\u001b[0m\u001b[0m\n\u001b[1;32m-> 6223\u001b[1;33m                 \u001b[0mp\u001b[0m\u001b[1;33m.\u001b[0m\u001b[0mupdate\u001b[0m\u001b[1;33m(\u001b[0m\u001b[0mkwargs\u001b[0m\u001b[1;33m)\u001b[0m\u001b[1;33m\u001b[0m\u001b[0m\n\u001b[0m\u001b[0;32m   6224\u001b[0m                 \u001b[1;32mif\u001b[0m \u001b[0mlbl\u001b[0m \u001b[1;32mis\u001b[0m \u001b[1;32mnot\u001b[0m \u001b[1;32mNone\u001b[0m\u001b[1;33m:\u001b[0m\u001b[1;33m\u001b[0m\u001b[0m\n\u001b[0;32m   6225\u001b[0m                     \u001b[0mp\u001b[0m\u001b[1;33m.\u001b[0m\u001b[0mset_label\u001b[0m\u001b[1;33m(\u001b[0m\u001b[0mlbl\u001b[0m\u001b[1;33m)\u001b[0m\u001b[1;33m\u001b[0m\u001b[0m\n",
      "\u001b[1;32mC:\\Anaconda3\\lib\\site-packages\\matplotlib\\artist.py\u001b[0m in \u001b[0;36mupdate\u001b[1;34m(self, props)\u001b[0m\n\u001b[0;32m    854\u001b[0m                 \u001b[0mfunc\u001b[0m \u001b[1;33m=\u001b[0m \u001b[0mgetattr\u001b[0m\u001b[1;33m(\u001b[0m\u001b[0mself\u001b[0m\u001b[1;33m,\u001b[0m \u001b[1;34m'set_'\u001b[0m \u001b[1;33m+\u001b[0m \u001b[0mk\u001b[0m\u001b[1;33m,\u001b[0m \u001b[1;32mNone\u001b[0m\u001b[1;33m)\u001b[0m\u001b[1;33m\u001b[0m\u001b[0m\n\u001b[0;32m    855\u001b[0m                 \u001b[1;32mif\u001b[0m \u001b[0mfunc\u001b[0m \u001b[1;32mis\u001b[0m \u001b[1;32mNone\u001b[0m \u001b[1;32mor\u001b[0m \u001b[1;32mnot\u001b[0m \u001b[0msix\u001b[0m\u001b[1;33m.\u001b[0m\u001b[0mcallable\u001b[0m\u001b[1;33m(\u001b[0m\u001b[0mfunc\u001b[0m\u001b[1;33m)\u001b[0m\u001b[1;33m:\u001b[0m\u001b[1;33m\u001b[0m\u001b[0m\n\u001b[1;32m--> 856\u001b[1;33m                     \u001b[1;32mraise\u001b[0m \u001b[0mAttributeError\u001b[0m\u001b[1;33m(\u001b[0m\u001b[1;34m'Unknown property %s'\u001b[0m \u001b[1;33m%\u001b[0m \u001b[0mk\u001b[0m\u001b[1;33m)\u001b[0m\u001b[1;33m\u001b[0m\u001b[0m\n\u001b[0m\u001b[0;32m    857\u001b[0m                 \u001b[0mfunc\u001b[0m\u001b[1;33m(\u001b[0m\u001b[0mv\u001b[0m\u001b[1;33m)\u001b[0m\u001b[1;33m\u001b[0m\u001b[0m\n\u001b[0;32m    858\u001b[0m             \u001b[0mchanged\u001b[0m \u001b[1;33m=\u001b[0m \u001b[1;32mTrue\u001b[0m\u001b[1;33m\u001b[0m\u001b[0m\n",
      "\u001b[1;31mAttributeError\u001b[0m: Unknown property density"
     ]
    },
    {
     "data": {
      "image/png": "[encoded data removed]",
      "text/plain": [
       "<matplotlib.figure.Figure at 0x2a65c35d940>"
      ]
     },
     "metadata": {},
     "output_type": "display_data"
    }
   ],
   "source": [
    "'''\n",
    "Durante o encontro, você pode pular este código\n",
    "sem precisar entender, mas reserve um tempo para\n",
    "ler sozinho e com calma depois, como exercício.\n",
    "'''\n",
    "\n",
    "# Carrega uma rede de artigos e citações.\n",
    "g = sn.load_graph('entrada.gml')\n",
    "\n",
    "# Plota o histograma de qualidade.\n",
    "qualities = [g.nodes[n]['quality'] for n in g.nodes]\n",
    "hist = plt.hist(qualities, density=True)\n",
    "\n",
    "# Plota a curva da normal.\n",
    "dist = norm(mean(qualities), stdev(qualities))\n",
    "xdata = [dist.ppf(i / 100) for i in range(1, 100)]\n",
    "ydata = [dist.pdf(x) for x in xdata]\n",
    "plt.plot(xdata, ydata)\n",
    "\n",
    "# Exibe o gráfico.\n",
    "plt.title('distribuição de qualidade intrínseca')\n",
    "plt.show()"
   ]
  },
  {
   "cell_type": "markdown",
   "metadata": {
    "deletable": false,
    "editable": false
   },
   "source": [
    "...esperamos que a distribuição de quantidade de citações também seja normal. No entanto, isso não ocorre em certas comunidades científicas."
   ]
  },
  {
   "cell_type": "code",
   "execution_count": 3,
   "metadata": {
    "deletable": false,
    "editable": false
   },
   "outputs": [
    {
     "data": {
      "image/png": "[encoded data removed]",
      "text/plain": [
       "<matplotlib.figure.Figure at 0x2a65e7546a0>"
      ]
     },
     "metadata": {},
     "output_type": "display_data"
    }
   ],
   "source": [
    "'''\n",
    "Durante o encontro, você pode pular este código\n",
    "sem precisar entender, mas reserve um tempo para\n",
    "ler sozinho e com calma depois, como exercício.\n",
    "'''\n",
    "\n",
    "# Plota o histograma de citações.\n",
    "hist = plt.hist([g.in_degree(n) for n in g.nodes])\n",
    "xdata = [(l + r) / 2 for l, r in zip(hist[1][:-1], hist[1][1:])]\n",
    "ydata = [h + 1 for h in hist[0]]\n",
    "\n",
    "# Calcula uma regressão linear sobre os logaritmos dos dados.\n",
    "reg = linregress(np.log(xdata), np.log(ydata))\n",
    "\n",
    "# Plota uma exponencial da curva de regressão.\n",
    "plt.plot(xdata, [x ** reg[0] * np.exp(reg[1]) - 1 for x in xdata])\n",
    "\n",
    "# Exibe o gráfico.\n",
    "plt.title('distribuição de quantidade de citações')\n",
    "plt.show()"
   ]
  },
  {
   "cell_type": "markdown",
   "metadata": {
    "deletable": false,
    "editable": false
   },
   "source": [
    "Essa distribuição é conhecida como *power law*, por ser proporcional a uma potência.\n",
    "\n",
    "Disse segue uma **pergunta de pesquisa:** por que em certas comunidades científicas a distribuição de citações segue uma *power law*?\n",
    "\n",
    "Descrevemos a seguir um protocolo para estruturar a investigação desse fenômeno e algumas alternativas para discussão.\n",
    "\n",
    "### Etapa 1: traduzir um contexto para um modelo com mecanismos sociológicos\n",
    "\n",
    "*A partir do que observamos e entendemos do contexto, do que conhecemos em relação às teorias relacionadas e da nossa imaginação, propomos uma explicação de como o fenômeno surge, baseada em mecanismos sociológicos que cobrem os elementos observados.*\n",
    "\n",
    "Considere as duas alternativas abaixo como possibilidades de entregável dessa etapa.\n",
    "\n",
    "**Alternativa A:** O meio científico é, sobretudo, uma comunidade cujos indivíduos possuem limitações e interesses. Assim, tudo aquilo que ocorre na sociedade como um todo pode ocorrer nesse meio. É importante considerar, portanto, todos os fatores que geram desigualdade, seja ela acadêmica ou não. Alguns mecanismos óbvios: sexismo, racismo, preconceito contra pesquisadores idosos, preconceito contra pesquisadores jovens, entre outros. Para ilustrar o funcionamento desses mecanismos, podemos propor uma explicação de como o sexismo pode causar assimetria de popularidade. Sabemos que as pessoas, tanto homens quanto mulheres, consideram o gênero masculino mais competente que o feminino: as mulheres sofrem um “desconto”, tendo suas contribuições vistas como menos importantes. Se uma comunidade científica atribui menor valor a essas contribuições, é esperado que os artigos escritos por homens acumulem maior popularidade, independentemente da qualidade intrínseca deles.\n",
    "\n",
    "**Alternativa B:** Devemos pensar que os indivíduos de uma comunidade científica possuem capacidade variável de apreciação da qualidade intrínseca dos artigos submetidos. Independentemente de qualquer outra característica desses cientistas, podemos presumir que eles, em geral, têm uma necessidade alta de sentir que pertencem a debates relevantes e importantes. Dessa forma, quando se deparam com um artigo que já foi citado por outros cientistas, se sentem mais confortáveis em citar esse artigo do que outro ainda não citado. Supondo essa ideia como verdadeira, artigos que inicialmente ganharam citações por serem apenas marginalmente melhores, com o passar do tempo, acabam acumulando uma quantidade desproporcional de citações em relação a sua qualidade intrínseca.\n",
    "\n",
    "Qual dessas alternativas você considera melhor? Por quê?"
   ]
  },
  {
   "cell_type": "raw",
   "metadata": {
    "deletable": false
   },
   "source": [
    "Escolhemos a alternativa B, visto que, por mais que injusta, a creditação de artigos marginalmente melhores acontece e acaba gerando mais atenção a eles, e gradativamente eles vão se sobressaindo sob os outros, fenômeno que também é observado em outras esferas, como a música ou a televisão, portanto, a abordagem é mais ampla em relação a quantidade de informação que podemos obter dos artigos. No caso da alternativa A, a proposição do caso de sexismo é mais específica, limitando a quantidade de informação que analisamos, portanto, havendo maior perda."
   ]
  },
  {
   "cell_type": "markdown",
   "metadata": {
    "deletable": false,
    "editable": false
   },
   "source": [
    "### Etapa 2: traduzir mecanismos sociológicos para hipóteses testáveis com variáveis apropriadas\n",
    "\n",
    "*A partir dos mecanismos propostos, especificamos hipóteses que claramente relacionam grandezas.*\n",
    "\n",
    "Considere as duas alternativas abaixo como possibilidades de entregável dessa etapa.\n",
    "\n",
    "**Alternativa A:** Dado o mecanismo de \"citação sexista\", identificado na primeira alternativa da etapa anterior, especificamos a seguinte hipótese: \"ao final de uma simulação desse mecanismo, a distribuição de citações será estatisticamente semelhante a uma *power law*.\"\n",
    "\n",
    "**Alternativa B:** Dado o mecanismo de \"citação cumulativa\", identificado na segunda alternativa da etapa anterior, especificamos as seguinte hipótese: “se existe uma diferença de qualidade entre dois artigos, o melhor será muito mais citado mesmo que essa diferença seja pequena.\"\n",
    "\n",
    "Qual dessas alternativas você considera melhor? Por quê?"
   ]
  },
  {
   "cell_type": "raw",
   "metadata": {
    "deletable": false
   },
   "source": [
    "Escolhemos a alternativa B, já que artigos lançados ao mesmo tempo sobre um mesmo assunto, o que tiver melhor qualidade, por mais que bem pequena, vai desproporcionalmente se sobressair."
   ]
  },
  {
   "cell_type": "markdown",
   "metadata": {
    "deletable": false,
    "editable": false
   },
   "source": [
    "### Etapa 3: operacionalizar e testar hipóteses\n",
    "\n",
    "*A partir das hipóteses especificadas, implementamos e executamos mensurações.*\n",
    "\n",
    "Considere a hipótese \"ao final de uma simulação do mecanismo de citação cumulativa, a distribuição de citações será estatisticamente semelhante a uma *power law*\". Note que essa hipótese não foi especificada em nenhuma das duas alternativas da etapa anterior.\n",
    "\n",
    "Suponha que realizamos uma simulação na qual um conjunto de 100 artigos começa com uma distribuição normal de qualidade intrínseca e nenhuma citação. Em cada iteração dessa simulação, selecionamos um artigo que não cita nenhum e escolhemos 10 outros para ele citar. A probabilidade de um artigo ser selecionado para ser citado é proporcional a uma soma ponderada de sua qualidade intrínseca com a quantidade de citações que já possui. Naturalmente, a simulação termina quando todo artigo citar algum.\n",
    "\n",
    "Imaginando que o código e os resultados estariam disponíveis, considere as duas alternativas abaixo como possibilidades de entregável dessa etapa.\n",
    "\n",
    "**Alternativa A:** Infográfico dos artigos, indicando através de um mapa de calor a quantidade relativa de citações que cada um recebe. Constatação, a partir desse infográfico, de que a quantidade de artigos pouco citados é alta.\n",
    "\n",
    "**Alternativa B:** Histograma da quantidade de citações e teste que rejeita a hipótese desse histograma ser diferente de uma *power law*.\n",
    "\n",
    "Qual dessas alternativas você considera melhor? Por quê?"
   ]
  },
  {
   "cell_type": "raw",
   "metadata": {
    "deletable": false
   },
   "source": [
    "Escolhemos a alternativa B, pois o histograma é uma maneira mais fácil de interpretar a disparidade, e a partir do teste, se ele fosse diferente de uma power law comprovaríamos que a hipótese é falsa."
   ]
  },
  {
   "cell_type": "markdown",
   "metadata": {
    "deletable": false,
    "editable": false
   },
   "source": [
    "### Etapa 4: interpretar resultados de uma operacionalização e teste de hipótese\n",
    "\n",
    "*A partir das mensurações implementadas e executadas, interpretamos as informações que foram obtidas.*\n",
    "\n",
    "Considere as duas alternativas abaixo como possibilidades de entregável dessa etapa.\n",
    "\n",
    "**Alternativa A:** Os resultados da simulação indicam que a distribuição de citações é estatisticamente semelhante a uma *power law*. Isso sugere que a qualidade é irrelevante.\n",
    "\n",
    "**Alternativa B:** Os resultados da simulação indicam que a distribuição de citações é estatisticamente semelhante a uma *power law*. Entretanto, essa semelhança ocorreu apenas nos casos em que o peso da popularidade era superior a 90%. Em outros casos, obteve-se uma distribuição normal.\n",
    "\n",
    "Qual dessas alternativas você considera melhor? Por quê?"
   ]
  },
  {
   "cell_type": "raw",
   "metadata": {
    "deletable": false
   },
   "source": [
    "Escolhemos a alternativa B, pois ao dizer que qualidade é irrelevante perdemos informação, já que a alternativa B diz que por mais que não seja na maioria dos casos, em alguns deles, a qualidade é sim relevante."
   ]
  },
  {
   "cell_type": "markdown",
   "metadata": {
    "deletable": false,
    "editable": false
   },
   "source": [
    "### Etapa 5: identificar implicações, extrapolar e generalizar resultados e reinterpretar contextos\n",
    "\n",
    "*Quando interpretamos os resultados na etapa anterior, ainda estamos relatando os fatos usando jargões e linguagem técnica, impedindo portanto a compreensão pelo público em geral. Além disso, ainda não podemos saber com certeza se o que observamos faz sentido em relação ao contexto e/ou da teoria na qual baseamos o início do estudo.*\n",
    "\n",
    "*Nesta etapa, ocorre um retorno ao contexto, à teoria e, ao utilizar uma linguagem acessível, ao grande público. Sugerimos o que aprendemos sobre o contexto e o que acrescentamos à teoria. Em muitos casos, os resultados obtidos não correspondem ou não reproduzem de forma fidedigna o contexto original ou não permitem generalização (explicação de outros contextos). Essa distância entre resultados, contextos e teorias provoca uma discussão que pode levar a uma revisão da teoria proposta ou identificação de limites da pesquisa que poderão ser incorporados em estudos futuros.*\n",
    "\n",
    "Considere as duas alternativas abaixo como possibilidades de entregável dessa etapa.\n",
    "\n",
    "**Alternativa B:** A rejeição da hipótese nula sugere que o mecanismo de \"citação cumulativa\" realmente ocorre em certas comunidades científicas. Entretanto, ele não explica outros contextos que possuem distribuições diferentes de *power-law*. Isso sugere que existem mecanismos suplementares, capazes de mitigar o chamado [Efeito Mateus](https://en.wikipedia.org/wiki/Matthew_effect).\n",
    "\n",
    "**Alternativa A:** Como a hipótese nula foi rejeitada, a hipótese foi validada e a teoria foi corroborada.\n",
    "\n",
    "Qual dessas alternativas você considera melhor? Por quê?"
   ]
  },
  {
   "cell_type": "raw",
   "metadata": {
    "deletable": false
   },
   "source": [
    "A alternativa B, pois é um complemento das alternativas A e B da Etapa 1, fazendo a pesquisa, e assim, o encontro da resposta, passar por mais esferas relevantes."
   ]
  },
  {
   "cell_type": "markdown",
   "metadata": {
    "deletable": false,
    "editable": false
   },
   "source": [
    "### Reflexão 1\n",
    "\n",
    "Uma pesquisa pode ser considerada boa quando os resultados não corroboram as hipóteses especificadas?"
   ]
  },
  {
   "cell_type": "raw",
   "metadata": {
    "deletable": false
   },
   "source": [
    "Sim! Se ela não comprova a hipótese especificada, ela a elimina, o que já é um avanço para o tema."
   ]
  },
  {
   "cell_type": "markdown",
   "metadata": {
    "deletable": false,
    "editable": false
   },
   "source": [
    "### Reflexão 2\n",
    "\n",
    "Uma pesquisa pode ser considerada boa quando a comunidade não possui acesso a seus entregáveis?"
   ]
  },
  {
   "cell_type": "raw",
   "metadata": {
    "deletable": false
   },
   "source": [
    "Não! Se não houver impacto na sociedade (mesmo que a um grupo pequeno), não vejo objetivo na pesquisa. Caso não haja acesso a metodologia, mas haja acesso a conclusão da pesquisa, aí considero que é possível que exista o impacto desejado pelos pesquisadores, portanto, a pesquisa atinge seu objetivo de informar."
   ]
  },
  {
   "cell_type": "markdown",
   "metadata": {
    "deletable": false,
    "editable": false
   },
   "source": [
    "### Referências\n",
    "\n",
    "1. F. J. Rowbotham. *Story Lives of Men of Science.* Wells Gardner, Darton and Company, 1918.\n",
    "2. A. F. Chalmers. *What is This Thing Called Science?* Hackett, 2013.\n",
    "\n",
    "### Observações"
   ]
  },
  {
   "cell_type": "raw",
   "metadata": {
    "deletable": false
   },
   "source": [
    "Expectativa muito alta para a displicina, adorei a estrutura da primeira aula, espero que continuemos nessa dinâmica :)"
   ]
  }
 ],
 "metadata": {
  "kernelspec": {
   "display_name": "Python 3",
   "language": "python",
   "name": "python3"
  },
  "language_info": {
   "codemirror_mode": {
    "name": "ipython",
    "version": 3
   },
   "file_extension": ".py",
   "mimetype": "text/x-python",
   "name": "python",
   "nbconvert_exporter": "python",
   "pygments_lexer": "ipython3",
   "version": "3.5.4"
  }
 },
 "nbformat": 4,
 "nbformat_minor": 1
}
