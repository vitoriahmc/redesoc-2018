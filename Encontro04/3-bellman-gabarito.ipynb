{
 "cells": [
  {
   "cell_type": "markdown",
   "metadata": {},
   "source": [
    "# Encontro 02, Parte 3: Algoritmo de Bellman-Ford\n",
    "\n",
    "Este guia foi escrito para ajudar você a atingir os seguintes objetivos:\n",
    "\n",
    "* implementar o algoritmo de Bellman-Ford;\n",
    "* praticar o uso da biblioteca da disciplina.\n",
    "\n",
    "Primeiramente, vamos importar a biblioteca:"
   ]
  },
  {
   "cell_type": "code",
   "execution_count": null,
   "metadata": {
    "collapsed": true
   },
   "outputs": [],
   "source": [
    "import sys\n",
    "sys.path.append('..')\n",
    "\n",
    "import socnet as sn"
   ]
  },
  {
   "cell_type": "markdown",
   "metadata": {},
   "source": [
    "A seguir, vamos configurar as propriedades visuais:"
   ]
  },
  {
   "cell_type": "code",
   "execution_count": null,
   "metadata": {
    "collapsed": true
   },
   "outputs": [],
   "source": [
    "sn.graph_width = 320\n",
    "sn.graph_height = 180"
   ]
  },
  {
   "cell_type": "markdown",
   "metadata": {},
   "source": [
    "Por fim, vamos carregar e visualizar um grafo:"
   ]
  },
  {
   "cell_type": "code",
   "execution_count": null,
   "metadata": {
    "collapsed": true
   },
   "outputs": [],
   "source": [
    "g = sn.load_graph('3-bellman.gml', has_pos=True)\n",
    "\n",
    "for n, m in g.edges():\n",
    "    g.edge[n][m]['label'] = g.edge[n][m]['c']\n",
    "\n",
    "sn.show_graph(g, elab=True)"
   ]
  },
  {
   "cell_type": "markdown",
   "metadata": {},
   "source": [
    "## Passeios de custo mínimo\n",
    "\n",
    "O arquivo atribui `c` às arestas. Formalmente, esse atributo é uma função que mapeia pares de nós a reais:\n",
    "\n",
    "$c \\colon N \\times N \\rightarrow \\mathbb{R}$.\n",
    "\n",
    "O **custo** de um passeio $\\langle n_0, n_1, \\ldots, n_{k-1} \\rangle$ é\n",
    "\n",
    "$\\sum^{k-2}_{i=0} c(n_i, n_{i+1})$.\n",
    "\n",
    "Um passeio de origem $s$ e destino $t$ tem **custo mínimo** se não existe outro passeio de origem $s$ e destino $t$ de custo menor. Note que podem existir múltiplos passeios de custo mínimo.\n",
    "\n",
    "A **distância ponderada** de $s$ a $t$ é o custo mínimo de um passeio de origem $s$ e destino $t$. Por completude, dizemos que a distância ponderada de $s$ a $t$ é $\\infty$ se não existe passeio de origem $s$ e destino $t$.\n",
    "\n",
    "## Algoritmo de Bellman-Ford\n",
    "\n",
    "Dado um nó $s$, podemos eficientemente calcular as distâncias ponderadas desse a todos os outros nós do grafo usando o **algoritmo de Bellman-Ford**. A ideia desse algoritmo é diferente da ideia do algoritmo de busca em largura, mas também é simples: inicializamos a distância de $s$ como $0$, inicializamos a distância dos outros nós como $\\infty$ e verificamos todas as arestas. Para cada aresta $(n, m)$, se a distância de $m$ for maior que a distância de $n$ mais o custo de $(n, m)$, essa soma passa a ser a nova distância de $m$.\n",
    "\n",
    "É possível demonstrar matematicamente esse laço precisa ser repetido não mais que $|N|-1$ vezes, onde $|N|$ é a quantidade de nós."
   ]
  },
  {
   "cell_type": "code",
   "execution_count": null,
   "metadata": {
    "collapsed": true
   },
   "outputs": [],
   "source": [
    "from math import inf, isinf\n",
    "\n",
    "s = 0\n",
    "\n",
    "for n in g.nodes():\n",
    "    g.node[n]['d'] = inf\n",
    "\n",
    "g.node[s]['d'] = 0\n",
    "\n",
    "for i in range(g.number_of_nodes() - 1):\n",
    "    for n, m in g.edges():\n",
    "        d = g.node[n]['d'] + g.edge[n][m]['c']\n",
    "\n",
    "        if g.node[m]['d'] > d:\n",
    "            g.node[m]['d'] = d\n",
    "\n",
    "for n in g.nodes():\n",
    "    print('distância de {}: {}'.format(n, g.node[n]['d']))"
   ]
  },
  {
   "cell_type": "markdown",
   "metadata": {},
   "source": [
    "No entanto, essa demonstração depende de certas hipóteses em relação ao grafo. Tenho uma má e uma boa notícia:\n",
    "\n",
    "* a má é que existem grafos em que o algoritmo não funciona, ou seja, devolve uma resposta incorreta;\n",
    "* a boa é que, nos grafos em que ele funciona, os passeios de custo mínimo são caminhos de custo mínimo.\n",
    "\n",
    "### Exercício 1\n",
    "\n",
    "Que grafos são esses?"
   ]
  },
  {
   "cell_type": "markdown",
   "metadata": {},
   "source": [
    "*(sua resposta)*"
   ]
  },
  {
   "cell_type": "markdown",
   "metadata": {},
   "source": [
    "### Exercício 2\n",
    "\n",
    "Monte uma visualização do algoritmo de Bellman-Ford."
   ]
  },
  {
   "cell_type": "code",
   "execution_count": null,
   "metadata": {
    "collapsed": true
   },
   "outputs": [],
   "source": [
    "def snapshot(g, frames):\n",
    "    for n in g.nodes():\n",
    "        if isinf(g.node[n]['d']):\n",
    "            g.node[n]['label'] = '∞'\n",
    "        else:\n",
    "            g.node[n]['label'] = str(g.node[n]['d'])\n",
    "\n",
    "    frame = sn.generate_frame(g, nlab=True)\n",
    "\n",
    "    frames.append(frame)\n",
    "\n",
    "\n",
    "red = (255, 0, 0)\n",
    "frames = []\n",
    "\n",
    "s = 0\n",
    "\n",
    "for n in g.nodes():\n",
    "    g.node[n]['d'] = inf\n",
    "\n",
    "g.node[s]['d'] = 0\n",
    "\n",
    "sn.reset_edge_colors(g)\n",
    "snapshot(g, frames)\n",
    "\n",
    "for i in range(g.number_of_nodes() - 1):\n",
    "    for n, m in g.edges():\n",
    "        g.edge[n][m]['color'] = red\n",
    "        snapshot(g, frames)\n",
    "\n",
    "        d = g.node[n]['d'] + g.edge[n][m]['c']\n",
    "\n",
    "        if g.node[m]['d'] > d:\n",
    "            g.node[m]['d'] = d\n",
    "\n",
    "        g.edge[n][m]['color'] = sn.edge_color\n",
    "        snapshot(g, frames)\n",
    "\n",
    "sn.show_animation(frames)"
   ]
  }
 ],
 "metadata": {
  "kernelspec": {
   "display_name": "Python 3",
   "language": "python",
   "name": "python3"
  },
  "language_info": {
   "codemirror_mode": {
    "name": "ipython",
    "version": 3
   },
   "file_extension": ".py",
   "mimetype": "text/x-python",
   "name": "python",
   "nbconvert_exporter": "python",
   "pygments_lexer": "ipython3",
   "version": "3.6.5"
  }
 },
 "nbformat": 4,
 "nbformat_minor": 1
}
