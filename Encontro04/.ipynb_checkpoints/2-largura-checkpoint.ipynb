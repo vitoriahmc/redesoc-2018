{
 "cells": [
  {
   "cell_type": "markdown",
   "metadata": {},
   "source": [
    "# Revisão de Busca em Largura\n",
    "\n",
    "Este guia foi escrito para ajudar você a atingir os seguintes objetivos:\n",
    "\n",
    "* implementar o algoritmo de busca em largura;\n",
    "* usar funcionalidades avançadas da biblioteca da disciplina.\n",
    "\n",
    "Primeiramente, vamos importar a biblioteca:"
   ]
  },
  {
   "cell_type": "code",
   "execution_count": 1,
   "metadata": {},
   "outputs": [
    {
     "data": {
      "text/html": [
       "<script>requirejs.config({paths: { 'plotly': ['https://cdn.plot.ly/plotly-latest.min']},});if(!window.Plotly) {{require(['plotly'],function(plotly) {window.Plotly=plotly;});}}</script>"
      ],
      "text/vnd.plotly.v1+html": [
       "<script>requirejs.config({paths: { 'plotly': ['https://cdn.plot.ly/plotly-latest.min']},});if(!window.Plotly) {{require(['plotly'],function(plotly) {window.Plotly=plotly;});}}</script>"
      ]
     },
     "metadata": {},
     "output_type": "display_data"
    }
   ],
   "source": [
    "import sys\n",
    "sys.path.append('..')\n",
    "\n",
    "import socnet as sn"
   ]
  },
  {
   "cell_type": "markdown",
   "metadata": {},
   "source": [
    "A seguir, vamos configurar as propriedades visuais:"
   ]
  },
  {
   "cell_type": "code",
   "execution_count": 2,
   "metadata": {
    "collapsed": true
   },
   "outputs": [],
   "source": [
    "sn.graph_width = 320\n",
    "sn.graph_height = 180"
   ]
  },
  {
   "cell_type": "markdown",
   "metadata": {},
   "source": [
    "Por fim, vamos carregar e visualizar um grafo:"
   ]
  },
  {
   "cell_type": "code",
   "execution_count": 3,
   "metadata": {},
   "outputs": [
    {
     "data": {
      "application/vnd.plotly.v1+json": {
       "data": [
        {
         "hoverinfo": "none",
         "line": {
          "color": "rgb(0, 0, 0)",
          "width": 2
         },
         "mode": "lines",
         "x": [
          0,
          0.3,
          null,
          0,
          0,
          null,
          0.3,
          0.3,
          null,
          0.7,
          1,
          null,
          0.7,
          0.3,
          null,
          0.7,
          0.7,
          null,
          1,
          0.7,
          null,
          1,
          1,
          null,
          0.3,
          0.7,
          null,
          0.7,
          1,
          null
         ],
         "y": [
          1,
          1,
          null,
          1,
          0,
          null,
          1,
          0,
          null,
          1,
          1,
          null,
          1,
          0,
          null,
          1,
          0,
          null,
          1,
          0,
          null,
          1,
          0,
          null,
          0,
          0,
          null,
          0,
          0,
          null
         ]
        },
        {
         "hoverinfo": "none",
         "marker": {
          "color": "rgb(255, 255, 255)",
          "line": {
           "color": "rgb(0, 0, 0)",
           "width": 2
          },
          "size": 20
         },
         "mode": "markers+text",
         "text": [],
         "textfont": {
          "color": "rgb(0, 0, 0)"
         },
         "textposition": "middle center",
         "x": [
          0,
          0.3,
          0.7,
          1,
          0,
          0.3,
          0.7,
          1
         ],
         "y": [
          1,
          1,
          1,
          1,
          0,
          0,
          0,
          0
         ]
        }
       ],
       "layout": {
        "height": 180,
        "margin": {
         "b": 0,
         "l": 0,
         "r": 0,
         "t": 0
        },
        "showlegend": false,
        "width": 320,
        "xaxis": {
         "showgrid": false,
         "showticklabels": false,
         "zeroline": false
        },
        "yaxis": {
         "showgrid": false,
         "showticklabels": false,
         "zeroline": false
        }
       }
      },
      "text/html": [
       "<div id=\"4d87c42c-53f1-4e94-a1cb-cff39e34fc5e\" style=\"height: 180px; width: 320px;\" class=\"plotly-graph-div\"></div><script type=\"text/javascript\">require([\"plotly\"], function(Plotly) { window.PLOTLYENV=window.PLOTLYENV || {};window.PLOTLYENV.BASE_URL=\"https://plot.ly\";Plotly.newPlot(\"4d87c42c-53f1-4e94-a1cb-cff39e34fc5e\", [{\"x\": [0.0, 0.3, null, 0.0, 0.0, null, 0.3, 0.3, null, 0.7, 1.0, null, 0.7, 0.3, null, 0.7, 0.7, null, 1.0, 0.7, null, 1.0, 1.0, null, 0.3, 0.7, null, 0.7, 1.0, null], \"line\": {\"width\": 2, \"color\": \"rgb(0, 0, 0)\"}, \"hoverinfo\": \"none\", \"y\": [1.0, 1.0, null, 1.0, 0.0, null, 1.0, 0.0, null, 1.0, 1.0, null, 1.0, 0.0, null, 1.0, 0.0, null, 1.0, 0.0, null, 1.0, 0.0, null, 0.0, 0.0, null, 0.0, 0.0, null], \"mode\": \"lines\"}, {\"marker\": {\"line\": {\"width\": 2, \"color\": \"rgb(0, 0, 0)\"}, \"color\": \"rgb(255, 255, 255)\", \"size\": 20}, \"text\": [], \"x\": [0.0, 0.3, 0.7, 1.0, 0.0, 0.3, 0.7, 1.0], \"y\": [1.0, 1.0, 1.0, 1.0, 0.0, 0.0, 0.0, 0.0], \"textfont\": {\"color\": \"rgb(0, 0, 0)\"}, \"textposition\": \"middle center\", \"hoverinfo\": \"none\", \"mode\": \"markers+text\"}], {\"height\": 180, \"width\": 320, \"yaxis\": {\"showgrid\": false, \"showticklabels\": false, \"zeroline\": false}, \"xaxis\": {\"showgrid\": false, \"showticklabels\": false, \"zeroline\": false}, \"margin\": {\"l\": 0, \"r\": 0, \"t\": 0, \"b\": 0}, \"showlegend\": false}, {\"linkText\": \"Export to plot.ly\", \"displayModeBar\": false, \"showLink\": false})});</script>"
      ],
      "text/vnd.plotly.v1+html": [
       "<div id=\"4d87c42c-53f1-4e94-a1cb-cff39e34fc5e\" style=\"height: 180px; width: 320px;\" class=\"plotly-graph-div\"></div><script type=\"text/javascript\">require([\"plotly\"], function(Plotly) { window.PLOTLYENV=window.PLOTLYENV || {};window.PLOTLYENV.BASE_URL=\"https://plot.ly\";Plotly.newPlot(\"4d87c42c-53f1-4e94-a1cb-cff39e34fc5e\", [{\"x\": [0.0, 0.3, null, 0.0, 0.0, null, 0.3, 0.3, null, 0.7, 1.0, null, 0.7, 0.3, null, 0.7, 0.7, null, 1.0, 0.7, null, 1.0, 1.0, null, 0.3, 0.7, null, 0.7, 1.0, null], \"line\": {\"width\": 2, \"color\": \"rgb(0, 0, 0)\"}, \"hoverinfo\": \"none\", \"y\": [1.0, 1.0, null, 1.0, 0.0, null, 1.0, 0.0, null, 1.0, 1.0, null, 1.0, 0.0, null, 1.0, 0.0, null, 1.0, 0.0, null, 1.0, 0.0, null, 0.0, 0.0, null, 0.0, 0.0, null], \"mode\": \"lines\"}, {\"marker\": {\"line\": {\"width\": 2, \"color\": \"rgb(0, 0, 0)\"}, \"color\": \"rgb(255, 255, 255)\", \"size\": 20}, \"text\": [], \"x\": [0.0, 0.3, 0.7, 1.0, 0.0, 0.3, 0.7, 1.0], \"y\": [1.0, 1.0, 1.0, 1.0, 0.0, 0.0, 0.0, 0.0], \"textfont\": {\"color\": \"rgb(0, 0, 0)\"}, \"textposition\": \"middle center\", \"hoverinfo\": \"none\", \"mode\": \"markers+text\"}], {\"height\": 180, \"width\": 320, \"yaxis\": {\"showgrid\": false, \"showticklabels\": false, \"zeroline\": false}, \"xaxis\": {\"showgrid\": false, \"showticklabels\": false, \"zeroline\": false}, \"margin\": {\"l\": 0, \"r\": 0, \"t\": 0, \"b\": 0}, \"showlegend\": false}, {\"linkText\": \"Export to plot.ly\", \"displayModeBar\": false, \"showLink\": false})});</script>"
      ]
     },
     "metadata": {},
     "output_type": "display_data"
    }
   ],
   "source": [
    "g = sn.load_graph('2-largura.gml', has_pos=True)\n",
    "\n",
    "sn.show_graph(g)"
   ]
  },
  {
   "cell_type": "markdown",
   "metadata": {},
   "source": [
    "## Caminhos de comprimento mínimo\n",
    "\n",
    "Seja $\\langle n_0, n_1, \\ldots, n_{k-1} \\rangle$ um caminho. Dizemos que:\n",
    "* $n_0$ é a **origem** desse caminho, ou seja, o nó no qual ele *começa*;\n",
    "* $n_{k-1}$ é o **destino** desse caminho, ou seja, o nó no qual ele *termina*;\n",
    "* $k-1$ é o **comprimento** desse caminho, ou seja, a *quantidade de arestas* pelas quais ele passa.\n",
    "\n",
    "Um caminho de origem $s$ e destino $t$ tem **comprimento mínimo** se não existe outro caminho de origem $s$ e destino $t$ de comprimento menor. Note que podem existir múltiplos caminhos de comprimento mínimo.\n",
    "\n",
    "A **distância** de $s$ a $t$ é o comprimento mínimo de um caminho de origem $s$ e destino $t$. Por completude, dizemos que a distância de $s$ a $t$ é $\\infty$ se não existe caminho de origem $s$ e destino $t$.\n",
    "\n",
    "## Algoritmo de busca em largura\n",
    "\n",
    "Dado um nó $s$, podemos eficientemente calcular as distâncias desse a todos os outros nós do grafo usando o **algoritmo de busca em largura**. A ideia desse algoritmo é simples: a partir dos nós de distância $0$, ou seja apenas o próprio $s$, podemos descobrir os nós de distância $1$, a partir dos nós de distância $1$ podemos descobrir os nós de distância $2$, e assim em diante.\n",
    "\n",
    "Podemos usar uma *fila* para garantir que os nós são visitados nessa ordem."
   ]
  },
  {
   "cell_type": "code",
   "execution_count": null,
   "metadata": {
    "collapsed": true
   },
   "outputs": [],
   "source": [
    "from math import inf, isinf\n",
    "from queue import Queue\n",
    "\n",
    "s = 1\n",
    "q = Queue()\n",
    "\n",
    "for n in g.nodes:\n",
    "    g.nodes[n]['d'] = inf\n",
    "\n",
    "g.nodes[s]['d'] = 0\n",
    "q.put(s)\n",
    "\n",
    "while not q.empty():\n",
    "    n = q.get()\n",
    "\n",
    "    for m in g.neighbors(n):\n",
    "        if isinf(g.nodes[m]['d']):\n",
    "            g.nodes[m]['d'] = g.nodes[n]['d'] + 1\n",
    "            q.put(m)\n",
    "\n",
    "for n in g.nodes:\n",
    "    print('distância de {}: {}'.format(n, g.nodes[n]['d']))"
   ]
  },
  {
   "cell_type": "markdown",
   "metadata": {},
   "source": [
    "## Visualizando algoritmos\n",
    "\n",
    "A função `generate_frame` é parecida com a função `show_graph` mas, em vez de mostrar uma imagem imediatamente, gera um *quadro* que pode ser usado para montar uma *animação*.\n",
    "\n",
    "Vamos então definir uma função de conveniência que cria atributos `label` a partir de distâncias e adiciona um quadro a uma lista."
   ]
  },
  {
   "cell_type": "code",
   "execution_count": null,
   "metadata": {
    "collapsed": true
   },
   "outputs": [],
   "source": [
    "def snapshot(g, frames):\n",
    "    for n in g.nodes:\n",
    "        if isinf(g.nodes[n]['d']):\n",
    "            g.nodes[n]['label'] = '∞'\n",
    "        else:\n",
    "            g.nodes[n]['label'] = str(g.nodes[n]['d'])\n",
    "\n",
    "    frame = sn.generate_frame(g, nlab=True)\n",
    "\n",
    "    frames.append(frame)"
   ]
  },
  {
   "cell_type": "markdown",
   "metadata": {},
   "source": [
    "Vamos agora escrever uma versão alternativa da busca em largura."
   ]
  },
  {
   "cell_type": "code",
   "execution_count": null,
   "metadata": {
    "collapsed": true
   },
   "outputs": [],
   "source": [
    "red = (255, 0, 0)  # linha nova\n",
    "blue = (0, 0, 255) # linha nova\n",
    "frames = []        # linha nova\n",
    "\n",
    "s = 1\n",
    "q = Queue()\n",
    "\n",
    "for n in g.nodes:\n",
    "    g.nodes[n]['d'] = inf\n",
    "\n",
    "g.nodes[s]['d'] = 0\n",
    "q.put(s)\n",
    "\n",
    "sn.reset_node_colors(g) # linha nova\n",
    "sn.reset_edge_colors(g) # linha nova\n",
    "snapshot(g, frames)     # linha nova\n",
    "\n",
    "while not q.empty():\n",
    "    n = q.get()\n",
    "\n",
    "    g.nodes[n]['color'] = red # linha nova\n",
    "    snapshot(g, frames)      # linha nova\n",
    "\n",
    "    for m in g.neighbors(n):\n",
    "        g.edges[n, m]['color'] = red # linha nova\n",
    "        snapshot(g, frames)         # linha nova\n",
    "\n",
    "        if isinf(g.nodes[m]['d']):\n",
    "            g.nodes[m]['d'] = g.nodes[n]['d'] + 1\n",
    "            q.put(m)\n",
    "\n",
    "        g.edges[n, m]['color'] = sn.edge_color # linha nova\n",
    "        snapshot(g, frames)                   # linha nova\n",
    "\n",
    "    g.nodes[n]['color'] = blue # linha nova\n",
    "    snapshot(g, frames)       # linha nova\n",
    "\n",
    "sn.show_animation(frames)"
   ]
  },
  {
   "cell_type": "markdown",
   "metadata": {
    "collapsed": true
   },
   "source": [
    "Ao longo da disciplina, usaremos as seguintes regras de escalabilidade:\n",
    "\n",
    "* visualizações animadas para depurar algoritmos em grafos pequenos;\n",
    "* visualizações estáticas para verificar resultados em grafos médios;\n",
    "* terminal para processar grafos grandes;\n",
    "* Fabio Ayres para processar megagrafos. (se houver oportunidade)"
   ]
  }
 ],
 "metadata": {
  "kernelspec": {
   "display_name": "Python 3",
   "language": "python",
   "name": "python3"
  },
  "language_info": {
   "codemirror_mode": {
    "name": "ipython",
    "version": 3
   },
   "file_extension": ".py",
   "mimetype": "text/x-python",
   "name": "python",
   "nbconvert_exporter": "python",
   "pygments_lexer": "ipython3",
   "version": "3.5.4"
  }
 },
 "nbformat": 4,
 "nbformat_minor": 1
}
