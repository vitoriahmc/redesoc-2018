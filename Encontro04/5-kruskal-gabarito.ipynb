{
 "cells": [
  {
   "cell_type": "markdown",
   "metadata": {},
   "source": [
    "# Encontro 02, Parte 5: Algoritmo de Kruskal\n",
    "\n",
    "Este guia foi escrito para ajudar você a atingir os seguintes objetivos:\n",
    "\n",
    "* implementar o algoritmo de Kruskal;\n",
    "* praticar o uso da biblioteca da disciplina.\n",
    "\n",
    "Primeiramente, vamos importar a biblioteca:"
   ]
  },
  {
   "cell_type": "code",
   "execution_count": 1,
   "metadata": {},
   "outputs": [
    {
     "data": {
      "text/html": [
       "<script>requirejs.config({paths: { 'plotly': ['https://cdn.plot.ly/plotly-latest.min']},});if(!window.Plotly) {{require(['plotly'],function(plotly) {window.Plotly=plotly;});}}</script>"
      ],
      "text/vnd.plotly.v1+html": [
       "<script>requirejs.config({paths: { 'plotly': ['https://cdn.plot.ly/plotly-latest.min']},});if(!window.Plotly) {{require(['plotly'],function(plotly) {window.Plotly=plotly;});}}</script>"
      ]
     },
     "metadata": {},
     "output_type": "display_data"
    }
   ],
   "source": [
    "import sys\n",
    "sys.path.append('..')\n",
    "\n",
    "import socnet as sn"
   ]
  },
  {
   "cell_type": "markdown",
   "metadata": {},
   "source": [
    "A seguir, vamos configurar as propriedades visuais:"
   ]
  },
  {
   "cell_type": "code",
   "execution_count": 2,
   "metadata": {
    "collapsed": true
   },
   "outputs": [],
   "source": [
    "sn.graph_width = 320\n",
    "sn.graph_height = 180"
   ]
  },
  {
   "cell_type": "markdown",
   "metadata": {},
   "source": [
    "Por fim, vamos carregar e visualizar um grafo:"
   ]
  },
  {
   "cell_type": "code",
   "execution_count": 3,
   "metadata": {},
   "outputs": [
    {
     "data": {
      "application/vnd.plotly.v1+json": {
       "data": [
        {
         "hoverinfo": "none",
         "line": {
          "color": "rgb(0, 0, 0)",
          "width": 2
         },
         "mode": "lines",
         "x": [
          0,
          0.25,
          null,
          0,
          0.25,
          null,
          0.25,
          0.5,
          null,
          0.25,
          0.25,
          null,
          0.5,
          0.75,
          null,
          0.5,
          0.75,
          null,
          0.5,
          0.375,
          null,
          0.75,
          1,
          null,
          0.75,
          0.75,
          null,
          1,
          0.75,
          null,
          0.75,
          0.5,
          null,
          0.5,
          0.25,
          null,
          0.5,
          0.375,
          null,
          0.25,
          0.375,
          null
         ],
         "y": [
          0.5,
          1,
          null,
          0.5,
          0,
          null,
          1,
          1,
          null,
          1,
          0,
          null,
          1,
          1,
          null,
          1,
          0,
          null,
          1,
          0.5,
          null,
          1,
          0.5,
          null,
          1,
          0,
          null,
          0.5,
          0,
          null,
          0,
          0,
          null,
          0,
          0,
          null,
          0,
          0.5,
          null,
          0,
          0.5,
          null
         ]
        },
        {
         "hoverinfo": "none",
         "marker": {
          "color": "rgb(255, 255, 255)",
          "line": {
           "color": "rgb(0, 0, 0)",
           "width": 2
          },
          "size": 20
         },
         "mode": "markers+text",
         "text": [],
         "textfont": {
          "color": "rgb(0, 0, 0)"
         },
         "textposition": "middle center",
         "x": [
          0,
          0.25,
          0.5,
          0.75,
          1,
          0.75,
          0.5,
          0.25,
          0.375
         ],
         "y": [
          0.5,
          1,
          1,
          1,
          0.5,
          0,
          0,
          0,
          0.5
         ]
        },
        {
         "hoverinfo": "none",
         "mode": "text",
         "text": [
          4,
          8,
          8,
          11,
          7,
          4,
          2,
          9,
          14,
          10,
          2,
          1,
          6,
          7
         ],
         "textfont": {
          "color": "rgb(0, 0, 0)"
         },
         "textposition": "middle center",
         "x": [
          0.08835225700681207,
          0.16164774299318793,
          0.375,
          0.2878787878787879,
          0.625,
          0.6625594305323629,
          0.4750594305323629,
          0.911647742993188,
          0.7878787878787878,
          0.911647742993188,
          0.625,
          0.375,
          0.3999405694676371,
          0.2749405694676371
         ],
         "y": [
          0.768323871496594,
          0.268323871496594,
          1.0724637681159421,
          0.5,
          1.0724637681159421,
          0.5093898576330907,
          0.7406101423669093,
          0.768323871496594,
          0.5,
          0.23167612850340602,
          -0.07246376811594203,
          -0.07246376811594203,
          0.24061014236690928,
          0.2593898576330907
         ]
        }
       ],
       "layout": {
        "height": 180,
        "margin": {
         "b": 0,
         "l": 0,
         "r": 0,
         "t": 0
        },
        "showlegend": false,
        "width": 320,
        "xaxis": {
         "showgrid": false,
         "showticklabels": false,
         "zeroline": false
        },
        "yaxis": {
         "showgrid": false,
         "showticklabels": false,
         "zeroline": false
        }
       }
      },
      "text/html": [
       "<div id=\"23cd584e-edca-4061-815e-ad642cf3ec0d\" style=\"height: 180px; width: 320px;\" class=\"plotly-graph-div\"></div><script type=\"text/javascript\">require([\"plotly\"], function(Plotly) { window.PLOTLYENV=window.PLOTLYENV || {};window.PLOTLYENV.BASE_URL=\"https://plot.ly\";Plotly.newPlot(\"23cd584e-edca-4061-815e-ad642cf3ec0d\", [{\"x\": [0.0, 0.25, null, 0.0, 0.25, null, 0.25, 0.5, null, 0.25, 0.25, null, 0.5, 0.75, null, 0.5, 0.75, null, 0.5, 0.375, null, 0.75, 1.0, null, 0.75, 0.75, null, 1.0, 0.75, null, 0.75, 0.5, null, 0.5, 0.25, null, 0.5, 0.375, null, 0.25, 0.375, null], \"y\": [0.5, 1.0, null, 0.5, 0.0, null, 1.0, 1.0, null, 1.0, 0.0, null, 1.0, 1.0, null, 1.0, 0.0, null, 1.0, 0.5, null, 1.0, 0.5, null, 1.0, 0.0, null, 0.5, 0.0, null, 0.0, 0.0, null, 0.0, 0.0, null, 0.0, 0.5, null, 0.0, 0.5, null], \"hoverinfo\": \"none\", \"mode\": \"lines\", \"line\": {\"width\": 2, \"color\": \"rgb(0, 0, 0)\"}}, {\"x\": [0.0, 0.25, 0.5, 0.75, 1.0, 0.75, 0.5, 0.25, 0.375], \"y\": [0.5, 1.0, 1.0, 1.0, 0.5, 0.0, 0.0, 0.0, 0.5], \"text\": [], \"textposition\": \"middle center\", \"hoverinfo\": \"none\", \"mode\": \"markers+text\", \"marker\": {\"size\": 20, \"color\": \"rgb(255, 255, 255)\", \"line\": {\"width\": 2, \"color\": \"rgb(0, 0, 0)\"}}, \"textfont\": {\"color\": \"rgb(0, 0, 0)\"}}, {\"x\": [0.08835225700681207, 0.16164774299318793, 0.375, 0.2878787878787879, 0.625, 0.6625594305323629, 0.4750594305323629, 0.911647742993188, 0.7878787878787878, 0.911647742993188, 0.625, 0.375, 0.3999405694676371, 0.2749405694676371], \"y\": [0.768323871496594, 0.268323871496594, 1.0724637681159421, 0.5, 1.0724637681159421, 0.5093898576330907, 0.7406101423669093, 0.768323871496594, 0.5, 0.23167612850340602, -0.07246376811594203, -0.07246376811594203, 0.24061014236690928, 0.2593898576330907], \"text\": [4, 8, 8, 11, 7, 4, 2, 9, 14, 10, 2, 1, 6, 7], \"textposition\": \"middle center\", \"hoverinfo\": \"none\", \"mode\": \"text\", \"textfont\": {\"color\": \"rgb(0, 0, 0)\"}}], {\"showlegend\": false, \"width\": 320, \"height\": 180, \"margin\": {\"b\": 0, \"l\": 0, \"r\": 0, \"t\": 0}, \"xaxis\": {\"showgrid\": false, \"zeroline\": false, \"showticklabels\": false}, \"yaxis\": {\"showgrid\": false, \"zeroline\": false, \"showticklabels\": false}}, {\"showLink\": false, \"linkText\": \"Export to plot.ly\", \"displayModeBar\": false})});</script>"
      ],
      "text/vnd.plotly.v1+html": [
       "<div id=\"23cd584e-edca-4061-815e-ad642cf3ec0d\" style=\"height: 180px; width: 320px;\" class=\"plotly-graph-div\"></div><script type=\"text/javascript\">require([\"plotly\"], function(Plotly) { window.PLOTLYENV=window.PLOTLYENV || {};window.PLOTLYENV.BASE_URL=\"https://plot.ly\";Plotly.newPlot(\"23cd584e-edca-4061-815e-ad642cf3ec0d\", [{\"x\": [0.0, 0.25, null, 0.0, 0.25, null, 0.25, 0.5, null, 0.25, 0.25, null, 0.5, 0.75, null, 0.5, 0.75, null, 0.5, 0.375, null, 0.75, 1.0, null, 0.75, 0.75, null, 1.0, 0.75, null, 0.75, 0.5, null, 0.5, 0.25, null, 0.5, 0.375, null, 0.25, 0.375, null], \"y\": [0.5, 1.0, null, 0.5, 0.0, null, 1.0, 1.0, null, 1.0, 0.0, null, 1.0, 1.0, null, 1.0, 0.0, null, 1.0, 0.5, null, 1.0, 0.5, null, 1.0, 0.0, null, 0.5, 0.0, null, 0.0, 0.0, null, 0.0, 0.0, null, 0.0, 0.5, null, 0.0, 0.5, null], \"hoverinfo\": \"none\", \"mode\": \"lines\", \"line\": {\"width\": 2, \"color\": \"rgb(0, 0, 0)\"}}, {\"x\": [0.0, 0.25, 0.5, 0.75, 1.0, 0.75, 0.5, 0.25, 0.375], \"y\": [0.5, 1.0, 1.0, 1.0, 0.5, 0.0, 0.0, 0.0, 0.5], \"text\": [], \"textposition\": \"middle center\", \"hoverinfo\": \"none\", \"mode\": \"markers+text\", \"marker\": {\"size\": 20, \"color\": \"rgb(255, 255, 255)\", \"line\": {\"width\": 2, \"color\": \"rgb(0, 0, 0)\"}}, \"textfont\": {\"color\": \"rgb(0, 0, 0)\"}}, {\"x\": [0.08835225700681207, 0.16164774299318793, 0.375, 0.2878787878787879, 0.625, 0.6625594305323629, 0.4750594305323629, 0.911647742993188, 0.7878787878787878, 0.911647742993188, 0.625, 0.375, 0.3999405694676371, 0.2749405694676371], \"y\": [0.768323871496594, 0.268323871496594, 1.0724637681159421, 0.5, 1.0724637681159421, 0.5093898576330907, 0.7406101423669093, 0.768323871496594, 0.5, 0.23167612850340602, -0.07246376811594203, -0.07246376811594203, 0.24061014236690928, 0.2593898576330907], \"text\": [4, 8, 8, 11, 7, 4, 2, 9, 14, 10, 2, 1, 6, 7], \"textposition\": \"middle center\", \"hoverinfo\": \"none\", \"mode\": \"text\", \"textfont\": {\"color\": \"rgb(0, 0, 0)\"}}], {\"showlegend\": false, \"width\": 320, \"height\": 180, \"margin\": {\"b\": 0, \"l\": 0, \"r\": 0, \"t\": 0}, \"xaxis\": {\"showgrid\": false, \"zeroline\": false, \"showticklabels\": false}, \"yaxis\": {\"showgrid\": false, \"zeroline\": false, \"showticklabels\": false}}, {\"showLink\": false, \"linkText\": \"Export to plot.ly\", \"displayModeBar\": false})});</script>"
      ]
     },
     "metadata": {},
     "output_type": "display_data"
    }
   ],
   "source": [
    "g = sn.load_graph('5-kruskal.gml', has_pos=True)\n",
    "\n",
    "for e in g.edges_iter():\n",
    "    g.edge[e[0]][e[1]]['label'] = g.edge[e[0]][e[1]]['c']\n",
    "\n",
    "sn.show_graph(g, elab=True)"
   ]
  },
  {
   "cell_type": "markdown",
   "metadata": {},
   "source": [
    "## Árvores geradoras mínimas\n",
    "\n",
    "Dizemos que:\n",
    "* um passeio $\\langle n_0, n_1, \\ldots, n_{k-1} \\rangle$ é um **circuito** se $\\langle n_0, n_1, \\ldots, n_{k-2} \\rangle$ é um caminho e $n_0 = n_{k-1}$;\n",
    "* um conjunto de arestas $F$ é uma **floresta** se não existem circuitos no grafo $(N, F)$;\n",
    "* um grafo é **conexo** se para quaisquer nós $s$ e $t$ existe um caminho de $s$ a $t$;\n",
    "* uma floresta $T$ é uma **árvore geradora** se o grafo $(N, T)$ é conexo.\n",
    "\n",
    "O **custo** de uma árvore geradora $T$ é\n",
    "\n",
    "$\\sum_{\\{n, m\\} \\in T} c(n, m)$.\n",
    "\n",
    "Uma árvore geradora é **mínima** se não existe outra árvore geradora de custo menor. Note que podem existir múltiplas árvores geradoras mínimas.\n",
    "\n",
    "## Algoritmo de Kruskal\n",
    "\n",
    "Podemos eficientemente obter uma árvore geradora mínima usando o **algoritmo de Kruskal**. A ideia desse algoritmo é simples: inicializamos uma floresta $F$ como o conjunto vazio e verificamos todas as arestas em ordem não-decrescente de custo. Para cada aresta, adicionamos ela a $F$ se essa adição não formar circuito no grafo $(N, F)$.\n",
    "\n",
    "Vamos especificar uma classe que representa a floresta. Não é necessário entender todos os detalhes dela, apenas que o atributo `f` é o conjunto das arestas e os dois últimos métodos são auto-explicativos."
   ]
  },
  {
   "cell_type": "code",
   "execution_count": 4,
   "metadata": {
    "collapsed": true
   },
   "outputs": [],
   "source": [
    "class Forest(object):\n",
    "    def __init__(self, g):\n",
    "        self.g = g\n",
    "        self.f = set()\n",
    "        for n in g.nodes():\n",
    "            self._make_set(n)\n",
    "\n",
    "    def _make_set(self, x):\n",
    "        g.node[x]['p'] = x\n",
    "        g.node[x]['rank'] = 0\n",
    "\n",
    "    def _union(self, x, y):\n",
    "        self._link(self._find_set(x), self._find_set(y))\n",
    "\n",
    "    def _link(self, x, y):\n",
    "        if g.node[x]['rank'] > g.node[y]['rank']:\n",
    "            g.node[y]['p'] = x\n",
    "        else:\n",
    "            g.node[x]['p'] = y\n",
    "            if g.node[x]['rank'] == g.node[y]['rank']:\n",
    "                g.node[y]['rank'] = g.node[y]['rank'] + 1\n",
    "\n",
    "    def _find_set(self, x):\n",
    "        if x != g.node[x]['p']:\n",
    "            g.node[x]['p'] = self._find_set(g.node[x]['p'])\n",
    "        return g.node[x]['p']\n",
    "\n",
    "    def adding_does_not_form_circuit(self, n, m):\n",
    "        return self._find_set(n) != self._find_set(m)\n",
    "\n",
    "    def add(self, n, m):\n",
    "        self.f.add((n, m))\n",
    "        self._union(n, m)"
   ]
  },
  {
   "cell_type": "markdown",
   "metadata": {},
   "source": [
    "### Exercício\n",
    "\n",
    "Monte uma visualização do algoritmo de Kruskal. Use a classe `Forest`."
   ]
  },
  {
   "cell_type": "code",
   "execution_count": 5,
   "metadata": {},
   "outputs": [
    {
     "data": {
      "application/vnd.plotly.v1+json": {
       "data": [
        {
         "hoverinfo": "none",
         "line": {
          "color": "rgb(0, 0, 0)",
          "width": 2
         },
         "mode": "lines",
         "x": [
          0,
          0.25,
          null
         ],
         "y": [
          0.5,
          1,
          null
         ]
        },
        {
         "hoverinfo": "none",
         "line": {
          "color": "rgb(0, 0, 0)",
          "width": 2
         },
         "mode": "lines",
         "x": [
          0,
          0.25,
          null
         ],
         "y": [
          0.5,
          0,
          null
         ]
        },
        {
         "hoverinfo": "none",
         "line": {
          "color": "rgb(0, 0, 0)",
          "width": 2
         },
         "mode": "lines",
         "x": [
          0.25,
          0.5,
          null
         ],
         "y": [
          1,
          1,
          null
         ]
        },
        {
         "hoverinfo": "none",
         "line": {
          "color": "rgb(0, 0, 0)",
          "width": 2
         },
         "mode": "lines",
         "x": [
          0.25,
          0.25,
          null
         ],
         "y": [
          1,
          0,
          null
         ]
        },
        {
         "hoverinfo": "none",
         "line": {
          "color": "rgb(0, 0, 0)",
          "width": 2
         },
         "mode": "lines",
         "x": [
          0.5,
          0.75,
          null
         ],
         "y": [
          1,
          1,
          null
         ]
        },
        {
         "hoverinfo": "none",
         "line": {
          "color": "rgb(0, 0, 0)",
          "width": 2
         },
         "mode": "lines",
         "x": [
          0.5,
          0.75,
          null
         ],
         "y": [
          1,
          0,
          null
         ]
        },
        {
         "hoverinfo": "none",
         "line": {
          "color": "rgb(0, 0, 0)",
          "width": 2
         },
         "mode": "lines",
         "x": [
          0.5,
          0.375,
          null
         ],
         "y": [
          1,
          0.5,
          null
         ]
        },
        {
         "hoverinfo": "none",
         "line": {
          "color": "rgb(0, 0, 0)",
          "width": 2
         },
         "mode": "lines",
         "x": [
          0.75,
          1,
          null
         ],
         "y": [
          1,
          0.5,
          null
         ]
        },
        {
         "hoverinfo": "none",
         "line": {
          "color": "rgb(0, 0, 0)",
          "width": 2
         },
         "mode": "lines",
         "x": [
          0.75,
          0.75,
          null
         ],
         "y": [
          1,
          0,
          null
         ]
        },
        {
         "hoverinfo": "none",
         "line": {
          "color": "rgb(0, 0, 0)",
          "width": 2
         },
         "mode": "lines",
         "x": [
          1,
          0.75,
          null
         ],
         "y": [
          0.5,
          0,
          null
         ]
        },
        {
         "hoverinfo": "none",
         "line": {
          "color": "rgb(0, 0, 0)",
          "width": 2
         },
         "mode": "lines",
         "x": [
          0.75,
          0.5,
          null
         ],
         "y": [
          0,
          0,
          null
         ]
        },
        {
         "hoverinfo": "none",
         "line": {
          "color": "rgb(0, 0, 0)",
          "width": 2
         },
         "mode": "lines",
         "x": [
          0.5,
          0.25,
          null
         ],
         "y": [
          0,
          0,
          null
         ]
        },
        {
         "hoverinfo": "none",
         "line": {
          "color": "rgb(0, 0, 0)",
          "width": 2
         },
         "mode": "lines",
         "x": [
          0.5,
          0.375,
          null
         ],
         "y": [
          0,
          0.5,
          null
         ]
        },
        {
         "hoverinfo": "none",
         "line": {
          "color": "rgb(0, 0, 0)",
          "width": 2
         },
         "mode": "lines",
         "x": [
          0.25,
          0.375,
          null
         ],
         "y": [
          0,
          0.5,
          null
         ]
        },
        {
         "hoverinfo": "none",
         "marker": {
          "color": "rgb(255, 255, 255)",
          "line": {
           "color": "rgb(0, 0, 0)",
           "width": 2
          },
          "size": 20
         },
         "mode": "markers+text",
         "text": [],
         "textfont": {
          "color": "rgb(0, 0, 0)"
         },
         "textposition": "middle center",
         "x": [
          0
         ],
         "y": [
          0.5
         ]
        },
        {
         "hoverinfo": "none",
         "marker": {
          "color": "rgb(255, 255, 255)",
          "line": {
           "color": "rgb(0, 0, 0)",
           "width": 2
          },
          "size": 20
         },
         "mode": "markers+text",
         "text": [],
         "textfont": {
          "color": "rgb(0, 0, 0)"
         },
         "textposition": "middle center",
         "x": [
          0.25
         ],
         "y": [
          1
         ]
        },
        {
         "hoverinfo": "none",
         "marker": {
          "color": "rgb(255, 255, 255)",
          "line": {
           "color": "rgb(0, 0, 0)",
           "width": 2
          },
          "size": 20
         },
         "mode": "markers+text",
         "text": [],
         "textfont": {
          "color": "rgb(0, 0, 0)"
         },
         "textposition": "middle center",
         "x": [
          0.5
         ],
         "y": [
          1
         ]
        },
        {
         "hoverinfo": "none",
         "marker": {
          "color": "rgb(255, 255, 255)",
          "line": {
           "color": "rgb(0, 0, 0)",
           "width": 2
          },
          "size": 20
         },
         "mode": "markers+text",
         "text": [],
         "textfont": {
          "color": "rgb(0, 0, 0)"
         },
         "textposition": "middle center",
         "x": [
          0.75
         ],
         "y": [
          1
         ]
        },
        {
         "hoverinfo": "none",
         "marker": {
          "color": "rgb(255, 255, 255)",
          "line": {
           "color": "rgb(0, 0, 0)",
           "width": 2
          },
          "size": 20
         },
         "mode": "markers+text",
         "text": [],
         "textfont": {
          "color": "rgb(0, 0, 0)"
         },
         "textposition": "middle center",
         "x": [
          1
         ],
         "y": [
          0.5
         ]
        },
        {
         "hoverinfo": "none",
         "marker": {
          "color": "rgb(255, 255, 255)",
          "line": {
           "color": "rgb(0, 0, 0)",
           "width": 2
          },
          "size": 20
         },
         "mode": "markers+text",
         "text": [],
         "textfont": {
          "color": "rgb(0, 0, 0)"
         },
         "textposition": "middle center",
         "x": [
          0.75
         ],
         "y": [
          0
         ]
        },
        {
         "hoverinfo": "none",
         "marker": {
          "color": "rgb(255, 255, 255)",
          "line": {
           "color": "rgb(0, 0, 0)",
           "width": 2
          },
          "size": 20
         },
         "mode": "markers+text",
         "text": [],
         "textfont": {
          "color": "rgb(0, 0, 0)"
         },
         "textposition": "middle center",
         "x": [
          0.5
         ],
         "y": [
          0
         ]
        },
        {
         "hoverinfo": "none",
         "marker": {
          "color": "rgb(255, 255, 255)",
          "line": {
           "color": "rgb(0, 0, 0)",
           "width": 2
          },
          "size": 20
         },
         "mode": "markers+text",
         "text": [],
         "textfont": {
          "color": "rgb(0, 0, 0)"
         },
         "textposition": "middle center",
         "x": [
          0.25
         ],
         "y": [
          0
         ]
        },
        {
         "hoverinfo": "none",
         "marker": {
          "color": "rgb(255, 255, 255)",
          "line": {
           "color": "rgb(0, 0, 0)",
           "width": 2
          },
          "size": 20
         },
         "mode": "markers+text",
         "text": [],
         "textfont": {
          "color": "rgb(0, 0, 0)"
         },
         "textposition": "middle center",
         "x": [
          0.375
         ],
         "y": [
          0.5
         ]
        },
        {
         "hoverinfo": "none",
         "mode": "text",
         "text": [
          4,
          8,
          8,
          11,
          7,
          4,
          2,
          9,
          14,
          10,
          2,
          1,
          6,
          7
         ],
         "textfont": {
          "color": "rgb(0, 0, 0)"
         },
         "textposition": "middle center",
         "x": [
          0.08835225700681207,
          0.16164774299318793,
          0.375,
          0.2878787878787879,
          0.625,
          0.6625594305323629,
          0.4750594305323629,
          0.911647742993188,
          0.7878787878787878,
          0.911647742993188,
          0.625,
          0.375,
          0.3999405694676371,
          0.2749405694676371
         ],
         "y": [
          0.768323871496594,
          0.268323871496594,
          1.0724637681159421,
          0.5,
          1.0724637681159421,
          0.5093898576330907,
          0.7406101423669093,
          0.768323871496594,
          0.5,
          0.23167612850340602,
          -0.07246376811594203,
          -0.07246376811594203,
          0.24061014236690928,
          0.2593898576330907
         ]
        }
       ],
       "frames": [
        {
         "data": [
          {
           "hoverinfo": "none",
           "line": {
            "color": "rgb(0, 0, 0)",
            "width": 2
           },
           "mode": "lines",
           "x": [
            0,
            0.25,
            null
           ],
           "y": [
            0.5,
            1,
            null
           ]
          },
          {
           "hoverinfo": "none",
           "line": {
            "color": "rgb(0, 0, 0)",
            "width": 2
           },
           "mode": "lines",
           "x": [
            0,
            0.25,
            null
           ],
           "y": [
            0.5,
            0,
            null
           ]
          },
          {
           "hoverinfo": "none",
           "line": {
            "color": "rgb(0, 0, 0)",
            "width": 2
           },
           "mode": "lines",
           "x": [
            0.25,
            0.5,
            null
           ],
           "y": [
            1,
            1,
            null
           ]
          },
          {
           "hoverinfo": "none",
           "line": {
            "color": "rgb(0, 0, 0)",
            "width": 2
           },
           "mode": "lines",
           "x": [
            0.25,
            0.25,
            null
           ],
           "y": [
            1,
            0,
            null
           ]
          },
          {
           "hoverinfo": "none",
           "line": {
            "color": "rgb(0, 0, 0)",
            "width": 2
           },
           "mode": "lines",
           "x": [
            0.5,
            0.75,
            null
           ],
           "y": [
            1,
            1,
            null
           ]
          },
          {
           "hoverinfo": "none",
           "line": {
            "color": "rgb(0, 0, 0)",
            "width": 2
           },
           "mode": "lines",
           "x": [
            0.5,
            0.75,
            null
           ],
           "y": [
            1,
            0,
            null
           ]
          },
          {
           "hoverinfo": "none",
           "line": {
            "color": "rgb(0, 0, 0)",
            "width": 2
           },
           "mode": "lines",
           "x": [
            0.5,
            0.375,
            null
           ],
           "y": [
            1,
            0.5,
            null
           ]
          },
          {
           "hoverinfo": "none",
           "line": {
            "color": "rgb(0, 0, 0)",
            "width": 2
           },
           "mode": "lines",
           "x": [
            0.75,
            1,
            null
           ],
           "y": [
            1,
            0.5,
            null
           ]
          },
          {
           "hoverinfo": "none",
           "line": {
            "color": "rgb(0, 0, 0)",
            "width": 2
           },
           "mode": "lines",
           "x": [
            0.75,
            0.75,
            null
           ],
           "y": [
            1,
            0,
            null
           ]
          },
          {
           "hoverinfo": "none",
           "line": {
            "color": "rgb(0, 0, 0)",
            "width": 2
           },
           "mode": "lines",
           "x": [
            1,
            0.75,
            null
           ],
           "y": [
            0.5,
            0,
            null
           ]
          },
          {
           "hoverinfo": "none",
           "line": {
            "color": "rgb(0, 0, 0)",
            "width": 2
           },
           "mode": "lines",
           "x": [
            0.75,
            0.5,
            null
           ],
           "y": [
            0,
            0,
            null
           ]
          },
          {
           "hoverinfo": "none",
           "line": {
            "color": "rgb(0, 0, 0)",
            "width": 2
           },
           "mode": "lines",
           "x": [
            0.5,
            0.25,
            null
           ],
           "y": [
            0,
            0,
            null
           ]
          },
          {
           "hoverinfo": "none",
           "line": {
            "color": "rgb(0, 0, 0)",
            "width": 2
           },
           "mode": "lines",
           "x": [
            0.5,
            0.375,
            null
           ],
           "y": [
            0,
            0.5,
            null
           ]
          },
          {
           "hoverinfo": "none",
           "line": {
            "color": "rgb(0, 0, 0)",
            "width": 2
           },
           "mode": "lines",
           "x": [
            0.25,
            0.375,
            null
           ],
           "y": [
            0,
            0.5,
            null
           ]
          },
          {
           "hoverinfo": "none",
           "marker": {
            "color": "rgb(255, 255, 255)",
            "line": {
             "color": "rgb(0, 0, 0)",
             "width": 2
            },
            "size": 20
           },
           "mode": "markers+text",
           "text": [],
           "textfont": {
            "color": "rgb(0, 0, 0)"
           },
           "textposition": "middle center",
           "x": [
            0
           ],
           "y": [
            0.5
           ]
          },
          {
           "hoverinfo": "none",
           "marker": {
            "color": "rgb(255, 255, 255)",
            "line": {
             "color": "rgb(0, 0, 0)",
             "width": 2
            },
            "size": 20
           },
           "mode": "markers+text",
           "text": [],
           "textfont": {
            "color": "rgb(0, 0, 0)"
           },
           "textposition": "middle center",
           "x": [
            0.25
           ],
           "y": [
            1
           ]
          },
          {
           "hoverinfo": "none",
           "marker": {
            "color": "rgb(255, 255, 255)",
            "line": {
             "color": "rgb(0, 0, 0)",
             "width": 2
            },
            "size": 20
           },
           "mode": "markers+text",
           "text": [],
           "textfont": {
            "color": "rgb(0, 0, 0)"
           },
           "textposition": "middle center",
           "x": [
            0.5
           ],
           "y": [
            1
           ]
          },
          {
           "hoverinfo": "none",
           "marker": {
            "color": "rgb(255, 255, 255)",
            "line": {
             "color": "rgb(0, 0, 0)",
             "width": 2
            },
            "size": 20
           },
           "mode": "markers+text",
           "text": [],
           "textfont": {
            "color": "rgb(0, 0, 0)"
           },
           "textposition": "middle center",
           "x": [
            0.75
           ],
           "y": [
            1
           ]
          },
          {
           "hoverinfo": "none",
           "marker": {
            "color": "rgb(255, 255, 255)",
            "line": {
             "color": "rgb(0, 0, 0)",
             "width": 2
            },
            "size": 20
           },
           "mode": "markers+text",
           "text": [],
           "textfont": {
            "color": "rgb(0, 0, 0)"
           },
           "textposition": "middle center",
           "x": [
            1
           ],
           "y": [
            0.5
           ]
          },
          {
           "hoverinfo": "none",
           "marker": {
            "color": "rgb(255, 255, 255)",
            "line": {
             "color": "rgb(0, 0, 0)",
             "width": 2
            },
            "size": 20
           },
           "mode": "markers+text",
           "text": [],
           "textfont": {
            "color": "rgb(0, 0, 0)"
           },
           "textposition": "middle center",
           "x": [
            0.75
           ],
           "y": [
            0
           ]
          },
          {
           "hoverinfo": "none",
           "marker": {
            "color": "rgb(255, 255, 255)",
            "line": {
             "color": "rgb(0, 0, 0)",
             "width": 2
            },
            "size": 20
           },
           "mode": "markers+text",
           "text": [],
           "textfont": {
            "color": "rgb(0, 0, 0)"
           },
           "textposition": "middle center",
           "x": [
            0.5
           ],
           "y": [
            0
           ]
          },
          {
           "hoverinfo": "none",
           "marker": {
            "color": "rgb(255, 255, 255)",
            "line": {
             "color": "rgb(0, 0, 0)",
             "width": 2
            },
            "size": 20
           },
           "mode": "markers+text",
           "text": [],
           "textfont": {
            "color": "rgb(0, 0, 0)"
           },
           "textposition": "middle center",
           "x": [
            0.25
           ],
           "y": [
            0
           ]
          },
          {
           "hoverinfo": "none",
           "marker": {
            "color": "rgb(255, 255, 255)",
            "line": {
             "color": "rgb(0, 0, 0)",
             "width": 2
            },
            "size": 20
           },
           "mode": "markers+text",
           "text": [],
           "textfont": {
            "color": "rgb(0, 0, 0)"
           },
           "textposition": "middle center",
           "x": [
            0.375
           ],
           "y": [
            0.5
           ]
          },
          {
           "hoverinfo": "none",
           "mode": "text",
           "text": [
            4,
            8,
            8,
            11,
            7,
            4,
            2,
            9,
            14,
            10,
            2,
            1,
            6,
            7
           ],
           "textfont": {
            "color": "rgb(0, 0, 0)"
           },
           "textposition": "middle center",
           "x": [
            0.08835225700681207,
            0.16164774299318793,
            0.375,
            0.2878787878787879,
            0.625,
            0.6625594305323629,
            0.4750594305323629,
            0.911647742993188,
            0.7878787878787878,
            0.911647742993188,
            0.625,
            0.375,
            0.3999405694676371,
            0.2749405694676371
           ],
           "y": [
            0.768323871496594,
            0.268323871496594,
            1.0724637681159421,
            0.5,
            1.0724637681159421,
            0.5093898576330907,
            0.7406101423669093,
            0.768323871496594,
            0.5,
            0.23167612850340602,
            -0.07246376811594203,
            -0.07246376811594203,
            0.24061014236690928,
            0.2593898576330907
           ]
          }
         ],
         "name": 0
        },
        {
         "data": [
          {
           "hoverinfo": "none",
           "line": {
            "color": "rgb(0, 0, 0)",
            "width": 2
           },
           "mode": "lines",
           "x": [
            0,
            0.25,
            null
           ],
           "y": [
            0.5,
            1,
            null
           ]
          },
          {
           "hoverinfo": "none",
           "line": {
            "color": "rgb(0, 0, 0)",
            "width": 2
           },
           "mode": "lines",
           "x": [
            0,
            0.25,
            null
           ],
           "y": [
            0.5,
            0,
            null
           ]
          },
          {
           "hoverinfo": "none",
           "line": {
            "color": "rgb(0, 0, 0)",
            "width": 2
           },
           "mode": "lines",
           "x": [
            0.25,
            0.5,
            null
           ],
           "y": [
            1,
            1,
            null
           ]
          },
          {
           "hoverinfo": "none",
           "line": {
            "color": "rgb(0, 0, 0)",
            "width": 2
           },
           "mode": "lines",
           "x": [
            0.25,
            0.25,
            null
           ],
           "y": [
            1,
            0,
            null
           ]
          },
          {
           "hoverinfo": "none",
           "line": {
            "color": "rgb(0, 0, 0)",
            "width": 2
           },
           "mode": "lines",
           "x": [
            0.5,
            0.75,
            null
           ],
           "y": [
            1,
            1,
            null
           ]
          },
          {
           "hoverinfo": "none",
           "line": {
            "color": "rgb(0, 0, 0)",
            "width": 2
           },
           "mode": "lines",
           "x": [
            0.5,
            0.75,
            null
           ],
           "y": [
            1,
            0,
            null
           ]
          },
          {
           "hoverinfo": "none",
           "line": {
            "color": "rgb(0, 0, 0)",
            "width": 2
           },
           "mode": "lines",
           "x": [
            0.5,
            0.375,
            null
           ],
           "y": [
            1,
            0.5,
            null
           ]
          },
          {
           "hoverinfo": "none",
           "line": {
            "color": "rgb(0, 0, 0)",
            "width": 2
           },
           "mode": "lines",
           "x": [
            0.75,
            1,
            null
           ],
           "y": [
            1,
            0.5,
            null
           ]
          },
          {
           "hoverinfo": "none",
           "line": {
            "color": "rgb(0, 0, 0)",
            "width": 2
           },
           "mode": "lines",
           "x": [
            0.75,
            0.75,
            null
           ],
           "y": [
            1,
            0,
            null
           ]
          },
          {
           "hoverinfo": "none",
           "line": {
            "color": "rgb(0, 0, 0)",
            "width": 2
           },
           "mode": "lines",
           "x": [
            1,
            0.75,
            null
           ],
           "y": [
            0.5,
            0,
            null
           ]
          },
          {
           "hoverinfo": "none",
           "line": {
            "color": "rgb(0, 0, 0)",
            "width": 2
           },
           "mode": "lines",
           "x": [
            0.75,
            0.5,
            null
           ],
           "y": [
            0,
            0,
            null
           ]
          },
          {
           "hoverinfo": "none",
           "line": {
            "color": "rgb(255, 0, 0)",
            "width": 2
           },
           "mode": "lines",
           "x": [
            0.5,
            0.25,
            null
           ],
           "y": [
            0,
            0,
            null
           ]
          },
          {
           "hoverinfo": "none",
           "line": {
            "color": "rgb(0, 0, 0)",
            "width": 2
           },
           "mode": "lines",
           "x": [
            0.5,
            0.375,
            null
           ],
           "y": [
            0,
            0.5,
            null
           ]
          },
          {
           "hoverinfo": "none",
           "line": {
            "color": "rgb(0, 0, 0)",
            "width": 2
           },
           "mode": "lines",
           "x": [
            0.25,
            0.375,
            null
           ],
           "y": [
            0,
            0.5,
            null
           ]
          },
          {
           "hoverinfo": "none",
           "marker": {
            "color": "rgb(255, 255, 255)",
            "line": {
             "color": "rgb(0, 0, 0)",
             "width": 2
            },
            "size": 20
           },
           "mode": "markers+text",
           "text": [],
           "textfont": {
            "color": "rgb(0, 0, 0)"
           },
           "textposition": "middle center",
           "x": [
            0
           ],
           "y": [
            0.5
           ]
          },
          {
           "hoverinfo": "none",
           "marker": {
            "color": "rgb(255, 255, 255)",
            "line": {
             "color": "rgb(0, 0, 0)",
             "width": 2
            },
            "size": 20
           },
           "mode": "markers+text",
           "text": [],
           "textfont": {
            "color": "rgb(0, 0, 0)"
           },
           "textposition": "middle center",
           "x": [
            0.25
           ],
           "y": [
            1
           ]
          },
          {
           "hoverinfo": "none",
           "marker": {
            "color": "rgb(255, 255, 255)",
            "line": {
             "color": "rgb(0, 0, 0)",
             "width": 2
            },
            "size": 20
           },
           "mode": "markers+text",
           "text": [],
           "textfont": {
            "color": "rgb(0, 0, 0)"
           },
           "textposition": "middle center",
           "x": [
            0.5
           ],
           "y": [
            1
           ]
          },
          {
           "hoverinfo": "none",
           "marker": {
            "color": "rgb(255, 255, 255)",
            "line": {
             "color": "rgb(0, 0, 0)",
             "width": 2
            },
            "size": 20
           },
           "mode": "markers+text",
           "text": [],
           "textfont": {
            "color": "rgb(0, 0, 0)"
           },
           "textposition": "middle center",
           "x": [
            0.75
           ],
           "y": [
            1
           ]
          },
          {
           "hoverinfo": "none",
           "marker": {
            "color": "rgb(255, 255, 255)",
            "line": {
             "color": "rgb(0, 0, 0)",
             "width": 2
            },
            "size": 20
           },
           "mode": "markers+text",
           "text": [],
           "textfont": {
            "color": "rgb(0, 0, 0)"
           },
           "textposition": "middle center",
           "x": [
            1
           ],
           "y": [
            0.5
           ]
          },
          {
           "hoverinfo": "none",
           "marker": {
            "color": "rgb(255, 255, 255)",
            "line": {
             "color": "rgb(0, 0, 0)",
             "width": 2
            },
            "size": 20
           },
           "mode": "markers+text",
           "text": [],
           "textfont": {
            "color": "rgb(0, 0, 0)"
           },
           "textposition": "middle center",
           "x": [
            0.75
           ],
           "y": [
            0
           ]
          },
          {
           "hoverinfo": "none",
           "marker": {
            "color": "rgb(255, 255, 255)",
            "line": {
             "color": "rgb(0, 0, 0)",
             "width": 2
            },
            "size": 20
           },
           "mode": "markers+text",
           "text": [],
           "textfont": {
            "color": "rgb(0, 0, 0)"
           },
           "textposition": "middle center",
           "x": [
            0.5
           ],
           "y": [
            0
           ]
          },
          {
           "hoverinfo": "none",
           "marker": {
            "color": "rgb(255, 255, 255)",
            "line": {
             "color": "rgb(0, 0, 0)",
             "width": 2
            },
            "size": 20
           },
           "mode": "markers+text",
           "text": [],
           "textfont": {
            "color": "rgb(0, 0, 0)"
           },
           "textposition": "middle center",
           "x": [
            0.25
           ],
           "y": [
            0
           ]
          },
          {
           "hoverinfo": "none",
           "marker": {
            "color": "rgb(255, 255, 255)",
            "line": {
             "color": "rgb(0, 0, 0)",
             "width": 2
            },
            "size": 20
           },
           "mode": "markers+text",
           "text": [],
           "textfont": {
            "color": "rgb(0, 0, 0)"
           },
           "textposition": "middle center",
           "x": [
            0.375
           ],
           "y": [
            0.5
           ]
          },
          {
           "hoverinfo": "none",
           "mode": "text",
           "text": [
            4,
            8,
            8,
            11,
            7,
            4,
            2,
            9,
            14,
            10,
            2,
            1,
            6,
            7
           ],
           "textfont": {
            "color": "rgb(0, 0, 0)"
           },
           "textposition": "middle center",
           "x": [
            0.08835225700681207,
            0.16164774299318793,
            0.375,
            0.2878787878787879,
            0.625,
            0.6625594305323629,
            0.4750594305323629,
            0.911647742993188,
            0.7878787878787878,
            0.911647742993188,
            0.625,
            0.375,
            0.3999405694676371,
            0.2749405694676371
           ],
           "y": [
            0.768323871496594,
            0.268323871496594,
            1.0724637681159421,
            0.5,
            1.0724637681159421,
            0.5093898576330907,
            0.7406101423669093,
            0.768323871496594,
            0.5,
            0.23167612850340602,
            -0.07246376811594203,
            -0.07246376811594203,
            0.24061014236690928,
            0.2593898576330907
           ]
          }
         ],
         "name": 1
        },
        {
         "data": [
          {
           "hoverinfo": "none",
           "line": {
            "color": "rgb(0, 0, 0)",
            "width": 2
           },
           "mode": "lines",
           "x": [
            0,
            0.25,
            null
           ],
           "y": [
            0.5,
            1,
            null
           ]
          },
          {
           "hoverinfo": "none",
           "line": {
            "color": "rgb(0, 0, 0)",
            "width": 2
           },
           "mode": "lines",
           "x": [
            0,
            0.25,
            null
           ],
           "y": [
            0.5,
            0,
            null
           ]
          },
          {
           "hoverinfo": "none",
           "line": {
            "color": "rgb(0, 0, 0)",
            "width": 2
           },
           "mode": "lines",
           "x": [
            0.25,
            0.5,
            null
           ],
           "y": [
            1,
            1,
            null
           ]
          },
          {
           "hoverinfo": "none",
           "line": {
            "color": "rgb(0, 0, 0)",
            "width": 2
           },
           "mode": "lines",
           "x": [
            0.25,
            0.25,
            null
           ],
           "y": [
            1,
            0,
            null
           ]
          },
          {
           "hoverinfo": "none",
           "line": {
            "color": "rgb(0, 0, 0)",
            "width": 2
           },
           "mode": "lines",
           "x": [
            0.5,
            0.75,
            null
           ],
           "y": [
            1,
            1,
            null
           ]
          },
          {
           "hoverinfo": "none",
           "line": {
            "color": "rgb(0, 0, 0)",
            "width": 2
           },
           "mode": "lines",
           "x": [
            0.5,
            0.75,
            null
           ],
           "y": [
            1,
            0,
            null
           ]
          },
          {
           "hoverinfo": "none",
           "line": {
            "color": "rgb(0, 0, 0)",
            "width": 2
           },
           "mode": "lines",
           "x": [
            0.5,
            0.375,
            null
           ],
           "y": [
            1,
            0.5,
            null
           ]
          },
          {
           "hoverinfo": "none",
           "line": {
            "color": "rgb(0, 0, 0)",
            "width": 2
           },
           "mode": "lines",
           "x": [
            0.75,
            1,
            null
           ],
           "y": [
            1,
            0.5,
            null
           ]
          },
          {
           "hoverinfo": "none",
           "line": {
            "color": "rgb(0, 0, 0)",
            "width": 2
           },
           "mode": "lines",
           "x": [
            0.75,
            0.75,
            null
           ],
           "y": [
            1,
            0,
            null
           ]
          },
          {
           "hoverinfo": "none",
           "line": {
            "color": "rgb(0, 0, 0)",
            "width": 2
           },
           "mode": "lines",
           "x": [
            1,
            0.75,
            null
           ],
           "y": [
            0.5,
            0,
            null
           ]
          },
          {
           "hoverinfo": "none",
           "line": {
            "color": "rgb(0, 0, 0)",
            "width": 2
           },
           "mode": "lines",
           "x": [
            0.75,
            0.5,
            null
           ],
           "y": [
            0,
            0,
            null
           ]
          },
          {
           "hoverinfo": "none",
           "line": {
            "color": "rgb(0, 0, 255)",
            "width": 2
           },
           "mode": "lines",
           "x": [
            0.5,
            0.25,
            null
           ],
           "y": [
            0,
            0,
            null
           ]
          },
          {
           "hoverinfo": "none",
           "line": {
            "color": "rgb(0, 0, 0)",
            "width": 2
           },
           "mode": "lines",
           "x": [
            0.5,
            0.375,
            null
           ],
           "y": [
            0,
            0.5,
            null
           ]
          },
          {
           "hoverinfo": "none",
           "line": {
            "color": "rgb(0, 0, 0)",
            "width": 2
           },
           "mode": "lines",
           "x": [
            0.25,
            0.375,
            null
           ],
           "y": [
            0,
            0.5,
            null
           ]
          },
          {
           "hoverinfo": "none",
           "marker": {
            "color": "rgb(255, 255, 255)",
            "line": {
             "color": "rgb(0, 0, 0)",
             "width": 2
            },
            "size": 20
           },
           "mode": "markers+text",
           "text": [],
           "textfont": {
            "color": "rgb(0, 0, 0)"
           },
           "textposition": "middle center",
           "x": [
            0
           ],
           "y": [
            0.5
           ]
          },
          {
           "hoverinfo": "none",
           "marker": {
            "color": "rgb(255, 255, 255)",
            "line": {
             "color": "rgb(0, 0, 0)",
             "width": 2
            },
            "size": 20
           },
           "mode": "markers+text",
           "text": [],
           "textfont": {
            "color": "rgb(0, 0, 0)"
           },
           "textposition": "middle center",
           "x": [
            0.25
           ],
           "y": [
            1
           ]
          },
          {
           "hoverinfo": "none",
           "marker": {
            "color": "rgb(255, 255, 255)",
            "line": {
             "color": "rgb(0, 0, 0)",
             "width": 2
            },
            "size": 20
           },
           "mode": "markers+text",
           "text": [],
           "textfont": {
            "color": "rgb(0, 0, 0)"
           },
           "textposition": "middle center",
           "x": [
            0.5
           ],
           "y": [
            1
           ]
          },
          {
           "hoverinfo": "none",
           "marker": {
            "color": "rgb(255, 255, 255)",
            "line": {
             "color": "rgb(0, 0, 0)",
             "width": 2
            },
            "size": 20
           },
           "mode": "markers+text",
           "text": [],
           "textfont": {
            "color": "rgb(0, 0, 0)"
           },
           "textposition": "middle center",
           "x": [
            0.75
           ],
           "y": [
            1
           ]
          },
          {
           "hoverinfo": "none",
           "marker": {
            "color": "rgb(255, 255, 255)",
            "line": {
             "color": "rgb(0, 0, 0)",
             "width": 2
            },
            "size": 20
           },
           "mode": "markers+text",
           "text": [],
           "textfont": {
            "color": "rgb(0, 0, 0)"
           },
           "textposition": "middle center",
           "x": [
            1
           ],
           "y": [
            0.5
           ]
          },
          {
           "hoverinfo": "none",
           "marker": {
            "color": "rgb(255, 255, 255)",
            "line": {
             "color": "rgb(0, 0, 0)",
             "width": 2
            },
            "size": 20
           },
           "mode": "markers+text",
           "text": [],
           "textfont": {
            "color": "rgb(0, 0, 0)"
           },
           "textposition": "middle center",
           "x": [
            0.75
           ],
           "y": [
            0
           ]
          },
          {
           "hoverinfo": "none",
           "marker": {
            "color": "rgb(255, 255, 255)",
            "line": {
             "color": "rgb(0, 0, 0)",
             "width": 2
            },
            "size": 20
           },
           "mode": "markers+text",
           "text": [],
           "textfont": {
            "color": "rgb(0, 0, 0)"
           },
           "textposition": "middle center",
           "x": [
            0.5
           ],
           "y": [
            0
           ]
          },
          {
           "hoverinfo": "none",
           "marker": {
            "color": "rgb(255, 255, 255)",
            "line": {
             "color": "rgb(0, 0, 0)",
             "width": 2
            },
            "size": 20
           },
           "mode": "markers+text",
           "text": [],
           "textfont": {
            "color": "rgb(0, 0, 0)"
           },
           "textposition": "middle center",
           "x": [
            0.25
           ],
           "y": [
            0
           ]
          },
          {
           "hoverinfo": "none",
           "marker": {
            "color": "rgb(255, 255, 255)",
            "line": {
             "color": "rgb(0, 0, 0)",
             "width": 2
            },
            "size": 20
           },
           "mode": "markers+text",
           "text": [],
           "textfont": {
            "color": "rgb(0, 0, 0)"
           },
           "textposition": "middle center",
           "x": [
            0.375
           ],
           "y": [
            0.5
           ]
          },
          {
           "hoverinfo": "none",
           "mode": "text",
           "text": [
            4,
            8,
            8,
            11,
            7,
            4,
            2,
            9,
            14,
            10,
            2,
            1,
            6,
            7
           ],
           "textfont": {
            "color": "rgb(0, 0, 0)"
           },
           "textposition": "middle center",
           "x": [
            0.08835225700681207,
            0.16164774299318793,
            0.375,
            0.2878787878787879,
            0.625,
            0.6625594305323629,
            0.4750594305323629,
            0.911647742993188,
            0.7878787878787878,
            0.911647742993188,
            0.625,
            0.375,
            0.3999405694676371,
            0.2749405694676371
           ],
           "y": [
            0.768323871496594,
            0.268323871496594,
            1.0724637681159421,
            0.5,
            1.0724637681159421,
            0.5093898576330907,
            0.7406101423669093,
            0.768323871496594,
            0.5,
            0.23167612850340602,
            -0.07246376811594203,
            -0.07246376811594203,
            0.24061014236690928,
            0.2593898576330907
           ]
          }
         ],
         "name": 2
        },
        {
         "data": [
          {
           "hoverinfo": "none",
           "line": {
            "color": "rgb(0, 0, 0)",
            "width": 2
           },
           "mode": "lines",
           "x": [
            0,
            0.25,
            null
           ],
           "y": [
            0.5,
            1,
            null
           ]
          },
          {
           "hoverinfo": "none",
           "line": {
            "color": "rgb(0, 0, 0)",
            "width": 2
           },
           "mode": "lines",
           "x": [
            0,
            0.25,
            null
           ],
           "y": [
            0.5,
            0,
            null
           ]
          },
          {
           "hoverinfo": "none",
           "line": {
            "color": "rgb(0, 0, 0)",
            "width": 2
           },
           "mode": "lines",
           "x": [
            0.25,
            0.5,
            null
           ],
           "y": [
            1,
            1,
            null
           ]
          },
          {
           "hoverinfo": "none",
           "line": {
            "color": "rgb(0, 0, 0)",
            "width": 2
           },
           "mode": "lines",
           "x": [
            0.25,
            0.25,
            null
           ],
           "y": [
            1,
            0,
            null
           ]
          },
          {
           "hoverinfo": "none",
           "line": {
            "color": "rgb(0, 0, 0)",
            "width": 2
           },
           "mode": "lines",
           "x": [
            0.5,
            0.75,
            null
           ],
           "y": [
            1,
            1,
            null
           ]
          },
          {
           "hoverinfo": "none",
           "line": {
            "color": "rgb(0, 0, 0)",
            "width": 2
           },
           "mode": "lines",
           "x": [
            0.5,
            0.75,
            null
           ],
           "y": [
            1,
            0,
            null
           ]
          },
          {
           "hoverinfo": "none",
           "line": {
            "color": "rgb(255, 0, 0)",
            "width": 2
           },
           "mode": "lines",
           "x": [
            0.5,
            0.375,
            null
           ],
           "y": [
            1,
            0.5,
            null
           ]
          },
          {
           "hoverinfo": "none",
           "line": {
            "color": "rgb(0, 0, 0)",
            "width": 2
           },
           "mode": "lines",
           "x": [
            0.75,
            1,
            null
           ],
           "y": [
            1,
            0.5,
            null
           ]
          },
          {
           "hoverinfo": "none",
           "line": {
            "color": "rgb(0, 0, 0)",
            "width": 2
           },
           "mode": "lines",
           "x": [
            0.75,
            0.75,
            null
           ],
           "y": [
            1,
            0,
            null
           ]
          },
          {
           "hoverinfo": "none",
           "line": {
            "color": "rgb(0, 0, 0)",
            "width": 2
           },
           "mode": "lines",
           "x": [
            1,
            0.75,
            null
           ],
           "y": [
            0.5,
            0,
            null
           ]
          },
          {
           "hoverinfo": "none",
           "line": {
            "color": "rgb(0, 0, 0)",
            "width": 2
           },
           "mode": "lines",
           "x": [
            0.75,
            0.5,
            null
           ],
           "y": [
            0,
            0,
            null
           ]
          },
          {
           "hoverinfo": "none",
           "line": {
            "color": "rgb(0, 0, 255)",
            "width": 2
           },
           "mode": "lines",
           "x": [
            0.5,
            0.25,
            null
           ],
           "y": [
            0,
            0,
            null
           ]
          },
          {
           "hoverinfo": "none",
           "line": {
            "color": "rgb(0, 0, 0)",
            "width": 2
           },
           "mode": "lines",
           "x": [
            0.5,
            0.375,
            null
           ],
           "y": [
            0,
            0.5,
            null
           ]
          },
          {
           "hoverinfo": "none",
           "line": {
            "color": "rgb(0, 0, 0)",
            "width": 2
           },
           "mode": "lines",
           "x": [
            0.25,
            0.375,
            null
           ],
           "y": [
            0,
            0.5,
            null
           ]
          },
          {
           "hoverinfo": "none",
           "marker": {
            "color": "rgb(255, 255, 255)",
            "line": {
             "color": "rgb(0, 0, 0)",
             "width": 2
            },
            "size": 20
           },
           "mode": "markers+text",
           "text": [],
           "textfont": {
            "color": "rgb(0, 0, 0)"
           },
           "textposition": "middle center",
           "x": [
            0
           ],
           "y": [
            0.5
           ]
          },
          {
           "hoverinfo": "none",
           "marker": {
            "color": "rgb(255, 255, 255)",
            "line": {
             "color": "rgb(0, 0, 0)",
             "width": 2
            },
            "size": 20
           },
           "mode": "markers+text",
           "text": [],
           "textfont": {
            "color": "rgb(0, 0, 0)"
           },
           "textposition": "middle center",
           "x": [
            0.25
           ],
           "y": [
            1
           ]
          },
          {
           "hoverinfo": "none",
           "marker": {
            "color": "rgb(255, 255, 255)",
            "line": {
             "color": "rgb(0, 0, 0)",
             "width": 2
            },
            "size": 20
           },
           "mode": "markers+text",
           "text": [],
           "textfont": {
            "color": "rgb(0, 0, 0)"
           },
           "textposition": "middle center",
           "x": [
            0.5
           ],
           "y": [
            1
           ]
          },
          {
           "hoverinfo": "none",
           "marker": {
            "color": "rgb(255, 255, 255)",
            "line": {
             "color": "rgb(0, 0, 0)",
             "width": 2
            },
            "size": 20
           },
           "mode": "markers+text",
           "text": [],
           "textfont": {
            "color": "rgb(0, 0, 0)"
           },
           "textposition": "middle center",
           "x": [
            0.75
           ],
           "y": [
            1
           ]
          },
          {
           "hoverinfo": "none",
           "marker": {
            "color": "rgb(255, 255, 255)",
            "line": {
             "color": "rgb(0, 0, 0)",
             "width": 2
            },
            "size": 20
           },
           "mode": "markers+text",
           "text": [],
           "textfont": {
            "color": "rgb(0, 0, 0)"
           },
           "textposition": "middle center",
           "x": [
            1
           ],
           "y": [
            0.5
           ]
          },
          {
           "hoverinfo": "none",
           "marker": {
            "color": "rgb(255, 255, 255)",
            "line": {
             "color": "rgb(0, 0, 0)",
             "width": 2
            },
            "size": 20
           },
           "mode": "markers+text",
           "text": [],
           "textfont": {
            "color": "rgb(0, 0, 0)"
           },
           "textposition": "middle center",
           "x": [
            0.75
           ],
           "y": [
            0
           ]
          },
          {
           "hoverinfo": "none",
           "marker": {
            "color": "rgb(255, 255, 255)",
            "line": {
             "color": "rgb(0, 0, 0)",
             "width": 2
            },
            "size": 20
           },
           "mode": "markers+text",
           "text": [],
           "textfont": {
            "color": "rgb(0, 0, 0)"
           },
           "textposition": "middle center",
           "x": [
            0.5
           ],
           "y": [
            0
           ]
          },
          {
           "hoverinfo": "none",
           "marker": {
            "color": "rgb(255, 255, 255)",
            "line": {
             "color": "rgb(0, 0, 0)",
             "width": 2
            },
            "size": 20
           },
           "mode": "markers+text",
           "text": [],
           "textfont": {
            "color": "rgb(0, 0, 0)"
           },
           "textposition": "middle center",
           "x": [
            0.25
           ],
           "y": [
            0
           ]
          },
          {
           "hoverinfo": "none",
           "marker": {
            "color": "rgb(255, 255, 255)",
            "line": {
             "color": "rgb(0, 0, 0)",
             "width": 2
            },
            "size": 20
           },
           "mode": "markers+text",
           "text": [],
           "textfont": {
            "color": "rgb(0, 0, 0)"
           },
           "textposition": "middle center",
           "x": [
            0.375
           ],
           "y": [
            0.5
           ]
          },
          {
           "hoverinfo": "none",
           "mode": "text",
           "text": [
            4,
            8,
            8,
            11,
            7,
            4,
            2,
            9,
            14,
            10,
            2,
            1,
            6,
            7
           ],
           "textfont": {
            "color": "rgb(0, 0, 0)"
           },
           "textposition": "middle center",
           "x": [
            0.08835225700681207,
            0.16164774299318793,
            0.375,
            0.2878787878787879,
            0.625,
            0.6625594305323629,
            0.4750594305323629,
            0.911647742993188,
            0.7878787878787878,
            0.911647742993188,
            0.625,
            0.375,
            0.3999405694676371,
            0.2749405694676371
           ],
           "y": [
            0.768323871496594,
            0.268323871496594,
            1.0724637681159421,
            0.5,
            1.0724637681159421,
            0.5093898576330907,
            0.7406101423669093,
            0.768323871496594,
            0.5,
            0.23167612850340602,
            -0.07246376811594203,
            -0.07246376811594203,
            0.24061014236690928,
            0.2593898576330907
           ]
          }
         ],
         "name": 3
        },
        {
         "data": [
          {
           "hoverinfo": "none",
           "line": {
            "color": "rgb(0, 0, 0)",
            "width": 2
           },
           "mode": "lines",
           "x": [
            0,
            0.25,
            null
           ],
           "y": [
            0.5,
            1,
            null
           ]
          },
          {
           "hoverinfo": "none",
           "line": {
            "color": "rgb(0, 0, 0)",
            "width": 2
           },
           "mode": "lines",
           "x": [
            0,
            0.25,
            null
           ],
           "y": [
            0.5,
            0,
            null
           ]
          },
          {
           "hoverinfo": "none",
           "line": {
            "color": "rgb(0, 0, 0)",
            "width": 2
           },
           "mode": "lines",
           "x": [
            0.25,
            0.5,
            null
           ],
           "y": [
            1,
            1,
            null
           ]
          },
          {
           "hoverinfo": "none",
           "line": {
            "color": "rgb(0, 0, 0)",
            "width": 2
           },
           "mode": "lines",
           "x": [
            0.25,
            0.25,
            null
           ],
           "y": [
            1,
            0,
            null
           ]
          },
          {
           "hoverinfo": "none",
           "line": {
            "color": "rgb(0, 0, 0)",
            "width": 2
           },
           "mode": "lines",
           "x": [
            0.5,
            0.75,
            null
           ],
           "y": [
            1,
            1,
            null
           ]
          },
          {
           "hoverinfo": "none",
           "line": {
            "color": "rgb(0, 0, 0)",
            "width": 2
           },
           "mode": "lines",
           "x": [
            0.5,
            0.75,
            null
           ],
           "y": [
            1,
            0,
            null
           ]
          },
          {
           "hoverinfo": "none",
           "line": {
            "color": "rgb(0, 0, 255)",
            "width": 2
           },
           "mode": "lines",
           "x": [
            0.5,
            0.375,
            null
           ],
           "y": [
            1,
            0.5,
            null
           ]
          },
          {
           "hoverinfo": "none",
           "line": {
            "color": "rgb(0, 0, 0)",
            "width": 2
           },
           "mode": "lines",
           "x": [
            0.75,
            1,
            null
           ],
           "y": [
            1,
            0.5,
            null
           ]
          },
          {
           "hoverinfo": "none",
           "line": {
            "color": "rgb(0, 0, 0)",
            "width": 2
           },
           "mode": "lines",
           "x": [
            0.75,
            0.75,
            null
           ],
           "y": [
            1,
            0,
            null
           ]
          },
          {
           "hoverinfo": "none",
           "line": {
            "color": "rgb(0, 0, 0)",
            "width": 2
           },
           "mode": "lines",
           "x": [
            1,
            0.75,
            null
           ],
           "y": [
            0.5,
            0,
            null
           ]
          },
          {
           "hoverinfo": "none",
           "line": {
            "color": "rgb(0, 0, 0)",
            "width": 2
           },
           "mode": "lines",
           "x": [
            0.75,
            0.5,
            null
           ],
           "y": [
            0,
            0,
            null
           ]
          },
          {
           "hoverinfo": "none",
           "line": {
            "color": "rgb(0, 0, 255)",
            "width": 2
           },
           "mode": "lines",
           "x": [
            0.5,
            0.25,
            null
           ],
           "y": [
            0,
            0,
            null
           ]
          },
          {
           "hoverinfo": "none",
           "line": {
            "color": "rgb(0, 0, 0)",
            "width": 2
           },
           "mode": "lines",
           "x": [
            0.5,
            0.375,
            null
           ],
           "y": [
            0,
            0.5,
            null
           ]
          },
          {
           "hoverinfo": "none",
           "line": {
            "color": "rgb(0, 0, 0)",
            "width": 2
           },
           "mode": "lines",
           "x": [
            0.25,
            0.375,
            null
           ],
           "y": [
            0,
            0.5,
            null
           ]
          },
          {
           "hoverinfo": "none",
           "marker": {
            "color": "rgb(255, 255, 255)",
            "line": {
             "color": "rgb(0, 0, 0)",
             "width": 2
            },
            "size": 20
           },
           "mode": "markers+text",
           "text": [],
           "textfont": {
            "color": "rgb(0, 0, 0)"
           },
           "textposition": "middle center",
           "x": [
            0
           ],
           "y": [
            0.5
           ]
          },
          {
           "hoverinfo": "none",
           "marker": {
            "color": "rgb(255, 255, 255)",
            "line": {
             "color": "rgb(0, 0, 0)",
             "width": 2
            },
            "size": 20
           },
           "mode": "markers+text",
           "text": [],
           "textfont": {
            "color": "rgb(0, 0, 0)"
           },
           "textposition": "middle center",
           "x": [
            0.25
           ],
           "y": [
            1
           ]
          },
          {
           "hoverinfo": "none",
           "marker": {
            "color": "rgb(255, 255, 255)",
            "line": {
             "color": "rgb(0, 0, 0)",
             "width": 2
            },
            "size": 20
           },
           "mode": "markers+text",
           "text": [],
           "textfont": {
            "color": "rgb(0, 0, 0)"
           },
           "textposition": "middle center",
           "x": [
            0.5
           ],
           "y": [
            1
           ]
          },
          {
           "hoverinfo": "none",
           "marker": {
            "color": "rgb(255, 255, 255)",
            "line": {
             "color": "rgb(0, 0, 0)",
             "width": 2
            },
            "size": 20
           },
           "mode": "markers+text",
           "text": [],
           "textfont": {
            "color": "rgb(0, 0, 0)"
           },
           "textposition": "middle center",
           "x": [
            0.75
           ],
           "y": [
            1
           ]
          },
          {
           "hoverinfo": "none",
           "marker": {
            "color": "rgb(255, 255, 255)",
            "line": {
             "color": "rgb(0, 0, 0)",
             "width": 2
            },
            "size": 20
           },
           "mode": "markers+text",
           "text": [],
           "textfont": {
            "color": "rgb(0, 0, 0)"
           },
           "textposition": "middle center",
           "x": [
            1
           ],
           "y": [
            0.5
           ]
          },
          {
           "hoverinfo": "none",
           "marker": {
            "color": "rgb(255, 255, 255)",
            "line": {
             "color": "rgb(0, 0, 0)",
             "width": 2
            },
            "size": 20
           },
           "mode": "markers+text",
           "text": [],
           "textfont": {
            "color": "rgb(0, 0, 0)"
           },
           "textposition": "middle center",
           "x": [
            0.75
           ],
           "y": [
            0
           ]
          },
          {
           "hoverinfo": "none",
           "marker": {
            "color": "rgb(255, 255, 255)",
            "line": {
             "color": "rgb(0, 0, 0)",
             "width": 2
            },
            "size": 20
           },
           "mode": "markers+text",
           "text": [],
           "textfont": {
            "color": "rgb(0, 0, 0)"
           },
           "textposition": "middle center",
           "x": [
            0.5
           ],
           "y": [
            0
           ]
          },
          {
           "hoverinfo": "none",
           "marker": {
            "color": "rgb(255, 255, 255)",
            "line": {
             "color": "rgb(0, 0, 0)",
             "width": 2
            },
            "size": 20
           },
           "mode": "markers+text",
           "text": [],
           "textfont": {
            "color": "rgb(0, 0, 0)"
           },
           "textposition": "middle center",
           "x": [
            0.25
           ],
           "y": [
            0
           ]
          },
          {
           "hoverinfo": "none",
           "marker": {
            "color": "rgb(255, 255, 255)",
            "line": {
             "color": "rgb(0, 0, 0)",
             "width": 2
            },
            "size": 20
           },
           "mode": "markers+text",
           "text": [],
           "textfont": {
            "color": "rgb(0, 0, 0)"
           },
           "textposition": "middle center",
           "x": [
            0.375
           ],
           "y": [
            0.5
           ]
          },
          {
           "hoverinfo": "none",
           "mode": "text",
           "text": [
            4,
            8,
            8,
            11,
            7,
            4,
            2,
            9,
            14,
            10,
            2,
            1,
            6,
            7
           ],
           "textfont": {
            "color": "rgb(0, 0, 0)"
           },
           "textposition": "middle center",
           "x": [
            0.08835225700681207,
            0.16164774299318793,
            0.375,
            0.2878787878787879,
            0.625,
            0.6625594305323629,
            0.4750594305323629,
            0.911647742993188,
            0.7878787878787878,
            0.911647742993188,
            0.625,
            0.375,
            0.3999405694676371,
            0.2749405694676371
           ],
           "y": [
            0.768323871496594,
            0.268323871496594,
            1.0724637681159421,
            0.5,
            1.0724637681159421,
            0.5093898576330907,
            0.7406101423669093,
            0.768323871496594,
            0.5,
            0.23167612850340602,
            -0.07246376811594203,
            -0.07246376811594203,
            0.24061014236690928,
            0.2593898576330907
           ]
          }
         ],
         "name": 4
        },
        {
         "data": [
          {
           "hoverinfo": "none",
           "line": {
            "color": "rgb(0, 0, 0)",
            "width": 2
           },
           "mode": "lines",
           "x": [
            0,
            0.25,
            null
           ],
           "y": [
            0.5,
            1,
            null
           ]
          },
          {
           "hoverinfo": "none",
           "line": {
            "color": "rgb(0, 0, 0)",
            "width": 2
           },
           "mode": "lines",
           "x": [
            0,
            0.25,
            null
           ],
           "y": [
            0.5,
            0,
            null
           ]
          },
          {
           "hoverinfo": "none",
           "line": {
            "color": "rgb(0, 0, 0)",
            "width": 2
           },
           "mode": "lines",
           "x": [
            0.25,
            0.5,
            null
           ],
           "y": [
            1,
            1,
            null
           ]
          },
          {
           "hoverinfo": "none",
           "line": {
            "color": "rgb(0, 0, 0)",
            "width": 2
           },
           "mode": "lines",
           "x": [
            0.25,
            0.25,
            null
           ],
           "y": [
            1,
            0,
            null
           ]
          },
          {
           "hoverinfo": "none",
           "line": {
            "color": "rgb(0, 0, 0)",
            "width": 2
           },
           "mode": "lines",
           "x": [
            0.5,
            0.75,
            null
           ],
           "y": [
            1,
            1,
            null
           ]
          },
          {
           "hoverinfo": "none",
           "line": {
            "color": "rgb(0, 0, 0)",
            "width": 2
           },
           "mode": "lines",
           "x": [
            0.5,
            0.75,
            null
           ],
           "y": [
            1,
            0,
            null
           ]
          },
          {
           "hoverinfo": "none",
           "line": {
            "color": "rgb(0, 0, 255)",
            "width": 2
           },
           "mode": "lines",
           "x": [
            0.5,
            0.375,
            null
           ],
           "y": [
            1,
            0.5,
            null
           ]
          },
          {
           "hoverinfo": "none",
           "line": {
            "color": "rgb(0, 0, 0)",
            "width": 2
           },
           "mode": "lines",
           "x": [
            0.75,
            1,
            null
           ],
           "y": [
            1,
            0.5,
            null
           ]
          },
          {
           "hoverinfo": "none",
           "line": {
            "color": "rgb(0, 0, 0)",
            "width": 2
           },
           "mode": "lines",
           "x": [
            0.75,
            0.75,
            null
           ],
           "y": [
            1,
            0,
            null
           ]
          },
          {
           "hoverinfo": "none",
           "line": {
            "color": "rgb(0, 0, 0)",
            "width": 2
           },
           "mode": "lines",
           "x": [
            1,
            0.75,
            null
           ],
           "y": [
            0.5,
            0,
            null
           ]
          },
          {
           "hoverinfo": "none",
           "line": {
            "color": "rgb(255, 0, 0)",
            "width": 2
           },
           "mode": "lines",
           "x": [
            0.75,
            0.5,
            null
           ],
           "y": [
            0,
            0,
            null
           ]
          },
          {
           "hoverinfo": "none",
           "line": {
            "color": "rgb(0, 0, 255)",
            "width": 2
           },
           "mode": "lines",
           "x": [
            0.5,
            0.25,
            null
           ],
           "y": [
            0,
            0,
            null
           ]
          },
          {
           "hoverinfo": "none",
           "line": {
            "color": "rgb(0, 0, 0)",
            "width": 2
           },
           "mode": "lines",
           "x": [
            0.5,
            0.375,
            null
           ],
           "y": [
            0,
            0.5,
            null
           ]
          },
          {
           "hoverinfo": "none",
           "line": {
            "color": "rgb(0, 0, 0)",
            "width": 2
           },
           "mode": "lines",
           "x": [
            0.25,
            0.375,
            null
           ],
           "y": [
            0,
            0.5,
            null
           ]
          },
          {
           "hoverinfo": "none",
           "marker": {
            "color": "rgb(255, 255, 255)",
            "line": {
             "color": "rgb(0, 0, 0)",
             "width": 2
            },
            "size": 20
           },
           "mode": "markers+text",
           "text": [],
           "textfont": {
            "color": "rgb(0, 0, 0)"
           },
           "textposition": "middle center",
           "x": [
            0
           ],
           "y": [
            0.5
           ]
          },
          {
           "hoverinfo": "none",
           "marker": {
            "color": "rgb(255, 255, 255)",
            "line": {
             "color": "rgb(0, 0, 0)",
             "width": 2
            },
            "size": 20
           },
           "mode": "markers+text",
           "text": [],
           "textfont": {
            "color": "rgb(0, 0, 0)"
           },
           "textposition": "middle center",
           "x": [
            0.25
           ],
           "y": [
            1
           ]
          },
          {
           "hoverinfo": "none",
           "marker": {
            "color": "rgb(255, 255, 255)",
            "line": {
             "color": "rgb(0, 0, 0)",
             "width": 2
            },
            "size": 20
           },
           "mode": "markers+text",
           "text": [],
           "textfont": {
            "color": "rgb(0, 0, 0)"
           },
           "textposition": "middle center",
           "x": [
            0.5
           ],
           "y": [
            1
           ]
          },
          {
           "hoverinfo": "none",
           "marker": {
            "color": "rgb(255, 255, 255)",
            "line": {
             "color": "rgb(0, 0, 0)",
             "width": 2
            },
            "size": 20
           },
           "mode": "markers+text",
           "text": [],
           "textfont": {
            "color": "rgb(0, 0, 0)"
           },
           "textposition": "middle center",
           "x": [
            0.75
           ],
           "y": [
            1
           ]
          },
          {
           "hoverinfo": "none",
           "marker": {
            "color": "rgb(255, 255, 255)",
            "line": {
             "color": "rgb(0, 0, 0)",
             "width": 2
            },
            "size": 20
           },
           "mode": "markers+text",
           "text": [],
           "textfont": {
            "color": "rgb(0, 0, 0)"
           },
           "textposition": "middle center",
           "x": [
            1
           ],
           "y": [
            0.5
           ]
          },
          {
           "hoverinfo": "none",
           "marker": {
            "color": "rgb(255, 255, 255)",
            "line": {
             "color": "rgb(0, 0, 0)",
             "width": 2
            },
            "size": 20
           },
           "mode": "markers+text",
           "text": [],
           "textfont": {
            "color": "rgb(0, 0, 0)"
           },
           "textposition": "middle center",
           "x": [
            0.75
           ],
           "y": [
            0
           ]
          },
          {
           "hoverinfo": "none",
           "marker": {
            "color": "rgb(255, 255, 255)",
            "line": {
             "color": "rgb(0, 0, 0)",
             "width": 2
            },
            "size": 20
           },
           "mode": "markers+text",
           "text": [],
           "textfont": {
            "color": "rgb(0, 0, 0)"
           },
           "textposition": "middle center",
           "x": [
            0.5
           ],
           "y": [
            0
           ]
          },
          {
           "hoverinfo": "none",
           "marker": {
            "color": "rgb(255, 255, 255)",
            "line": {
             "color": "rgb(0, 0, 0)",
             "width": 2
            },
            "size": 20
           },
           "mode": "markers+text",
           "text": [],
           "textfont": {
            "color": "rgb(0, 0, 0)"
           },
           "textposition": "middle center",
           "x": [
            0.25
           ],
           "y": [
            0
           ]
          },
          {
           "hoverinfo": "none",
           "marker": {
            "color": "rgb(255, 255, 255)",
            "line": {
             "color": "rgb(0, 0, 0)",
             "width": 2
            },
            "size": 20
           },
           "mode": "markers+text",
           "text": [],
           "textfont": {
            "color": "rgb(0, 0, 0)"
           },
           "textposition": "middle center",
           "x": [
            0.375
           ],
           "y": [
            0.5
           ]
          },
          {
           "hoverinfo": "none",
           "mode": "text",
           "text": [
            4,
            8,
            8,
            11,
            7,
            4,
            2,
            9,
            14,
            10,
            2,
            1,
            6,
            7
           ],
           "textfont": {
            "color": "rgb(0, 0, 0)"
           },
           "textposition": "middle center",
           "x": [
            0.08835225700681207,
            0.16164774299318793,
            0.375,
            0.2878787878787879,
            0.625,
            0.6625594305323629,
            0.4750594305323629,
            0.911647742993188,
            0.7878787878787878,
            0.911647742993188,
            0.625,
            0.375,
            0.3999405694676371,
            0.2749405694676371
           ],
           "y": [
            0.768323871496594,
            0.268323871496594,
            1.0724637681159421,
            0.5,
            1.0724637681159421,
            0.5093898576330907,
            0.7406101423669093,
            0.768323871496594,
            0.5,
            0.23167612850340602,
            -0.07246376811594203,
            -0.07246376811594203,
            0.24061014236690928,
            0.2593898576330907
           ]
          }
         ],
         "name": 5
        },
        {
         "data": [
          {
           "hoverinfo": "none",
           "line": {
            "color": "rgb(0, 0, 0)",
            "width": 2
           },
           "mode": "lines",
           "x": [
            0,
            0.25,
            null
           ],
           "y": [
            0.5,
            1,
            null
           ]
          },
          {
           "hoverinfo": "none",
           "line": {
            "color": "rgb(0, 0, 0)",
            "width": 2
           },
           "mode": "lines",
           "x": [
            0,
            0.25,
            null
           ],
           "y": [
            0.5,
            0,
            null
           ]
          },
          {
           "hoverinfo": "none",
           "line": {
            "color": "rgb(0, 0, 0)",
            "width": 2
           },
           "mode": "lines",
           "x": [
            0.25,
            0.5,
            null
           ],
           "y": [
            1,
            1,
            null
           ]
          },
          {
           "hoverinfo": "none",
           "line": {
            "color": "rgb(0, 0, 0)",
            "width": 2
           },
           "mode": "lines",
           "x": [
            0.25,
            0.25,
            null
           ],
           "y": [
            1,
            0,
            null
           ]
          },
          {
           "hoverinfo": "none",
           "line": {
            "color": "rgb(0, 0, 0)",
            "width": 2
           },
           "mode": "lines",
           "x": [
            0.5,
            0.75,
            null
           ],
           "y": [
            1,
            1,
            null
           ]
          },
          {
           "hoverinfo": "none",
           "line": {
            "color": "rgb(0, 0, 0)",
            "width": 2
           },
           "mode": "lines",
           "x": [
            0.5,
            0.75,
            null
           ],
           "y": [
            1,
            0,
            null
           ]
          },
          {
           "hoverinfo": "none",
           "line": {
            "color": "rgb(0, 0, 255)",
            "width": 2
           },
           "mode": "lines",
           "x": [
            0.5,
            0.375,
            null
           ],
           "y": [
            1,
            0.5,
            null
           ]
          },
          {
           "hoverinfo": "none",
           "line": {
            "color": "rgb(0, 0, 0)",
            "width": 2
           },
           "mode": "lines",
           "x": [
            0.75,
            1,
            null
           ],
           "y": [
            1,
            0.5,
            null
           ]
          },
          {
           "hoverinfo": "none",
           "line": {
            "color": "rgb(0, 0, 0)",
            "width": 2
           },
           "mode": "lines",
           "x": [
            0.75,
            0.75,
            null
           ],
           "y": [
            1,
            0,
            null
           ]
          },
          {
           "hoverinfo": "none",
           "line": {
            "color": "rgb(0, 0, 0)",
            "width": 2
           },
           "mode": "lines",
           "x": [
            1,
            0.75,
            null
           ],
           "y": [
            0.5,
            0,
            null
           ]
          },
          {
           "hoverinfo": "none",
           "line": {
            "color": "rgb(0, 0, 255)",
            "width": 2
           },
           "mode": "lines",
           "x": [
            0.75,
            0.5,
            null
           ],
           "y": [
            0,
            0,
            null
           ]
          },
          {
           "hoverinfo": "none",
           "line": {
            "color": "rgb(0, 0, 255)",
            "width": 2
           },
           "mode": "lines",
           "x": [
            0.5,
            0.25,
            null
           ],
           "y": [
            0,
            0,
            null
           ]
          },
          {
           "hoverinfo": "none",
           "line": {
            "color": "rgb(0, 0, 0)",
            "width": 2
           },
           "mode": "lines",
           "x": [
            0.5,
            0.375,
            null
           ],
           "y": [
            0,
            0.5,
            null
           ]
          },
          {
           "hoverinfo": "none",
           "line": {
            "color": "rgb(0, 0, 0)",
            "width": 2
           },
           "mode": "lines",
           "x": [
            0.25,
            0.375,
            null
           ],
           "y": [
            0,
            0.5,
            null
           ]
          },
          {
           "hoverinfo": "none",
           "marker": {
            "color": "rgb(255, 255, 255)",
            "line": {
             "color": "rgb(0, 0, 0)",
             "width": 2
            },
            "size": 20
           },
           "mode": "markers+text",
           "text": [],
           "textfont": {
            "color": "rgb(0, 0, 0)"
           },
           "textposition": "middle center",
           "x": [
            0
           ],
           "y": [
            0.5
           ]
          },
          {
           "hoverinfo": "none",
           "marker": {
            "color": "rgb(255, 255, 255)",
            "line": {
             "color": "rgb(0, 0, 0)",
             "width": 2
            },
            "size": 20
           },
           "mode": "markers+text",
           "text": [],
           "textfont": {
            "color": "rgb(0, 0, 0)"
           },
           "textposition": "middle center",
           "x": [
            0.25
           ],
           "y": [
            1
           ]
          },
          {
           "hoverinfo": "none",
           "marker": {
            "color": "rgb(255, 255, 255)",
            "line": {
             "color": "rgb(0, 0, 0)",
             "width": 2
            },
            "size": 20
           },
           "mode": "markers+text",
           "text": [],
           "textfont": {
            "color": "rgb(0, 0, 0)"
           },
           "textposition": "middle center",
           "x": [
            0.5
           ],
           "y": [
            1
           ]
          },
          {
           "hoverinfo": "none",
           "marker": {
            "color": "rgb(255, 255, 255)",
            "line": {
             "color": "rgb(0, 0, 0)",
             "width": 2
            },
            "size": 20
           },
           "mode": "markers+text",
           "text": [],
           "textfont": {
            "color": "rgb(0, 0, 0)"
           },
           "textposition": "middle center",
           "x": [
            0.75
           ],
           "y": [
            1
           ]
          },
          {
           "hoverinfo": "none",
           "marker": {
            "color": "rgb(255, 255, 255)",
            "line": {
             "color": "rgb(0, 0, 0)",
             "width": 2
            },
            "size": 20
           },
           "mode": "markers+text",
           "text": [],
           "textfont": {
            "color": "rgb(0, 0, 0)"
           },
           "textposition": "middle center",
           "x": [
            1
           ],
           "y": [
            0.5
           ]
          },
          {
           "hoverinfo": "none",
           "marker": {
            "color": "rgb(255, 255, 255)",
            "line": {
             "color": "rgb(0, 0, 0)",
             "width": 2
            },
            "size": 20
           },
           "mode": "markers+text",
           "text": [],
           "textfont": {
            "color": "rgb(0, 0, 0)"
           },
           "textposition": "middle center",
           "x": [
            0.75
           ],
           "y": [
            0
           ]
          },
          {
           "hoverinfo": "none",
           "marker": {
            "color": "rgb(255, 255, 255)",
            "line": {
             "color": "rgb(0, 0, 0)",
             "width": 2
            },
            "size": 20
           },
           "mode": "markers+text",
           "text": [],
           "textfont": {
            "color": "rgb(0, 0, 0)"
           },
           "textposition": "middle center",
           "x": [
            0.5
           ],
           "y": [
            0
           ]
          },
          {
           "hoverinfo": "none",
           "marker": {
            "color": "rgb(255, 255, 255)",
            "line": {
             "color": "rgb(0, 0, 0)",
             "width": 2
            },
            "size": 20
           },
           "mode": "markers+text",
           "text": [],
           "textfont": {
            "color": "rgb(0, 0, 0)"
           },
           "textposition": "middle center",
           "x": [
            0.25
           ],
           "y": [
            0
           ]
          },
          {
           "hoverinfo": "none",
           "marker": {
            "color": "rgb(255, 255, 255)",
            "line": {
             "color": "rgb(0, 0, 0)",
             "width": 2
            },
            "size": 20
           },
           "mode": "markers+text",
           "text": [],
           "textfont": {
            "color": "rgb(0, 0, 0)"
           },
           "textposition": "middle center",
           "x": [
            0.375
           ],
           "y": [
            0.5
           ]
          },
          {
           "hoverinfo": "none",
           "mode": "text",
           "text": [
            4,
            8,
            8,
            11,
            7,
            4,
            2,
            9,
            14,
            10,
            2,
            1,
            6,
            7
           ],
           "textfont": {
            "color": "rgb(0, 0, 0)"
           },
           "textposition": "middle center",
           "x": [
            0.08835225700681207,
            0.16164774299318793,
            0.375,
            0.2878787878787879,
            0.625,
            0.6625594305323629,
            0.4750594305323629,
            0.911647742993188,
            0.7878787878787878,
            0.911647742993188,
            0.625,
            0.375,
            0.3999405694676371,
            0.2749405694676371
           ],
           "y": [
            0.768323871496594,
            0.268323871496594,
            1.0724637681159421,
            0.5,
            1.0724637681159421,
            0.5093898576330907,
            0.7406101423669093,
            0.768323871496594,
            0.5,
            0.23167612850340602,
            -0.07246376811594203,
            -0.07246376811594203,
            0.24061014236690928,
            0.2593898576330907
           ]
          }
         ],
         "name": 6
        },
        {
         "data": [
          {
           "hoverinfo": "none",
           "line": {
            "color": "rgb(255, 0, 0)",
            "width": 2
           },
           "mode": "lines",
           "x": [
            0,
            0.25,
            null
           ],
           "y": [
            0.5,
            1,
            null
           ]
          },
          {
           "hoverinfo": "none",
           "line": {
            "color": "rgb(0, 0, 0)",
            "width": 2
           },
           "mode": "lines",
           "x": [
            0,
            0.25,
            null
           ],
           "y": [
            0.5,
            0,
            null
           ]
          },
          {
           "hoverinfo": "none",
           "line": {
            "color": "rgb(0, 0, 0)",
            "width": 2
           },
           "mode": "lines",
           "x": [
            0.25,
            0.5,
            null
           ],
           "y": [
            1,
            1,
            null
           ]
          },
          {
           "hoverinfo": "none",
           "line": {
            "color": "rgb(0, 0, 0)",
            "width": 2
           },
           "mode": "lines",
           "x": [
            0.25,
            0.25,
            null
           ],
           "y": [
            1,
            0,
            null
           ]
          },
          {
           "hoverinfo": "none",
           "line": {
            "color": "rgb(0, 0, 0)",
            "width": 2
           },
           "mode": "lines",
           "x": [
            0.5,
            0.75,
            null
           ],
           "y": [
            1,
            1,
            null
           ]
          },
          {
           "hoverinfo": "none",
           "line": {
            "color": "rgb(0, 0, 0)",
            "width": 2
           },
           "mode": "lines",
           "x": [
            0.5,
            0.75,
            null
           ],
           "y": [
            1,
            0,
            null
           ]
          },
          {
           "hoverinfo": "none",
           "line": {
            "color": "rgb(0, 0, 255)",
            "width": 2
           },
           "mode": "lines",
           "x": [
            0.5,
            0.375,
            null
           ],
           "y": [
            1,
            0.5,
            null
           ]
          },
          {
           "hoverinfo": "none",
           "line": {
            "color": "rgb(0, 0, 0)",
            "width": 2
           },
           "mode": "lines",
           "x": [
            0.75,
            1,
            null
           ],
           "y": [
            1,
            0.5,
            null
           ]
          },
          {
           "hoverinfo": "none",
           "line": {
            "color": "rgb(0, 0, 0)",
            "width": 2
           },
           "mode": "lines",
           "x": [
            0.75,
            0.75,
            null
           ],
           "y": [
            1,
            0,
            null
           ]
          },
          {
           "hoverinfo": "none",
           "line": {
            "color": "rgb(0, 0, 0)",
            "width": 2
           },
           "mode": "lines",
           "x": [
            1,
            0.75,
            null
           ],
           "y": [
            0.5,
            0,
            null
           ]
          },
          {
           "hoverinfo": "none",
           "line": {
            "color": "rgb(0, 0, 255)",
            "width": 2
           },
           "mode": "lines",
           "x": [
            0.75,
            0.5,
            null
           ],
           "y": [
            0,
            0,
            null
           ]
          },
          {
           "hoverinfo": "none",
           "line": {
            "color": "rgb(0, 0, 255)",
            "width": 2
           },
           "mode": "lines",
           "x": [
            0.5,
            0.25,
            null
           ],
           "y": [
            0,
            0,
            null
           ]
          },
          {
           "hoverinfo": "none",
           "line": {
            "color": "rgb(0, 0, 0)",
            "width": 2
           },
           "mode": "lines",
           "x": [
            0.5,
            0.375,
            null
           ],
           "y": [
            0,
            0.5,
            null
           ]
          },
          {
           "hoverinfo": "none",
           "line": {
            "color": "rgb(0, 0, 0)",
            "width": 2
           },
           "mode": "lines",
           "x": [
            0.25,
            0.375,
            null
           ],
           "y": [
            0,
            0.5,
            null
           ]
          },
          {
           "hoverinfo": "none",
           "marker": {
            "color": "rgb(255, 255, 255)",
            "line": {
             "color": "rgb(0, 0, 0)",
             "width": 2
            },
            "size": 20
           },
           "mode": "markers+text",
           "text": [],
           "textfont": {
            "color": "rgb(0, 0, 0)"
           },
           "textposition": "middle center",
           "x": [
            0
           ],
           "y": [
            0.5
           ]
          },
          {
           "hoverinfo": "none",
           "marker": {
            "color": "rgb(255, 255, 255)",
            "line": {
             "color": "rgb(0, 0, 0)",
             "width": 2
            },
            "size": 20
           },
           "mode": "markers+text",
           "text": [],
           "textfont": {
            "color": "rgb(0, 0, 0)"
           },
           "textposition": "middle center",
           "x": [
            0.25
           ],
           "y": [
            1
           ]
          },
          {
           "hoverinfo": "none",
           "marker": {
            "color": "rgb(255, 255, 255)",
            "line": {
             "color": "rgb(0, 0, 0)",
             "width": 2
            },
            "size": 20
           },
           "mode": "markers+text",
           "text": [],
           "textfont": {
            "color": "rgb(0, 0, 0)"
           },
           "textposition": "middle center",
           "x": [
            0.5
           ],
           "y": [
            1
           ]
          },
          {
           "hoverinfo": "none",
           "marker": {
            "color": "rgb(255, 255, 255)",
            "line": {
             "color": "rgb(0, 0, 0)",
             "width": 2
            },
            "size": 20
           },
           "mode": "markers+text",
           "text": [],
           "textfont": {
            "color": "rgb(0, 0, 0)"
           },
           "textposition": "middle center",
           "x": [
            0.75
           ],
           "y": [
            1
           ]
          },
          {
           "hoverinfo": "none",
           "marker": {
            "color": "rgb(255, 255, 255)",
            "line": {
             "color": "rgb(0, 0, 0)",
             "width": 2
            },
            "size": 20
           },
           "mode": "markers+text",
           "text": [],
           "textfont": {
            "color": "rgb(0, 0, 0)"
           },
           "textposition": "middle center",
           "x": [
            1
           ],
           "y": [
            0.5
           ]
          },
          {
           "hoverinfo": "none",
           "marker": {
            "color": "rgb(255, 255, 255)",
            "line": {
             "color": "rgb(0, 0, 0)",
             "width": 2
            },
            "size": 20
           },
           "mode": "markers+text",
           "text": [],
           "textfont": {
            "color": "rgb(0, 0, 0)"
           },
           "textposition": "middle center",
           "x": [
            0.75
           ],
           "y": [
            0
           ]
          },
          {
           "hoverinfo": "none",
           "marker": {
            "color": "rgb(255, 255, 255)",
            "line": {
             "color": "rgb(0, 0, 0)",
             "width": 2
            },
            "size": 20
           },
           "mode": "markers+text",
           "text": [],
           "textfont": {
            "color": "rgb(0, 0, 0)"
           },
           "textposition": "middle center",
           "x": [
            0.5
           ],
           "y": [
            0
           ]
          },
          {
           "hoverinfo": "none",
           "marker": {
            "color": "rgb(255, 255, 255)",
            "line": {
             "color": "rgb(0, 0, 0)",
             "width": 2
            },
            "size": 20
           },
           "mode": "markers+text",
           "text": [],
           "textfont": {
            "color": "rgb(0, 0, 0)"
           },
           "textposition": "middle center",
           "x": [
            0.25
           ],
           "y": [
            0
           ]
          },
          {
           "hoverinfo": "none",
           "marker": {
            "color": "rgb(255, 255, 255)",
            "line": {
             "color": "rgb(0, 0, 0)",
             "width": 2
            },
            "size": 20
           },
           "mode": "markers+text",
           "text": [],
           "textfont": {
            "color": "rgb(0, 0, 0)"
           },
           "textposition": "middle center",
           "x": [
            0.375
           ],
           "y": [
            0.5
           ]
          },
          {
           "hoverinfo": "none",
           "mode": "text",
           "text": [
            4,
            8,
            8,
            11,
            7,
            4,
            2,
            9,
            14,
            10,
            2,
            1,
            6,
            7
           ],
           "textfont": {
            "color": "rgb(0, 0, 0)"
           },
           "textposition": "middle center",
           "x": [
            0.08835225700681207,
            0.16164774299318793,
            0.375,
            0.2878787878787879,
            0.625,
            0.6625594305323629,
            0.4750594305323629,
            0.911647742993188,
            0.7878787878787878,
            0.911647742993188,
            0.625,
            0.375,
            0.3999405694676371,
            0.2749405694676371
           ],
           "y": [
            0.768323871496594,
            0.268323871496594,
            1.0724637681159421,
            0.5,
            1.0724637681159421,
            0.5093898576330907,
            0.7406101423669093,
            0.768323871496594,
            0.5,
            0.23167612850340602,
            -0.07246376811594203,
            -0.07246376811594203,
            0.24061014236690928,
            0.2593898576330907
           ]
          }
         ],
         "name": 7
        },
        {
         "data": [
          {
           "hoverinfo": "none",
           "line": {
            "color": "rgb(0, 0, 255)",
            "width": 2
           },
           "mode": "lines",
           "x": [
            0,
            0.25,
            null
           ],
           "y": [
            0.5,
            1,
            null
           ]
          },
          {
           "hoverinfo": "none",
           "line": {
            "color": "rgb(0, 0, 0)",
            "width": 2
           },
           "mode": "lines",
           "x": [
            0,
            0.25,
            null
           ],
           "y": [
            0.5,
            0,
            null
           ]
          },
          {
           "hoverinfo": "none",
           "line": {
            "color": "rgb(0, 0, 0)",
            "width": 2
           },
           "mode": "lines",
           "x": [
            0.25,
            0.5,
            null
           ],
           "y": [
            1,
            1,
            null
           ]
          },
          {
           "hoverinfo": "none",
           "line": {
            "color": "rgb(0, 0, 0)",
            "width": 2
           },
           "mode": "lines",
           "x": [
            0.25,
            0.25,
            null
           ],
           "y": [
            1,
            0,
            null
           ]
          },
          {
           "hoverinfo": "none",
           "line": {
            "color": "rgb(0, 0, 0)",
            "width": 2
           },
           "mode": "lines",
           "x": [
            0.5,
            0.75,
            null
           ],
           "y": [
            1,
            1,
            null
           ]
          },
          {
           "hoverinfo": "none",
           "line": {
            "color": "rgb(0, 0, 0)",
            "width": 2
           },
           "mode": "lines",
           "x": [
            0.5,
            0.75,
            null
           ],
           "y": [
            1,
            0,
            null
           ]
          },
          {
           "hoverinfo": "none",
           "line": {
            "color": "rgb(0, 0, 255)",
            "width": 2
           },
           "mode": "lines",
           "x": [
            0.5,
            0.375,
            null
           ],
           "y": [
            1,
            0.5,
            null
           ]
          },
          {
           "hoverinfo": "none",
           "line": {
            "color": "rgb(0, 0, 0)",
            "width": 2
           },
           "mode": "lines",
           "x": [
            0.75,
            1,
            null
           ],
           "y": [
            1,
            0.5,
            null
           ]
          },
          {
           "hoverinfo": "none",
           "line": {
            "color": "rgb(0, 0, 0)",
            "width": 2
           },
           "mode": "lines",
           "x": [
            0.75,
            0.75,
            null
           ],
           "y": [
            1,
            0,
            null
           ]
          },
          {
           "hoverinfo": "none",
           "line": {
            "color": "rgb(0, 0, 0)",
            "width": 2
           },
           "mode": "lines",
           "x": [
            1,
            0.75,
            null
           ],
           "y": [
            0.5,
            0,
            null
           ]
          },
          {
           "hoverinfo": "none",
           "line": {
            "color": "rgb(0, 0, 255)",
            "width": 2
           },
           "mode": "lines",
           "x": [
            0.75,
            0.5,
            null
           ],
           "y": [
            0,
            0,
            null
           ]
          },
          {
           "hoverinfo": "none",
           "line": {
            "color": "rgb(0, 0, 255)",
            "width": 2
           },
           "mode": "lines",
           "x": [
            0.5,
            0.25,
            null
           ],
           "y": [
            0,
            0,
            null
           ]
          },
          {
           "hoverinfo": "none",
           "line": {
            "color": "rgb(0, 0, 0)",
            "width": 2
           },
           "mode": "lines",
           "x": [
            0.5,
            0.375,
            null
           ],
           "y": [
            0,
            0.5,
            null
           ]
          },
          {
           "hoverinfo": "none",
           "line": {
            "color": "rgb(0, 0, 0)",
            "width": 2
           },
           "mode": "lines",
           "x": [
            0.25,
            0.375,
            null
           ],
           "y": [
            0,
            0.5,
            null
           ]
          },
          {
           "hoverinfo": "none",
           "marker": {
            "color": "rgb(255, 255, 255)",
            "line": {
             "color": "rgb(0, 0, 0)",
             "width": 2
            },
            "size": 20
           },
           "mode": "markers+text",
           "text": [],
           "textfont": {
            "color": "rgb(0, 0, 0)"
           },
           "textposition": "middle center",
           "x": [
            0
           ],
           "y": [
            0.5
           ]
          },
          {
           "hoverinfo": "none",
           "marker": {
            "color": "rgb(255, 255, 255)",
            "line": {
             "color": "rgb(0, 0, 0)",
             "width": 2
            },
            "size": 20
           },
           "mode": "markers+text",
           "text": [],
           "textfont": {
            "color": "rgb(0, 0, 0)"
           },
           "textposition": "middle center",
           "x": [
            0.25
           ],
           "y": [
            1
           ]
          },
          {
           "hoverinfo": "none",
           "marker": {
            "color": "rgb(255, 255, 255)",
            "line": {
             "color": "rgb(0, 0, 0)",
             "width": 2
            },
            "size": 20
           },
           "mode": "markers+text",
           "text": [],
           "textfont": {
            "color": "rgb(0, 0, 0)"
           },
           "textposition": "middle center",
           "x": [
            0.5
           ],
           "y": [
            1
           ]
          },
          {
           "hoverinfo": "none",
           "marker": {
            "color": "rgb(255, 255, 255)",
            "line": {
             "color": "rgb(0, 0, 0)",
             "width": 2
            },
            "size": 20
           },
           "mode": "markers+text",
           "text": [],
           "textfont": {
            "color": "rgb(0, 0, 0)"
           },
           "textposition": "middle center",
           "x": [
            0.75
           ],
           "y": [
            1
           ]
          },
          {
           "hoverinfo": "none",
           "marker": {
            "color": "rgb(255, 255, 255)",
            "line": {
             "color": "rgb(0, 0, 0)",
             "width": 2
            },
            "size": 20
           },
           "mode": "markers+text",
           "text": [],
           "textfont": {
            "color": "rgb(0, 0, 0)"
           },
           "textposition": "middle center",
           "x": [
            1
           ],
           "y": [
            0.5
           ]
          },
          {
           "hoverinfo": "none",
           "marker": {
            "color": "rgb(255, 255, 255)",
            "line": {
             "color": "rgb(0, 0, 0)",
             "width": 2
            },
            "size": 20
           },
           "mode": "markers+text",
           "text": [],
           "textfont": {
            "color": "rgb(0, 0, 0)"
           },
           "textposition": "middle center",
           "x": [
            0.75
           ],
           "y": [
            0
           ]
          },
          {
           "hoverinfo": "none",
           "marker": {
            "color": "rgb(255, 255, 255)",
            "line": {
             "color": "rgb(0, 0, 0)",
             "width": 2
            },
            "size": 20
           },
           "mode": "markers+text",
           "text": [],
           "textfont": {
            "color": "rgb(0, 0, 0)"
           },
           "textposition": "middle center",
           "x": [
            0.5
           ],
           "y": [
            0
           ]
          },
          {
           "hoverinfo": "none",
           "marker": {
            "color": "rgb(255, 255, 255)",
            "line": {
             "color": "rgb(0, 0, 0)",
             "width": 2
            },
            "size": 20
           },
           "mode": "markers+text",
           "text": [],
           "textfont": {
            "color": "rgb(0, 0, 0)"
           },
           "textposition": "middle center",
           "x": [
            0.25
           ],
           "y": [
            0
           ]
          },
          {
           "hoverinfo": "none",
           "marker": {
            "color": "rgb(255, 255, 255)",
            "line": {
             "color": "rgb(0, 0, 0)",
             "width": 2
            },
            "size": 20
           },
           "mode": "markers+text",
           "text": [],
           "textfont": {
            "color": "rgb(0, 0, 0)"
           },
           "textposition": "middle center",
           "x": [
            0.375
           ],
           "y": [
            0.5
           ]
          },
          {
           "hoverinfo": "none",
           "mode": "text",
           "text": [
            4,
            8,
            8,
            11,
            7,
            4,
            2,
            9,
            14,
            10,
            2,
            1,
            6,
            7
           ],
           "textfont": {
            "color": "rgb(0, 0, 0)"
           },
           "textposition": "middle center",
           "x": [
            0.08835225700681207,
            0.16164774299318793,
            0.375,
            0.2878787878787879,
            0.625,
            0.6625594305323629,
            0.4750594305323629,
            0.911647742993188,
            0.7878787878787878,
            0.911647742993188,
            0.625,
            0.375,
            0.3999405694676371,
            0.2749405694676371
           ],
           "y": [
            0.768323871496594,
            0.268323871496594,
            1.0724637681159421,
            0.5,
            1.0724637681159421,
            0.5093898576330907,
            0.7406101423669093,
            0.768323871496594,
            0.5,
            0.23167612850340602,
            -0.07246376811594203,
            -0.07246376811594203,
            0.24061014236690928,
            0.2593898576330907
           ]
          }
         ],
         "name": 8
        },
        {
         "data": [
          {
           "hoverinfo": "none",
           "line": {
            "color": "rgb(0, 0, 255)",
            "width": 2
           },
           "mode": "lines",
           "x": [
            0,
            0.25,
            null
           ],
           "y": [
            0.5,
            1,
            null
           ]
          },
          {
           "hoverinfo": "none",
           "line": {
            "color": "rgb(0, 0, 0)",
            "width": 2
           },
           "mode": "lines",
           "x": [
            0,
            0.25,
            null
           ],
           "y": [
            0.5,
            0,
            null
           ]
          },
          {
           "hoverinfo": "none",
           "line": {
            "color": "rgb(0, 0, 0)",
            "width": 2
           },
           "mode": "lines",
           "x": [
            0.25,
            0.5,
            null
           ],
           "y": [
            1,
            1,
            null
           ]
          },
          {
           "hoverinfo": "none",
           "line": {
            "color": "rgb(0, 0, 0)",
            "width": 2
           },
           "mode": "lines",
           "x": [
            0.25,
            0.25,
            null
           ],
           "y": [
            1,
            0,
            null
           ]
          },
          {
           "hoverinfo": "none",
           "line": {
            "color": "rgb(0, 0, 0)",
            "width": 2
           },
           "mode": "lines",
           "x": [
            0.5,
            0.75,
            null
           ],
           "y": [
            1,
            1,
            null
           ]
          },
          {
           "hoverinfo": "none",
           "line": {
            "color": "rgb(255, 0, 0)",
            "width": 2
           },
           "mode": "lines",
           "x": [
            0.5,
            0.75,
            null
           ],
           "y": [
            1,
            0,
            null
           ]
          },
          {
           "hoverinfo": "none",
           "line": {
            "color": "rgb(0, 0, 255)",
            "width": 2
           },
           "mode": "lines",
           "x": [
            0.5,
            0.375,
            null
           ],
           "y": [
            1,
            0.5,
            null
           ]
          },
          {
           "hoverinfo": "none",
           "line": {
            "color": "rgb(0, 0, 0)",
            "width": 2
           },
           "mode": "lines",
           "x": [
            0.75,
            1,
            null
           ],
           "y": [
            1,
            0.5,
            null
           ]
          },
          {
           "hoverinfo": "none",
           "line": {
            "color": "rgb(0, 0, 0)",
            "width": 2
           },
           "mode": "lines",
           "x": [
            0.75,
            0.75,
            null
           ],
           "y": [
            1,
            0,
            null
           ]
          },
          {
           "hoverinfo": "none",
           "line": {
            "color": "rgb(0, 0, 0)",
            "width": 2
           },
           "mode": "lines",
           "x": [
            1,
            0.75,
            null
           ],
           "y": [
            0.5,
            0,
            null
           ]
          },
          {
           "hoverinfo": "none",
           "line": {
            "color": "rgb(0, 0, 255)",
            "width": 2
           },
           "mode": "lines",
           "x": [
            0.75,
            0.5,
            null
           ],
           "y": [
            0,
            0,
            null
           ]
          },
          {
           "hoverinfo": "none",
           "line": {
            "color": "rgb(0, 0, 255)",
            "width": 2
           },
           "mode": "lines",
           "x": [
            0.5,
            0.25,
            null
           ],
           "y": [
            0,
            0,
            null
           ]
          },
          {
           "hoverinfo": "none",
           "line": {
            "color": "rgb(0, 0, 0)",
            "width": 2
           },
           "mode": "lines",
           "x": [
            0.5,
            0.375,
            null
           ],
           "y": [
            0,
            0.5,
            null
           ]
          },
          {
           "hoverinfo": "none",
           "line": {
            "color": "rgb(0, 0, 0)",
            "width": 2
           },
           "mode": "lines",
           "x": [
            0.25,
            0.375,
            null
           ],
           "y": [
            0,
            0.5,
            null
           ]
          },
          {
           "hoverinfo": "none",
           "marker": {
            "color": "rgb(255, 255, 255)",
            "line": {
             "color": "rgb(0, 0, 0)",
             "width": 2
            },
            "size": 20
           },
           "mode": "markers+text",
           "text": [],
           "textfont": {
            "color": "rgb(0, 0, 0)"
           },
           "textposition": "middle center",
           "x": [
            0
           ],
           "y": [
            0.5
           ]
          },
          {
           "hoverinfo": "none",
           "marker": {
            "color": "rgb(255, 255, 255)",
            "line": {
             "color": "rgb(0, 0, 0)",
             "width": 2
            },
            "size": 20
           },
           "mode": "markers+text",
           "text": [],
           "textfont": {
            "color": "rgb(0, 0, 0)"
           },
           "textposition": "middle center",
           "x": [
            0.25
           ],
           "y": [
            1
           ]
          },
          {
           "hoverinfo": "none",
           "marker": {
            "color": "rgb(255, 255, 255)",
            "line": {
             "color": "rgb(0, 0, 0)",
             "width": 2
            },
            "size": 20
           },
           "mode": "markers+text",
           "text": [],
           "textfont": {
            "color": "rgb(0, 0, 0)"
           },
           "textposition": "middle center",
           "x": [
            0.5
           ],
           "y": [
            1
           ]
          },
          {
           "hoverinfo": "none",
           "marker": {
            "color": "rgb(255, 255, 255)",
            "line": {
             "color": "rgb(0, 0, 0)",
             "width": 2
            },
            "size": 20
           },
           "mode": "markers+text",
           "text": [],
           "textfont": {
            "color": "rgb(0, 0, 0)"
           },
           "textposition": "middle center",
           "x": [
            0.75
           ],
           "y": [
            1
           ]
          },
          {
           "hoverinfo": "none",
           "marker": {
            "color": "rgb(255, 255, 255)",
            "line": {
             "color": "rgb(0, 0, 0)",
             "width": 2
            },
            "size": 20
           },
           "mode": "markers+text",
           "text": [],
           "textfont": {
            "color": "rgb(0, 0, 0)"
           },
           "textposition": "middle center",
           "x": [
            1
           ],
           "y": [
            0.5
           ]
          },
          {
           "hoverinfo": "none",
           "marker": {
            "color": "rgb(255, 255, 255)",
            "line": {
             "color": "rgb(0, 0, 0)",
             "width": 2
            },
            "size": 20
           },
           "mode": "markers+text",
           "text": [],
           "textfont": {
            "color": "rgb(0, 0, 0)"
           },
           "textposition": "middle center",
           "x": [
            0.75
           ],
           "y": [
            0
           ]
          },
          {
           "hoverinfo": "none",
           "marker": {
            "color": "rgb(255, 255, 255)",
            "line": {
             "color": "rgb(0, 0, 0)",
             "width": 2
            },
            "size": 20
           },
           "mode": "markers+text",
           "text": [],
           "textfont": {
            "color": "rgb(0, 0, 0)"
           },
           "textposition": "middle center",
           "x": [
            0.5
           ],
           "y": [
            0
           ]
          },
          {
           "hoverinfo": "none",
           "marker": {
            "color": "rgb(255, 255, 255)",
            "line": {
             "color": "rgb(0, 0, 0)",
             "width": 2
            },
            "size": 20
           },
           "mode": "markers+text",
           "text": [],
           "textfont": {
            "color": "rgb(0, 0, 0)"
           },
           "textposition": "middle center",
           "x": [
            0.25
           ],
           "y": [
            0
           ]
          },
          {
           "hoverinfo": "none",
           "marker": {
            "color": "rgb(255, 255, 255)",
            "line": {
             "color": "rgb(0, 0, 0)",
             "width": 2
            },
            "size": 20
           },
           "mode": "markers+text",
           "text": [],
           "textfont": {
            "color": "rgb(0, 0, 0)"
           },
           "textposition": "middle center",
           "x": [
            0.375
           ],
           "y": [
            0.5
           ]
          },
          {
           "hoverinfo": "none",
           "mode": "text",
           "text": [
            4,
            8,
            8,
            11,
            7,
            4,
            2,
            9,
            14,
            10,
            2,
            1,
            6,
            7
           ],
           "textfont": {
            "color": "rgb(0, 0, 0)"
           },
           "textposition": "middle center",
           "x": [
            0.08835225700681207,
            0.16164774299318793,
            0.375,
            0.2878787878787879,
            0.625,
            0.6625594305323629,
            0.4750594305323629,
            0.911647742993188,
            0.7878787878787878,
            0.911647742993188,
            0.625,
            0.375,
            0.3999405694676371,
            0.2749405694676371
           ],
           "y": [
            0.768323871496594,
            0.268323871496594,
            1.0724637681159421,
            0.5,
            1.0724637681159421,
            0.5093898576330907,
            0.7406101423669093,
            0.768323871496594,
            0.5,
            0.23167612850340602,
            -0.07246376811594203,
            -0.07246376811594203,
            0.24061014236690928,
            0.2593898576330907
           ]
          }
         ],
         "name": 9
        },
        {
         "data": [
          {
           "hoverinfo": "none",
           "line": {
            "color": "rgb(0, 0, 255)",
            "width": 2
           },
           "mode": "lines",
           "x": [
            0,
            0.25,
            null
           ],
           "y": [
            0.5,
            1,
            null
           ]
          },
          {
           "hoverinfo": "none",
           "line": {
            "color": "rgb(0, 0, 0)",
            "width": 2
           },
           "mode": "lines",
           "x": [
            0,
            0.25,
            null
           ],
           "y": [
            0.5,
            0,
            null
           ]
          },
          {
           "hoverinfo": "none",
           "line": {
            "color": "rgb(0, 0, 0)",
            "width": 2
           },
           "mode": "lines",
           "x": [
            0.25,
            0.5,
            null
           ],
           "y": [
            1,
            1,
            null
           ]
          },
          {
           "hoverinfo": "none",
           "line": {
            "color": "rgb(0, 0, 0)",
            "width": 2
           },
           "mode": "lines",
           "x": [
            0.25,
            0.25,
            null
           ],
           "y": [
            1,
            0,
            null
           ]
          },
          {
           "hoverinfo": "none",
           "line": {
            "color": "rgb(0, 0, 0)",
            "width": 2
           },
           "mode": "lines",
           "x": [
            0.5,
            0.75,
            null
           ],
           "y": [
            1,
            1,
            null
           ]
          },
          {
           "hoverinfo": "none",
           "line": {
            "color": "rgb(0, 0, 255)",
            "width": 2
           },
           "mode": "lines",
           "x": [
            0.5,
            0.75,
            null
           ],
           "y": [
            1,
            0,
            null
           ]
          },
          {
           "hoverinfo": "none",
           "line": {
            "color": "rgb(0, 0, 255)",
            "width": 2
           },
           "mode": "lines",
           "x": [
            0.5,
            0.375,
            null
           ],
           "y": [
            1,
            0.5,
            null
           ]
          },
          {
           "hoverinfo": "none",
           "line": {
            "color": "rgb(0, 0, 0)",
            "width": 2
           },
           "mode": "lines",
           "x": [
            0.75,
            1,
            null
           ],
           "y": [
            1,
            0.5,
            null
           ]
          },
          {
           "hoverinfo": "none",
           "line": {
            "color": "rgb(0, 0, 0)",
            "width": 2
           },
           "mode": "lines",
           "x": [
            0.75,
            0.75,
            null
           ],
           "y": [
            1,
            0,
            null
           ]
          },
          {
           "hoverinfo": "none",
           "line": {
            "color": "rgb(0, 0, 0)",
            "width": 2
           },
           "mode": "lines",
           "x": [
            1,
            0.75,
            null
           ],
           "y": [
            0.5,
            0,
            null
           ]
          },
          {
           "hoverinfo": "none",
           "line": {
            "color": "rgb(0, 0, 255)",
            "width": 2
           },
           "mode": "lines",
           "x": [
            0.75,
            0.5,
            null
           ],
           "y": [
            0,
            0,
            null
           ]
          },
          {
           "hoverinfo": "none",
           "line": {
            "color": "rgb(0, 0, 255)",
            "width": 2
           },
           "mode": "lines",
           "x": [
            0.5,
            0.25,
            null
           ],
           "y": [
            0,
            0,
            null
           ]
          },
          {
           "hoverinfo": "none",
           "line": {
            "color": "rgb(0, 0, 0)",
            "width": 2
           },
           "mode": "lines",
           "x": [
            0.5,
            0.375,
            null
           ],
           "y": [
            0,
            0.5,
            null
           ]
          },
          {
           "hoverinfo": "none",
           "line": {
            "color": "rgb(0, 0, 0)",
            "width": 2
           },
           "mode": "lines",
           "x": [
            0.25,
            0.375,
            null
           ],
           "y": [
            0,
            0.5,
            null
           ]
          },
          {
           "hoverinfo": "none",
           "marker": {
            "color": "rgb(255, 255, 255)",
            "line": {
             "color": "rgb(0, 0, 0)",
             "width": 2
            },
            "size": 20
           },
           "mode": "markers+text",
           "text": [],
           "textfont": {
            "color": "rgb(0, 0, 0)"
           },
           "textposition": "middle center",
           "x": [
            0
           ],
           "y": [
            0.5
           ]
          },
          {
           "hoverinfo": "none",
           "marker": {
            "color": "rgb(255, 255, 255)",
            "line": {
             "color": "rgb(0, 0, 0)",
             "width": 2
            },
            "size": 20
           },
           "mode": "markers+text",
           "text": [],
           "textfont": {
            "color": "rgb(0, 0, 0)"
           },
           "textposition": "middle center",
           "x": [
            0.25
           ],
           "y": [
            1
           ]
          },
          {
           "hoverinfo": "none",
           "marker": {
            "color": "rgb(255, 255, 255)",
            "line": {
             "color": "rgb(0, 0, 0)",
             "width": 2
            },
            "size": 20
           },
           "mode": "markers+text",
           "text": [],
           "textfont": {
            "color": "rgb(0, 0, 0)"
           },
           "textposition": "middle center",
           "x": [
            0.5
           ],
           "y": [
            1
           ]
          },
          {
           "hoverinfo": "none",
           "marker": {
            "color": "rgb(255, 255, 255)",
            "line": {
             "color": "rgb(0, 0, 0)",
             "width": 2
            },
            "size": 20
           },
           "mode": "markers+text",
           "text": [],
           "textfont": {
            "color": "rgb(0, 0, 0)"
           },
           "textposition": "middle center",
           "x": [
            0.75
           ],
           "y": [
            1
           ]
          },
          {
           "hoverinfo": "none",
           "marker": {
            "color": "rgb(255, 255, 255)",
            "line": {
             "color": "rgb(0, 0, 0)",
             "width": 2
            },
            "size": 20
           },
           "mode": "markers+text",
           "text": [],
           "textfont": {
            "color": "rgb(0, 0, 0)"
           },
           "textposition": "middle center",
           "x": [
            1
           ],
           "y": [
            0.5
           ]
          },
          {
           "hoverinfo": "none",
           "marker": {
            "color": "rgb(255, 255, 255)",
            "line": {
             "color": "rgb(0, 0, 0)",
             "width": 2
            },
            "size": 20
           },
           "mode": "markers+text",
           "text": [],
           "textfont": {
            "color": "rgb(0, 0, 0)"
           },
           "textposition": "middle center",
           "x": [
            0.75
           ],
           "y": [
            0
           ]
          },
          {
           "hoverinfo": "none",
           "marker": {
            "color": "rgb(255, 255, 255)",
            "line": {
             "color": "rgb(0, 0, 0)",
             "width": 2
            },
            "size": 20
           },
           "mode": "markers+text",
           "text": [],
           "textfont": {
            "color": "rgb(0, 0, 0)"
           },
           "textposition": "middle center",
           "x": [
            0.5
           ],
           "y": [
            0
           ]
          },
          {
           "hoverinfo": "none",
           "marker": {
            "color": "rgb(255, 255, 255)",
            "line": {
             "color": "rgb(0, 0, 0)",
             "width": 2
            },
            "size": 20
           },
           "mode": "markers+text",
           "text": [],
           "textfont": {
            "color": "rgb(0, 0, 0)"
           },
           "textposition": "middle center",
           "x": [
            0.25
           ],
           "y": [
            0
           ]
          },
          {
           "hoverinfo": "none",
           "marker": {
            "color": "rgb(255, 255, 255)",
            "line": {
             "color": "rgb(0, 0, 0)",
             "width": 2
            },
            "size": 20
           },
           "mode": "markers+text",
           "text": [],
           "textfont": {
            "color": "rgb(0, 0, 0)"
           },
           "textposition": "middle center",
           "x": [
            0.375
           ],
           "y": [
            0.5
           ]
          },
          {
           "hoverinfo": "none",
           "mode": "text",
           "text": [
            4,
            8,
            8,
            11,
            7,
            4,
            2,
            9,
            14,
            10,
            2,
            1,
            6,
            7
           ],
           "textfont": {
            "color": "rgb(0, 0, 0)"
           },
           "textposition": "middle center",
           "x": [
            0.08835225700681207,
            0.16164774299318793,
            0.375,
            0.2878787878787879,
            0.625,
            0.6625594305323629,
            0.4750594305323629,
            0.911647742993188,
            0.7878787878787878,
            0.911647742993188,
            0.625,
            0.375,
            0.3999405694676371,
            0.2749405694676371
           ],
           "y": [
            0.768323871496594,
            0.268323871496594,
            1.0724637681159421,
            0.5,
            1.0724637681159421,
            0.5093898576330907,
            0.7406101423669093,
            0.768323871496594,
            0.5,
            0.23167612850340602,
            -0.07246376811594203,
            -0.07246376811594203,
            0.24061014236690928,
            0.2593898576330907
           ]
          }
         ],
         "name": 10
        },
        {
         "data": [
          {
           "hoverinfo": "none",
           "line": {
            "color": "rgb(0, 0, 255)",
            "width": 2
           },
           "mode": "lines",
           "x": [
            0,
            0.25,
            null
           ],
           "y": [
            0.5,
            1,
            null
           ]
          },
          {
           "hoverinfo": "none",
           "line": {
            "color": "rgb(0, 0, 0)",
            "width": 2
           },
           "mode": "lines",
           "x": [
            0,
            0.25,
            null
           ],
           "y": [
            0.5,
            0,
            null
           ]
          },
          {
           "hoverinfo": "none",
           "line": {
            "color": "rgb(0, 0, 0)",
            "width": 2
           },
           "mode": "lines",
           "x": [
            0.25,
            0.5,
            null
           ],
           "y": [
            1,
            1,
            null
           ]
          },
          {
           "hoverinfo": "none",
           "line": {
            "color": "rgb(0, 0, 0)",
            "width": 2
           },
           "mode": "lines",
           "x": [
            0.25,
            0.25,
            null
           ],
           "y": [
            1,
            0,
            null
           ]
          },
          {
           "hoverinfo": "none",
           "line": {
            "color": "rgb(0, 0, 0)",
            "width": 2
           },
           "mode": "lines",
           "x": [
            0.5,
            0.75,
            null
           ],
           "y": [
            1,
            1,
            null
           ]
          },
          {
           "hoverinfo": "none",
           "line": {
            "color": "rgb(0, 0, 255)",
            "width": 2
           },
           "mode": "lines",
           "x": [
            0.5,
            0.75,
            null
           ],
           "y": [
            1,
            0,
            null
           ]
          },
          {
           "hoverinfo": "none",
           "line": {
            "color": "rgb(0, 0, 255)",
            "width": 2
           },
           "mode": "lines",
           "x": [
            0.5,
            0.375,
            null
           ],
           "y": [
            1,
            0.5,
            null
           ]
          },
          {
           "hoverinfo": "none",
           "line": {
            "color": "rgb(0, 0, 0)",
            "width": 2
           },
           "mode": "lines",
           "x": [
            0.75,
            1,
            null
           ],
           "y": [
            1,
            0.5,
            null
           ]
          },
          {
           "hoverinfo": "none",
           "line": {
            "color": "rgb(0, 0, 0)",
            "width": 2
           },
           "mode": "lines",
           "x": [
            0.75,
            0.75,
            null
           ],
           "y": [
            1,
            0,
            null
           ]
          },
          {
           "hoverinfo": "none",
           "line": {
            "color": "rgb(0, 0, 0)",
            "width": 2
           },
           "mode": "lines",
           "x": [
            1,
            0.75,
            null
           ],
           "y": [
            0.5,
            0,
            null
           ]
          },
          {
           "hoverinfo": "none",
           "line": {
            "color": "rgb(0, 0, 255)",
            "width": 2
           },
           "mode": "lines",
           "x": [
            0.75,
            0.5,
            null
           ],
           "y": [
            0,
            0,
            null
           ]
          },
          {
           "hoverinfo": "none",
           "line": {
            "color": "rgb(0, 0, 255)",
            "width": 2
           },
           "mode": "lines",
           "x": [
            0.5,
            0.25,
            null
           ],
           "y": [
            0,
            0,
            null
           ]
          },
          {
           "hoverinfo": "none",
           "line": {
            "color": "rgb(255, 0, 0)",
            "width": 2
           },
           "mode": "lines",
           "x": [
            0.5,
            0.375,
            null
           ],
           "y": [
            0,
            0.5,
            null
           ]
          },
          {
           "hoverinfo": "none",
           "line": {
            "color": "rgb(0, 0, 0)",
            "width": 2
           },
           "mode": "lines",
           "x": [
            0.25,
            0.375,
            null
           ],
           "y": [
            0,
            0.5,
            null
           ]
          },
          {
           "hoverinfo": "none",
           "marker": {
            "color": "rgb(255, 255, 255)",
            "line": {
             "color": "rgb(0, 0, 0)",
             "width": 2
            },
            "size": 20
           },
           "mode": "markers+text",
           "text": [],
           "textfont": {
            "color": "rgb(0, 0, 0)"
           },
           "textposition": "middle center",
           "x": [
            0
           ],
           "y": [
            0.5
           ]
          },
          {
           "hoverinfo": "none",
           "marker": {
            "color": "rgb(255, 255, 255)",
            "line": {
             "color": "rgb(0, 0, 0)",
             "width": 2
            },
            "size": 20
           },
           "mode": "markers+text",
           "text": [],
           "textfont": {
            "color": "rgb(0, 0, 0)"
           },
           "textposition": "middle center",
           "x": [
            0.25
           ],
           "y": [
            1
           ]
          },
          {
           "hoverinfo": "none",
           "marker": {
            "color": "rgb(255, 255, 255)",
            "line": {
             "color": "rgb(0, 0, 0)",
             "width": 2
            },
            "size": 20
           },
           "mode": "markers+text",
           "text": [],
           "textfont": {
            "color": "rgb(0, 0, 0)"
           },
           "textposition": "middle center",
           "x": [
            0.5
           ],
           "y": [
            1
           ]
          },
          {
           "hoverinfo": "none",
           "marker": {
            "color": "rgb(255, 255, 255)",
            "line": {
             "color": "rgb(0, 0, 0)",
             "width": 2
            },
            "size": 20
           },
           "mode": "markers+text",
           "text": [],
           "textfont": {
            "color": "rgb(0, 0, 0)"
           },
           "textposition": "middle center",
           "x": [
            0.75
           ],
           "y": [
            1
           ]
          },
          {
           "hoverinfo": "none",
           "marker": {
            "color": "rgb(255, 255, 255)",
            "line": {
             "color": "rgb(0, 0, 0)",
             "width": 2
            },
            "size": 20
           },
           "mode": "markers+text",
           "text": [],
           "textfont": {
            "color": "rgb(0, 0, 0)"
           },
           "textposition": "middle center",
           "x": [
            1
           ],
           "y": [
            0.5
           ]
          },
          {
           "hoverinfo": "none",
           "marker": {
            "color": "rgb(255, 255, 255)",
            "line": {
             "color": "rgb(0, 0, 0)",
             "width": 2
            },
            "size": 20
           },
           "mode": "markers+text",
           "text": [],
           "textfont": {
            "color": "rgb(0, 0, 0)"
           },
           "textposition": "middle center",
           "x": [
            0.75
           ],
           "y": [
            0
           ]
          },
          {
           "hoverinfo": "none",
           "marker": {
            "color": "rgb(255, 255, 255)",
            "line": {
             "color": "rgb(0, 0, 0)",
             "width": 2
            },
            "size": 20
           },
           "mode": "markers+text",
           "text": [],
           "textfont": {
            "color": "rgb(0, 0, 0)"
           },
           "textposition": "middle center",
           "x": [
            0.5
           ],
           "y": [
            0
           ]
          },
          {
           "hoverinfo": "none",
           "marker": {
            "color": "rgb(255, 255, 255)",
            "line": {
             "color": "rgb(0, 0, 0)",
             "width": 2
            },
            "size": 20
           },
           "mode": "markers+text",
           "text": [],
           "textfont": {
            "color": "rgb(0, 0, 0)"
           },
           "textposition": "middle center",
           "x": [
            0.25
           ],
           "y": [
            0
           ]
          },
          {
           "hoverinfo": "none",
           "marker": {
            "color": "rgb(255, 255, 255)",
            "line": {
             "color": "rgb(0, 0, 0)",
             "width": 2
            },
            "size": 20
           },
           "mode": "markers+text",
           "text": [],
           "textfont": {
            "color": "rgb(0, 0, 0)"
           },
           "textposition": "middle center",
           "x": [
            0.375
           ],
           "y": [
            0.5
           ]
          },
          {
           "hoverinfo": "none",
           "mode": "text",
           "text": [
            4,
            8,
            8,
            11,
            7,
            4,
            2,
            9,
            14,
            10,
            2,
            1,
            6,
            7
           ],
           "textfont": {
            "color": "rgb(0, 0, 0)"
           },
           "textposition": "middle center",
           "x": [
            0.08835225700681207,
            0.16164774299318793,
            0.375,
            0.2878787878787879,
            0.625,
            0.6625594305323629,
            0.4750594305323629,
            0.911647742993188,
            0.7878787878787878,
            0.911647742993188,
            0.625,
            0.375,
            0.3999405694676371,
            0.2749405694676371
           ],
           "y": [
            0.768323871496594,
            0.268323871496594,
            1.0724637681159421,
            0.5,
            1.0724637681159421,
            0.5093898576330907,
            0.7406101423669093,
            0.768323871496594,
            0.5,
            0.23167612850340602,
            -0.07246376811594203,
            -0.07246376811594203,
            0.24061014236690928,
            0.2593898576330907
           ]
          }
         ],
         "name": 11
        },
        {
         "data": [
          {
           "hoverinfo": "none",
           "line": {
            "color": "rgb(0, 0, 255)",
            "width": 2
           },
           "mode": "lines",
           "x": [
            0,
            0.25,
            null
           ],
           "y": [
            0.5,
            1,
            null
           ]
          },
          {
           "hoverinfo": "none",
           "line": {
            "color": "rgb(0, 0, 0)",
            "width": 2
           },
           "mode": "lines",
           "x": [
            0,
            0.25,
            null
           ],
           "y": [
            0.5,
            0,
            null
           ]
          },
          {
           "hoverinfo": "none",
           "line": {
            "color": "rgb(0, 0, 0)",
            "width": 2
           },
           "mode": "lines",
           "x": [
            0.25,
            0.5,
            null
           ],
           "y": [
            1,
            1,
            null
           ]
          },
          {
           "hoverinfo": "none",
           "line": {
            "color": "rgb(0, 0, 0)",
            "width": 2
           },
           "mode": "lines",
           "x": [
            0.25,
            0.25,
            null
           ],
           "y": [
            1,
            0,
            null
           ]
          },
          {
           "hoverinfo": "none",
           "line": {
            "color": "rgb(0, 0, 0)",
            "width": 2
           },
           "mode": "lines",
           "x": [
            0.5,
            0.75,
            null
           ],
           "y": [
            1,
            1,
            null
           ]
          },
          {
           "hoverinfo": "none",
           "line": {
            "color": "rgb(0, 0, 255)",
            "width": 2
           },
           "mode": "lines",
           "x": [
            0.5,
            0.75,
            null
           ],
           "y": [
            1,
            0,
            null
           ]
          },
          {
           "hoverinfo": "none",
           "line": {
            "color": "rgb(0, 0, 255)",
            "width": 2
           },
           "mode": "lines",
           "x": [
            0.5,
            0.375,
            null
           ],
           "y": [
            1,
            0.5,
            null
           ]
          },
          {
           "hoverinfo": "none",
           "line": {
            "color": "rgb(0, 0, 0)",
            "width": 2
           },
           "mode": "lines",
           "x": [
            0.75,
            1,
            null
           ],
           "y": [
            1,
            0.5,
            null
           ]
          },
          {
           "hoverinfo": "none",
           "line": {
            "color": "rgb(0, 0, 0)",
            "width": 2
           },
           "mode": "lines",
           "x": [
            0.75,
            0.75,
            null
           ],
           "y": [
            1,
            0,
            null
           ]
          },
          {
           "hoverinfo": "none",
           "line": {
            "color": "rgb(0, 0, 0)",
            "width": 2
           },
           "mode": "lines",
           "x": [
            1,
            0.75,
            null
           ],
           "y": [
            0.5,
            0,
            null
           ]
          },
          {
           "hoverinfo": "none",
           "line": {
            "color": "rgb(0, 0, 255)",
            "width": 2
           },
           "mode": "lines",
           "x": [
            0.75,
            0.5,
            null
           ],
           "y": [
            0,
            0,
            null
           ]
          },
          {
           "hoverinfo": "none",
           "line": {
            "color": "rgb(0, 0, 255)",
            "width": 2
           },
           "mode": "lines",
           "x": [
            0.5,
            0.25,
            null
           ],
           "y": [
            0,
            0,
            null
           ]
          },
          {
           "hoverinfo": "none",
           "line": {
            "color": "rgb(0, 0, 0)",
            "width": 2
           },
           "mode": "lines",
           "x": [
            0.5,
            0.375,
            null
           ],
           "y": [
            0,
            0.5,
            null
           ]
          },
          {
           "hoverinfo": "none",
           "line": {
            "color": "rgb(0, 0, 0)",
            "width": 2
           },
           "mode": "lines",
           "x": [
            0.25,
            0.375,
            null
           ],
           "y": [
            0,
            0.5,
            null
           ]
          },
          {
           "hoverinfo": "none",
           "marker": {
            "color": "rgb(255, 255, 255)",
            "line": {
             "color": "rgb(0, 0, 0)",
             "width": 2
            },
            "size": 20
           },
           "mode": "markers+text",
           "text": [],
           "textfont": {
            "color": "rgb(0, 0, 0)"
           },
           "textposition": "middle center",
           "x": [
            0
           ],
           "y": [
            0.5
           ]
          },
          {
           "hoverinfo": "none",
           "marker": {
            "color": "rgb(255, 255, 255)",
            "line": {
             "color": "rgb(0, 0, 0)",
             "width": 2
            },
            "size": 20
           },
           "mode": "markers+text",
           "text": [],
           "textfont": {
            "color": "rgb(0, 0, 0)"
           },
           "textposition": "middle center",
           "x": [
            0.25
           ],
           "y": [
            1
           ]
          },
          {
           "hoverinfo": "none",
           "marker": {
            "color": "rgb(255, 255, 255)",
            "line": {
             "color": "rgb(0, 0, 0)",
             "width": 2
            },
            "size": 20
           },
           "mode": "markers+text",
           "text": [],
           "textfont": {
            "color": "rgb(0, 0, 0)"
           },
           "textposition": "middle center",
           "x": [
            0.5
           ],
           "y": [
            1
           ]
          },
          {
           "hoverinfo": "none",
           "marker": {
            "color": "rgb(255, 255, 255)",
            "line": {
             "color": "rgb(0, 0, 0)",
             "width": 2
            },
            "size": 20
           },
           "mode": "markers+text",
           "text": [],
           "textfont": {
            "color": "rgb(0, 0, 0)"
           },
           "textposition": "middle center",
           "x": [
            0.75
           ],
           "y": [
            1
           ]
          },
          {
           "hoverinfo": "none",
           "marker": {
            "color": "rgb(255, 255, 255)",
            "line": {
             "color": "rgb(0, 0, 0)",
             "width": 2
            },
            "size": 20
           },
           "mode": "markers+text",
           "text": [],
           "textfont": {
            "color": "rgb(0, 0, 0)"
           },
           "textposition": "middle center",
           "x": [
            1
           ],
           "y": [
            0.5
           ]
          },
          {
           "hoverinfo": "none",
           "marker": {
            "color": "rgb(255, 255, 255)",
            "line": {
             "color": "rgb(0, 0, 0)",
             "width": 2
            },
            "size": 20
           },
           "mode": "markers+text",
           "text": [],
           "textfont": {
            "color": "rgb(0, 0, 0)"
           },
           "textposition": "middle center",
           "x": [
            0.75
           ],
           "y": [
            0
           ]
          },
          {
           "hoverinfo": "none",
           "marker": {
            "color": "rgb(255, 255, 255)",
            "line": {
             "color": "rgb(0, 0, 0)",
             "width": 2
            },
            "size": 20
           },
           "mode": "markers+text",
           "text": [],
           "textfont": {
            "color": "rgb(0, 0, 0)"
           },
           "textposition": "middle center",
           "x": [
            0.5
           ],
           "y": [
            0
           ]
          },
          {
           "hoverinfo": "none",
           "marker": {
            "color": "rgb(255, 255, 255)",
            "line": {
             "color": "rgb(0, 0, 0)",
             "width": 2
            },
            "size": 20
           },
           "mode": "markers+text",
           "text": [],
           "textfont": {
            "color": "rgb(0, 0, 0)"
           },
           "textposition": "middle center",
           "x": [
            0.25
           ],
           "y": [
            0
           ]
          },
          {
           "hoverinfo": "none",
           "marker": {
            "color": "rgb(255, 255, 255)",
            "line": {
             "color": "rgb(0, 0, 0)",
             "width": 2
            },
            "size": 20
           },
           "mode": "markers+text",
           "text": [],
           "textfont": {
            "color": "rgb(0, 0, 0)"
           },
           "textposition": "middle center",
           "x": [
            0.375
           ],
           "y": [
            0.5
           ]
          },
          {
           "hoverinfo": "none",
           "mode": "text",
           "text": [
            4,
            8,
            8,
            11,
            7,
            4,
            2,
            9,
            14,
            10,
            2,
            1,
            6,
            7
           ],
           "textfont": {
            "color": "rgb(0, 0, 0)"
           },
           "textposition": "middle center",
           "x": [
            0.08835225700681207,
            0.16164774299318793,
            0.375,
            0.2878787878787879,
            0.625,
            0.6625594305323629,
            0.4750594305323629,
            0.911647742993188,
            0.7878787878787878,
            0.911647742993188,
            0.625,
            0.375,
            0.3999405694676371,
            0.2749405694676371
           ],
           "y": [
            0.768323871496594,
            0.268323871496594,
            1.0724637681159421,
            0.5,
            1.0724637681159421,
            0.5093898576330907,
            0.7406101423669093,
            0.768323871496594,
            0.5,
            0.23167612850340602,
            -0.07246376811594203,
            -0.07246376811594203,
            0.24061014236690928,
            0.2593898576330907
           ]
          }
         ],
         "name": 12
        },
        {
         "data": [
          {
           "hoverinfo": "none",
           "line": {
            "color": "rgb(0, 0, 255)",
            "width": 2
           },
           "mode": "lines",
           "x": [
            0,
            0.25,
            null
           ],
           "y": [
            0.5,
            1,
            null
           ]
          },
          {
           "hoverinfo": "none",
           "line": {
            "color": "rgb(0, 0, 0)",
            "width": 2
           },
           "mode": "lines",
           "x": [
            0,
            0.25,
            null
           ],
           "y": [
            0.5,
            0,
            null
           ]
          },
          {
           "hoverinfo": "none",
           "line": {
            "color": "rgb(0, 0, 0)",
            "width": 2
           },
           "mode": "lines",
           "x": [
            0.25,
            0.5,
            null
           ],
           "y": [
            1,
            1,
            null
           ]
          },
          {
           "hoverinfo": "none",
           "line": {
            "color": "rgb(0, 0, 0)",
            "width": 2
           },
           "mode": "lines",
           "x": [
            0.25,
            0.25,
            null
           ],
           "y": [
            1,
            0,
            null
           ]
          },
          {
           "hoverinfo": "none",
           "line": {
            "color": "rgb(255, 0, 0)",
            "width": 2
           },
           "mode": "lines",
           "x": [
            0.5,
            0.75,
            null
           ],
           "y": [
            1,
            1,
            null
           ]
          },
          {
           "hoverinfo": "none",
           "line": {
            "color": "rgb(0, 0, 255)",
            "width": 2
           },
           "mode": "lines",
           "x": [
            0.5,
            0.75,
            null
           ],
           "y": [
            1,
            0,
            null
           ]
          },
          {
           "hoverinfo": "none",
           "line": {
            "color": "rgb(0, 0, 255)",
            "width": 2
           },
           "mode": "lines",
           "x": [
            0.5,
            0.375,
            null
           ],
           "y": [
            1,
            0.5,
            null
           ]
          },
          {
           "hoverinfo": "none",
           "line": {
            "color": "rgb(0, 0, 0)",
            "width": 2
           },
           "mode": "lines",
           "x": [
            0.75,
            1,
            null
           ],
           "y": [
            1,
            0.5,
            null
           ]
          },
          {
           "hoverinfo": "none",
           "line": {
            "color": "rgb(0, 0, 0)",
            "width": 2
           },
           "mode": "lines",
           "x": [
            0.75,
            0.75,
            null
           ],
           "y": [
            1,
            0,
            null
           ]
          },
          {
           "hoverinfo": "none",
           "line": {
            "color": "rgb(0, 0, 0)",
            "width": 2
           },
           "mode": "lines",
           "x": [
            1,
            0.75,
            null
           ],
           "y": [
            0.5,
            0,
            null
           ]
          },
          {
           "hoverinfo": "none",
           "line": {
            "color": "rgb(0, 0, 255)",
            "width": 2
           },
           "mode": "lines",
           "x": [
            0.75,
            0.5,
            null
           ],
           "y": [
            0,
            0,
            null
           ]
          },
          {
           "hoverinfo": "none",
           "line": {
            "color": "rgb(0, 0, 255)",
            "width": 2
           },
           "mode": "lines",
           "x": [
            0.5,
            0.25,
            null
           ],
           "y": [
            0,
            0,
            null
           ]
          },
          {
           "hoverinfo": "none",
           "line": {
            "color": "rgb(0, 0, 0)",
            "width": 2
           },
           "mode": "lines",
           "x": [
            0.5,
            0.375,
            null
           ],
           "y": [
            0,
            0.5,
            null
           ]
          },
          {
           "hoverinfo": "none",
           "line": {
            "color": "rgb(0, 0, 0)",
            "width": 2
           },
           "mode": "lines",
           "x": [
            0.25,
            0.375,
            null
           ],
           "y": [
            0,
            0.5,
            null
           ]
          },
          {
           "hoverinfo": "none",
           "marker": {
            "color": "rgb(255, 255, 255)",
            "line": {
             "color": "rgb(0, 0, 0)",
             "width": 2
            },
            "size": 20
           },
           "mode": "markers+text",
           "text": [],
           "textfont": {
            "color": "rgb(0, 0, 0)"
           },
           "textposition": "middle center",
           "x": [
            0
           ],
           "y": [
            0.5
           ]
          },
          {
           "hoverinfo": "none",
           "marker": {
            "color": "rgb(255, 255, 255)",
            "line": {
             "color": "rgb(0, 0, 0)",
             "width": 2
            },
            "size": 20
           },
           "mode": "markers+text",
           "text": [],
           "textfont": {
            "color": "rgb(0, 0, 0)"
           },
           "textposition": "middle center",
           "x": [
            0.25
           ],
           "y": [
            1
           ]
          },
          {
           "hoverinfo": "none",
           "marker": {
            "color": "rgb(255, 255, 255)",
            "line": {
             "color": "rgb(0, 0, 0)",
             "width": 2
            },
            "size": 20
           },
           "mode": "markers+text",
           "text": [],
           "textfont": {
            "color": "rgb(0, 0, 0)"
           },
           "textposition": "middle center",
           "x": [
            0.5
           ],
           "y": [
            1
           ]
          },
          {
           "hoverinfo": "none",
           "marker": {
            "color": "rgb(255, 255, 255)",
            "line": {
             "color": "rgb(0, 0, 0)",
             "width": 2
            },
            "size": 20
           },
           "mode": "markers+text",
           "text": [],
           "textfont": {
            "color": "rgb(0, 0, 0)"
           },
           "textposition": "middle center",
           "x": [
            0.75
           ],
           "y": [
            1
           ]
          },
          {
           "hoverinfo": "none",
           "marker": {
            "color": "rgb(255, 255, 255)",
            "line": {
             "color": "rgb(0, 0, 0)",
             "width": 2
            },
            "size": 20
           },
           "mode": "markers+text",
           "text": [],
           "textfont": {
            "color": "rgb(0, 0, 0)"
           },
           "textposition": "middle center",
           "x": [
            1
           ],
           "y": [
            0.5
           ]
          },
          {
           "hoverinfo": "none",
           "marker": {
            "color": "rgb(255, 255, 255)",
            "line": {
             "color": "rgb(0, 0, 0)",
             "width": 2
            },
            "size": 20
           },
           "mode": "markers+text",
           "text": [],
           "textfont": {
            "color": "rgb(0, 0, 0)"
           },
           "textposition": "middle center",
           "x": [
            0.75
           ],
           "y": [
            0
           ]
          },
          {
           "hoverinfo": "none",
           "marker": {
            "color": "rgb(255, 255, 255)",
            "line": {
             "color": "rgb(0, 0, 0)",
             "width": 2
            },
            "size": 20
           },
           "mode": "markers+text",
           "text": [],
           "textfont": {
            "color": "rgb(0, 0, 0)"
           },
           "textposition": "middle center",
           "x": [
            0.5
           ],
           "y": [
            0
           ]
          },
          {
           "hoverinfo": "none",
           "marker": {
            "color": "rgb(255, 255, 255)",
            "line": {
             "color": "rgb(0, 0, 0)",
             "width": 2
            },
            "size": 20
           },
           "mode": "markers+text",
           "text": [],
           "textfont": {
            "color": "rgb(0, 0, 0)"
           },
           "textposition": "middle center",
           "x": [
            0.25
           ],
           "y": [
            0
           ]
          },
          {
           "hoverinfo": "none",
           "marker": {
            "color": "rgb(255, 255, 255)",
            "line": {
             "color": "rgb(0, 0, 0)",
             "width": 2
            },
            "size": 20
           },
           "mode": "markers+text",
           "text": [],
           "textfont": {
            "color": "rgb(0, 0, 0)"
           },
           "textposition": "middle center",
           "x": [
            0.375
           ],
           "y": [
            0.5
           ]
          },
          {
           "hoverinfo": "none",
           "mode": "text",
           "text": [
            4,
            8,
            8,
            11,
            7,
            4,
            2,
            9,
            14,
            10,
            2,
            1,
            6,
            7
           ],
           "textfont": {
            "color": "rgb(0, 0, 0)"
           },
           "textposition": "middle center",
           "x": [
            0.08835225700681207,
            0.16164774299318793,
            0.375,
            0.2878787878787879,
            0.625,
            0.6625594305323629,
            0.4750594305323629,
            0.911647742993188,
            0.7878787878787878,
            0.911647742993188,
            0.625,
            0.375,
            0.3999405694676371,
            0.2749405694676371
           ],
           "y": [
            0.768323871496594,
            0.268323871496594,
            1.0724637681159421,
            0.5,
            1.0724637681159421,
            0.5093898576330907,
            0.7406101423669093,
            0.768323871496594,
            0.5,
            0.23167612850340602,
            -0.07246376811594203,
            -0.07246376811594203,
            0.24061014236690928,
            0.2593898576330907
           ]
          }
         ],
         "name": 13
        },
        {
         "data": [
          {
           "hoverinfo": "none",
           "line": {
            "color": "rgb(0, 0, 255)",
            "width": 2
           },
           "mode": "lines",
           "x": [
            0,
            0.25,
            null
           ],
           "y": [
            0.5,
            1,
            null
           ]
          },
          {
           "hoverinfo": "none",
           "line": {
            "color": "rgb(0, 0, 0)",
            "width": 2
           },
           "mode": "lines",
           "x": [
            0,
            0.25,
            null
           ],
           "y": [
            0.5,
            0,
            null
           ]
          },
          {
           "hoverinfo": "none",
           "line": {
            "color": "rgb(0, 0, 0)",
            "width": 2
           },
           "mode": "lines",
           "x": [
            0.25,
            0.5,
            null
           ],
           "y": [
            1,
            1,
            null
           ]
          },
          {
           "hoverinfo": "none",
           "line": {
            "color": "rgb(0, 0, 0)",
            "width": 2
           },
           "mode": "lines",
           "x": [
            0.25,
            0.25,
            null
           ],
           "y": [
            1,
            0,
            null
           ]
          },
          {
           "hoverinfo": "none",
           "line": {
            "color": "rgb(0, 0, 255)",
            "width": 2
           },
           "mode": "lines",
           "x": [
            0.5,
            0.75,
            null
           ],
           "y": [
            1,
            1,
            null
           ]
          },
          {
           "hoverinfo": "none",
           "line": {
            "color": "rgb(0, 0, 255)",
            "width": 2
           },
           "mode": "lines",
           "x": [
            0.5,
            0.75,
            null
           ],
           "y": [
            1,
            0,
            null
           ]
          },
          {
           "hoverinfo": "none",
           "line": {
            "color": "rgb(0, 0, 255)",
            "width": 2
           },
           "mode": "lines",
           "x": [
            0.5,
            0.375,
            null
           ],
           "y": [
            1,
            0.5,
            null
           ]
          },
          {
           "hoverinfo": "none",
           "line": {
            "color": "rgb(0, 0, 0)",
            "width": 2
           },
           "mode": "lines",
           "x": [
            0.75,
            1,
            null
           ],
           "y": [
            1,
            0.5,
            null
           ]
          },
          {
           "hoverinfo": "none",
           "line": {
            "color": "rgb(0, 0, 0)",
            "width": 2
           },
           "mode": "lines",
           "x": [
            0.75,
            0.75,
            null
           ],
           "y": [
            1,
            0,
            null
           ]
          },
          {
           "hoverinfo": "none",
           "line": {
            "color": "rgb(0, 0, 0)",
            "width": 2
           },
           "mode": "lines",
           "x": [
            1,
            0.75,
            null
           ],
           "y": [
            0.5,
            0,
            null
           ]
          },
          {
           "hoverinfo": "none",
           "line": {
            "color": "rgb(0, 0, 255)",
            "width": 2
           },
           "mode": "lines",
           "x": [
            0.75,
            0.5,
            null
           ],
           "y": [
            0,
            0,
            null
           ]
          },
          {
           "hoverinfo": "none",
           "line": {
            "color": "rgb(0, 0, 255)",
            "width": 2
           },
           "mode": "lines",
           "x": [
            0.5,
            0.25,
            null
           ],
           "y": [
            0,
            0,
            null
           ]
          },
          {
           "hoverinfo": "none",
           "line": {
            "color": "rgb(0, 0, 0)",
            "width": 2
           },
           "mode": "lines",
           "x": [
            0.5,
            0.375,
            null
           ],
           "y": [
            0,
            0.5,
            null
           ]
          },
          {
           "hoverinfo": "none",
           "line": {
            "color": "rgb(0, 0, 0)",
            "width": 2
           },
           "mode": "lines",
           "x": [
            0.25,
            0.375,
            null
           ],
           "y": [
            0,
            0.5,
            null
           ]
          },
          {
           "hoverinfo": "none",
           "marker": {
            "color": "rgb(255, 255, 255)",
            "line": {
             "color": "rgb(0, 0, 0)",
             "width": 2
            },
            "size": 20
           },
           "mode": "markers+text",
           "text": [],
           "textfont": {
            "color": "rgb(0, 0, 0)"
           },
           "textposition": "middle center",
           "x": [
            0
           ],
           "y": [
            0.5
           ]
          },
          {
           "hoverinfo": "none",
           "marker": {
            "color": "rgb(255, 255, 255)",
            "line": {
             "color": "rgb(0, 0, 0)",
             "width": 2
            },
            "size": 20
           },
           "mode": "markers+text",
           "text": [],
           "textfont": {
            "color": "rgb(0, 0, 0)"
           },
           "textposition": "middle center",
           "x": [
            0.25
           ],
           "y": [
            1
           ]
          },
          {
           "hoverinfo": "none",
           "marker": {
            "color": "rgb(255, 255, 255)",
            "line": {
             "color": "rgb(0, 0, 0)",
             "width": 2
            },
            "size": 20
           },
           "mode": "markers+text",
           "text": [],
           "textfont": {
            "color": "rgb(0, 0, 0)"
           },
           "textposition": "middle center",
           "x": [
            0.5
           ],
           "y": [
            1
           ]
          },
          {
           "hoverinfo": "none",
           "marker": {
            "color": "rgb(255, 255, 255)",
            "line": {
             "color": "rgb(0, 0, 0)",
             "width": 2
            },
            "size": 20
           },
           "mode": "markers+text",
           "text": [],
           "textfont": {
            "color": "rgb(0, 0, 0)"
           },
           "textposition": "middle center",
           "x": [
            0.75
           ],
           "y": [
            1
           ]
          },
          {
           "hoverinfo": "none",
           "marker": {
            "color": "rgb(255, 255, 255)",
            "line": {
             "color": "rgb(0, 0, 0)",
             "width": 2
            },
            "size": 20
           },
           "mode": "markers+text",
           "text": [],
           "textfont": {
            "color": "rgb(0, 0, 0)"
           },
           "textposition": "middle center",
           "x": [
            1
           ],
           "y": [
            0.5
           ]
          },
          {
           "hoverinfo": "none",
           "marker": {
            "color": "rgb(255, 255, 255)",
            "line": {
             "color": "rgb(0, 0, 0)",
             "width": 2
            },
            "size": 20
           },
           "mode": "markers+text",
           "text": [],
           "textfont": {
            "color": "rgb(0, 0, 0)"
           },
           "textposition": "middle center",
           "x": [
            0.75
           ],
           "y": [
            0
           ]
          },
          {
           "hoverinfo": "none",
           "marker": {
            "color": "rgb(255, 255, 255)",
            "line": {
             "color": "rgb(0, 0, 0)",
             "width": 2
            },
            "size": 20
           },
           "mode": "markers+text",
           "text": [],
           "textfont": {
            "color": "rgb(0, 0, 0)"
           },
           "textposition": "middle center",
           "x": [
            0.5
           ],
           "y": [
            0
           ]
          },
          {
           "hoverinfo": "none",
           "marker": {
            "color": "rgb(255, 255, 255)",
            "line": {
             "color": "rgb(0, 0, 0)",
             "width": 2
            },
            "size": 20
           },
           "mode": "markers+text",
           "text": [],
           "textfont": {
            "color": "rgb(0, 0, 0)"
           },
           "textposition": "middle center",
           "x": [
            0.25
           ],
           "y": [
            0
           ]
          },
          {
           "hoverinfo": "none",
           "marker": {
            "color": "rgb(255, 255, 255)",
            "line": {
             "color": "rgb(0, 0, 0)",
             "width": 2
            },
            "size": 20
           },
           "mode": "markers+text",
           "text": [],
           "textfont": {
            "color": "rgb(0, 0, 0)"
           },
           "textposition": "middle center",
           "x": [
            0.375
           ],
           "y": [
            0.5
           ]
          },
          {
           "hoverinfo": "none",
           "mode": "text",
           "text": [
            4,
            8,
            8,
            11,
            7,
            4,
            2,
            9,
            14,
            10,
            2,
            1,
            6,
            7
           ],
           "textfont": {
            "color": "rgb(0, 0, 0)"
           },
           "textposition": "middle center",
           "x": [
            0.08835225700681207,
            0.16164774299318793,
            0.375,
            0.2878787878787879,
            0.625,
            0.6625594305323629,
            0.4750594305323629,
            0.911647742993188,
            0.7878787878787878,
            0.911647742993188,
            0.625,
            0.375,
            0.3999405694676371,
            0.2749405694676371
           ],
           "y": [
            0.768323871496594,
            0.268323871496594,
            1.0724637681159421,
            0.5,
            1.0724637681159421,
            0.5093898576330907,
            0.7406101423669093,
            0.768323871496594,
            0.5,
            0.23167612850340602,
            -0.07246376811594203,
            -0.07246376811594203,
            0.24061014236690928,
            0.2593898576330907
           ]
          }
         ],
         "name": 14
        },
        {
         "data": [
          {
           "hoverinfo": "none",
           "line": {
            "color": "rgb(0, 0, 255)",
            "width": 2
           },
           "mode": "lines",
           "x": [
            0,
            0.25,
            null
           ],
           "y": [
            0.5,
            1,
            null
           ]
          },
          {
           "hoverinfo": "none",
           "line": {
            "color": "rgb(0, 0, 0)",
            "width": 2
           },
           "mode": "lines",
           "x": [
            0,
            0.25,
            null
           ],
           "y": [
            0.5,
            0,
            null
           ]
          },
          {
           "hoverinfo": "none",
           "line": {
            "color": "rgb(0, 0, 0)",
            "width": 2
           },
           "mode": "lines",
           "x": [
            0.25,
            0.5,
            null
           ],
           "y": [
            1,
            1,
            null
           ]
          },
          {
           "hoverinfo": "none",
           "line": {
            "color": "rgb(0, 0, 0)",
            "width": 2
           },
           "mode": "lines",
           "x": [
            0.25,
            0.25,
            null
           ],
           "y": [
            1,
            0,
            null
           ]
          },
          {
           "hoverinfo": "none",
           "line": {
            "color": "rgb(0, 0, 255)",
            "width": 2
           },
           "mode": "lines",
           "x": [
            0.5,
            0.75,
            null
           ],
           "y": [
            1,
            1,
            null
           ]
          },
          {
           "hoverinfo": "none",
           "line": {
            "color": "rgb(0, 0, 255)",
            "width": 2
           },
           "mode": "lines",
           "x": [
            0.5,
            0.75,
            null
           ],
           "y": [
            1,
            0,
            null
           ]
          },
          {
           "hoverinfo": "none",
           "line": {
            "color": "rgb(0, 0, 255)",
            "width": 2
           },
           "mode": "lines",
           "x": [
            0.5,
            0.375,
            null
           ],
           "y": [
            1,
            0.5,
            null
           ]
          },
          {
           "hoverinfo": "none",
           "line": {
            "color": "rgb(0, 0, 0)",
            "width": 2
           },
           "mode": "lines",
           "x": [
            0.75,
            1,
            null
           ],
           "y": [
            1,
            0.5,
            null
           ]
          },
          {
           "hoverinfo": "none",
           "line": {
            "color": "rgb(0, 0, 0)",
            "width": 2
           },
           "mode": "lines",
           "x": [
            0.75,
            0.75,
            null
           ],
           "y": [
            1,
            0,
            null
           ]
          },
          {
           "hoverinfo": "none",
           "line": {
            "color": "rgb(0, 0, 0)",
            "width": 2
           },
           "mode": "lines",
           "x": [
            1,
            0.75,
            null
           ],
           "y": [
            0.5,
            0,
            null
           ]
          },
          {
           "hoverinfo": "none",
           "line": {
            "color": "rgb(0, 0, 255)",
            "width": 2
           },
           "mode": "lines",
           "x": [
            0.75,
            0.5,
            null
           ],
           "y": [
            0,
            0,
            null
           ]
          },
          {
           "hoverinfo": "none",
           "line": {
            "color": "rgb(0, 0, 255)",
            "width": 2
           },
           "mode": "lines",
           "x": [
            0.5,
            0.25,
            null
           ],
           "y": [
            0,
            0,
            null
           ]
          },
          {
           "hoverinfo": "none",
           "line": {
            "color": "rgb(0, 0, 0)",
            "width": 2
           },
           "mode": "lines",
           "x": [
            0.5,
            0.375,
            null
           ],
           "y": [
            0,
            0.5,
            null
           ]
          },
          {
           "hoverinfo": "none",
           "line": {
            "color": "rgb(255, 0, 0)",
            "width": 2
           },
           "mode": "lines",
           "x": [
            0.25,
            0.375,
            null
           ],
           "y": [
            0,
            0.5,
            null
           ]
          },
          {
           "hoverinfo": "none",
           "marker": {
            "color": "rgb(255, 255, 255)",
            "line": {
             "color": "rgb(0, 0, 0)",
             "width": 2
            },
            "size": 20
           },
           "mode": "markers+text",
           "text": [],
           "textfont": {
            "color": "rgb(0, 0, 0)"
           },
           "textposition": "middle center",
           "x": [
            0
           ],
           "y": [
            0.5
           ]
          },
          {
           "hoverinfo": "none",
           "marker": {
            "color": "rgb(255, 255, 255)",
            "line": {
             "color": "rgb(0, 0, 0)",
             "width": 2
            },
            "size": 20
           },
           "mode": "markers+text",
           "text": [],
           "textfont": {
            "color": "rgb(0, 0, 0)"
           },
           "textposition": "middle center",
           "x": [
            0.25
           ],
           "y": [
            1
           ]
          },
          {
           "hoverinfo": "none",
           "marker": {
            "color": "rgb(255, 255, 255)",
            "line": {
             "color": "rgb(0, 0, 0)",
             "width": 2
            },
            "size": 20
           },
           "mode": "markers+text",
           "text": [],
           "textfont": {
            "color": "rgb(0, 0, 0)"
           },
           "textposition": "middle center",
           "x": [
            0.5
           ],
           "y": [
            1
           ]
          },
          {
           "hoverinfo": "none",
           "marker": {
            "color": "rgb(255, 255, 255)",
            "line": {
             "color": "rgb(0, 0, 0)",
             "width": 2
            },
            "size": 20
           },
           "mode": "markers+text",
           "text": [],
           "textfont": {
            "color": "rgb(0, 0, 0)"
           },
           "textposition": "middle center",
           "x": [
            0.75
           ],
           "y": [
            1
           ]
          },
          {
           "hoverinfo": "none",
           "marker": {
            "color": "rgb(255, 255, 255)",
            "line": {
             "color": "rgb(0, 0, 0)",
             "width": 2
            },
            "size": 20
           },
           "mode": "markers+text",
           "text": [],
           "textfont": {
            "color": "rgb(0, 0, 0)"
           },
           "textposition": "middle center",
           "x": [
            1
           ],
           "y": [
            0.5
           ]
          },
          {
           "hoverinfo": "none",
           "marker": {
            "color": "rgb(255, 255, 255)",
            "line": {
             "color": "rgb(0, 0, 0)",
             "width": 2
            },
            "size": 20
           },
           "mode": "markers+text",
           "text": [],
           "textfont": {
            "color": "rgb(0, 0, 0)"
           },
           "textposition": "middle center",
           "x": [
            0.75
           ],
           "y": [
            0
           ]
          },
          {
           "hoverinfo": "none",
           "marker": {
            "color": "rgb(255, 255, 255)",
            "line": {
             "color": "rgb(0, 0, 0)",
             "width": 2
            },
            "size": 20
           },
           "mode": "markers+text",
           "text": [],
           "textfont": {
            "color": "rgb(0, 0, 0)"
           },
           "textposition": "middle center",
           "x": [
            0.5
           ],
           "y": [
            0
           ]
          },
          {
           "hoverinfo": "none",
           "marker": {
            "color": "rgb(255, 255, 255)",
            "line": {
             "color": "rgb(0, 0, 0)",
             "width": 2
            },
            "size": 20
           },
           "mode": "markers+text",
           "text": [],
           "textfont": {
            "color": "rgb(0, 0, 0)"
           },
           "textposition": "middle center",
           "x": [
            0.25
           ],
           "y": [
            0
           ]
          },
          {
           "hoverinfo": "none",
           "marker": {
            "color": "rgb(255, 255, 255)",
            "line": {
             "color": "rgb(0, 0, 0)",
             "width": 2
            },
            "size": 20
           },
           "mode": "markers+text",
           "text": [],
           "textfont": {
            "color": "rgb(0, 0, 0)"
           },
           "textposition": "middle center",
           "x": [
            0.375
           ],
           "y": [
            0.5
           ]
          },
          {
           "hoverinfo": "none",
           "mode": "text",
           "text": [
            4,
            8,
            8,
            11,
            7,
            4,
            2,
            9,
            14,
            10,
            2,
            1,
            6,
            7
           ],
           "textfont": {
            "color": "rgb(0, 0, 0)"
           },
           "textposition": "middle center",
           "x": [
            0.08835225700681207,
            0.16164774299318793,
            0.375,
            0.2878787878787879,
            0.625,
            0.6625594305323629,
            0.4750594305323629,
            0.911647742993188,
            0.7878787878787878,
            0.911647742993188,
            0.625,
            0.375,
            0.3999405694676371,
            0.2749405694676371
           ],
           "y": [
            0.768323871496594,
            0.268323871496594,
            1.0724637681159421,
            0.5,
            1.0724637681159421,
            0.5093898576330907,
            0.7406101423669093,
            0.768323871496594,
            0.5,
            0.23167612850340602,
            -0.07246376811594203,
            -0.07246376811594203,
            0.24061014236690928,
            0.2593898576330907
           ]
          }
         ],
         "name": 15
        },
        {
         "data": [
          {
           "hoverinfo": "none",
           "line": {
            "color": "rgb(0, 0, 255)",
            "width": 2
           },
           "mode": "lines",
           "x": [
            0,
            0.25,
            null
           ],
           "y": [
            0.5,
            1,
            null
           ]
          },
          {
           "hoverinfo": "none",
           "line": {
            "color": "rgb(0, 0, 0)",
            "width": 2
           },
           "mode": "lines",
           "x": [
            0,
            0.25,
            null
           ],
           "y": [
            0.5,
            0,
            null
           ]
          },
          {
           "hoverinfo": "none",
           "line": {
            "color": "rgb(0, 0, 0)",
            "width": 2
           },
           "mode": "lines",
           "x": [
            0.25,
            0.5,
            null
           ],
           "y": [
            1,
            1,
            null
           ]
          },
          {
           "hoverinfo": "none",
           "line": {
            "color": "rgb(0, 0, 0)",
            "width": 2
           },
           "mode": "lines",
           "x": [
            0.25,
            0.25,
            null
           ],
           "y": [
            1,
            0,
            null
           ]
          },
          {
           "hoverinfo": "none",
           "line": {
            "color": "rgb(0, 0, 255)",
            "width": 2
           },
           "mode": "lines",
           "x": [
            0.5,
            0.75,
            null
           ],
           "y": [
            1,
            1,
            null
           ]
          },
          {
           "hoverinfo": "none",
           "line": {
            "color": "rgb(0, 0, 255)",
            "width": 2
           },
           "mode": "lines",
           "x": [
            0.5,
            0.75,
            null
           ],
           "y": [
            1,
            0,
            null
           ]
          },
          {
           "hoverinfo": "none",
           "line": {
            "color": "rgb(0, 0, 255)",
            "width": 2
           },
           "mode": "lines",
           "x": [
            0.5,
            0.375,
            null
           ],
           "y": [
            1,
            0.5,
            null
           ]
          },
          {
           "hoverinfo": "none",
           "line": {
            "color": "rgb(0, 0, 0)",
            "width": 2
           },
           "mode": "lines",
           "x": [
            0.75,
            1,
            null
           ],
           "y": [
            1,
            0.5,
            null
           ]
          },
          {
           "hoverinfo": "none",
           "line": {
            "color": "rgb(0, 0, 0)",
            "width": 2
           },
           "mode": "lines",
           "x": [
            0.75,
            0.75,
            null
           ],
           "y": [
            1,
            0,
            null
           ]
          },
          {
           "hoverinfo": "none",
           "line": {
            "color": "rgb(0, 0, 0)",
            "width": 2
           },
           "mode": "lines",
           "x": [
            1,
            0.75,
            null
           ],
           "y": [
            0.5,
            0,
            null
           ]
          },
          {
           "hoverinfo": "none",
           "line": {
            "color": "rgb(0, 0, 255)",
            "width": 2
           },
           "mode": "lines",
           "x": [
            0.75,
            0.5,
            null
           ],
           "y": [
            0,
            0,
            null
           ]
          },
          {
           "hoverinfo": "none",
           "line": {
            "color": "rgb(0, 0, 255)",
            "width": 2
           },
           "mode": "lines",
           "x": [
            0.5,
            0.25,
            null
           ],
           "y": [
            0,
            0,
            null
           ]
          },
          {
           "hoverinfo": "none",
           "line": {
            "color": "rgb(0, 0, 0)",
            "width": 2
           },
           "mode": "lines",
           "x": [
            0.5,
            0.375,
            null
           ],
           "y": [
            0,
            0.5,
            null
           ]
          },
          {
           "hoverinfo": "none",
           "line": {
            "color": "rgb(0, 0, 0)",
            "width": 2
           },
           "mode": "lines",
           "x": [
            0.25,
            0.375,
            null
           ],
           "y": [
            0,
            0.5,
            null
           ]
          },
          {
           "hoverinfo": "none",
           "marker": {
            "color": "rgb(255, 255, 255)",
            "line": {
             "color": "rgb(0, 0, 0)",
             "width": 2
            },
            "size": 20
           },
           "mode": "markers+text",
           "text": [],
           "textfont": {
            "color": "rgb(0, 0, 0)"
           },
           "textposition": "middle center",
           "x": [
            0
           ],
           "y": [
            0.5
           ]
          },
          {
           "hoverinfo": "none",
           "marker": {
            "color": "rgb(255, 255, 255)",
            "line": {
             "color": "rgb(0, 0, 0)",
             "width": 2
            },
            "size": 20
           },
           "mode": "markers+text",
           "text": [],
           "textfont": {
            "color": "rgb(0, 0, 0)"
           },
           "textposition": "middle center",
           "x": [
            0.25
           ],
           "y": [
            1
           ]
          },
          {
           "hoverinfo": "none",
           "marker": {
            "color": "rgb(255, 255, 255)",
            "line": {
             "color": "rgb(0, 0, 0)",
             "width": 2
            },
            "size": 20
           },
           "mode": "markers+text",
           "text": [],
           "textfont": {
            "color": "rgb(0, 0, 0)"
           },
           "textposition": "middle center",
           "x": [
            0.5
           ],
           "y": [
            1
           ]
          },
          {
           "hoverinfo": "none",
           "marker": {
            "color": "rgb(255, 255, 255)",
            "line": {
             "color": "rgb(0, 0, 0)",
             "width": 2
            },
            "size": 20
           },
           "mode": "markers+text",
           "text": [],
           "textfont": {
            "color": "rgb(0, 0, 0)"
           },
           "textposition": "middle center",
           "x": [
            0.75
           ],
           "y": [
            1
           ]
          },
          {
           "hoverinfo": "none",
           "marker": {
            "color": "rgb(255, 255, 255)",
            "line": {
             "color": "rgb(0, 0, 0)",
             "width": 2
            },
            "size": 20
           },
           "mode": "markers+text",
           "text": [],
           "textfont": {
            "color": "rgb(0, 0, 0)"
           },
           "textposition": "middle center",
           "x": [
            1
           ],
           "y": [
            0.5
           ]
          },
          {
           "hoverinfo": "none",
           "marker": {
            "color": "rgb(255, 255, 255)",
            "line": {
             "color": "rgb(0, 0, 0)",
             "width": 2
            },
            "size": 20
           },
           "mode": "markers+text",
           "text": [],
           "textfont": {
            "color": "rgb(0, 0, 0)"
           },
           "textposition": "middle center",
           "x": [
            0.75
           ],
           "y": [
            0
           ]
          },
          {
           "hoverinfo": "none",
           "marker": {
            "color": "rgb(255, 255, 255)",
            "line": {
             "color": "rgb(0, 0, 0)",
             "width": 2
            },
            "size": 20
           },
           "mode": "markers+text",
           "text": [],
           "textfont": {
            "color": "rgb(0, 0, 0)"
           },
           "textposition": "middle center",
           "x": [
            0.5
           ],
           "y": [
            0
           ]
          },
          {
           "hoverinfo": "none",
           "marker": {
            "color": "rgb(255, 255, 255)",
            "line": {
             "color": "rgb(0, 0, 0)",
             "width": 2
            },
            "size": 20
           },
           "mode": "markers+text",
           "text": [],
           "textfont": {
            "color": "rgb(0, 0, 0)"
           },
           "textposition": "middle center",
           "x": [
            0.25
           ],
           "y": [
            0
           ]
          },
          {
           "hoverinfo": "none",
           "marker": {
            "color": "rgb(255, 255, 255)",
            "line": {
             "color": "rgb(0, 0, 0)",
             "width": 2
            },
            "size": 20
           },
           "mode": "markers+text",
           "text": [],
           "textfont": {
            "color": "rgb(0, 0, 0)"
           },
           "textposition": "middle center",
           "x": [
            0.375
           ],
           "y": [
            0.5
           ]
          },
          {
           "hoverinfo": "none",
           "mode": "text",
           "text": [
            4,
            8,
            8,
            11,
            7,
            4,
            2,
            9,
            14,
            10,
            2,
            1,
            6,
            7
           ],
           "textfont": {
            "color": "rgb(0, 0, 0)"
           },
           "textposition": "middle center",
           "x": [
            0.08835225700681207,
            0.16164774299318793,
            0.375,
            0.2878787878787879,
            0.625,
            0.6625594305323629,
            0.4750594305323629,
            0.911647742993188,
            0.7878787878787878,
            0.911647742993188,
            0.625,
            0.375,
            0.3999405694676371,
            0.2749405694676371
           ],
           "y": [
            0.768323871496594,
            0.268323871496594,
            1.0724637681159421,
            0.5,
            1.0724637681159421,
            0.5093898576330907,
            0.7406101423669093,
            0.768323871496594,
            0.5,
            0.23167612850340602,
            -0.07246376811594203,
            -0.07246376811594203,
            0.24061014236690928,
            0.2593898576330907
           ]
          }
         ],
         "name": 16
        },
        {
         "data": [
          {
           "hoverinfo": "none",
           "line": {
            "color": "rgb(0, 0, 255)",
            "width": 2
           },
           "mode": "lines",
           "x": [
            0,
            0.25,
            null
           ],
           "y": [
            0.5,
            1,
            null
           ]
          },
          {
           "hoverinfo": "none",
           "line": {
            "color": "rgb(255, 0, 0)",
            "width": 2
           },
           "mode": "lines",
           "x": [
            0,
            0.25,
            null
           ],
           "y": [
            0.5,
            0,
            null
           ]
          },
          {
           "hoverinfo": "none",
           "line": {
            "color": "rgb(0, 0, 0)",
            "width": 2
           },
           "mode": "lines",
           "x": [
            0.25,
            0.5,
            null
           ],
           "y": [
            1,
            1,
            null
           ]
          },
          {
           "hoverinfo": "none",
           "line": {
            "color": "rgb(0, 0, 0)",
            "width": 2
           },
           "mode": "lines",
           "x": [
            0.25,
            0.25,
            null
           ],
           "y": [
            1,
            0,
            null
           ]
          },
          {
           "hoverinfo": "none",
           "line": {
            "color": "rgb(0, 0, 255)",
            "width": 2
           },
           "mode": "lines",
           "x": [
            0.5,
            0.75,
            null
           ],
           "y": [
            1,
            1,
            null
           ]
          },
          {
           "hoverinfo": "none",
           "line": {
            "color": "rgb(0, 0, 255)",
            "width": 2
           },
           "mode": "lines",
           "x": [
            0.5,
            0.75,
            null
           ],
           "y": [
            1,
            0,
            null
           ]
          },
          {
           "hoverinfo": "none",
           "line": {
            "color": "rgb(0, 0, 255)",
            "width": 2
           },
           "mode": "lines",
           "x": [
            0.5,
            0.375,
            null
           ],
           "y": [
            1,
            0.5,
            null
           ]
          },
          {
           "hoverinfo": "none",
           "line": {
            "color": "rgb(0, 0, 0)",
            "width": 2
           },
           "mode": "lines",
           "x": [
            0.75,
            1,
            null
           ],
           "y": [
            1,
            0.5,
            null
           ]
          },
          {
           "hoverinfo": "none",
           "line": {
            "color": "rgb(0, 0, 0)",
            "width": 2
           },
           "mode": "lines",
           "x": [
            0.75,
            0.75,
            null
           ],
           "y": [
            1,
            0,
            null
           ]
          },
          {
           "hoverinfo": "none",
           "line": {
            "color": "rgb(0, 0, 0)",
            "width": 2
           },
           "mode": "lines",
           "x": [
            1,
            0.75,
            null
           ],
           "y": [
            0.5,
            0,
            null
           ]
          },
          {
           "hoverinfo": "none",
           "line": {
            "color": "rgb(0, 0, 255)",
            "width": 2
           },
           "mode": "lines",
           "x": [
            0.75,
            0.5,
            null
           ],
           "y": [
            0,
            0,
            null
           ]
          },
          {
           "hoverinfo": "none",
           "line": {
            "color": "rgb(0, 0, 255)",
            "width": 2
           },
           "mode": "lines",
           "x": [
            0.5,
            0.25,
            null
           ],
           "y": [
            0,
            0,
            null
           ]
          },
          {
           "hoverinfo": "none",
           "line": {
            "color": "rgb(0, 0, 0)",
            "width": 2
           },
           "mode": "lines",
           "x": [
            0.5,
            0.375,
            null
           ],
           "y": [
            0,
            0.5,
            null
           ]
          },
          {
           "hoverinfo": "none",
           "line": {
            "color": "rgb(0, 0, 0)",
            "width": 2
           },
           "mode": "lines",
           "x": [
            0.25,
            0.375,
            null
           ],
           "y": [
            0,
            0.5,
            null
           ]
          },
          {
           "hoverinfo": "none",
           "marker": {
            "color": "rgb(255, 255, 255)",
            "line": {
             "color": "rgb(0, 0, 0)",
             "width": 2
            },
            "size": 20
           },
           "mode": "markers+text",
           "text": [],
           "textfont": {
            "color": "rgb(0, 0, 0)"
           },
           "textposition": "middle center",
           "x": [
            0
           ],
           "y": [
            0.5
           ]
          },
          {
           "hoverinfo": "none",
           "marker": {
            "color": "rgb(255, 255, 255)",
            "line": {
             "color": "rgb(0, 0, 0)",
             "width": 2
            },
            "size": 20
           },
           "mode": "markers+text",
           "text": [],
           "textfont": {
            "color": "rgb(0, 0, 0)"
           },
           "textposition": "middle center",
           "x": [
            0.25
           ],
           "y": [
            1
           ]
          },
          {
           "hoverinfo": "none",
           "marker": {
            "color": "rgb(255, 255, 255)",
            "line": {
             "color": "rgb(0, 0, 0)",
             "width": 2
            },
            "size": 20
           },
           "mode": "markers+text",
           "text": [],
           "textfont": {
            "color": "rgb(0, 0, 0)"
           },
           "textposition": "middle center",
           "x": [
            0.5
           ],
           "y": [
            1
           ]
          },
          {
           "hoverinfo": "none",
           "marker": {
            "color": "rgb(255, 255, 255)",
            "line": {
             "color": "rgb(0, 0, 0)",
             "width": 2
            },
            "size": 20
           },
           "mode": "markers+text",
           "text": [],
           "textfont": {
            "color": "rgb(0, 0, 0)"
           },
           "textposition": "middle center",
           "x": [
            0.75
           ],
           "y": [
            1
           ]
          },
          {
           "hoverinfo": "none",
           "marker": {
            "color": "rgb(255, 255, 255)",
            "line": {
             "color": "rgb(0, 0, 0)",
             "width": 2
            },
            "size": 20
           },
           "mode": "markers+text",
           "text": [],
           "textfont": {
            "color": "rgb(0, 0, 0)"
           },
           "textposition": "middle center",
           "x": [
            1
           ],
           "y": [
            0.5
           ]
          },
          {
           "hoverinfo": "none",
           "marker": {
            "color": "rgb(255, 255, 255)",
            "line": {
             "color": "rgb(0, 0, 0)",
             "width": 2
            },
            "size": 20
           },
           "mode": "markers+text",
           "text": [],
           "textfont": {
            "color": "rgb(0, 0, 0)"
           },
           "textposition": "middle center",
           "x": [
            0.75
           ],
           "y": [
            0
           ]
          },
          {
           "hoverinfo": "none",
           "marker": {
            "color": "rgb(255, 255, 255)",
            "line": {
             "color": "rgb(0, 0, 0)",
             "width": 2
            },
            "size": 20
           },
           "mode": "markers+text",
           "text": [],
           "textfont": {
            "color": "rgb(0, 0, 0)"
           },
           "textposition": "middle center",
           "x": [
            0.5
           ],
           "y": [
            0
           ]
          },
          {
           "hoverinfo": "none",
           "marker": {
            "color": "rgb(255, 255, 255)",
            "line": {
             "color": "rgb(0, 0, 0)",
             "width": 2
            },
            "size": 20
           },
           "mode": "markers+text",
           "text": [],
           "textfont": {
            "color": "rgb(0, 0, 0)"
           },
           "textposition": "middle center",
           "x": [
            0.25
           ],
           "y": [
            0
           ]
          },
          {
           "hoverinfo": "none",
           "marker": {
            "color": "rgb(255, 255, 255)",
            "line": {
             "color": "rgb(0, 0, 0)",
             "width": 2
            },
            "size": 20
           },
           "mode": "markers+text",
           "text": [],
           "textfont": {
            "color": "rgb(0, 0, 0)"
           },
           "textposition": "middle center",
           "x": [
            0.375
           ],
           "y": [
            0.5
           ]
          },
          {
           "hoverinfo": "none",
           "mode": "text",
           "text": [
            4,
            8,
            8,
            11,
            7,
            4,
            2,
            9,
            14,
            10,
            2,
            1,
            6,
            7
           ],
           "textfont": {
            "color": "rgb(0, 0, 0)"
           },
           "textposition": "middle center",
           "x": [
            0.08835225700681207,
            0.16164774299318793,
            0.375,
            0.2878787878787879,
            0.625,
            0.6625594305323629,
            0.4750594305323629,
            0.911647742993188,
            0.7878787878787878,
            0.911647742993188,
            0.625,
            0.375,
            0.3999405694676371,
            0.2749405694676371
           ],
           "y": [
            0.768323871496594,
            0.268323871496594,
            1.0724637681159421,
            0.5,
            1.0724637681159421,
            0.5093898576330907,
            0.7406101423669093,
            0.768323871496594,
            0.5,
            0.23167612850340602,
            -0.07246376811594203,
            -0.07246376811594203,
            0.24061014236690928,
            0.2593898576330907
           ]
          }
         ],
         "name": 17
        },
        {
         "data": [
          {
           "hoverinfo": "none",
           "line": {
            "color": "rgb(0, 0, 255)",
            "width": 2
           },
           "mode": "lines",
           "x": [
            0,
            0.25,
            null
           ],
           "y": [
            0.5,
            1,
            null
           ]
          },
          {
           "hoverinfo": "none",
           "line": {
            "color": "rgb(0, 0, 255)",
            "width": 2
           },
           "mode": "lines",
           "x": [
            0,
            0.25,
            null
           ],
           "y": [
            0.5,
            0,
            null
           ]
          },
          {
           "hoverinfo": "none",
           "line": {
            "color": "rgb(0, 0, 0)",
            "width": 2
           },
           "mode": "lines",
           "x": [
            0.25,
            0.5,
            null
           ],
           "y": [
            1,
            1,
            null
           ]
          },
          {
           "hoverinfo": "none",
           "line": {
            "color": "rgb(0, 0, 0)",
            "width": 2
           },
           "mode": "lines",
           "x": [
            0.25,
            0.25,
            null
           ],
           "y": [
            1,
            0,
            null
           ]
          },
          {
           "hoverinfo": "none",
           "line": {
            "color": "rgb(0, 0, 255)",
            "width": 2
           },
           "mode": "lines",
           "x": [
            0.5,
            0.75,
            null
           ],
           "y": [
            1,
            1,
            null
           ]
          },
          {
           "hoverinfo": "none",
           "line": {
            "color": "rgb(0, 0, 255)",
            "width": 2
           },
           "mode": "lines",
           "x": [
            0.5,
            0.75,
            null
           ],
           "y": [
            1,
            0,
            null
           ]
          },
          {
           "hoverinfo": "none",
           "line": {
            "color": "rgb(0, 0, 255)",
            "width": 2
           },
           "mode": "lines",
           "x": [
            0.5,
            0.375,
            null
           ],
           "y": [
            1,
            0.5,
            null
           ]
          },
          {
           "hoverinfo": "none",
           "line": {
            "color": "rgb(0, 0, 0)",
            "width": 2
           },
           "mode": "lines",
           "x": [
            0.75,
            1,
            null
           ],
           "y": [
            1,
            0.5,
            null
           ]
          },
          {
           "hoverinfo": "none",
           "line": {
            "color": "rgb(0, 0, 0)",
            "width": 2
           },
           "mode": "lines",
           "x": [
            0.75,
            0.75,
            null
           ],
           "y": [
            1,
            0,
            null
           ]
          },
          {
           "hoverinfo": "none",
           "line": {
            "color": "rgb(0, 0, 0)",
            "width": 2
           },
           "mode": "lines",
           "x": [
            1,
            0.75,
            null
           ],
           "y": [
            0.5,
            0,
            null
           ]
          },
          {
           "hoverinfo": "none",
           "line": {
            "color": "rgb(0, 0, 255)",
            "width": 2
           },
           "mode": "lines",
           "x": [
            0.75,
            0.5,
            null
           ],
           "y": [
            0,
            0,
            null
           ]
          },
          {
           "hoverinfo": "none",
           "line": {
            "color": "rgb(0, 0, 255)",
            "width": 2
           },
           "mode": "lines",
           "x": [
            0.5,
            0.25,
            null
           ],
           "y": [
            0,
            0,
            null
           ]
          },
          {
           "hoverinfo": "none",
           "line": {
            "color": "rgb(0, 0, 0)",
            "width": 2
           },
           "mode": "lines",
           "x": [
            0.5,
            0.375,
            null
           ],
           "y": [
            0,
            0.5,
            null
           ]
          },
          {
           "hoverinfo": "none",
           "line": {
            "color": "rgb(0, 0, 0)",
            "width": 2
           },
           "mode": "lines",
           "x": [
            0.25,
            0.375,
            null
           ],
           "y": [
            0,
            0.5,
            null
           ]
          },
          {
           "hoverinfo": "none",
           "marker": {
            "color": "rgb(255, 255, 255)",
            "line": {
             "color": "rgb(0, 0, 0)",
             "width": 2
            },
            "size": 20
           },
           "mode": "markers+text",
           "text": [],
           "textfont": {
            "color": "rgb(0, 0, 0)"
           },
           "textposition": "middle center",
           "x": [
            0
           ],
           "y": [
            0.5
           ]
          },
          {
           "hoverinfo": "none",
           "marker": {
            "color": "rgb(255, 255, 255)",
            "line": {
             "color": "rgb(0, 0, 0)",
             "width": 2
            },
            "size": 20
           },
           "mode": "markers+text",
           "text": [],
           "textfont": {
            "color": "rgb(0, 0, 0)"
           },
           "textposition": "middle center",
           "x": [
            0.25
           ],
           "y": [
            1
           ]
          },
          {
           "hoverinfo": "none",
           "marker": {
            "color": "rgb(255, 255, 255)",
            "line": {
             "color": "rgb(0, 0, 0)",
             "width": 2
            },
            "size": 20
           },
           "mode": "markers+text",
           "text": [],
           "textfont": {
            "color": "rgb(0, 0, 0)"
           },
           "textposition": "middle center",
           "x": [
            0.5
           ],
           "y": [
            1
           ]
          },
          {
           "hoverinfo": "none",
           "marker": {
            "color": "rgb(255, 255, 255)",
            "line": {
             "color": "rgb(0, 0, 0)",
             "width": 2
            },
            "size": 20
           },
           "mode": "markers+text",
           "text": [],
           "textfont": {
            "color": "rgb(0, 0, 0)"
           },
           "textposition": "middle center",
           "x": [
            0.75
           ],
           "y": [
            1
           ]
          },
          {
           "hoverinfo": "none",
           "marker": {
            "color": "rgb(255, 255, 255)",
            "line": {
             "color": "rgb(0, 0, 0)",
             "width": 2
            },
            "size": 20
           },
           "mode": "markers+text",
           "text": [],
           "textfont": {
            "color": "rgb(0, 0, 0)"
           },
           "textposition": "middle center",
           "x": [
            1
           ],
           "y": [
            0.5
           ]
          },
          {
           "hoverinfo": "none",
           "marker": {
            "color": "rgb(255, 255, 255)",
            "line": {
             "color": "rgb(0, 0, 0)",
             "width": 2
            },
            "size": 20
           },
           "mode": "markers+text",
           "text": [],
           "textfont": {
            "color": "rgb(0, 0, 0)"
           },
           "textposition": "middle center",
           "x": [
            0.75
           ],
           "y": [
            0
           ]
          },
          {
           "hoverinfo": "none",
           "marker": {
            "color": "rgb(255, 255, 255)",
            "line": {
             "color": "rgb(0, 0, 0)",
             "width": 2
            },
            "size": 20
           },
           "mode": "markers+text",
           "text": [],
           "textfont": {
            "color": "rgb(0, 0, 0)"
           },
           "textposition": "middle center",
           "x": [
            0.5
           ],
           "y": [
            0
           ]
          },
          {
           "hoverinfo": "none",
           "marker": {
            "color": "rgb(255, 255, 255)",
            "line": {
             "color": "rgb(0, 0, 0)",
             "width": 2
            },
            "size": 20
           },
           "mode": "markers+text",
           "text": [],
           "textfont": {
            "color": "rgb(0, 0, 0)"
           },
           "textposition": "middle center",
           "x": [
            0.25
           ],
           "y": [
            0
           ]
          },
          {
           "hoverinfo": "none",
           "marker": {
            "color": "rgb(255, 255, 255)",
            "line": {
             "color": "rgb(0, 0, 0)",
             "width": 2
            },
            "size": 20
           },
           "mode": "markers+text",
           "text": [],
           "textfont": {
            "color": "rgb(0, 0, 0)"
           },
           "textposition": "middle center",
           "x": [
            0.375
           ],
           "y": [
            0.5
           ]
          },
          {
           "hoverinfo": "none",
           "mode": "text",
           "text": [
            4,
            8,
            8,
            11,
            7,
            4,
            2,
            9,
            14,
            10,
            2,
            1,
            6,
            7
           ],
           "textfont": {
            "color": "rgb(0, 0, 0)"
           },
           "textposition": "middle center",
           "x": [
            0.08835225700681207,
            0.16164774299318793,
            0.375,
            0.2878787878787879,
            0.625,
            0.6625594305323629,
            0.4750594305323629,
            0.911647742993188,
            0.7878787878787878,
            0.911647742993188,
            0.625,
            0.375,
            0.3999405694676371,
            0.2749405694676371
           ],
           "y": [
            0.768323871496594,
            0.268323871496594,
            1.0724637681159421,
            0.5,
            1.0724637681159421,
            0.5093898576330907,
            0.7406101423669093,
            0.768323871496594,
            0.5,
            0.23167612850340602,
            -0.07246376811594203,
            -0.07246376811594203,
            0.24061014236690928,
            0.2593898576330907
           ]
          }
         ],
         "name": 18
        },
        {
         "data": [
          {
           "hoverinfo": "none",
           "line": {
            "color": "rgb(0, 0, 255)",
            "width": 2
           },
           "mode": "lines",
           "x": [
            0,
            0.25,
            null
           ],
           "y": [
            0.5,
            1,
            null
           ]
          },
          {
           "hoverinfo": "none",
           "line": {
            "color": "rgb(0, 0, 255)",
            "width": 2
           },
           "mode": "lines",
           "x": [
            0,
            0.25,
            null
           ],
           "y": [
            0.5,
            0,
            null
           ]
          },
          {
           "hoverinfo": "none",
           "line": {
            "color": "rgb(255, 0, 0)",
            "width": 2
           },
           "mode": "lines",
           "x": [
            0.25,
            0.5,
            null
           ],
           "y": [
            1,
            1,
            null
           ]
          },
          {
           "hoverinfo": "none",
           "line": {
            "color": "rgb(0, 0, 0)",
            "width": 2
           },
           "mode": "lines",
           "x": [
            0.25,
            0.25,
            null
           ],
           "y": [
            1,
            0,
            null
           ]
          },
          {
           "hoverinfo": "none",
           "line": {
            "color": "rgb(0, 0, 255)",
            "width": 2
           },
           "mode": "lines",
           "x": [
            0.5,
            0.75,
            null
           ],
           "y": [
            1,
            1,
            null
           ]
          },
          {
           "hoverinfo": "none",
           "line": {
            "color": "rgb(0, 0, 255)",
            "width": 2
           },
           "mode": "lines",
           "x": [
            0.5,
            0.75,
            null
           ],
           "y": [
            1,
            0,
            null
           ]
          },
          {
           "hoverinfo": "none",
           "line": {
            "color": "rgb(0, 0, 255)",
            "width": 2
           },
           "mode": "lines",
           "x": [
            0.5,
            0.375,
            null
           ],
           "y": [
            1,
            0.5,
            null
           ]
          },
          {
           "hoverinfo": "none",
           "line": {
            "color": "rgb(0, 0, 0)",
            "width": 2
           },
           "mode": "lines",
           "x": [
            0.75,
            1,
            null
           ],
           "y": [
            1,
            0.5,
            null
           ]
          },
          {
           "hoverinfo": "none",
           "line": {
            "color": "rgb(0, 0, 0)",
            "width": 2
           },
           "mode": "lines",
           "x": [
            0.75,
            0.75,
            null
           ],
           "y": [
            1,
            0,
            null
           ]
          },
          {
           "hoverinfo": "none",
           "line": {
            "color": "rgb(0, 0, 0)",
            "width": 2
           },
           "mode": "lines",
           "x": [
            1,
            0.75,
            null
           ],
           "y": [
            0.5,
            0,
            null
           ]
          },
          {
           "hoverinfo": "none",
           "line": {
            "color": "rgb(0, 0, 255)",
            "width": 2
           },
           "mode": "lines",
           "x": [
            0.75,
            0.5,
            null
           ],
           "y": [
            0,
            0,
            null
           ]
          },
          {
           "hoverinfo": "none",
           "line": {
            "color": "rgb(0, 0, 255)",
            "width": 2
           },
           "mode": "lines",
           "x": [
            0.5,
            0.25,
            null
           ],
           "y": [
            0,
            0,
            null
           ]
          },
          {
           "hoverinfo": "none",
           "line": {
            "color": "rgb(0, 0, 0)",
            "width": 2
           },
           "mode": "lines",
           "x": [
            0.5,
            0.375,
            null
           ],
           "y": [
            0,
            0.5,
            null
           ]
          },
          {
           "hoverinfo": "none",
           "line": {
            "color": "rgb(0, 0, 0)",
            "width": 2
           },
           "mode": "lines",
           "x": [
            0.25,
            0.375,
            null
           ],
           "y": [
            0,
            0.5,
            null
           ]
          },
          {
           "hoverinfo": "none",
           "marker": {
            "color": "rgb(255, 255, 255)",
            "line": {
             "color": "rgb(0, 0, 0)",
             "width": 2
            },
            "size": 20
           },
           "mode": "markers+text",
           "text": [],
           "textfont": {
            "color": "rgb(0, 0, 0)"
           },
           "textposition": "middle center",
           "x": [
            0
           ],
           "y": [
            0.5
           ]
          },
          {
           "hoverinfo": "none",
           "marker": {
            "color": "rgb(255, 255, 255)",
            "line": {
             "color": "rgb(0, 0, 0)",
             "width": 2
            },
            "size": 20
           },
           "mode": "markers+text",
           "text": [],
           "textfont": {
            "color": "rgb(0, 0, 0)"
           },
           "textposition": "middle center",
           "x": [
            0.25
           ],
           "y": [
            1
           ]
          },
          {
           "hoverinfo": "none",
           "marker": {
            "color": "rgb(255, 255, 255)",
            "line": {
             "color": "rgb(0, 0, 0)",
             "width": 2
            },
            "size": 20
           },
           "mode": "markers+text",
           "text": [],
           "textfont": {
            "color": "rgb(0, 0, 0)"
           },
           "textposition": "middle center",
           "x": [
            0.5
           ],
           "y": [
            1
           ]
          },
          {
           "hoverinfo": "none",
           "marker": {
            "color": "rgb(255, 255, 255)",
            "line": {
             "color": "rgb(0, 0, 0)",
             "width": 2
            },
            "size": 20
           },
           "mode": "markers+text",
           "text": [],
           "textfont": {
            "color": "rgb(0, 0, 0)"
           },
           "textposition": "middle center",
           "x": [
            0.75
           ],
           "y": [
            1
           ]
          },
          {
           "hoverinfo": "none",
           "marker": {
            "color": "rgb(255, 255, 255)",
            "line": {
             "color": "rgb(0, 0, 0)",
             "width": 2
            },
            "size": 20
           },
           "mode": "markers+text",
           "text": [],
           "textfont": {
            "color": "rgb(0, 0, 0)"
           },
           "textposition": "middle center",
           "x": [
            1
           ],
           "y": [
            0.5
           ]
          },
          {
           "hoverinfo": "none",
           "marker": {
            "color": "rgb(255, 255, 255)",
            "line": {
             "color": "rgb(0, 0, 0)",
             "width": 2
            },
            "size": 20
           },
           "mode": "markers+text",
           "text": [],
           "textfont": {
            "color": "rgb(0, 0, 0)"
           },
           "textposition": "middle center",
           "x": [
            0.75
           ],
           "y": [
            0
           ]
          },
          {
           "hoverinfo": "none",
           "marker": {
            "color": "rgb(255, 255, 255)",
            "line": {
             "color": "rgb(0, 0, 0)",
             "width": 2
            },
            "size": 20
           },
           "mode": "markers+text",
           "text": [],
           "textfont": {
            "color": "rgb(0, 0, 0)"
           },
           "textposition": "middle center",
           "x": [
            0.5
           ],
           "y": [
            0
           ]
          },
          {
           "hoverinfo": "none",
           "marker": {
            "color": "rgb(255, 255, 255)",
            "line": {
             "color": "rgb(0, 0, 0)",
             "width": 2
            },
            "size": 20
           },
           "mode": "markers+text",
           "text": [],
           "textfont": {
            "color": "rgb(0, 0, 0)"
           },
           "textposition": "middle center",
           "x": [
            0.25
           ],
           "y": [
            0
           ]
          },
          {
           "hoverinfo": "none",
           "marker": {
            "color": "rgb(255, 255, 255)",
            "line": {
             "color": "rgb(0, 0, 0)",
             "width": 2
            },
            "size": 20
           },
           "mode": "markers+text",
           "text": [],
           "textfont": {
            "color": "rgb(0, 0, 0)"
           },
           "textposition": "middle center",
           "x": [
            0.375
           ],
           "y": [
            0.5
           ]
          },
          {
           "hoverinfo": "none",
           "mode": "text",
           "text": [
            4,
            8,
            8,
            11,
            7,
            4,
            2,
            9,
            14,
            10,
            2,
            1,
            6,
            7
           ],
           "textfont": {
            "color": "rgb(0, 0, 0)"
           },
           "textposition": "middle center",
           "x": [
            0.08835225700681207,
            0.16164774299318793,
            0.375,
            0.2878787878787879,
            0.625,
            0.6625594305323629,
            0.4750594305323629,
            0.911647742993188,
            0.7878787878787878,
            0.911647742993188,
            0.625,
            0.375,
            0.3999405694676371,
            0.2749405694676371
           ],
           "y": [
            0.768323871496594,
            0.268323871496594,
            1.0724637681159421,
            0.5,
            1.0724637681159421,
            0.5093898576330907,
            0.7406101423669093,
            0.768323871496594,
            0.5,
            0.23167612850340602,
            -0.07246376811594203,
            -0.07246376811594203,
            0.24061014236690928,
            0.2593898576330907
           ]
          }
         ],
         "name": 19
        },
        {
         "data": [
          {
           "hoverinfo": "none",
           "line": {
            "color": "rgb(0, 0, 255)",
            "width": 2
           },
           "mode": "lines",
           "x": [
            0,
            0.25,
            null
           ],
           "y": [
            0.5,
            1,
            null
           ]
          },
          {
           "hoverinfo": "none",
           "line": {
            "color": "rgb(0, 0, 255)",
            "width": 2
           },
           "mode": "lines",
           "x": [
            0,
            0.25,
            null
           ],
           "y": [
            0.5,
            0,
            null
           ]
          },
          {
           "hoverinfo": "none",
           "line": {
            "color": "rgb(0, 0, 0)",
            "width": 2
           },
           "mode": "lines",
           "x": [
            0.25,
            0.5,
            null
           ],
           "y": [
            1,
            1,
            null
           ]
          },
          {
           "hoverinfo": "none",
           "line": {
            "color": "rgb(0, 0, 0)",
            "width": 2
           },
           "mode": "lines",
           "x": [
            0.25,
            0.25,
            null
           ],
           "y": [
            1,
            0,
            null
           ]
          },
          {
           "hoverinfo": "none",
           "line": {
            "color": "rgb(0, 0, 255)",
            "width": 2
           },
           "mode": "lines",
           "x": [
            0.5,
            0.75,
            null
           ],
           "y": [
            1,
            1,
            null
           ]
          },
          {
           "hoverinfo": "none",
           "line": {
            "color": "rgb(0, 0, 255)",
            "width": 2
           },
           "mode": "lines",
           "x": [
            0.5,
            0.75,
            null
           ],
           "y": [
            1,
            0,
            null
           ]
          },
          {
           "hoverinfo": "none",
           "line": {
            "color": "rgb(0, 0, 255)",
            "width": 2
           },
           "mode": "lines",
           "x": [
            0.5,
            0.375,
            null
           ],
           "y": [
            1,
            0.5,
            null
           ]
          },
          {
           "hoverinfo": "none",
           "line": {
            "color": "rgb(0, 0, 0)",
            "width": 2
           },
           "mode": "lines",
           "x": [
            0.75,
            1,
            null
           ],
           "y": [
            1,
            0.5,
            null
           ]
          },
          {
           "hoverinfo": "none",
           "line": {
            "color": "rgb(0, 0, 0)",
            "width": 2
           },
           "mode": "lines",
           "x": [
            0.75,
            0.75,
            null
           ],
           "y": [
            1,
            0,
            null
           ]
          },
          {
           "hoverinfo": "none",
           "line": {
            "color": "rgb(0, 0, 0)",
            "width": 2
           },
           "mode": "lines",
           "x": [
            1,
            0.75,
            null
           ],
           "y": [
            0.5,
            0,
            null
           ]
          },
          {
           "hoverinfo": "none",
           "line": {
            "color": "rgb(0, 0, 255)",
            "width": 2
           },
           "mode": "lines",
           "x": [
            0.75,
            0.5,
            null
           ],
           "y": [
            0,
            0,
            null
           ]
          },
          {
           "hoverinfo": "none",
           "line": {
            "color": "rgb(0, 0, 255)",
            "width": 2
           },
           "mode": "lines",
           "x": [
            0.5,
            0.25,
            null
           ],
           "y": [
            0,
            0,
            null
           ]
          },
          {
           "hoverinfo": "none",
           "line": {
            "color": "rgb(0, 0, 0)",
            "width": 2
           },
           "mode": "lines",
           "x": [
            0.5,
            0.375,
            null
           ],
           "y": [
            0,
            0.5,
            null
           ]
          },
          {
           "hoverinfo": "none",
           "line": {
            "color": "rgb(0, 0, 0)",
            "width": 2
           },
           "mode": "lines",
           "x": [
            0.25,
            0.375,
            null
           ],
           "y": [
            0,
            0.5,
            null
           ]
          },
          {
           "hoverinfo": "none",
           "marker": {
            "color": "rgb(255, 255, 255)",
            "line": {
             "color": "rgb(0, 0, 0)",
             "width": 2
            },
            "size": 20
           },
           "mode": "markers+text",
           "text": [],
           "textfont": {
            "color": "rgb(0, 0, 0)"
           },
           "textposition": "middle center",
           "x": [
            0
           ],
           "y": [
            0.5
           ]
          },
          {
           "hoverinfo": "none",
           "marker": {
            "color": "rgb(255, 255, 255)",
            "line": {
             "color": "rgb(0, 0, 0)",
             "width": 2
            },
            "size": 20
           },
           "mode": "markers+text",
           "text": [],
           "textfont": {
            "color": "rgb(0, 0, 0)"
           },
           "textposition": "middle center",
           "x": [
            0.25
           ],
           "y": [
            1
           ]
          },
          {
           "hoverinfo": "none",
           "marker": {
            "color": "rgb(255, 255, 255)",
            "line": {
             "color": "rgb(0, 0, 0)",
             "width": 2
            },
            "size": 20
           },
           "mode": "markers+text",
           "text": [],
           "textfont": {
            "color": "rgb(0, 0, 0)"
           },
           "textposition": "middle center",
           "x": [
            0.5
           ],
           "y": [
            1
           ]
          },
          {
           "hoverinfo": "none",
           "marker": {
            "color": "rgb(255, 255, 255)",
            "line": {
             "color": "rgb(0, 0, 0)",
             "width": 2
            },
            "size": 20
           },
           "mode": "markers+text",
           "text": [],
           "textfont": {
            "color": "rgb(0, 0, 0)"
           },
           "textposition": "middle center",
           "x": [
            0.75
           ],
           "y": [
            1
           ]
          },
          {
           "hoverinfo": "none",
           "marker": {
            "color": "rgb(255, 255, 255)",
            "line": {
             "color": "rgb(0, 0, 0)",
             "width": 2
            },
            "size": 20
           },
           "mode": "markers+text",
           "text": [],
           "textfont": {
            "color": "rgb(0, 0, 0)"
           },
           "textposition": "middle center",
           "x": [
            1
           ],
           "y": [
            0.5
           ]
          },
          {
           "hoverinfo": "none",
           "marker": {
            "color": "rgb(255, 255, 255)",
            "line": {
             "color": "rgb(0, 0, 0)",
             "width": 2
            },
            "size": 20
           },
           "mode": "markers+text",
           "text": [],
           "textfont": {
            "color": "rgb(0, 0, 0)"
           },
           "textposition": "middle center",
           "x": [
            0.75
           ],
           "y": [
            0
           ]
          },
          {
           "hoverinfo": "none",
           "marker": {
            "color": "rgb(255, 255, 255)",
            "line": {
             "color": "rgb(0, 0, 0)",
             "width": 2
            },
            "size": 20
           },
           "mode": "markers+text",
           "text": [],
           "textfont": {
            "color": "rgb(0, 0, 0)"
           },
           "textposition": "middle center",
           "x": [
            0.5
           ],
           "y": [
            0
           ]
          },
          {
           "hoverinfo": "none",
           "marker": {
            "color": "rgb(255, 255, 255)",
            "line": {
             "color": "rgb(0, 0, 0)",
             "width": 2
            },
            "size": 20
           },
           "mode": "markers+text",
           "text": [],
           "textfont": {
            "color": "rgb(0, 0, 0)"
           },
           "textposition": "middle center",
           "x": [
            0.25
           ],
           "y": [
            0
           ]
          },
          {
           "hoverinfo": "none",
           "marker": {
            "color": "rgb(255, 255, 255)",
            "line": {
             "color": "rgb(0, 0, 0)",
             "width": 2
            },
            "size": 20
           },
           "mode": "markers+text",
           "text": [],
           "textfont": {
            "color": "rgb(0, 0, 0)"
           },
           "textposition": "middle center",
           "x": [
            0.375
           ],
           "y": [
            0.5
           ]
          },
          {
           "hoverinfo": "none",
           "mode": "text",
           "text": [
            4,
            8,
            8,
            11,
            7,
            4,
            2,
            9,
            14,
            10,
            2,
            1,
            6,
            7
           ],
           "textfont": {
            "color": "rgb(0, 0, 0)"
           },
           "textposition": "middle center",
           "x": [
            0.08835225700681207,
            0.16164774299318793,
            0.375,
            0.2878787878787879,
            0.625,
            0.6625594305323629,
            0.4750594305323629,
            0.911647742993188,
            0.7878787878787878,
            0.911647742993188,
            0.625,
            0.375,
            0.3999405694676371,
            0.2749405694676371
           ],
           "y": [
            0.768323871496594,
            0.268323871496594,
            1.0724637681159421,
            0.5,
            1.0724637681159421,
            0.5093898576330907,
            0.7406101423669093,
            0.768323871496594,
            0.5,
            0.23167612850340602,
            -0.07246376811594203,
            -0.07246376811594203,
            0.24061014236690928,
            0.2593898576330907
           ]
          }
         ],
         "name": 20
        },
        {
         "data": [
          {
           "hoverinfo": "none",
           "line": {
            "color": "rgb(0, 0, 255)",
            "width": 2
           },
           "mode": "lines",
           "x": [
            0,
            0.25,
            null
           ],
           "y": [
            0.5,
            1,
            null
           ]
          },
          {
           "hoverinfo": "none",
           "line": {
            "color": "rgb(0, 0, 255)",
            "width": 2
           },
           "mode": "lines",
           "x": [
            0,
            0.25,
            null
           ],
           "y": [
            0.5,
            0,
            null
           ]
          },
          {
           "hoverinfo": "none",
           "line": {
            "color": "rgb(0, 0, 0)",
            "width": 2
           },
           "mode": "lines",
           "x": [
            0.25,
            0.5,
            null
           ],
           "y": [
            1,
            1,
            null
           ]
          },
          {
           "hoverinfo": "none",
           "line": {
            "color": "rgb(0, 0, 0)",
            "width": 2
           },
           "mode": "lines",
           "x": [
            0.25,
            0.25,
            null
           ],
           "y": [
            1,
            0,
            null
           ]
          },
          {
           "hoverinfo": "none",
           "line": {
            "color": "rgb(0, 0, 255)",
            "width": 2
           },
           "mode": "lines",
           "x": [
            0.5,
            0.75,
            null
           ],
           "y": [
            1,
            1,
            null
           ]
          },
          {
           "hoverinfo": "none",
           "line": {
            "color": "rgb(0, 0, 255)",
            "width": 2
           },
           "mode": "lines",
           "x": [
            0.5,
            0.75,
            null
           ],
           "y": [
            1,
            0,
            null
           ]
          },
          {
           "hoverinfo": "none",
           "line": {
            "color": "rgb(0, 0, 255)",
            "width": 2
           },
           "mode": "lines",
           "x": [
            0.5,
            0.375,
            null
           ],
           "y": [
            1,
            0.5,
            null
           ]
          },
          {
           "hoverinfo": "none",
           "line": {
            "color": "rgb(255, 0, 0)",
            "width": 2
           },
           "mode": "lines",
           "x": [
            0.75,
            1,
            null
           ],
           "y": [
            1,
            0.5,
            null
           ]
          },
          {
           "hoverinfo": "none",
           "line": {
            "color": "rgb(0, 0, 0)",
            "width": 2
           },
           "mode": "lines",
           "x": [
            0.75,
            0.75,
            null
           ],
           "y": [
            1,
            0,
            null
           ]
          },
          {
           "hoverinfo": "none",
           "line": {
            "color": "rgb(0, 0, 0)",
            "width": 2
           },
           "mode": "lines",
           "x": [
            1,
            0.75,
            null
           ],
           "y": [
            0.5,
            0,
            null
           ]
          },
          {
           "hoverinfo": "none",
           "line": {
            "color": "rgb(0, 0, 255)",
            "width": 2
           },
           "mode": "lines",
           "x": [
            0.75,
            0.5,
            null
           ],
           "y": [
            0,
            0,
            null
           ]
          },
          {
           "hoverinfo": "none",
           "line": {
            "color": "rgb(0, 0, 255)",
            "width": 2
           },
           "mode": "lines",
           "x": [
            0.5,
            0.25,
            null
           ],
           "y": [
            0,
            0,
            null
           ]
          },
          {
           "hoverinfo": "none",
           "line": {
            "color": "rgb(0, 0, 0)",
            "width": 2
           },
           "mode": "lines",
           "x": [
            0.5,
            0.375,
            null
           ],
           "y": [
            0,
            0.5,
            null
           ]
          },
          {
           "hoverinfo": "none",
           "line": {
            "color": "rgb(0, 0, 0)",
            "width": 2
           },
           "mode": "lines",
           "x": [
            0.25,
            0.375,
            null
           ],
           "y": [
            0,
            0.5,
            null
           ]
          },
          {
           "hoverinfo": "none",
           "marker": {
            "color": "rgb(255, 255, 255)",
            "line": {
             "color": "rgb(0, 0, 0)",
             "width": 2
            },
            "size": 20
           },
           "mode": "markers+text",
           "text": [],
           "textfont": {
            "color": "rgb(0, 0, 0)"
           },
           "textposition": "middle center",
           "x": [
            0
           ],
           "y": [
            0.5
           ]
          },
          {
           "hoverinfo": "none",
           "marker": {
            "color": "rgb(255, 255, 255)",
            "line": {
             "color": "rgb(0, 0, 0)",
             "width": 2
            },
            "size": 20
           },
           "mode": "markers+text",
           "text": [],
           "textfont": {
            "color": "rgb(0, 0, 0)"
           },
           "textposition": "middle center",
           "x": [
            0.25
           ],
           "y": [
            1
           ]
          },
          {
           "hoverinfo": "none",
           "marker": {
            "color": "rgb(255, 255, 255)",
            "line": {
             "color": "rgb(0, 0, 0)",
             "width": 2
            },
            "size": 20
           },
           "mode": "markers+text",
           "text": [],
           "textfont": {
            "color": "rgb(0, 0, 0)"
           },
           "textposition": "middle center",
           "x": [
            0.5
           ],
           "y": [
            1
           ]
          },
          {
           "hoverinfo": "none",
           "marker": {
            "color": "rgb(255, 255, 255)",
            "line": {
             "color": "rgb(0, 0, 0)",
             "width": 2
            },
            "size": 20
           },
           "mode": "markers+text",
           "text": [],
           "textfont": {
            "color": "rgb(0, 0, 0)"
           },
           "textposition": "middle center",
           "x": [
            0.75
           ],
           "y": [
            1
           ]
          },
          {
           "hoverinfo": "none",
           "marker": {
            "color": "rgb(255, 255, 255)",
            "line": {
             "color": "rgb(0, 0, 0)",
             "width": 2
            },
            "size": 20
           },
           "mode": "markers+text",
           "text": [],
           "textfont": {
            "color": "rgb(0, 0, 0)"
           },
           "textposition": "middle center",
           "x": [
            1
           ],
           "y": [
            0.5
           ]
          },
          {
           "hoverinfo": "none",
           "marker": {
            "color": "rgb(255, 255, 255)",
            "line": {
             "color": "rgb(0, 0, 0)",
             "width": 2
            },
            "size": 20
           },
           "mode": "markers+text",
           "text": [],
           "textfont": {
            "color": "rgb(0, 0, 0)"
           },
           "textposition": "middle center",
           "x": [
            0.75
           ],
           "y": [
            0
           ]
          },
          {
           "hoverinfo": "none",
           "marker": {
            "color": "rgb(255, 255, 255)",
            "line": {
             "color": "rgb(0, 0, 0)",
             "width": 2
            },
            "size": 20
           },
           "mode": "markers+text",
           "text": [],
           "textfont": {
            "color": "rgb(0, 0, 0)"
           },
           "textposition": "middle center",
           "x": [
            0.5
           ],
           "y": [
            0
           ]
          },
          {
           "hoverinfo": "none",
           "marker": {
            "color": "rgb(255, 255, 255)",
            "line": {
             "color": "rgb(0, 0, 0)",
             "width": 2
            },
            "size": 20
           },
           "mode": "markers+text",
           "text": [],
           "textfont": {
            "color": "rgb(0, 0, 0)"
           },
           "textposition": "middle center",
           "x": [
            0.25
           ],
           "y": [
            0
           ]
          },
          {
           "hoverinfo": "none",
           "marker": {
            "color": "rgb(255, 255, 255)",
            "line": {
             "color": "rgb(0, 0, 0)",
             "width": 2
            },
            "size": 20
           },
           "mode": "markers+text",
           "text": [],
           "textfont": {
            "color": "rgb(0, 0, 0)"
           },
           "textposition": "middle center",
           "x": [
            0.375
           ],
           "y": [
            0.5
           ]
          },
          {
           "hoverinfo": "none",
           "mode": "text",
           "text": [
            4,
            8,
            8,
            11,
            7,
            4,
            2,
            9,
            14,
            10,
            2,
            1,
            6,
            7
           ],
           "textfont": {
            "color": "rgb(0, 0, 0)"
           },
           "textposition": "middle center",
           "x": [
            0.08835225700681207,
            0.16164774299318793,
            0.375,
            0.2878787878787879,
            0.625,
            0.6625594305323629,
            0.4750594305323629,
            0.911647742993188,
            0.7878787878787878,
            0.911647742993188,
            0.625,
            0.375,
            0.3999405694676371,
            0.2749405694676371
           ],
           "y": [
            0.768323871496594,
            0.268323871496594,
            1.0724637681159421,
            0.5,
            1.0724637681159421,
            0.5093898576330907,
            0.7406101423669093,
            0.768323871496594,
            0.5,
            0.23167612850340602,
            -0.07246376811594203,
            -0.07246376811594203,
            0.24061014236690928,
            0.2593898576330907
           ]
          }
         ],
         "name": 21
        },
        {
         "data": [
          {
           "hoverinfo": "none",
           "line": {
            "color": "rgb(0, 0, 255)",
            "width": 2
           },
           "mode": "lines",
           "x": [
            0,
            0.25,
            null
           ],
           "y": [
            0.5,
            1,
            null
           ]
          },
          {
           "hoverinfo": "none",
           "line": {
            "color": "rgb(0, 0, 255)",
            "width": 2
           },
           "mode": "lines",
           "x": [
            0,
            0.25,
            null
           ],
           "y": [
            0.5,
            0,
            null
           ]
          },
          {
           "hoverinfo": "none",
           "line": {
            "color": "rgb(0, 0, 0)",
            "width": 2
           },
           "mode": "lines",
           "x": [
            0.25,
            0.5,
            null
           ],
           "y": [
            1,
            1,
            null
           ]
          },
          {
           "hoverinfo": "none",
           "line": {
            "color": "rgb(0, 0, 0)",
            "width": 2
           },
           "mode": "lines",
           "x": [
            0.25,
            0.25,
            null
           ],
           "y": [
            1,
            0,
            null
           ]
          },
          {
           "hoverinfo": "none",
           "line": {
            "color": "rgb(0, 0, 255)",
            "width": 2
           },
           "mode": "lines",
           "x": [
            0.5,
            0.75,
            null
           ],
           "y": [
            1,
            1,
            null
           ]
          },
          {
           "hoverinfo": "none",
           "line": {
            "color": "rgb(0, 0, 255)",
            "width": 2
           },
           "mode": "lines",
           "x": [
            0.5,
            0.75,
            null
           ],
           "y": [
            1,
            0,
            null
           ]
          },
          {
           "hoverinfo": "none",
           "line": {
            "color": "rgb(0, 0, 255)",
            "width": 2
           },
           "mode": "lines",
           "x": [
            0.5,
            0.375,
            null
           ],
           "y": [
            1,
            0.5,
            null
           ]
          },
          {
           "hoverinfo": "none",
           "line": {
            "color": "rgb(0, 0, 255)",
            "width": 2
           },
           "mode": "lines",
           "x": [
            0.75,
            1,
            null
           ],
           "y": [
            1,
            0.5,
            null
           ]
          },
          {
           "hoverinfo": "none",
           "line": {
            "color": "rgb(0, 0, 0)",
            "width": 2
           },
           "mode": "lines",
           "x": [
            0.75,
            0.75,
            null
           ],
           "y": [
            1,
            0,
            null
           ]
          },
          {
           "hoverinfo": "none",
           "line": {
            "color": "rgb(0, 0, 0)",
            "width": 2
           },
           "mode": "lines",
           "x": [
            1,
            0.75,
            null
           ],
           "y": [
            0.5,
            0,
            null
           ]
          },
          {
           "hoverinfo": "none",
           "line": {
            "color": "rgb(0, 0, 255)",
            "width": 2
           },
           "mode": "lines",
           "x": [
            0.75,
            0.5,
            null
           ],
           "y": [
            0,
            0,
            null
           ]
          },
          {
           "hoverinfo": "none",
           "line": {
            "color": "rgb(0, 0, 255)",
            "width": 2
           },
           "mode": "lines",
           "x": [
            0.5,
            0.25,
            null
           ],
           "y": [
            0,
            0,
            null
           ]
          },
          {
           "hoverinfo": "none",
           "line": {
            "color": "rgb(0, 0, 0)",
            "width": 2
           },
           "mode": "lines",
           "x": [
            0.5,
            0.375,
            null
           ],
           "y": [
            0,
            0.5,
            null
           ]
          },
          {
           "hoverinfo": "none",
           "line": {
            "color": "rgb(0, 0, 0)",
            "width": 2
           },
           "mode": "lines",
           "x": [
            0.25,
            0.375,
            null
           ],
           "y": [
            0,
            0.5,
            null
           ]
          },
          {
           "hoverinfo": "none",
           "marker": {
            "color": "rgb(255, 255, 255)",
            "line": {
             "color": "rgb(0, 0, 0)",
             "width": 2
            },
            "size": 20
           },
           "mode": "markers+text",
           "text": [],
           "textfont": {
            "color": "rgb(0, 0, 0)"
           },
           "textposition": "middle center",
           "x": [
            0
           ],
           "y": [
            0.5
           ]
          },
          {
           "hoverinfo": "none",
           "marker": {
            "color": "rgb(255, 255, 255)",
            "line": {
             "color": "rgb(0, 0, 0)",
             "width": 2
            },
            "size": 20
           },
           "mode": "markers+text",
           "text": [],
           "textfont": {
            "color": "rgb(0, 0, 0)"
           },
           "textposition": "middle center",
           "x": [
            0.25
           ],
           "y": [
            1
           ]
          },
          {
           "hoverinfo": "none",
           "marker": {
            "color": "rgb(255, 255, 255)",
            "line": {
             "color": "rgb(0, 0, 0)",
             "width": 2
            },
            "size": 20
           },
           "mode": "markers+text",
           "text": [],
           "textfont": {
            "color": "rgb(0, 0, 0)"
           },
           "textposition": "middle center",
           "x": [
            0.5
           ],
           "y": [
            1
           ]
          },
          {
           "hoverinfo": "none",
           "marker": {
            "color": "rgb(255, 255, 255)",
            "line": {
             "color": "rgb(0, 0, 0)",
             "width": 2
            },
            "size": 20
           },
           "mode": "markers+text",
           "text": [],
           "textfont": {
            "color": "rgb(0, 0, 0)"
           },
           "textposition": "middle center",
           "x": [
            0.75
           ],
           "y": [
            1
           ]
          },
          {
           "hoverinfo": "none",
           "marker": {
            "color": "rgb(255, 255, 255)",
            "line": {
             "color": "rgb(0, 0, 0)",
             "width": 2
            },
            "size": 20
           },
           "mode": "markers+text",
           "text": [],
           "textfont": {
            "color": "rgb(0, 0, 0)"
           },
           "textposition": "middle center",
           "x": [
            1
           ],
           "y": [
            0.5
           ]
          },
          {
           "hoverinfo": "none",
           "marker": {
            "color": "rgb(255, 255, 255)",
            "line": {
             "color": "rgb(0, 0, 0)",
             "width": 2
            },
            "size": 20
           },
           "mode": "markers+text",
           "text": [],
           "textfont": {
            "color": "rgb(0, 0, 0)"
           },
           "textposition": "middle center",
           "x": [
            0.75
           ],
           "y": [
            0
           ]
          },
          {
           "hoverinfo": "none",
           "marker": {
            "color": "rgb(255, 255, 255)",
            "line": {
             "color": "rgb(0, 0, 0)",
             "width": 2
            },
            "size": 20
           },
           "mode": "markers+text",
           "text": [],
           "textfont": {
            "color": "rgb(0, 0, 0)"
           },
           "textposition": "middle center",
           "x": [
            0.5
           ],
           "y": [
            0
           ]
          },
          {
           "hoverinfo": "none",
           "marker": {
            "color": "rgb(255, 255, 255)",
            "line": {
             "color": "rgb(0, 0, 0)",
             "width": 2
            },
            "size": 20
           },
           "mode": "markers+text",
           "text": [],
           "textfont": {
            "color": "rgb(0, 0, 0)"
           },
           "textposition": "middle center",
           "x": [
            0.25
           ],
           "y": [
            0
           ]
          },
          {
           "hoverinfo": "none",
           "marker": {
            "color": "rgb(255, 255, 255)",
            "line": {
             "color": "rgb(0, 0, 0)",
             "width": 2
            },
            "size": 20
           },
           "mode": "markers+text",
           "text": [],
           "textfont": {
            "color": "rgb(0, 0, 0)"
           },
           "textposition": "middle center",
           "x": [
            0.375
           ],
           "y": [
            0.5
           ]
          },
          {
           "hoverinfo": "none",
           "mode": "text",
           "text": [
            4,
            8,
            8,
            11,
            7,
            4,
            2,
            9,
            14,
            10,
            2,
            1,
            6,
            7
           ],
           "textfont": {
            "color": "rgb(0, 0, 0)"
           },
           "textposition": "middle center",
           "x": [
            0.08835225700681207,
            0.16164774299318793,
            0.375,
            0.2878787878787879,
            0.625,
            0.6625594305323629,
            0.4750594305323629,
            0.911647742993188,
            0.7878787878787878,
            0.911647742993188,
            0.625,
            0.375,
            0.3999405694676371,
            0.2749405694676371
           ],
           "y": [
            0.768323871496594,
            0.268323871496594,
            1.0724637681159421,
            0.5,
            1.0724637681159421,
            0.5093898576330907,
            0.7406101423669093,
            0.768323871496594,
            0.5,
            0.23167612850340602,
            -0.07246376811594203,
            -0.07246376811594203,
            0.24061014236690928,
            0.2593898576330907
           ]
          }
         ],
         "name": 22
        },
        {
         "data": [
          {
           "hoverinfo": "none",
           "line": {
            "color": "rgb(0, 0, 255)",
            "width": 2
           },
           "mode": "lines",
           "x": [
            0,
            0.25,
            null
           ],
           "y": [
            0.5,
            1,
            null
           ]
          },
          {
           "hoverinfo": "none",
           "line": {
            "color": "rgb(0, 0, 255)",
            "width": 2
           },
           "mode": "lines",
           "x": [
            0,
            0.25,
            null
           ],
           "y": [
            0.5,
            0,
            null
           ]
          },
          {
           "hoverinfo": "none",
           "line": {
            "color": "rgb(0, 0, 0)",
            "width": 2
           },
           "mode": "lines",
           "x": [
            0.25,
            0.5,
            null
           ],
           "y": [
            1,
            1,
            null
           ]
          },
          {
           "hoverinfo": "none",
           "line": {
            "color": "rgb(0, 0, 0)",
            "width": 2
           },
           "mode": "lines",
           "x": [
            0.25,
            0.25,
            null
           ],
           "y": [
            1,
            0,
            null
           ]
          },
          {
           "hoverinfo": "none",
           "line": {
            "color": "rgb(0, 0, 255)",
            "width": 2
           },
           "mode": "lines",
           "x": [
            0.5,
            0.75,
            null
           ],
           "y": [
            1,
            1,
            null
           ]
          },
          {
           "hoverinfo": "none",
           "line": {
            "color": "rgb(0, 0, 255)",
            "width": 2
           },
           "mode": "lines",
           "x": [
            0.5,
            0.75,
            null
           ],
           "y": [
            1,
            0,
            null
           ]
          },
          {
           "hoverinfo": "none",
           "line": {
            "color": "rgb(0, 0, 255)",
            "width": 2
           },
           "mode": "lines",
           "x": [
            0.5,
            0.375,
            null
           ],
           "y": [
            1,
            0.5,
            null
           ]
          },
          {
           "hoverinfo": "none",
           "line": {
            "color": "rgb(0, 0, 255)",
            "width": 2
           },
           "mode": "lines",
           "x": [
            0.75,
            1,
            null
           ],
           "y": [
            1,
            0.5,
            null
           ]
          },
          {
           "hoverinfo": "none",
           "line": {
            "color": "rgb(0, 0, 0)",
            "width": 2
           },
           "mode": "lines",
           "x": [
            0.75,
            0.75,
            null
           ],
           "y": [
            1,
            0,
            null
           ]
          },
          {
           "hoverinfo": "none",
           "line": {
            "color": "rgb(255, 0, 0)",
            "width": 2
           },
           "mode": "lines",
           "x": [
            1,
            0.75,
            null
           ],
           "y": [
            0.5,
            0,
            null
           ]
          },
          {
           "hoverinfo": "none",
           "line": {
            "color": "rgb(0, 0, 255)",
            "width": 2
           },
           "mode": "lines",
           "x": [
            0.75,
            0.5,
            null
           ],
           "y": [
            0,
            0,
            null
           ]
          },
          {
           "hoverinfo": "none",
           "line": {
            "color": "rgb(0, 0, 255)",
            "width": 2
           },
           "mode": "lines",
           "x": [
            0.5,
            0.25,
            null
           ],
           "y": [
            0,
            0,
            null
           ]
          },
          {
           "hoverinfo": "none",
           "line": {
            "color": "rgb(0, 0, 0)",
            "width": 2
           },
           "mode": "lines",
           "x": [
            0.5,
            0.375,
            null
           ],
           "y": [
            0,
            0.5,
            null
           ]
          },
          {
           "hoverinfo": "none",
           "line": {
            "color": "rgb(0, 0, 0)",
            "width": 2
           },
           "mode": "lines",
           "x": [
            0.25,
            0.375,
            null
           ],
           "y": [
            0,
            0.5,
            null
           ]
          },
          {
           "hoverinfo": "none",
           "marker": {
            "color": "rgb(255, 255, 255)",
            "line": {
             "color": "rgb(0, 0, 0)",
             "width": 2
            },
            "size": 20
           },
           "mode": "markers+text",
           "text": [],
           "textfont": {
            "color": "rgb(0, 0, 0)"
           },
           "textposition": "middle center",
           "x": [
            0
           ],
           "y": [
            0.5
           ]
          },
          {
           "hoverinfo": "none",
           "marker": {
            "color": "rgb(255, 255, 255)",
            "line": {
             "color": "rgb(0, 0, 0)",
             "width": 2
            },
            "size": 20
           },
           "mode": "markers+text",
           "text": [],
           "textfont": {
            "color": "rgb(0, 0, 0)"
           },
           "textposition": "middle center",
           "x": [
            0.25
           ],
           "y": [
            1
           ]
          },
          {
           "hoverinfo": "none",
           "marker": {
            "color": "rgb(255, 255, 255)",
            "line": {
             "color": "rgb(0, 0, 0)",
             "width": 2
            },
            "size": 20
           },
           "mode": "markers+text",
           "text": [],
           "textfont": {
            "color": "rgb(0, 0, 0)"
           },
           "textposition": "middle center",
           "x": [
            0.5
           ],
           "y": [
            1
           ]
          },
          {
           "hoverinfo": "none",
           "marker": {
            "color": "rgb(255, 255, 255)",
            "line": {
             "color": "rgb(0, 0, 0)",
             "width": 2
            },
            "size": 20
           },
           "mode": "markers+text",
           "text": [],
           "textfont": {
            "color": "rgb(0, 0, 0)"
           },
           "textposition": "middle center",
           "x": [
            0.75
           ],
           "y": [
            1
           ]
          },
          {
           "hoverinfo": "none",
           "marker": {
            "color": "rgb(255, 255, 255)",
            "line": {
             "color": "rgb(0, 0, 0)",
             "width": 2
            },
            "size": 20
           },
           "mode": "markers+text",
           "text": [],
           "textfont": {
            "color": "rgb(0, 0, 0)"
           },
           "textposition": "middle center",
           "x": [
            1
           ],
           "y": [
            0.5
           ]
          },
          {
           "hoverinfo": "none",
           "marker": {
            "color": "rgb(255, 255, 255)",
            "line": {
             "color": "rgb(0, 0, 0)",
             "width": 2
            },
            "size": 20
           },
           "mode": "markers+text",
           "text": [],
           "textfont": {
            "color": "rgb(0, 0, 0)"
           },
           "textposition": "middle center",
           "x": [
            0.75
           ],
           "y": [
            0
           ]
          },
          {
           "hoverinfo": "none",
           "marker": {
            "color": "rgb(255, 255, 255)",
            "line": {
             "color": "rgb(0, 0, 0)",
             "width": 2
            },
            "size": 20
           },
           "mode": "markers+text",
           "text": [],
           "textfont": {
            "color": "rgb(0, 0, 0)"
           },
           "textposition": "middle center",
           "x": [
            0.5
           ],
           "y": [
            0
           ]
          },
          {
           "hoverinfo": "none",
           "marker": {
            "color": "rgb(255, 255, 255)",
            "line": {
             "color": "rgb(0, 0, 0)",
             "width": 2
            },
            "size": 20
           },
           "mode": "markers+text",
           "text": [],
           "textfont": {
            "color": "rgb(0, 0, 0)"
           },
           "textposition": "middle center",
           "x": [
            0.25
           ],
           "y": [
            0
           ]
          },
          {
           "hoverinfo": "none",
           "marker": {
            "color": "rgb(255, 255, 255)",
            "line": {
             "color": "rgb(0, 0, 0)",
             "width": 2
            },
            "size": 20
           },
           "mode": "markers+text",
           "text": [],
           "textfont": {
            "color": "rgb(0, 0, 0)"
           },
           "textposition": "middle center",
           "x": [
            0.375
           ],
           "y": [
            0.5
           ]
          },
          {
           "hoverinfo": "none",
           "mode": "text",
           "text": [
            4,
            8,
            8,
            11,
            7,
            4,
            2,
            9,
            14,
            10,
            2,
            1,
            6,
            7
           ],
           "textfont": {
            "color": "rgb(0, 0, 0)"
           },
           "textposition": "middle center",
           "x": [
            0.08835225700681207,
            0.16164774299318793,
            0.375,
            0.2878787878787879,
            0.625,
            0.6625594305323629,
            0.4750594305323629,
            0.911647742993188,
            0.7878787878787878,
            0.911647742993188,
            0.625,
            0.375,
            0.3999405694676371,
            0.2749405694676371
           ],
           "y": [
            0.768323871496594,
            0.268323871496594,
            1.0724637681159421,
            0.5,
            1.0724637681159421,
            0.5093898576330907,
            0.7406101423669093,
            0.768323871496594,
            0.5,
            0.23167612850340602,
            -0.07246376811594203,
            -0.07246376811594203,
            0.24061014236690928,
            0.2593898576330907
           ]
          }
         ],
         "name": 23
        },
        {
         "data": [
          {
           "hoverinfo": "none",
           "line": {
            "color": "rgb(0, 0, 255)",
            "width": 2
           },
           "mode": "lines",
           "x": [
            0,
            0.25,
            null
           ],
           "y": [
            0.5,
            1,
            null
           ]
          },
          {
           "hoverinfo": "none",
           "line": {
            "color": "rgb(0, 0, 255)",
            "width": 2
           },
           "mode": "lines",
           "x": [
            0,
            0.25,
            null
           ],
           "y": [
            0.5,
            0,
            null
           ]
          },
          {
           "hoverinfo": "none",
           "line": {
            "color": "rgb(0, 0, 0)",
            "width": 2
           },
           "mode": "lines",
           "x": [
            0.25,
            0.5,
            null
           ],
           "y": [
            1,
            1,
            null
           ]
          },
          {
           "hoverinfo": "none",
           "line": {
            "color": "rgb(0, 0, 0)",
            "width": 2
           },
           "mode": "lines",
           "x": [
            0.25,
            0.25,
            null
           ],
           "y": [
            1,
            0,
            null
           ]
          },
          {
           "hoverinfo": "none",
           "line": {
            "color": "rgb(0, 0, 255)",
            "width": 2
           },
           "mode": "lines",
           "x": [
            0.5,
            0.75,
            null
           ],
           "y": [
            1,
            1,
            null
           ]
          },
          {
           "hoverinfo": "none",
           "line": {
            "color": "rgb(0, 0, 255)",
            "width": 2
           },
           "mode": "lines",
           "x": [
            0.5,
            0.75,
            null
           ],
           "y": [
            1,
            0,
            null
           ]
          },
          {
           "hoverinfo": "none",
           "line": {
            "color": "rgb(0, 0, 255)",
            "width": 2
           },
           "mode": "lines",
           "x": [
            0.5,
            0.375,
            null
           ],
           "y": [
            1,
            0.5,
            null
           ]
          },
          {
           "hoverinfo": "none",
           "line": {
            "color": "rgb(0, 0, 255)",
            "width": 2
           },
           "mode": "lines",
           "x": [
            0.75,
            1,
            null
           ],
           "y": [
            1,
            0.5,
            null
           ]
          },
          {
           "hoverinfo": "none",
           "line": {
            "color": "rgb(0, 0, 0)",
            "width": 2
           },
           "mode": "lines",
           "x": [
            0.75,
            0.75,
            null
           ],
           "y": [
            1,
            0,
            null
           ]
          },
          {
           "hoverinfo": "none",
           "line": {
            "color": "rgb(0, 0, 0)",
            "width": 2
           },
           "mode": "lines",
           "x": [
            1,
            0.75,
            null
           ],
           "y": [
            0.5,
            0,
            null
           ]
          },
          {
           "hoverinfo": "none",
           "line": {
            "color": "rgb(0, 0, 255)",
            "width": 2
           },
           "mode": "lines",
           "x": [
            0.75,
            0.5,
            null
           ],
           "y": [
            0,
            0,
            null
           ]
          },
          {
           "hoverinfo": "none",
           "line": {
            "color": "rgb(0, 0, 255)",
            "width": 2
           },
           "mode": "lines",
           "x": [
            0.5,
            0.25,
            null
           ],
           "y": [
            0,
            0,
            null
           ]
          },
          {
           "hoverinfo": "none",
           "line": {
            "color": "rgb(0, 0, 0)",
            "width": 2
           },
           "mode": "lines",
           "x": [
            0.5,
            0.375,
            null
           ],
           "y": [
            0,
            0.5,
            null
           ]
          },
          {
           "hoverinfo": "none",
           "line": {
            "color": "rgb(0, 0, 0)",
            "width": 2
           },
           "mode": "lines",
           "x": [
            0.25,
            0.375,
            null
           ],
           "y": [
            0,
            0.5,
            null
           ]
          },
          {
           "hoverinfo": "none",
           "marker": {
            "color": "rgb(255, 255, 255)",
            "line": {
             "color": "rgb(0, 0, 0)",
             "width": 2
            },
            "size": 20
           },
           "mode": "markers+text",
           "text": [],
           "textfont": {
            "color": "rgb(0, 0, 0)"
           },
           "textposition": "middle center",
           "x": [
            0
           ],
           "y": [
            0.5
           ]
          },
          {
           "hoverinfo": "none",
           "marker": {
            "color": "rgb(255, 255, 255)",
            "line": {
             "color": "rgb(0, 0, 0)",
             "width": 2
            },
            "size": 20
           },
           "mode": "markers+text",
           "text": [],
           "textfont": {
            "color": "rgb(0, 0, 0)"
           },
           "textposition": "middle center",
           "x": [
            0.25
           ],
           "y": [
            1
           ]
          },
          {
           "hoverinfo": "none",
           "marker": {
            "color": "rgb(255, 255, 255)",
            "line": {
             "color": "rgb(0, 0, 0)",
             "width": 2
            },
            "size": 20
           },
           "mode": "markers+text",
           "text": [],
           "textfont": {
            "color": "rgb(0, 0, 0)"
           },
           "textposition": "middle center",
           "x": [
            0.5
           ],
           "y": [
            1
           ]
          },
          {
           "hoverinfo": "none",
           "marker": {
            "color": "rgb(255, 255, 255)",
            "line": {
             "color": "rgb(0, 0, 0)",
             "width": 2
            },
            "size": 20
           },
           "mode": "markers+text",
           "text": [],
           "textfont": {
            "color": "rgb(0, 0, 0)"
           },
           "textposition": "middle center",
           "x": [
            0.75
           ],
           "y": [
            1
           ]
          },
          {
           "hoverinfo": "none",
           "marker": {
            "color": "rgb(255, 255, 255)",
            "line": {
             "color": "rgb(0, 0, 0)",
             "width": 2
            },
            "size": 20
           },
           "mode": "markers+text",
           "text": [],
           "textfont": {
            "color": "rgb(0, 0, 0)"
           },
           "textposition": "middle center",
           "x": [
            1
           ],
           "y": [
            0.5
           ]
          },
          {
           "hoverinfo": "none",
           "marker": {
            "color": "rgb(255, 255, 255)",
            "line": {
             "color": "rgb(0, 0, 0)",
             "width": 2
            },
            "size": 20
           },
           "mode": "markers+text",
           "text": [],
           "textfont": {
            "color": "rgb(0, 0, 0)"
           },
           "textposition": "middle center",
           "x": [
            0.75
           ],
           "y": [
            0
           ]
          },
          {
           "hoverinfo": "none",
           "marker": {
            "color": "rgb(255, 255, 255)",
            "line": {
             "color": "rgb(0, 0, 0)",
             "width": 2
            },
            "size": 20
           },
           "mode": "markers+text",
           "text": [],
           "textfont": {
            "color": "rgb(0, 0, 0)"
           },
           "textposition": "middle center",
           "x": [
            0.5
           ],
           "y": [
            0
           ]
          },
          {
           "hoverinfo": "none",
           "marker": {
            "color": "rgb(255, 255, 255)",
            "line": {
             "color": "rgb(0, 0, 0)",
             "width": 2
            },
            "size": 20
           },
           "mode": "markers+text",
           "text": [],
           "textfont": {
            "color": "rgb(0, 0, 0)"
           },
           "textposition": "middle center",
           "x": [
            0.25
           ],
           "y": [
            0
           ]
          },
          {
           "hoverinfo": "none",
           "marker": {
            "color": "rgb(255, 255, 255)",
            "line": {
             "color": "rgb(0, 0, 0)",
             "width": 2
            },
            "size": 20
           },
           "mode": "markers+text",
           "text": [],
           "textfont": {
            "color": "rgb(0, 0, 0)"
           },
           "textposition": "middle center",
           "x": [
            0.375
           ],
           "y": [
            0.5
           ]
          },
          {
           "hoverinfo": "none",
           "mode": "text",
           "text": [
            4,
            8,
            8,
            11,
            7,
            4,
            2,
            9,
            14,
            10,
            2,
            1,
            6,
            7
           ],
           "textfont": {
            "color": "rgb(0, 0, 0)"
           },
           "textposition": "middle center",
           "x": [
            0.08835225700681207,
            0.16164774299318793,
            0.375,
            0.2878787878787879,
            0.625,
            0.6625594305323629,
            0.4750594305323629,
            0.911647742993188,
            0.7878787878787878,
            0.911647742993188,
            0.625,
            0.375,
            0.3999405694676371,
            0.2749405694676371
           ],
           "y": [
            0.768323871496594,
            0.268323871496594,
            1.0724637681159421,
            0.5,
            1.0724637681159421,
            0.5093898576330907,
            0.7406101423669093,
            0.768323871496594,
            0.5,
            0.23167612850340602,
            -0.07246376811594203,
            -0.07246376811594203,
            0.24061014236690928,
            0.2593898576330907
           ]
          }
         ],
         "name": 24
        },
        {
         "data": [
          {
           "hoverinfo": "none",
           "line": {
            "color": "rgb(0, 0, 255)",
            "width": 2
           },
           "mode": "lines",
           "x": [
            0,
            0.25,
            null
           ],
           "y": [
            0.5,
            1,
            null
           ]
          },
          {
           "hoverinfo": "none",
           "line": {
            "color": "rgb(0, 0, 255)",
            "width": 2
           },
           "mode": "lines",
           "x": [
            0,
            0.25,
            null
           ],
           "y": [
            0.5,
            0,
            null
           ]
          },
          {
           "hoverinfo": "none",
           "line": {
            "color": "rgb(0, 0, 0)",
            "width": 2
           },
           "mode": "lines",
           "x": [
            0.25,
            0.5,
            null
           ],
           "y": [
            1,
            1,
            null
           ]
          },
          {
           "hoverinfo": "none",
           "line": {
            "color": "rgb(255, 0, 0)",
            "width": 2
           },
           "mode": "lines",
           "x": [
            0.25,
            0.25,
            null
           ],
           "y": [
            1,
            0,
            null
           ]
          },
          {
           "hoverinfo": "none",
           "line": {
            "color": "rgb(0, 0, 255)",
            "width": 2
           },
           "mode": "lines",
           "x": [
            0.5,
            0.75,
            null
           ],
           "y": [
            1,
            1,
            null
           ]
          },
          {
           "hoverinfo": "none",
           "line": {
            "color": "rgb(0, 0, 255)",
            "width": 2
           },
           "mode": "lines",
           "x": [
            0.5,
            0.75,
            null
           ],
           "y": [
            1,
            0,
            null
           ]
          },
          {
           "hoverinfo": "none",
           "line": {
            "color": "rgb(0, 0, 255)",
            "width": 2
           },
           "mode": "lines",
           "x": [
            0.5,
            0.375,
            null
           ],
           "y": [
            1,
            0.5,
            null
           ]
          },
          {
           "hoverinfo": "none",
           "line": {
            "color": "rgb(0, 0, 255)",
            "width": 2
           },
           "mode": "lines",
           "x": [
            0.75,
            1,
            null
           ],
           "y": [
            1,
            0.5,
            null
           ]
          },
          {
           "hoverinfo": "none",
           "line": {
            "color": "rgb(0, 0, 0)",
            "width": 2
           },
           "mode": "lines",
           "x": [
            0.75,
            0.75,
            null
           ],
           "y": [
            1,
            0,
            null
           ]
          },
          {
           "hoverinfo": "none",
           "line": {
            "color": "rgb(0, 0, 0)",
            "width": 2
           },
           "mode": "lines",
           "x": [
            1,
            0.75,
            null
           ],
           "y": [
            0.5,
            0,
            null
           ]
          },
          {
           "hoverinfo": "none",
           "line": {
            "color": "rgb(0, 0, 255)",
            "width": 2
           },
           "mode": "lines",
           "x": [
            0.75,
            0.5,
            null
           ],
           "y": [
            0,
            0,
            null
           ]
          },
          {
           "hoverinfo": "none",
           "line": {
            "color": "rgb(0, 0, 255)",
            "width": 2
           },
           "mode": "lines",
           "x": [
            0.5,
            0.25,
            null
           ],
           "y": [
            0,
            0,
            null
           ]
          },
          {
           "hoverinfo": "none",
           "line": {
            "color": "rgb(0, 0, 0)",
            "width": 2
           },
           "mode": "lines",
           "x": [
            0.5,
            0.375,
            null
           ],
           "y": [
            0,
            0.5,
            null
           ]
          },
          {
           "hoverinfo": "none",
           "line": {
            "color": "rgb(0, 0, 0)",
            "width": 2
           },
           "mode": "lines",
           "x": [
            0.25,
            0.375,
            null
           ],
           "y": [
            0,
            0.5,
            null
           ]
          },
          {
           "hoverinfo": "none",
           "marker": {
            "color": "rgb(255, 255, 255)",
            "line": {
             "color": "rgb(0, 0, 0)",
             "width": 2
            },
            "size": 20
           },
           "mode": "markers+text",
           "text": [],
           "textfont": {
            "color": "rgb(0, 0, 0)"
           },
           "textposition": "middle center",
           "x": [
            0
           ],
           "y": [
            0.5
           ]
          },
          {
           "hoverinfo": "none",
           "marker": {
            "color": "rgb(255, 255, 255)",
            "line": {
             "color": "rgb(0, 0, 0)",
             "width": 2
            },
            "size": 20
           },
           "mode": "markers+text",
           "text": [],
           "textfont": {
            "color": "rgb(0, 0, 0)"
           },
           "textposition": "middle center",
           "x": [
            0.25
           ],
           "y": [
            1
           ]
          },
          {
           "hoverinfo": "none",
           "marker": {
            "color": "rgb(255, 255, 255)",
            "line": {
             "color": "rgb(0, 0, 0)",
             "width": 2
            },
            "size": 20
           },
           "mode": "markers+text",
           "text": [],
           "textfont": {
            "color": "rgb(0, 0, 0)"
           },
           "textposition": "middle center",
           "x": [
            0.5
           ],
           "y": [
            1
           ]
          },
          {
           "hoverinfo": "none",
           "marker": {
            "color": "rgb(255, 255, 255)",
            "line": {
             "color": "rgb(0, 0, 0)",
             "width": 2
            },
            "size": 20
           },
           "mode": "markers+text",
           "text": [],
           "textfont": {
            "color": "rgb(0, 0, 0)"
           },
           "textposition": "middle center",
           "x": [
            0.75
           ],
           "y": [
            1
           ]
          },
          {
           "hoverinfo": "none",
           "marker": {
            "color": "rgb(255, 255, 255)",
            "line": {
             "color": "rgb(0, 0, 0)",
             "width": 2
            },
            "size": 20
           },
           "mode": "markers+text",
           "text": [],
           "textfont": {
            "color": "rgb(0, 0, 0)"
           },
           "textposition": "middle center",
           "x": [
            1
           ],
           "y": [
            0.5
           ]
          },
          {
           "hoverinfo": "none",
           "marker": {
            "color": "rgb(255, 255, 255)",
            "line": {
             "color": "rgb(0, 0, 0)",
             "width": 2
            },
            "size": 20
           },
           "mode": "markers+text",
           "text": [],
           "textfont": {
            "color": "rgb(0, 0, 0)"
           },
           "textposition": "middle center",
           "x": [
            0.75
           ],
           "y": [
            0
           ]
          },
          {
           "hoverinfo": "none",
           "marker": {
            "color": "rgb(255, 255, 255)",
            "line": {
             "color": "rgb(0, 0, 0)",
             "width": 2
            },
            "size": 20
           },
           "mode": "markers+text",
           "text": [],
           "textfont": {
            "color": "rgb(0, 0, 0)"
           },
           "textposition": "middle center",
           "x": [
            0.5
           ],
           "y": [
            0
           ]
          },
          {
           "hoverinfo": "none",
           "marker": {
            "color": "rgb(255, 255, 255)",
            "line": {
             "color": "rgb(0, 0, 0)",
             "width": 2
            },
            "size": 20
           },
           "mode": "markers+text",
           "text": [],
           "textfont": {
            "color": "rgb(0, 0, 0)"
           },
           "textposition": "middle center",
           "x": [
            0.25
           ],
           "y": [
            0
           ]
          },
          {
           "hoverinfo": "none",
           "marker": {
            "color": "rgb(255, 255, 255)",
            "line": {
             "color": "rgb(0, 0, 0)",
             "width": 2
            },
            "size": 20
           },
           "mode": "markers+text",
           "text": [],
           "textfont": {
            "color": "rgb(0, 0, 0)"
           },
           "textposition": "middle center",
           "x": [
            0.375
           ],
           "y": [
            0.5
           ]
          },
          {
           "hoverinfo": "none",
           "mode": "text",
           "text": [
            4,
            8,
            8,
            11,
            7,
            4,
            2,
            9,
            14,
            10,
            2,
            1,
            6,
            7
           ],
           "textfont": {
            "color": "rgb(0, 0, 0)"
           },
           "textposition": "middle center",
           "x": [
            0.08835225700681207,
            0.16164774299318793,
            0.375,
            0.2878787878787879,
            0.625,
            0.6625594305323629,
            0.4750594305323629,
            0.911647742993188,
            0.7878787878787878,
            0.911647742993188,
            0.625,
            0.375,
            0.3999405694676371,
            0.2749405694676371
           ],
           "y": [
            0.768323871496594,
            0.268323871496594,
            1.0724637681159421,
            0.5,
            1.0724637681159421,
            0.5093898576330907,
            0.7406101423669093,
            0.768323871496594,
            0.5,
            0.23167612850340602,
            -0.07246376811594203,
            -0.07246376811594203,
            0.24061014236690928,
            0.2593898576330907
           ]
          }
         ],
         "name": 25
        },
        {
         "data": [
          {
           "hoverinfo": "none",
           "line": {
            "color": "rgb(0, 0, 255)",
            "width": 2
           },
           "mode": "lines",
           "x": [
            0,
            0.25,
            null
           ],
           "y": [
            0.5,
            1,
            null
           ]
          },
          {
           "hoverinfo": "none",
           "line": {
            "color": "rgb(0, 0, 255)",
            "width": 2
           },
           "mode": "lines",
           "x": [
            0,
            0.25,
            null
           ],
           "y": [
            0.5,
            0,
            null
           ]
          },
          {
           "hoverinfo": "none",
           "line": {
            "color": "rgb(0, 0, 0)",
            "width": 2
           },
           "mode": "lines",
           "x": [
            0.25,
            0.5,
            null
           ],
           "y": [
            1,
            1,
            null
           ]
          },
          {
           "hoverinfo": "none",
           "line": {
            "color": "rgb(0, 0, 0)",
            "width": 2
           },
           "mode": "lines",
           "x": [
            0.25,
            0.25,
            null
           ],
           "y": [
            1,
            0,
            null
           ]
          },
          {
           "hoverinfo": "none",
           "line": {
            "color": "rgb(0, 0, 255)",
            "width": 2
           },
           "mode": "lines",
           "x": [
            0.5,
            0.75,
            null
           ],
           "y": [
            1,
            1,
            null
           ]
          },
          {
           "hoverinfo": "none",
           "line": {
            "color": "rgb(0, 0, 255)",
            "width": 2
           },
           "mode": "lines",
           "x": [
            0.5,
            0.75,
            null
           ],
           "y": [
            1,
            0,
            null
           ]
          },
          {
           "hoverinfo": "none",
           "line": {
            "color": "rgb(0, 0, 255)",
            "width": 2
           },
           "mode": "lines",
           "x": [
            0.5,
            0.375,
            null
           ],
           "y": [
            1,
            0.5,
            null
           ]
          },
          {
           "hoverinfo": "none",
           "line": {
            "color": "rgb(0, 0, 255)",
            "width": 2
           },
           "mode": "lines",
           "x": [
            0.75,
            1,
            null
           ],
           "y": [
            1,
            0.5,
            null
           ]
          },
          {
           "hoverinfo": "none",
           "line": {
            "color": "rgb(0, 0, 0)",
            "width": 2
           },
           "mode": "lines",
           "x": [
            0.75,
            0.75,
            null
           ],
           "y": [
            1,
            0,
            null
           ]
          },
          {
           "hoverinfo": "none",
           "line": {
            "color": "rgb(0, 0, 0)",
            "width": 2
           },
           "mode": "lines",
           "x": [
            1,
            0.75,
            null
           ],
           "y": [
            0.5,
            0,
            null
           ]
          },
          {
           "hoverinfo": "none",
           "line": {
            "color": "rgb(0, 0, 255)",
            "width": 2
           },
           "mode": "lines",
           "x": [
            0.75,
            0.5,
            null
           ],
           "y": [
            0,
            0,
            null
           ]
          },
          {
           "hoverinfo": "none",
           "line": {
            "color": "rgb(0, 0, 255)",
            "width": 2
           },
           "mode": "lines",
           "x": [
            0.5,
            0.25,
            null
           ],
           "y": [
            0,
            0,
            null
           ]
          },
          {
           "hoverinfo": "none",
           "line": {
            "color": "rgb(0, 0, 0)",
            "width": 2
           },
           "mode": "lines",
           "x": [
            0.5,
            0.375,
            null
           ],
           "y": [
            0,
            0.5,
            null
           ]
          },
          {
           "hoverinfo": "none",
           "line": {
            "color": "rgb(0, 0, 0)",
            "width": 2
           },
           "mode": "lines",
           "x": [
            0.25,
            0.375,
            null
           ],
           "y": [
            0,
            0.5,
            null
           ]
          },
          {
           "hoverinfo": "none",
           "marker": {
            "color": "rgb(255, 255, 255)",
            "line": {
             "color": "rgb(0, 0, 0)",
             "width": 2
            },
            "size": 20
           },
           "mode": "markers+text",
           "text": [],
           "textfont": {
            "color": "rgb(0, 0, 0)"
           },
           "textposition": "middle center",
           "x": [
            0
           ],
           "y": [
            0.5
           ]
          },
          {
           "hoverinfo": "none",
           "marker": {
            "color": "rgb(255, 255, 255)",
            "line": {
             "color": "rgb(0, 0, 0)",
             "width": 2
            },
            "size": 20
           },
           "mode": "markers+text",
           "text": [],
           "textfont": {
            "color": "rgb(0, 0, 0)"
           },
           "textposition": "middle center",
           "x": [
            0.25
           ],
           "y": [
            1
           ]
          },
          {
           "hoverinfo": "none",
           "marker": {
            "color": "rgb(255, 255, 255)",
            "line": {
             "color": "rgb(0, 0, 0)",
             "width": 2
            },
            "size": 20
           },
           "mode": "markers+text",
           "text": [],
           "textfont": {
            "color": "rgb(0, 0, 0)"
           },
           "textposition": "middle center",
           "x": [
            0.5
           ],
           "y": [
            1
           ]
          },
          {
           "hoverinfo": "none",
           "marker": {
            "color": "rgb(255, 255, 255)",
            "line": {
             "color": "rgb(0, 0, 0)",
             "width": 2
            },
            "size": 20
           },
           "mode": "markers+text",
           "text": [],
           "textfont": {
            "color": "rgb(0, 0, 0)"
           },
           "textposition": "middle center",
           "x": [
            0.75
           ],
           "y": [
            1
           ]
          },
          {
           "hoverinfo": "none",
           "marker": {
            "color": "rgb(255, 255, 255)",
            "line": {
             "color": "rgb(0, 0, 0)",
             "width": 2
            },
            "size": 20
           },
           "mode": "markers+text",
           "text": [],
           "textfont": {
            "color": "rgb(0, 0, 0)"
           },
           "textposition": "middle center",
           "x": [
            1
           ],
           "y": [
            0.5
           ]
          },
          {
           "hoverinfo": "none",
           "marker": {
            "color": "rgb(255, 255, 255)",
            "line": {
             "color": "rgb(0, 0, 0)",
             "width": 2
            },
            "size": 20
           },
           "mode": "markers+text",
           "text": [],
           "textfont": {
            "color": "rgb(0, 0, 0)"
           },
           "textposition": "middle center",
           "x": [
            0.75
           ],
           "y": [
            0
           ]
          },
          {
           "hoverinfo": "none",
           "marker": {
            "color": "rgb(255, 255, 255)",
            "line": {
             "color": "rgb(0, 0, 0)",
             "width": 2
            },
            "size": 20
           },
           "mode": "markers+text",
           "text": [],
           "textfont": {
            "color": "rgb(0, 0, 0)"
           },
           "textposition": "middle center",
           "x": [
            0.5
           ],
           "y": [
            0
           ]
          },
          {
           "hoverinfo": "none",
           "marker": {
            "color": "rgb(255, 255, 255)",
            "line": {
             "color": "rgb(0, 0, 0)",
             "width": 2
            },
            "size": 20
           },
           "mode": "markers+text",
           "text": [],
           "textfont": {
            "color": "rgb(0, 0, 0)"
           },
           "textposition": "middle center",
           "x": [
            0.25
           ],
           "y": [
            0
           ]
          },
          {
           "hoverinfo": "none",
           "marker": {
            "color": "rgb(255, 255, 255)",
            "line": {
             "color": "rgb(0, 0, 0)",
             "width": 2
            },
            "size": 20
           },
           "mode": "markers+text",
           "text": [],
           "textfont": {
            "color": "rgb(0, 0, 0)"
           },
           "textposition": "middle center",
           "x": [
            0.375
           ],
           "y": [
            0.5
           ]
          },
          {
           "hoverinfo": "none",
           "mode": "text",
           "text": [
            4,
            8,
            8,
            11,
            7,
            4,
            2,
            9,
            14,
            10,
            2,
            1,
            6,
            7
           ],
           "textfont": {
            "color": "rgb(0, 0, 0)"
           },
           "textposition": "middle center",
           "x": [
            0.08835225700681207,
            0.16164774299318793,
            0.375,
            0.2878787878787879,
            0.625,
            0.6625594305323629,
            0.4750594305323629,
            0.911647742993188,
            0.7878787878787878,
            0.911647742993188,
            0.625,
            0.375,
            0.3999405694676371,
            0.2749405694676371
           ],
           "y": [
            0.768323871496594,
            0.268323871496594,
            1.0724637681159421,
            0.5,
            1.0724637681159421,
            0.5093898576330907,
            0.7406101423669093,
            0.768323871496594,
            0.5,
            0.23167612850340602,
            -0.07246376811594203,
            -0.07246376811594203,
            0.24061014236690928,
            0.2593898576330907
           ]
          }
         ],
         "name": 26
        },
        {
         "data": [
          {
           "hoverinfo": "none",
           "line": {
            "color": "rgb(0, 0, 255)",
            "width": 2
           },
           "mode": "lines",
           "x": [
            0,
            0.25,
            null
           ],
           "y": [
            0.5,
            1,
            null
           ]
          },
          {
           "hoverinfo": "none",
           "line": {
            "color": "rgb(0, 0, 255)",
            "width": 2
           },
           "mode": "lines",
           "x": [
            0,
            0.25,
            null
           ],
           "y": [
            0.5,
            0,
            null
           ]
          },
          {
           "hoverinfo": "none",
           "line": {
            "color": "rgb(0, 0, 0)",
            "width": 2
           },
           "mode": "lines",
           "x": [
            0.25,
            0.5,
            null
           ],
           "y": [
            1,
            1,
            null
           ]
          },
          {
           "hoverinfo": "none",
           "line": {
            "color": "rgb(0, 0, 0)",
            "width": 2
           },
           "mode": "lines",
           "x": [
            0.25,
            0.25,
            null
           ],
           "y": [
            1,
            0,
            null
           ]
          },
          {
           "hoverinfo": "none",
           "line": {
            "color": "rgb(0, 0, 255)",
            "width": 2
           },
           "mode": "lines",
           "x": [
            0.5,
            0.75,
            null
           ],
           "y": [
            1,
            1,
            null
           ]
          },
          {
           "hoverinfo": "none",
           "line": {
            "color": "rgb(0, 0, 255)",
            "width": 2
           },
           "mode": "lines",
           "x": [
            0.5,
            0.75,
            null
           ],
           "y": [
            1,
            0,
            null
           ]
          },
          {
           "hoverinfo": "none",
           "line": {
            "color": "rgb(0, 0, 255)",
            "width": 2
           },
           "mode": "lines",
           "x": [
            0.5,
            0.375,
            null
           ],
           "y": [
            1,
            0.5,
            null
           ]
          },
          {
           "hoverinfo": "none",
           "line": {
            "color": "rgb(0, 0, 255)",
            "width": 2
           },
           "mode": "lines",
           "x": [
            0.75,
            1,
            null
           ],
           "y": [
            1,
            0.5,
            null
           ]
          },
          {
           "hoverinfo": "none",
           "line": {
            "color": "rgb(255, 0, 0)",
            "width": 2
           },
           "mode": "lines",
           "x": [
            0.75,
            0.75,
            null
           ],
           "y": [
            1,
            0,
            null
           ]
          },
          {
           "hoverinfo": "none",
           "line": {
            "color": "rgb(0, 0, 0)",
            "width": 2
           },
           "mode": "lines",
           "x": [
            1,
            0.75,
            null
           ],
           "y": [
            0.5,
            0,
            null
           ]
          },
          {
           "hoverinfo": "none",
           "line": {
            "color": "rgb(0, 0, 255)",
            "width": 2
           },
           "mode": "lines",
           "x": [
            0.75,
            0.5,
            null
           ],
           "y": [
            0,
            0,
            null
           ]
          },
          {
           "hoverinfo": "none",
           "line": {
            "color": "rgb(0, 0, 255)",
            "width": 2
           },
           "mode": "lines",
           "x": [
            0.5,
            0.25,
            null
           ],
           "y": [
            0,
            0,
            null
           ]
          },
          {
           "hoverinfo": "none",
           "line": {
            "color": "rgb(0, 0, 0)",
            "width": 2
           },
           "mode": "lines",
           "x": [
            0.5,
            0.375,
            null
           ],
           "y": [
            0,
            0.5,
            null
           ]
          },
          {
           "hoverinfo": "none",
           "line": {
            "color": "rgb(0, 0, 0)",
            "width": 2
           },
           "mode": "lines",
           "x": [
            0.25,
            0.375,
            null
           ],
           "y": [
            0,
            0.5,
            null
           ]
          },
          {
           "hoverinfo": "none",
           "marker": {
            "color": "rgb(255, 255, 255)",
            "line": {
             "color": "rgb(0, 0, 0)",
             "width": 2
            },
            "size": 20
           },
           "mode": "markers+text",
           "text": [],
           "textfont": {
            "color": "rgb(0, 0, 0)"
           },
           "textposition": "middle center",
           "x": [
            0
           ],
           "y": [
            0.5
           ]
          },
          {
           "hoverinfo": "none",
           "marker": {
            "color": "rgb(255, 255, 255)",
            "line": {
             "color": "rgb(0, 0, 0)",
             "width": 2
            },
            "size": 20
           },
           "mode": "markers+text",
           "text": [],
           "textfont": {
            "color": "rgb(0, 0, 0)"
           },
           "textposition": "middle center",
           "x": [
            0.25
           ],
           "y": [
            1
           ]
          },
          {
           "hoverinfo": "none",
           "marker": {
            "color": "rgb(255, 255, 255)",
            "line": {
             "color": "rgb(0, 0, 0)",
             "width": 2
            },
            "size": 20
           },
           "mode": "markers+text",
           "text": [],
           "textfont": {
            "color": "rgb(0, 0, 0)"
           },
           "textposition": "middle center",
           "x": [
            0.5
           ],
           "y": [
            1
           ]
          },
          {
           "hoverinfo": "none",
           "marker": {
            "color": "rgb(255, 255, 255)",
            "line": {
             "color": "rgb(0, 0, 0)",
             "width": 2
            },
            "size": 20
           },
           "mode": "markers+text",
           "text": [],
           "textfont": {
            "color": "rgb(0, 0, 0)"
           },
           "textposition": "middle center",
           "x": [
            0.75
           ],
           "y": [
            1
           ]
          },
          {
           "hoverinfo": "none",
           "marker": {
            "color": "rgb(255, 255, 255)",
            "line": {
             "color": "rgb(0, 0, 0)",
             "width": 2
            },
            "size": 20
           },
           "mode": "markers+text",
           "text": [],
           "textfont": {
            "color": "rgb(0, 0, 0)"
           },
           "textposition": "middle center",
           "x": [
            1
           ],
           "y": [
            0.5
           ]
          },
          {
           "hoverinfo": "none",
           "marker": {
            "color": "rgb(255, 255, 255)",
            "line": {
             "color": "rgb(0, 0, 0)",
             "width": 2
            },
            "size": 20
           },
           "mode": "markers+text",
           "text": [],
           "textfont": {
            "color": "rgb(0, 0, 0)"
           },
           "textposition": "middle center",
           "x": [
            0.75
           ],
           "y": [
            0
           ]
          },
          {
           "hoverinfo": "none",
           "marker": {
            "color": "rgb(255, 255, 255)",
            "line": {
             "color": "rgb(0, 0, 0)",
             "width": 2
            },
            "size": 20
           },
           "mode": "markers+text",
           "text": [],
           "textfont": {
            "color": "rgb(0, 0, 0)"
           },
           "textposition": "middle center",
           "x": [
            0.5
           ],
           "y": [
            0
           ]
          },
          {
           "hoverinfo": "none",
           "marker": {
            "color": "rgb(255, 255, 255)",
            "line": {
             "color": "rgb(0, 0, 0)",
             "width": 2
            },
            "size": 20
           },
           "mode": "markers+text",
           "text": [],
           "textfont": {
            "color": "rgb(0, 0, 0)"
           },
           "textposition": "middle center",
           "x": [
            0.25
           ],
           "y": [
            0
           ]
          },
          {
           "hoverinfo": "none",
           "marker": {
            "color": "rgb(255, 255, 255)",
            "line": {
             "color": "rgb(0, 0, 0)",
             "width": 2
            },
            "size": 20
           },
           "mode": "markers+text",
           "text": [],
           "textfont": {
            "color": "rgb(0, 0, 0)"
           },
           "textposition": "middle center",
           "x": [
            0.375
           ],
           "y": [
            0.5
           ]
          },
          {
           "hoverinfo": "none",
           "mode": "text",
           "text": [
            4,
            8,
            8,
            11,
            7,
            4,
            2,
            9,
            14,
            10,
            2,
            1,
            6,
            7
           ],
           "textfont": {
            "color": "rgb(0, 0, 0)"
           },
           "textposition": "middle center",
           "x": [
            0.08835225700681207,
            0.16164774299318793,
            0.375,
            0.2878787878787879,
            0.625,
            0.6625594305323629,
            0.4750594305323629,
            0.911647742993188,
            0.7878787878787878,
            0.911647742993188,
            0.625,
            0.375,
            0.3999405694676371,
            0.2749405694676371
           ],
           "y": [
            0.768323871496594,
            0.268323871496594,
            1.0724637681159421,
            0.5,
            1.0724637681159421,
            0.5093898576330907,
            0.7406101423669093,
            0.768323871496594,
            0.5,
            0.23167612850340602,
            -0.07246376811594203,
            -0.07246376811594203,
            0.24061014236690928,
            0.2593898576330907
           ]
          }
         ],
         "name": 27
        },
        {
         "data": [
          {
           "hoverinfo": "none",
           "line": {
            "color": "rgb(0, 0, 255)",
            "width": 2
           },
           "mode": "lines",
           "x": [
            0,
            0.25,
            null
           ],
           "y": [
            0.5,
            1,
            null
           ]
          },
          {
           "hoverinfo": "none",
           "line": {
            "color": "rgb(0, 0, 255)",
            "width": 2
           },
           "mode": "lines",
           "x": [
            0,
            0.25,
            null
           ],
           "y": [
            0.5,
            0,
            null
           ]
          },
          {
           "hoverinfo": "none",
           "line": {
            "color": "rgb(0, 0, 0)",
            "width": 2
           },
           "mode": "lines",
           "x": [
            0.25,
            0.5,
            null
           ],
           "y": [
            1,
            1,
            null
           ]
          },
          {
           "hoverinfo": "none",
           "line": {
            "color": "rgb(0, 0, 0)",
            "width": 2
           },
           "mode": "lines",
           "x": [
            0.25,
            0.25,
            null
           ],
           "y": [
            1,
            0,
            null
           ]
          },
          {
           "hoverinfo": "none",
           "line": {
            "color": "rgb(0, 0, 255)",
            "width": 2
           },
           "mode": "lines",
           "x": [
            0.5,
            0.75,
            null
           ],
           "y": [
            1,
            1,
            null
           ]
          },
          {
           "hoverinfo": "none",
           "line": {
            "color": "rgb(0, 0, 255)",
            "width": 2
           },
           "mode": "lines",
           "x": [
            0.5,
            0.75,
            null
           ],
           "y": [
            1,
            0,
            null
           ]
          },
          {
           "hoverinfo": "none",
           "line": {
            "color": "rgb(0, 0, 255)",
            "width": 2
           },
           "mode": "lines",
           "x": [
            0.5,
            0.375,
            null
           ],
           "y": [
            1,
            0.5,
            null
           ]
          },
          {
           "hoverinfo": "none",
           "line": {
            "color": "rgb(0, 0, 255)",
            "width": 2
           },
           "mode": "lines",
           "x": [
            0.75,
            1,
            null
           ],
           "y": [
            1,
            0.5,
            null
           ]
          },
          {
           "hoverinfo": "none",
           "line": {
            "color": "rgb(0, 0, 0)",
            "width": 2
           },
           "mode": "lines",
           "x": [
            0.75,
            0.75,
            null
           ],
           "y": [
            1,
            0,
            null
           ]
          },
          {
           "hoverinfo": "none",
           "line": {
            "color": "rgb(0, 0, 0)",
            "width": 2
           },
           "mode": "lines",
           "x": [
            1,
            0.75,
            null
           ],
           "y": [
            0.5,
            0,
            null
           ]
          },
          {
           "hoverinfo": "none",
           "line": {
            "color": "rgb(0, 0, 255)",
            "width": 2
           },
           "mode": "lines",
           "x": [
            0.75,
            0.5,
            null
           ],
           "y": [
            0,
            0,
            null
           ]
          },
          {
           "hoverinfo": "none",
           "line": {
            "color": "rgb(0, 0, 255)",
            "width": 2
           },
           "mode": "lines",
           "x": [
            0.5,
            0.25,
            null
           ],
           "y": [
            0,
            0,
            null
           ]
          },
          {
           "hoverinfo": "none",
           "line": {
            "color": "rgb(0, 0, 0)",
            "width": 2
           },
           "mode": "lines",
           "x": [
            0.5,
            0.375,
            null
           ],
           "y": [
            0,
            0.5,
            null
           ]
          },
          {
           "hoverinfo": "none",
           "line": {
            "color": "rgb(0, 0, 0)",
            "width": 2
           },
           "mode": "lines",
           "x": [
            0.25,
            0.375,
            null
           ],
           "y": [
            0,
            0.5,
            null
           ]
          },
          {
           "hoverinfo": "none",
           "marker": {
            "color": "rgb(255, 255, 255)",
            "line": {
             "color": "rgb(0, 0, 0)",
             "width": 2
            },
            "size": 20
           },
           "mode": "markers+text",
           "text": [],
           "textfont": {
            "color": "rgb(0, 0, 0)"
           },
           "textposition": "middle center",
           "x": [
            0
           ],
           "y": [
            0.5
           ]
          },
          {
           "hoverinfo": "none",
           "marker": {
            "color": "rgb(255, 255, 255)",
            "line": {
             "color": "rgb(0, 0, 0)",
             "width": 2
            },
            "size": 20
           },
           "mode": "markers+text",
           "text": [],
           "textfont": {
            "color": "rgb(0, 0, 0)"
           },
           "textposition": "middle center",
           "x": [
            0.25
           ],
           "y": [
            1
           ]
          },
          {
           "hoverinfo": "none",
           "marker": {
            "color": "rgb(255, 255, 255)",
            "line": {
             "color": "rgb(0, 0, 0)",
             "width": 2
            },
            "size": 20
           },
           "mode": "markers+text",
           "text": [],
           "textfont": {
            "color": "rgb(0, 0, 0)"
           },
           "textposition": "middle center",
           "x": [
            0.5
           ],
           "y": [
            1
           ]
          },
          {
           "hoverinfo": "none",
           "marker": {
            "color": "rgb(255, 255, 255)",
            "line": {
             "color": "rgb(0, 0, 0)",
             "width": 2
            },
            "size": 20
           },
           "mode": "markers+text",
           "text": [],
           "textfont": {
            "color": "rgb(0, 0, 0)"
           },
           "textposition": "middle center",
           "x": [
            0.75
           ],
           "y": [
            1
           ]
          },
          {
           "hoverinfo": "none",
           "marker": {
            "color": "rgb(255, 255, 255)",
            "line": {
             "color": "rgb(0, 0, 0)",
             "width": 2
            },
            "size": 20
           },
           "mode": "markers+text",
           "text": [],
           "textfont": {
            "color": "rgb(0, 0, 0)"
           },
           "textposition": "middle center",
           "x": [
            1
           ],
           "y": [
            0.5
           ]
          },
          {
           "hoverinfo": "none",
           "marker": {
            "color": "rgb(255, 255, 255)",
            "line": {
             "color": "rgb(0, 0, 0)",
             "width": 2
            },
            "size": 20
           },
           "mode": "markers+text",
           "text": [],
           "textfont": {
            "color": "rgb(0, 0, 0)"
           },
           "textposition": "middle center",
           "x": [
            0.75
           ],
           "y": [
            0
           ]
          },
          {
           "hoverinfo": "none",
           "marker": {
            "color": "rgb(255, 255, 255)",
            "line": {
             "color": "rgb(0, 0, 0)",
             "width": 2
            },
            "size": 20
           },
           "mode": "markers+text",
           "text": [],
           "textfont": {
            "color": "rgb(0, 0, 0)"
           },
           "textposition": "middle center",
           "x": [
            0.5
           ],
           "y": [
            0
           ]
          },
          {
           "hoverinfo": "none",
           "marker": {
            "color": "rgb(255, 255, 255)",
            "line": {
             "color": "rgb(0, 0, 0)",
             "width": 2
            },
            "size": 20
           },
           "mode": "markers+text",
           "text": [],
           "textfont": {
            "color": "rgb(0, 0, 0)"
           },
           "textposition": "middle center",
           "x": [
            0.25
           ],
           "y": [
            0
           ]
          },
          {
           "hoverinfo": "none",
           "marker": {
            "color": "rgb(255, 255, 255)",
            "line": {
             "color": "rgb(0, 0, 0)",
             "width": 2
            },
            "size": 20
           },
           "mode": "markers+text",
           "text": [],
           "textfont": {
            "color": "rgb(0, 0, 0)"
           },
           "textposition": "middle center",
           "x": [
            0.375
           ],
           "y": [
            0.5
           ]
          },
          {
           "hoverinfo": "none",
           "mode": "text",
           "text": [
            4,
            8,
            8,
            11,
            7,
            4,
            2,
            9,
            14,
            10,
            2,
            1,
            6,
            7
           ],
           "textfont": {
            "color": "rgb(0, 0, 0)"
           },
           "textposition": "middle center",
           "x": [
            0.08835225700681207,
            0.16164774299318793,
            0.375,
            0.2878787878787879,
            0.625,
            0.6625594305323629,
            0.4750594305323629,
            0.911647742993188,
            0.7878787878787878,
            0.911647742993188,
            0.625,
            0.375,
            0.3999405694676371,
            0.2749405694676371
           ],
           "y": [
            0.768323871496594,
            0.268323871496594,
            1.0724637681159421,
            0.5,
            1.0724637681159421,
            0.5093898576330907,
            0.7406101423669093,
            0.768323871496594,
            0.5,
            0.23167612850340602,
            -0.07246376811594203,
            -0.07246376811594203,
            0.24061014236690928,
            0.2593898576330907
           ]
          }
         ],
         "name": 28
        }
       ],
       "layout": {
        "height": 256,
        "margin": {
         "b": 0,
         "l": 0,
         "r": 0,
         "t": 0
        },
        "showlegend": false,
        "sliders": [
         {
          "currentvalue": {
           "visible": false
          },
          "steps": [
           {
            "args": [
             [
              0
             ],
             {
              "frame": {
               "redraw": false
              },
              "mode": "immediate"
             }
            ],
            "label": "",
            "method": "animate"
           },
           {
            "args": [
             [
              1
             ],
             {
              "frame": {
               "redraw": false
              },
              "mode": "immediate"
             }
            ],
            "label": "",
            "method": "animate"
           },
           {
            "args": [
             [
              2
             ],
             {
              "frame": {
               "redraw": false
              },
              "mode": "immediate"
             }
            ],
            "label": "",
            "method": "animate"
           },
           {
            "args": [
             [
              3
             ],
             {
              "frame": {
               "redraw": false
              },
              "mode": "immediate"
             }
            ],
            "label": "",
            "method": "animate"
           },
           {
            "args": [
             [
              4
             ],
             {
              "frame": {
               "redraw": false
              },
              "mode": "immediate"
             }
            ],
            "label": "",
            "method": "animate"
           },
           {
            "args": [
             [
              5
             ],
             {
              "frame": {
               "redraw": false
              },
              "mode": "immediate"
             }
            ],
            "label": "",
            "method": "animate"
           },
           {
            "args": [
             [
              6
             ],
             {
              "frame": {
               "redraw": false
              },
              "mode": "immediate"
             }
            ],
            "label": "",
            "method": "animate"
           },
           {
            "args": [
             [
              7
             ],
             {
              "frame": {
               "redraw": false
              },
              "mode": "immediate"
             }
            ],
            "label": "",
            "method": "animate"
           },
           {
            "args": [
             [
              8
             ],
             {
              "frame": {
               "redraw": false
              },
              "mode": "immediate"
             }
            ],
            "label": "",
            "method": "animate"
           },
           {
            "args": [
             [
              9
             ],
             {
              "frame": {
               "redraw": false
              },
              "mode": "immediate"
             }
            ],
            "label": "",
            "method": "animate"
           },
           {
            "args": [
             [
              10
             ],
             {
              "frame": {
               "redraw": false
              },
              "mode": "immediate"
             }
            ],
            "label": "",
            "method": "animate"
           },
           {
            "args": [
             [
              11
             ],
             {
              "frame": {
               "redraw": false
              },
              "mode": "immediate"
             }
            ],
            "label": "",
            "method": "animate"
           },
           {
            "args": [
             [
              12
             ],
             {
              "frame": {
               "redraw": false
              },
              "mode": "immediate"
             }
            ],
            "label": "",
            "method": "animate"
           },
           {
            "args": [
             [
              13
             ],
             {
              "frame": {
               "redraw": false
              },
              "mode": "immediate"
             }
            ],
            "label": "",
            "method": "animate"
           },
           {
            "args": [
             [
              14
             ],
             {
              "frame": {
               "redraw": false
              },
              "mode": "immediate"
             }
            ],
            "label": "",
            "method": "animate"
           },
           {
            "args": [
             [
              15
             ],
             {
              "frame": {
               "redraw": false
              },
              "mode": "immediate"
             }
            ],
            "label": "",
            "method": "animate"
           },
           {
            "args": [
             [
              16
             ],
             {
              "frame": {
               "redraw": false
              },
              "mode": "immediate"
             }
            ],
            "label": "",
            "method": "animate"
           },
           {
            "args": [
             [
              17
             ],
             {
              "frame": {
               "redraw": false
              },
              "mode": "immediate"
             }
            ],
            "label": "",
            "method": "animate"
           },
           {
            "args": [
             [
              18
             ],
             {
              "frame": {
               "redraw": false
              },
              "mode": "immediate"
             }
            ],
            "label": "",
            "method": "animate"
           },
           {
            "args": [
             [
              19
             ],
             {
              "frame": {
               "redraw": false
              },
              "mode": "immediate"
             }
            ],
            "label": "",
            "method": "animate"
           },
           {
            "args": [
             [
              20
             ],
             {
              "frame": {
               "redraw": false
              },
              "mode": "immediate"
             }
            ],
            "label": "",
            "method": "animate"
           },
           {
            "args": [
             [
              21
             ],
             {
              "frame": {
               "redraw": false
              },
              "mode": "immediate"
             }
            ],
            "label": "",
            "method": "animate"
           },
           {
            "args": [
             [
              22
             ],
             {
              "frame": {
               "redraw": false
              },
              "mode": "immediate"
             }
            ],
            "label": "",
            "method": "animate"
           },
           {
            "args": [
             [
              23
             ],
             {
              "frame": {
               "redraw": false
              },
              "mode": "immediate"
             }
            ],
            "label": "",
            "method": "animate"
           },
           {
            "args": [
             [
              24
             ],
             {
              "frame": {
               "redraw": false
              },
              "mode": "immediate"
             }
            ],
            "label": "",
            "method": "animate"
           },
           {
            "args": [
             [
              25
             ],
             {
              "frame": {
               "redraw": false
              },
              "mode": "immediate"
             }
            ],
            "label": "",
            "method": "animate"
           },
           {
            "args": [
             [
              26
             ],
             {
              "frame": {
               "redraw": false
              },
              "mode": "immediate"
             }
            ],
            "label": "",
            "method": "animate"
           },
           {
            "args": [
             [
              27
             ],
             {
              "frame": {
               "redraw": false
              },
              "mode": "immediate"
             }
            ],
            "label": "",
            "method": "animate"
           },
           {
            "args": [
             [
              28
             ],
             {
              "frame": {
               "redraw": false
              },
              "mode": "immediate"
             }
            ],
            "label": "",
            "method": "animate"
           }
          ]
         }
        ],
        "updatemenus": [
         {
          "buttons": [
           {
            "args": [
             null,
             {
              "frame": {
               "redraw": false
              },
              "fromcurrent": true
             }
            ],
            "label": "Play",
            "method": "animate"
           },
           {
            "args": [
             [
              null
             ],
             {
              "frame": {
               "redraw": false
              },
              "mode": "immediate"
             }
            ],
            "label": "Pause",
            "method": "animate"
           }
          ],
          "showactive": true,
          "type": "buttons"
         }
        ],
        "width": 408,
        "xaxis": {
         "showgrid": false,
         "showticklabels": false,
         "zeroline": false
        },
        "yaxis": {
         "showgrid": false,
         "showticklabels": false,
         "zeroline": false
        }
       }
      },
      "text/html": [
       "<div id=\"40724d05-1f7f-48c6-97f5-8047f3cc8dd9\" style=\"height: 256.0px; width: 408.0px;\" class=\"plotly-graph-div\"></div><script type=\"text/javascript\">require([\"plotly\"], function(Plotly) { window.PLOTLYENV=window.PLOTLYENV || {};window.PLOTLYENV.BASE_URL=\"https://plot.ly\";\n",
       "        Plotly.plot(\n",
       "            '40724d05-1f7f-48c6-97f5-8047f3cc8dd9',\n",
       "            [{\"x\": [0.0, 0.25, null], \"y\": [0.5, 1.0, null], \"hoverinfo\": \"none\", \"mode\": \"lines\", \"line\": {\"width\": 2, \"color\": \"rgb(0, 0, 0)\"}}, {\"x\": [0.0, 0.25, null], \"y\": [0.5, 0.0, null], \"hoverinfo\": \"none\", \"mode\": \"lines\", \"line\": {\"width\": 2, \"color\": \"rgb(0, 0, 0)\"}}, {\"x\": [0.25, 0.5, null], \"y\": [1.0, 1.0, null], \"hoverinfo\": \"none\", \"mode\": \"lines\", \"line\": {\"width\": 2, \"color\": \"rgb(0, 0, 0)\"}}, {\"x\": [0.25, 0.25, null], \"y\": [1.0, 0.0, null], \"hoverinfo\": \"none\", \"mode\": \"lines\", \"line\": {\"width\": 2, \"color\": \"rgb(0, 0, 0)\"}}, {\"x\": [0.5, 0.75, null], \"y\": [1.0, 1.0, null], \"hoverinfo\": \"none\", \"mode\": \"lines\", \"line\": {\"width\": 2, \"color\": \"rgb(0, 0, 0)\"}}, {\"x\": [0.5, 0.75, null], \"y\": [1.0, 0.0, null], \"hoverinfo\": \"none\", \"mode\": \"lines\", \"line\": {\"width\": 2, \"color\": \"rgb(0, 0, 0)\"}}, {\"x\": [0.5, 0.375, null], \"y\": [1.0, 0.5, null], \"hoverinfo\": \"none\", \"mode\": \"lines\", \"line\": {\"width\": 2, \"color\": \"rgb(0, 0, 0)\"}}, {\"x\": [0.75, 1.0, null], \"y\": [1.0, 0.5, null], \"hoverinfo\": \"none\", \"mode\": \"lines\", \"line\": {\"width\": 2, \"color\": \"rgb(0, 0, 0)\"}}, {\"x\": [0.75, 0.75, null], \"y\": [1.0, 0.0, null], \"hoverinfo\": \"none\", \"mode\": \"lines\", \"line\": {\"width\": 2, \"color\": \"rgb(0, 0, 0)\"}}, {\"x\": [1.0, 0.75, null], \"y\": [0.5, 0.0, null], \"hoverinfo\": \"none\", \"mode\": \"lines\", \"line\": {\"width\": 2, \"color\": \"rgb(0, 0, 0)\"}}, {\"x\": [0.75, 0.5, null], \"y\": [0.0, 0.0, null], \"hoverinfo\": \"none\", \"mode\": \"lines\", \"line\": {\"width\": 2, \"color\": \"rgb(0, 0, 0)\"}}, {\"x\": [0.5, 0.25, null], \"y\": [0.0, 0.0, null], \"hoverinfo\": \"none\", \"mode\": \"lines\", \"line\": {\"width\": 2, \"color\": \"rgb(0, 0, 0)\"}}, {\"x\": [0.5, 0.375, null], \"y\": [0.0, 0.5, null], \"hoverinfo\": \"none\", \"mode\": \"lines\", \"line\": {\"width\": 2, \"color\": \"rgb(0, 0, 0)\"}}, {\"x\": [0.25, 0.375, null], \"y\": [0.0, 0.5, null], \"hoverinfo\": \"none\", \"mode\": \"lines\", \"line\": {\"width\": 2, \"color\": \"rgb(0, 0, 0)\"}}, {\"x\": [0.0], \"y\": [0.5], \"text\": [], \"textposition\": \"middle center\", \"hoverinfo\": \"none\", \"mode\": \"markers+text\", \"marker\": {\"size\": 20, \"color\": \"rgb(255, 255, 255)\", \"line\": {\"width\": 2, \"color\": \"rgb(0, 0, 0)\"}}, \"textfont\": {\"color\": \"rgb(0, 0, 0)\"}}, {\"x\": [0.25], \"y\": [1.0], \"text\": [], \"textposition\": \"middle center\", \"hoverinfo\": \"none\", \"mode\": \"markers+text\", \"marker\": {\"size\": 20, \"color\": \"rgb(255, 255, 255)\", \"line\": {\"width\": 2, \"color\": \"rgb(0, 0, 0)\"}}, \"textfont\": {\"color\": \"rgb(0, 0, 0)\"}}, {\"x\": [0.5], \"y\": [1.0], \"text\": [], \"textposition\": \"middle center\", \"hoverinfo\": \"none\", \"mode\": \"markers+text\", \"marker\": {\"size\": 20, \"color\": \"rgb(255, 255, 255)\", \"line\": {\"width\": 2, \"color\": \"rgb(0, 0, 0)\"}}, \"textfont\": {\"color\": \"rgb(0, 0, 0)\"}}, {\"x\": [0.75], \"y\": [1.0], \"text\": [], \"textposition\": \"middle center\", \"hoverinfo\": \"none\", \"mode\": \"markers+text\", \"marker\": {\"size\": 20, \"color\": \"rgb(255, 255, 255)\", \"line\": {\"width\": 2, \"color\": \"rgb(0, 0, 0)\"}}, \"textfont\": {\"color\": \"rgb(0, 0, 0)\"}}, {\"x\": [1.0], \"y\": [0.5], \"text\": [], \"textposition\": \"middle center\", \"hoverinfo\": \"none\", \"mode\": \"markers+text\", \"marker\": {\"size\": 20, \"color\": \"rgb(255, 255, 255)\", \"line\": {\"width\": 2, \"color\": \"rgb(0, 0, 0)\"}}, \"textfont\": {\"color\": \"rgb(0, 0, 0)\"}}, {\"x\": [0.75], \"y\": [0.0], \"text\": [], \"textposition\": \"middle center\", \"hoverinfo\": \"none\", \"mode\": \"markers+text\", \"marker\": {\"size\": 20, \"color\": \"rgb(255, 255, 255)\", \"line\": {\"width\": 2, \"color\": \"rgb(0, 0, 0)\"}}, \"textfont\": {\"color\": \"rgb(0, 0, 0)\"}}, {\"x\": [0.5], \"y\": [0.0], \"text\": [], \"textposition\": \"middle center\", \"hoverinfo\": \"none\", \"mode\": \"markers+text\", \"marker\": {\"size\": 20, \"color\": \"rgb(255, 255, 255)\", \"line\": {\"width\": 2, \"color\": \"rgb(0, 0, 0)\"}}, \"textfont\": {\"color\": \"rgb(0, 0, 0)\"}}, {\"x\": [0.25], \"y\": [0.0], \"text\": [], \"textposition\": \"middle center\", \"hoverinfo\": \"none\", \"mode\": \"markers+text\", \"marker\": {\"size\": 20, \"color\": \"rgb(255, 255, 255)\", \"line\": {\"width\": 2, \"color\": \"rgb(0, 0, 0)\"}}, \"textfont\": {\"color\": \"rgb(0, 0, 0)\"}}, {\"x\": [0.375], \"y\": [0.5], \"text\": [], \"textposition\": \"middle center\", \"hoverinfo\": \"none\", \"mode\": \"markers+text\", \"marker\": {\"size\": 20, \"color\": \"rgb(255, 255, 255)\", \"line\": {\"width\": 2, \"color\": \"rgb(0, 0, 0)\"}}, \"textfont\": {\"color\": \"rgb(0, 0, 0)\"}}, {\"x\": [0.08835225700681207, 0.16164774299318793, 0.375, 0.2878787878787879, 0.625, 0.6625594305323629, 0.4750594305323629, 0.911647742993188, 0.7878787878787878, 0.911647742993188, 0.625, 0.375, 0.3999405694676371, 0.2749405694676371], \"y\": [0.768323871496594, 0.268323871496594, 1.0724637681159421, 0.5, 1.0724637681159421, 0.5093898576330907, 0.7406101423669093, 0.768323871496594, 0.5, 0.23167612850340602, -0.07246376811594203, -0.07246376811594203, 0.24061014236690928, 0.2593898576330907], \"text\": [4, 8, 8, 11, 7, 4, 2, 9, 14, 10, 2, 1, 6, 7], \"textposition\": \"middle center\", \"hoverinfo\": \"none\", \"mode\": \"text\", \"textfont\": {\"color\": \"rgb(0, 0, 0)\"}}],\n",
       "            {\"showlegend\": false, \"width\": 408.0, \"height\": 256.0, \"margin\": {\"b\": 0, \"l\": 0, \"r\": 0, \"t\": 0}, \"xaxis\": {\"showgrid\": false, \"zeroline\": false, \"showticklabels\": false}, \"yaxis\": {\"showgrid\": false, \"zeroline\": false, \"showticklabels\": false}, \"updatemenus\": [{\"buttons\": [{\"args\": [null, {\"frame\": {\"redraw\": false}, \"fromcurrent\": true}], \"label\": \"Play\", \"method\": \"animate\"}, {\"args\": [[null], {\"frame\": {\"redraw\": false}, \"mode\": \"immediate\"}], \"label\": \"Pause\", \"method\": \"animate\"}], \"showactive\": true, \"type\": \"buttons\"}], \"sliders\": [{\"currentvalue\": {\"visible\": false}, \"steps\": [{\"args\": [[0], {\"frame\": {\"redraw\": false}, \"mode\": \"immediate\"}], \"label\": \"\", \"method\": \"animate\"}, {\"args\": [[1], {\"frame\": {\"redraw\": false}, \"mode\": \"immediate\"}], \"label\": \"\", \"method\": \"animate\"}, {\"args\": [[2], {\"frame\": {\"redraw\": false}, \"mode\": \"immediate\"}], \"label\": \"\", \"method\": \"animate\"}, {\"args\": [[3], {\"frame\": {\"redraw\": false}, \"mode\": \"immediate\"}], \"label\": \"\", \"method\": \"animate\"}, {\"args\": [[4], {\"frame\": {\"redraw\": false}, \"mode\": \"immediate\"}], \"label\": \"\", \"method\": \"animate\"}, {\"args\": [[5], {\"frame\": {\"redraw\": false}, \"mode\": \"immediate\"}], \"label\": \"\", \"method\": \"animate\"}, {\"args\": [[6], {\"frame\": {\"redraw\": false}, \"mode\": \"immediate\"}], \"label\": \"\", \"method\": \"animate\"}, {\"args\": [[7], {\"frame\": {\"redraw\": false}, \"mode\": \"immediate\"}], \"label\": \"\", \"method\": \"animate\"}, {\"args\": [[8], {\"frame\": {\"redraw\": false}, \"mode\": \"immediate\"}], \"label\": \"\", \"method\": \"animate\"}, {\"args\": [[9], {\"frame\": {\"redraw\": false}, \"mode\": \"immediate\"}], \"label\": \"\", \"method\": \"animate\"}, {\"args\": [[10], {\"frame\": {\"redraw\": false}, \"mode\": \"immediate\"}], \"label\": \"\", \"method\": \"animate\"}, {\"args\": [[11], {\"frame\": {\"redraw\": false}, \"mode\": \"immediate\"}], \"label\": \"\", \"method\": \"animate\"}, {\"args\": [[12], {\"frame\": {\"redraw\": false}, \"mode\": \"immediate\"}], \"label\": \"\", \"method\": \"animate\"}, {\"args\": [[13], {\"frame\": {\"redraw\": false}, \"mode\": \"immediate\"}], \"label\": \"\", \"method\": \"animate\"}, {\"args\": [[14], {\"frame\": {\"redraw\": false}, \"mode\": \"immediate\"}], \"label\": \"\", \"method\": \"animate\"}, {\"args\": [[15], {\"frame\": {\"redraw\": false}, \"mode\": \"immediate\"}], \"label\": \"\", \"method\": \"animate\"}, {\"args\": [[16], {\"frame\": {\"redraw\": false}, \"mode\": \"immediate\"}], \"label\": \"\", \"method\": \"animate\"}, {\"args\": [[17], {\"frame\": {\"redraw\": false}, \"mode\": \"immediate\"}], \"label\": \"\", \"method\": \"animate\"}, {\"args\": [[18], {\"frame\": {\"redraw\": false}, \"mode\": \"immediate\"}], \"label\": \"\", \"method\": \"animate\"}, {\"args\": [[19], {\"frame\": {\"redraw\": false}, \"mode\": \"immediate\"}], \"label\": \"\", \"method\": \"animate\"}, {\"args\": [[20], {\"frame\": {\"redraw\": false}, \"mode\": \"immediate\"}], \"label\": \"\", \"method\": \"animate\"}, {\"args\": [[21], {\"frame\": {\"redraw\": false}, \"mode\": \"immediate\"}], \"label\": \"\", \"method\": \"animate\"}, {\"args\": [[22], {\"frame\": {\"redraw\": false}, \"mode\": \"immediate\"}], \"label\": \"\", \"method\": \"animate\"}, {\"args\": [[23], {\"frame\": {\"redraw\": false}, \"mode\": \"immediate\"}], \"label\": \"\", \"method\": \"animate\"}, {\"args\": [[24], {\"frame\": {\"redraw\": false}, \"mode\": \"immediate\"}], \"label\": \"\", \"method\": \"animate\"}, {\"args\": [[25], {\"frame\": {\"redraw\": false}, \"mode\": \"immediate\"}], \"label\": \"\", \"method\": \"animate\"}, {\"args\": [[26], {\"frame\": {\"redraw\": false}, \"mode\": \"immediate\"}], \"label\": \"\", \"method\": \"animate\"}, {\"args\": [[27], {\"frame\": {\"redraw\": false}, \"mode\": \"immediate\"}], \"label\": \"\", \"method\": \"animate\"}, {\"args\": [[28], {\"frame\": {\"redraw\": false}, \"mode\": \"immediate\"}], \"label\": \"\", \"method\": \"animate\"}]}]},\n",
       "            {\"showLink\": false, \"linkText\": \"Export to plot.ly\", \"displayModeBar\": false}\n",
       "        ).then(function () {return Plotly.addFrames('40724d05-1f7f-48c6-97f5-8047f3cc8dd9',[{\"data\": [{\"x\": [0.0, 0.25, null], \"y\": [0.5, 1.0, null], \"hoverinfo\": \"none\", \"mode\": \"lines\", \"line\": {\"width\": 2, \"color\": \"rgb(0, 0, 0)\"}}, {\"x\": [0.0, 0.25, null], \"y\": [0.5, 0.0, null], \"hoverinfo\": \"none\", \"mode\": \"lines\", \"line\": {\"width\": 2, \"color\": \"rgb(0, 0, 0)\"}}, {\"x\": [0.25, 0.5, null], \"y\": [1.0, 1.0, null], \"hoverinfo\": \"none\", \"mode\": \"lines\", \"line\": {\"width\": 2, \"color\": \"rgb(0, 0, 0)\"}}, {\"x\": [0.25, 0.25, null], \"y\": [1.0, 0.0, null], \"hoverinfo\": \"none\", \"mode\": \"lines\", \"line\": {\"width\": 2, \"color\": \"rgb(0, 0, 0)\"}}, {\"x\": [0.5, 0.75, null], \"y\": [1.0, 1.0, null], \"hoverinfo\": \"none\", \"mode\": \"lines\", \"line\": {\"width\": 2, \"color\": \"rgb(0, 0, 0)\"}}, {\"x\": [0.5, 0.75, null], \"y\": [1.0, 0.0, null], \"hoverinfo\": \"none\", \"mode\": \"lines\", \"line\": {\"width\": 2, \"color\": \"rgb(0, 0, 0)\"}}, {\"x\": [0.5, 0.375, null], \"y\": [1.0, 0.5, null], \"hoverinfo\": \"none\", \"mode\": \"lines\", \"line\": {\"width\": 2, \"color\": \"rgb(0, 0, 0)\"}}, {\"x\": [0.75, 1.0, null], \"y\": [1.0, 0.5, null], \"hoverinfo\": \"none\", \"mode\": \"lines\", \"line\": {\"width\": 2, \"color\": \"rgb(0, 0, 0)\"}}, {\"x\": [0.75, 0.75, null], \"y\": [1.0, 0.0, null], \"hoverinfo\": \"none\", \"mode\": \"lines\", \"line\": {\"width\": 2, \"color\": \"rgb(0, 0, 0)\"}}, {\"x\": [1.0, 0.75, null], \"y\": [0.5, 0.0, null], \"hoverinfo\": \"none\", \"mode\": \"lines\", \"line\": {\"width\": 2, \"color\": \"rgb(0, 0, 0)\"}}, {\"x\": [0.75, 0.5, null], \"y\": [0.0, 0.0, null], \"hoverinfo\": \"none\", \"mode\": \"lines\", \"line\": {\"width\": 2, \"color\": \"rgb(0, 0, 0)\"}}, {\"x\": [0.5, 0.25, null], \"y\": [0.0, 0.0, null], \"hoverinfo\": \"none\", \"mode\": \"lines\", \"line\": {\"width\": 2, \"color\": \"rgb(0, 0, 0)\"}}, {\"x\": [0.5, 0.375, null], \"y\": [0.0, 0.5, null], \"hoverinfo\": \"none\", \"mode\": \"lines\", \"line\": {\"width\": 2, \"color\": \"rgb(0, 0, 0)\"}}, {\"x\": [0.25, 0.375, null], \"y\": [0.0, 0.5, null], \"hoverinfo\": \"none\", \"mode\": \"lines\", \"line\": {\"width\": 2, \"color\": \"rgb(0, 0, 0)\"}}, {\"x\": [0.0], \"y\": [0.5], \"text\": [], \"textposition\": \"middle center\", \"hoverinfo\": \"none\", \"mode\": \"markers+text\", \"marker\": {\"size\": 20, \"color\": \"rgb(255, 255, 255)\", \"line\": {\"width\": 2, \"color\": \"rgb(0, 0, 0)\"}}, \"textfont\": {\"color\": \"rgb(0, 0, 0)\"}}, {\"x\": [0.25], \"y\": [1.0], \"text\": [], \"textposition\": \"middle center\", \"hoverinfo\": \"none\", \"mode\": \"markers+text\", \"marker\": {\"size\": 20, \"color\": \"rgb(255, 255, 255)\", \"line\": {\"width\": 2, \"color\": \"rgb(0, 0, 0)\"}}, \"textfont\": {\"color\": \"rgb(0, 0, 0)\"}}, {\"x\": [0.5], \"y\": [1.0], \"text\": [], \"textposition\": \"middle center\", \"hoverinfo\": \"none\", \"mode\": \"markers+text\", \"marker\": {\"size\": 20, \"color\": \"rgb(255, 255, 255)\", \"line\": {\"width\": 2, \"color\": \"rgb(0, 0, 0)\"}}, \"textfont\": {\"color\": \"rgb(0, 0, 0)\"}}, {\"x\": [0.75], \"y\": [1.0], \"text\": [], \"textposition\": \"middle center\", \"hoverinfo\": \"none\", \"mode\": \"markers+text\", \"marker\": {\"size\": 20, \"color\": \"rgb(255, 255, 255)\", \"line\": {\"width\": 2, \"color\": \"rgb(0, 0, 0)\"}}, \"textfont\": {\"color\": \"rgb(0, 0, 0)\"}}, {\"x\": [1.0], \"y\": [0.5], \"text\": [], \"textposition\": \"middle center\", \"hoverinfo\": \"none\", \"mode\": \"markers+text\", \"marker\": {\"size\": 20, \"color\": \"rgb(255, 255, 255)\", \"line\": {\"width\": 2, \"color\": \"rgb(0, 0, 0)\"}}, \"textfont\": {\"color\": \"rgb(0, 0, 0)\"}}, {\"x\": [0.75], \"y\": [0.0], \"text\": [], \"textposition\": \"middle center\", \"hoverinfo\": \"none\", \"mode\": \"markers+text\", \"marker\": {\"size\": 20, \"color\": \"rgb(255, 255, 255)\", \"line\": {\"width\": 2, \"color\": \"rgb(0, 0, 0)\"}}, \"textfont\": {\"color\": \"rgb(0, 0, 0)\"}}, {\"x\": [0.5], \"y\": [0.0], \"text\": [], \"textposition\": \"middle center\", \"hoverinfo\": \"none\", \"mode\": \"markers+text\", \"marker\": {\"size\": 20, \"color\": \"rgb(255, 255, 255)\", \"line\": {\"width\": 2, \"color\": \"rgb(0, 0, 0)\"}}, \"textfont\": {\"color\": \"rgb(0, 0, 0)\"}}, {\"x\": [0.25], \"y\": [0.0], \"text\": [], \"textposition\": \"middle center\", \"hoverinfo\": \"none\", \"mode\": \"markers+text\", \"marker\": {\"size\": 20, \"color\": \"rgb(255, 255, 255)\", \"line\": {\"width\": 2, \"color\": \"rgb(0, 0, 0)\"}}, \"textfont\": {\"color\": \"rgb(0, 0, 0)\"}}, {\"x\": [0.375], \"y\": [0.5], \"text\": [], \"textposition\": \"middle center\", \"hoverinfo\": \"none\", \"mode\": \"markers+text\", \"marker\": {\"size\": 20, \"color\": \"rgb(255, 255, 255)\", \"line\": {\"width\": 2, \"color\": \"rgb(0, 0, 0)\"}}, \"textfont\": {\"color\": \"rgb(0, 0, 0)\"}}, {\"x\": [0.08835225700681207, 0.16164774299318793, 0.375, 0.2878787878787879, 0.625, 0.6625594305323629, 0.4750594305323629, 0.911647742993188, 0.7878787878787878, 0.911647742993188, 0.625, 0.375, 0.3999405694676371, 0.2749405694676371], \"y\": [0.768323871496594, 0.268323871496594, 1.0724637681159421, 0.5, 1.0724637681159421, 0.5093898576330907, 0.7406101423669093, 0.768323871496594, 0.5, 0.23167612850340602, -0.07246376811594203, -0.07246376811594203, 0.24061014236690928, 0.2593898576330907], \"text\": [4, 8, 8, 11, 7, 4, 2, 9, 14, 10, 2, 1, 6, 7], \"textposition\": \"middle center\", \"hoverinfo\": \"none\", \"mode\": \"text\", \"textfont\": {\"color\": \"rgb(0, 0, 0)\"}}], \"name\": 0}, {\"data\": [{\"x\": [0.0, 0.25, null], \"y\": [0.5, 1.0, null], \"hoverinfo\": \"none\", \"mode\": \"lines\", \"line\": {\"width\": 2, \"color\": \"rgb(0, 0, 0)\"}}, {\"x\": [0.0, 0.25, null], \"y\": [0.5, 0.0, null], \"hoverinfo\": \"none\", \"mode\": \"lines\", \"line\": {\"width\": 2, \"color\": \"rgb(0, 0, 0)\"}}, {\"x\": [0.25, 0.5, null], \"y\": [1.0, 1.0, null], \"hoverinfo\": \"none\", \"mode\": \"lines\", \"line\": {\"width\": 2, \"color\": \"rgb(0, 0, 0)\"}}, {\"x\": [0.25, 0.25, null], \"y\": [1.0, 0.0, null], \"hoverinfo\": \"none\", \"mode\": \"lines\", \"line\": {\"width\": 2, \"color\": \"rgb(0, 0, 0)\"}}, {\"x\": [0.5, 0.75, null], \"y\": [1.0, 1.0, null], \"hoverinfo\": \"none\", \"mode\": \"lines\", \"line\": {\"width\": 2, \"color\": \"rgb(0, 0, 0)\"}}, {\"x\": [0.5, 0.75, null], \"y\": [1.0, 0.0, null], \"hoverinfo\": \"none\", \"mode\": \"lines\", \"line\": {\"width\": 2, \"color\": \"rgb(0, 0, 0)\"}}, {\"x\": [0.5, 0.375, null], \"y\": [1.0, 0.5, null], \"hoverinfo\": \"none\", \"mode\": \"lines\", \"line\": {\"width\": 2, \"color\": \"rgb(0, 0, 0)\"}}, {\"x\": [0.75, 1.0, null], \"y\": [1.0, 0.5, null], \"hoverinfo\": \"none\", \"mode\": \"lines\", \"line\": {\"width\": 2, \"color\": \"rgb(0, 0, 0)\"}}, {\"x\": [0.75, 0.75, null], \"y\": [1.0, 0.0, null], \"hoverinfo\": \"none\", \"mode\": \"lines\", \"line\": {\"width\": 2, \"color\": \"rgb(0, 0, 0)\"}}, {\"x\": [1.0, 0.75, null], \"y\": [0.5, 0.0, null], \"hoverinfo\": \"none\", \"mode\": \"lines\", \"line\": {\"width\": 2, \"color\": \"rgb(0, 0, 0)\"}}, {\"x\": [0.75, 0.5, null], \"y\": [0.0, 0.0, null], \"hoverinfo\": \"none\", \"mode\": \"lines\", \"line\": {\"width\": 2, \"color\": \"rgb(0, 0, 0)\"}}, {\"x\": [0.5, 0.25, null], \"y\": [0.0, 0.0, null], \"hoverinfo\": \"none\", \"mode\": \"lines\", \"line\": {\"width\": 2, \"color\": \"rgb(255, 0, 0)\"}}, {\"x\": [0.5, 0.375, null], \"y\": [0.0, 0.5, null], \"hoverinfo\": \"none\", \"mode\": \"lines\", \"line\": {\"width\": 2, \"color\": \"rgb(0, 0, 0)\"}}, {\"x\": [0.25, 0.375, null], \"y\": [0.0, 0.5, null], \"hoverinfo\": \"none\", \"mode\": \"lines\", \"line\": {\"width\": 2, \"color\": \"rgb(0, 0, 0)\"}}, {\"x\": [0.0], \"y\": [0.5], \"text\": [], \"textposition\": \"middle center\", \"hoverinfo\": \"none\", \"mode\": \"markers+text\", \"marker\": {\"size\": 20, \"color\": \"rgb(255, 255, 255)\", \"line\": {\"width\": 2, \"color\": \"rgb(0, 0, 0)\"}}, \"textfont\": {\"color\": \"rgb(0, 0, 0)\"}}, {\"x\": [0.25], \"y\": [1.0], \"text\": [], \"textposition\": \"middle center\", \"hoverinfo\": \"none\", \"mode\": \"markers+text\", \"marker\": {\"size\": 20, \"color\": \"rgb(255, 255, 255)\", \"line\": {\"width\": 2, \"color\": \"rgb(0, 0, 0)\"}}, \"textfont\": {\"color\": \"rgb(0, 0, 0)\"}}, {\"x\": [0.5], \"y\": [1.0], \"text\": [], \"textposition\": \"middle center\", \"hoverinfo\": \"none\", \"mode\": \"markers+text\", \"marker\": {\"size\": 20, \"color\": \"rgb(255, 255, 255)\", \"line\": {\"width\": 2, \"color\": \"rgb(0, 0, 0)\"}}, \"textfont\": {\"color\": \"rgb(0, 0, 0)\"}}, {\"x\": [0.75], \"y\": [1.0], \"text\": [], \"textposition\": \"middle center\", \"hoverinfo\": \"none\", \"mode\": \"markers+text\", \"marker\": {\"size\": 20, \"color\": \"rgb(255, 255, 255)\", \"line\": {\"width\": 2, \"color\": \"rgb(0, 0, 0)\"}}, \"textfont\": {\"color\": \"rgb(0, 0, 0)\"}}, {\"x\": [1.0], \"y\": [0.5], \"text\": [], \"textposition\": \"middle center\", \"hoverinfo\": \"none\", \"mode\": \"markers+text\", \"marker\": {\"size\": 20, \"color\": \"rgb(255, 255, 255)\", \"line\": {\"width\": 2, \"color\": \"rgb(0, 0, 0)\"}}, \"textfont\": {\"color\": \"rgb(0, 0, 0)\"}}, {\"x\": [0.75], \"y\": [0.0], \"text\": [], \"textposition\": \"middle center\", \"hoverinfo\": \"none\", \"mode\": \"markers+text\", \"marker\": {\"size\": 20, \"color\": \"rgb(255, 255, 255)\", \"line\": {\"width\": 2, \"color\": \"rgb(0, 0, 0)\"}}, \"textfont\": {\"color\": \"rgb(0, 0, 0)\"}}, {\"x\": [0.5], \"y\": [0.0], \"text\": [], \"textposition\": \"middle center\", \"hoverinfo\": \"none\", \"mode\": \"markers+text\", \"marker\": {\"size\": 20, \"color\": \"rgb(255, 255, 255)\", \"line\": {\"width\": 2, \"color\": \"rgb(0, 0, 0)\"}}, \"textfont\": {\"color\": \"rgb(0, 0, 0)\"}}, {\"x\": [0.25], \"y\": [0.0], \"text\": [], \"textposition\": \"middle center\", \"hoverinfo\": \"none\", \"mode\": \"markers+text\", \"marker\": {\"size\": 20, \"color\": \"rgb(255, 255, 255)\", \"line\": {\"width\": 2, \"color\": \"rgb(0, 0, 0)\"}}, \"textfont\": {\"color\": \"rgb(0, 0, 0)\"}}, {\"x\": [0.375], \"y\": [0.5], \"text\": [], \"textposition\": \"middle center\", \"hoverinfo\": \"none\", \"mode\": \"markers+text\", \"marker\": {\"size\": 20, \"color\": \"rgb(255, 255, 255)\", \"line\": {\"width\": 2, \"color\": \"rgb(0, 0, 0)\"}}, \"textfont\": {\"color\": \"rgb(0, 0, 0)\"}}, {\"x\": [0.08835225700681207, 0.16164774299318793, 0.375, 0.2878787878787879, 0.625, 0.6625594305323629, 0.4750594305323629, 0.911647742993188, 0.7878787878787878, 0.911647742993188, 0.625, 0.375, 0.3999405694676371, 0.2749405694676371], \"y\": [0.768323871496594, 0.268323871496594, 1.0724637681159421, 0.5, 1.0724637681159421, 0.5093898576330907, 0.7406101423669093, 0.768323871496594, 0.5, 0.23167612850340602, -0.07246376811594203, -0.07246376811594203, 0.24061014236690928, 0.2593898576330907], \"text\": [4, 8, 8, 11, 7, 4, 2, 9, 14, 10, 2, 1, 6, 7], \"textposition\": \"middle center\", \"hoverinfo\": \"none\", \"mode\": \"text\", \"textfont\": {\"color\": \"rgb(0, 0, 0)\"}}], \"name\": 1}, {\"data\": [{\"x\": [0.0, 0.25, null], \"y\": [0.5, 1.0, null], \"hoverinfo\": \"none\", \"mode\": \"lines\", \"line\": {\"width\": 2, \"color\": \"rgb(0, 0, 0)\"}}, {\"x\": [0.0, 0.25, null], \"y\": [0.5, 0.0, null], \"hoverinfo\": \"none\", \"mode\": \"lines\", \"line\": {\"width\": 2, \"color\": \"rgb(0, 0, 0)\"}}, {\"x\": [0.25, 0.5, null], \"y\": [1.0, 1.0, null], \"hoverinfo\": \"none\", \"mode\": \"lines\", \"line\": {\"width\": 2, \"color\": \"rgb(0, 0, 0)\"}}, {\"x\": [0.25, 0.25, null], \"y\": [1.0, 0.0, null], \"hoverinfo\": \"none\", \"mode\": \"lines\", \"line\": {\"width\": 2, \"color\": \"rgb(0, 0, 0)\"}}, {\"x\": [0.5, 0.75, null], \"y\": [1.0, 1.0, null], \"hoverinfo\": \"none\", \"mode\": \"lines\", \"line\": {\"width\": 2, \"color\": \"rgb(0, 0, 0)\"}}, {\"x\": [0.5, 0.75, null], \"y\": [1.0, 0.0, null], \"hoverinfo\": \"none\", \"mode\": \"lines\", \"line\": {\"width\": 2, \"color\": \"rgb(0, 0, 0)\"}}, {\"x\": [0.5, 0.375, null], \"y\": [1.0, 0.5, null], \"hoverinfo\": \"none\", \"mode\": \"lines\", \"line\": {\"width\": 2, \"color\": \"rgb(0, 0, 0)\"}}, {\"x\": [0.75, 1.0, null], \"y\": [1.0, 0.5, null], \"hoverinfo\": \"none\", \"mode\": \"lines\", \"line\": {\"width\": 2, \"color\": \"rgb(0, 0, 0)\"}}, {\"x\": [0.75, 0.75, null], \"y\": [1.0, 0.0, null], \"hoverinfo\": \"none\", \"mode\": \"lines\", \"line\": {\"width\": 2, \"color\": \"rgb(0, 0, 0)\"}}, {\"x\": [1.0, 0.75, null], \"y\": [0.5, 0.0, null], \"hoverinfo\": \"none\", \"mode\": \"lines\", \"line\": {\"width\": 2, \"color\": \"rgb(0, 0, 0)\"}}, {\"x\": [0.75, 0.5, null], \"y\": [0.0, 0.0, null], \"hoverinfo\": \"none\", \"mode\": \"lines\", \"line\": {\"width\": 2, \"color\": \"rgb(0, 0, 0)\"}}, {\"x\": [0.5, 0.25, null], \"y\": [0.0, 0.0, null], \"hoverinfo\": \"none\", \"mode\": \"lines\", \"line\": {\"width\": 2, \"color\": \"rgb(0, 0, 255)\"}}, {\"x\": [0.5, 0.375, null], \"y\": [0.0, 0.5, null], \"hoverinfo\": \"none\", \"mode\": \"lines\", \"line\": {\"width\": 2, \"color\": \"rgb(0, 0, 0)\"}}, {\"x\": [0.25, 0.375, null], \"y\": [0.0, 0.5, null], \"hoverinfo\": \"none\", \"mode\": \"lines\", \"line\": {\"width\": 2, \"color\": \"rgb(0, 0, 0)\"}}, {\"x\": [0.0], \"y\": [0.5], \"text\": [], \"textposition\": \"middle center\", \"hoverinfo\": \"none\", \"mode\": \"markers+text\", \"marker\": {\"size\": 20, \"color\": \"rgb(255, 255, 255)\", \"line\": {\"width\": 2, \"color\": \"rgb(0, 0, 0)\"}}, \"textfont\": {\"color\": \"rgb(0, 0, 0)\"}}, {\"x\": [0.25], \"y\": [1.0], \"text\": [], \"textposition\": \"middle center\", \"hoverinfo\": \"none\", \"mode\": \"markers+text\", \"marker\": {\"size\": 20, \"color\": \"rgb(255, 255, 255)\", \"line\": {\"width\": 2, \"color\": \"rgb(0, 0, 0)\"}}, \"textfont\": {\"color\": \"rgb(0, 0, 0)\"}}, {\"x\": [0.5], \"y\": [1.0], \"text\": [], \"textposition\": \"middle center\", \"hoverinfo\": \"none\", \"mode\": \"markers+text\", \"marker\": {\"size\": 20, \"color\": \"rgb(255, 255, 255)\", \"line\": {\"width\": 2, \"color\": \"rgb(0, 0, 0)\"}}, \"textfont\": {\"color\": \"rgb(0, 0, 0)\"}}, {\"x\": [0.75], \"y\": [1.0], \"text\": [], \"textposition\": \"middle center\", \"hoverinfo\": \"none\", \"mode\": \"markers+text\", \"marker\": {\"size\": 20, \"color\": \"rgb(255, 255, 255)\", \"line\": {\"width\": 2, \"color\": \"rgb(0, 0, 0)\"}}, \"textfont\": {\"color\": \"rgb(0, 0, 0)\"}}, {\"x\": [1.0], \"y\": [0.5], \"text\": [], \"textposition\": \"middle center\", \"hoverinfo\": \"none\", \"mode\": \"markers+text\", \"marker\": {\"size\": 20, \"color\": \"rgb(255, 255, 255)\", \"line\": {\"width\": 2, \"color\": \"rgb(0, 0, 0)\"}}, \"textfont\": {\"color\": \"rgb(0, 0, 0)\"}}, {\"x\": [0.75], \"y\": [0.0], \"text\": [], \"textposition\": \"middle center\", \"hoverinfo\": \"none\", \"mode\": \"markers+text\", \"marker\": {\"size\": 20, \"color\": \"rgb(255, 255, 255)\", \"line\": {\"width\": 2, \"color\": \"rgb(0, 0, 0)\"}}, \"textfont\": {\"color\": \"rgb(0, 0, 0)\"}}, {\"x\": [0.5], \"y\": [0.0], \"text\": [], \"textposition\": \"middle center\", \"hoverinfo\": \"none\", \"mode\": \"markers+text\", \"marker\": {\"size\": 20, \"color\": \"rgb(255, 255, 255)\", \"line\": {\"width\": 2, \"color\": \"rgb(0, 0, 0)\"}}, \"textfont\": {\"color\": \"rgb(0, 0, 0)\"}}, {\"x\": [0.25], \"y\": [0.0], \"text\": [], \"textposition\": \"middle center\", \"hoverinfo\": \"none\", \"mode\": \"markers+text\", \"marker\": {\"size\": 20, \"color\": \"rgb(255, 255, 255)\", \"line\": {\"width\": 2, \"color\": \"rgb(0, 0, 0)\"}}, \"textfont\": {\"color\": \"rgb(0, 0, 0)\"}}, {\"x\": [0.375], \"y\": [0.5], \"text\": [], \"textposition\": \"middle center\", \"hoverinfo\": \"none\", \"mode\": \"markers+text\", \"marker\": {\"size\": 20, \"color\": \"rgb(255, 255, 255)\", \"line\": {\"width\": 2, \"color\": \"rgb(0, 0, 0)\"}}, \"textfont\": {\"color\": \"rgb(0, 0, 0)\"}}, {\"x\": [0.08835225700681207, 0.16164774299318793, 0.375, 0.2878787878787879, 0.625, 0.6625594305323629, 0.4750594305323629, 0.911647742993188, 0.7878787878787878, 0.911647742993188, 0.625, 0.375, 0.3999405694676371, 0.2749405694676371], \"y\": [0.768323871496594, 0.268323871496594, 1.0724637681159421, 0.5, 1.0724637681159421, 0.5093898576330907, 0.7406101423669093, 0.768323871496594, 0.5, 0.23167612850340602, -0.07246376811594203, -0.07246376811594203, 0.24061014236690928, 0.2593898576330907], \"text\": [4, 8, 8, 11, 7, 4, 2, 9, 14, 10, 2, 1, 6, 7], \"textposition\": \"middle center\", \"hoverinfo\": \"none\", \"mode\": \"text\", \"textfont\": {\"color\": \"rgb(0, 0, 0)\"}}], \"name\": 2}, {\"data\": [{\"x\": [0.0, 0.25, null], \"y\": [0.5, 1.0, null], \"hoverinfo\": \"none\", \"mode\": \"lines\", \"line\": {\"width\": 2, \"color\": \"rgb(0, 0, 0)\"}}, {\"x\": [0.0, 0.25, null], \"y\": [0.5, 0.0, null], \"hoverinfo\": \"none\", \"mode\": \"lines\", \"line\": {\"width\": 2, \"color\": \"rgb(0, 0, 0)\"}}, {\"x\": [0.25, 0.5, null], \"y\": [1.0, 1.0, null], \"hoverinfo\": \"none\", \"mode\": \"lines\", \"line\": {\"width\": 2, \"color\": \"rgb(0, 0, 0)\"}}, {\"x\": [0.25, 0.25, null], \"y\": [1.0, 0.0, null], \"hoverinfo\": \"none\", \"mode\": \"lines\", \"line\": {\"width\": 2, \"color\": \"rgb(0, 0, 0)\"}}, {\"x\": [0.5, 0.75, null], \"y\": [1.0, 1.0, null], \"hoverinfo\": \"none\", \"mode\": \"lines\", \"line\": {\"width\": 2, \"color\": \"rgb(0, 0, 0)\"}}, {\"x\": [0.5, 0.75, null], \"y\": [1.0, 0.0, null], \"hoverinfo\": \"none\", \"mode\": \"lines\", \"line\": {\"width\": 2, \"color\": \"rgb(0, 0, 0)\"}}, {\"x\": [0.5, 0.375, null], \"y\": [1.0, 0.5, null], \"hoverinfo\": \"none\", \"mode\": \"lines\", \"line\": {\"width\": 2, \"color\": \"rgb(255, 0, 0)\"}}, {\"x\": [0.75, 1.0, null], \"y\": [1.0, 0.5, null], \"hoverinfo\": \"none\", \"mode\": \"lines\", \"line\": {\"width\": 2, \"color\": \"rgb(0, 0, 0)\"}}, {\"x\": [0.75, 0.75, null], \"y\": [1.0, 0.0, null], \"hoverinfo\": \"none\", \"mode\": \"lines\", \"line\": {\"width\": 2, \"color\": \"rgb(0, 0, 0)\"}}, {\"x\": [1.0, 0.75, null], \"y\": [0.5, 0.0, null], \"hoverinfo\": \"none\", \"mode\": \"lines\", \"line\": {\"width\": 2, \"color\": \"rgb(0, 0, 0)\"}}, {\"x\": [0.75, 0.5, null], \"y\": [0.0, 0.0, null], \"hoverinfo\": \"none\", \"mode\": \"lines\", \"line\": {\"width\": 2, \"color\": \"rgb(0, 0, 0)\"}}, {\"x\": [0.5, 0.25, null], \"y\": [0.0, 0.0, null], \"hoverinfo\": \"none\", \"mode\": \"lines\", \"line\": {\"width\": 2, \"color\": \"rgb(0, 0, 255)\"}}, {\"x\": [0.5, 0.375, null], \"y\": [0.0, 0.5, null], \"hoverinfo\": \"none\", \"mode\": \"lines\", \"line\": {\"width\": 2, \"color\": \"rgb(0, 0, 0)\"}}, {\"x\": [0.25, 0.375, null], \"y\": [0.0, 0.5, null], \"hoverinfo\": \"none\", \"mode\": \"lines\", \"line\": {\"width\": 2, \"color\": \"rgb(0, 0, 0)\"}}, {\"x\": [0.0], \"y\": [0.5], \"text\": [], \"textposition\": \"middle center\", \"hoverinfo\": \"none\", \"mode\": \"markers+text\", \"marker\": {\"size\": 20, \"color\": \"rgb(255, 255, 255)\", \"line\": {\"width\": 2, \"color\": \"rgb(0, 0, 0)\"}}, \"textfont\": {\"color\": \"rgb(0, 0, 0)\"}}, {\"x\": [0.25], \"y\": [1.0], \"text\": [], \"textposition\": \"middle center\", \"hoverinfo\": \"none\", \"mode\": \"markers+text\", \"marker\": {\"size\": 20, \"color\": \"rgb(255, 255, 255)\", \"line\": {\"width\": 2, \"color\": \"rgb(0, 0, 0)\"}}, \"textfont\": {\"color\": \"rgb(0, 0, 0)\"}}, {\"x\": [0.5], \"y\": [1.0], \"text\": [], \"textposition\": \"middle center\", \"hoverinfo\": \"none\", \"mode\": \"markers+text\", \"marker\": {\"size\": 20, \"color\": \"rgb(255, 255, 255)\", \"line\": {\"width\": 2, \"color\": \"rgb(0, 0, 0)\"}}, \"textfont\": {\"color\": \"rgb(0, 0, 0)\"}}, {\"x\": [0.75], \"y\": [1.0], \"text\": [], \"textposition\": \"middle center\", \"hoverinfo\": \"none\", \"mode\": \"markers+text\", \"marker\": {\"size\": 20, \"color\": \"rgb(255, 255, 255)\", \"line\": {\"width\": 2, \"color\": \"rgb(0, 0, 0)\"}}, \"textfont\": {\"color\": \"rgb(0, 0, 0)\"}}, {\"x\": [1.0], \"y\": [0.5], \"text\": [], \"textposition\": \"middle center\", \"hoverinfo\": \"none\", \"mode\": \"markers+text\", \"marker\": {\"size\": 20, \"color\": \"rgb(255, 255, 255)\", \"line\": {\"width\": 2, \"color\": \"rgb(0, 0, 0)\"}}, \"textfont\": {\"color\": \"rgb(0, 0, 0)\"}}, {\"x\": [0.75], \"y\": [0.0], \"text\": [], \"textposition\": \"middle center\", \"hoverinfo\": \"none\", \"mode\": \"markers+text\", \"marker\": {\"size\": 20, \"color\": \"rgb(255, 255, 255)\", \"line\": {\"width\": 2, \"color\": \"rgb(0, 0, 0)\"}}, \"textfont\": {\"color\": \"rgb(0, 0, 0)\"}}, {\"x\": [0.5], \"y\": [0.0], \"text\": [], \"textposition\": \"middle center\", \"hoverinfo\": \"none\", \"mode\": \"markers+text\", \"marker\": {\"size\": 20, \"color\": \"rgb(255, 255, 255)\", \"line\": {\"width\": 2, \"color\": \"rgb(0, 0, 0)\"}}, \"textfont\": {\"color\": \"rgb(0, 0, 0)\"}}, {\"x\": [0.25], \"y\": [0.0], \"text\": [], \"textposition\": \"middle center\", \"hoverinfo\": \"none\", \"mode\": \"markers+text\", \"marker\": {\"size\": 20, \"color\": \"rgb(255, 255, 255)\", \"line\": {\"width\": 2, \"color\": \"rgb(0, 0, 0)\"}}, \"textfont\": {\"color\": \"rgb(0, 0, 0)\"}}, {\"x\": [0.375], \"y\": [0.5], \"text\": [], \"textposition\": \"middle center\", \"hoverinfo\": \"none\", \"mode\": \"markers+text\", \"marker\": {\"size\": 20, \"color\": \"rgb(255, 255, 255)\", \"line\": {\"width\": 2, \"color\": \"rgb(0, 0, 0)\"}}, \"textfont\": {\"color\": \"rgb(0, 0, 0)\"}}, {\"x\": [0.08835225700681207, 0.16164774299318793, 0.375, 0.2878787878787879, 0.625, 0.6625594305323629, 0.4750594305323629, 0.911647742993188, 0.7878787878787878, 0.911647742993188, 0.625, 0.375, 0.3999405694676371, 0.2749405694676371], \"y\": [0.768323871496594, 0.268323871496594, 1.0724637681159421, 0.5, 1.0724637681159421, 0.5093898576330907, 0.7406101423669093, 0.768323871496594, 0.5, 0.23167612850340602, -0.07246376811594203, -0.07246376811594203, 0.24061014236690928, 0.2593898576330907], \"text\": [4, 8, 8, 11, 7, 4, 2, 9, 14, 10, 2, 1, 6, 7], \"textposition\": \"middle center\", \"hoverinfo\": \"none\", \"mode\": \"text\", \"textfont\": {\"color\": \"rgb(0, 0, 0)\"}}], \"name\": 3}, {\"data\": [{\"x\": [0.0, 0.25, null], \"y\": [0.5, 1.0, null], \"hoverinfo\": \"none\", \"mode\": \"lines\", \"line\": {\"width\": 2, \"color\": \"rgb(0, 0, 0)\"}}, {\"x\": [0.0, 0.25, null], \"y\": [0.5, 0.0, null], \"hoverinfo\": \"none\", \"mode\": \"lines\", \"line\": {\"width\": 2, \"color\": \"rgb(0, 0, 0)\"}}, {\"x\": [0.25, 0.5, null], \"y\": [1.0, 1.0, null], \"hoverinfo\": \"none\", \"mode\": \"lines\", \"line\": {\"width\": 2, \"color\": \"rgb(0, 0, 0)\"}}, {\"x\": [0.25, 0.25, null], \"y\": [1.0, 0.0, null], \"hoverinfo\": \"none\", \"mode\": \"lines\", \"line\": {\"width\": 2, \"color\": \"rgb(0, 0, 0)\"}}, {\"x\": [0.5, 0.75, null], \"y\": [1.0, 1.0, null], \"hoverinfo\": \"none\", \"mode\": \"lines\", \"line\": {\"width\": 2, \"color\": \"rgb(0, 0, 0)\"}}, {\"x\": [0.5, 0.75, null], \"y\": [1.0, 0.0, null], \"hoverinfo\": \"none\", \"mode\": \"lines\", \"line\": {\"width\": 2, \"color\": \"rgb(0, 0, 0)\"}}, {\"x\": [0.5, 0.375, null], \"y\": [1.0, 0.5, null], \"hoverinfo\": \"none\", \"mode\": \"lines\", \"line\": {\"width\": 2, \"color\": \"rgb(0, 0, 255)\"}}, {\"x\": [0.75, 1.0, null], \"y\": [1.0, 0.5, null], \"hoverinfo\": \"none\", \"mode\": \"lines\", \"line\": {\"width\": 2, \"color\": \"rgb(0, 0, 0)\"}}, {\"x\": [0.75, 0.75, null], \"y\": [1.0, 0.0, null], \"hoverinfo\": \"none\", \"mode\": \"lines\", \"line\": {\"width\": 2, \"color\": \"rgb(0, 0, 0)\"}}, {\"x\": [1.0, 0.75, null], \"y\": [0.5, 0.0, null], \"hoverinfo\": \"none\", \"mode\": \"lines\", \"line\": {\"width\": 2, \"color\": \"rgb(0, 0, 0)\"}}, {\"x\": [0.75, 0.5, null], \"y\": [0.0, 0.0, null], \"hoverinfo\": \"none\", \"mode\": \"lines\", \"line\": {\"width\": 2, \"color\": \"rgb(0, 0, 0)\"}}, {\"x\": [0.5, 0.25, null], \"y\": [0.0, 0.0, null], \"hoverinfo\": \"none\", \"mode\": \"lines\", \"line\": {\"width\": 2, \"color\": \"rgb(0, 0, 255)\"}}, {\"x\": [0.5, 0.375, null], \"y\": [0.0, 0.5, null], \"hoverinfo\": \"none\", \"mode\": \"lines\", \"line\": {\"width\": 2, \"color\": \"rgb(0, 0, 0)\"}}, {\"x\": [0.25, 0.375, null], \"y\": [0.0, 0.5, null], \"hoverinfo\": \"none\", \"mode\": \"lines\", \"line\": {\"width\": 2, \"color\": \"rgb(0, 0, 0)\"}}, {\"x\": [0.0], \"y\": [0.5], \"text\": [], \"textposition\": \"middle center\", \"hoverinfo\": \"none\", \"mode\": \"markers+text\", \"marker\": {\"size\": 20, \"color\": \"rgb(255, 255, 255)\", \"line\": {\"width\": 2, \"color\": \"rgb(0, 0, 0)\"}}, \"textfont\": {\"color\": \"rgb(0, 0, 0)\"}}, {\"x\": [0.25], \"y\": [1.0], \"text\": [], \"textposition\": \"middle center\", \"hoverinfo\": \"none\", \"mode\": \"markers+text\", \"marker\": {\"size\": 20, \"color\": \"rgb(255, 255, 255)\", \"line\": {\"width\": 2, \"color\": \"rgb(0, 0, 0)\"}}, \"textfont\": {\"color\": \"rgb(0, 0, 0)\"}}, {\"x\": [0.5], \"y\": [1.0], \"text\": [], \"textposition\": \"middle center\", \"hoverinfo\": \"none\", \"mode\": \"markers+text\", \"marker\": {\"size\": 20, \"color\": \"rgb(255, 255, 255)\", \"line\": {\"width\": 2, \"color\": \"rgb(0, 0, 0)\"}}, \"textfont\": {\"color\": \"rgb(0, 0, 0)\"}}, {\"x\": [0.75], \"y\": [1.0], \"text\": [], \"textposition\": \"middle center\", \"hoverinfo\": \"none\", \"mode\": \"markers+text\", \"marker\": {\"size\": 20, \"color\": \"rgb(255, 255, 255)\", \"line\": {\"width\": 2, \"color\": \"rgb(0, 0, 0)\"}}, \"textfont\": {\"color\": \"rgb(0, 0, 0)\"}}, {\"x\": [1.0], \"y\": [0.5], \"text\": [], \"textposition\": \"middle center\", \"hoverinfo\": \"none\", \"mode\": \"markers+text\", \"marker\": {\"size\": 20, \"color\": \"rgb(255, 255, 255)\", \"line\": {\"width\": 2, \"color\": \"rgb(0, 0, 0)\"}}, \"textfont\": {\"color\": \"rgb(0, 0, 0)\"}}, {\"x\": [0.75], \"y\": [0.0], \"text\": [], \"textposition\": \"middle center\", \"hoverinfo\": \"none\", \"mode\": \"markers+text\", \"marker\": {\"size\": 20, \"color\": \"rgb(255, 255, 255)\", \"line\": {\"width\": 2, \"color\": \"rgb(0, 0, 0)\"}}, \"textfont\": {\"color\": \"rgb(0, 0, 0)\"}}, {\"x\": [0.5], \"y\": [0.0], \"text\": [], \"textposition\": \"middle center\", \"hoverinfo\": \"none\", \"mode\": \"markers+text\", \"marker\": {\"size\": 20, \"color\": \"rgb(255, 255, 255)\", \"line\": {\"width\": 2, \"color\": \"rgb(0, 0, 0)\"}}, \"textfont\": {\"color\": \"rgb(0, 0, 0)\"}}, {\"x\": [0.25], \"y\": [0.0], \"text\": [], \"textposition\": \"middle center\", \"hoverinfo\": \"none\", \"mode\": \"markers+text\", \"marker\": {\"size\": 20, \"color\": \"rgb(255, 255, 255)\", \"line\": {\"width\": 2, \"color\": \"rgb(0, 0, 0)\"}}, \"textfont\": {\"color\": \"rgb(0, 0, 0)\"}}, {\"x\": [0.375], \"y\": [0.5], \"text\": [], \"textposition\": \"middle center\", \"hoverinfo\": \"none\", \"mode\": \"markers+text\", \"marker\": {\"size\": 20, \"color\": \"rgb(255, 255, 255)\", \"line\": {\"width\": 2, \"color\": \"rgb(0, 0, 0)\"}}, \"textfont\": {\"color\": \"rgb(0, 0, 0)\"}}, {\"x\": [0.08835225700681207, 0.16164774299318793, 0.375, 0.2878787878787879, 0.625, 0.6625594305323629, 0.4750594305323629, 0.911647742993188, 0.7878787878787878, 0.911647742993188, 0.625, 0.375, 0.3999405694676371, 0.2749405694676371], \"y\": [0.768323871496594, 0.268323871496594, 1.0724637681159421, 0.5, 1.0724637681159421, 0.5093898576330907, 0.7406101423669093, 0.768323871496594, 0.5, 0.23167612850340602, -0.07246376811594203, -0.07246376811594203, 0.24061014236690928, 0.2593898576330907], \"text\": [4, 8, 8, 11, 7, 4, 2, 9, 14, 10, 2, 1, 6, 7], \"textposition\": \"middle center\", \"hoverinfo\": \"none\", \"mode\": \"text\", \"textfont\": {\"color\": \"rgb(0, 0, 0)\"}}], \"name\": 4}, {\"data\": [{\"x\": [0.0, 0.25, null], \"y\": [0.5, 1.0, null], \"hoverinfo\": \"none\", \"mode\": \"lines\", \"line\": {\"width\": 2, \"color\": \"rgb(0, 0, 0)\"}}, {\"x\": [0.0, 0.25, null], \"y\": [0.5, 0.0, null], \"hoverinfo\": \"none\", \"mode\": \"lines\", \"line\": {\"width\": 2, \"color\": \"rgb(0, 0, 0)\"}}, {\"x\": [0.25, 0.5, null], \"y\": [1.0, 1.0, null], \"hoverinfo\": \"none\", \"mode\": \"lines\", \"line\": {\"width\": 2, \"color\": \"rgb(0, 0, 0)\"}}, {\"x\": [0.25, 0.25, null], \"y\": [1.0, 0.0, null], \"hoverinfo\": \"none\", \"mode\": \"lines\", \"line\": {\"width\": 2, \"color\": \"rgb(0, 0, 0)\"}}, {\"x\": [0.5, 0.75, null], \"y\": [1.0, 1.0, null], \"hoverinfo\": \"none\", \"mode\": \"lines\", \"line\": {\"width\": 2, \"color\": \"rgb(0, 0, 0)\"}}, {\"x\": [0.5, 0.75, null], \"y\": [1.0, 0.0, null], \"hoverinfo\": \"none\", \"mode\": \"lines\", \"line\": {\"width\": 2, \"color\": \"rgb(0, 0, 0)\"}}, {\"x\": [0.5, 0.375, null], \"y\": [1.0, 0.5, null], \"hoverinfo\": \"none\", \"mode\": \"lines\", \"line\": {\"width\": 2, \"color\": \"rgb(0, 0, 255)\"}}, {\"x\": [0.75, 1.0, null], \"y\": [1.0, 0.5, null], \"hoverinfo\": \"none\", \"mode\": \"lines\", \"line\": {\"width\": 2, \"color\": \"rgb(0, 0, 0)\"}}, {\"x\": [0.75, 0.75, null], \"y\": [1.0, 0.0, null], \"hoverinfo\": \"none\", \"mode\": \"lines\", \"line\": {\"width\": 2, \"color\": \"rgb(0, 0, 0)\"}}, {\"x\": [1.0, 0.75, null], \"y\": [0.5, 0.0, null], \"hoverinfo\": \"none\", \"mode\": \"lines\", \"line\": {\"width\": 2, \"color\": \"rgb(0, 0, 0)\"}}, {\"x\": [0.75, 0.5, null], \"y\": [0.0, 0.0, null], \"hoverinfo\": \"none\", \"mode\": \"lines\", \"line\": {\"width\": 2, \"color\": \"rgb(255, 0, 0)\"}}, {\"x\": [0.5, 0.25, null], \"y\": [0.0, 0.0, null], \"hoverinfo\": \"none\", \"mode\": \"lines\", \"line\": {\"width\": 2, \"color\": \"rgb(0, 0, 255)\"}}, {\"x\": [0.5, 0.375, null], \"y\": [0.0, 0.5, null], \"hoverinfo\": \"none\", \"mode\": \"lines\", \"line\": {\"width\": 2, \"color\": \"rgb(0, 0, 0)\"}}, {\"x\": [0.25, 0.375, null], \"y\": [0.0, 0.5, null], \"hoverinfo\": \"none\", \"mode\": \"lines\", \"line\": {\"width\": 2, \"color\": \"rgb(0, 0, 0)\"}}, {\"x\": [0.0], \"y\": [0.5], \"text\": [], \"textposition\": \"middle center\", \"hoverinfo\": \"none\", \"mode\": \"markers+text\", \"marker\": {\"size\": 20, \"color\": \"rgb(255, 255, 255)\", \"line\": {\"width\": 2, \"color\": \"rgb(0, 0, 0)\"}}, \"textfont\": {\"color\": \"rgb(0, 0, 0)\"}}, {\"x\": [0.25], \"y\": [1.0], \"text\": [], \"textposition\": \"middle center\", \"hoverinfo\": \"none\", \"mode\": \"markers+text\", \"marker\": {\"size\": 20, \"color\": \"rgb(255, 255, 255)\", \"line\": {\"width\": 2, \"color\": \"rgb(0, 0, 0)\"}}, \"textfont\": {\"color\": \"rgb(0, 0, 0)\"}}, {\"x\": [0.5], \"y\": [1.0], \"text\": [], \"textposition\": \"middle center\", \"hoverinfo\": \"none\", \"mode\": \"markers+text\", \"marker\": {\"size\": 20, \"color\": \"rgb(255, 255, 255)\", \"line\": {\"width\": 2, \"color\": \"rgb(0, 0, 0)\"}}, \"textfont\": {\"color\": \"rgb(0, 0, 0)\"}}, {\"x\": [0.75], \"y\": [1.0], \"text\": [], \"textposition\": \"middle center\", \"hoverinfo\": \"none\", \"mode\": \"markers+text\", \"marker\": {\"size\": 20, \"color\": \"rgb(255, 255, 255)\", \"line\": {\"width\": 2, \"color\": \"rgb(0, 0, 0)\"}}, \"textfont\": {\"color\": \"rgb(0, 0, 0)\"}}, {\"x\": [1.0], \"y\": [0.5], \"text\": [], \"textposition\": \"middle center\", \"hoverinfo\": \"none\", \"mode\": \"markers+text\", \"marker\": {\"size\": 20, \"color\": \"rgb(255, 255, 255)\", \"line\": {\"width\": 2, \"color\": \"rgb(0, 0, 0)\"}}, \"textfont\": {\"color\": \"rgb(0, 0, 0)\"}}, {\"x\": [0.75], \"y\": [0.0], \"text\": [], \"textposition\": \"middle center\", \"hoverinfo\": \"none\", \"mode\": \"markers+text\", \"marker\": {\"size\": 20, \"color\": \"rgb(255, 255, 255)\", \"line\": {\"width\": 2, \"color\": \"rgb(0, 0, 0)\"}}, \"textfont\": {\"color\": \"rgb(0, 0, 0)\"}}, {\"x\": [0.5], \"y\": [0.0], \"text\": [], \"textposition\": \"middle center\", \"hoverinfo\": \"none\", \"mode\": \"markers+text\", \"marker\": {\"size\": 20, \"color\": \"rgb(255, 255, 255)\", \"line\": {\"width\": 2, \"color\": \"rgb(0, 0, 0)\"}}, \"textfont\": {\"color\": \"rgb(0, 0, 0)\"}}, {\"x\": [0.25], \"y\": [0.0], \"text\": [], \"textposition\": \"middle center\", \"hoverinfo\": \"none\", \"mode\": \"markers+text\", \"marker\": {\"size\": 20, \"color\": \"rgb(255, 255, 255)\", \"line\": {\"width\": 2, \"color\": \"rgb(0, 0, 0)\"}}, \"textfont\": {\"color\": \"rgb(0, 0, 0)\"}}, {\"x\": [0.375], \"y\": [0.5], \"text\": [], \"textposition\": \"middle center\", \"hoverinfo\": \"none\", \"mode\": \"markers+text\", \"marker\": {\"size\": 20, \"color\": \"rgb(255, 255, 255)\", \"line\": {\"width\": 2, \"color\": \"rgb(0, 0, 0)\"}}, \"textfont\": {\"color\": \"rgb(0, 0, 0)\"}}, {\"x\": [0.08835225700681207, 0.16164774299318793, 0.375, 0.2878787878787879, 0.625, 0.6625594305323629, 0.4750594305323629, 0.911647742993188, 0.7878787878787878, 0.911647742993188, 0.625, 0.375, 0.3999405694676371, 0.2749405694676371], \"y\": [0.768323871496594, 0.268323871496594, 1.0724637681159421, 0.5, 1.0724637681159421, 0.5093898576330907, 0.7406101423669093, 0.768323871496594, 0.5, 0.23167612850340602, -0.07246376811594203, -0.07246376811594203, 0.24061014236690928, 0.2593898576330907], \"text\": [4, 8, 8, 11, 7, 4, 2, 9, 14, 10, 2, 1, 6, 7], \"textposition\": \"middle center\", \"hoverinfo\": \"none\", \"mode\": \"text\", \"textfont\": {\"color\": \"rgb(0, 0, 0)\"}}], \"name\": 5}, {\"data\": [{\"x\": [0.0, 0.25, null], \"y\": [0.5, 1.0, null], \"hoverinfo\": \"none\", \"mode\": \"lines\", \"line\": {\"width\": 2, \"color\": \"rgb(0, 0, 0)\"}}, {\"x\": [0.0, 0.25, null], \"y\": [0.5, 0.0, null], \"hoverinfo\": \"none\", \"mode\": \"lines\", \"line\": {\"width\": 2, \"color\": \"rgb(0, 0, 0)\"}}, {\"x\": [0.25, 0.5, null], \"y\": [1.0, 1.0, null], \"hoverinfo\": \"none\", \"mode\": \"lines\", \"line\": {\"width\": 2, \"color\": \"rgb(0, 0, 0)\"}}, {\"x\": [0.25, 0.25, null], \"y\": [1.0, 0.0, null], \"hoverinfo\": \"none\", \"mode\": \"lines\", \"line\": {\"width\": 2, \"color\": \"rgb(0, 0, 0)\"}}, {\"x\": [0.5, 0.75, null], \"y\": [1.0, 1.0, null], \"hoverinfo\": \"none\", \"mode\": \"lines\", \"line\": {\"width\": 2, \"color\": \"rgb(0, 0, 0)\"}}, {\"x\": [0.5, 0.75, null], \"y\": [1.0, 0.0, null], \"hoverinfo\": \"none\", \"mode\": \"lines\", \"line\": {\"width\": 2, \"color\": \"rgb(0, 0, 0)\"}}, {\"x\": [0.5, 0.375, null], \"y\": [1.0, 0.5, null], \"hoverinfo\": \"none\", \"mode\": \"lines\", \"line\": {\"width\": 2, \"color\": \"rgb(0, 0, 255)\"}}, {\"x\": [0.75, 1.0, null], \"y\": [1.0, 0.5, null], \"hoverinfo\": \"none\", \"mode\": \"lines\", \"line\": {\"width\": 2, \"color\": \"rgb(0, 0, 0)\"}}, {\"x\": [0.75, 0.75, null], \"y\": [1.0, 0.0, null], \"hoverinfo\": \"none\", \"mode\": \"lines\", \"line\": {\"width\": 2, \"color\": \"rgb(0, 0, 0)\"}}, {\"x\": [1.0, 0.75, null], \"y\": [0.5, 0.0, null], \"hoverinfo\": \"none\", \"mode\": \"lines\", \"line\": {\"width\": 2, \"color\": \"rgb(0, 0, 0)\"}}, {\"x\": [0.75, 0.5, null], \"y\": [0.0, 0.0, null], \"hoverinfo\": \"none\", \"mode\": \"lines\", \"line\": {\"width\": 2, \"color\": \"rgb(0, 0, 255)\"}}, {\"x\": [0.5, 0.25, null], \"y\": [0.0, 0.0, null], \"hoverinfo\": \"none\", \"mode\": \"lines\", \"line\": {\"width\": 2, \"color\": \"rgb(0, 0, 255)\"}}, {\"x\": [0.5, 0.375, null], \"y\": [0.0, 0.5, null], \"hoverinfo\": \"none\", \"mode\": \"lines\", \"line\": {\"width\": 2, \"color\": \"rgb(0, 0, 0)\"}}, {\"x\": [0.25, 0.375, null], \"y\": [0.0, 0.5, null], \"hoverinfo\": \"none\", \"mode\": \"lines\", \"line\": {\"width\": 2, \"color\": \"rgb(0, 0, 0)\"}}, {\"x\": [0.0], \"y\": [0.5], \"text\": [], \"textposition\": \"middle center\", \"hoverinfo\": \"none\", \"mode\": \"markers+text\", \"marker\": {\"size\": 20, \"color\": \"rgb(255, 255, 255)\", \"line\": {\"width\": 2, \"color\": \"rgb(0, 0, 0)\"}}, \"textfont\": {\"color\": \"rgb(0, 0, 0)\"}}, {\"x\": [0.25], \"y\": [1.0], \"text\": [], \"textposition\": \"middle center\", \"hoverinfo\": \"none\", \"mode\": \"markers+text\", \"marker\": {\"size\": 20, \"color\": \"rgb(255, 255, 255)\", \"line\": {\"width\": 2, \"color\": \"rgb(0, 0, 0)\"}}, \"textfont\": {\"color\": \"rgb(0, 0, 0)\"}}, {\"x\": [0.5], \"y\": [1.0], \"text\": [], \"textposition\": \"middle center\", \"hoverinfo\": \"none\", \"mode\": \"markers+text\", \"marker\": {\"size\": 20, \"color\": \"rgb(255, 255, 255)\", \"line\": {\"width\": 2, \"color\": \"rgb(0, 0, 0)\"}}, \"textfont\": {\"color\": \"rgb(0, 0, 0)\"}}, {\"x\": [0.75], \"y\": [1.0], \"text\": [], \"textposition\": \"middle center\", \"hoverinfo\": \"none\", \"mode\": \"markers+text\", \"marker\": {\"size\": 20, \"color\": \"rgb(255, 255, 255)\", \"line\": {\"width\": 2, \"color\": \"rgb(0, 0, 0)\"}}, \"textfont\": {\"color\": \"rgb(0, 0, 0)\"}}, {\"x\": [1.0], \"y\": [0.5], \"text\": [], \"textposition\": \"middle center\", \"hoverinfo\": \"none\", \"mode\": \"markers+text\", \"marker\": {\"size\": 20, \"color\": \"rgb(255, 255, 255)\", \"line\": {\"width\": 2, \"color\": \"rgb(0, 0, 0)\"}}, \"textfont\": {\"color\": \"rgb(0, 0, 0)\"}}, {\"x\": [0.75], \"y\": [0.0], \"text\": [], \"textposition\": \"middle center\", \"hoverinfo\": \"none\", \"mode\": \"markers+text\", \"marker\": {\"size\": 20, \"color\": \"rgb(255, 255, 255)\", \"line\": {\"width\": 2, \"color\": \"rgb(0, 0, 0)\"}}, \"textfont\": {\"color\": \"rgb(0, 0, 0)\"}}, {\"x\": [0.5], \"y\": [0.0], \"text\": [], \"textposition\": \"middle center\", \"hoverinfo\": \"none\", \"mode\": \"markers+text\", \"marker\": {\"size\": 20, \"color\": \"rgb(255, 255, 255)\", \"line\": {\"width\": 2, \"color\": \"rgb(0, 0, 0)\"}}, \"textfont\": {\"color\": \"rgb(0, 0, 0)\"}}, {\"x\": [0.25], \"y\": [0.0], \"text\": [], \"textposition\": \"middle center\", \"hoverinfo\": \"none\", \"mode\": \"markers+text\", \"marker\": {\"size\": 20, \"color\": \"rgb(255, 255, 255)\", \"line\": {\"width\": 2, \"color\": \"rgb(0, 0, 0)\"}}, \"textfont\": {\"color\": \"rgb(0, 0, 0)\"}}, {\"x\": [0.375], \"y\": [0.5], \"text\": [], \"textposition\": \"middle center\", \"hoverinfo\": \"none\", \"mode\": \"markers+text\", \"marker\": {\"size\": 20, \"color\": \"rgb(255, 255, 255)\", \"line\": {\"width\": 2, \"color\": \"rgb(0, 0, 0)\"}}, \"textfont\": {\"color\": \"rgb(0, 0, 0)\"}}, {\"x\": [0.08835225700681207, 0.16164774299318793, 0.375, 0.2878787878787879, 0.625, 0.6625594305323629, 0.4750594305323629, 0.911647742993188, 0.7878787878787878, 0.911647742993188, 0.625, 0.375, 0.3999405694676371, 0.2749405694676371], \"y\": [0.768323871496594, 0.268323871496594, 1.0724637681159421, 0.5, 1.0724637681159421, 0.5093898576330907, 0.7406101423669093, 0.768323871496594, 0.5, 0.23167612850340602, -0.07246376811594203, -0.07246376811594203, 0.24061014236690928, 0.2593898576330907], \"text\": [4, 8, 8, 11, 7, 4, 2, 9, 14, 10, 2, 1, 6, 7], \"textposition\": \"middle center\", \"hoverinfo\": \"none\", \"mode\": \"text\", \"textfont\": {\"color\": \"rgb(0, 0, 0)\"}}], \"name\": 6}, {\"data\": [{\"x\": [0.0, 0.25, null], \"y\": [0.5, 1.0, null], \"hoverinfo\": \"none\", \"mode\": \"lines\", \"line\": {\"width\": 2, \"color\": \"rgb(255, 0, 0)\"}}, {\"x\": [0.0, 0.25, null], \"y\": [0.5, 0.0, null], \"hoverinfo\": \"none\", \"mode\": \"lines\", \"line\": {\"width\": 2, \"color\": \"rgb(0, 0, 0)\"}}, {\"x\": [0.25, 0.5, null], \"y\": [1.0, 1.0, null], \"hoverinfo\": \"none\", \"mode\": \"lines\", \"line\": {\"width\": 2, \"color\": \"rgb(0, 0, 0)\"}}, {\"x\": [0.25, 0.25, null], \"y\": [1.0, 0.0, null], \"hoverinfo\": \"none\", \"mode\": \"lines\", \"line\": {\"width\": 2, \"color\": \"rgb(0, 0, 0)\"}}, {\"x\": [0.5, 0.75, null], \"y\": [1.0, 1.0, null], \"hoverinfo\": \"none\", \"mode\": \"lines\", \"line\": {\"width\": 2, \"color\": \"rgb(0, 0, 0)\"}}, {\"x\": [0.5, 0.75, null], \"y\": [1.0, 0.0, null], \"hoverinfo\": \"none\", \"mode\": \"lines\", \"line\": {\"width\": 2, \"color\": \"rgb(0, 0, 0)\"}}, {\"x\": [0.5, 0.375, null], \"y\": [1.0, 0.5, null], \"hoverinfo\": \"none\", \"mode\": \"lines\", \"line\": {\"width\": 2, \"color\": \"rgb(0, 0, 255)\"}}, {\"x\": [0.75, 1.0, null], \"y\": [1.0, 0.5, null], \"hoverinfo\": \"none\", \"mode\": \"lines\", \"line\": {\"width\": 2, \"color\": \"rgb(0, 0, 0)\"}}, {\"x\": [0.75, 0.75, null], \"y\": [1.0, 0.0, null], \"hoverinfo\": \"none\", \"mode\": \"lines\", \"line\": {\"width\": 2, \"color\": \"rgb(0, 0, 0)\"}}, {\"x\": [1.0, 0.75, null], \"y\": [0.5, 0.0, null], \"hoverinfo\": \"none\", \"mode\": \"lines\", \"line\": {\"width\": 2, \"color\": \"rgb(0, 0, 0)\"}}, {\"x\": [0.75, 0.5, null], \"y\": [0.0, 0.0, null], \"hoverinfo\": \"none\", \"mode\": \"lines\", \"line\": {\"width\": 2, \"color\": \"rgb(0, 0, 255)\"}}, {\"x\": [0.5, 0.25, null], \"y\": [0.0, 0.0, null], \"hoverinfo\": \"none\", \"mode\": \"lines\", \"line\": {\"width\": 2, \"color\": \"rgb(0, 0, 255)\"}}, {\"x\": [0.5, 0.375, null], \"y\": [0.0, 0.5, null], \"hoverinfo\": \"none\", \"mode\": \"lines\", \"line\": {\"width\": 2, \"color\": \"rgb(0, 0, 0)\"}}, {\"x\": [0.25, 0.375, null], \"y\": [0.0, 0.5, null], \"hoverinfo\": \"none\", \"mode\": \"lines\", \"line\": {\"width\": 2, \"color\": \"rgb(0, 0, 0)\"}}, {\"x\": [0.0], \"y\": [0.5], \"text\": [], \"textposition\": \"middle center\", \"hoverinfo\": \"none\", \"mode\": \"markers+text\", \"marker\": {\"size\": 20, \"color\": \"rgb(255, 255, 255)\", \"line\": {\"width\": 2, \"color\": \"rgb(0, 0, 0)\"}}, \"textfont\": {\"color\": \"rgb(0, 0, 0)\"}}, {\"x\": [0.25], \"y\": [1.0], \"text\": [], \"textposition\": \"middle center\", \"hoverinfo\": \"none\", \"mode\": \"markers+text\", \"marker\": {\"size\": 20, \"color\": \"rgb(255, 255, 255)\", \"line\": {\"width\": 2, \"color\": \"rgb(0, 0, 0)\"}}, \"textfont\": {\"color\": \"rgb(0, 0, 0)\"}}, {\"x\": [0.5], \"y\": [1.0], \"text\": [], \"textposition\": \"middle center\", \"hoverinfo\": \"none\", \"mode\": \"markers+text\", \"marker\": {\"size\": 20, \"color\": \"rgb(255, 255, 255)\", \"line\": {\"width\": 2, \"color\": \"rgb(0, 0, 0)\"}}, \"textfont\": {\"color\": \"rgb(0, 0, 0)\"}}, {\"x\": [0.75], \"y\": [1.0], \"text\": [], \"textposition\": \"middle center\", \"hoverinfo\": \"none\", \"mode\": \"markers+text\", \"marker\": {\"size\": 20, \"color\": \"rgb(255, 255, 255)\", \"line\": {\"width\": 2, \"color\": \"rgb(0, 0, 0)\"}}, \"textfont\": {\"color\": \"rgb(0, 0, 0)\"}}, {\"x\": [1.0], \"y\": [0.5], \"text\": [], \"textposition\": \"middle center\", \"hoverinfo\": \"none\", \"mode\": \"markers+text\", \"marker\": {\"size\": 20, \"color\": \"rgb(255, 255, 255)\", \"line\": {\"width\": 2, \"color\": \"rgb(0, 0, 0)\"}}, \"textfont\": {\"color\": \"rgb(0, 0, 0)\"}}, {\"x\": [0.75], \"y\": [0.0], \"text\": [], \"textposition\": \"middle center\", \"hoverinfo\": \"none\", \"mode\": \"markers+text\", \"marker\": {\"size\": 20, \"color\": \"rgb(255, 255, 255)\", \"line\": {\"width\": 2, \"color\": \"rgb(0, 0, 0)\"}}, \"textfont\": {\"color\": \"rgb(0, 0, 0)\"}}, {\"x\": [0.5], \"y\": [0.0], \"text\": [], \"textposition\": \"middle center\", \"hoverinfo\": \"none\", \"mode\": \"markers+text\", \"marker\": {\"size\": 20, \"color\": \"rgb(255, 255, 255)\", \"line\": {\"width\": 2, \"color\": \"rgb(0, 0, 0)\"}}, \"textfont\": {\"color\": \"rgb(0, 0, 0)\"}}, {\"x\": [0.25], \"y\": [0.0], \"text\": [], \"textposition\": \"middle center\", \"hoverinfo\": \"none\", \"mode\": \"markers+text\", \"marker\": {\"size\": 20, \"color\": \"rgb(255, 255, 255)\", \"line\": {\"width\": 2, \"color\": \"rgb(0, 0, 0)\"}}, \"textfont\": {\"color\": \"rgb(0, 0, 0)\"}}, {\"x\": [0.375], \"y\": [0.5], \"text\": [], \"textposition\": \"middle center\", \"hoverinfo\": \"none\", \"mode\": \"markers+text\", \"marker\": {\"size\": 20, \"color\": \"rgb(255, 255, 255)\", \"line\": {\"width\": 2, \"color\": \"rgb(0, 0, 0)\"}}, \"textfont\": {\"color\": \"rgb(0, 0, 0)\"}}, {\"x\": [0.08835225700681207, 0.16164774299318793, 0.375, 0.2878787878787879, 0.625, 0.6625594305323629, 0.4750594305323629, 0.911647742993188, 0.7878787878787878, 0.911647742993188, 0.625, 0.375, 0.3999405694676371, 0.2749405694676371], \"y\": [0.768323871496594, 0.268323871496594, 1.0724637681159421, 0.5, 1.0724637681159421, 0.5093898576330907, 0.7406101423669093, 0.768323871496594, 0.5, 0.23167612850340602, -0.07246376811594203, -0.07246376811594203, 0.24061014236690928, 0.2593898576330907], \"text\": [4, 8, 8, 11, 7, 4, 2, 9, 14, 10, 2, 1, 6, 7], \"textposition\": \"middle center\", \"hoverinfo\": \"none\", \"mode\": \"text\", \"textfont\": {\"color\": \"rgb(0, 0, 0)\"}}], \"name\": 7}, {\"data\": [{\"x\": [0.0, 0.25, null], \"y\": [0.5, 1.0, null], \"hoverinfo\": \"none\", \"mode\": \"lines\", \"line\": {\"width\": 2, \"color\": \"rgb(0, 0, 255)\"}}, {\"x\": [0.0, 0.25, null], \"y\": [0.5, 0.0, null], \"hoverinfo\": \"none\", \"mode\": \"lines\", \"line\": {\"width\": 2, \"color\": \"rgb(0, 0, 0)\"}}, {\"x\": [0.25, 0.5, null], \"y\": [1.0, 1.0, null], \"hoverinfo\": \"none\", \"mode\": \"lines\", \"line\": {\"width\": 2, \"color\": \"rgb(0, 0, 0)\"}}, {\"x\": [0.25, 0.25, null], \"y\": [1.0, 0.0, null], \"hoverinfo\": \"none\", \"mode\": \"lines\", \"line\": {\"width\": 2, \"color\": \"rgb(0, 0, 0)\"}}, {\"x\": [0.5, 0.75, null], \"y\": [1.0, 1.0, null], \"hoverinfo\": \"none\", \"mode\": \"lines\", \"line\": {\"width\": 2, \"color\": \"rgb(0, 0, 0)\"}}, {\"x\": [0.5, 0.75, null], \"y\": [1.0, 0.0, null], \"hoverinfo\": \"none\", \"mode\": \"lines\", \"line\": {\"width\": 2, \"color\": \"rgb(0, 0, 0)\"}}, {\"x\": [0.5, 0.375, null], \"y\": [1.0, 0.5, null], \"hoverinfo\": \"none\", \"mode\": \"lines\", \"line\": {\"width\": 2, \"color\": \"rgb(0, 0, 255)\"}}, {\"x\": [0.75, 1.0, null], \"y\": [1.0, 0.5, null], \"hoverinfo\": \"none\", \"mode\": \"lines\", \"line\": {\"width\": 2, \"color\": \"rgb(0, 0, 0)\"}}, {\"x\": [0.75, 0.75, null], \"y\": [1.0, 0.0, null], \"hoverinfo\": \"none\", \"mode\": \"lines\", \"line\": {\"width\": 2, \"color\": \"rgb(0, 0, 0)\"}}, {\"x\": [1.0, 0.75, null], \"y\": [0.5, 0.0, null], \"hoverinfo\": \"none\", \"mode\": \"lines\", \"line\": {\"width\": 2, \"color\": \"rgb(0, 0, 0)\"}}, {\"x\": [0.75, 0.5, null], \"y\": [0.0, 0.0, null], \"hoverinfo\": \"none\", \"mode\": \"lines\", \"line\": {\"width\": 2, \"color\": \"rgb(0, 0, 255)\"}}, {\"x\": [0.5, 0.25, null], \"y\": [0.0, 0.0, null], \"hoverinfo\": \"none\", \"mode\": \"lines\", \"line\": {\"width\": 2, \"color\": \"rgb(0, 0, 255)\"}}, {\"x\": [0.5, 0.375, null], \"y\": [0.0, 0.5, null], \"hoverinfo\": \"none\", \"mode\": \"lines\", \"line\": {\"width\": 2, \"color\": \"rgb(0, 0, 0)\"}}, {\"x\": [0.25, 0.375, null], \"y\": [0.0, 0.5, null], \"hoverinfo\": \"none\", \"mode\": \"lines\", \"line\": {\"width\": 2, \"color\": \"rgb(0, 0, 0)\"}}, {\"x\": [0.0], \"y\": [0.5], \"text\": [], \"textposition\": \"middle center\", \"hoverinfo\": \"none\", \"mode\": \"markers+text\", \"marker\": {\"size\": 20, \"color\": \"rgb(255, 255, 255)\", \"line\": {\"width\": 2, \"color\": \"rgb(0, 0, 0)\"}}, \"textfont\": {\"color\": \"rgb(0, 0, 0)\"}}, {\"x\": [0.25], \"y\": [1.0], \"text\": [], \"textposition\": \"middle center\", \"hoverinfo\": \"none\", \"mode\": \"markers+text\", \"marker\": {\"size\": 20, \"color\": \"rgb(255, 255, 255)\", \"line\": {\"width\": 2, \"color\": \"rgb(0, 0, 0)\"}}, \"textfont\": {\"color\": \"rgb(0, 0, 0)\"}}, {\"x\": [0.5], \"y\": [1.0], \"text\": [], \"textposition\": \"middle center\", \"hoverinfo\": \"none\", \"mode\": \"markers+text\", \"marker\": {\"size\": 20, \"color\": \"rgb(255, 255, 255)\", \"line\": {\"width\": 2, \"color\": \"rgb(0, 0, 0)\"}}, \"textfont\": {\"color\": \"rgb(0, 0, 0)\"}}, {\"x\": [0.75], \"y\": [1.0], \"text\": [], \"textposition\": \"middle center\", \"hoverinfo\": \"none\", \"mode\": \"markers+text\", \"marker\": {\"size\": 20, \"color\": \"rgb(255, 255, 255)\", \"line\": {\"width\": 2, \"color\": \"rgb(0, 0, 0)\"}}, \"textfont\": {\"color\": \"rgb(0, 0, 0)\"}}, {\"x\": [1.0], \"y\": [0.5], \"text\": [], \"textposition\": \"middle center\", \"hoverinfo\": \"none\", \"mode\": \"markers+text\", \"marker\": {\"size\": 20, \"color\": \"rgb(255, 255, 255)\", \"line\": {\"width\": 2, \"color\": \"rgb(0, 0, 0)\"}}, \"textfont\": {\"color\": \"rgb(0, 0, 0)\"}}, {\"x\": [0.75], \"y\": [0.0], \"text\": [], \"textposition\": \"middle center\", \"hoverinfo\": \"none\", \"mode\": \"markers+text\", \"marker\": {\"size\": 20, \"color\": \"rgb(255, 255, 255)\", \"line\": {\"width\": 2, \"color\": \"rgb(0, 0, 0)\"}}, \"textfont\": {\"color\": \"rgb(0, 0, 0)\"}}, {\"x\": [0.5], \"y\": [0.0], \"text\": [], \"textposition\": \"middle center\", \"hoverinfo\": \"none\", \"mode\": \"markers+text\", \"marker\": {\"size\": 20, \"color\": \"rgb(255, 255, 255)\", \"line\": {\"width\": 2, \"color\": \"rgb(0, 0, 0)\"}}, \"textfont\": {\"color\": \"rgb(0, 0, 0)\"}}, {\"x\": [0.25], \"y\": [0.0], \"text\": [], \"textposition\": \"middle center\", \"hoverinfo\": \"none\", \"mode\": \"markers+text\", \"marker\": {\"size\": 20, \"color\": \"rgb(255, 255, 255)\", \"line\": {\"width\": 2, \"color\": \"rgb(0, 0, 0)\"}}, \"textfont\": {\"color\": \"rgb(0, 0, 0)\"}}, {\"x\": [0.375], \"y\": [0.5], \"text\": [], \"textposition\": \"middle center\", \"hoverinfo\": \"none\", \"mode\": \"markers+text\", \"marker\": {\"size\": 20, \"color\": \"rgb(255, 255, 255)\", \"line\": {\"width\": 2, \"color\": \"rgb(0, 0, 0)\"}}, \"textfont\": {\"color\": \"rgb(0, 0, 0)\"}}, {\"x\": [0.08835225700681207, 0.16164774299318793, 0.375, 0.2878787878787879, 0.625, 0.6625594305323629, 0.4750594305323629, 0.911647742993188, 0.7878787878787878, 0.911647742993188, 0.625, 0.375, 0.3999405694676371, 0.2749405694676371], \"y\": [0.768323871496594, 0.268323871496594, 1.0724637681159421, 0.5, 1.0724637681159421, 0.5093898576330907, 0.7406101423669093, 0.768323871496594, 0.5, 0.23167612850340602, -0.07246376811594203, -0.07246376811594203, 0.24061014236690928, 0.2593898576330907], \"text\": [4, 8, 8, 11, 7, 4, 2, 9, 14, 10, 2, 1, 6, 7], \"textposition\": \"middle center\", \"hoverinfo\": \"none\", \"mode\": \"text\", \"textfont\": {\"color\": \"rgb(0, 0, 0)\"}}], \"name\": 8}, {\"data\": [{\"x\": [0.0, 0.25, null], \"y\": [0.5, 1.0, null], \"hoverinfo\": \"none\", \"mode\": \"lines\", \"line\": {\"width\": 2, \"color\": \"rgb(0, 0, 255)\"}}, {\"x\": [0.0, 0.25, null], \"y\": [0.5, 0.0, null], \"hoverinfo\": \"none\", \"mode\": \"lines\", \"line\": {\"width\": 2, \"color\": \"rgb(0, 0, 0)\"}}, {\"x\": [0.25, 0.5, null], \"y\": [1.0, 1.0, null], \"hoverinfo\": \"none\", \"mode\": \"lines\", \"line\": {\"width\": 2, \"color\": \"rgb(0, 0, 0)\"}}, {\"x\": [0.25, 0.25, null], \"y\": [1.0, 0.0, null], \"hoverinfo\": \"none\", \"mode\": \"lines\", \"line\": {\"width\": 2, \"color\": \"rgb(0, 0, 0)\"}}, {\"x\": [0.5, 0.75, null], \"y\": [1.0, 1.0, null], \"hoverinfo\": \"none\", \"mode\": \"lines\", \"line\": {\"width\": 2, \"color\": \"rgb(0, 0, 0)\"}}, {\"x\": [0.5, 0.75, null], \"y\": [1.0, 0.0, null], \"hoverinfo\": \"none\", \"mode\": \"lines\", \"line\": {\"width\": 2, \"color\": \"rgb(255, 0, 0)\"}}, {\"x\": [0.5, 0.375, null], \"y\": [1.0, 0.5, null], \"hoverinfo\": \"none\", \"mode\": \"lines\", \"line\": {\"width\": 2, \"color\": \"rgb(0, 0, 255)\"}}, {\"x\": [0.75, 1.0, null], \"y\": [1.0, 0.5, null], \"hoverinfo\": \"none\", \"mode\": \"lines\", \"line\": {\"width\": 2, \"color\": \"rgb(0, 0, 0)\"}}, {\"x\": [0.75, 0.75, null], \"y\": [1.0, 0.0, null], \"hoverinfo\": \"none\", \"mode\": \"lines\", \"line\": {\"width\": 2, \"color\": \"rgb(0, 0, 0)\"}}, {\"x\": [1.0, 0.75, null], \"y\": [0.5, 0.0, null], \"hoverinfo\": \"none\", \"mode\": \"lines\", \"line\": {\"width\": 2, \"color\": \"rgb(0, 0, 0)\"}}, {\"x\": [0.75, 0.5, null], \"y\": [0.0, 0.0, null], \"hoverinfo\": \"none\", \"mode\": \"lines\", \"line\": {\"width\": 2, \"color\": \"rgb(0, 0, 255)\"}}, {\"x\": [0.5, 0.25, null], \"y\": [0.0, 0.0, null], \"hoverinfo\": \"none\", \"mode\": \"lines\", \"line\": {\"width\": 2, \"color\": \"rgb(0, 0, 255)\"}}, {\"x\": [0.5, 0.375, null], \"y\": [0.0, 0.5, null], \"hoverinfo\": \"none\", \"mode\": \"lines\", \"line\": {\"width\": 2, \"color\": \"rgb(0, 0, 0)\"}}, {\"x\": [0.25, 0.375, null], \"y\": [0.0, 0.5, null], \"hoverinfo\": \"none\", \"mode\": \"lines\", \"line\": {\"width\": 2, \"color\": \"rgb(0, 0, 0)\"}}, {\"x\": [0.0], \"y\": [0.5], \"text\": [], \"textposition\": \"middle center\", \"hoverinfo\": \"none\", \"mode\": \"markers+text\", \"marker\": {\"size\": 20, \"color\": \"rgb(255, 255, 255)\", \"line\": {\"width\": 2, \"color\": \"rgb(0, 0, 0)\"}}, \"textfont\": {\"color\": \"rgb(0, 0, 0)\"}}, {\"x\": [0.25], \"y\": [1.0], \"text\": [], \"textposition\": \"middle center\", \"hoverinfo\": \"none\", \"mode\": \"markers+text\", \"marker\": {\"size\": 20, \"color\": \"rgb(255, 255, 255)\", \"line\": {\"width\": 2, \"color\": \"rgb(0, 0, 0)\"}}, \"textfont\": {\"color\": \"rgb(0, 0, 0)\"}}, {\"x\": [0.5], \"y\": [1.0], \"text\": [], \"textposition\": \"middle center\", \"hoverinfo\": \"none\", \"mode\": \"markers+text\", \"marker\": {\"size\": 20, \"color\": \"rgb(255, 255, 255)\", \"line\": {\"width\": 2, \"color\": \"rgb(0, 0, 0)\"}}, \"textfont\": {\"color\": \"rgb(0, 0, 0)\"}}, {\"x\": [0.75], \"y\": [1.0], \"text\": [], \"textposition\": \"middle center\", \"hoverinfo\": \"none\", \"mode\": \"markers+text\", \"marker\": {\"size\": 20, \"color\": \"rgb(255, 255, 255)\", \"line\": {\"width\": 2, \"color\": \"rgb(0, 0, 0)\"}}, \"textfont\": {\"color\": \"rgb(0, 0, 0)\"}}, {\"x\": [1.0], \"y\": [0.5], \"text\": [], \"textposition\": \"middle center\", \"hoverinfo\": \"none\", \"mode\": \"markers+text\", \"marker\": {\"size\": 20, \"color\": \"rgb(255, 255, 255)\", \"line\": {\"width\": 2, \"color\": \"rgb(0, 0, 0)\"}}, \"textfont\": {\"color\": \"rgb(0, 0, 0)\"}}, {\"x\": [0.75], \"y\": [0.0], \"text\": [], \"textposition\": \"middle center\", \"hoverinfo\": \"none\", \"mode\": \"markers+text\", \"marker\": {\"size\": 20, \"color\": \"rgb(255, 255, 255)\", \"line\": {\"width\": 2, \"color\": \"rgb(0, 0, 0)\"}}, \"textfont\": {\"color\": \"rgb(0, 0, 0)\"}}, {\"x\": [0.5], \"y\": [0.0], \"text\": [], \"textposition\": \"middle center\", \"hoverinfo\": \"none\", \"mode\": \"markers+text\", \"marker\": {\"size\": 20, \"color\": \"rgb(255, 255, 255)\", \"line\": {\"width\": 2, \"color\": \"rgb(0, 0, 0)\"}}, \"textfont\": {\"color\": \"rgb(0, 0, 0)\"}}, {\"x\": [0.25], \"y\": [0.0], \"text\": [], \"textposition\": \"middle center\", \"hoverinfo\": \"none\", \"mode\": \"markers+text\", \"marker\": {\"size\": 20, \"color\": \"rgb(255, 255, 255)\", \"line\": {\"width\": 2, \"color\": \"rgb(0, 0, 0)\"}}, \"textfont\": {\"color\": \"rgb(0, 0, 0)\"}}, {\"x\": [0.375], \"y\": [0.5], \"text\": [], \"textposition\": \"middle center\", \"hoverinfo\": \"none\", \"mode\": \"markers+text\", \"marker\": {\"size\": 20, \"color\": \"rgb(255, 255, 255)\", \"line\": {\"width\": 2, \"color\": \"rgb(0, 0, 0)\"}}, \"textfont\": {\"color\": \"rgb(0, 0, 0)\"}}, {\"x\": [0.08835225700681207, 0.16164774299318793, 0.375, 0.2878787878787879, 0.625, 0.6625594305323629, 0.4750594305323629, 0.911647742993188, 0.7878787878787878, 0.911647742993188, 0.625, 0.375, 0.3999405694676371, 0.2749405694676371], \"y\": [0.768323871496594, 0.268323871496594, 1.0724637681159421, 0.5, 1.0724637681159421, 0.5093898576330907, 0.7406101423669093, 0.768323871496594, 0.5, 0.23167612850340602, -0.07246376811594203, -0.07246376811594203, 0.24061014236690928, 0.2593898576330907], \"text\": [4, 8, 8, 11, 7, 4, 2, 9, 14, 10, 2, 1, 6, 7], \"textposition\": \"middle center\", \"hoverinfo\": \"none\", \"mode\": \"text\", \"textfont\": {\"color\": \"rgb(0, 0, 0)\"}}], \"name\": 9}, {\"data\": [{\"x\": [0.0, 0.25, null], \"y\": [0.5, 1.0, null], \"hoverinfo\": \"none\", \"mode\": \"lines\", \"line\": {\"width\": 2, \"color\": \"rgb(0, 0, 255)\"}}, {\"x\": [0.0, 0.25, null], \"y\": [0.5, 0.0, null], \"hoverinfo\": \"none\", \"mode\": \"lines\", \"line\": {\"width\": 2, \"color\": \"rgb(0, 0, 0)\"}}, {\"x\": [0.25, 0.5, null], \"y\": [1.0, 1.0, null], \"hoverinfo\": \"none\", \"mode\": \"lines\", \"line\": {\"width\": 2, \"color\": \"rgb(0, 0, 0)\"}}, {\"x\": [0.25, 0.25, null], \"y\": [1.0, 0.0, null], \"hoverinfo\": \"none\", \"mode\": \"lines\", \"line\": {\"width\": 2, \"color\": \"rgb(0, 0, 0)\"}}, {\"x\": [0.5, 0.75, null], \"y\": [1.0, 1.0, null], \"hoverinfo\": \"none\", \"mode\": \"lines\", \"line\": {\"width\": 2, \"color\": \"rgb(0, 0, 0)\"}}, {\"x\": [0.5, 0.75, null], \"y\": [1.0, 0.0, null], \"hoverinfo\": \"none\", \"mode\": \"lines\", \"line\": {\"width\": 2, \"color\": \"rgb(0, 0, 255)\"}}, {\"x\": [0.5, 0.375, null], \"y\": [1.0, 0.5, null], \"hoverinfo\": \"none\", \"mode\": \"lines\", \"line\": {\"width\": 2, \"color\": \"rgb(0, 0, 255)\"}}, {\"x\": [0.75, 1.0, null], \"y\": [1.0, 0.5, null], \"hoverinfo\": \"none\", \"mode\": \"lines\", \"line\": {\"width\": 2, \"color\": \"rgb(0, 0, 0)\"}}, {\"x\": [0.75, 0.75, null], \"y\": [1.0, 0.0, null], \"hoverinfo\": \"none\", \"mode\": \"lines\", \"line\": {\"width\": 2, \"color\": \"rgb(0, 0, 0)\"}}, {\"x\": [1.0, 0.75, null], \"y\": [0.5, 0.0, null], \"hoverinfo\": \"none\", \"mode\": \"lines\", \"line\": {\"width\": 2, \"color\": \"rgb(0, 0, 0)\"}}, {\"x\": [0.75, 0.5, null], \"y\": [0.0, 0.0, null], \"hoverinfo\": \"none\", \"mode\": \"lines\", \"line\": {\"width\": 2, \"color\": \"rgb(0, 0, 255)\"}}, {\"x\": [0.5, 0.25, null], \"y\": [0.0, 0.0, null], \"hoverinfo\": \"none\", \"mode\": \"lines\", \"line\": {\"width\": 2, \"color\": \"rgb(0, 0, 255)\"}}, {\"x\": [0.5, 0.375, null], \"y\": [0.0, 0.5, null], \"hoverinfo\": \"none\", \"mode\": \"lines\", \"line\": {\"width\": 2, \"color\": \"rgb(0, 0, 0)\"}}, {\"x\": [0.25, 0.375, null], \"y\": [0.0, 0.5, null], \"hoverinfo\": \"none\", \"mode\": \"lines\", \"line\": {\"width\": 2, \"color\": \"rgb(0, 0, 0)\"}}, {\"x\": [0.0], \"y\": [0.5], \"text\": [], \"textposition\": \"middle center\", \"hoverinfo\": \"none\", \"mode\": \"markers+text\", \"marker\": {\"size\": 20, \"color\": \"rgb(255, 255, 255)\", \"line\": {\"width\": 2, \"color\": \"rgb(0, 0, 0)\"}}, \"textfont\": {\"color\": \"rgb(0, 0, 0)\"}}, {\"x\": [0.25], \"y\": [1.0], \"text\": [], \"textposition\": \"middle center\", \"hoverinfo\": \"none\", \"mode\": \"markers+text\", \"marker\": {\"size\": 20, \"color\": \"rgb(255, 255, 255)\", \"line\": {\"width\": 2, \"color\": \"rgb(0, 0, 0)\"}}, \"textfont\": {\"color\": \"rgb(0, 0, 0)\"}}, {\"x\": [0.5], \"y\": [1.0], \"text\": [], \"textposition\": \"middle center\", \"hoverinfo\": \"none\", \"mode\": \"markers+text\", \"marker\": {\"size\": 20, \"color\": \"rgb(255, 255, 255)\", \"line\": {\"width\": 2, \"color\": \"rgb(0, 0, 0)\"}}, \"textfont\": {\"color\": \"rgb(0, 0, 0)\"}}, {\"x\": [0.75], \"y\": [1.0], \"text\": [], \"textposition\": \"middle center\", \"hoverinfo\": \"none\", \"mode\": \"markers+text\", \"marker\": {\"size\": 20, \"color\": \"rgb(255, 255, 255)\", \"line\": {\"width\": 2, \"color\": \"rgb(0, 0, 0)\"}}, \"textfont\": {\"color\": \"rgb(0, 0, 0)\"}}, {\"x\": [1.0], \"y\": [0.5], \"text\": [], \"textposition\": \"middle center\", \"hoverinfo\": \"none\", \"mode\": \"markers+text\", \"marker\": {\"size\": 20, \"color\": \"rgb(255, 255, 255)\", \"line\": {\"width\": 2, \"color\": \"rgb(0, 0, 0)\"}}, \"textfont\": {\"color\": \"rgb(0, 0, 0)\"}}, {\"x\": [0.75], \"y\": [0.0], \"text\": [], \"textposition\": \"middle center\", \"hoverinfo\": \"none\", \"mode\": \"markers+text\", \"marker\": {\"size\": 20, \"color\": \"rgb(255, 255, 255)\", \"line\": {\"width\": 2, \"color\": \"rgb(0, 0, 0)\"}}, \"textfont\": {\"color\": \"rgb(0, 0, 0)\"}}, {\"x\": [0.5], \"y\": [0.0], \"text\": [], \"textposition\": \"middle center\", \"hoverinfo\": \"none\", \"mode\": \"markers+text\", \"marker\": {\"size\": 20, \"color\": \"rgb(255, 255, 255)\", \"line\": {\"width\": 2, \"color\": \"rgb(0, 0, 0)\"}}, \"textfont\": {\"color\": \"rgb(0, 0, 0)\"}}, {\"x\": [0.25], \"y\": [0.0], \"text\": [], \"textposition\": \"middle center\", \"hoverinfo\": \"none\", \"mode\": \"markers+text\", \"marker\": {\"size\": 20, \"color\": \"rgb(255, 255, 255)\", \"line\": {\"width\": 2, \"color\": \"rgb(0, 0, 0)\"}}, \"textfont\": {\"color\": \"rgb(0, 0, 0)\"}}, {\"x\": [0.375], \"y\": [0.5], \"text\": [], \"textposition\": \"middle center\", \"hoverinfo\": \"none\", \"mode\": \"markers+text\", \"marker\": {\"size\": 20, \"color\": \"rgb(255, 255, 255)\", \"line\": {\"width\": 2, \"color\": \"rgb(0, 0, 0)\"}}, \"textfont\": {\"color\": \"rgb(0, 0, 0)\"}}, {\"x\": [0.08835225700681207, 0.16164774299318793, 0.375, 0.2878787878787879, 0.625, 0.6625594305323629, 0.4750594305323629, 0.911647742993188, 0.7878787878787878, 0.911647742993188, 0.625, 0.375, 0.3999405694676371, 0.2749405694676371], \"y\": [0.768323871496594, 0.268323871496594, 1.0724637681159421, 0.5, 1.0724637681159421, 0.5093898576330907, 0.7406101423669093, 0.768323871496594, 0.5, 0.23167612850340602, -0.07246376811594203, -0.07246376811594203, 0.24061014236690928, 0.2593898576330907], \"text\": [4, 8, 8, 11, 7, 4, 2, 9, 14, 10, 2, 1, 6, 7], \"textposition\": \"middle center\", \"hoverinfo\": \"none\", \"mode\": \"text\", \"textfont\": {\"color\": \"rgb(0, 0, 0)\"}}], \"name\": 10}, {\"data\": [{\"x\": [0.0, 0.25, null], \"y\": [0.5, 1.0, null], \"hoverinfo\": \"none\", \"mode\": \"lines\", \"line\": {\"width\": 2, \"color\": \"rgb(0, 0, 255)\"}}, {\"x\": [0.0, 0.25, null], \"y\": [0.5, 0.0, null], \"hoverinfo\": \"none\", \"mode\": \"lines\", \"line\": {\"width\": 2, \"color\": \"rgb(0, 0, 0)\"}}, {\"x\": [0.25, 0.5, null], \"y\": [1.0, 1.0, null], \"hoverinfo\": \"none\", \"mode\": \"lines\", \"line\": {\"width\": 2, \"color\": \"rgb(0, 0, 0)\"}}, {\"x\": [0.25, 0.25, null], \"y\": [1.0, 0.0, null], \"hoverinfo\": \"none\", \"mode\": \"lines\", \"line\": {\"width\": 2, \"color\": \"rgb(0, 0, 0)\"}}, {\"x\": [0.5, 0.75, null], \"y\": [1.0, 1.0, null], \"hoverinfo\": \"none\", \"mode\": \"lines\", \"line\": {\"width\": 2, \"color\": \"rgb(0, 0, 0)\"}}, {\"x\": [0.5, 0.75, null], \"y\": [1.0, 0.0, null], \"hoverinfo\": \"none\", \"mode\": \"lines\", \"line\": {\"width\": 2, \"color\": \"rgb(0, 0, 255)\"}}, {\"x\": [0.5, 0.375, null], \"y\": [1.0, 0.5, null], \"hoverinfo\": \"none\", \"mode\": \"lines\", \"line\": {\"width\": 2, \"color\": \"rgb(0, 0, 255)\"}}, {\"x\": [0.75, 1.0, null], \"y\": [1.0, 0.5, null], \"hoverinfo\": \"none\", \"mode\": \"lines\", \"line\": {\"width\": 2, \"color\": \"rgb(0, 0, 0)\"}}, {\"x\": [0.75, 0.75, null], \"y\": [1.0, 0.0, null], \"hoverinfo\": \"none\", \"mode\": \"lines\", \"line\": {\"width\": 2, \"color\": \"rgb(0, 0, 0)\"}}, {\"x\": [1.0, 0.75, null], \"y\": [0.5, 0.0, null], \"hoverinfo\": \"none\", \"mode\": \"lines\", \"line\": {\"width\": 2, \"color\": \"rgb(0, 0, 0)\"}}, {\"x\": [0.75, 0.5, null], \"y\": [0.0, 0.0, null], \"hoverinfo\": \"none\", \"mode\": \"lines\", \"line\": {\"width\": 2, \"color\": \"rgb(0, 0, 255)\"}}, {\"x\": [0.5, 0.25, null], \"y\": [0.0, 0.0, null], \"hoverinfo\": \"none\", \"mode\": \"lines\", \"line\": {\"width\": 2, \"color\": \"rgb(0, 0, 255)\"}}, {\"x\": [0.5, 0.375, null], \"y\": [0.0, 0.5, null], \"hoverinfo\": \"none\", \"mode\": \"lines\", \"line\": {\"width\": 2, \"color\": \"rgb(255, 0, 0)\"}}, {\"x\": [0.25, 0.375, null], \"y\": [0.0, 0.5, null], \"hoverinfo\": \"none\", \"mode\": \"lines\", \"line\": {\"width\": 2, \"color\": \"rgb(0, 0, 0)\"}}, {\"x\": [0.0], \"y\": [0.5], \"text\": [], \"textposition\": \"middle center\", \"hoverinfo\": \"none\", \"mode\": \"markers+text\", \"marker\": {\"size\": 20, \"color\": \"rgb(255, 255, 255)\", \"line\": {\"width\": 2, \"color\": \"rgb(0, 0, 0)\"}}, \"textfont\": {\"color\": \"rgb(0, 0, 0)\"}}, {\"x\": [0.25], \"y\": [1.0], \"text\": [], \"textposition\": \"middle center\", \"hoverinfo\": \"none\", \"mode\": \"markers+text\", \"marker\": {\"size\": 20, \"color\": \"rgb(255, 255, 255)\", \"line\": {\"width\": 2, \"color\": \"rgb(0, 0, 0)\"}}, \"textfont\": {\"color\": \"rgb(0, 0, 0)\"}}, {\"x\": [0.5], \"y\": [1.0], \"text\": [], \"textposition\": \"middle center\", \"hoverinfo\": \"none\", \"mode\": \"markers+text\", \"marker\": {\"size\": 20, \"color\": \"rgb(255, 255, 255)\", \"line\": {\"width\": 2, \"color\": \"rgb(0, 0, 0)\"}}, \"textfont\": {\"color\": \"rgb(0, 0, 0)\"}}, {\"x\": [0.75], \"y\": [1.0], \"text\": [], \"textposition\": \"middle center\", \"hoverinfo\": \"none\", \"mode\": \"markers+text\", \"marker\": {\"size\": 20, \"color\": \"rgb(255, 255, 255)\", \"line\": {\"width\": 2, \"color\": \"rgb(0, 0, 0)\"}}, \"textfont\": {\"color\": \"rgb(0, 0, 0)\"}}, {\"x\": [1.0], \"y\": [0.5], \"text\": [], \"textposition\": \"middle center\", \"hoverinfo\": \"none\", \"mode\": \"markers+text\", \"marker\": {\"size\": 20, \"color\": \"rgb(255, 255, 255)\", \"line\": {\"width\": 2, \"color\": \"rgb(0, 0, 0)\"}}, \"textfont\": {\"color\": \"rgb(0, 0, 0)\"}}, {\"x\": [0.75], \"y\": [0.0], \"text\": [], \"textposition\": \"middle center\", \"hoverinfo\": \"none\", \"mode\": \"markers+text\", \"marker\": {\"size\": 20, \"color\": \"rgb(255, 255, 255)\", \"line\": {\"width\": 2, \"color\": \"rgb(0, 0, 0)\"}}, \"textfont\": {\"color\": \"rgb(0, 0, 0)\"}}, {\"x\": [0.5], \"y\": [0.0], \"text\": [], \"textposition\": \"middle center\", \"hoverinfo\": \"none\", \"mode\": \"markers+text\", \"marker\": {\"size\": 20, \"color\": \"rgb(255, 255, 255)\", \"line\": {\"width\": 2, \"color\": \"rgb(0, 0, 0)\"}}, \"textfont\": {\"color\": \"rgb(0, 0, 0)\"}}, {\"x\": [0.25], \"y\": [0.0], \"text\": [], \"textposition\": \"middle center\", \"hoverinfo\": \"none\", \"mode\": \"markers+text\", \"marker\": {\"size\": 20, \"color\": \"rgb(255, 255, 255)\", \"line\": {\"width\": 2, \"color\": \"rgb(0, 0, 0)\"}}, \"textfont\": {\"color\": \"rgb(0, 0, 0)\"}}, {\"x\": [0.375], \"y\": [0.5], \"text\": [], \"textposition\": \"middle center\", \"hoverinfo\": \"none\", \"mode\": \"markers+text\", \"marker\": {\"size\": 20, \"color\": \"rgb(255, 255, 255)\", \"line\": {\"width\": 2, \"color\": \"rgb(0, 0, 0)\"}}, \"textfont\": {\"color\": \"rgb(0, 0, 0)\"}}, {\"x\": [0.08835225700681207, 0.16164774299318793, 0.375, 0.2878787878787879, 0.625, 0.6625594305323629, 0.4750594305323629, 0.911647742993188, 0.7878787878787878, 0.911647742993188, 0.625, 0.375, 0.3999405694676371, 0.2749405694676371], \"y\": [0.768323871496594, 0.268323871496594, 1.0724637681159421, 0.5, 1.0724637681159421, 0.5093898576330907, 0.7406101423669093, 0.768323871496594, 0.5, 0.23167612850340602, -0.07246376811594203, -0.07246376811594203, 0.24061014236690928, 0.2593898576330907], \"text\": [4, 8, 8, 11, 7, 4, 2, 9, 14, 10, 2, 1, 6, 7], \"textposition\": \"middle center\", \"hoverinfo\": \"none\", \"mode\": \"text\", \"textfont\": {\"color\": \"rgb(0, 0, 0)\"}}], \"name\": 11}, {\"data\": [{\"x\": [0.0, 0.25, null], \"y\": [0.5, 1.0, null], \"hoverinfo\": \"none\", \"mode\": \"lines\", \"line\": {\"width\": 2, \"color\": \"rgb(0, 0, 255)\"}}, {\"x\": [0.0, 0.25, null], \"y\": [0.5, 0.0, null], \"hoverinfo\": \"none\", \"mode\": \"lines\", \"line\": {\"width\": 2, \"color\": \"rgb(0, 0, 0)\"}}, {\"x\": [0.25, 0.5, null], \"y\": [1.0, 1.0, null], \"hoverinfo\": \"none\", \"mode\": \"lines\", \"line\": {\"width\": 2, \"color\": \"rgb(0, 0, 0)\"}}, {\"x\": [0.25, 0.25, null], \"y\": [1.0, 0.0, null], \"hoverinfo\": \"none\", \"mode\": \"lines\", \"line\": {\"width\": 2, \"color\": \"rgb(0, 0, 0)\"}}, {\"x\": [0.5, 0.75, null], \"y\": [1.0, 1.0, null], \"hoverinfo\": \"none\", \"mode\": \"lines\", \"line\": {\"width\": 2, \"color\": \"rgb(0, 0, 0)\"}}, {\"x\": [0.5, 0.75, null], \"y\": [1.0, 0.0, null], \"hoverinfo\": \"none\", \"mode\": \"lines\", \"line\": {\"width\": 2, \"color\": \"rgb(0, 0, 255)\"}}, {\"x\": [0.5, 0.375, null], \"y\": [1.0, 0.5, null], \"hoverinfo\": \"none\", \"mode\": \"lines\", \"line\": {\"width\": 2, \"color\": \"rgb(0, 0, 255)\"}}, {\"x\": [0.75, 1.0, null], \"y\": [1.0, 0.5, null], \"hoverinfo\": \"none\", \"mode\": \"lines\", \"line\": {\"width\": 2, \"color\": \"rgb(0, 0, 0)\"}}, {\"x\": [0.75, 0.75, null], \"y\": [1.0, 0.0, null], \"hoverinfo\": \"none\", \"mode\": \"lines\", \"line\": {\"width\": 2, \"color\": \"rgb(0, 0, 0)\"}}, {\"x\": [1.0, 0.75, null], \"y\": [0.5, 0.0, null], \"hoverinfo\": \"none\", \"mode\": \"lines\", \"line\": {\"width\": 2, \"color\": \"rgb(0, 0, 0)\"}}, {\"x\": [0.75, 0.5, null], \"y\": [0.0, 0.0, null], \"hoverinfo\": \"none\", \"mode\": \"lines\", \"line\": {\"width\": 2, \"color\": \"rgb(0, 0, 255)\"}}, {\"x\": [0.5, 0.25, null], \"y\": [0.0, 0.0, null], \"hoverinfo\": \"none\", \"mode\": \"lines\", \"line\": {\"width\": 2, \"color\": \"rgb(0, 0, 255)\"}}, {\"x\": [0.5, 0.375, null], \"y\": [0.0, 0.5, null], \"hoverinfo\": \"none\", \"mode\": \"lines\", \"line\": {\"width\": 2, \"color\": \"rgb(0, 0, 0)\"}}, {\"x\": [0.25, 0.375, null], \"y\": [0.0, 0.5, null], \"hoverinfo\": \"none\", \"mode\": \"lines\", \"line\": {\"width\": 2, \"color\": \"rgb(0, 0, 0)\"}}, {\"x\": [0.0], \"y\": [0.5], \"text\": [], \"textposition\": \"middle center\", \"hoverinfo\": \"none\", \"mode\": \"markers+text\", \"marker\": {\"size\": 20, \"color\": \"rgb(255, 255, 255)\", \"line\": {\"width\": 2, \"color\": \"rgb(0, 0, 0)\"}}, \"textfont\": {\"color\": \"rgb(0, 0, 0)\"}}, {\"x\": [0.25], \"y\": [1.0], \"text\": [], \"textposition\": \"middle center\", \"hoverinfo\": \"none\", \"mode\": \"markers+text\", \"marker\": {\"size\": 20, \"color\": \"rgb(255, 255, 255)\", \"line\": {\"width\": 2, \"color\": \"rgb(0, 0, 0)\"}}, \"textfont\": {\"color\": \"rgb(0, 0, 0)\"}}, {\"x\": [0.5], \"y\": [1.0], \"text\": [], \"textposition\": \"middle center\", \"hoverinfo\": \"none\", \"mode\": \"markers+text\", \"marker\": {\"size\": 20, \"color\": \"rgb(255, 255, 255)\", \"line\": {\"width\": 2, \"color\": \"rgb(0, 0, 0)\"}}, \"textfont\": {\"color\": \"rgb(0, 0, 0)\"}}, {\"x\": [0.75], \"y\": [1.0], \"text\": [], \"textposition\": \"middle center\", \"hoverinfo\": \"none\", \"mode\": \"markers+text\", \"marker\": {\"size\": 20, \"color\": \"rgb(255, 255, 255)\", \"line\": {\"width\": 2, \"color\": \"rgb(0, 0, 0)\"}}, \"textfont\": {\"color\": \"rgb(0, 0, 0)\"}}, {\"x\": [1.0], \"y\": [0.5], \"text\": [], \"textposition\": \"middle center\", \"hoverinfo\": \"none\", \"mode\": \"markers+text\", \"marker\": {\"size\": 20, \"color\": \"rgb(255, 255, 255)\", \"line\": {\"width\": 2, \"color\": \"rgb(0, 0, 0)\"}}, \"textfont\": {\"color\": \"rgb(0, 0, 0)\"}}, {\"x\": [0.75], \"y\": [0.0], \"text\": [], \"textposition\": \"middle center\", \"hoverinfo\": \"none\", \"mode\": \"markers+text\", \"marker\": {\"size\": 20, \"color\": \"rgb(255, 255, 255)\", \"line\": {\"width\": 2, \"color\": \"rgb(0, 0, 0)\"}}, \"textfont\": {\"color\": \"rgb(0, 0, 0)\"}}, {\"x\": [0.5], \"y\": [0.0], \"text\": [], \"textposition\": \"middle center\", \"hoverinfo\": \"none\", \"mode\": \"markers+text\", \"marker\": {\"size\": 20, \"color\": \"rgb(255, 255, 255)\", \"line\": {\"width\": 2, \"color\": \"rgb(0, 0, 0)\"}}, \"textfont\": {\"color\": \"rgb(0, 0, 0)\"}}, {\"x\": [0.25], \"y\": [0.0], \"text\": [], \"textposition\": \"middle center\", \"hoverinfo\": \"none\", \"mode\": \"markers+text\", \"marker\": {\"size\": 20, \"color\": \"rgb(255, 255, 255)\", \"line\": {\"width\": 2, \"color\": \"rgb(0, 0, 0)\"}}, \"textfont\": {\"color\": \"rgb(0, 0, 0)\"}}, {\"x\": [0.375], \"y\": [0.5], \"text\": [], \"textposition\": \"middle center\", \"hoverinfo\": \"none\", \"mode\": \"markers+text\", \"marker\": {\"size\": 20, \"color\": \"rgb(255, 255, 255)\", \"line\": {\"width\": 2, \"color\": \"rgb(0, 0, 0)\"}}, \"textfont\": {\"color\": \"rgb(0, 0, 0)\"}}, {\"x\": [0.08835225700681207, 0.16164774299318793, 0.375, 0.2878787878787879, 0.625, 0.6625594305323629, 0.4750594305323629, 0.911647742993188, 0.7878787878787878, 0.911647742993188, 0.625, 0.375, 0.3999405694676371, 0.2749405694676371], \"y\": [0.768323871496594, 0.268323871496594, 1.0724637681159421, 0.5, 1.0724637681159421, 0.5093898576330907, 0.7406101423669093, 0.768323871496594, 0.5, 0.23167612850340602, -0.07246376811594203, -0.07246376811594203, 0.24061014236690928, 0.2593898576330907], \"text\": [4, 8, 8, 11, 7, 4, 2, 9, 14, 10, 2, 1, 6, 7], \"textposition\": \"middle center\", \"hoverinfo\": \"none\", \"mode\": \"text\", \"textfont\": {\"color\": \"rgb(0, 0, 0)\"}}], \"name\": 12}, {\"data\": [{\"x\": [0.0, 0.25, null], \"y\": [0.5, 1.0, null], \"hoverinfo\": \"none\", \"mode\": \"lines\", \"line\": {\"width\": 2, \"color\": \"rgb(0, 0, 255)\"}}, {\"x\": [0.0, 0.25, null], \"y\": [0.5, 0.0, null], \"hoverinfo\": \"none\", \"mode\": \"lines\", \"line\": {\"width\": 2, \"color\": \"rgb(0, 0, 0)\"}}, {\"x\": [0.25, 0.5, null], \"y\": [1.0, 1.0, null], \"hoverinfo\": \"none\", \"mode\": \"lines\", \"line\": {\"width\": 2, \"color\": \"rgb(0, 0, 0)\"}}, {\"x\": [0.25, 0.25, null], \"y\": [1.0, 0.0, null], \"hoverinfo\": \"none\", \"mode\": \"lines\", \"line\": {\"width\": 2, \"color\": \"rgb(0, 0, 0)\"}}, {\"x\": [0.5, 0.75, null], \"y\": [1.0, 1.0, null], \"hoverinfo\": \"none\", \"mode\": \"lines\", \"line\": {\"width\": 2, \"color\": \"rgb(255, 0, 0)\"}}, {\"x\": [0.5, 0.75, null], \"y\": [1.0, 0.0, null], \"hoverinfo\": \"none\", \"mode\": \"lines\", \"line\": {\"width\": 2, \"color\": \"rgb(0, 0, 255)\"}}, {\"x\": [0.5, 0.375, null], \"y\": [1.0, 0.5, null], \"hoverinfo\": \"none\", \"mode\": \"lines\", \"line\": {\"width\": 2, \"color\": \"rgb(0, 0, 255)\"}}, {\"x\": [0.75, 1.0, null], \"y\": [1.0, 0.5, null], \"hoverinfo\": \"none\", \"mode\": \"lines\", \"line\": {\"width\": 2, \"color\": \"rgb(0, 0, 0)\"}}, {\"x\": [0.75, 0.75, null], \"y\": [1.0, 0.0, null], \"hoverinfo\": \"none\", \"mode\": \"lines\", \"line\": {\"width\": 2, \"color\": \"rgb(0, 0, 0)\"}}, {\"x\": [1.0, 0.75, null], \"y\": [0.5, 0.0, null], \"hoverinfo\": \"none\", \"mode\": \"lines\", \"line\": {\"width\": 2, \"color\": \"rgb(0, 0, 0)\"}}, {\"x\": [0.75, 0.5, null], \"y\": [0.0, 0.0, null], \"hoverinfo\": \"none\", \"mode\": \"lines\", \"line\": {\"width\": 2, \"color\": \"rgb(0, 0, 255)\"}}, {\"x\": [0.5, 0.25, null], \"y\": [0.0, 0.0, null], \"hoverinfo\": \"none\", \"mode\": \"lines\", \"line\": {\"width\": 2, \"color\": \"rgb(0, 0, 255)\"}}, {\"x\": [0.5, 0.375, null], \"y\": [0.0, 0.5, null], \"hoverinfo\": \"none\", \"mode\": \"lines\", \"line\": {\"width\": 2, \"color\": \"rgb(0, 0, 0)\"}}, {\"x\": [0.25, 0.375, null], \"y\": [0.0, 0.5, null], \"hoverinfo\": \"none\", \"mode\": \"lines\", \"line\": {\"width\": 2, \"color\": \"rgb(0, 0, 0)\"}}, {\"x\": [0.0], \"y\": [0.5], \"text\": [], \"textposition\": \"middle center\", \"hoverinfo\": \"none\", \"mode\": \"markers+text\", \"marker\": {\"size\": 20, \"color\": \"rgb(255, 255, 255)\", \"line\": {\"width\": 2, \"color\": \"rgb(0, 0, 0)\"}}, \"textfont\": {\"color\": \"rgb(0, 0, 0)\"}}, {\"x\": [0.25], \"y\": [1.0], \"text\": [], \"textposition\": \"middle center\", \"hoverinfo\": \"none\", \"mode\": \"markers+text\", \"marker\": {\"size\": 20, \"color\": \"rgb(255, 255, 255)\", \"line\": {\"width\": 2, \"color\": \"rgb(0, 0, 0)\"}}, \"textfont\": {\"color\": \"rgb(0, 0, 0)\"}}, {\"x\": [0.5], \"y\": [1.0], \"text\": [], \"textposition\": \"middle center\", \"hoverinfo\": \"none\", \"mode\": \"markers+text\", \"marker\": {\"size\": 20, \"color\": \"rgb(255, 255, 255)\", \"line\": {\"width\": 2, \"color\": \"rgb(0, 0, 0)\"}}, \"textfont\": {\"color\": \"rgb(0, 0, 0)\"}}, {\"x\": [0.75], \"y\": [1.0], \"text\": [], \"textposition\": \"middle center\", \"hoverinfo\": \"none\", \"mode\": \"markers+text\", \"marker\": {\"size\": 20, \"color\": \"rgb(255, 255, 255)\", \"line\": {\"width\": 2, \"color\": \"rgb(0, 0, 0)\"}}, \"textfont\": {\"color\": \"rgb(0, 0, 0)\"}}, {\"x\": [1.0], \"y\": [0.5], \"text\": [], \"textposition\": \"middle center\", \"hoverinfo\": \"none\", \"mode\": \"markers+text\", \"marker\": {\"size\": 20, \"color\": \"rgb(255, 255, 255)\", \"line\": {\"width\": 2, \"color\": \"rgb(0, 0, 0)\"}}, \"textfont\": {\"color\": \"rgb(0, 0, 0)\"}}, {\"x\": [0.75], \"y\": [0.0], \"text\": [], \"textposition\": \"middle center\", \"hoverinfo\": \"none\", \"mode\": \"markers+text\", \"marker\": {\"size\": 20, \"color\": \"rgb(255, 255, 255)\", \"line\": {\"width\": 2, \"color\": \"rgb(0, 0, 0)\"}}, \"textfont\": {\"color\": \"rgb(0, 0, 0)\"}}, {\"x\": [0.5], \"y\": [0.0], \"text\": [], \"textposition\": \"middle center\", \"hoverinfo\": \"none\", \"mode\": \"markers+text\", \"marker\": {\"size\": 20, \"color\": \"rgb(255, 255, 255)\", \"line\": {\"width\": 2, \"color\": \"rgb(0, 0, 0)\"}}, \"textfont\": {\"color\": \"rgb(0, 0, 0)\"}}, {\"x\": [0.25], \"y\": [0.0], \"text\": [], \"textposition\": \"middle center\", \"hoverinfo\": \"none\", \"mode\": \"markers+text\", \"marker\": {\"size\": 20, \"color\": \"rgb(255, 255, 255)\", \"line\": {\"width\": 2, \"color\": \"rgb(0, 0, 0)\"}}, \"textfont\": {\"color\": \"rgb(0, 0, 0)\"}}, {\"x\": [0.375], \"y\": [0.5], \"text\": [], \"textposition\": \"middle center\", \"hoverinfo\": \"none\", \"mode\": \"markers+text\", \"marker\": {\"size\": 20, \"color\": \"rgb(255, 255, 255)\", \"line\": {\"width\": 2, \"color\": \"rgb(0, 0, 0)\"}}, \"textfont\": {\"color\": \"rgb(0, 0, 0)\"}}, {\"x\": [0.08835225700681207, 0.16164774299318793, 0.375, 0.2878787878787879, 0.625, 0.6625594305323629, 0.4750594305323629, 0.911647742993188, 0.7878787878787878, 0.911647742993188, 0.625, 0.375, 0.3999405694676371, 0.2749405694676371], \"y\": [0.768323871496594, 0.268323871496594, 1.0724637681159421, 0.5, 1.0724637681159421, 0.5093898576330907, 0.7406101423669093, 0.768323871496594, 0.5, 0.23167612850340602, -0.07246376811594203, -0.07246376811594203, 0.24061014236690928, 0.2593898576330907], \"text\": [4, 8, 8, 11, 7, 4, 2, 9, 14, 10, 2, 1, 6, 7], \"textposition\": \"middle center\", \"hoverinfo\": \"none\", \"mode\": \"text\", \"textfont\": {\"color\": \"rgb(0, 0, 0)\"}}], \"name\": 13}, {\"data\": [{\"x\": [0.0, 0.25, null], \"y\": [0.5, 1.0, null], \"hoverinfo\": \"none\", \"mode\": \"lines\", \"line\": {\"width\": 2, \"color\": \"rgb(0, 0, 255)\"}}, {\"x\": [0.0, 0.25, null], \"y\": [0.5, 0.0, null], \"hoverinfo\": \"none\", \"mode\": \"lines\", \"line\": {\"width\": 2, \"color\": \"rgb(0, 0, 0)\"}}, {\"x\": [0.25, 0.5, null], \"y\": [1.0, 1.0, null], \"hoverinfo\": \"none\", \"mode\": \"lines\", \"line\": {\"width\": 2, \"color\": \"rgb(0, 0, 0)\"}}, {\"x\": [0.25, 0.25, null], \"y\": [1.0, 0.0, null], \"hoverinfo\": \"none\", \"mode\": \"lines\", \"line\": {\"width\": 2, \"color\": \"rgb(0, 0, 0)\"}}, {\"x\": [0.5, 0.75, null], \"y\": [1.0, 1.0, null], \"hoverinfo\": \"none\", \"mode\": \"lines\", \"line\": {\"width\": 2, \"color\": \"rgb(0, 0, 255)\"}}, {\"x\": [0.5, 0.75, null], \"y\": [1.0, 0.0, null], \"hoverinfo\": \"none\", \"mode\": \"lines\", \"line\": {\"width\": 2, \"color\": \"rgb(0, 0, 255)\"}}, {\"x\": [0.5, 0.375, null], \"y\": [1.0, 0.5, null], \"hoverinfo\": \"none\", \"mode\": \"lines\", \"line\": {\"width\": 2, \"color\": \"rgb(0, 0, 255)\"}}, {\"x\": [0.75, 1.0, null], \"y\": [1.0, 0.5, null], \"hoverinfo\": \"none\", \"mode\": \"lines\", \"line\": {\"width\": 2, \"color\": \"rgb(0, 0, 0)\"}}, {\"x\": [0.75, 0.75, null], \"y\": [1.0, 0.0, null], \"hoverinfo\": \"none\", \"mode\": \"lines\", \"line\": {\"width\": 2, \"color\": \"rgb(0, 0, 0)\"}}, {\"x\": [1.0, 0.75, null], \"y\": [0.5, 0.0, null], \"hoverinfo\": \"none\", \"mode\": \"lines\", \"line\": {\"width\": 2, \"color\": \"rgb(0, 0, 0)\"}}, {\"x\": [0.75, 0.5, null], \"y\": [0.0, 0.0, null], \"hoverinfo\": \"none\", \"mode\": \"lines\", \"line\": {\"width\": 2, \"color\": \"rgb(0, 0, 255)\"}}, {\"x\": [0.5, 0.25, null], \"y\": [0.0, 0.0, null], \"hoverinfo\": \"none\", \"mode\": \"lines\", \"line\": {\"width\": 2, \"color\": \"rgb(0, 0, 255)\"}}, {\"x\": [0.5, 0.375, null], \"y\": [0.0, 0.5, null], \"hoverinfo\": \"none\", \"mode\": \"lines\", \"line\": {\"width\": 2, \"color\": \"rgb(0, 0, 0)\"}}, {\"x\": [0.25, 0.375, null], \"y\": [0.0, 0.5, null], \"hoverinfo\": \"none\", \"mode\": \"lines\", \"line\": {\"width\": 2, \"color\": \"rgb(0, 0, 0)\"}}, {\"x\": [0.0], \"y\": [0.5], \"text\": [], \"textposition\": \"middle center\", \"hoverinfo\": \"none\", \"mode\": \"markers+text\", \"marker\": {\"size\": 20, \"color\": \"rgb(255, 255, 255)\", \"line\": {\"width\": 2, \"color\": \"rgb(0, 0, 0)\"}}, \"textfont\": {\"color\": \"rgb(0, 0, 0)\"}}, {\"x\": [0.25], \"y\": [1.0], \"text\": [], \"textposition\": \"middle center\", \"hoverinfo\": \"none\", \"mode\": \"markers+text\", \"marker\": {\"size\": 20, \"color\": \"rgb(255, 255, 255)\", \"line\": {\"width\": 2, \"color\": \"rgb(0, 0, 0)\"}}, \"textfont\": {\"color\": \"rgb(0, 0, 0)\"}}, {\"x\": [0.5], \"y\": [1.0], \"text\": [], \"textposition\": \"middle center\", \"hoverinfo\": \"none\", \"mode\": \"markers+text\", \"marker\": {\"size\": 20, \"color\": \"rgb(255, 255, 255)\", \"line\": {\"width\": 2, \"color\": \"rgb(0, 0, 0)\"}}, \"textfont\": {\"color\": \"rgb(0, 0, 0)\"}}, {\"x\": [0.75], \"y\": [1.0], \"text\": [], \"textposition\": \"middle center\", \"hoverinfo\": \"none\", \"mode\": \"markers+text\", \"marker\": {\"size\": 20, \"color\": \"rgb(255, 255, 255)\", \"line\": {\"width\": 2, \"color\": \"rgb(0, 0, 0)\"}}, \"textfont\": {\"color\": \"rgb(0, 0, 0)\"}}, {\"x\": [1.0], \"y\": [0.5], \"text\": [], \"textposition\": \"middle center\", \"hoverinfo\": \"none\", \"mode\": \"markers+text\", \"marker\": {\"size\": 20, \"color\": \"rgb(255, 255, 255)\", \"line\": {\"width\": 2, \"color\": \"rgb(0, 0, 0)\"}}, \"textfont\": {\"color\": \"rgb(0, 0, 0)\"}}, {\"x\": [0.75], \"y\": [0.0], \"text\": [], \"textposition\": \"middle center\", \"hoverinfo\": \"none\", \"mode\": \"markers+text\", \"marker\": {\"size\": 20, \"color\": \"rgb(255, 255, 255)\", \"line\": {\"width\": 2, \"color\": \"rgb(0, 0, 0)\"}}, \"textfont\": {\"color\": \"rgb(0, 0, 0)\"}}, {\"x\": [0.5], \"y\": [0.0], \"text\": [], \"textposition\": \"middle center\", \"hoverinfo\": \"none\", \"mode\": \"markers+text\", \"marker\": {\"size\": 20, \"color\": \"rgb(255, 255, 255)\", \"line\": {\"width\": 2, \"color\": \"rgb(0, 0, 0)\"}}, \"textfont\": {\"color\": \"rgb(0, 0, 0)\"}}, {\"x\": [0.25], \"y\": [0.0], \"text\": [], \"textposition\": \"middle center\", \"hoverinfo\": \"none\", \"mode\": \"markers+text\", \"marker\": {\"size\": 20, \"color\": \"rgb(255, 255, 255)\", \"line\": {\"width\": 2, \"color\": \"rgb(0, 0, 0)\"}}, \"textfont\": {\"color\": \"rgb(0, 0, 0)\"}}, {\"x\": [0.375], \"y\": [0.5], \"text\": [], \"textposition\": \"middle center\", \"hoverinfo\": \"none\", \"mode\": \"markers+text\", \"marker\": {\"size\": 20, \"color\": \"rgb(255, 255, 255)\", \"line\": {\"width\": 2, \"color\": \"rgb(0, 0, 0)\"}}, \"textfont\": {\"color\": \"rgb(0, 0, 0)\"}}, {\"x\": [0.08835225700681207, 0.16164774299318793, 0.375, 0.2878787878787879, 0.625, 0.6625594305323629, 0.4750594305323629, 0.911647742993188, 0.7878787878787878, 0.911647742993188, 0.625, 0.375, 0.3999405694676371, 0.2749405694676371], \"y\": [0.768323871496594, 0.268323871496594, 1.0724637681159421, 0.5, 1.0724637681159421, 0.5093898576330907, 0.7406101423669093, 0.768323871496594, 0.5, 0.23167612850340602, -0.07246376811594203, -0.07246376811594203, 0.24061014236690928, 0.2593898576330907], \"text\": [4, 8, 8, 11, 7, 4, 2, 9, 14, 10, 2, 1, 6, 7], \"textposition\": \"middle center\", \"hoverinfo\": \"none\", \"mode\": \"text\", \"textfont\": {\"color\": \"rgb(0, 0, 0)\"}}], \"name\": 14}, {\"data\": [{\"x\": [0.0, 0.25, null], \"y\": [0.5, 1.0, null], \"hoverinfo\": \"none\", \"mode\": \"lines\", \"line\": {\"width\": 2, \"color\": \"rgb(0, 0, 255)\"}}, {\"x\": [0.0, 0.25, null], \"y\": [0.5, 0.0, null], \"hoverinfo\": \"none\", \"mode\": \"lines\", \"line\": {\"width\": 2, \"color\": \"rgb(0, 0, 0)\"}}, {\"x\": [0.25, 0.5, null], \"y\": [1.0, 1.0, null], \"hoverinfo\": \"none\", \"mode\": \"lines\", \"line\": {\"width\": 2, \"color\": \"rgb(0, 0, 0)\"}}, {\"x\": [0.25, 0.25, null], \"y\": [1.0, 0.0, null], \"hoverinfo\": \"none\", \"mode\": \"lines\", \"line\": {\"width\": 2, \"color\": \"rgb(0, 0, 0)\"}}, {\"x\": [0.5, 0.75, null], \"y\": [1.0, 1.0, null], \"hoverinfo\": \"none\", \"mode\": \"lines\", \"line\": {\"width\": 2, \"color\": \"rgb(0, 0, 255)\"}}, {\"x\": [0.5, 0.75, null], \"y\": [1.0, 0.0, null], \"hoverinfo\": \"none\", \"mode\": \"lines\", \"line\": {\"width\": 2, \"color\": \"rgb(0, 0, 255)\"}}, {\"x\": [0.5, 0.375, null], \"y\": [1.0, 0.5, null], \"hoverinfo\": \"none\", \"mode\": \"lines\", \"line\": {\"width\": 2, \"color\": \"rgb(0, 0, 255)\"}}, {\"x\": [0.75, 1.0, null], \"y\": [1.0, 0.5, null], \"hoverinfo\": \"none\", \"mode\": \"lines\", \"line\": {\"width\": 2, \"color\": \"rgb(0, 0, 0)\"}}, {\"x\": [0.75, 0.75, null], \"y\": [1.0, 0.0, null], \"hoverinfo\": \"none\", \"mode\": \"lines\", \"line\": {\"width\": 2, \"color\": \"rgb(0, 0, 0)\"}}, {\"x\": [1.0, 0.75, null], \"y\": [0.5, 0.0, null], \"hoverinfo\": \"none\", \"mode\": \"lines\", \"line\": {\"width\": 2, \"color\": \"rgb(0, 0, 0)\"}}, {\"x\": [0.75, 0.5, null], \"y\": [0.0, 0.0, null], \"hoverinfo\": \"none\", \"mode\": \"lines\", \"line\": {\"width\": 2, \"color\": \"rgb(0, 0, 255)\"}}, {\"x\": [0.5, 0.25, null], \"y\": [0.0, 0.0, null], \"hoverinfo\": \"none\", \"mode\": \"lines\", \"line\": {\"width\": 2, \"color\": \"rgb(0, 0, 255)\"}}, {\"x\": [0.5, 0.375, null], \"y\": [0.0, 0.5, null], \"hoverinfo\": \"none\", \"mode\": \"lines\", \"line\": {\"width\": 2, \"color\": \"rgb(0, 0, 0)\"}}, {\"x\": [0.25, 0.375, null], \"y\": [0.0, 0.5, null], \"hoverinfo\": \"none\", \"mode\": \"lines\", \"line\": {\"width\": 2, \"color\": \"rgb(255, 0, 0)\"}}, {\"x\": [0.0], \"y\": [0.5], \"text\": [], \"textposition\": \"middle center\", \"hoverinfo\": \"none\", \"mode\": \"markers+text\", \"marker\": {\"size\": 20, \"color\": \"rgb(255, 255, 255)\", \"line\": {\"width\": 2, \"color\": \"rgb(0, 0, 0)\"}}, \"textfont\": {\"color\": \"rgb(0, 0, 0)\"}}, {\"x\": [0.25], \"y\": [1.0], \"text\": [], \"textposition\": \"middle center\", \"hoverinfo\": \"none\", \"mode\": \"markers+text\", \"marker\": {\"size\": 20, \"color\": \"rgb(255, 255, 255)\", \"line\": {\"width\": 2, \"color\": \"rgb(0, 0, 0)\"}}, \"textfont\": {\"color\": \"rgb(0, 0, 0)\"}}, {\"x\": [0.5], \"y\": [1.0], \"text\": [], \"textposition\": \"middle center\", \"hoverinfo\": \"none\", \"mode\": \"markers+text\", \"marker\": {\"size\": 20, \"color\": \"rgb(255, 255, 255)\", \"line\": {\"width\": 2, \"color\": \"rgb(0, 0, 0)\"}}, \"textfont\": {\"color\": \"rgb(0, 0, 0)\"}}, {\"x\": [0.75], \"y\": [1.0], \"text\": [], \"textposition\": \"middle center\", \"hoverinfo\": \"none\", \"mode\": \"markers+text\", \"marker\": {\"size\": 20, \"color\": \"rgb(255, 255, 255)\", \"line\": {\"width\": 2, \"color\": \"rgb(0, 0, 0)\"}}, \"textfont\": {\"color\": \"rgb(0, 0, 0)\"}}, {\"x\": [1.0], \"y\": [0.5], \"text\": [], \"textposition\": \"middle center\", \"hoverinfo\": \"none\", \"mode\": \"markers+text\", \"marker\": {\"size\": 20, \"color\": \"rgb(255, 255, 255)\", \"line\": {\"width\": 2, \"color\": \"rgb(0, 0, 0)\"}}, \"textfont\": {\"color\": \"rgb(0, 0, 0)\"}}, {\"x\": [0.75], \"y\": [0.0], \"text\": [], \"textposition\": \"middle center\", \"hoverinfo\": \"none\", \"mode\": \"markers+text\", \"marker\": {\"size\": 20, \"color\": \"rgb(255, 255, 255)\", \"line\": {\"width\": 2, \"color\": \"rgb(0, 0, 0)\"}}, \"textfont\": {\"color\": \"rgb(0, 0, 0)\"}}, {\"x\": [0.5], \"y\": [0.0], \"text\": [], \"textposition\": \"middle center\", \"hoverinfo\": \"none\", \"mode\": \"markers+text\", \"marker\": {\"size\": 20, \"color\": \"rgb(255, 255, 255)\", \"line\": {\"width\": 2, \"color\": \"rgb(0, 0, 0)\"}}, \"textfont\": {\"color\": \"rgb(0, 0, 0)\"}}, {\"x\": [0.25], \"y\": [0.0], \"text\": [], \"textposition\": \"middle center\", \"hoverinfo\": \"none\", \"mode\": \"markers+text\", \"marker\": {\"size\": 20, \"color\": \"rgb(255, 255, 255)\", \"line\": {\"width\": 2, \"color\": \"rgb(0, 0, 0)\"}}, \"textfont\": {\"color\": \"rgb(0, 0, 0)\"}}, {\"x\": [0.375], \"y\": [0.5], \"text\": [], \"textposition\": \"middle center\", \"hoverinfo\": \"none\", \"mode\": \"markers+text\", \"marker\": {\"size\": 20, \"color\": \"rgb(255, 255, 255)\", \"line\": {\"width\": 2, \"color\": \"rgb(0, 0, 0)\"}}, \"textfont\": {\"color\": \"rgb(0, 0, 0)\"}}, {\"x\": [0.08835225700681207, 0.16164774299318793, 0.375, 0.2878787878787879, 0.625, 0.6625594305323629, 0.4750594305323629, 0.911647742993188, 0.7878787878787878, 0.911647742993188, 0.625, 0.375, 0.3999405694676371, 0.2749405694676371], \"y\": [0.768323871496594, 0.268323871496594, 1.0724637681159421, 0.5, 1.0724637681159421, 0.5093898576330907, 0.7406101423669093, 0.768323871496594, 0.5, 0.23167612850340602, -0.07246376811594203, -0.07246376811594203, 0.24061014236690928, 0.2593898576330907], \"text\": [4, 8, 8, 11, 7, 4, 2, 9, 14, 10, 2, 1, 6, 7], \"textposition\": \"middle center\", \"hoverinfo\": \"none\", \"mode\": \"text\", \"textfont\": {\"color\": \"rgb(0, 0, 0)\"}}], \"name\": 15}, {\"data\": [{\"x\": [0.0, 0.25, null], \"y\": [0.5, 1.0, null], \"hoverinfo\": \"none\", \"mode\": \"lines\", \"line\": {\"width\": 2, \"color\": \"rgb(0, 0, 255)\"}}, {\"x\": [0.0, 0.25, null], \"y\": [0.5, 0.0, null], \"hoverinfo\": \"none\", \"mode\": \"lines\", \"line\": {\"width\": 2, \"color\": \"rgb(0, 0, 0)\"}}, {\"x\": [0.25, 0.5, null], \"y\": [1.0, 1.0, null], \"hoverinfo\": \"none\", \"mode\": \"lines\", \"line\": {\"width\": 2, \"color\": \"rgb(0, 0, 0)\"}}, {\"x\": [0.25, 0.25, null], \"y\": [1.0, 0.0, null], \"hoverinfo\": \"none\", \"mode\": \"lines\", \"line\": {\"width\": 2, \"color\": \"rgb(0, 0, 0)\"}}, {\"x\": [0.5, 0.75, null], \"y\": [1.0, 1.0, null], \"hoverinfo\": \"none\", \"mode\": \"lines\", \"line\": {\"width\": 2, \"color\": \"rgb(0, 0, 255)\"}}, {\"x\": [0.5, 0.75, null], \"y\": [1.0, 0.0, null], \"hoverinfo\": \"none\", \"mode\": \"lines\", \"line\": {\"width\": 2, \"color\": \"rgb(0, 0, 255)\"}}, {\"x\": [0.5, 0.375, null], \"y\": [1.0, 0.5, null], \"hoverinfo\": \"none\", \"mode\": \"lines\", \"line\": {\"width\": 2, \"color\": \"rgb(0, 0, 255)\"}}, {\"x\": [0.75, 1.0, null], \"y\": [1.0, 0.5, null], \"hoverinfo\": \"none\", \"mode\": \"lines\", \"line\": {\"width\": 2, \"color\": \"rgb(0, 0, 0)\"}}, {\"x\": [0.75, 0.75, null], \"y\": [1.0, 0.0, null], \"hoverinfo\": \"none\", \"mode\": \"lines\", \"line\": {\"width\": 2, \"color\": \"rgb(0, 0, 0)\"}}, {\"x\": [1.0, 0.75, null], \"y\": [0.5, 0.0, null], \"hoverinfo\": \"none\", \"mode\": \"lines\", \"line\": {\"width\": 2, \"color\": \"rgb(0, 0, 0)\"}}, {\"x\": [0.75, 0.5, null], \"y\": [0.0, 0.0, null], \"hoverinfo\": \"none\", \"mode\": \"lines\", \"line\": {\"width\": 2, \"color\": \"rgb(0, 0, 255)\"}}, {\"x\": [0.5, 0.25, null], \"y\": [0.0, 0.0, null], \"hoverinfo\": \"none\", \"mode\": \"lines\", \"line\": {\"width\": 2, \"color\": \"rgb(0, 0, 255)\"}}, {\"x\": [0.5, 0.375, null], \"y\": [0.0, 0.5, null], \"hoverinfo\": \"none\", \"mode\": \"lines\", \"line\": {\"width\": 2, \"color\": \"rgb(0, 0, 0)\"}}, {\"x\": [0.25, 0.375, null], \"y\": [0.0, 0.5, null], \"hoverinfo\": \"none\", \"mode\": \"lines\", \"line\": {\"width\": 2, \"color\": \"rgb(0, 0, 0)\"}}, {\"x\": [0.0], \"y\": [0.5], \"text\": [], \"textposition\": \"middle center\", \"hoverinfo\": \"none\", \"mode\": \"markers+text\", \"marker\": {\"size\": 20, \"color\": \"rgb(255, 255, 255)\", \"line\": {\"width\": 2, \"color\": \"rgb(0, 0, 0)\"}}, \"textfont\": {\"color\": \"rgb(0, 0, 0)\"}}, {\"x\": [0.25], \"y\": [1.0], \"text\": [], \"textposition\": \"middle center\", \"hoverinfo\": \"none\", \"mode\": \"markers+text\", \"marker\": {\"size\": 20, \"color\": \"rgb(255, 255, 255)\", \"line\": {\"width\": 2, \"color\": \"rgb(0, 0, 0)\"}}, \"textfont\": {\"color\": \"rgb(0, 0, 0)\"}}, {\"x\": [0.5], \"y\": [1.0], \"text\": [], \"textposition\": \"middle center\", \"hoverinfo\": \"none\", \"mode\": \"markers+text\", \"marker\": {\"size\": 20, \"color\": \"rgb(255, 255, 255)\", \"line\": {\"width\": 2, \"color\": \"rgb(0, 0, 0)\"}}, \"textfont\": {\"color\": \"rgb(0, 0, 0)\"}}, {\"x\": [0.75], \"y\": [1.0], \"text\": [], \"textposition\": \"middle center\", \"hoverinfo\": \"none\", \"mode\": \"markers+text\", \"marker\": {\"size\": 20, \"color\": \"rgb(255, 255, 255)\", \"line\": {\"width\": 2, \"color\": \"rgb(0, 0, 0)\"}}, \"textfont\": {\"color\": \"rgb(0, 0, 0)\"}}, {\"x\": [1.0], \"y\": [0.5], \"text\": [], \"textposition\": \"middle center\", \"hoverinfo\": \"none\", \"mode\": \"markers+text\", \"marker\": {\"size\": 20, \"color\": \"rgb(255, 255, 255)\", \"line\": {\"width\": 2, \"color\": \"rgb(0, 0, 0)\"}}, \"textfont\": {\"color\": \"rgb(0, 0, 0)\"}}, {\"x\": [0.75], \"y\": [0.0], \"text\": [], \"textposition\": \"middle center\", \"hoverinfo\": \"none\", \"mode\": \"markers+text\", \"marker\": {\"size\": 20, \"color\": \"rgb(255, 255, 255)\", \"line\": {\"width\": 2, \"color\": \"rgb(0, 0, 0)\"}}, \"textfont\": {\"color\": \"rgb(0, 0, 0)\"}}, {\"x\": [0.5], \"y\": [0.0], \"text\": [], \"textposition\": \"middle center\", \"hoverinfo\": \"none\", \"mode\": \"markers+text\", \"marker\": {\"size\": 20, \"color\": \"rgb(255, 255, 255)\", \"line\": {\"width\": 2, \"color\": \"rgb(0, 0, 0)\"}}, \"textfont\": {\"color\": \"rgb(0, 0, 0)\"}}, {\"x\": [0.25], \"y\": [0.0], \"text\": [], \"textposition\": \"middle center\", \"hoverinfo\": \"none\", \"mode\": \"markers+text\", \"marker\": {\"size\": 20, \"color\": \"rgb(255, 255, 255)\", \"line\": {\"width\": 2, \"color\": \"rgb(0, 0, 0)\"}}, \"textfont\": {\"color\": \"rgb(0, 0, 0)\"}}, {\"x\": [0.375], \"y\": [0.5], \"text\": [], \"textposition\": \"middle center\", \"hoverinfo\": \"none\", \"mode\": \"markers+text\", \"marker\": {\"size\": 20, \"color\": \"rgb(255, 255, 255)\", \"line\": {\"width\": 2, \"color\": \"rgb(0, 0, 0)\"}}, \"textfont\": {\"color\": \"rgb(0, 0, 0)\"}}, {\"x\": [0.08835225700681207, 0.16164774299318793, 0.375, 0.2878787878787879, 0.625, 0.6625594305323629, 0.4750594305323629, 0.911647742993188, 0.7878787878787878, 0.911647742993188, 0.625, 0.375, 0.3999405694676371, 0.2749405694676371], \"y\": [0.768323871496594, 0.268323871496594, 1.0724637681159421, 0.5, 1.0724637681159421, 0.5093898576330907, 0.7406101423669093, 0.768323871496594, 0.5, 0.23167612850340602, -0.07246376811594203, -0.07246376811594203, 0.24061014236690928, 0.2593898576330907], \"text\": [4, 8, 8, 11, 7, 4, 2, 9, 14, 10, 2, 1, 6, 7], \"textposition\": \"middle center\", \"hoverinfo\": \"none\", \"mode\": \"text\", \"textfont\": {\"color\": \"rgb(0, 0, 0)\"}}], \"name\": 16}, {\"data\": [{\"x\": [0.0, 0.25, null], \"y\": [0.5, 1.0, null], \"hoverinfo\": \"none\", \"mode\": \"lines\", \"line\": {\"width\": 2, \"color\": \"rgb(0, 0, 255)\"}}, {\"x\": [0.0, 0.25, null], \"y\": [0.5, 0.0, null], \"hoverinfo\": \"none\", \"mode\": \"lines\", \"line\": {\"width\": 2, \"color\": \"rgb(255, 0, 0)\"}}, {\"x\": [0.25, 0.5, null], \"y\": [1.0, 1.0, null], \"hoverinfo\": \"none\", \"mode\": \"lines\", \"line\": {\"width\": 2, \"color\": \"rgb(0, 0, 0)\"}}, {\"x\": [0.25, 0.25, null], \"y\": [1.0, 0.0, null], \"hoverinfo\": \"none\", \"mode\": \"lines\", \"line\": {\"width\": 2, \"color\": \"rgb(0, 0, 0)\"}}, {\"x\": [0.5, 0.75, null], \"y\": [1.0, 1.0, null], \"hoverinfo\": \"none\", \"mode\": \"lines\", \"line\": {\"width\": 2, \"color\": \"rgb(0, 0, 255)\"}}, {\"x\": [0.5, 0.75, null], \"y\": [1.0, 0.0, null], \"hoverinfo\": \"none\", \"mode\": \"lines\", \"line\": {\"width\": 2, \"color\": \"rgb(0, 0, 255)\"}}, {\"x\": [0.5, 0.375, null], \"y\": [1.0, 0.5, null], \"hoverinfo\": \"none\", \"mode\": \"lines\", \"line\": {\"width\": 2, \"color\": \"rgb(0, 0, 255)\"}}, {\"x\": [0.75, 1.0, null], \"y\": [1.0, 0.5, null], \"hoverinfo\": \"none\", \"mode\": \"lines\", \"line\": {\"width\": 2, \"color\": \"rgb(0, 0, 0)\"}}, {\"x\": [0.75, 0.75, null], \"y\": [1.0, 0.0, null], \"hoverinfo\": \"none\", \"mode\": \"lines\", \"line\": {\"width\": 2, \"color\": \"rgb(0, 0, 0)\"}}, {\"x\": [1.0, 0.75, null], \"y\": [0.5, 0.0, null], \"hoverinfo\": \"none\", \"mode\": \"lines\", \"line\": {\"width\": 2, \"color\": \"rgb(0, 0, 0)\"}}, {\"x\": [0.75, 0.5, null], \"y\": [0.0, 0.0, null], \"hoverinfo\": \"none\", \"mode\": \"lines\", \"line\": {\"width\": 2, \"color\": \"rgb(0, 0, 255)\"}}, {\"x\": [0.5, 0.25, null], \"y\": [0.0, 0.0, null], \"hoverinfo\": \"none\", \"mode\": \"lines\", \"line\": {\"width\": 2, \"color\": \"rgb(0, 0, 255)\"}}, {\"x\": [0.5, 0.375, null], \"y\": [0.0, 0.5, null], \"hoverinfo\": \"none\", \"mode\": \"lines\", \"line\": {\"width\": 2, \"color\": \"rgb(0, 0, 0)\"}}, {\"x\": [0.25, 0.375, null], \"y\": [0.0, 0.5, null], \"hoverinfo\": \"none\", \"mode\": \"lines\", \"line\": {\"width\": 2, \"color\": \"rgb(0, 0, 0)\"}}, {\"x\": [0.0], \"y\": [0.5], \"text\": [], \"textposition\": \"middle center\", \"hoverinfo\": \"none\", \"mode\": \"markers+text\", \"marker\": {\"size\": 20, \"color\": \"rgb(255, 255, 255)\", \"line\": {\"width\": 2, \"color\": \"rgb(0, 0, 0)\"}}, \"textfont\": {\"color\": \"rgb(0, 0, 0)\"}}, {\"x\": [0.25], \"y\": [1.0], \"text\": [], \"textposition\": \"middle center\", \"hoverinfo\": \"none\", \"mode\": \"markers+text\", \"marker\": {\"size\": 20, \"color\": \"rgb(255, 255, 255)\", \"line\": {\"width\": 2, \"color\": \"rgb(0, 0, 0)\"}}, \"textfont\": {\"color\": \"rgb(0, 0, 0)\"}}, {\"x\": [0.5], \"y\": [1.0], \"text\": [], \"textposition\": \"middle center\", \"hoverinfo\": \"none\", \"mode\": \"markers+text\", \"marker\": {\"size\": 20, \"color\": \"rgb(255, 255, 255)\", \"line\": {\"width\": 2, \"color\": \"rgb(0, 0, 0)\"}}, \"textfont\": {\"color\": \"rgb(0, 0, 0)\"}}, {\"x\": [0.75], \"y\": [1.0], \"text\": [], \"textposition\": \"middle center\", \"hoverinfo\": \"none\", \"mode\": \"markers+text\", \"marker\": {\"size\": 20, \"color\": \"rgb(255, 255, 255)\", \"line\": {\"width\": 2, \"color\": \"rgb(0, 0, 0)\"}}, \"textfont\": {\"color\": \"rgb(0, 0, 0)\"}}, {\"x\": [1.0], \"y\": [0.5], \"text\": [], \"textposition\": \"middle center\", \"hoverinfo\": \"none\", \"mode\": \"markers+text\", \"marker\": {\"size\": 20, \"color\": \"rgb(255, 255, 255)\", \"line\": {\"width\": 2, \"color\": \"rgb(0, 0, 0)\"}}, \"textfont\": {\"color\": \"rgb(0, 0, 0)\"}}, {\"x\": [0.75], \"y\": [0.0], \"text\": [], \"textposition\": \"middle center\", \"hoverinfo\": \"none\", \"mode\": \"markers+text\", \"marker\": {\"size\": 20, \"color\": \"rgb(255, 255, 255)\", \"line\": {\"width\": 2, \"color\": \"rgb(0, 0, 0)\"}}, \"textfont\": {\"color\": \"rgb(0, 0, 0)\"}}, {\"x\": [0.5], \"y\": [0.0], \"text\": [], \"textposition\": \"middle center\", \"hoverinfo\": \"none\", \"mode\": \"markers+text\", \"marker\": {\"size\": 20, \"color\": \"rgb(255, 255, 255)\", \"line\": {\"width\": 2, \"color\": \"rgb(0, 0, 0)\"}}, \"textfont\": {\"color\": \"rgb(0, 0, 0)\"}}, {\"x\": [0.25], \"y\": [0.0], \"text\": [], \"textposition\": \"middle center\", \"hoverinfo\": \"none\", \"mode\": \"markers+text\", \"marker\": {\"size\": 20, \"color\": \"rgb(255, 255, 255)\", \"line\": {\"width\": 2, \"color\": \"rgb(0, 0, 0)\"}}, \"textfont\": {\"color\": \"rgb(0, 0, 0)\"}}, {\"x\": [0.375], \"y\": [0.5], \"text\": [], \"textposition\": \"middle center\", \"hoverinfo\": \"none\", \"mode\": \"markers+text\", \"marker\": {\"size\": 20, \"color\": \"rgb(255, 255, 255)\", \"line\": {\"width\": 2, \"color\": \"rgb(0, 0, 0)\"}}, \"textfont\": {\"color\": \"rgb(0, 0, 0)\"}}, {\"x\": [0.08835225700681207, 0.16164774299318793, 0.375, 0.2878787878787879, 0.625, 0.6625594305323629, 0.4750594305323629, 0.911647742993188, 0.7878787878787878, 0.911647742993188, 0.625, 0.375, 0.3999405694676371, 0.2749405694676371], \"y\": [0.768323871496594, 0.268323871496594, 1.0724637681159421, 0.5, 1.0724637681159421, 0.5093898576330907, 0.7406101423669093, 0.768323871496594, 0.5, 0.23167612850340602, -0.07246376811594203, -0.07246376811594203, 0.24061014236690928, 0.2593898576330907], \"text\": [4, 8, 8, 11, 7, 4, 2, 9, 14, 10, 2, 1, 6, 7], \"textposition\": \"middle center\", \"hoverinfo\": \"none\", \"mode\": \"text\", \"textfont\": {\"color\": \"rgb(0, 0, 0)\"}}], \"name\": 17}, {\"data\": [{\"x\": [0.0, 0.25, null], \"y\": [0.5, 1.0, null], \"hoverinfo\": \"none\", \"mode\": \"lines\", \"line\": {\"width\": 2, \"color\": \"rgb(0, 0, 255)\"}}, {\"x\": [0.0, 0.25, null], \"y\": [0.5, 0.0, null], \"hoverinfo\": \"none\", \"mode\": \"lines\", \"line\": {\"width\": 2, \"color\": \"rgb(0, 0, 255)\"}}, {\"x\": [0.25, 0.5, null], \"y\": [1.0, 1.0, null], \"hoverinfo\": \"none\", \"mode\": \"lines\", \"line\": {\"width\": 2, \"color\": \"rgb(0, 0, 0)\"}}, {\"x\": [0.25, 0.25, null], \"y\": [1.0, 0.0, null], \"hoverinfo\": \"none\", \"mode\": \"lines\", \"line\": {\"width\": 2, \"color\": \"rgb(0, 0, 0)\"}}, {\"x\": [0.5, 0.75, null], \"y\": [1.0, 1.0, null], \"hoverinfo\": \"none\", \"mode\": \"lines\", \"line\": {\"width\": 2, \"color\": \"rgb(0, 0, 255)\"}}, {\"x\": [0.5, 0.75, null], \"y\": [1.0, 0.0, null], \"hoverinfo\": \"none\", \"mode\": \"lines\", \"line\": {\"width\": 2, \"color\": \"rgb(0, 0, 255)\"}}, {\"x\": [0.5, 0.375, null], \"y\": [1.0, 0.5, null], \"hoverinfo\": \"none\", \"mode\": \"lines\", \"line\": {\"width\": 2, \"color\": \"rgb(0, 0, 255)\"}}, {\"x\": [0.75, 1.0, null], \"y\": [1.0, 0.5, null], \"hoverinfo\": \"none\", \"mode\": \"lines\", \"line\": {\"width\": 2, \"color\": \"rgb(0, 0, 0)\"}}, {\"x\": [0.75, 0.75, null], \"y\": [1.0, 0.0, null], \"hoverinfo\": \"none\", \"mode\": \"lines\", \"line\": {\"width\": 2, \"color\": \"rgb(0, 0, 0)\"}}, {\"x\": [1.0, 0.75, null], \"y\": [0.5, 0.0, null], \"hoverinfo\": \"none\", \"mode\": \"lines\", \"line\": {\"width\": 2, \"color\": \"rgb(0, 0, 0)\"}}, {\"x\": [0.75, 0.5, null], \"y\": [0.0, 0.0, null], \"hoverinfo\": \"none\", \"mode\": \"lines\", \"line\": {\"width\": 2, \"color\": \"rgb(0, 0, 255)\"}}, {\"x\": [0.5, 0.25, null], \"y\": [0.0, 0.0, null], \"hoverinfo\": \"none\", \"mode\": \"lines\", \"line\": {\"width\": 2, \"color\": \"rgb(0, 0, 255)\"}}, {\"x\": [0.5, 0.375, null], \"y\": [0.0, 0.5, null], \"hoverinfo\": \"none\", \"mode\": \"lines\", \"line\": {\"width\": 2, \"color\": \"rgb(0, 0, 0)\"}}, {\"x\": [0.25, 0.375, null], \"y\": [0.0, 0.5, null], \"hoverinfo\": \"none\", \"mode\": \"lines\", \"line\": {\"width\": 2, \"color\": \"rgb(0, 0, 0)\"}}, {\"x\": [0.0], \"y\": [0.5], \"text\": [], \"textposition\": \"middle center\", \"hoverinfo\": \"none\", \"mode\": \"markers+text\", \"marker\": {\"size\": 20, \"color\": \"rgb(255, 255, 255)\", \"line\": {\"width\": 2, \"color\": \"rgb(0, 0, 0)\"}}, \"textfont\": {\"color\": \"rgb(0, 0, 0)\"}}, {\"x\": [0.25], \"y\": [1.0], \"text\": [], \"textposition\": \"middle center\", \"hoverinfo\": \"none\", \"mode\": \"markers+text\", \"marker\": {\"size\": 20, \"color\": \"rgb(255, 255, 255)\", \"line\": {\"width\": 2, \"color\": \"rgb(0, 0, 0)\"}}, \"textfont\": {\"color\": \"rgb(0, 0, 0)\"}}, {\"x\": [0.5], \"y\": [1.0], \"text\": [], \"textposition\": \"middle center\", \"hoverinfo\": \"none\", \"mode\": \"markers+text\", \"marker\": {\"size\": 20, \"color\": \"rgb(255, 255, 255)\", \"line\": {\"width\": 2, \"color\": \"rgb(0, 0, 0)\"}}, \"textfont\": {\"color\": \"rgb(0, 0, 0)\"}}, {\"x\": [0.75], \"y\": [1.0], \"text\": [], \"textposition\": \"middle center\", \"hoverinfo\": \"none\", \"mode\": \"markers+text\", \"marker\": {\"size\": 20, \"color\": \"rgb(255, 255, 255)\", \"line\": {\"width\": 2, \"color\": \"rgb(0, 0, 0)\"}}, \"textfont\": {\"color\": \"rgb(0, 0, 0)\"}}, {\"x\": [1.0], \"y\": [0.5], \"text\": [], \"textposition\": \"middle center\", \"hoverinfo\": \"none\", \"mode\": \"markers+text\", \"marker\": {\"size\": 20, \"color\": \"rgb(255, 255, 255)\", \"line\": {\"width\": 2, \"color\": \"rgb(0, 0, 0)\"}}, \"textfont\": {\"color\": \"rgb(0, 0, 0)\"}}, {\"x\": [0.75], \"y\": [0.0], \"text\": [], \"textposition\": \"middle center\", \"hoverinfo\": \"none\", \"mode\": \"markers+text\", \"marker\": {\"size\": 20, \"color\": \"rgb(255, 255, 255)\", \"line\": {\"width\": 2, \"color\": \"rgb(0, 0, 0)\"}}, \"textfont\": {\"color\": \"rgb(0, 0, 0)\"}}, {\"x\": [0.5], \"y\": [0.0], \"text\": [], \"textposition\": \"middle center\", \"hoverinfo\": \"none\", \"mode\": \"markers+text\", \"marker\": {\"size\": 20, \"color\": \"rgb(255, 255, 255)\", \"line\": {\"width\": 2, \"color\": \"rgb(0, 0, 0)\"}}, \"textfont\": {\"color\": \"rgb(0, 0, 0)\"}}, {\"x\": [0.25], \"y\": [0.0], \"text\": [], \"textposition\": \"middle center\", \"hoverinfo\": \"none\", \"mode\": \"markers+text\", \"marker\": {\"size\": 20, \"color\": \"rgb(255, 255, 255)\", \"line\": {\"width\": 2, \"color\": \"rgb(0, 0, 0)\"}}, \"textfont\": {\"color\": \"rgb(0, 0, 0)\"}}, {\"x\": [0.375], \"y\": [0.5], \"text\": [], \"textposition\": \"middle center\", \"hoverinfo\": \"none\", \"mode\": \"markers+text\", \"marker\": {\"size\": 20, \"color\": \"rgb(255, 255, 255)\", \"line\": {\"width\": 2, \"color\": \"rgb(0, 0, 0)\"}}, \"textfont\": {\"color\": \"rgb(0, 0, 0)\"}}, {\"x\": [0.08835225700681207, 0.16164774299318793, 0.375, 0.2878787878787879, 0.625, 0.6625594305323629, 0.4750594305323629, 0.911647742993188, 0.7878787878787878, 0.911647742993188, 0.625, 0.375, 0.3999405694676371, 0.2749405694676371], \"y\": [0.768323871496594, 0.268323871496594, 1.0724637681159421, 0.5, 1.0724637681159421, 0.5093898576330907, 0.7406101423669093, 0.768323871496594, 0.5, 0.23167612850340602, -0.07246376811594203, -0.07246376811594203, 0.24061014236690928, 0.2593898576330907], \"text\": [4, 8, 8, 11, 7, 4, 2, 9, 14, 10, 2, 1, 6, 7], \"textposition\": \"middle center\", \"hoverinfo\": \"none\", \"mode\": \"text\", \"textfont\": {\"color\": \"rgb(0, 0, 0)\"}}], \"name\": 18}, {\"data\": [{\"x\": [0.0, 0.25, null], \"y\": [0.5, 1.0, null], \"hoverinfo\": \"none\", \"mode\": \"lines\", \"line\": {\"width\": 2, \"color\": \"rgb(0, 0, 255)\"}}, {\"x\": [0.0, 0.25, null], \"y\": [0.5, 0.0, null], \"hoverinfo\": \"none\", \"mode\": \"lines\", \"line\": {\"width\": 2, \"color\": \"rgb(0, 0, 255)\"}}, {\"x\": [0.25, 0.5, null], \"y\": [1.0, 1.0, null], \"hoverinfo\": \"none\", \"mode\": \"lines\", \"line\": {\"width\": 2, \"color\": \"rgb(255, 0, 0)\"}}, {\"x\": [0.25, 0.25, null], \"y\": [1.0, 0.0, null], \"hoverinfo\": \"none\", \"mode\": \"lines\", \"line\": {\"width\": 2, \"color\": \"rgb(0, 0, 0)\"}}, {\"x\": [0.5, 0.75, null], \"y\": [1.0, 1.0, null], \"hoverinfo\": \"none\", \"mode\": \"lines\", \"line\": {\"width\": 2, \"color\": \"rgb(0, 0, 255)\"}}, {\"x\": [0.5, 0.75, null], \"y\": [1.0, 0.0, null], \"hoverinfo\": \"none\", \"mode\": \"lines\", \"line\": {\"width\": 2, \"color\": \"rgb(0, 0, 255)\"}}, {\"x\": [0.5, 0.375, null], \"y\": [1.0, 0.5, null], \"hoverinfo\": \"none\", \"mode\": \"lines\", \"line\": {\"width\": 2, \"color\": \"rgb(0, 0, 255)\"}}, {\"x\": [0.75, 1.0, null], \"y\": [1.0, 0.5, null], \"hoverinfo\": \"none\", \"mode\": \"lines\", \"line\": {\"width\": 2, \"color\": \"rgb(0, 0, 0)\"}}, {\"x\": [0.75, 0.75, null], \"y\": [1.0, 0.0, null], \"hoverinfo\": \"none\", \"mode\": \"lines\", \"line\": {\"width\": 2, \"color\": \"rgb(0, 0, 0)\"}}, {\"x\": [1.0, 0.75, null], \"y\": [0.5, 0.0, null], \"hoverinfo\": \"none\", \"mode\": \"lines\", \"line\": {\"width\": 2, \"color\": \"rgb(0, 0, 0)\"}}, {\"x\": [0.75, 0.5, null], \"y\": [0.0, 0.0, null], \"hoverinfo\": \"none\", \"mode\": \"lines\", \"line\": {\"width\": 2, \"color\": \"rgb(0, 0, 255)\"}}, {\"x\": [0.5, 0.25, null], \"y\": [0.0, 0.0, null], \"hoverinfo\": \"none\", \"mode\": \"lines\", \"line\": {\"width\": 2, \"color\": \"rgb(0, 0, 255)\"}}, {\"x\": [0.5, 0.375, null], \"y\": [0.0, 0.5, null], \"hoverinfo\": \"none\", \"mode\": \"lines\", \"line\": {\"width\": 2, \"color\": \"rgb(0, 0, 0)\"}}, {\"x\": [0.25, 0.375, null], \"y\": [0.0, 0.5, null], \"hoverinfo\": \"none\", \"mode\": \"lines\", \"line\": {\"width\": 2, \"color\": \"rgb(0, 0, 0)\"}}, {\"x\": [0.0], \"y\": [0.5], \"text\": [], \"textposition\": \"middle center\", \"hoverinfo\": \"none\", \"mode\": \"markers+text\", \"marker\": {\"size\": 20, \"color\": \"rgb(255, 255, 255)\", \"line\": {\"width\": 2, \"color\": \"rgb(0, 0, 0)\"}}, \"textfont\": {\"color\": \"rgb(0, 0, 0)\"}}, {\"x\": [0.25], \"y\": [1.0], \"text\": [], \"textposition\": \"middle center\", \"hoverinfo\": \"none\", \"mode\": \"markers+text\", \"marker\": {\"size\": 20, \"color\": \"rgb(255, 255, 255)\", \"line\": {\"width\": 2, \"color\": \"rgb(0, 0, 0)\"}}, \"textfont\": {\"color\": \"rgb(0, 0, 0)\"}}, {\"x\": [0.5], \"y\": [1.0], \"text\": [], \"textposition\": \"middle center\", \"hoverinfo\": \"none\", \"mode\": \"markers+text\", \"marker\": {\"size\": 20, \"color\": \"rgb(255, 255, 255)\", \"line\": {\"width\": 2, \"color\": \"rgb(0, 0, 0)\"}}, \"textfont\": {\"color\": \"rgb(0, 0, 0)\"}}, {\"x\": [0.75], \"y\": [1.0], \"text\": [], \"textposition\": \"middle center\", \"hoverinfo\": \"none\", \"mode\": \"markers+text\", \"marker\": {\"size\": 20, \"color\": \"rgb(255, 255, 255)\", \"line\": {\"width\": 2, \"color\": \"rgb(0, 0, 0)\"}}, \"textfont\": {\"color\": \"rgb(0, 0, 0)\"}}, {\"x\": [1.0], \"y\": [0.5], \"text\": [], \"textposition\": \"middle center\", \"hoverinfo\": \"none\", \"mode\": \"markers+text\", \"marker\": {\"size\": 20, \"color\": \"rgb(255, 255, 255)\", \"line\": {\"width\": 2, \"color\": \"rgb(0, 0, 0)\"}}, \"textfont\": {\"color\": \"rgb(0, 0, 0)\"}}, {\"x\": [0.75], \"y\": [0.0], \"text\": [], \"textposition\": \"middle center\", \"hoverinfo\": \"none\", \"mode\": \"markers+text\", \"marker\": {\"size\": 20, \"color\": \"rgb(255, 255, 255)\", \"line\": {\"width\": 2, \"color\": \"rgb(0, 0, 0)\"}}, \"textfont\": {\"color\": \"rgb(0, 0, 0)\"}}, {\"x\": [0.5], \"y\": [0.0], \"text\": [], \"textposition\": \"middle center\", \"hoverinfo\": \"none\", \"mode\": \"markers+text\", \"marker\": {\"size\": 20, \"color\": \"rgb(255, 255, 255)\", \"line\": {\"width\": 2, \"color\": \"rgb(0, 0, 0)\"}}, \"textfont\": {\"color\": \"rgb(0, 0, 0)\"}}, {\"x\": [0.25], \"y\": [0.0], \"text\": [], \"textposition\": \"middle center\", \"hoverinfo\": \"none\", \"mode\": \"markers+text\", \"marker\": {\"size\": 20, \"color\": \"rgb(255, 255, 255)\", \"line\": {\"width\": 2, \"color\": \"rgb(0, 0, 0)\"}}, \"textfont\": {\"color\": \"rgb(0, 0, 0)\"}}, {\"x\": [0.375], \"y\": [0.5], \"text\": [], \"textposition\": \"middle center\", \"hoverinfo\": \"none\", \"mode\": \"markers+text\", \"marker\": {\"size\": 20, \"color\": \"rgb(255, 255, 255)\", \"line\": {\"width\": 2, \"color\": \"rgb(0, 0, 0)\"}}, \"textfont\": {\"color\": \"rgb(0, 0, 0)\"}}, {\"x\": [0.08835225700681207, 0.16164774299318793, 0.375, 0.2878787878787879, 0.625, 0.6625594305323629, 0.4750594305323629, 0.911647742993188, 0.7878787878787878, 0.911647742993188, 0.625, 0.375, 0.3999405694676371, 0.2749405694676371], \"y\": [0.768323871496594, 0.268323871496594, 1.0724637681159421, 0.5, 1.0724637681159421, 0.5093898576330907, 0.7406101423669093, 0.768323871496594, 0.5, 0.23167612850340602, -0.07246376811594203, -0.07246376811594203, 0.24061014236690928, 0.2593898576330907], \"text\": [4, 8, 8, 11, 7, 4, 2, 9, 14, 10, 2, 1, 6, 7], \"textposition\": \"middle center\", \"hoverinfo\": \"none\", \"mode\": \"text\", \"textfont\": {\"color\": \"rgb(0, 0, 0)\"}}], \"name\": 19}, {\"data\": [{\"x\": [0.0, 0.25, null], \"y\": [0.5, 1.0, null], \"hoverinfo\": \"none\", \"mode\": \"lines\", \"line\": {\"width\": 2, \"color\": \"rgb(0, 0, 255)\"}}, {\"x\": [0.0, 0.25, null], \"y\": [0.5, 0.0, null], \"hoverinfo\": \"none\", \"mode\": \"lines\", \"line\": {\"width\": 2, \"color\": \"rgb(0, 0, 255)\"}}, {\"x\": [0.25, 0.5, null], \"y\": [1.0, 1.0, null], \"hoverinfo\": \"none\", \"mode\": \"lines\", \"line\": {\"width\": 2, \"color\": \"rgb(0, 0, 0)\"}}, {\"x\": [0.25, 0.25, null], \"y\": [1.0, 0.0, null], \"hoverinfo\": \"none\", \"mode\": \"lines\", \"line\": {\"width\": 2, \"color\": \"rgb(0, 0, 0)\"}}, {\"x\": [0.5, 0.75, null], \"y\": [1.0, 1.0, null], \"hoverinfo\": \"none\", \"mode\": \"lines\", \"line\": {\"width\": 2, \"color\": \"rgb(0, 0, 255)\"}}, {\"x\": [0.5, 0.75, null], \"y\": [1.0, 0.0, null], \"hoverinfo\": \"none\", \"mode\": \"lines\", \"line\": {\"width\": 2, \"color\": \"rgb(0, 0, 255)\"}}, {\"x\": [0.5, 0.375, null], \"y\": [1.0, 0.5, null], \"hoverinfo\": \"none\", \"mode\": \"lines\", \"line\": {\"width\": 2, \"color\": \"rgb(0, 0, 255)\"}}, {\"x\": [0.75, 1.0, null], \"y\": [1.0, 0.5, null], \"hoverinfo\": \"none\", \"mode\": \"lines\", \"line\": {\"width\": 2, \"color\": \"rgb(0, 0, 0)\"}}, {\"x\": [0.75, 0.75, null], \"y\": [1.0, 0.0, null], \"hoverinfo\": \"none\", \"mode\": \"lines\", \"line\": {\"width\": 2, \"color\": \"rgb(0, 0, 0)\"}}, {\"x\": [1.0, 0.75, null], \"y\": [0.5, 0.0, null], \"hoverinfo\": \"none\", \"mode\": \"lines\", \"line\": {\"width\": 2, \"color\": \"rgb(0, 0, 0)\"}}, {\"x\": [0.75, 0.5, null], \"y\": [0.0, 0.0, null], \"hoverinfo\": \"none\", \"mode\": \"lines\", \"line\": {\"width\": 2, \"color\": \"rgb(0, 0, 255)\"}}, {\"x\": [0.5, 0.25, null], \"y\": [0.0, 0.0, null], \"hoverinfo\": \"none\", \"mode\": \"lines\", \"line\": {\"width\": 2, \"color\": \"rgb(0, 0, 255)\"}}, {\"x\": [0.5, 0.375, null], \"y\": [0.0, 0.5, null], \"hoverinfo\": \"none\", \"mode\": \"lines\", \"line\": {\"width\": 2, \"color\": \"rgb(0, 0, 0)\"}}, {\"x\": [0.25, 0.375, null], \"y\": [0.0, 0.5, null], \"hoverinfo\": \"none\", \"mode\": \"lines\", \"line\": {\"width\": 2, \"color\": \"rgb(0, 0, 0)\"}}, {\"x\": [0.0], \"y\": [0.5], \"text\": [], \"textposition\": \"middle center\", \"hoverinfo\": \"none\", \"mode\": \"markers+text\", \"marker\": {\"size\": 20, \"color\": \"rgb(255, 255, 255)\", \"line\": {\"width\": 2, \"color\": \"rgb(0, 0, 0)\"}}, \"textfont\": {\"color\": \"rgb(0, 0, 0)\"}}, {\"x\": [0.25], \"y\": [1.0], \"text\": [], \"textposition\": \"middle center\", \"hoverinfo\": \"none\", \"mode\": \"markers+text\", \"marker\": {\"size\": 20, \"color\": \"rgb(255, 255, 255)\", \"line\": {\"width\": 2, \"color\": \"rgb(0, 0, 0)\"}}, \"textfont\": {\"color\": \"rgb(0, 0, 0)\"}}, {\"x\": [0.5], \"y\": [1.0], \"text\": [], \"textposition\": \"middle center\", \"hoverinfo\": \"none\", \"mode\": \"markers+text\", \"marker\": {\"size\": 20, \"color\": \"rgb(255, 255, 255)\", \"line\": {\"width\": 2, \"color\": \"rgb(0, 0, 0)\"}}, \"textfont\": {\"color\": \"rgb(0, 0, 0)\"}}, {\"x\": [0.75], \"y\": [1.0], \"text\": [], \"textposition\": \"middle center\", \"hoverinfo\": \"none\", \"mode\": \"markers+text\", \"marker\": {\"size\": 20, \"color\": \"rgb(255, 255, 255)\", \"line\": {\"width\": 2, \"color\": \"rgb(0, 0, 0)\"}}, \"textfont\": {\"color\": \"rgb(0, 0, 0)\"}}, {\"x\": [1.0], \"y\": [0.5], \"text\": [], \"textposition\": \"middle center\", \"hoverinfo\": \"none\", \"mode\": \"markers+text\", \"marker\": {\"size\": 20, \"color\": \"rgb(255, 255, 255)\", \"line\": {\"width\": 2, \"color\": \"rgb(0, 0, 0)\"}}, \"textfont\": {\"color\": \"rgb(0, 0, 0)\"}}, {\"x\": [0.75], \"y\": [0.0], \"text\": [], \"textposition\": \"middle center\", \"hoverinfo\": \"none\", \"mode\": \"markers+text\", \"marker\": {\"size\": 20, \"color\": \"rgb(255, 255, 255)\", \"line\": {\"width\": 2, \"color\": \"rgb(0, 0, 0)\"}}, \"textfont\": {\"color\": \"rgb(0, 0, 0)\"}}, {\"x\": [0.5], \"y\": [0.0], \"text\": [], \"textposition\": \"middle center\", \"hoverinfo\": \"none\", \"mode\": \"markers+text\", \"marker\": {\"size\": 20, \"color\": \"rgb(255, 255, 255)\", \"line\": {\"width\": 2, \"color\": \"rgb(0, 0, 0)\"}}, \"textfont\": {\"color\": \"rgb(0, 0, 0)\"}}, {\"x\": [0.25], \"y\": [0.0], \"text\": [], \"textposition\": \"middle center\", \"hoverinfo\": \"none\", \"mode\": \"markers+text\", \"marker\": {\"size\": 20, \"color\": \"rgb(255, 255, 255)\", \"line\": {\"width\": 2, \"color\": \"rgb(0, 0, 0)\"}}, \"textfont\": {\"color\": \"rgb(0, 0, 0)\"}}, {\"x\": [0.375], \"y\": [0.5], \"text\": [], \"textposition\": \"middle center\", \"hoverinfo\": \"none\", \"mode\": \"markers+text\", \"marker\": {\"size\": 20, \"color\": \"rgb(255, 255, 255)\", \"line\": {\"width\": 2, \"color\": \"rgb(0, 0, 0)\"}}, \"textfont\": {\"color\": \"rgb(0, 0, 0)\"}}, {\"x\": [0.08835225700681207, 0.16164774299318793, 0.375, 0.2878787878787879, 0.625, 0.6625594305323629, 0.4750594305323629, 0.911647742993188, 0.7878787878787878, 0.911647742993188, 0.625, 0.375, 0.3999405694676371, 0.2749405694676371], \"y\": [0.768323871496594, 0.268323871496594, 1.0724637681159421, 0.5, 1.0724637681159421, 0.5093898576330907, 0.7406101423669093, 0.768323871496594, 0.5, 0.23167612850340602, -0.07246376811594203, -0.07246376811594203, 0.24061014236690928, 0.2593898576330907], \"text\": [4, 8, 8, 11, 7, 4, 2, 9, 14, 10, 2, 1, 6, 7], \"textposition\": \"middle center\", \"hoverinfo\": \"none\", \"mode\": \"text\", \"textfont\": {\"color\": \"rgb(0, 0, 0)\"}}], \"name\": 20}, {\"data\": [{\"x\": [0.0, 0.25, null], \"y\": [0.5, 1.0, null], \"hoverinfo\": \"none\", \"mode\": \"lines\", \"line\": {\"width\": 2, \"color\": \"rgb(0, 0, 255)\"}}, {\"x\": [0.0, 0.25, null], \"y\": [0.5, 0.0, null], \"hoverinfo\": \"none\", \"mode\": \"lines\", \"line\": {\"width\": 2, \"color\": \"rgb(0, 0, 255)\"}}, {\"x\": [0.25, 0.5, null], \"y\": [1.0, 1.0, null], \"hoverinfo\": \"none\", \"mode\": \"lines\", \"line\": {\"width\": 2, \"color\": \"rgb(0, 0, 0)\"}}, {\"x\": [0.25, 0.25, null], \"y\": [1.0, 0.0, null], \"hoverinfo\": \"none\", \"mode\": \"lines\", \"line\": {\"width\": 2, \"color\": \"rgb(0, 0, 0)\"}}, {\"x\": [0.5, 0.75, null], \"y\": [1.0, 1.0, null], \"hoverinfo\": \"none\", \"mode\": \"lines\", \"line\": {\"width\": 2, \"color\": \"rgb(0, 0, 255)\"}}, {\"x\": [0.5, 0.75, null], \"y\": [1.0, 0.0, null], \"hoverinfo\": \"none\", \"mode\": \"lines\", \"line\": {\"width\": 2, \"color\": \"rgb(0, 0, 255)\"}}, {\"x\": [0.5, 0.375, null], \"y\": [1.0, 0.5, null], \"hoverinfo\": \"none\", \"mode\": \"lines\", \"line\": {\"width\": 2, \"color\": \"rgb(0, 0, 255)\"}}, {\"x\": [0.75, 1.0, null], \"y\": [1.0, 0.5, null], \"hoverinfo\": \"none\", \"mode\": \"lines\", \"line\": {\"width\": 2, \"color\": \"rgb(255, 0, 0)\"}}, {\"x\": [0.75, 0.75, null], \"y\": [1.0, 0.0, null], \"hoverinfo\": \"none\", \"mode\": \"lines\", \"line\": {\"width\": 2, \"color\": \"rgb(0, 0, 0)\"}}, {\"x\": [1.0, 0.75, null], \"y\": [0.5, 0.0, null], \"hoverinfo\": \"none\", \"mode\": \"lines\", \"line\": {\"width\": 2, \"color\": \"rgb(0, 0, 0)\"}}, {\"x\": [0.75, 0.5, null], \"y\": [0.0, 0.0, null], \"hoverinfo\": \"none\", \"mode\": \"lines\", \"line\": {\"width\": 2, \"color\": \"rgb(0, 0, 255)\"}}, {\"x\": [0.5, 0.25, null], \"y\": [0.0, 0.0, null], \"hoverinfo\": \"none\", \"mode\": \"lines\", \"line\": {\"width\": 2, \"color\": \"rgb(0, 0, 255)\"}}, {\"x\": [0.5, 0.375, null], \"y\": [0.0, 0.5, null], \"hoverinfo\": \"none\", \"mode\": \"lines\", \"line\": {\"width\": 2, \"color\": \"rgb(0, 0, 0)\"}}, {\"x\": [0.25, 0.375, null], \"y\": [0.0, 0.5, null], \"hoverinfo\": \"none\", \"mode\": \"lines\", \"line\": {\"width\": 2, \"color\": \"rgb(0, 0, 0)\"}}, {\"x\": [0.0], \"y\": [0.5], \"text\": [], \"textposition\": \"middle center\", \"hoverinfo\": \"none\", \"mode\": \"markers+text\", \"marker\": {\"size\": 20, \"color\": \"rgb(255, 255, 255)\", \"line\": {\"width\": 2, \"color\": \"rgb(0, 0, 0)\"}}, \"textfont\": {\"color\": \"rgb(0, 0, 0)\"}}, {\"x\": [0.25], \"y\": [1.0], \"text\": [], \"textposition\": \"middle center\", \"hoverinfo\": \"none\", \"mode\": \"markers+text\", \"marker\": {\"size\": 20, \"color\": \"rgb(255, 255, 255)\", \"line\": {\"width\": 2, \"color\": \"rgb(0, 0, 0)\"}}, \"textfont\": {\"color\": \"rgb(0, 0, 0)\"}}, {\"x\": [0.5], \"y\": [1.0], \"text\": [], \"textposition\": \"middle center\", \"hoverinfo\": \"none\", \"mode\": \"markers+text\", \"marker\": {\"size\": 20, \"color\": \"rgb(255, 255, 255)\", \"line\": {\"width\": 2, \"color\": \"rgb(0, 0, 0)\"}}, \"textfont\": {\"color\": \"rgb(0, 0, 0)\"}}, {\"x\": [0.75], \"y\": [1.0], \"text\": [], \"textposition\": \"middle center\", \"hoverinfo\": \"none\", \"mode\": \"markers+text\", \"marker\": {\"size\": 20, \"color\": \"rgb(255, 255, 255)\", \"line\": {\"width\": 2, \"color\": \"rgb(0, 0, 0)\"}}, \"textfont\": {\"color\": \"rgb(0, 0, 0)\"}}, {\"x\": [1.0], \"y\": [0.5], \"text\": [], \"textposition\": \"middle center\", \"hoverinfo\": \"none\", \"mode\": \"markers+text\", \"marker\": {\"size\": 20, \"color\": \"rgb(255, 255, 255)\", \"line\": {\"width\": 2, \"color\": \"rgb(0, 0, 0)\"}}, \"textfont\": {\"color\": \"rgb(0, 0, 0)\"}}, {\"x\": [0.75], \"y\": [0.0], \"text\": [], \"textposition\": \"middle center\", \"hoverinfo\": \"none\", \"mode\": \"markers+text\", \"marker\": {\"size\": 20, \"color\": \"rgb(255, 255, 255)\", \"line\": {\"width\": 2, \"color\": \"rgb(0, 0, 0)\"}}, \"textfont\": {\"color\": \"rgb(0, 0, 0)\"}}, {\"x\": [0.5], \"y\": [0.0], \"text\": [], \"textposition\": \"middle center\", \"hoverinfo\": \"none\", \"mode\": \"markers+text\", \"marker\": {\"size\": 20, \"color\": \"rgb(255, 255, 255)\", \"line\": {\"width\": 2, \"color\": \"rgb(0, 0, 0)\"}}, \"textfont\": {\"color\": \"rgb(0, 0, 0)\"}}, {\"x\": [0.25], \"y\": [0.0], \"text\": [], \"textposition\": \"middle center\", \"hoverinfo\": \"none\", \"mode\": \"markers+text\", \"marker\": {\"size\": 20, \"color\": \"rgb(255, 255, 255)\", \"line\": {\"width\": 2, \"color\": \"rgb(0, 0, 0)\"}}, \"textfont\": {\"color\": \"rgb(0, 0, 0)\"}}, {\"x\": [0.375], \"y\": [0.5], \"text\": [], \"textposition\": \"middle center\", \"hoverinfo\": \"none\", \"mode\": \"markers+text\", \"marker\": {\"size\": 20, \"color\": \"rgb(255, 255, 255)\", \"line\": {\"width\": 2, \"color\": \"rgb(0, 0, 0)\"}}, \"textfont\": {\"color\": \"rgb(0, 0, 0)\"}}, {\"x\": [0.08835225700681207, 0.16164774299318793, 0.375, 0.2878787878787879, 0.625, 0.6625594305323629, 0.4750594305323629, 0.911647742993188, 0.7878787878787878, 0.911647742993188, 0.625, 0.375, 0.3999405694676371, 0.2749405694676371], \"y\": [0.768323871496594, 0.268323871496594, 1.0724637681159421, 0.5, 1.0724637681159421, 0.5093898576330907, 0.7406101423669093, 0.768323871496594, 0.5, 0.23167612850340602, -0.07246376811594203, -0.07246376811594203, 0.24061014236690928, 0.2593898576330907], \"text\": [4, 8, 8, 11, 7, 4, 2, 9, 14, 10, 2, 1, 6, 7], \"textposition\": \"middle center\", \"hoverinfo\": \"none\", \"mode\": \"text\", \"textfont\": {\"color\": \"rgb(0, 0, 0)\"}}], \"name\": 21}, {\"data\": [{\"x\": [0.0, 0.25, null], \"y\": [0.5, 1.0, null], \"hoverinfo\": \"none\", \"mode\": \"lines\", \"line\": {\"width\": 2, \"color\": \"rgb(0, 0, 255)\"}}, {\"x\": [0.0, 0.25, null], \"y\": [0.5, 0.0, null], \"hoverinfo\": \"none\", \"mode\": \"lines\", \"line\": {\"width\": 2, \"color\": \"rgb(0, 0, 255)\"}}, {\"x\": [0.25, 0.5, null], \"y\": [1.0, 1.0, null], \"hoverinfo\": \"none\", \"mode\": \"lines\", \"line\": {\"width\": 2, \"color\": \"rgb(0, 0, 0)\"}}, {\"x\": [0.25, 0.25, null], \"y\": [1.0, 0.0, null], \"hoverinfo\": \"none\", \"mode\": \"lines\", \"line\": {\"width\": 2, \"color\": \"rgb(0, 0, 0)\"}}, {\"x\": [0.5, 0.75, null], \"y\": [1.0, 1.0, null], \"hoverinfo\": \"none\", \"mode\": \"lines\", \"line\": {\"width\": 2, \"color\": \"rgb(0, 0, 255)\"}}, {\"x\": [0.5, 0.75, null], \"y\": [1.0, 0.0, null], \"hoverinfo\": \"none\", \"mode\": \"lines\", \"line\": {\"width\": 2, \"color\": \"rgb(0, 0, 255)\"}}, {\"x\": [0.5, 0.375, null], \"y\": [1.0, 0.5, null], \"hoverinfo\": \"none\", \"mode\": \"lines\", \"line\": {\"width\": 2, \"color\": \"rgb(0, 0, 255)\"}}, {\"x\": [0.75, 1.0, null], \"y\": [1.0, 0.5, null], \"hoverinfo\": \"none\", \"mode\": \"lines\", \"line\": {\"width\": 2, \"color\": \"rgb(0, 0, 255)\"}}, {\"x\": [0.75, 0.75, null], \"y\": [1.0, 0.0, null], \"hoverinfo\": \"none\", \"mode\": \"lines\", \"line\": {\"width\": 2, \"color\": \"rgb(0, 0, 0)\"}}, {\"x\": [1.0, 0.75, null], \"y\": [0.5, 0.0, null], \"hoverinfo\": \"none\", \"mode\": \"lines\", \"line\": {\"width\": 2, \"color\": \"rgb(0, 0, 0)\"}}, {\"x\": [0.75, 0.5, null], \"y\": [0.0, 0.0, null], \"hoverinfo\": \"none\", \"mode\": \"lines\", \"line\": {\"width\": 2, \"color\": \"rgb(0, 0, 255)\"}}, {\"x\": [0.5, 0.25, null], \"y\": [0.0, 0.0, null], \"hoverinfo\": \"none\", \"mode\": \"lines\", \"line\": {\"width\": 2, \"color\": \"rgb(0, 0, 255)\"}}, {\"x\": [0.5, 0.375, null], \"y\": [0.0, 0.5, null], \"hoverinfo\": \"none\", \"mode\": \"lines\", \"line\": {\"width\": 2, \"color\": \"rgb(0, 0, 0)\"}}, {\"x\": [0.25, 0.375, null], \"y\": [0.0, 0.5, null], \"hoverinfo\": \"none\", \"mode\": \"lines\", \"line\": {\"width\": 2, \"color\": \"rgb(0, 0, 0)\"}}, {\"x\": [0.0], \"y\": [0.5], \"text\": [], \"textposition\": \"middle center\", \"hoverinfo\": \"none\", \"mode\": \"markers+text\", \"marker\": {\"size\": 20, \"color\": \"rgb(255, 255, 255)\", \"line\": {\"width\": 2, \"color\": \"rgb(0, 0, 0)\"}}, \"textfont\": {\"color\": \"rgb(0, 0, 0)\"}}, {\"x\": [0.25], \"y\": [1.0], \"text\": [], \"textposition\": \"middle center\", \"hoverinfo\": \"none\", \"mode\": \"markers+text\", \"marker\": {\"size\": 20, \"color\": \"rgb(255, 255, 255)\", \"line\": {\"width\": 2, \"color\": \"rgb(0, 0, 0)\"}}, \"textfont\": {\"color\": \"rgb(0, 0, 0)\"}}, {\"x\": [0.5], \"y\": [1.0], \"text\": [], \"textposition\": \"middle center\", \"hoverinfo\": \"none\", \"mode\": \"markers+text\", \"marker\": {\"size\": 20, \"color\": \"rgb(255, 255, 255)\", \"line\": {\"width\": 2, \"color\": \"rgb(0, 0, 0)\"}}, \"textfont\": {\"color\": \"rgb(0, 0, 0)\"}}, {\"x\": [0.75], \"y\": [1.0], \"text\": [], \"textposition\": \"middle center\", \"hoverinfo\": \"none\", \"mode\": \"markers+text\", \"marker\": {\"size\": 20, \"color\": \"rgb(255, 255, 255)\", \"line\": {\"width\": 2, \"color\": \"rgb(0, 0, 0)\"}}, \"textfont\": {\"color\": \"rgb(0, 0, 0)\"}}, {\"x\": [1.0], \"y\": [0.5], \"text\": [], \"textposition\": \"middle center\", \"hoverinfo\": \"none\", \"mode\": \"markers+text\", \"marker\": {\"size\": 20, \"color\": \"rgb(255, 255, 255)\", \"line\": {\"width\": 2, \"color\": \"rgb(0, 0, 0)\"}}, \"textfont\": {\"color\": \"rgb(0, 0, 0)\"}}, {\"x\": [0.75], \"y\": [0.0], \"text\": [], \"textposition\": \"middle center\", \"hoverinfo\": \"none\", \"mode\": \"markers+text\", \"marker\": {\"size\": 20, \"color\": \"rgb(255, 255, 255)\", \"line\": {\"width\": 2, \"color\": \"rgb(0, 0, 0)\"}}, \"textfont\": {\"color\": \"rgb(0, 0, 0)\"}}, {\"x\": [0.5], \"y\": [0.0], \"text\": [], \"textposition\": \"middle center\", \"hoverinfo\": \"none\", \"mode\": \"markers+text\", \"marker\": {\"size\": 20, \"color\": \"rgb(255, 255, 255)\", \"line\": {\"width\": 2, \"color\": \"rgb(0, 0, 0)\"}}, \"textfont\": {\"color\": \"rgb(0, 0, 0)\"}}, {\"x\": [0.25], \"y\": [0.0], \"text\": [], \"textposition\": \"middle center\", \"hoverinfo\": \"none\", \"mode\": \"markers+text\", \"marker\": {\"size\": 20, \"color\": \"rgb(255, 255, 255)\", \"line\": {\"width\": 2, \"color\": \"rgb(0, 0, 0)\"}}, \"textfont\": {\"color\": \"rgb(0, 0, 0)\"}}, {\"x\": [0.375], \"y\": [0.5], \"text\": [], \"textposition\": \"middle center\", \"hoverinfo\": \"none\", \"mode\": \"markers+text\", \"marker\": {\"size\": 20, \"color\": \"rgb(255, 255, 255)\", \"line\": {\"width\": 2, \"color\": \"rgb(0, 0, 0)\"}}, \"textfont\": {\"color\": \"rgb(0, 0, 0)\"}}, {\"x\": [0.08835225700681207, 0.16164774299318793, 0.375, 0.2878787878787879, 0.625, 0.6625594305323629, 0.4750594305323629, 0.911647742993188, 0.7878787878787878, 0.911647742993188, 0.625, 0.375, 0.3999405694676371, 0.2749405694676371], \"y\": [0.768323871496594, 0.268323871496594, 1.0724637681159421, 0.5, 1.0724637681159421, 0.5093898576330907, 0.7406101423669093, 0.768323871496594, 0.5, 0.23167612850340602, -0.07246376811594203, -0.07246376811594203, 0.24061014236690928, 0.2593898576330907], \"text\": [4, 8, 8, 11, 7, 4, 2, 9, 14, 10, 2, 1, 6, 7], \"textposition\": \"middle center\", \"hoverinfo\": \"none\", \"mode\": \"text\", \"textfont\": {\"color\": \"rgb(0, 0, 0)\"}}], \"name\": 22}, {\"data\": [{\"x\": [0.0, 0.25, null], \"y\": [0.5, 1.0, null], \"hoverinfo\": \"none\", \"mode\": \"lines\", \"line\": {\"width\": 2, \"color\": \"rgb(0, 0, 255)\"}}, {\"x\": [0.0, 0.25, null], \"y\": [0.5, 0.0, null], \"hoverinfo\": \"none\", \"mode\": \"lines\", \"line\": {\"width\": 2, \"color\": \"rgb(0, 0, 255)\"}}, {\"x\": [0.25, 0.5, null], \"y\": [1.0, 1.0, null], \"hoverinfo\": \"none\", \"mode\": \"lines\", \"line\": {\"width\": 2, \"color\": \"rgb(0, 0, 0)\"}}, {\"x\": [0.25, 0.25, null], \"y\": [1.0, 0.0, null], \"hoverinfo\": \"none\", \"mode\": \"lines\", \"line\": {\"width\": 2, \"color\": \"rgb(0, 0, 0)\"}}, {\"x\": [0.5, 0.75, null], \"y\": [1.0, 1.0, null], \"hoverinfo\": \"none\", \"mode\": \"lines\", \"line\": {\"width\": 2, \"color\": \"rgb(0, 0, 255)\"}}, {\"x\": [0.5, 0.75, null], \"y\": [1.0, 0.0, null], \"hoverinfo\": \"none\", \"mode\": \"lines\", \"line\": {\"width\": 2, \"color\": \"rgb(0, 0, 255)\"}}, {\"x\": [0.5, 0.375, null], \"y\": [1.0, 0.5, null], \"hoverinfo\": \"none\", \"mode\": \"lines\", \"line\": {\"width\": 2, \"color\": \"rgb(0, 0, 255)\"}}, {\"x\": [0.75, 1.0, null], \"y\": [1.0, 0.5, null], \"hoverinfo\": \"none\", \"mode\": \"lines\", \"line\": {\"width\": 2, \"color\": \"rgb(0, 0, 255)\"}}, {\"x\": [0.75, 0.75, null], \"y\": [1.0, 0.0, null], \"hoverinfo\": \"none\", \"mode\": \"lines\", \"line\": {\"width\": 2, \"color\": \"rgb(0, 0, 0)\"}}, {\"x\": [1.0, 0.75, null], \"y\": [0.5, 0.0, null], \"hoverinfo\": \"none\", \"mode\": \"lines\", \"line\": {\"width\": 2, \"color\": \"rgb(255, 0, 0)\"}}, {\"x\": [0.75, 0.5, null], \"y\": [0.0, 0.0, null], \"hoverinfo\": \"none\", \"mode\": \"lines\", \"line\": {\"width\": 2, \"color\": \"rgb(0, 0, 255)\"}}, {\"x\": [0.5, 0.25, null], \"y\": [0.0, 0.0, null], \"hoverinfo\": \"none\", \"mode\": \"lines\", \"line\": {\"width\": 2, \"color\": \"rgb(0, 0, 255)\"}}, {\"x\": [0.5, 0.375, null], \"y\": [0.0, 0.5, null], \"hoverinfo\": \"none\", \"mode\": \"lines\", \"line\": {\"width\": 2, \"color\": \"rgb(0, 0, 0)\"}}, {\"x\": [0.25, 0.375, null], \"y\": [0.0, 0.5, null], \"hoverinfo\": \"none\", \"mode\": \"lines\", \"line\": {\"width\": 2, \"color\": \"rgb(0, 0, 0)\"}}, {\"x\": [0.0], \"y\": [0.5], \"text\": [], \"textposition\": \"middle center\", \"hoverinfo\": \"none\", \"mode\": \"markers+text\", \"marker\": {\"size\": 20, \"color\": \"rgb(255, 255, 255)\", \"line\": {\"width\": 2, \"color\": \"rgb(0, 0, 0)\"}}, \"textfont\": {\"color\": \"rgb(0, 0, 0)\"}}, {\"x\": [0.25], \"y\": [1.0], \"text\": [], \"textposition\": \"middle center\", \"hoverinfo\": \"none\", \"mode\": \"markers+text\", \"marker\": {\"size\": 20, \"color\": \"rgb(255, 255, 255)\", \"line\": {\"width\": 2, \"color\": \"rgb(0, 0, 0)\"}}, \"textfont\": {\"color\": \"rgb(0, 0, 0)\"}}, {\"x\": [0.5], \"y\": [1.0], \"text\": [], \"textposition\": \"middle center\", \"hoverinfo\": \"none\", \"mode\": \"markers+text\", \"marker\": {\"size\": 20, \"color\": \"rgb(255, 255, 255)\", \"line\": {\"width\": 2, \"color\": \"rgb(0, 0, 0)\"}}, \"textfont\": {\"color\": \"rgb(0, 0, 0)\"}}, {\"x\": [0.75], \"y\": [1.0], \"text\": [], \"textposition\": \"middle center\", \"hoverinfo\": \"none\", \"mode\": \"markers+text\", \"marker\": {\"size\": 20, \"color\": \"rgb(255, 255, 255)\", \"line\": {\"width\": 2, \"color\": \"rgb(0, 0, 0)\"}}, \"textfont\": {\"color\": \"rgb(0, 0, 0)\"}}, {\"x\": [1.0], \"y\": [0.5], \"text\": [], \"textposition\": \"middle center\", \"hoverinfo\": \"none\", \"mode\": \"markers+text\", \"marker\": {\"size\": 20, \"color\": \"rgb(255, 255, 255)\", \"line\": {\"width\": 2, \"color\": \"rgb(0, 0, 0)\"}}, \"textfont\": {\"color\": \"rgb(0, 0, 0)\"}}, {\"x\": [0.75], \"y\": [0.0], \"text\": [], \"textposition\": \"middle center\", \"hoverinfo\": \"none\", \"mode\": \"markers+text\", \"marker\": {\"size\": 20, \"color\": \"rgb(255, 255, 255)\", \"line\": {\"width\": 2, \"color\": \"rgb(0, 0, 0)\"}}, \"textfont\": {\"color\": \"rgb(0, 0, 0)\"}}, {\"x\": [0.5], \"y\": [0.0], \"text\": [], \"textposition\": \"middle center\", \"hoverinfo\": \"none\", \"mode\": \"markers+text\", \"marker\": {\"size\": 20, \"color\": \"rgb(255, 255, 255)\", \"line\": {\"width\": 2, \"color\": \"rgb(0, 0, 0)\"}}, \"textfont\": {\"color\": \"rgb(0, 0, 0)\"}}, {\"x\": [0.25], \"y\": [0.0], \"text\": [], \"textposition\": \"middle center\", \"hoverinfo\": \"none\", \"mode\": \"markers+text\", \"marker\": {\"size\": 20, \"color\": \"rgb(255, 255, 255)\", \"line\": {\"width\": 2, \"color\": \"rgb(0, 0, 0)\"}}, \"textfont\": {\"color\": \"rgb(0, 0, 0)\"}}, {\"x\": [0.375], \"y\": [0.5], \"text\": [], \"textposition\": \"middle center\", \"hoverinfo\": \"none\", \"mode\": \"markers+text\", \"marker\": {\"size\": 20, \"color\": \"rgb(255, 255, 255)\", \"line\": {\"width\": 2, \"color\": \"rgb(0, 0, 0)\"}}, \"textfont\": {\"color\": \"rgb(0, 0, 0)\"}}, {\"x\": [0.08835225700681207, 0.16164774299318793, 0.375, 0.2878787878787879, 0.625, 0.6625594305323629, 0.4750594305323629, 0.911647742993188, 0.7878787878787878, 0.911647742993188, 0.625, 0.375, 0.3999405694676371, 0.2749405694676371], \"y\": [0.768323871496594, 0.268323871496594, 1.0724637681159421, 0.5, 1.0724637681159421, 0.5093898576330907, 0.7406101423669093, 0.768323871496594, 0.5, 0.23167612850340602, -0.07246376811594203, -0.07246376811594203, 0.24061014236690928, 0.2593898576330907], \"text\": [4, 8, 8, 11, 7, 4, 2, 9, 14, 10, 2, 1, 6, 7], \"textposition\": \"middle center\", \"hoverinfo\": \"none\", \"mode\": \"text\", \"textfont\": {\"color\": \"rgb(0, 0, 0)\"}}], \"name\": 23}, {\"data\": [{\"x\": [0.0, 0.25, null], \"y\": [0.5, 1.0, null], \"hoverinfo\": \"none\", \"mode\": \"lines\", \"line\": {\"width\": 2, \"color\": \"rgb(0, 0, 255)\"}}, {\"x\": [0.0, 0.25, null], \"y\": [0.5, 0.0, null], \"hoverinfo\": \"none\", \"mode\": \"lines\", \"line\": {\"width\": 2, \"color\": \"rgb(0, 0, 255)\"}}, {\"x\": [0.25, 0.5, null], \"y\": [1.0, 1.0, null], \"hoverinfo\": \"none\", \"mode\": \"lines\", \"line\": {\"width\": 2, \"color\": \"rgb(0, 0, 0)\"}}, {\"x\": [0.25, 0.25, null], \"y\": [1.0, 0.0, null], \"hoverinfo\": \"none\", \"mode\": \"lines\", \"line\": {\"width\": 2, \"color\": \"rgb(0, 0, 0)\"}}, {\"x\": [0.5, 0.75, null], \"y\": [1.0, 1.0, null], \"hoverinfo\": \"none\", \"mode\": \"lines\", \"line\": {\"width\": 2, \"color\": \"rgb(0, 0, 255)\"}}, {\"x\": [0.5, 0.75, null], \"y\": [1.0, 0.0, null], \"hoverinfo\": \"none\", \"mode\": \"lines\", \"line\": {\"width\": 2, \"color\": \"rgb(0, 0, 255)\"}}, {\"x\": [0.5, 0.375, null], \"y\": [1.0, 0.5, null], \"hoverinfo\": \"none\", \"mode\": \"lines\", \"line\": {\"width\": 2, \"color\": \"rgb(0, 0, 255)\"}}, {\"x\": [0.75, 1.0, null], \"y\": [1.0, 0.5, null], \"hoverinfo\": \"none\", \"mode\": \"lines\", \"line\": {\"width\": 2, \"color\": \"rgb(0, 0, 255)\"}}, {\"x\": [0.75, 0.75, null], \"y\": [1.0, 0.0, null], \"hoverinfo\": \"none\", \"mode\": \"lines\", \"line\": {\"width\": 2, \"color\": \"rgb(0, 0, 0)\"}}, {\"x\": [1.0, 0.75, null], \"y\": [0.5, 0.0, null], \"hoverinfo\": \"none\", \"mode\": \"lines\", \"line\": {\"width\": 2, \"color\": \"rgb(0, 0, 0)\"}}, {\"x\": [0.75, 0.5, null], \"y\": [0.0, 0.0, null], \"hoverinfo\": \"none\", \"mode\": \"lines\", \"line\": {\"width\": 2, \"color\": \"rgb(0, 0, 255)\"}}, {\"x\": [0.5, 0.25, null], \"y\": [0.0, 0.0, null], \"hoverinfo\": \"none\", \"mode\": \"lines\", \"line\": {\"width\": 2, \"color\": \"rgb(0, 0, 255)\"}}, {\"x\": [0.5, 0.375, null], \"y\": [0.0, 0.5, null], \"hoverinfo\": \"none\", \"mode\": \"lines\", \"line\": {\"width\": 2, \"color\": \"rgb(0, 0, 0)\"}}, {\"x\": [0.25, 0.375, null], \"y\": [0.0, 0.5, null], \"hoverinfo\": \"none\", \"mode\": \"lines\", \"line\": {\"width\": 2, \"color\": \"rgb(0, 0, 0)\"}}, {\"x\": [0.0], \"y\": [0.5], \"text\": [], \"textposition\": \"middle center\", \"hoverinfo\": \"none\", \"mode\": \"markers+text\", \"marker\": {\"size\": 20, \"color\": \"rgb(255, 255, 255)\", \"line\": {\"width\": 2, \"color\": \"rgb(0, 0, 0)\"}}, \"textfont\": {\"color\": \"rgb(0, 0, 0)\"}}, {\"x\": [0.25], \"y\": [1.0], \"text\": [], \"textposition\": \"middle center\", \"hoverinfo\": \"none\", \"mode\": \"markers+text\", \"marker\": {\"size\": 20, \"color\": \"rgb(255, 255, 255)\", \"line\": {\"width\": 2, \"color\": \"rgb(0, 0, 0)\"}}, \"textfont\": {\"color\": \"rgb(0, 0, 0)\"}}, {\"x\": [0.5], \"y\": [1.0], \"text\": [], \"textposition\": \"middle center\", \"hoverinfo\": \"none\", \"mode\": \"markers+text\", \"marker\": {\"size\": 20, \"color\": \"rgb(255, 255, 255)\", \"line\": {\"width\": 2, \"color\": \"rgb(0, 0, 0)\"}}, \"textfont\": {\"color\": \"rgb(0, 0, 0)\"}}, {\"x\": [0.75], \"y\": [1.0], \"text\": [], \"textposition\": \"middle center\", \"hoverinfo\": \"none\", \"mode\": \"markers+text\", \"marker\": {\"size\": 20, \"color\": \"rgb(255, 255, 255)\", \"line\": {\"width\": 2, \"color\": \"rgb(0, 0, 0)\"}}, \"textfont\": {\"color\": \"rgb(0, 0, 0)\"}}, {\"x\": [1.0], \"y\": [0.5], \"text\": [], \"textposition\": \"middle center\", \"hoverinfo\": \"none\", \"mode\": \"markers+text\", \"marker\": {\"size\": 20, \"color\": \"rgb(255, 255, 255)\", \"line\": {\"width\": 2, \"color\": \"rgb(0, 0, 0)\"}}, \"textfont\": {\"color\": \"rgb(0, 0, 0)\"}}, {\"x\": [0.75], \"y\": [0.0], \"text\": [], \"textposition\": \"middle center\", \"hoverinfo\": \"none\", \"mode\": \"markers+text\", \"marker\": {\"size\": 20, \"color\": \"rgb(255, 255, 255)\", \"line\": {\"width\": 2, \"color\": \"rgb(0, 0, 0)\"}}, \"textfont\": {\"color\": \"rgb(0, 0, 0)\"}}, {\"x\": [0.5], \"y\": [0.0], \"text\": [], \"textposition\": \"middle center\", \"hoverinfo\": \"none\", \"mode\": \"markers+text\", \"marker\": {\"size\": 20, \"color\": \"rgb(255, 255, 255)\", \"line\": {\"width\": 2, \"color\": \"rgb(0, 0, 0)\"}}, \"textfont\": {\"color\": \"rgb(0, 0, 0)\"}}, {\"x\": [0.25], \"y\": [0.0], \"text\": [], \"textposition\": \"middle center\", \"hoverinfo\": \"none\", \"mode\": \"markers+text\", \"marker\": {\"size\": 20, \"color\": \"rgb(255, 255, 255)\", \"line\": {\"width\": 2, \"color\": \"rgb(0, 0, 0)\"}}, \"textfont\": {\"color\": \"rgb(0, 0, 0)\"}}, {\"x\": [0.375], \"y\": [0.5], \"text\": [], \"textposition\": \"middle center\", \"hoverinfo\": \"none\", \"mode\": \"markers+text\", \"marker\": {\"size\": 20, \"color\": \"rgb(255, 255, 255)\", \"line\": {\"width\": 2, \"color\": \"rgb(0, 0, 0)\"}}, \"textfont\": {\"color\": \"rgb(0, 0, 0)\"}}, {\"x\": [0.08835225700681207, 0.16164774299318793, 0.375, 0.2878787878787879, 0.625, 0.6625594305323629, 0.4750594305323629, 0.911647742993188, 0.7878787878787878, 0.911647742993188, 0.625, 0.375, 0.3999405694676371, 0.2749405694676371], \"y\": [0.768323871496594, 0.268323871496594, 1.0724637681159421, 0.5, 1.0724637681159421, 0.5093898576330907, 0.7406101423669093, 0.768323871496594, 0.5, 0.23167612850340602, -0.07246376811594203, -0.07246376811594203, 0.24061014236690928, 0.2593898576330907], \"text\": [4, 8, 8, 11, 7, 4, 2, 9, 14, 10, 2, 1, 6, 7], \"textposition\": \"middle center\", \"hoverinfo\": \"none\", \"mode\": \"text\", \"textfont\": {\"color\": \"rgb(0, 0, 0)\"}}], \"name\": 24}, {\"data\": [{\"x\": [0.0, 0.25, null], \"y\": [0.5, 1.0, null], \"hoverinfo\": \"none\", \"mode\": \"lines\", \"line\": {\"width\": 2, \"color\": \"rgb(0, 0, 255)\"}}, {\"x\": [0.0, 0.25, null], \"y\": [0.5, 0.0, null], \"hoverinfo\": \"none\", \"mode\": \"lines\", \"line\": {\"width\": 2, \"color\": \"rgb(0, 0, 255)\"}}, {\"x\": [0.25, 0.5, null], \"y\": [1.0, 1.0, null], \"hoverinfo\": \"none\", \"mode\": \"lines\", \"line\": {\"width\": 2, \"color\": \"rgb(0, 0, 0)\"}}, {\"x\": [0.25, 0.25, null], \"y\": [1.0, 0.0, null], \"hoverinfo\": \"none\", \"mode\": \"lines\", \"line\": {\"width\": 2, \"color\": \"rgb(255, 0, 0)\"}}, {\"x\": [0.5, 0.75, null], \"y\": [1.0, 1.0, null], \"hoverinfo\": \"none\", \"mode\": \"lines\", \"line\": {\"width\": 2, \"color\": \"rgb(0, 0, 255)\"}}, {\"x\": [0.5, 0.75, null], \"y\": [1.0, 0.0, null], \"hoverinfo\": \"none\", \"mode\": \"lines\", \"line\": {\"width\": 2, \"color\": \"rgb(0, 0, 255)\"}}, {\"x\": [0.5, 0.375, null], \"y\": [1.0, 0.5, null], \"hoverinfo\": \"none\", \"mode\": \"lines\", \"line\": {\"width\": 2, \"color\": \"rgb(0, 0, 255)\"}}, {\"x\": [0.75, 1.0, null], \"y\": [1.0, 0.5, null], \"hoverinfo\": \"none\", \"mode\": \"lines\", \"line\": {\"width\": 2, \"color\": \"rgb(0, 0, 255)\"}}, {\"x\": [0.75, 0.75, null], \"y\": [1.0, 0.0, null], \"hoverinfo\": \"none\", \"mode\": \"lines\", \"line\": {\"width\": 2, \"color\": \"rgb(0, 0, 0)\"}}, {\"x\": [1.0, 0.75, null], \"y\": [0.5, 0.0, null], \"hoverinfo\": \"none\", \"mode\": \"lines\", \"line\": {\"width\": 2, \"color\": \"rgb(0, 0, 0)\"}}, {\"x\": [0.75, 0.5, null], \"y\": [0.0, 0.0, null], \"hoverinfo\": \"none\", \"mode\": \"lines\", \"line\": {\"width\": 2, \"color\": \"rgb(0, 0, 255)\"}}, {\"x\": [0.5, 0.25, null], \"y\": [0.0, 0.0, null], \"hoverinfo\": \"none\", \"mode\": \"lines\", \"line\": {\"width\": 2, \"color\": \"rgb(0, 0, 255)\"}}, {\"x\": [0.5, 0.375, null], \"y\": [0.0, 0.5, null], \"hoverinfo\": \"none\", \"mode\": \"lines\", \"line\": {\"width\": 2, \"color\": \"rgb(0, 0, 0)\"}}, {\"x\": [0.25, 0.375, null], \"y\": [0.0, 0.5, null], \"hoverinfo\": \"none\", \"mode\": \"lines\", \"line\": {\"width\": 2, \"color\": \"rgb(0, 0, 0)\"}}, {\"x\": [0.0], \"y\": [0.5], \"text\": [], \"textposition\": \"middle center\", \"hoverinfo\": \"none\", \"mode\": \"markers+text\", \"marker\": {\"size\": 20, \"color\": \"rgb(255, 255, 255)\", \"line\": {\"width\": 2, \"color\": \"rgb(0, 0, 0)\"}}, \"textfont\": {\"color\": \"rgb(0, 0, 0)\"}}, {\"x\": [0.25], \"y\": [1.0], \"text\": [], \"textposition\": \"middle center\", \"hoverinfo\": \"none\", \"mode\": \"markers+text\", \"marker\": {\"size\": 20, \"color\": \"rgb(255, 255, 255)\", \"line\": {\"width\": 2, \"color\": \"rgb(0, 0, 0)\"}}, \"textfont\": {\"color\": \"rgb(0, 0, 0)\"}}, {\"x\": [0.5], \"y\": [1.0], \"text\": [], \"textposition\": \"middle center\", \"hoverinfo\": \"none\", \"mode\": \"markers+text\", \"marker\": {\"size\": 20, \"color\": \"rgb(255, 255, 255)\", \"line\": {\"width\": 2, \"color\": \"rgb(0, 0, 0)\"}}, \"textfont\": {\"color\": \"rgb(0, 0, 0)\"}}, {\"x\": [0.75], \"y\": [1.0], \"text\": [], \"textposition\": \"middle center\", \"hoverinfo\": \"none\", \"mode\": \"markers+text\", \"marker\": {\"size\": 20, \"color\": \"rgb(255, 255, 255)\", \"line\": {\"width\": 2, \"color\": \"rgb(0, 0, 0)\"}}, \"textfont\": {\"color\": \"rgb(0, 0, 0)\"}}, {\"x\": [1.0], \"y\": [0.5], \"text\": [], \"textposition\": \"middle center\", \"hoverinfo\": \"none\", \"mode\": \"markers+text\", \"marker\": {\"size\": 20, \"color\": \"rgb(255, 255, 255)\", \"line\": {\"width\": 2, \"color\": \"rgb(0, 0, 0)\"}}, \"textfont\": {\"color\": \"rgb(0, 0, 0)\"}}, {\"x\": [0.75], \"y\": [0.0], \"text\": [], \"textposition\": \"middle center\", \"hoverinfo\": \"none\", \"mode\": \"markers+text\", \"marker\": {\"size\": 20, \"color\": \"rgb(255, 255, 255)\", \"line\": {\"width\": 2, \"color\": \"rgb(0, 0, 0)\"}}, \"textfont\": {\"color\": \"rgb(0, 0, 0)\"}}, {\"x\": [0.5], \"y\": [0.0], \"text\": [], \"textposition\": \"middle center\", \"hoverinfo\": \"none\", \"mode\": \"markers+text\", \"marker\": {\"size\": 20, \"color\": \"rgb(255, 255, 255)\", \"line\": {\"width\": 2, \"color\": \"rgb(0, 0, 0)\"}}, \"textfont\": {\"color\": \"rgb(0, 0, 0)\"}}, {\"x\": [0.25], \"y\": [0.0], \"text\": [], \"textposition\": \"middle center\", \"hoverinfo\": \"none\", \"mode\": \"markers+text\", \"marker\": {\"size\": 20, \"color\": \"rgb(255, 255, 255)\", \"line\": {\"width\": 2, \"color\": \"rgb(0, 0, 0)\"}}, \"textfont\": {\"color\": \"rgb(0, 0, 0)\"}}, {\"x\": [0.375], \"y\": [0.5], \"text\": [], \"textposition\": \"middle center\", \"hoverinfo\": \"none\", \"mode\": \"markers+text\", \"marker\": {\"size\": 20, \"color\": \"rgb(255, 255, 255)\", \"line\": {\"width\": 2, \"color\": \"rgb(0, 0, 0)\"}}, \"textfont\": {\"color\": \"rgb(0, 0, 0)\"}}, {\"x\": [0.08835225700681207, 0.16164774299318793, 0.375, 0.2878787878787879, 0.625, 0.6625594305323629, 0.4750594305323629, 0.911647742993188, 0.7878787878787878, 0.911647742993188, 0.625, 0.375, 0.3999405694676371, 0.2749405694676371], \"y\": [0.768323871496594, 0.268323871496594, 1.0724637681159421, 0.5, 1.0724637681159421, 0.5093898576330907, 0.7406101423669093, 0.768323871496594, 0.5, 0.23167612850340602, -0.07246376811594203, -0.07246376811594203, 0.24061014236690928, 0.2593898576330907], \"text\": [4, 8, 8, 11, 7, 4, 2, 9, 14, 10, 2, 1, 6, 7], \"textposition\": \"middle center\", \"hoverinfo\": \"none\", \"mode\": \"text\", \"textfont\": {\"color\": \"rgb(0, 0, 0)\"}}], \"name\": 25}, {\"data\": [{\"x\": [0.0, 0.25, null], \"y\": [0.5, 1.0, null], \"hoverinfo\": \"none\", \"mode\": \"lines\", \"line\": {\"width\": 2, \"color\": \"rgb(0, 0, 255)\"}}, {\"x\": [0.0, 0.25, null], \"y\": [0.5, 0.0, null], \"hoverinfo\": \"none\", \"mode\": \"lines\", \"line\": {\"width\": 2, \"color\": \"rgb(0, 0, 255)\"}}, {\"x\": [0.25, 0.5, null], \"y\": [1.0, 1.0, null], \"hoverinfo\": \"none\", \"mode\": \"lines\", \"line\": {\"width\": 2, \"color\": \"rgb(0, 0, 0)\"}}, {\"x\": [0.25, 0.25, null], \"y\": [1.0, 0.0, null], \"hoverinfo\": \"none\", \"mode\": \"lines\", \"line\": {\"width\": 2, \"color\": \"rgb(0, 0, 0)\"}}, {\"x\": [0.5, 0.75, null], \"y\": [1.0, 1.0, null], \"hoverinfo\": \"none\", \"mode\": \"lines\", \"line\": {\"width\": 2, \"color\": \"rgb(0, 0, 255)\"}}, {\"x\": [0.5, 0.75, null], \"y\": [1.0, 0.0, null], \"hoverinfo\": \"none\", \"mode\": \"lines\", \"line\": {\"width\": 2, \"color\": \"rgb(0, 0, 255)\"}}, {\"x\": [0.5, 0.375, null], \"y\": [1.0, 0.5, null], \"hoverinfo\": \"none\", \"mode\": \"lines\", \"line\": {\"width\": 2, \"color\": \"rgb(0, 0, 255)\"}}, {\"x\": [0.75, 1.0, null], \"y\": [1.0, 0.5, null], \"hoverinfo\": \"none\", \"mode\": \"lines\", \"line\": {\"width\": 2, \"color\": \"rgb(0, 0, 255)\"}}, {\"x\": [0.75, 0.75, null], \"y\": [1.0, 0.0, null], \"hoverinfo\": \"none\", \"mode\": \"lines\", \"line\": {\"width\": 2, \"color\": \"rgb(0, 0, 0)\"}}, {\"x\": [1.0, 0.75, null], \"y\": [0.5, 0.0, null], \"hoverinfo\": \"none\", \"mode\": \"lines\", \"line\": {\"width\": 2, \"color\": \"rgb(0, 0, 0)\"}}, {\"x\": [0.75, 0.5, null], \"y\": [0.0, 0.0, null], \"hoverinfo\": \"none\", \"mode\": \"lines\", \"line\": {\"width\": 2, \"color\": \"rgb(0, 0, 255)\"}}, {\"x\": [0.5, 0.25, null], \"y\": [0.0, 0.0, null], \"hoverinfo\": \"none\", \"mode\": \"lines\", \"line\": {\"width\": 2, \"color\": \"rgb(0, 0, 255)\"}}, {\"x\": [0.5, 0.375, null], \"y\": [0.0, 0.5, null], \"hoverinfo\": \"none\", \"mode\": \"lines\", \"line\": {\"width\": 2, \"color\": \"rgb(0, 0, 0)\"}}, {\"x\": [0.25, 0.375, null], \"y\": [0.0, 0.5, null], \"hoverinfo\": \"none\", \"mode\": \"lines\", \"line\": {\"width\": 2, \"color\": \"rgb(0, 0, 0)\"}}, {\"x\": [0.0], \"y\": [0.5], \"text\": [], \"textposition\": \"middle center\", \"hoverinfo\": \"none\", \"mode\": \"markers+text\", \"marker\": {\"size\": 20, \"color\": \"rgb(255, 255, 255)\", \"line\": {\"width\": 2, \"color\": \"rgb(0, 0, 0)\"}}, \"textfont\": {\"color\": \"rgb(0, 0, 0)\"}}, {\"x\": [0.25], \"y\": [1.0], \"text\": [], \"textposition\": \"middle center\", \"hoverinfo\": \"none\", \"mode\": \"markers+text\", \"marker\": {\"size\": 20, \"color\": \"rgb(255, 255, 255)\", \"line\": {\"width\": 2, \"color\": \"rgb(0, 0, 0)\"}}, \"textfont\": {\"color\": \"rgb(0, 0, 0)\"}}, {\"x\": [0.5], \"y\": [1.0], \"text\": [], \"textposition\": \"middle center\", \"hoverinfo\": \"none\", \"mode\": \"markers+text\", \"marker\": {\"size\": 20, \"color\": \"rgb(255, 255, 255)\", \"line\": {\"width\": 2, \"color\": \"rgb(0, 0, 0)\"}}, \"textfont\": {\"color\": \"rgb(0, 0, 0)\"}}, {\"x\": [0.75], \"y\": [1.0], \"text\": [], \"textposition\": \"middle center\", \"hoverinfo\": \"none\", \"mode\": \"markers+text\", \"marker\": {\"size\": 20, \"color\": \"rgb(255, 255, 255)\", \"line\": {\"width\": 2, \"color\": \"rgb(0, 0, 0)\"}}, \"textfont\": {\"color\": \"rgb(0, 0, 0)\"}}, {\"x\": [1.0], \"y\": [0.5], \"text\": [], \"textposition\": \"middle center\", \"hoverinfo\": \"none\", \"mode\": \"markers+text\", \"marker\": {\"size\": 20, \"color\": \"rgb(255, 255, 255)\", \"line\": {\"width\": 2, \"color\": \"rgb(0, 0, 0)\"}}, \"textfont\": {\"color\": \"rgb(0, 0, 0)\"}}, {\"x\": [0.75], \"y\": [0.0], \"text\": [], \"textposition\": \"middle center\", \"hoverinfo\": \"none\", \"mode\": \"markers+text\", \"marker\": {\"size\": 20, \"color\": \"rgb(255, 255, 255)\", \"line\": {\"width\": 2, \"color\": \"rgb(0, 0, 0)\"}}, \"textfont\": {\"color\": \"rgb(0, 0, 0)\"}}, {\"x\": [0.5], \"y\": [0.0], \"text\": [], \"textposition\": \"middle center\", \"hoverinfo\": \"none\", \"mode\": \"markers+text\", \"marker\": {\"size\": 20, \"color\": \"rgb(255, 255, 255)\", \"line\": {\"width\": 2, \"color\": \"rgb(0, 0, 0)\"}}, \"textfont\": {\"color\": \"rgb(0, 0, 0)\"}}, {\"x\": [0.25], \"y\": [0.0], \"text\": [], \"textposition\": \"middle center\", \"hoverinfo\": \"none\", \"mode\": \"markers+text\", \"marker\": {\"size\": 20, \"color\": \"rgb(255, 255, 255)\", \"line\": {\"width\": 2, \"color\": \"rgb(0, 0, 0)\"}}, \"textfont\": {\"color\": \"rgb(0, 0, 0)\"}}, {\"x\": [0.375], \"y\": [0.5], \"text\": [], \"textposition\": \"middle center\", \"hoverinfo\": \"none\", \"mode\": \"markers+text\", \"marker\": {\"size\": 20, \"color\": \"rgb(255, 255, 255)\", \"line\": {\"width\": 2, \"color\": \"rgb(0, 0, 0)\"}}, \"textfont\": {\"color\": \"rgb(0, 0, 0)\"}}, {\"x\": [0.08835225700681207, 0.16164774299318793, 0.375, 0.2878787878787879, 0.625, 0.6625594305323629, 0.4750594305323629, 0.911647742993188, 0.7878787878787878, 0.911647742993188, 0.625, 0.375, 0.3999405694676371, 0.2749405694676371], \"y\": [0.768323871496594, 0.268323871496594, 1.0724637681159421, 0.5, 1.0724637681159421, 0.5093898576330907, 0.7406101423669093, 0.768323871496594, 0.5, 0.23167612850340602, -0.07246376811594203, -0.07246376811594203, 0.24061014236690928, 0.2593898576330907], \"text\": [4, 8, 8, 11, 7, 4, 2, 9, 14, 10, 2, 1, 6, 7], \"textposition\": \"middle center\", \"hoverinfo\": \"none\", \"mode\": \"text\", \"textfont\": {\"color\": \"rgb(0, 0, 0)\"}}], \"name\": 26}, {\"data\": [{\"x\": [0.0, 0.25, null], \"y\": [0.5, 1.0, null], \"hoverinfo\": \"none\", \"mode\": \"lines\", \"line\": {\"width\": 2, \"color\": \"rgb(0, 0, 255)\"}}, {\"x\": [0.0, 0.25, null], \"y\": [0.5, 0.0, null], \"hoverinfo\": \"none\", \"mode\": \"lines\", \"line\": {\"width\": 2, \"color\": \"rgb(0, 0, 255)\"}}, {\"x\": [0.25, 0.5, null], \"y\": [1.0, 1.0, null], \"hoverinfo\": \"none\", \"mode\": \"lines\", \"line\": {\"width\": 2, \"color\": \"rgb(0, 0, 0)\"}}, {\"x\": [0.25, 0.25, null], \"y\": [1.0, 0.0, null], \"hoverinfo\": \"none\", \"mode\": \"lines\", \"line\": {\"width\": 2, \"color\": \"rgb(0, 0, 0)\"}}, {\"x\": [0.5, 0.75, null], \"y\": [1.0, 1.0, null], \"hoverinfo\": \"none\", \"mode\": \"lines\", \"line\": {\"width\": 2, \"color\": \"rgb(0, 0, 255)\"}}, {\"x\": [0.5, 0.75, null], \"y\": [1.0, 0.0, null], \"hoverinfo\": \"none\", \"mode\": \"lines\", \"line\": {\"width\": 2, \"color\": \"rgb(0, 0, 255)\"}}, {\"x\": [0.5, 0.375, null], \"y\": [1.0, 0.5, null], \"hoverinfo\": \"none\", \"mode\": \"lines\", \"line\": {\"width\": 2, \"color\": \"rgb(0, 0, 255)\"}}, {\"x\": [0.75, 1.0, null], \"y\": [1.0, 0.5, null], \"hoverinfo\": \"none\", \"mode\": \"lines\", \"line\": {\"width\": 2, \"color\": \"rgb(0, 0, 255)\"}}, {\"x\": [0.75, 0.75, null], \"y\": [1.0, 0.0, null], \"hoverinfo\": \"none\", \"mode\": \"lines\", \"line\": {\"width\": 2, \"color\": \"rgb(255, 0, 0)\"}}, {\"x\": [1.0, 0.75, null], \"y\": [0.5, 0.0, null], \"hoverinfo\": \"none\", \"mode\": \"lines\", \"line\": {\"width\": 2, \"color\": \"rgb(0, 0, 0)\"}}, {\"x\": [0.75, 0.5, null], \"y\": [0.0, 0.0, null], \"hoverinfo\": \"none\", \"mode\": \"lines\", \"line\": {\"width\": 2, \"color\": \"rgb(0, 0, 255)\"}}, {\"x\": [0.5, 0.25, null], \"y\": [0.0, 0.0, null], \"hoverinfo\": \"none\", \"mode\": \"lines\", \"line\": {\"width\": 2, \"color\": \"rgb(0, 0, 255)\"}}, {\"x\": [0.5, 0.375, null], \"y\": [0.0, 0.5, null], \"hoverinfo\": \"none\", \"mode\": \"lines\", \"line\": {\"width\": 2, \"color\": \"rgb(0, 0, 0)\"}}, {\"x\": [0.25, 0.375, null], \"y\": [0.0, 0.5, null], \"hoverinfo\": \"none\", \"mode\": \"lines\", \"line\": {\"width\": 2, \"color\": \"rgb(0, 0, 0)\"}}, {\"x\": [0.0], \"y\": [0.5], \"text\": [], \"textposition\": \"middle center\", \"hoverinfo\": \"none\", \"mode\": \"markers+text\", \"marker\": {\"size\": 20, \"color\": \"rgb(255, 255, 255)\", \"line\": {\"width\": 2, \"color\": \"rgb(0, 0, 0)\"}}, \"textfont\": {\"color\": \"rgb(0, 0, 0)\"}}, {\"x\": [0.25], \"y\": [1.0], \"text\": [], \"textposition\": \"middle center\", \"hoverinfo\": \"none\", \"mode\": \"markers+text\", \"marker\": {\"size\": 20, \"color\": \"rgb(255, 255, 255)\", \"line\": {\"width\": 2, \"color\": \"rgb(0, 0, 0)\"}}, \"textfont\": {\"color\": \"rgb(0, 0, 0)\"}}, {\"x\": [0.5], \"y\": [1.0], \"text\": [], \"textposition\": \"middle center\", \"hoverinfo\": \"none\", \"mode\": \"markers+text\", \"marker\": {\"size\": 20, \"color\": \"rgb(255, 255, 255)\", \"line\": {\"width\": 2, \"color\": \"rgb(0, 0, 0)\"}}, \"textfont\": {\"color\": \"rgb(0, 0, 0)\"}}, {\"x\": [0.75], \"y\": [1.0], \"text\": [], \"textposition\": \"middle center\", \"hoverinfo\": \"none\", \"mode\": \"markers+text\", \"marker\": {\"size\": 20, \"color\": \"rgb(255, 255, 255)\", \"line\": {\"width\": 2, \"color\": \"rgb(0, 0, 0)\"}}, \"textfont\": {\"color\": \"rgb(0, 0, 0)\"}}, {\"x\": [1.0], \"y\": [0.5], \"text\": [], \"textposition\": \"middle center\", \"hoverinfo\": \"none\", \"mode\": \"markers+text\", \"marker\": {\"size\": 20, \"color\": \"rgb(255, 255, 255)\", \"line\": {\"width\": 2, \"color\": \"rgb(0, 0, 0)\"}}, \"textfont\": {\"color\": \"rgb(0, 0, 0)\"}}, {\"x\": [0.75], \"y\": [0.0], \"text\": [], \"textposition\": \"middle center\", \"hoverinfo\": \"none\", \"mode\": \"markers+text\", \"marker\": {\"size\": 20, \"color\": \"rgb(255, 255, 255)\", \"line\": {\"width\": 2, \"color\": \"rgb(0, 0, 0)\"}}, \"textfont\": {\"color\": \"rgb(0, 0, 0)\"}}, {\"x\": [0.5], \"y\": [0.0], \"text\": [], \"textposition\": \"middle center\", \"hoverinfo\": \"none\", \"mode\": \"markers+text\", \"marker\": {\"size\": 20, \"color\": \"rgb(255, 255, 255)\", \"line\": {\"width\": 2, \"color\": \"rgb(0, 0, 0)\"}}, \"textfont\": {\"color\": \"rgb(0, 0, 0)\"}}, {\"x\": [0.25], \"y\": [0.0], \"text\": [], \"textposition\": \"middle center\", \"hoverinfo\": \"none\", \"mode\": \"markers+text\", \"marker\": {\"size\": 20, \"color\": \"rgb(255, 255, 255)\", \"line\": {\"width\": 2, \"color\": \"rgb(0, 0, 0)\"}}, \"textfont\": {\"color\": \"rgb(0, 0, 0)\"}}, {\"x\": [0.375], \"y\": [0.5], \"text\": [], \"textposition\": \"middle center\", \"hoverinfo\": \"none\", \"mode\": \"markers+text\", \"marker\": {\"size\": 20, \"color\": \"rgb(255, 255, 255)\", \"line\": {\"width\": 2, \"color\": \"rgb(0, 0, 0)\"}}, \"textfont\": {\"color\": \"rgb(0, 0, 0)\"}}, {\"x\": [0.08835225700681207, 0.16164774299318793, 0.375, 0.2878787878787879, 0.625, 0.6625594305323629, 0.4750594305323629, 0.911647742993188, 0.7878787878787878, 0.911647742993188, 0.625, 0.375, 0.3999405694676371, 0.2749405694676371], \"y\": [0.768323871496594, 0.268323871496594, 1.0724637681159421, 0.5, 1.0724637681159421, 0.5093898576330907, 0.7406101423669093, 0.768323871496594, 0.5, 0.23167612850340602, -0.07246376811594203, -0.07246376811594203, 0.24061014236690928, 0.2593898576330907], \"text\": [4, 8, 8, 11, 7, 4, 2, 9, 14, 10, 2, 1, 6, 7], \"textposition\": \"middle center\", \"hoverinfo\": \"none\", \"mode\": \"text\", \"textfont\": {\"color\": \"rgb(0, 0, 0)\"}}], \"name\": 27}, {\"data\": [{\"x\": [0.0, 0.25, null], \"y\": [0.5, 1.0, null], \"hoverinfo\": \"none\", \"mode\": \"lines\", \"line\": {\"width\": 2, \"color\": \"rgb(0, 0, 255)\"}}, {\"x\": [0.0, 0.25, null], \"y\": [0.5, 0.0, null], \"hoverinfo\": \"none\", \"mode\": \"lines\", \"line\": {\"width\": 2, \"color\": \"rgb(0, 0, 255)\"}}, {\"x\": [0.25, 0.5, null], \"y\": [1.0, 1.0, null], \"hoverinfo\": \"none\", \"mode\": \"lines\", \"line\": {\"width\": 2, \"color\": \"rgb(0, 0, 0)\"}}, {\"x\": [0.25, 0.25, null], \"y\": [1.0, 0.0, null], \"hoverinfo\": \"none\", \"mode\": \"lines\", \"line\": {\"width\": 2, \"color\": \"rgb(0, 0, 0)\"}}, {\"x\": [0.5, 0.75, null], \"y\": [1.0, 1.0, null], \"hoverinfo\": \"none\", \"mode\": \"lines\", \"line\": {\"width\": 2, \"color\": \"rgb(0, 0, 255)\"}}, {\"x\": [0.5, 0.75, null], \"y\": [1.0, 0.0, null], \"hoverinfo\": \"none\", \"mode\": \"lines\", \"line\": {\"width\": 2, \"color\": \"rgb(0, 0, 255)\"}}, {\"x\": [0.5, 0.375, null], \"y\": [1.0, 0.5, null], \"hoverinfo\": \"none\", \"mode\": \"lines\", \"line\": {\"width\": 2, \"color\": \"rgb(0, 0, 255)\"}}, {\"x\": [0.75, 1.0, null], \"y\": [1.0, 0.5, null], \"hoverinfo\": \"none\", \"mode\": \"lines\", \"line\": {\"width\": 2, \"color\": \"rgb(0, 0, 255)\"}}, {\"x\": [0.75, 0.75, null], \"y\": [1.0, 0.0, null], \"hoverinfo\": \"none\", \"mode\": \"lines\", \"line\": {\"width\": 2, \"color\": \"rgb(0, 0, 0)\"}}, {\"x\": [1.0, 0.75, null], \"y\": [0.5, 0.0, null], \"hoverinfo\": \"none\", \"mode\": \"lines\", \"line\": {\"width\": 2, \"color\": \"rgb(0, 0, 0)\"}}, {\"x\": [0.75, 0.5, null], \"y\": [0.0, 0.0, null], \"hoverinfo\": \"none\", \"mode\": \"lines\", \"line\": {\"width\": 2, \"color\": \"rgb(0, 0, 255)\"}}, {\"x\": [0.5, 0.25, null], \"y\": [0.0, 0.0, null], \"hoverinfo\": \"none\", \"mode\": \"lines\", \"line\": {\"width\": 2, \"color\": \"rgb(0, 0, 255)\"}}, {\"x\": [0.5, 0.375, null], \"y\": [0.0, 0.5, null], \"hoverinfo\": \"none\", \"mode\": \"lines\", \"line\": {\"width\": 2, \"color\": \"rgb(0, 0, 0)\"}}, {\"x\": [0.25, 0.375, null], \"y\": [0.0, 0.5, null], \"hoverinfo\": \"none\", \"mode\": \"lines\", \"line\": {\"width\": 2, \"color\": \"rgb(0, 0, 0)\"}}, {\"x\": [0.0], \"y\": [0.5], \"text\": [], \"textposition\": \"middle center\", \"hoverinfo\": \"none\", \"mode\": \"markers+text\", \"marker\": {\"size\": 20, \"color\": \"rgb(255, 255, 255)\", \"line\": {\"width\": 2, \"color\": \"rgb(0, 0, 0)\"}}, \"textfont\": {\"color\": \"rgb(0, 0, 0)\"}}, {\"x\": [0.25], \"y\": [1.0], \"text\": [], \"textposition\": \"middle center\", \"hoverinfo\": \"none\", \"mode\": \"markers+text\", \"marker\": {\"size\": 20, \"color\": \"rgb(255, 255, 255)\", \"line\": {\"width\": 2, \"color\": \"rgb(0, 0, 0)\"}}, \"textfont\": {\"color\": \"rgb(0, 0, 0)\"}}, {\"x\": [0.5], \"y\": [1.0], \"text\": [], \"textposition\": \"middle center\", \"hoverinfo\": \"none\", \"mode\": \"markers+text\", \"marker\": {\"size\": 20, \"color\": \"rgb(255, 255, 255)\", \"line\": {\"width\": 2, \"color\": \"rgb(0, 0, 0)\"}}, \"textfont\": {\"color\": \"rgb(0, 0, 0)\"}}, {\"x\": [0.75], \"y\": [1.0], \"text\": [], \"textposition\": \"middle center\", \"hoverinfo\": \"none\", \"mode\": \"markers+text\", \"marker\": {\"size\": 20, \"color\": \"rgb(255, 255, 255)\", \"line\": {\"width\": 2, \"color\": \"rgb(0, 0, 0)\"}}, \"textfont\": {\"color\": \"rgb(0, 0, 0)\"}}, {\"x\": [1.0], \"y\": [0.5], \"text\": [], \"textposition\": \"middle center\", \"hoverinfo\": \"none\", \"mode\": \"markers+text\", \"marker\": {\"size\": 20, \"color\": \"rgb(255, 255, 255)\", \"line\": {\"width\": 2, \"color\": \"rgb(0, 0, 0)\"}}, \"textfont\": {\"color\": \"rgb(0, 0, 0)\"}}, {\"x\": [0.75], \"y\": [0.0], \"text\": [], \"textposition\": \"middle center\", \"hoverinfo\": \"none\", \"mode\": \"markers+text\", \"marker\": {\"size\": 20, \"color\": \"rgb(255, 255, 255)\", \"line\": {\"width\": 2, \"color\": \"rgb(0, 0, 0)\"}}, \"textfont\": {\"color\": \"rgb(0, 0, 0)\"}}, {\"x\": [0.5], \"y\": [0.0], \"text\": [], \"textposition\": \"middle center\", \"hoverinfo\": \"none\", \"mode\": \"markers+text\", \"marker\": {\"size\": 20, \"color\": \"rgb(255, 255, 255)\", \"line\": {\"width\": 2, \"color\": \"rgb(0, 0, 0)\"}}, \"textfont\": {\"color\": \"rgb(0, 0, 0)\"}}, {\"x\": [0.25], \"y\": [0.0], \"text\": [], \"textposition\": \"middle center\", \"hoverinfo\": \"none\", \"mode\": \"markers+text\", \"marker\": {\"size\": 20, \"color\": \"rgb(255, 255, 255)\", \"line\": {\"width\": 2, \"color\": \"rgb(0, 0, 0)\"}}, \"textfont\": {\"color\": \"rgb(0, 0, 0)\"}}, {\"x\": [0.375], \"y\": [0.5], \"text\": [], \"textposition\": \"middle center\", \"hoverinfo\": \"none\", \"mode\": \"markers+text\", \"marker\": {\"size\": 20, \"color\": \"rgb(255, 255, 255)\", \"line\": {\"width\": 2, \"color\": \"rgb(0, 0, 0)\"}}, \"textfont\": {\"color\": \"rgb(0, 0, 0)\"}}, {\"x\": [0.08835225700681207, 0.16164774299318793, 0.375, 0.2878787878787879, 0.625, 0.6625594305323629, 0.4750594305323629, 0.911647742993188, 0.7878787878787878, 0.911647742993188, 0.625, 0.375, 0.3999405694676371, 0.2749405694676371], \"y\": [0.768323871496594, 0.268323871496594, 1.0724637681159421, 0.5, 1.0724637681159421, 0.5093898576330907, 0.7406101423669093, 0.768323871496594, 0.5, 0.23167612850340602, -0.07246376811594203, -0.07246376811594203, 0.24061014236690928, 0.2593898576330907], \"text\": [4, 8, 8, 11, 7, 4, 2, 9, 14, 10, 2, 1, 6, 7], \"textposition\": \"middle center\", \"hoverinfo\": \"none\", \"mode\": \"text\", \"textfont\": {\"color\": \"rgb(0, 0, 0)\"}}], \"name\": 28}]);}).then(function(){Plotly.animate('40724d05-1f7f-48c6-97f5-8047f3cc8dd9');})\n",
       "        });</script>"
      ],
      "text/vnd.plotly.v1+html": [
       "<div id=\"40724d05-1f7f-48c6-97f5-8047f3cc8dd9\" style=\"height: 256.0px; width: 408.0px;\" class=\"plotly-graph-div\"></div><script type=\"text/javascript\">require([\"plotly\"], function(Plotly) { window.PLOTLYENV=window.PLOTLYENV || {};window.PLOTLYENV.BASE_URL=\"https://plot.ly\";\n",
       "        Plotly.plot(\n",
       "            '40724d05-1f7f-48c6-97f5-8047f3cc8dd9',\n",
       "            [{\"x\": [0.0, 0.25, null], \"y\": [0.5, 1.0, null], \"hoverinfo\": \"none\", \"mode\": \"lines\", \"line\": {\"width\": 2, \"color\": \"rgb(0, 0, 0)\"}}, {\"x\": [0.0, 0.25, null], \"y\": [0.5, 0.0, null], \"hoverinfo\": \"none\", \"mode\": \"lines\", \"line\": {\"width\": 2, \"color\": \"rgb(0, 0, 0)\"}}, {\"x\": [0.25, 0.5, null], \"y\": [1.0, 1.0, null], \"hoverinfo\": \"none\", \"mode\": \"lines\", \"line\": {\"width\": 2, \"color\": \"rgb(0, 0, 0)\"}}, {\"x\": [0.25, 0.25, null], \"y\": [1.0, 0.0, null], \"hoverinfo\": \"none\", \"mode\": \"lines\", \"line\": {\"width\": 2, \"color\": \"rgb(0, 0, 0)\"}}, {\"x\": [0.5, 0.75, null], \"y\": [1.0, 1.0, null], \"hoverinfo\": \"none\", \"mode\": \"lines\", \"line\": {\"width\": 2, \"color\": \"rgb(0, 0, 0)\"}}, {\"x\": [0.5, 0.75, null], \"y\": [1.0, 0.0, null], \"hoverinfo\": \"none\", \"mode\": \"lines\", \"line\": {\"width\": 2, \"color\": \"rgb(0, 0, 0)\"}}, {\"x\": [0.5, 0.375, null], \"y\": [1.0, 0.5, null], \"hoverinfo\": \"none\", \"mode\": \"lines\", \"line\": {\"width\": 2, \"color\": \"rgb(0, 0, 0)\"}}, {\"x\": [0.75, 1.0, null], \"y\": [1.0, 0.5, null], \"hoverinfo\": \"none\", \"mode\": \"lines\", \"line\": {\"width\": 2, \"color\": \"rgb(0, 0, 0)\"}}, {\"x\": [0.75, 0.75, null], \"y\": [1.0, 0.0, null], \"hoverinfo\": \"none\", \"mode\": \"lines\", \"line\": {\"width\": 2, \"color\": \"rgb(0, 0, 0)\"}}, {\"x\": [1.0, 0.75, null], \"y\": [0.5, 0.0, null], \"hoverinfo\": \"none\", \"mode\": \"lines\", \"line\": {\"width\": 2, \"color\": \"rgb(0, 0, 0)\"}}, {\"x\": [0.75, 0.5, null], \"y\": [0.0, 0.0, null], \"hoverinfo\": \"none\", \"mode\": \"lines\", \"line\": {\"width\": 2, \"color\": \"rgb(0, 0, 0)\"}}, {\"x\": [0.5, 0.25, null], \"y\": [0.0, 0.0, null], \"hoverinfo\": \"none\", \"mode\": \"lines\", \"line\": {\"width\": 2, \"color\": \"rgb(0, 0, 0)\"}}, {\"x\": [0.5, 0.375, null], \"y\": [0.0, 0.5, null], \"hoverinfo\": \"none\", \"mode\": \"lines\", \"line\": {\"width\": 2, \"color\": \"rgb(0, 0, 0)\"}}, {\"x\": [0.25, 0.375, null], \"y\": [0.0, 0.5, null], \"hoverinfo\": \"none\", \"mode\": \"lines\", \"line\": {\"width\": 2, \"color\": \"rgb(0, 0, 0)\"}}, {\"x\": [0.0], \"y\": [0.5], \"text\": [], \"textposition\": \"middle center\", \"hoverinfo\": \"none\", \"mode\": \"markers+text\", \"marker\": {\"size\": 20, \"color\": \"rgb(255, 255, 255)\", \"line\": {\"width\": 2, \"color\": \"rgb(0, 0, 0)\"}}, \"textfont\": {\"color\": \"rgb(0, 0, 0)\"}}, {\"x\": [0.25], \"y\": [1.0], \"text\": [], \"textposition\": \"middle center\", \"hoverinfo\": \"none\", \"mode\": \"markers+text\", \"marker\": {\"size\": 20, \"color\": \"rgb(255, 255, 255)\", \"line\": {\"width\": 2, \"color\": \"rgb(0, 0, 0)\"}}, \"textfont\": {\"color\": \"rgb(0, 0, 0)\"}}, {\"x\": [0.5], \"y\": [1.0], \"text\": [], \"textposition\": \"middle center\", \"hoverinfo\": \"none\", \"mode\": \"markers+text\", \"marker\": {\"size\": 20, \"color\": \"rgb(255, 255, 255)\", \"line\": {\"width\": 2, \"color\": \"rgb(0, 0, 0)\"}}, \"textfont\": {\"color\": \"rgb(0, 0, 0)\"}}, {\"x\": [0.75], \"y\": [1.0], \"text\": [], \"textposition\": \"middle center\", \"hoverinfo\": \"none\", \"mode\": \"markers+text\", \"marker\": {\"size\": 20, \"color\": \"rgb(255, 255, 255)\", \"line\": {\"width\": 2, \"color\": \"rgb(0, 0, 0)\"}}, \"textfont\": {\"color\": \"rgb(0, 0, 0)\"}}, {\"x\": [1.0], \"y\": [0.5], \"text\": [], \"textposition\": \"middle center\", \"hoverinfo\": \"none\", \"mode\": \"markers+text\", \"marker\": {\"size\": 20, \"color\": \"rgb(255, 255, 255)\", \"line\": {\"width\": 2, \"color\": \"rgb(0, 0, 0)\"}}, \"textfont\": {\"color\": \"rgb(0, 0, 0)\"}}, {\"x\": [0.75], \"y\": [0.0], \"text\": [], \"textposition\": \"middle center\", \"hoverinfo\": \"none\", \"mode\": \"markers+text\", \"marker\": {\"size\": 20, \"color\": \"rgb(255, 255, 255)\", \"line\": {\"width\": 2, \"color\": \"rgb(0, 0, 0)\"}}, \"textfont\": {\"color\": \"rgb(0, 0, 0)\"}}, {\"x\": [0.5], \"y\": [0.0], \"text\": [], \"textposition\": \"middle center\", \"hoverinfo\": \"none\", \"mode\": \"markers+text\", \"marker\": {\"size\": 20, \"color\": \"rgb(255, 255, 255)\", \"line\": {\"width\": 2, \"color\": \"rgb(0, 0, 0)\"}}, \"textfont\": {\"color\": \"rgb(0, 0, 0)\"}}, {\"x\": [0.25], \"y\": [0.0], \"text\": [], \"textposition\": \"middle center\", \"hoverinfo\": \"none\", \"mode\": \"markers+text\", \"marker\": {\"size\": 20, \"color\": \"rgb(255, 255, 255)\", \"line\": {\"width\": 2, \"color\": \"rgb(0, 0, 0)\"}}, \"textfont\": {\"color\": \"rgb(0, 0, 0)\"}}, {\"x\": [0.375], \"y\": [0.5], \"text\": [], \"textposition\": \"middle center\", \"hoverinfo\": \"none\", \"mode\": \"markers+text\", \"marker\": {\"size\": 20, \"color\": \"rgb(255, 255, 255)\", \"line\": {\"width\": 2, \"color\": \"rgb(0, 0, 0)\"}}, \"textfont\": {\"color\": \"rgb(0, 0, 0)\"}}, {\"x\": [0.08835225700681207, 0.16164774299318793, 0.375, 0.2878787878787879, 0.625, 0.6625594305323629, 0.4750594305323629, 0.911647742993188, 0.7878787878787878, 0.911647742993188, 0.625, 0.375, 0.3999405694676371, 0.2749405694676371], \"y\": [0.768323871496594, 0.268323871496594, 1.0724637681159421, 0.5, 1.0724637681159421, 0.5093898576330907, 0.7406101423669093, 0.768323871496594, 0.5, 0.23167612850340602, -0.07246376811594203, -0.07246376811594203, 0.24061014236690928, 0.2593898576330907], \"text\": [4, 8, 8, 11, 7, 4, 2, 9, 14, 10, 2, 1, 6, 7], \"textposition\": \"middle center\", \"hoverinfo\": \"none\", \"mode\": \"text\", \"textfont\": {\"color\": \"rgb(0, 0, 0)\"}}],\n",
       "            {\"showlegend\": false, \"width\": 408.0, \"height\": 256.0, \"margin\": {\"b\": 0, \"l\": 0, \"r\": 0, \"t\": 0}, \"xaxis\": {\"showgrid\": false, \"zeroline\": false, \"showticklabels\": false}, \"yaxis\": {\"showgrid\": false, \"zeroline\": false, \"showticklabels\": false}, \"updatemenus\": [{\"buttons\": [{\"args\": [null, {\"frame\": {\"redraw\": false}, \"fromcurrent\": true}], \"label\": \"Play\", \"method\": \"animate\"}, {\"args\": [[null], {\"frame\": {\"redraw\": false}, \"mode\": \"immediate\"}], \"label\": \"Pause\", \"method\": \"animate\"}], \"showactive\": true, \"type\": \"buttons\"}], \"sliders\": [{\"currentvalue\": {\"visible\": false}, \"steps\": [{\"args\": [[0], {\"frame\": {\"redraw\": false}, \"mode\": \"immediate\"}], \"label\": \"\", \"method\": \"animate\"}, {\"args\": [[1], {\"frame\": {\"redraw\": false}, \"mode\": \"immediate\"}], \"label\": \"\", \"method\": \"animate\"}, {\"args\": [[2], {\"frame\": {\"redraw\": false}, \"mode\": \"immediate\"}], \"label\": \"\", \"method\": \"animate\"}, {\"args\": [[3], {\"frame\": {\"redraw\": false}, \"mode\": \"immediate\"}], \"label\": \"\", \"method\": \"animate\"}, {\"args\": [[4], {\"frame\": {\"redraw\": false}, \"mode\": \"immediate\"}], \"label\": \"\", \"method\": \"animate\"}, {\"args\": [[5], {\"frame\": {\"redraw\": false}, \"mode\": \"immediate\"}], \"label\": \"\", \"method\": \"animate\"}, {\"args\": [[6], {\"frame\": {\"redraw\": false}, \"mode\": \"immediate\"}], \"label\": \"\", \"method\": \"animate\"}, {\"args\": [[7], {\"frame\": {\"redraw\": false}, \"mode\": \"immediate\"}], \"label\": \"\", \"method\": \"animate\"}, {\"args\": [[8], {\"frame\": {\"redraw\": false}, \"mode\": \"immediate\"}], \"label\": \"\", \"method\": \"animate\"}, {\"args\": [[9], {\"frame\": {\"redraw\": false}, \"mode\": \"immediate\"}], \"label\": \"\", \"method\": \"animate\"}, {\"args\": [[10], {\"frame\": {\"redraw\": false}, \"mode\": \"immediate\"}], \"label\": \"\", \"method\": \"animate\"}, {\"args\": [[11], {\"frame\": {\"redraw\": false}, \"mode\": \"immediate\"}], \"label\": \"\", \"method\": \"animate\"}, {\"args\": [[12], {\"frame\": {\"redraw\": false}, \"mode\": \"immediate\"}], \"label\": \"\", \"method\": \"animate\"}, {\"args\": [[13], {\"frame\": {\"redraw\": false}, \"mode\": \"immediate\"}], \"label\": \"\", \"method\": \"animate\"}, {\"args\": [[14], {\"frame\": {\"redraw\": false}, \"mode\": \"immediate\"}], \"label\": \"\", \"method\": \"animate\"}, {\"args\": [[15], {\"frame\": {\"redraw\": false}, \"mode\": \"immediate\"}], \"label\": \"\", \"method\": \"animate\"}, {\"args\": [[16], {\"frame\": {\"redraw\": false}, \"mode\": \"immediate\"}], \"label\": \"\", \"method\": \"animate\"}, {\"args\": [[17], {\"frame\": {\"redraw\": false}, \"mode\": \"immediate\"}], \"label\": \"\", \"method\": \"animate\"}, {\"args\": [[18], {\"frame\": {\"redraw\": false}, \"mode\": \"immediate\"}], \"label\": \"\", \"method\": \"animate\"}, {\"args\": [[19], {\"frame\": {\"redraw\": false}, \"mode\": \"immediate\"}], \"label\": \"\", \"method\": \"animate\"}, {\"args\": [[20], {\"frame\": {\"redraw\": false}, \"mode\": \"immediate\"}], \"label\": \"\", \"method\": \"animate\"}, {\"args\": [[21], {\"frame\": {\"redraw\": false}, \"mode\": \"immediate\"}], \"label\": \"\", \"method\": \"animate\"}, {\"args\": [[22], {\"frame\": {\"redraw\": false}, \"mode\": \"immediate\"}], \"label\": \"\", \"method\": \"animate\"}, {\"args\": [[23], {\"frame\": {\"redraw\": false}, \"mode\": \"immediate\"}], \"label\": \"\", \"method\": \"animate\"}, {\"args\": [[24], {\"frame\": {\"redraw\": false}, \"mode\": \"immediate\"}], \"label\": \"\", \"method\": \"animate\"}, {\"args\": [[25], {\"frame\": {\"redraw\": false}, \"mode\": \"immediate\"}], \"label\": \"\", \"method\": \"animate\"}, {\"args\": [[26], {\"frame\": {\"redraw\": false}, \"mode\": \"immediate\"}], \"label\": \"\", \"method\": \"animate\"}, {\"args\": [[27], {\"frame\": {\"redraw\": false}, \"mode\": \"immediate\"}], \"label\": \"\", \"method\": \"animate\"}, {\"args\": [[28], {\"frame\": {\"redraw\": false}, \"mode\": \"immediate\"}], \"label\": \"\", \"method\": \"animate\"}]}]},\n",
       "            {\"showLink\": false, \"linkText\": \"Export to plot.ly\", \"displayModeBar\": false}\n",
       "        ).then(function () {return Plotly.addFrames('40724d05-1f7f-48c6-97f5-8047f3cc8dd9',[{\"data\": [{\"x\": [0.0, 0.25, null], \"y\": [0.5, 1.0, null], \"hoverinfo\": \"none\", \"mode\": \"lines\", \"line\": {\"width\": 2, \"color\": \"rgb(0, 0, 0)\"}}, {\"x\": [0.0, 0.25, null], \"y\": [0.5, 0.0, null], \"hoverinfo\": \"none\", \"mode\": \"lines\", \"line\": {\"width\": 2, \"color\": \"rgb(0, 0, 0)\"}}, {\"x\": [0.25, 0.5, null], \"y\": [1.0, 1.0, null], \"hoverinfo\": \"none\", \"mode\": \"lines\", \"line\": {\"width\": 2, \"color\": \"rgb(0, 0, 0)\"}}, {\"x\": [0.25, 0.25, null], \"y\": [1.0, 0.0, null], \"hoverinfo\": \"none\", \"mode\": \"lines\", \"line\": {\"width\": 2, \"color\": \"rgb(0, 0, 0)\"}}, {\"x\": [0.5, 0.75, null], \"y\": [1.0, 1.0, null], \"hoverinfo\": \"none\", \"mode\": \"lines\", \"line\": {\"width\": 2, \"color\": \"rgb(0, 0, 0)\"}}, {\"x\": [0.5, 0.75, null], \"y\": [1.0, 0.0, null], \"hoverinfo\": \"none\", \"mode\": \"lines\", \"line\": {\"width\": 2, \"color\": \"rgb(0, 0, 0)\"}}, {\"x\": [0.5, 0.375, null], \"y\": [1.0, 0.5, null], \"hoverinfo\": \"none\", \"mode\": \"lines\", \"line\": {\"width\": 2, \"color\": \"rgb(0, 0, 0)\"}}, {\"x\": [0.75, 1.0, null], \"y\": [1.0, 0.5, null], \"hoverinfo\": \"none\", \"mode\": \"lines\", \"line\": {\"width\": 2, \"color\": \"rgb(0, 0, 0)\"}}, {\"x\": [0.75, 0.75, null], \"y\": [1.0, 0.0, null], \"hoverinfo\": \"none\", \"mode\": \"lines\", \"line\": {\"width\": 2, \"color\": \"rgb(0, 0, 0)\"}}, {\"x\": [1.0, 0.75, null], \"y\": [0.5, 0.0, null], \"hoverinfo\": \"none\", \"mode\": \"lines\", \"line\": {\"width\": 2, \"color\": \"rgb(0, 0, 0)\"}}, {\"x\": [0.75, 0.5, null], \"y\": [0.0, 0.0, null], \"hoverinfo\": \"none\", \"mode\": \"lines\", \"line\": {\"width\": 2, \"color\": \"rgb(0, 0, 0)\"}}, {\"x\": [0.5, 0.25, null], \"y\": [0.0, 0.0, null], \"hoverinfo\": \"none\", \"mode\": \"lines\", \"line\": {\"width\": 2, \"color\": \"rgb(0, 0, 0)\"}}, {\"x\": [0.5, 0.375, null], \"y\": [0.0, 0.5, null], \"hoverinfo\": \"none\", \"mode\": \"lines\", \"line\": {\"width\": 2, \"color\": \"rgb(0, 0, 0)\"}}, {\"x\": [0.25, 0.375, null], \"y\": [0.0, 0.5, null], \"hoverinfo\": \"none\", \"mode\": \"lines\", \"line\": {\"width\": 2, \"color\": \"rgb(0, 0, 0)\"}}, {\"x\": [0.0], \"y\": [0.5], \"text\": [], \"textposition\": \"middle center\", \"hoverinfo\": \"none\", \"mode\": \"markers+text\", \"marker\": {\"size\": 20, \"color\": \"rgb(255, 255, 255)\", \"line\": {\"width\": 2, \"color\": \"rgb(0, 0, 0)\"}}, \"textfont\": {\"color\": \"rgb(0, 0, 0)\"}}, {\"x\": [0.25], \"y\": [1.0], \"text\": [], \"textposition\": \"middle center\", \"hoverinfo\": \"none\", \"mode\": \"markers+text\", \"marker\": {\"size\": 20, \"color\": \"rgb(255, 255, 255)\", \"line\": {\"width\": 2, \"color\": \"rgb(0, 0, 0)\"}}, \"textfont\": {\"color\": \"rgb(0, 0, 0)\"}}, {\"x\": [0.5], \"y\": [1.0], \"text\": [], \"textposition\": \"middle center\", \"hoverinfo\": \"none\", \"mode\": \"markers+text\", \"marker\": {\"size\": 20, \"color\": \"rgb(255, 255, 255)\", \"line\": {\"width\": 2, \"color\": \"rgb(0, 0, 0)\"}}, \"textfont\": {\"color\": \"rgb(0, 0, 0)\"}}, {\"x\": [0.75], \"y\": [1.0], \"text\": [], \"textposition\": \"middle center\", \"hoverinfo\": \"none\", \"mode\": \"markers+text\", \"marker\": {\"size\": 20, \"color\": \"rgb(255, 255, 255)\", \"line\": {\"width\": 2, \"color\": \"rgb(0, 0, 0)\"}}, \"textfont\": {\"color\": \"rgb(0, 0, 0)\"}}, {\"x\": [1.0], \"y\": [0.5], \"text\": [], \"textposition\": \"middle center\", \"hoverinfo\": \"none\", \"mode\": \"markers+text\", \"marker\": {\"size\": 20, \"color\": \"rgb(255, 255, 255)\", \"line\": {\"width\": 2, \"color\": \"rgb(0, 0, 0)\"}}, \"textfont\": {\"color\": \"rgb(0, 0, 0)\"}}, {\"x\": [0.75], \"y\": [0.0], \"text\": [], \"textposition\": \"middle center\", \"hoverinfo\": \"none\", \"mode\": \"markers+text\", \"marker\": {\"size\": 20, \"color\": \"rgb(255, 255, 255)\", \"line\": {\"width\": 2, \"color\": \"rgb(0, 0, 0)\"}}, \"textfont\": {\"color\": \"rgb(0, 0, 0)\"}}, {\"x\": [0.5], \"y\": [0.0], \"text\": [], \"textposition\": \"middle center\", \"hoverinfo\": \"none\", \"mode\": \"markers+text\", \"marker\": {\"size\": 20, \"color\": \"rgb(255, 255, 255)\", \"line\": {\"width\": 2, \"color\": \"rgb(0, 0, 0)\"}}, \"textfont\": {\"color\": \"rgb(0, 0, 0)\"}}, {\"x\": [0.25], \"y\": [0.0], \"text\": [], \"textposition\": \"middle center\", \"hoverinfo\": \"none\", \"mode\": \"markers+text\", \"marker\": {\"size\": 20, \"color\": \"rgb(255, 255, 255)\", \"line\": {\"width\": 2, \"color\": \"rgb(0, 0, 0)\"}}, \"textfont\": {\"color\": \"rgb(0, 0, 0)\"}}, {\"x\": [0.375], \"y\": [0.5], \"text\": [], \"textposition\": \"middle center\", \"hoverinfo\": \"none\", \"mode\": \"markers+text\", \"marker\": {\"size\": 20, \"color\": \"rgb(255, 255, 255)\", \"line\": {\"width\": 2, \"color\": \"rgb(0, 0, 0)\"}}, \"textfont\": {\"color\": \"rgb(0, 0, 0)\"}}, {\"x\": [0.08835225700681207, 0.16164774299318793, 0.375, 0.2878787878787879, 0.625, 0.6625594305323629, 0.4750594305323629, 0.911647742993188, 0.7878787878787878, 0.911647742993188, 0.625, 0.375, 0.3999405694676371, 0.2749405694676371], \"y\": [0.768323871496594, 0.268323871496594, 1.0724637681159421, 0.5, 1.0724637681159421, 0.5093898576330907, 0.7406101423669093, 0.768323871496594, 0.5, 0.23167612850340602, -0.07246376811594203, -0.07246376811594203, 0.24061014236690928, 0.2593898576330907], \"text\": [4, 8, 8, 11, 7, 4, 2, 9, 14, 10, 2, 1, 6, 7], \"textposition\": \"middle center\", \"hoverinfo\": \"none\", \"mode\": \"text\", \"textfont\": {\"color\": \"rgb(0, 0, 0)\"}}], \"name\": 0}, {\"data\": [{\"x\": [0.0, 0.25, null], \"y\": [0.5, 1.0, null], \"hoverinfo\": \"none\", \"mode\": \"lines\", \"line\": {\"width\": 2, \"color\": \"rgb(0, 0, 0)\"}}, {\"x\": [0.0, 0.25, null], \"y\": [0.5, 0.0, null], \"hoverinfo\": \"none\", \"mode\": \"lines\", \"line\": {\"width\": 2, \"color\": \"rgb(0, 0, 0)\"}}, {\"x\": [0.25, 0.5, null], \"y\": [1.0, 1.0, null], \"hoverinfo\": \"none\", \"mode\": \"lines\", \"line\": {\"width\": 2, \"color\": \"rgb(0, 0, 0)\"}}, {\"x\": [0.25, 0.25, null], \"y\": [1.0, 0.0, null], \"hoverinfo\": \"none\", \"mode\": \"lines\", \"line\": {\"width\": 2, \"color\": \"rgb(0, 0, 0)\"}}, {\"x\": [0.5, 0.75, null], \"y\": [1.0, 1.0, null], \"hoverinfo\": \"none\", \"mode\": \"lines\", \"line\": {\"width\": 2, \"color\": \"rgb(0, 0, 0)\"}}, {\"x\": [0.5, 0.75, null], \"y\": [1.0, 0.0, null], \"hoverinfo\": \"none\", \"mode\": \"lines\", \"line\": {\"width\": 2, \"color\": \"rgb(0, 0, 0)\"}}, {\"x\": [0.5, 0.375, null], \"y\": [1.0, 0.5, null], \"hoverinfo\": \"none\", \"mode\": \"lines\", \"line\": {\"width\": 2, \"color\": \"rgb(0, 0, 0)\"}}, {\"x\": [0.75, 1.0, null], \"y\": [1.0, 0.5, null], \"hoverinfo\": \"none\", \"mode\": \"lines\", \"line\": {\"width\": 2, \"color\": \"rgb(0, 0, 0)\"}}, {\"x\": [0.75, 0.75, null], \"y\": [1.0, 0.0, null], \"hoverinfo\": \"none\", \"mode\": \"lines\", \"line\": {\"width\": 2, \"color\": \"rgb(0, 0, 0)\"}}, {\"x\": [1.0, 0.75, null], \"y\": [0.5, 0.0, null], \"hoverinfo\": \"none\", \"mode\": \"lines\", \"line\": {\"width\": 2, \"color\": \"rgb(0, 0, 0)\"}}, {\"x\": [0.75, 0.5, null], \"y\": [0.0, 0.0, null], \"hoverinfo\": \"none\", \"mode\": \"lines\", \"line\": {\"width\": 2, \"color\": \"rgb(0, 0, 0)\"}}, {\"x\": [0.5, 0.25, null], \"y\": [0.0, 0.0, null], \"hoverinfo\": \"none\", \"mode\": \"lines\", \"line\": {\"width\": 2, \"color\": \"rgb(255, 0, 0)\"}}, {\"x\": [0.5, 0.375, null], \"y\": [0.0, 0.5, null], \"hoverinfo\": \"none\", \"mode\": \"lines\", \"line\": {\"width\": 2, \"color\": \"rgb(0, 0, 0)\"}}, {\"x\": [0.25, 0.375, null], \"y\": [0.0, 0.5, null], \"hoverinfo\": \"none\", \"mode\": \"lines\", \"line\": {\"width\": 2, \"color\": \"rgb(0, 0, 0)\"}}, {\"x\": [0.0], \"y\": [0.5], \"text\": [], \"textposition\": \"middle center\", \"hoverinfo\": \"none\", \"mode\": \"markers+text\", \"marker\": {\"size\": 20, \"color\": \"rgb(255, 255, 255)\", \"line\": {\"width\": 2, \"color\": \"rgb(0, 0, 0)\"}}, \"textfont\": {\"color\": \"rgb(0, 0, 0)\"}}, {\"x\": [0.25], \"y\": [1.0], \"text\": [], \"textposition\": \"middle center\", \"hoverinfo\": \"none\", \"mode\": \"markers+text\", \"marker\": {\"size\": 20, \"color\": \"rgb(255, 255, 255)\", \"line\": {\"width\": 2, \"color\": \"rgb(0, 0, 0)\"}}, \"textfont\": {\"color\": \"rgb(0, 0, 0)\"}}, {\"x\": [0.5], \"y\": [1.0], \"text\": [], \"textposition\": \"middle center\", \"hoverinfo\": \"none\", \"mode\": \"markers+text\", \"marker\": {\"size\": 20, \"color\": \"rgb(255, 255, 255)\", \"line\": {\"width\": 2, \"color\": \"rgb(0, 0, 0)\"}}, \"textfont\": {\"color\": \"rgb(0, 0, 0)\"}}, {\"x\": [0.75], \"y\": [1.0], \"text\": [], \"textposition\": \"middle center\", \"hoverinfo\": \"none\", \"mode\": \"markers+text\", \"marker\": {\"size\": 20, \"color\": \"rgb(255, 255, 255)\", \"line\": {\"width\": 2, \"color\": \"rgb(0, 0, 0)\"}}, \"textfont\": {\"color\": \"rgb(0, 0, 0)\"}}, {\"x\": [1.0], \"y\": [0.5], \"text\": [], \"textposition\": \"middle center\", \"hoverinfo\": \"none\", \"mode\": \"markers+text\", \"marker\": {\"size\": 20, \"color\": \"rgb(255, 255, 255)\", \"line\": {\"width\": 2, \"color\": \"rgb(0, 0, 0)\"}}, \"textfont\": {\"color\": \"rgb(0, 0, 0)\"}}, {\"x\": [0.75], \"y\": [0.0], \"text\": [], \"textposition\": \"middle center\", \"hoverinfo\": \"none\", \"mode\": \"markers+text\", \"marker\": {\"size\": 20, \"color\": \"rgb(255, 255, 255)\", \"line\": {\"width\": 2, \"color\": \"rgb(0, 0, 0)\"}}, \"textfont\": {\"color\": \"rgb(0, 0, 0)\"}}, {\"x\": [0.5], \"y\": [0.0], \"text\": [], \"textposition\": \"middle center\", \"hoverinfo\": \"none\", \"mode\": \"markers+text\", \"marker\": {\"size\": 20, \"color\": \"rgb(255, 255, 255)\", \"line\": {\"width\": 2, \"color\": \"rgb(0, 0, 0)\"}}, \"textfont\": {\"color\": \"rgb(0, 0, 0)\"}}, {\"x\": [0.25], \"y\": [0.0], \"text\": [], \"textposition\": \"middle center\", \"hoverinfo\": \"none\", \"mode\": \"markers+text\", \"marker\": {\"size\": 20, \"color\": \"rgb(255, 255, 255)\", \"line\": {\"width\": 2, \"color\": \"rgb(0, 0, 0)\"}}, \"textfont\": {\"color\": \"rgb(0, 0, 0)\"}}, {\"x\": [0.375], \"y\": [0.5], \"text\": [], \"textposition\": \"middle center\", \"hoverinfo\": \"none\", \"mode\": \"markers+text\", \"marker\": {\"size\": 20, \"color\": \"rgb(255, 255, 255)\", \"line\": {\"width\": 2, \"color\": \"rgb(0, 0, 0)\"}}, \"textfont\": {\"color\": \"rgb(0, 0, 0)\"}}, {\"x\": [0.08835225700681207, 0.16164774299318793, 0.375, 0.2878787878787879, 0.625, 0.6625594305323629, 0.4750594305323629, 0.911647742993188, 0.7878787878787878, 0.911647742993188, 0.625, 0.375, 0.3999405694676371, 0.2749405694676371], \"y\": [0.768323871496594, 0.268323871496594, 1.0724637681159421, 0.5, 1.0724637681159421, 0.5093898576330907, 0.7406101423669093, 0.768323871496594, 0.5, 0.23167612850340602, -0.07246376811594203, -0.07246376811594203, 0.24061014236690928, 0.2593898576330907], \"text\": [4, 8, 8, 11, 7, 4, 2, 9, 14, 10, 2, 1, 6, 7], \"textposition\": \"middle center\", \"hoverinfo\": \"none\", \"mode\": \"text\", \"textfont\": {\"color\": \"rgb(0, 0, 0)\"}}], \"name\": 1}, {\"data\": [{\"x\": [0.0, 0.25, null], \"y\": [0.5, 1.0, null], \"hoverinfo\": \"none\", \"mode\": \"lines\", \"line\": {\"width\": 2, \"color\": \"rgb(0, 0, 0)\"}}, {\"x\": [0.0, 0.25, null], \"y\": [0.5, 0.0, null], \"hoverinfo\": \"none\", \"mode\": \"lines\", \"line\": {\"width\": 2, \"color\": \"rgb(0, 0, 0)\"}}, {\"x\": [0.25, 0.5, null], \"y\": [1.0, 1.0, null], \"hoverinfo\": \"none\", \"mode\": \"lines\", \"line\": {\"width\": 2, \"color\": \"rgb(0, 0, 0)\"}}, {\"x\": [0.25, 0.25, null], \"y\": [1.0, 0.0, null], \"hoverinfo\": \"none\", \"mode\": \"lines\", \"line\": {\"width\": 2, \"color\": \"rgb(0, 0, 0)\"}}, {\"x\": [0.5, 0.75, null], \"y\": [1.0, 1.0, null], \"hoverinfo\": \"none\", \"mode\": \"lines\", \"line\": {\"width\": 2, \"color\": \"rgb(0, 0, 0)\"}}, {\"x\": [0.5, 0.75, null], \"y\": [1.0, 0.0, null], \"hoverinfo\": \"none\", \"mode\": \"lines\", \"line\": {\"width\": 2, \"color\": \"rgb(0, 0, 0)\"}}, {\"x\": [0.5, 0.375, null], \"y\": [1.0, 0.5, null], \"hoverinfo\": \"none\", \"mode\": \"lines\", \"line\": {\"width\": 2, \"color\": \"rgb(0, 0, 0)\"}}, {\"x\": [0.75, 1.0, null], \"y\": [1.0, 0.5, null], \"hoverinfo\": \"none\", \"mode\": \"lines\", \"line\": {\"width\": 2, \"color\": \"rgb(0, 0, 0)\"}}, {\"x\": [0.75, 0.75, null], \"y\": [1.0, 0.0, null], \"hoverinfo\": \"none\", \"mode\": \"lines\", \"line\": {\"width\": 2, \"color\": \"rgb(0, 0, 0)\"}}, {\"x\": [1.0, 0.75, null], \"y\": [0.5, 0.0, null], \"hoverinfo\": \"none\", \"mode\": \"lines\", \"line\": {\"width\": 2, \"color\": \"rgb(0, 0, 0)\"}}, {\"x\": [0.75, 0.5, null], \"y\": [0.0, 0.0, null], \"hoverinfo\": \"none\", \"mode\": \"lines\", \"line\": {\"width\": 2, \"color\": \"rgb(0, 0, 0)\"}}, {\"x\": [0.5, 0.25, null], \"y\": [0.0, 0.0, null], \"hoverinfo\": \"none\", \"mode\": \"lines\", \"line\": {\"width\": 2, \"color\": \"rgb(0, 0, 255)\"}}, {\"x\": [0.5, 0.375, null], \"y\": [0.0, 0.5, null], \"hoverinfo\": \"none\", \"mode\": \"lines\", \"line\": {\"width\": 2, \"color\": \"rgb(0, 0, 0)\"}}, {\"x\": [0.25, 0.375, null], \"y\": [0.0, 0.5, null], \"hoverinfo\": \"none\", \"mode\": \"lines\", \"line\": {\"width\": 2, \"color\": \"rgb(0, 0, 0)\"}}, {\"x\": [0.0], \"y\": [0.5], \"text\": [], \"textposition\": \"middle center\", \"hoverinfo\": \"none\", \"mode\": \"markers+text\", \"marker\": {\"size\": 20, \"color\": \"rgb(255, 255, 255)\", \"line\": {\"width\": 2, \"color\": \"rgb(0, 0, 0)\"}}, \"textfont\": {\"color\": \"rgb(0, 0, 0)\"}}, {\"x\": [0.25], \"y\": [1.0], \"text\": [], \"textposition\": \"middle center\", \"hoverinfo\": \"none\", \"mode\": \"markers+text\", \"marker\": {\"size\": 20, \"color\": \"rgb(255, 255, 255)\", \"line\": {\"width\": 2, \"color\": \"rgb(0, 0, 0)\"}}, \"textfont\": {\"color\": \"rgb(0, 0, 0)\"}}, {\"x\": [0.5], \"y\": [1.0], \"text\": [], \"textposition\": \"middle center\", \"hoverinfo\": \"none\", \"mode\": \"markers+text\", \"marker\": {\"size\": 20, \"color\": \"rgb(255, 255, 255)\", \"line\": {\"width\": 2, \"color\": \"rgb(0, 0, 0)\"}}, \"textfont\": {\"color\": \"rgb(0, 0, 0)\"}}, {\"x\": [0.75], \"y\": [1.0], \"text\": [], \"textposition\": \"middle center\", \"hoverinfo\": \"none\", \"mode\": \"markers+text\", \"marker\": {\"size\": 20, \"color\": \"rgb(255, 255, 255)\", \"line\": {\"width\": 2, \"color\": \"rgb(0, 0, 0)\"}}, \"textfont\": {\"color\": \"rgb(0, 0, 0)\"}}, {\"x\": [1.0], \"y\": [0.5], \"text\": [], \"textposition\": \"middle center\", \"hoverinfo\": \"none\", \"mode\": \"markers+text\", \"marker\": {\"size\": 20, \"color\": \"rgb(255, 255, 255)\", \"line\": {\"width\": 2, \"color\": \"rgb(0, 0, 0)\"}}, \"textfont\": {\"color\": \"rgb(0, 0, 0)\"}}, {\"x\": [0.75], \"y\": [0.0], \"text\": [], \"textposition\": \"middle center\", \"hoverinfo\": \"none\", \"mode\": \"markers+text\", \"marker\": {\"size\": 20, \"color\": \"rgb(255, 255, 255)\", \"line\": {\"width\": 2, \"color\": \"rgb(0, 0, 0)\"}}, \"textfont\": {\"color\": \"rgb(0, 0, 0)\"}}, {\"x\": [0.5], \"y\": [0.0], \"text\": [], \"textposition\": \"middle center\", \"hoverinfo\": \"none\", \"mode\": \"markers+text\", \"marker\": {\"size\": 20, \"color\": \"rgb(255, 255, 255)\", \"line\": {\"width\": 2, \"color\": \"rgb(0, 0, 0)\"}}, \"textfont\": {\"color\": \"rgb(0, 0, 0)\"}}, {\"x\": [0.25], \"y\": [0.0], \"text\": [], \"textposition\": \"middle center\", \"hoverinfo\": \"none\", \"mode\": \"markers+text\", \"marker\": {\"size\": 20, \"color\": \"rgb(255, 255, 255)\", \"line\": {\"width\": 2, \"color\": \"rgb(0, 0, 0)\"}}, \"textfont\": {\"color\": \"rgb(0, 0, 0)\"}}, {\"x\": [0.375], \"y\": [0.5], \"text\": [], \"textposition\": \"middle center\", \"hoverinfo\": \"none\", \"mode\": \"markers+text\", \"marker\": {\"size\": 20, \"color\": \"rgb(255, 255, 255)\", \"line\": {\"width\": 2, \"color\": \"rgb(0, 0, 0)\"}}, \"textfont\": {\"color\": \"rgb(0, 0, 0)\"}}, {\"x\": [0.08835225700681207, 0.16164774299318793, 0.375, 0.2878787878787879, 0.625, 0.6625594305323629, 0.4750594305323629, 0.911647742993188, 0.7878787878787878, 0.911647742993188, 0.625, 0.375, 0.3999405694676371, 0.2749405694676371], \"y\": [0.768323871496594, 0.268323871496594, 1.0724637681159421, 0.5, 1.0724637681159421, 0.5093898576330907, 0.7406101423669093, 0.768323871496594, 0.5, 0.23167612850340602, -0.07246376811594203, -0.07246376811594203, 0.24061014236690928, 0.2593898576330907], \"text\": [4, 8, 8, 11, 7, 4, 2, 9, 14, 10, 2, 1, 6, 7], \"textposition\": \"middle center\", \"hoverinfo\": \"none\", \"mode\": \"text\", \"textfont\": {\"color\": \"rgb(0, 0, 0)\"}}], \"name\": 2}, {\"data\": [{\"x\": [0.0, 0.25, null], \"y\": [0.5, 1.0, null], \"hoverinfo\": \"none\", \"mode\": \"lines\", \"line\": {\"width\": 2, \"color\": \"rgb(0, 0, 0)\"}}, {\"x\": [0.0, 0.25, null], \"y\": [0.5, 0.0, null], \"hoverinfo\": \"none\", \"mode\": \"lines\", \"line\": {\"width\": 2, \"color\": \"rgb(0, 0, 0)\"}}, {\"x\": [0.25, 0.5, null], \"y\": [1.0, 1.0, null], \"hoverinfo\": \"none\", \"mode\": \"lines\", \"line\": {\"width\": 2, \"color\": \"rgb(0, 0, 0)\"}}, {\"x\": [0.25, 0.25, null], \"y\": [1.0, 0.0, null], \"hoverinfo\": \"none\", \"mode\": \"lines\", \"line\": {\"width\": 2, \"color\": \"rgb(0, 0, 0)\"}}, {\"x\": [0.5, 0.75, null], \"y\": [1.0, 1.0, null], \"hoverinfo\": \"none\", \"mode\": \"lines\", \"line\": {\"width\": 2, \"color\": \"rgb(0, 0, 0)\"}}, {\"x\": [0.5, 0.75, null], \"y\": [1.0, 0.0, null], \"hoverinfo\": \"none\", \"mode\": \"lines\", \"line\": {\"width\": 2, \"color\": \"rgb(0, 0, 0)\"}}, {\"x\": [0.5, 0.375, null], \"y\": [1.0, 0.5, null], \"hoverinfo\": \"none\", \"mode\": \"lines\", \"line\": {\"width\": 2, \"color\": \"rgb(255, 0, 0)\"}}, {\"x\": [0.75, 1.0, null], \"y\": [1.0, 0.5, null], \"hoverinfo\": \"none\", \"mode\": \"lines\", \"line\": {\"width\": 2, \"color\": \"rgb(0, 0, 0)\"}}, {\"x\": [0.75, 0.75, null], \"y\": [1.0, 0.0, null], \"hoverinfo\": \"none\", \"mode\": \"lines\", \"line\": {\"width\": 2, \"color\": \"rgb(0, 0, 0)\"}}, {\"x\": [1.0, 0.75, null], \"y\": [0.5, 0.0, null], \"hoverinfo\": \"none\", \"mode\": \"lines\", \"line\": {\"width\": 2, \"color\": \"rgb(0, 0, 0)\"}}, {\"x\": [0.75, 0.5, null], \"y\": [0.0, 0.0, null], \"hoverinfo\": \"none\", \"mode\": \"lines\", \"line\": {\"width\": 2, \"color\": \"rgb(0, 0, 0)\"}}, {\"x\": [0.5, 0.25, null], \"y\": [0.0, 0.0, null], \"hoverinfo\": \"none\", \"mode\": \"lines\", \"line\": {\"width\": 2, \"color\": \"rgb(0, 0, 255)\"}}, {\"x\": [0.5, 0.375, null], \"y\": [0.0, 0.5, null], \"hoverinfo\": \"none\", \"mode\": \"lines\", \"line\": {\"width\": 2, \"color\": \"rgb(0, 0, 0)\"}}, {\"x\": [0.25, 0.375, null], \"y\": [0.0, 0.5, null], \"hoverinfo\": \"none\", \"mode\": \"lines\", \"line\": {\"width\": 2, \"color\": \"rgb(0, 0, 0)\"}}, {\"x\": [0.0], \"y\": [0.5], \"text\": [], \"textposition\": \"middle center\", \"hoverinfo\": \"none\", \"mode\": \"markers+text\", \"marker\": {\"size\": 20, \"color\": \"rgb(255, 255, 255)\", \"line\": {\"width\": 2, \"color\": \"rgb(0, 0, 0)\"}}, \"textfont\": {\"color\": \"rgb(0, 0, 0)\"}}, {\"x\": [0.25], \"y\": [1.0], \"text\": [], \"textposition\": \"middle center\", \"hoverinfo\": \"none\", \"mode\": \"markers+text\", \"marker\": {\"size\": 20, \"color\": \"rgb(255, 255, 255)\", \"line\": {\"width\": 2, \"color\": \"rgb(0, 0, 0)\"}}, \"textfont\": {\"color\": \"rgb(0, 0, 0)\"}}, {\"x\": [0.5], \"y\": [1.0], \"text\": [], \"textposition\": \"middle center\", \"hoverinfo\": \"none\", \"mode\": \"markers+text\", \"marker\": {\"size\": 20, \"color\": \"rgb(255, 255, 255)\", \"line\": {\"width\": 2, \"color\": \"rgb(0, 0, 0)\"}}, \"textfont\": {\"color\": \"rgb(0, 0, 0)\"}}, {\"x\": [0.75], \"y\": [1.0], \"text\": [], \"textposition\": \"middle center\", \"hoverinfo\": \"none\", \"mode\": \"markers+text\", \"marker\": {\"size\": 20, \"color\": \"rgb(255, 255, 255)\", \"line\": {\"width\": 2, \"color\": \"rgb(0, 0, 0)\"}}, \"textfont\": {\"color\": \"rgb(0, 0, 0)\"}}, {\"x\": [1.0], \"y\": [0.5], \"text\": [], \"textposition\": \"middle center\", \"hoverinfo\": \"none\", \"mode\": \"markers+text\", \"marker\": {\"size\": 20, \"color\": \"rgb(255, 255, 255)\", \"line\": {\"width\": 2, \"color\": \"rgb(0, 0, 0)\"}}, \"textfont\": {\"color\": \"rgb(0, 0, 0)\"}}, {\"x\": [0.75], \"y\": [0.0], \"text\": [], \"textposition\": \"middle center\", \"hoverinfo\": \"none\", \"mode\": \"markers+text\", \"marker\": {\"size\": 20, \"color\": \"rgb(255, 255, 255)\", \"line\": {\"width\": 2, \"color\": \"rgb(0, 0, 0)\"}}, \"textfont\": {\"color\": \"rgb(0, 0, 0)\"}}, {\"x\": [0.5], \"y\": [0.0], \"text\": [], \"textposition\": \"middle center\", \"hoverinfo\": \"none\", \"mode\": \"markers+text\", \"marker\": {\"size\": 20, \"color\": \"rgb(255, 255, 255)\", \"line\": {\"width\": 2, \"color\": \"rgb(0, 0, 0)\"}}, \"textfont\": {\"color\": \"rgb(0, 0, 0)\"}}, {\"x\": [0.25], \"y\": [0.0], \"text\": [], \"textposition\": \"middle center\", \"hoverinfo\": \"none\", \"mode\": \"markers+text\", \"marker\": {\"size\": 20, \"color\": \"rgb(255, 255, 255)\", \"line\": {\"width\": 2, \"color\": \"rgb(0, 0, 0)\"}}, \"textfont\": {\"color\": \"rgb(0, 0, 0)\"}}, {\"x\": [0.375], \"y\": [0.5], \"text\": [], \"textposition\": \"middle center\", \"hoverinfo\": \"none\", \"mode\": \"markers+text\", \"marker\": {\"size\": 20, \"color\": \"rgb(255, 255, 255)\", \"line\": {\"width\": 2, \"color\": \"rgb(0, 0, 0)\"}}, \"textfont\": {\"color\": \"rgb(0, 0, 0)\"}}, {\"x\": [0.08835225700681207, 0.16164774299318793, 0.375, 0.2878787878787879, 0.625, 0.6625594305323629, 0.4750594305323629, 0.911647742993188, 0.7878787878787878, 0.911647742993188, 0.625, 0.375, 0.3999405694676371, 0.2749405694676371], \"y\": [0.768323871496594, 0.268323871496594, 1.0724637681159421, 0.5, 1.0724637681159421, 0.5093898576330907, 0.7406101423669093, 0.768323871496594, 0.5, 0.23167612850340602, -0.07246376811594203, -0.07246376811594203, 0.24061014236690928, 0.2593898576330907], \"text\": [4, 8, 8, 11, 7, 4, 2, 9, 14, 10, 2, 1, 6, 7], \"textposition\": \"middle center\", \"hoverinfo\": \"none\", \"mode\": \"text\", \"textfont\": {\"color\": \"rgb(0, 0, 0)\"}}], \"name\": 3}, {\"data\": [{\"x\": [0.0, 0.25, null], \"y\": [0.5, 1.0, null], \"hoverinfo\": \"none\", \"mode\": \"lines\", \"line\": {\"width\": 2, \"color\": \"rgb(0, 0, 0)\"}}, {\"x\": [0.0, 0.25, null], \"y\": [0.5, 0.0, null], \"hoverinfo\": \"none\", \"mode\": \"lines\", \"line\": {\"width\": 2, \"color\": \"rgb(0, 0, 0)\"}}, {\"x\": [0.25, 0.5, null], \"y\": [1.0, 1.0, null], \"hoverinfo\": \"none\", \"mode\": \"lines\", \"line\": {\"width\": 2, \"color\": \"rgb(0, 0, 0)\"}}, {\"x\": [0.25, 0.25, null], \"y\": [1.0, 0.0, null], \"hoverinfo\": \"none\", \"mode\": \"lines\", \"line\": {\"width\": 2, \"color\": \"rgb(0, 0, 0)\"}}, {\"x\": [0.5, 0.75, null], \"y\": [1.0, 1.0, null], \"hoverinfo\": \"none\", \"mode\": \"lines\", \"line\": {\"width\": 2, \"color\": \"rgb(0, 0, 0)\"}}, {\"x\": [0.5, 0.75, null], \"y\": [1.0, 0.0, null], \"hoverinfo\": \"none\", \"mode\": \"lines\", \"line\": {\"width\": 2, \"color\": \"rgb(0, 0, 0)\"}}, {\"x\": [0.5, 0.375, null], \"y\": [1.0, 0.5, null], \"hoverinfo\": \"none\", \"mode\": \"lines\", \"line\": {\"width\": 2, \"color\": \"rgb(0, 0, 255)\"}}, {\"x\": [0.75, 1.0, null], \"y\": [1.0, 0.5, null], \"hoverinfo\": \"none\", \"mode\": \"lines\", \"line\": {\"width\": 2, \"color\": \"rgb(0, 0, 0)\"}}, {\"x\": [0.75, 0.75, null], \"y\": [1.0, 0.0, null], \"hoverinfo\": \"none\", \"mode\": \"lines\", \"line\": {\"width\": 2, \"color\": \"rgb(0, 0, 0)\"}}, {\"x\": [1.0, 0.75, null], \"y\": [0.5, 0.0, null], \"hoverinfo\": \"none\", \"mode\": \"lines\", \"line\": {\"width\": 2, \"color\": \"rgb(0, 0, 0)\"}}, {\"x\": [0.75, 0.5, null], \"y\": [0.0, 0.0, null], \"hoverinfo\": \"none\", \"mode\": \"lines\", \"line\": {\"width\": 2, \"color\": \"rgb(0, 0, 0)\"}}, {\"x\": [0.5, 0.25, null], \"y\": [0.0, 0.0, null], \"hoverinfo\": \"none\", \"mode\": \"lines\", \"line\": {\"width\": 2, \"color\": \"rgb(0, 0, 255)\"}}, {\"x\": [0.5, 0.375, null], \"y\": [0.0, 0.5, null], \"hoverinfo\": \"none\", \"mode\": \"lines\", \"line\": {\"width\": 2, \"color\": \"rgb(0, 0, 0)\"}}, {\"x\": [0.25, 0.375, null], \"y\": [0.0, 0.5, null], \"hoverinfo\": \"none\", \"mode\": \"lines\", \"line\": {\"width\": 2, \"color\": \"rgb(0, 0, 0)\"}}, {\"x\": [0.0], \"y\": [0.5], \"text\": [], \"textposition\": \"middle center\", \"hoverinfo\": \"none\", \"mode\": \"markers+text\", \"marker\": {\"size\": 20, \"color\": \"rgb(255, 255, 255)\", \"line\": {\"width\": 2, \"color\": \"rgb(0, 0, 0)\"}}, \"textfont\": {\"color\": \"rgb(0, 0, 0)\"}}, {\"x\": [0.25], \"y\": [1.0], \"text\": [], \"textposition\": \"middle center\", \"hoverinfo\": \"none\", \"mode\": \"markers+text\", \"marker\": {\"size\": 20, \"color\": \"rgb(255, 255, 255)\", \"line\": {\"width\": 2, \"color\": \"rgb(0, 0, 0)\"}}, \"textfont\": {\"color\": \"rgb(0, 0, 0)\"}}, {\"x\": [0.5], \"y\": [1.0], \"text\": [], \"textposition\": \"middle center\", \"hoverinfo\": \"none\", \"mode\": \"markers+text\", \"marker\": {\"size\": 20, \"color\": \"rgb(255, 255, 255)\", \"line\": {\"width\": 2, \"color\": \"rgb(0, 0, 0)\"}}, \"textfont\": {\"color\": \"rgb(0, 0, 0)\"}}, {\"x\": [0.75], \"y\": [1.0], \"text\": [], \"textposition\": \"middle center\", \"hoverinfo\": \"none\", \"mode\": \"markers+text\", \"marker\": {\"size\": 20, \"color\": \"rgb(255, 255, 255)\", \"line\": {\"width\": 2, \"color\": \"rgb(0, 0, 0)\"}}, \"textfont\": {\"color\": \"rgb(0, 0, 0)\"}}, {\"x\": [1.0], \"y\": [0.5], \"text\": [], \"textposition\": \"middle center\", \"hoverinfo\": \"none\", \"mode\": \"markers+text\", \"marker\": {\"size\": 20, \"color\": \"rgb(255, 255, 255)\", \"line\": {\"width\": 2, \"color\": \"rgb(0, 0, 0)\"}}, \"textfont\": {\"color\": \"rgb(0, 0, 0)\"}}, {\"x\": [0.75], \"y\": [0.0], \"text\": [], \"textposition\": \"middle center\", \"hoverinfo\": \"none\", \"mode\": \"markers+text\", \"marker\": {\"size\": 20, \"color\": \"rgb(255, 255, 255)\", \"line\": {\"width\": 2, \"color\": \"rgb(0, 0, 0)\"}}, \"textfont\": {\"color\": \"rgb(0, 0, 0)\"}}, {\"x\": [0.5], \"y\": [0.0], \"text\": [], \"textposition\": \"middle center\", \"hoverinfo\": \"none\", \"mode\": \"markers+text\", \"marker\": {\"size\": 20, \"color\": \"rgb(255, 255, 255)\", \"line\": {\"width\": 2, \"color\": \"rgb(0, 0, 0)\"}}, \"textfont\": {\"color\": \"rgb(0, 0, 0)\"}}, {\"x\": [0.25], \"y\": [0.0], \"text\": [], \"textposition\": \"middle center\", \"hoverinfo\": \"none\", \"mode\": \"markers+text\", \"marker\": {\"size\": 20, \"color\": \"rgb(255, 255, 255)\", \"line\": {\"width\": 2, \"color\": \"rgb(0, 0, 0)\"}}, \"textfont\": {\"color\": \"rgb(0, 0, 0)\"}}, {\"x\": [0.375], \"y\": [0.5], \"text\": [], \"textposition\": \"middle center\", \"hoverinfo\": \"none\", \"mode\": \"markers+text\", \"marker\": {\"size\": 20, \"color\": \"rgb(255, 255, 255)\", \"line\": {\"width\": 2, \"color\": \"rgb(0, 0, 0)\"}}, \"textfont\": {\"color\": \"rgb(0, 0, 0)\"}}, {\"x\": [0.08835225700681207, 0.16164774299318793, 0.375, 0.2878787878787879, 0.625, 0.6625594305323629, 0.4750594305323629, 0.911647742993188, 0.7878787878787878, 0.911647742993188, 0.625, 0.375, 0.3999405694676371, 0.2749405694676371], \"y\": [0.768323871496594, 0.268323871496594, 1.0724637681159421, 0.5, 1.0724637681159421, 0.5093898576330907, 0.7406101423669093, 0.768323871496594, 0.5, 0.23167612850340602, -0.07246376811594203, -0.07246376811594203, 0.24061014236690928, 0.2593898576330907], \"text\": [4, 8, 8, 11, 7, 4, 2, 9, 14, 10, 2, 1, 6, 7], \"textposition\": \"middle center\", \"hoverinfo\": \"none\", \"mode\": \"text\", \"textfont\": {\"color\": \"rgb(0, 0, 0)\"}}], \"name\": 4}, {\"data\": [{\"x\": [0.0, 0.25, null], \"y\": [0.5, 1.0, null], \"hoverinfo\": \"none\", \"mode\": \"lines\", \"line\": {\"width\": 2, \"color\": \"rgb(0, 0, 0)\"}}, {\"x\": [0.0, 0.25, null], \"y\": [0.5, 0.0, null], \"hoverinfo\": \"none\", \"mode\": \"lines\", \"line\": {\"width\": 2, \"color\": \"rgb(0, 0, 0)\"}}, {\"x\": [0.25, 0.5, null], \"y\": [1.0, 1.0, null], \"hoverinfo\": \"none\", \"mode\": \"lines\", \"line\": {\"width\": 2, \"color\": \"rgb(0, 0, 0)\"}}, {\"x\": [0.25, 0.25, null], \"y\": [1.0, 0.0, null], \"hoverinfo\": \"none\", \"mode\": \"lines\", \"line\": {\"width\": 2, \"color\": \"rgb(0, 0, 0)\"}}, {\"x\": [0.5, 0.75, null], \"y\": [1.0, 1.0, null], \"hoverinfo\": \"none\", \"mode\": \"lines\", \"line\": {\"width\": 2, \"color\": \"rgb(0, 0, 0)\"}}, {\"x\": [0.5, 0.75, null], \"y\": [1.0, 0.0, null], \"hoverinfo\": \"none\", \"mode\": \"lines\", \"line\": {\"width\": 2, \"color\": \"rgb(0, 0, 0)\"}}, {\"x\": [0.5, 0.375, null], \"y\": [1.0, 0.5, null], \"hoverinfo\": \"none\", \"mode\": \"lines\", \"line\": {\"width\": 2, \"color\": \"rgb(0, 0, 255)\"}}, {\"x\": [0.75, 1.0, null], \"y\": [1.0, 0.5, null], \"hoverinfo\": \"none\", \"mode\": \"lines\", \"line\": {\"width\": 2, \"color\": \"rgb(0, 0, 0)\"}}, {\"x\": [0.75, 0.75, null], \"y\": [1.0, 0.0, null], \"hoverinfo\": \"none\", \"mode\": \"lines\", \"line\": {\"width\": 2, \"color\": \"rgb(0, 0, 0)\"}}, {\"x\": [1.0, 0.75, null], \"y\": [0.5, 0.0, null], \"hoverinfo\": \"none\", \"mode\": \"lines\", \"line\": {\"width\": 2, \"color\": \"rgb(0, 0, 0)\"}}, {\"x\": [0.75, 0.5, null], \"y\": [0.0, 0.0, null], \"hoverinfo\": \"none\", \"mode\": \"lines\", \"line\": {\"width\": 2, \"color\": \"rgb(255, 0, 0)\"}}, {\"x\": [0.5, 0.25, null], \"y\": [0.0, 0.0, null], \"hoverinfo\": \"none\", \"mode\": \"lines\", \"line\": {\"width\": 2, \"color\": \"rgb(0, 0, 255)\"}}, {\"x\": [0.5, 0.375, null], \"y\": [0.0, 0.5, null], \"hoverinfo\": \"none\", \"mode\": \"lines\", \"line\": {\"width\": 2, \"color\": \"rgb(0, 0, 0)\"}}, {\"x\": [0.25, 0.375, null], \"y\": [0.0, 0.5, null], \"hoverinfo\": \"none\", \"mode\": \"lines\", \"line\": {\"width\": 2, \"color\": \"rgb(0, 0, 0)\"}}, {\"x\": [0.0], \"y\": [0.5], \"text\": [], \"textposition\": \"middle center\", \"hoverinfo\": \"none\", \"mode\": \"markers+text\", \"marker\": {\"size\": 20, \"color\": \"rgb(255, 255, 255)\", \"line\": {\"width\": 2, \"color\": \"rgb(0, 0, 0)\"}}, \"textfont\": {\"color\": \"rgb(0, 0, 0)\"}}, {\"x\": [0.25], \"y\": [1.0], \"text\": [], \"textposition\": \"middle center\", \"hoverinfo\": \"none\", \"mode\": \"markers+text\", \"marker\": {\"size\": 20, \"color\": \"rgb(255, 255, 255)\", \"line\": {\"width\": 2, \"color\": \"rgb(0, 0, 0)\"}}, \"textfont\": {\"color\": \"rgb(0, 0, 0)\"}}, {\"x\": [0.5], \"y\": [1.0], \"text\": [], \"textposition\": \"middle center\", \"hoverinfo\": \"none\", \"mode\": \"markers+text\", \"marker\": {\"size\": 20, \"color\": \"rgb(255, 255, 255)\", \"line\": {\"width\": 2, \"color\": \"rgb(0, 0, 0)\"}}, \"textfont\": {\"color\": \"rgb(0, 0, 0)\"}}, {\"x\": [0.75], \"y\": [1.0], \"text\": [], \"textposition\": \"middle center\", \"hoverinfo\": \"none\", \"mode\": \"markers+text\", \"marker\": {\"size\": 20, \"color\": \"rgb(255, 255, 255)\", \"line\": {\"width\": 2, \"color\": \"rgb(0, 0, 0)\"}}, \"textfont\": {\"color\": \"rgb(0, 0, 0)\"}}, {\"x\": [1.0], \"y\": [0.5], \"text\": [], \"textposition\": \"middle center\", \"hoverinfo\": \"none\", \"mode\": \"markers+text\", \"marker\": {\"size\": 20, \"color\": \"rgb(255, 255, 255)\", \"line\": {\"width\": 2, \"color\": \"rgb(0, 0, 0)\"}}, \"textfont\": {\"color\": \"rgb(0, 0, 0)\"}}, {\"x\": [0.75], \"y\": [0.0], \"text\": [], \"textposition\": \"middle center\", \"hoverinfo\": \"none\", \"mode\": \"markers+text\", \"marker\": {\"size\": 20, \"color\": \"rgb(255, 255, 255)\", \"line\": {\"width\": 2, \"color\": \"rgb(0, 0, 0)\"}}, \"textfont\": {\"color\": \"rgb(0, 0, 0)\"}}, {\"x\": [0.5], \"y\": [0.0], \"text\": [], \"textposition\": \"middle center\", \"hoverinfo\": \"none\", \"mode\": \"markers+text\", \"marker\": {\"size\": 20, \"color\": \"rgb(255, 255, 255)\", \"line\": {\"width\": 2, \"color\": \"rgb(0, 0, 0)\"}}, \"textfont\": {\"color\": \"rgb(0, 0, 0)\"}}, {\"x\": [0.25], \"y\": [0.0], \"text\": [], \"textposition\": \"middle center\", \"hoverinfo\": \"none\", \"mode\": \"markers+text\", \"marker\": {\"size\": 20, \"color\": \"rgb(255, 255, 255)\", \"line\": {\"width\": 2, \"color\": \"rgb(0, 0, 0)\"}}, \"textfont\": {\"color\": \"rgb(0, 0, 0)\"}}, {\"x\": [0.375], \"y\": [0.5], \"text\": [], \"textposition\": \"middle center\", \"hoverinfo\": \"none\", \"mode\": \"markers+text\", \"marker\": {\"size\": 20, \"color\": \"rgb(255, 255, 255)\", \"line\": {\"width\": 2, \"color\": \"rgb(0, 0, 0)\"}}, \"textfont\": {\"color\": \"rgb(0, 0, 0)\"}}, {\"x\": [0.08835225700681207, 0.16164774299318793, 0.375, 0.2878787878787879, 0.625, 0.6625594305323629, 0.4750594305323629, 0.911647742993188, 0.7878787878787878, 0.911647742993188, 0.625, 0.375, 0.3999405694676371, 0.2749405694676371], \"y\": [0.768323871496594, 0.268323871496594, 1.0724637681159421, 0.5, 1.0724637681159421, 0.5093898576330907, 0.7406101423669093, 0.768323871496594, 0.5, 0.23167612850340602, -0.07246376811594203, -0.07246376811594203, 0.24061014236690928, 0.2593898576330907], \"text\": [4, 8, 8, 11, 7, 4, 2, 9, 14, 10, 2, 1, 6, 7], \"textposition\": \"middle center\", \"hoverinfo\": \"none\", \"mode\": \"text\", \"textfont\": {\"color\": \"rgb(0, 0, 0)\"}}], \"name\": 5}, {\"data\": [{\"x\": [0.0, 0.25, null], \"y\": [0.5, 1.0, null], \"hoverinfo\": \"none\", \"mode\": \"lines\", \"line\": {\"width\": 2, \"color\": \"rgb(0, 0, 0)\"}}, {\"x\": [0.0, 0.25, null], \"y\": [0.5, 0.0, null], \"hoverinfo\": \"none\", \"mode\": \"lines\", \"line\": {\"width\": 2, \"color\": \"rgb(0, 0, 0)\"}}, {\"x\": [0.25, 0.5, null], \"y\": [1.0, 1.0, null], \"hoverinfo\": \"none\", \"mode\": \"lines\", \"line\": {\"width\": 2, \"color\": \"rgb(0, 0, 0)\"}}, {\"x\": [0.25, 0.25, null], \"y\": [1.0, 0.0, null], \"hoverinfo\": \"none\", \"mode\": \"lines\", \"line\": {\"width\": 2, \"color\": \"rgb(0, 0, 0)\"}}, {\"x\": [0.5, 0.75, null], \"y\": [1.0, 1.0, null], \"hoverinfo\": \"none\", \"mode\": \"lines\", \"line\": {\"width\": 2, \"color\": \"rgb(0, 0, 0)\"}}, {\"x\": [0.5, 0.75, null], \"y\": [1.0, 0.0, null], \"hoverinfo\": \"none\", \"mode\": \"lines\", \"line\": {\"width\": 2, \"color\": \"rgb(0, 0, 0)\"}}, {\"x\": [0.5, 0.375, null], \"y\": [1.0, 0.5, null], \"hoverinfo\": \"none\", \"mode\": \"lines\", \"line\": {\"width\": 2, \"color\": \"rgb(0, 0, 255)\"}}, {\"x\": [0.75, 1.0, null], \"y\": [1.0, 0.5, null], \"hoverinfo\": \"none\", \"mode\": \"lines\", \"line\": {\"width\": 2, \"color\": \"rgb(0, 0, 0)\"}}, {\"x\": [0.75, 0.75, null], \"y\": [1.0, 0.0, null], \"hoverinfo\": \"none\", \"mode\": \"lines\", \"line\": {\"width\": 2, \"color\": \"rgb(0, 0, 0)\"}}, {\"x\": [1.0, 0.75, null], \"y\": [0.5, 0.0, null], \"hoverinfo\": \"none\", \"mode\": \"lines\", \"line\": {\"width\": 2, \"color\": \"rgb(0, 0, 0)\"}}, {\"x\": [0.75, 0.5, null], \"y\": [0.0, 0.0, null], \"hoverinfo\": \"none\", \"mode\": \"lines\", \"line\": {\"width\": 2, \"color\": \"rgb(0, 0, 255)\"}}, {\"x\": [0.5, 0.25, null], \"y\": [0.0, 0.0, null], \"hoverinfo\": \"none\", \"mode\": \"lines\", \"line\": {\"width\": 2, \"color\": \"rgb(0, 0, 255)\"}}, {\"x\": [0.5, 0.375, null], \"y\": [0.0, 0.5, null], \"hoverinfo\": \"none\", \"mode\": \"lines\", \"line\": {\"width\": 2, \"color\": \"rgb(0, 0, 0)\"}}, {\"x\": [0.25, 0.375, null], \"y\": [0.0, 0.5, null], \"hoverinfo\": \"none\", \"mode\": \"lines\", \"line\": {\"width\": 2, \"color\": \"rgb(0, 0, 0)\"}}, {\"x\": [0.0], \"y\": [0.5], \"text\": [], \"textposition\": \"middle center\", \"hoverinfo\": \"none\", \"mode\": \"markers+text\", \"marker\": {\"size\": 20, \"color\": \"rgb(255, 255, 255)\", \"line\": {\"width\": 2, \"color\": \"rgb(0, 0, 0)\"}}, \"textfont\": {\"color\": \"rgb(0, 0, 0)\"}}, {\"x\": [0.25], \"y\": [1.0], \"text\": [], \"textposition\": \"middle center\", \"hoverinfo\": \"none\", \"mode\": \"markers+text\", \"marker\": {\"size\": 20, \"color\": \"rgb(255, 255, 255)\", \"line\": {\"width\": 2, \"color\": \"rgb(0, 0, 0)\"}}, \"textfont\": {\"color\": \"rgb(0, 0, 0)\"}}, {\"x\": [0.5], \"y\": [1.0], \"text\": [], \"textposition\": \"middle center\", \"hoverinfo\": \"none\", \"mode\": \"markers+text\", \"marker\": {\"size\": 20, \"color\": \"rgb(255, 255, 255)\", \"line\": {\"width\": 2, \"color\": \"rgb(0, 0, 0)\"}}, \"textfont\": {\"color\": \"rgb(0, 0, 0)\"}}, {\"x\": [0.75], \"y\": [1.0], \"text\": [], \"textposition\": \"middle center\", \"hoverinfo\": \"none\", \"mode\": \"markers+text\", \"marker\": {\"size\": 20, \"color\": \"rgb(255, 255, 255)\", \"line\": {\"width\": 2, \"color\": \"rgb(0, 0, 0)\"}}, \"textfont\": {\"color\": \"rgb(0, 0, 0)\"}}, {\"x\": [1.0], \"y\": [0.5], \"text\": [], \"textposition\": \"middle center\", \"hoverinfo\": \"none\", \"mode\": \"markers+text\", \"marker\": {\"size\": 20, \"color\": \"rgb(255, 255, 255)\", \"line\": {\"width\": 2, \"color\": \"rgb(0, 0, 0)\"}}, \"textfont\": {\"color\": \"rgb(0, 0, 0)\"}}, {\"x\": [0.75], \"y\": [0.0], \"text\": [], \"textposition\": \"middle center\", \"hoverinfo\": \"none\", \"mode\": \"markers+text\", \"marker\": {\"size\": 20, \"color\": \"rgb(255, 255, 255)\", \"line\": {\"width\": 2, \"color\": \"rgb(0, 0, 0)\"}}, \"textfont\": {\"color\": \"rgb(0, 0, 0)\"}}, {\"x\": [0.5], \"y\": [0.0], \"text\": [], \"textposition\": \"middle center\", \"hoverinfo\": \"none\", \"mode\": \"markers+text\", \"marker\": {\"size\": 20, \"color\": \"rgb(255, 255, 255)\", \"line\": {\"width\": 2, \"color\": \"rgb(0, 0, 0)\"}}, \"textfont\": {\"color\": \"rgb(0, 0, 0)\"}}, {\"x\": [0.25], \"y\": [0.0], \"text\": [], \"textposition\": \"middle center\", \"hoverinfo\": \"none\", \"mode\": \"markers+text\", \"marker\": {\"size\": 20, \"color\": \"rgb(255, 255, 255)\", \"line\": {\"width\": 2, \"color\": \"rgb(0, 0, 0)\"}}, \"textfont\": {\"color\": \"rgb(0, 0, 0)\"}}, {\"x\": [0.375], \"y\": [0.5], \"text\": [], \"textposition\": \"middle center\", \"hoverinfo\": \"none\", \"mode\": \"markers+text\", \"marker\": {\"size\": 20, \"color\": \"rgb(255, 255, 255)\", \"line\": {\"width\": 2, \"color\": \"rgb(0, 0, 0)\"}}, \"textfont\": {\"color\": \"rgb(0, 0, 0)\"}}, {\"x\": [0.08835225700681207, 0.16164774299318793, 0.375, 0.2878787878787879, 0.625, 0.6625594305323629, 0.4750594305323629, 0.911647742993188, 0.7878787878787878, 0.911647742993188, 0.625, 0.375, 0.3999405694676371, 0.2749405694676371], \"y\": [0.768323871496594, 0.268323871496594, 1.0724637681159421, 0.5, 1.0724637681159421, 0.5093898576330907, 0.7406101423669093, 0.768323871496594, 0.5, 0.23167612850340602, -0.07246376811594203, -0.07246376811594203, 0.24061014236690928, 0.2593898576330907], \"text\": [4, 8, 8, 11, 7, 4, 2, 9, 14, 10, 2, 1, 6, 7], \"textposition\": \"middle center\", \"hoverinfo\": \"none\", \"mode\": \"text\", \"textfont\": {\"color\": \"rgb(0, 0, 0)\"}}], \"name\": 6}, {\"data\": [{\"x\": [0.0, 0.25, null], \"y\": [0.5, 1.0, null], \"hoverinfo\": \"none\", \"mode\": \"lines\", \"line\": {\"width\": 2, \"color\": \"rgb(255, 0, 0)\"}}, {\"x\": [0.0, 0.25, null], \"y\": [0.5, 0.0, null], \"hoverinfo\": \"none\", \"mode\": \"lines\", \"line\": {\"width\": 2, \"color\": \"rgb(0, 0, 0)\"}}, {\"x\": [0.25, 0.5, null], \"y\": [1.0, 1.0, null], \"hoverinfo\": \"none\", \"mode\": \"lines\", \"line\": {\"width\": 2, \"color\": \"rgb(0, 0, 0)\"}}, {\"x\": [0.25, 0.25, null], \"y\": [1.0, 0.0, null], \"hoverinfo\": \"none\", \"mode\": \"lines\", \"line\": {\"width\": 2, \"color\": \"rgb(0, 0, 0)\"}}, {\"x\": [0.5, 0.75, null], \"y\": [1.0, 1.0, null], \"hoverinfo\": \"none\", \"mode\": \"lines\", \"line\": {\"width\": 2, \"color\": \"rgb(0, 0, 0)\"}}, {\"x\": [0.5, 0.75, null], \"y\": [1.0, 0.0, null], \"hoverinfo\": \"none\", \"mode\": \"lines\", \"line\": {\"width\": 2, \"color\": \"rgb(0, 0, 0)\"}}, {\"x\": [0.5, 0.375, null], \"y\": [1.0, 0.5, null], \"hoverinfo\": \"none\", \"mode\": \"lines\", \"line\": {\"width\": 2, \"color\": \"rgb(0, 0, 255)\"}}, {\"x\": [0.75, 1.0, null], \"y\": [1.0, 0.5, null], \"hoverinfo\": \"none\", \"mode\": \"lines\", \"line\": {\"width\": 2, \"color\": \"rgb(0, 0, 0)\"}}, {\"x\": [0.75, 0.75, null], \"y\": [1.0, 0.0, null], \"hoverinfo\": \"none\", \"mode\": \"lines\", \"line\": {\"width\": 2, \"color\": \"rgb(0, 0, 0)\"}}, {\"x\": [1.0, 0.75, null], \"y\": [0.5, 0.0, null], \"hoverinfo\": \"none\", \"mode\": \"lines\", \"line\": {\"width\": 2, \"color\": \"rgb(0, 0, 0)\"}}, {\"x\": [0.75, 0.5, null], \"y\": [0.0, 0.0, null], \"hoverinfo\": \"none\", \"mode\": \"lines\", \"line\": {\"width\": 2, \"color\": \"rgb(0, 0, 255)\"}}, {\"x\": [0.5, 0.25, null], \"y\": [0.0, 0.0, null], \"hoverinfo\": \"none\", \"mode\": \"lines\", \"line\": {\"width\": 2, \"color\": \"rgb(0, 0, 255)\"}}, {\"x\": [0.5, 0.375, null], \"y\": [0.0, 0.5, null], \"hoverinfo\": \"none\", \"mode\": \"lines\", \"line\": {\"width\": 2, \"color\": \"rgb(0, 0, 0)\"}}, {\"x\": [0.25, 0.375, null], \"y\": [0.0, 0.5, null], \"hoverinfo\": \"none\", \"mode\": \"lines\", \"line\": {\"width\": 2, \"color\": \"rgb(0, 0, 0)\"}}, {\"x\": [0.0], \"y\": [0.5], \"text\": [], \"textposition\": \"middle center\", \"hoverinfo\": \"none\", \"mode\": \"markers+text\", \"marker\": {\"size\": 20, \"color\": \"rgb(255, 255, 255)\", \"line\": {\"width\": 2, \"color\": \"rgb(0, 0, 0)\"}}, \"textfont\": {\"color\": \"rgb(0, 0, 0)\"}}, {\"x\": [0.25], \"y\": [1.0], \"text\": [], \"textposition\": \"middle center\", \"hoverinfo\": \"none\", \"mode\": \"markers+text\", \"marker\": {\"size\": 20, \"color\": \"rgb(255, 255, 255)\", \"line\": {\"width\": 2, \"color\": \"rgb(0, 0, 0)\"}}, \"textfont\": {\"color\": \"rgb(0, 0, 0)\"}}, {\"x\": [0.5], \"y\": [1.0], \"text\": [], \"textposition\": \"middle center\", \"hoverinfo\": \"none\", \"mode\": \"markers+text\", \"marker\": {\"size\": 20, \"color\": \"rgb(255, 255, 255)\", \"line\": {\"width\": 2, \"color\": \"rgb(0, 0, 0)\"}}, \"textfont\": {\"color\": \"rgb(0, 0, 0)\"}}, {\"x\": [0.75], \"y\": [1.0], \"text\": [], \"textposition\": \"middle center\", \"hoverinfo\": \"none\", \"mode\": \"markers+text\", \"marker\": {\"size\": 20, \"color\": \"rgb(255, 255, 255)\", \"line\": {\"width\": 2, \"color\": \"rgb(0, 0, 0)\"}}, \"textfont\": {\"color\": \"rgb(0, 0, 0)\"}}, {\"x\": [1.0], \"y\": [0.5], \"text\": [], \"textposition\": \"middle center\", \"hoverinfo\": \"none\", \"mode\": \"markers+text\", \"marker\": {\"size\": 20, \"color\": \"rgb(255, 255, 255)\", \"line\": {\"width\": 2, \"color\": \"rgb(0, 0, 0)\"}}, \"textfont\": {\"color\": \"rgb(0, 0, 0)\"}}, {\"x\": [0.75], \"y\": [0.0], \"text\": [], \"textposition\": \"middle center\", \"hoverinfo\": \"none\", \"mode\": \"markers+text\", \"marker\": {\"size\": 20, \"color\": \"rgb(255, 255, 255)\", \"line\": {\"width\": 2, \"color\": \"rgb(0, 0, 0)\"}}, \"textfont\": {\"color\": \"rgb(0, 0, 0)\"}}, {\"x\": [0.5], \"y\": [0.0], \"text\": [], \"textposition\": \"middle center\", \"hoverinfo\": \"none\", \"mode\": \"markers+text\", \"marker\": {\"size\": 20, \"color\": \"rgb(255, 255, 255)\", \"line\": {\"width\": 2, \"color\": \"rgb(0, 0, 0)\"}}, \"textfont\": {\"color\": \"rgb(0, 0, 0)\"}}, {\"x\": [0.25], \"y\": [0.0], \"text\": [], \"textposition\": \"middle center\", \"hoverinfo\": \"none\", \"mode\": \"markers+text\", \"marker\": {\"size\": 20, \"color\": \"rgb(255, 255, 255)\", \"line\": {\"width\": 2, \"color\": \"rgb(0, 0, 0)\"}}, \"textfont\": {\"color\": \"rgb(0, 0, 0)\"}}, {\"x\": [0.375], \"y\": [0.5], \"text\": [], \"textposition\": \"middle center\", \"hoverinfo\": \"none\", \"mode\": \"markers+text\", \"marker\": {\"size\": 20, \"color\": \"rgb(255, 255, 255)\", \"line\": {\"width\": 2, \"color\": \"rgb(0, 0, 0)\"}}, \"textfont\": {\"color\": \"rgb(0, 0, 0)\"}}, {\"x\": [0.08835225700681207, 0.16164774299318793, 0.375, 0.2878787878787879, 0.625, 0.6625594305323629, 0.4750594305323629, 0.911647742993188, 0.7878787878787878, 0.911647742993188, 0.625, 0.375, 0.3999405694676371, 0.2749405694676371], \"y\": [0.768323871496594, 0.268323871496594, 1.0724637681159421, 0.5, 1.0724637681159421, 0.5093898576330907, 0.7406101423669093, 0.768323871496594, 0.5, 0.23167612850340602, -0.07246376811594203, -0.07246376811594203, 0.24061014236690928, 0.2593898576330907], \"text\": [4, 8, 8, 11, 7, 4, 2, 9, 14, 10, 2, 1, 6, 7], \"textposition\": \"middle center\", \"hoverinfo\": \"none\", \"mode\": \"text\", \"textfont\": {\"color\": \"rgb(0, 0, 0)\"}}], \"name\": 7}, {\"data\": [{\"x\": [0.0, 0.25, null], \"y\": [0.5, 1.0, null], \"hoverinfo\": \"none\", \"mode\": \"lines\", \"line\": {\"width\": 2, \"color\": \"rgb(0, 0, 255)\"}}, {\"x\": [0.0, 0.25, null], \"y\": [0.5, 0.0, null], \"hoverinfo\": \"none\", \"mode\": \"lines\", \"line\": {\"width\": 2, \"color\": \"rgb(0, 0, 0)\"}}, {\"x\": [0.25, 0.5, null], \"y\": [1.0, 1.0, null], \"hoverinfo\": \"none\", \"mode\": \"lines\", \"line\": {\"width\": 2, \"color\": \"rgb(0, 0, 0)\"}}, {\"x\": [0.25, 0.25, null], \"y\": [1.0, 0.0, null], \"hoverinfo\": \"none\", \"mode\": \"lines\", \"line\": {\"width\": 2, \"color\": \"rgb(0, 0, 0)\"}}, {\"x\": [0.5, 0.75, null], \"y\": [1.0, 1.0, null], \"hoverinfo\": \"none\", \"mode\": \"lines\", \"line\": {\"width\": 2, \"color\": \"rgb(0, 0, 0)\"}}, {\"x\": [0.5, 0.75, null], \"y\": [1.0, 0.0, null], \"hoverinfo\": \"none\", \"mode\": \"lines\", \"line\": {\"width\": 2, \"color\": \"rgb(0, 0, 0)\"}}, {\"x\": [0.5, 0.375, null], \"y\": [1.0, 0.5, null], \"hoverinfo\": \"none\", \"mode\": \"lines\", \"line\": {\"width\": 2, \"color\": \"rgb(0, 0, 255)\"}}, {\"x\": [0.75, 1.0, null], \"y\": [1.0, 0.5, null], \"hoverinfo\": \"none\", \"mode\": \"lines\", \"line\": {\"width\": 2, \"color\": \"rgb(0, 0, 0)\"}}, {\"x\": [0.75, 0.75, null], \"y\": [1.0, 0.0, null], \"hoverinfo\": \"none\", \"mode\": \"lines\", \"line\": {\"width\": 2, \"color\": \"rgb(0, 0, 0)\"}}, {\"x\": [1.0, 0.75, null], \"y\": [0.5, 0.0, null], \"hoverinfo\": \"none\", \"mode\": \"lines\", \"line\": {\"width\": 2, \"color\": \"rgb(0, 0, 0)\"}}, {\"x\": [0.75, 0.5, null], \"y\": [0.0, 0.0, null], \"hoverinfo\": \"none\", \"mode\": \"lines\", \"line\": {\"width\": 2, \"color\": \"rgb(0, 0, 255)\"}}, {\"x\": [0.5, 0.25, null], \"y\": [0.0, 0.0, null], \"hoverinfo\": \"none\", \"mode\": \"lines\", \"line\": {\"width\": 2, \"color\": \"rgb(0, 0, 255)\"}}, {\"x\": [0.5, 0.375, null], \"y\": [0.0, 0.5, null], \"hoverinfo\": \"none\", \"mode\": \"lines\", \"line\": {\"width\": 2, \"color\": \"rgb(0, 0, 0)\"}}, {\"x\": [0.25, 0.375, null], \"y\": [0.0, 0.5, null], \"hoverinfo\": \"none\", \"mode\": \"lines\", \"line\": {\"width\": 2, \"color\": \"rgb(0, 0, 0)\"}}, {\"x\": [0.0], \"y\": [0.5], \"text\": [], \"textposition\": \"middle center\", \"hoverinfo\": \"none\", \"mode\": \"markers+text\", \"marker\": {\"size\": 20, \"color\": \"rgb(255, 255, 255)\", \"line\": {\"width\": 2, \"color\": \"rgb(0, 0, 0)\"}}, \"textfont\": {\"color\": \"rgb(0, 0, 0)\"}}, {\"x\": [0.25], \"y\": [1.0], \"text\": [], \"textposition\": \"middle center\", \"hoverinfo\": \"none\", \"mode\": \"markers+text\", \"marker\": {\"size\": 20, \"color\": \"rgb(255, 255, 255)\", \"line\": {\"width\": 2, \"color\": \"rgb(0, 0, 0)\"}}, \"textfont\": {\"color\": \"rgb(0, 0, 0)\"}}, {\"x\": [0.5], \"y\": [1.0], \"text\": [], \"textposition\": \"middle center\", \"hoverinfo\": \"none\", \"mode\": \"markers+text\", \"marker\": {\"size\": 20, \"color\": \"rgb(255, 255, 255)\", \"line\": {\"width\": 2, \"color\": \"rgb(0, 0, 0)\"}}, \"textfont\": {\"color\": \"rgb(0, 0, 0)\"}}, {\"x\": [0.75], \"y\": [1.0], \"text\": [], \"textposition\": \"middle center\", \"hoverinfo\": \"none\", \"mode\": \"markers+text\", \"marker\": {\"size\": 20, \"color\": \"rgb(255, 255, 255)\", \"line\": {\"width\": 2, \"color\": \"rgb(0, 0, 0)\"}}, \"textfont\": {\"color\": \"rgb(0, 0, 0)\"}}, {\"x\": [1.0], \"y\": [0.5], \"text\": [], \"textposition\": \"middle center\", \"hoverinfo\": \"none\", \"mode\": \"markers+text\", \"marker\": {\"size\": 20, \"color\": \"rgb(255, 255, 255)\", \"line\": {\"width\": 2, \"color\": \"rgb(0, 0, 0)\"}}, \"textfont\": {\"color\": \"rgb(0, 0, 0)\"}}, {\"x\": [0.75], \"y\": [0.0], \"text\": [], \"textposition\": \"middle center\", \"hoverinfo\": \"none\", \"mode\": \"markers+text\", \"marker\": {\"size\": 20, \"color\": \"rgb(255, 255, 255)\", \"line\": {\"width\": 2, \"color\": \"rgb(0, 0, 0)\"}}, \"textfont\": {\"color\": \"rgb(0, 0, 0)\"}}, {\"x\": [0.5], \"y\": [0.0], \"text\": [], \"textposition\": \"middle center\", \"hoverinfo\": \"none\", \"mode\": \"markers+text\", \"marker\": {\"size\": 20, \"color\": \"rgb(255, 255, 255)\", \"line\": {\"width\": 2, \"color\": \"rgb(0, 0, 0)\"}}, \"textfont\": {\"color\": \"rgb(0, 0, 0)\"}}, {\"x\": [0.25], \"y\": [0.0], \"text\": [], \"textposition\": \"middle center\", \"hoverinfo\": \"none\", \"mode\": \"markers+text\", \"marker\": {\"size\": 20, \"color\": \"rgb(255, 255, 255)\", \"line\": {\"width\": 2, \"color\": \"rgb(0, 0, 0)\"}}, \"textfont\": {\"color\": \"rgb(0, 0, 0)\"}}, {\"x\": [0.375], \"y\": [0.5], \"text\": [], \"textposition\": \"middle center\", \"hoverinfo\": \"none\", \"mode\": \"markers+text\", \"marker\": {\"size\": 20, \"color\": \"rgb(255, 255, 255)\", \"line\": {\"width\": 2, \"color\": \"rgb(0, 0, 0)\"}}, \"textfont\": {\"color\": \"rgb(0, 0, 0)\"}}, {\"x\": [0.08835225700681207, 0.16164774299318793, 0.375, 0.2878787878787879, 0.625, 0.6625594305323629, 0.4750594305323629, 0.911647742993188, 0.7878787878787878, 0.911647742993188, 0.625, 0.375, 0.3999405694676371, 0.2749405694676371], \"y\": [0.768323871496594, 0.268323871496594, 1.0724637681159421, 0.5, 1.0724637681159421, 0.5093898576330907, 0.7406101423669093, 0.768323871496594, 0.5, 0.23167612850340602, -0.07246376811594203, -0.07246376811594203, 0.24061014236690928, 0.2593898576330907], \"text\": [4, 8, 8, 11, 7, 4, 2, 9, 14, 10, 2, 1, 6, 7], \"textposition\": \"middle center\", \"hoverinfo\": \"none\", \"mode\": \"text\", \"textfont\": {\"color\": \"rgb(0, 0, 0)\"}}], \"name\": 8}, {\"data\": [{\"x\": [0.0, 0.25, null], \"y\": [0.5, 1.0, null], \"hoverinfo\": \"none\", \"mode\": \"lines\", \"line\": {\"width\": 2, \"color\": \"rgb(0, 0, 255)\"}}, {\"x\": [0.0, 0.25, null], \"y\": [0.5, 0.0, null], \"hoverinfo\": \"none\", \"mode\": \"lines\", \"line\": {\"width\": 2, \"color\": \"rgb(0, 0, 0)\"}}, {\"x\": [0.25, 0.5, null], \"y\": [1.0, 1.0, null], \"hoverinfo\": \"none\", \"mode\": \"lines\", \"line\": {\"width\": 2, \"color\": \"rgb(0, 0, 0)\"}}, {\"x\": [0.25, 0.25, null], \"y\": [1.0, 0.0, null], \"hoverinfo\": \"none\", \"mode\": \"lines\", \"line\": {\"width\": 2, \"color\": \"rgb(0, 0, 0)\"}}, {\"x\": [0.5, 0.75, null], \"y\": [1.0, 1.0, null], \"hoverinfo\": \"none\", \"mode\": \"lines\", \"line\": {\"width\": 2, \"color\": \"rgb(0, 0, 0)\"}}, {\"x\": [0.5, 0.75, null], \"y\": [1.0, 0.0, null], \"hoverinfo\": \"none\", \"mode\": \"lines\", \"line\": {\"width\": 2, \"color\": \"rgb(255, 0, 0)\"}}, {\"x\": [0.5, 0.375, null], \"y\": [1.0, 0.5, null], \"hoverinfo\": \"none\", \"mode\": \"lines\", \"line\": {\"width\": 2, \"color\": \"rgb(0, 0, 255)\"}}, {\"x\": [0.75, 1.0, null], \"y\": [1.0, 0.5, null], \"hoverinfo\": \"none\", \"mode\": \"lines\", \"line\": {\"width\": 2, \"color\": \"rgb(0, 0, 0)\"}}, {\"x\": [0.75, 0.75, null], \"y\": [1.0, 0.0, null], \"hoverinfo\": \"none\", \"mode\": \"lines\", \"line\": {\"width\": 2, \"color\": \"rgb(0, 0, 0)\"}}, {\"x\": [1.0, 0.75, null], \"y\": [0.5, 0.0, null], \"hoverinfo\": \"none\", \"mode\": \"lines\", \"line\": {\"width\": 2, \"color\": \"rgb(0, 0, 0)\"}}, {\"x\": [0.75, 0.5, null], \"y\": [0.0, 0.0, null], \"hoverinfo\": \"none\", \"mode\": \"lines\", \"line\": {\"width\": 2, \"color\": \"rgb(0, 0, 255)\"}}, {\"x\": [0.5, 0.25, null], \"y\": [0.0, 0.0, null], \"hoverinfo\": \"none\", \"mode\": \"lines\", \"line\": {\"width\": 2, \"color\": \"rgb(0, 0, 255)\"}}, {\"x\": [0.5, 0.375, null], \"y\": [0.0, 0.5, null], \"hoverinfo\": \"none\", \"mode\": \"lines\", \"line\": {\"width\": 2, \"color\": \"rgb(0, 0, 0)\"}}, {\"x\": [0.25, 0.375, null], \"y\": [0.0, 0.5, null], \"hoverinfo\": \"none\", \"mode\": \"lines\", \"line\": {\"width\": 2, \"color\": \"rgb(0, 0, 0)\"}}, {\"x\": [0.0], \"y\": [0.5], \"text\": [], \"textposition\": \"middle center\", \"hoverinfo\": \"none\", \"mode\": \"markers+text\", \"marker\": {\"size\": 20, \"color\": \"rgb(255, 255, 255)\", \"line\": {\"width\": 2, \"color\": \"rgb(0, 0, 0)\"}}, \"textfont\": {\"color\": \"rgb(0, 0, 0)\"}}, {\"x\": [0.25], \"y\": [1.0], \"text\": [], \"textposition\": \"middle center\", \"hoverinfo\": \"none\", \"mode\": \"markers+text\", \"marker\": {\"size\": 20, \"color\": \"rgb(255, 255, 255)\", \"line\": {\"width\": 2, \"color\": \"rgb(0, 0, 0)\"}}, \"textfont\": {\"color\": \"rgb(0, 0, 0)\"}}, {\"x\": [0.5], \"y\": [1.0], \"text\": [], \"textposition\": \"middle center\", \"hoverinfo\": \"none\", \"mode\": \"markers+text\", \"marker\": {\"size\": 20, \"color\": \"rgb(255, 255, 255)\", \"line\": {\"width\": 2, \"color\": \"rgb(0, 0, 0)\"}}, \"textfont\": {\"color\": \"rgb(0, 0, 0)\"}}, {\"x\": [0.75], \"y\": [1.0], \"text\": [], \"textposition\": \"middle center\", \"hoverinfo\": \"none\", \"mode\": \"markers+text\", \"marker\": {\"size\": 20, \"color\": \"rgb(255, 255, 255)\", \"line\": {\"width\": 2, \"color\": \"rgb(0, 0, 0)\"}}, \"textfont\": {\"color\": \"rgb(0, 0, 0)\"}}, {\"x\": [1.0], \"y\": [0.5], \"text\": [], \"textposition\": \"middle center\", \"hoverinfo\": \"none\", \"mode\": \"markers+text\", \"marker\": {\"size\": 20, \"color\": \"rgb(255, 255, 255)\", \"line\": {\"width\": 2, \"color\": \"rgb(0, 0, 0)\"}}, \"textfont\": {\"color\": \"rgb(0, 0, 0)\"}}, {\"x\": [0.75], \"y\": [0.0], \"text\": [], \"textposition\": \"middle center\", \"hoverinfo\": \"none\", \"mode\": \"markers+text\", \"marker\": {\"size\": 20, \"color\": \"rgb(255, 255, 255)\", \"line\": {\"width\": 2, \"color\": \"rgb(0, 0, 0)\"}}, \"textfont\": {\"color\": \"rgb(0, 0, 0)\"}}, {\"x\": [0.5], \"y\": [0.0], \"text\": [], \"textposition\": \"middle center\", \"hoverinfo\": \"none\", \"mode\": \"markers+text\", \"marker\": {\"size\": 20, \"color\": \"rgb(255, 255, 255)\", \"line\": {\"width\": 2, \"color\": \"rgb(0, 0, 0)\"}}, \"textfont\": {\"color\": \"rgb(0, 0, 0)\"}}, {\"x\": [0.25], \"y\": [0.0], \"text\": [], \"textposition\": \"middle center\", \"hoverinfo\": \"none\", \"mode\": \"markers+text\", \"marker\": {\"size\": 20, \"color\": \"rgb(255, 255, 255)\", \"line\": {\"width\": 2, \"color\": \"rgb(0, 0, 0)\"}}, \"textfont\": {\"color\": \"rgb(0, 0, 0)\"}}, {\"x\": [0.375], \"y\": [0.5], \"text\": [], \"textposition\": \"middle center\", \"hoverinfo\": \"none\", \"mode\": \"markers+text\", \"marker\": {\"size\": 20, \"color\": \"rgb(255, 255, 255)\", \"line\": {\"width\": 2, \"color\": \"rgb(0, 0, 0)\"}}, \"textfont\": {\"color\": \"rgb(0, 0, 0)\"}}, {\"x\": [0.08835225700681207, 0.16164774299318793, 0.375, 0.2878787878787879, 0.625, 0.6625594305323629, 0.4750594305323629, 0.911647742993188, 0.7878787878787878, 0.911647742993188, 0.625, 0.375, 0.3999405694676371, 0.2749405694676371], \"y\": [0.768323871496594, 0.268323871496594, 1.0724637681159421, 0.5, 1.0724637681159421, 0.5093898576330907, 0.7406101423669093, 0.768323871496594, 0.5, 0.23167612850340602, -0.07246376811594203, -0.07246376811594203, 0.24061014236690928, 0.2593898576330907], \"text\": [4, 8, 8, 11, 7, 4, 2, 9, 14, 10, 2, 1, 6, 7], \"textposition\": \"middle center\", \"hoverinfo\": \"none\", \"mode\": \"text\", \"textfont\": {\"color\": \"rgb(0, 0, 0)\"}}], \"name\": 9}, {\"data\": [{\"x\": [0.0, 0.25, null], \"y\": [0.5, 1.0, null], \"hoverinfo\": \"none\", \"mode\": \"lines\", \"line\": {\"width\": 2, \"color\": \"rgb(0, 0, 255)\"}}, {\"x\": [0.0, 0.25, null], \"y\": [0.5, 0.0, null], \"hoverinfo\": \"none\", \"mode\": \"lines\", \"line\": {\"width\": 2, \"color\": \"rgb(0, 0, 0)\"}}, {\"x\": [0.25, 0.5, null], \"y\": [1.0, 1.0, null], \"hoverinfo\": \"none\", \"mode\": \"lines\", \"line\": {\"width\": 2, \"color\": \"rgb(0, 0, 0)\"}}, {\"x\": [0.25, 0.25, null], \"y\": [1.0, 0.0, null], \"hoverinfo\": \"none\", \"mode\": \"lines\", \"line\": {\"width\": 2, \"color\": \"rgb(0, 0, 0)\"}}, {\"x\": [0.5, 0.75, null], \"y\": [1.0, 1.0, null], \"hoverinfo\": \"none\", \"mode\": \"lines\", \"line\": {\"width\": 2, \"color\": \"rgb(0, 0, 0)\"}}, {\"x\": [0.5, 0.75, null], \"y\": [1.0, 0.0, null], \"hoverinfo\": \"none\", \"mode\": \"lines\", \"line\": {\"width\": 2, \"color\": \"rgb(0, 0, 255)\"}}, {\"x\": [0.5, 0.375, null], \"y\": [1.0, 0.5, null], \"hoverinfo\": \"none\", \"mode\": \"lines\", \"line\": {\"width\": 2, \"color\": \"rgb(0, 0, 255)\"}}, {\"x\": [0.75, 1.0, null], \"y\": [1.0, 0.5, null], \"hoverinfo\": \"none\", \"mode\": \"lines\", \"line\": {\"width\": 2, \"color\": \"rgb(0, 0, 0)\"}}, {\"x\": [0.75, 0.75, null], \"y\": [1.0, 0.0, null], \"hoverinfo\": \"none\", \"mode\": \"lines\", \"line\": {\"width\": 2, \"color\": \"rgb(0, 0, 0)\"}}, {\"x\": [1.0, 0.75, null], \"y\": [0.5, 0.0, null], \"hoverinfo\": \"none\", \"mode\": \"lines\", \"line\": {\"width\": 2, \"color\": \"rgb(0, 0, 0)\"}}, {\"x\": [0.75, 0.5, null], \"y\": [0.0, 0.0, null], \"hoverinfo\": \"none\", \"mode\": \"lines\", \"line\": {\"width\": 2, \"color\": \"rgb(0, 0, 255)\"}}, {\"x\": [0.5, 0.25, null], \"y\": [0.0, 0.0, null], \"hoverinfo\": \"none\", \"mode\": \"lines\", \"line\": {\"width\": 2, \"color\": \"rgb(0, 0, 255)\"}}, {\"x\": [0.5, 0.375, null], \"y\": [0.0, 0.5, null], \"hoverinfo\": \"none\", \"mode\": \"lines\", \"line\": {\"width\": 2, \"color\": \"rgb(0, 0, 0)\"}}, {\"x\": [0.25, 0.375, null], \"y\": [0.0, 0.5, null], \"hoverinfo\": \"none\", \"mode\": \"lines\", \"line\": {\"width\": 2, \"color\": \"rgb(0, 0, 0)\"}}, {\"x\": [0.0], \"y\": [0.5], \"text\": [], \"textposition\": \"middle center\", \"hoverinfo\": \"none\", \"mode\": \"markers+text\", \"marker\": {\"size\": 20, \"color\": \"rgb(255, 255, 255)\", \"line\": {\"width\": 2, \"color\": \"rgb(0, 0, 0)\"}}, \"textfont\": {\"color\": \"rgb(0, 0, 0)\"}}, {\"x\": [0.25], \"y\": [1.0], \"text\": [], \"textposition\": \"middle center\", \"hoverinfo\": \"none\", \"mode\": \"markers+text\", \"marker\": {\"size\": 20, \"color\": \"rgb(255, 255, 255)\", \"line\": {\"width\": 2, \"color\": \"rgb(0, 0, 0)\"}}, \"textfont\": {\"color\": \"rgb(0, 0, 0)\"}}, {\"x\": [0.5], \"y\": [1.0], \"text\": [], \"textposition\": \"middle center\", \"hoverinfo\": \"none\", \"mode\": \"markers+text\", \"marker\": {\"size\": 20, \"color\": \"rgb(255, 255, 255)\", \"line\": {\"width\": 2, \"color\": \"rgb(0, 0, 0)\"}}, \"textfont\": {\"color\": \"rgb(0, 0, 0)\"}}, {\"x\": [0.75], \"y\": [1.0], \"text\": [], \"textposition\": \"middle center\", \"hoverinfo\": \"none\", \"mode\": \"markers+text\", \"marker\": {\"size\": 20, \"color\": \"rgb(255, 255, 255)\", \"line\": {\"width\": 2, \"color\": \"rgb(0, 0, 0)\"}}, \"textfont\": {\"color\": \"rgb(0, 0, 0)\"}}, {\"x\": [1.0], \"y\": [0.5], \"text\": [], \"textposition\": \"middle center\", \"hoverinfo\": \"none\", \"mode\": \"markers+text\", \"marker\": {\"size\": 20, \"color\": \"rgb(255, 255, 255)\", \"line\": {\"width\": 2, \"color\": \"rgb(0, 0, 0)\"}}, \"textfont\": {\"color\": \"rgb(0, 0, 0)\"}}, {\"x\": [0.75], \"y\": [0.0], \"text\": [], \"textposition\": \"middle center\", \"hoverinfo\": \"none\", \"mode\": \"markers+text\", \"marker\": {\"size\": 20, \"color\": \"rgb(255, 255, 255)\", \"line\": {\"width\": 2, \"color\": \"rgb(0, 0, 0)\"}}, \"textfont\": {\"color\": \"rgb(0, 0, 0)\"}}, {\"x\": [0.5], \"y\": [0.0], \"text\": [], \"textposition\": \"middle center\", \"hoverinfo\": \"none\", \"mode\": \"markers+text\", \"marker\": {\"size\": 20, \"color\": \"rgb(255, 255, 255)\", \"line\": {\"width\": 2, \"color\": \"rgb(0, 0, 0)\"}}, \"textfont\": {\"color\": \"rgb(0, 0, 0)\"}}, {\"x\": [0.25], \"y\": [0.0], \"text\": [], \"textposition\": \"middle center\", \"hoverinfo\": \"none\", \"mode\": \"markers+text\", \"marker\": {\"size\": 20, \"color\": \"rgb(255, 255, 255)\", \"line\": {\"width\": 2, \"color\": \"rgb(0, 0, 0)\"}}, \"textfont\": {\"color\": \"rgb(0, 0, 0)\"}}, {\"x\": [0.375], \"y\": [0.5], \"text\": [], \"textposition\": \"middle center\", \"hoverinfo\": \"none\", \"mode\": \"markers+text\", \"marker\": {\"size\": 20, \"color\": \"rgb(255, 255, 255)\", \"line\": {\"width\": 2, \"color\": \"rgb(0, 0, 0)\"}}, \"textfont\": {\"color\": \"rgb(0, 0, 0)\"}}, {\"x\": [0.08835225700681207, 0.16164774299318793, 0.375, 0.2878787878787879, 0.625, 0.6625594305323629, 0.4750594305323629, 0.911647742993188, 0.7878787878787878, 0.911647742993188, 0.625, 0.375, 0.3999405694676371, 0.2749405694676371], \"y\": [0.768323871496594, 0.268323871496594, 1.0724637681159421, 0.5, 1.0724637681159421, 0.5093898576330907, 0.7406101423669093, 0.768323871496594, 0.5, 0.23167612850340602, -0.07246376811594203, -0.07246376811594203, 0.24061014236690928, 0.2593898576330907], \"text\": [4, 8, 8, 11, 7, 4, 2, 9, 14, 10, 2, 1, 6, 7], \"textposition\": \"middle center\", \"hoverinfo\": \"none\", \"mode\": \"text\", \"textfont\": {\"color\": \"rgb(0, 0, 0)\"}}], \"name\": 10}, {\"data\": [{\"x\": [0.0, 0.25, null], \"y\": [0.5, 1.0, null], \"hoverinfo\": \"none\", \"mode\": \"lines\", \"line\": {\"width\": 2, \"color\": \"rgb(0, 0, 255)\"}}, {\"x\": [0.0, 0.25, null], \"y\": [0.5, 0.0, null], \"hoverinfo\": \"none\", \"mode\": \"lines\", \"line\": {\"width\": 2, \"color\": \"rgb(0, 0, 0)\"}}, {\"x\": [0.25, 0.5, null], \"y\": [1.0, 1.0, null], \"hoverinfo\": \"none\", \"mode\": \"lines\", \"line\": {\"width\": 2, \"color\": \"rgb(0, 0, 0)\"}}, {\"x\": [0.25, 0.25, null], \"y\": [1.0, 0.0, null], \"hoverinfo\": \"none\", \"mode\": \"lines\", \"line\": {\"width\": 2, \"color\": \"rgb(0, 0, 0)\"}}, {\"x\": [0.5, 0.75, null], \"y\": [1.0, 1.0, null], \"hoverinfo\": \"none\", \"mode\": \"lines\", \"line\": {\"width\": 2, \"color\": \"rgb(0, 0, 0)\"}}, {\"x\": [0.5, 0.75, null], \"y\": [1.0, 0.0, null], \"hoverinfo\": \"none\", \"mode\": \"lines\", \"line\": {\"width\": 2, \"color\": \"rgb(0, 0, 255)\"}}, {\"x\": [0.5, 0.375, null], \"y\": [1.0, 0.5, null], \"hoverinfo\": \"none\", \"mode\": \"lines\", \"line\": {\"width\": 2, \"color\": \"rgb(0, 0, 255)\"}}, {\"x\": [0.75, 1.0, null], \"y\": [1.0, 0.5, null], \"hoverinfo\": \"none\", \"mode\": \"lines\", \"line\": {\"width\": 2, \"color\": \"rgb(0, 0, 0)\"}}, {\"x\": [0.75, 0.75, null], \"y\": [1.0, 0.0, null], \"hoverinfo\": \"none\", \"mode\": \"lines\", \"line\": {\"width\": 2, \"color\": \"rgb(0, 0, 0)\"}}, {\"x\": [1.0, 0.75, null], \"y\": [0.5, 0.0, null], \"hoverinfo\": \"none\", \"mode\": \"lines\", \"line\": {\"width\": 2, \"color\": \"rgb(0, 0, 0)\"}}, {\"x\": [0.75, 0.5, null], \"y\": [0.0, 0.0, null], \"hoverinfo\": \"none\", \"mode\": \"lines\", \"line\": {\"width\": 2, \"color\": \"rgb(0, 0, 255)\"}}, {\"x\": [0.5, 0.25, null], \"y\": [0.0, 0.0, null], \"hoverinfo\": \"none\", \"mode\": \"lines\", \"line\": {\"width\": 2, \"color\": \"rgb(0, 0, 255)\"}}, {\"x\": [0.5, 0.375, null], \"y\": [0.0, 0.5, null], \"hoverinfo\": \"none\", \"mode\": \"lines\", \"line\": {\"width\": 2, \"color\": \"rgb(255, 0, 0)\"}}, {\"x\": [0.25, 0.375, null], \"y\": [0.0, 0.5, null], \"hoverinfo\": \"none\", \"mode\": \"lines\", \"line\": {\"width\": 2, \"color\": \"rgb(0, 0, 0)\"}}, {\"x\": [0.0], \"y\": [0.5], \"text\": [], \"textposition\": \"middle center\", \"hoverinfo\": \"none\", \"mode\": \"markers+text\", \"marker\": {\"size\": 20, \"color\": \"rgb(255, 255, 255)\", \"line\": {\"width\": 2, \"color\": \"rgb(0, 0, 0)\"}}, \"textfont\": {\"color\": \"rgb(0, 0, 0)\"}}, {\"x\": [0.25], \"y\": [1.0], \"text\": [], \"textposition\": \"middle center\", \"hoverinfo\": \"none\", \"mode\": \"markers+text\", \"marker\": {\"size\": 20, \"color\": \"rgb(255, 255, 255)\", \"line\": {\"width\": 2, \"color\": \"rgb(0, 0, 0)\"}}, \"textfont\": {\"color\": \"rgb(0, 0, 0)\"}}, {\"x\": [0.5], \"y\": [1.0], \"text\": [], \"textposition\": \"middle center\", \"hoverinfo\": \"none\", \"mode\": \"markers+text\", \"marker\": {\"size\": 20, \"color\": \"rgb(255, 255, 255)\", \"line\": {\"width\": 2, \"color\": \"rgb(0, 0, 0)\"}}, \"textfont\": {\"color\": \"rgb(0, 0, 0)\"}}, {\"x\": [0.75], \"y\": [1.0], \"text\": [], \"textposition\": \"middle center\", \"hoverinfo\": \"none\", \"mode\": \"markers+text\", \"marker\": {\"size\": 20, \"color\": \"rgb(255, 255, 255)\", \"line\": {\"width\": 2, \"color\": \"rgb(0, 0, 0)\"}}, \"textfont\": {\"color\": \"rgb(0, 0, 0)\"}}, {\"x\": [1.0], \"y\": [0.5], \"text\": [], \"textposition\": \"middle center\", \"hoverinfo\": \"none\", \"mode\": \"markers+text\", \"marker\": {\"size\": 20, \"color\": \"rgb(255, 255, 255)\", \"line\": {\"width\": 2, \"color\": \"rgb(0, 0, 0)\"}}, \"textfont\": {\"color\": \"rgb(0, 0, 0)\"}}, {\"x\": [0.75], \"y\": [0.0], \"text\": [], \"textposition\": \"middle center\", \"hoverinfo\": \"none\", \"mode\": \"markers+text\", \"marker\": {\"size\": 20, \"color\": \"rgb(255, 255, 255)\", \"line\": {\"width\": 2, \"color\": \"rgb(0, 0, 0)\"}}, \"textfont\": {\"color\": \"rgb(0, 0, 0)\"}}, {\"x\": [0.5], \"y\": [0.0], \"text\": [], \"textposition\": \"middle center\", \"hoverinfo\": \"none\", \"mode\": \"markers+text\", \"marker\": {\"size\": 20, \"color\": \"rgb(255, 255, 255)\", \"line\": {\"width\": 2, \"color\": \"rgb(0, 0, 0)\"}}, \"textfont\": {\"color\": \"rgb(0, 0, 0)\"}}, {\"x\": [0.25], \"y\": [0.0], \"text\": [], \"textposition\": \"middle center\", \"hoverinfo\": \"none\", \"mode\": \"markers+text\", \"marker\": {\"size\": 20, \"color\": \"rgb(255, 255, 255)\", \"line\": {\"width\": 2, \"color\": \"rgb(0, 0, 0)\"}}, \"textfont\": {\"color\": \"rgb(0, 0, 0)\"}}, {\"x\": [0.375], \"y\": [0.5], \"text\": [], \"textposition\": \"middle center\", \"hoverinfo\": \"none\", \"mode\": \"markers+text\", \"marker\": {\"size\": 20, \"color\": \"rgb(255, 255, 255)\", \"line\": {\"width\": 2, \"color\": \"rgb(0, 0, 0)\"}}, \"textfont\": {\"color\": \"rgb(0, 0, 0)\"}}, {\"x\": [0.08835225700681207, 0.16164774299318793, 0.375, 0.2878787878787879, 0.625, 0.6625594305323629, 0.4750594305323629, 0.911647742993188, 0.7878787878787878, 0.911647742993188, 0.625, 0.375, 0.3999405694676371, 0.2749405694676371], \"y\": [0.768323871496594, 0.268323871496594, 1.0724637681159421, 0.5, 1.0724637681159421, 0.5093898576330907, 0.7406101423669093, 0.768323871496594, 0.5, 0.23167612850340602, -0.07246376811594203, -0.07246376811594203, 0.24061014236690928, 0.2593898576330907], \"text\": [4, 8, 8, 11, 7, 4, 2, 9, 14, 10, 2, 1, 6, 7], \"textposition\": \"middle center\", \"hoverinfo\": \"none\", \"mode\": \"text\", \"textfont\": {\"color\": \"rgb(0, 0, 0)\"}}], \"name\": 11}, {\"data\": [{\"x\": [0.0, 0.25, null], \"y\": [0.5, 1.0, null], \"hoverinfo\": \"none\", \"mode\": \"lines\", \"line\": {\"width\": 2, \"color\": \"rgb(0, 0, 255)\"}}, {\"x\": [0.0, 0.25, null], \"y\": [0.5, 0.0, null], \"hoverinfo\": \"none\", \"mode\": \"lines\", \"line\": {\"width\": 2, \"color\": \"rgb(0, 0, 0)\"}}, {\"x\": [0.25, 0.5, null], \"y\": [1.0, 1.0, null], \"hoverinfo\": \"none\", \"mode\": \"lines\", \"line\": {\"width\": 2, \"color\": \"rgb(0, 0, 0)\"}}, {\"x\": [0.25, 0.25, null], \"y\": [1.0, 0.0, null], \"hoverinfo\": \"none\", \"mode\": \"lines\", \"line\": {\"width\": 2, \"color\": \"rgb(0, 0, 0)\"}}, {\"x\": [0.5, 0.75, null], \"y\": [1.0, 1.0, null], \"hoverinfo\": \"none\", \"mode\": \"lines\", \"line\": {\"width\": 2, \"color\": \"rgb(0, 0, 0)\"}}, {\"x\": [0.5, 0.75, null], \"y\": [1.0, 0.0, null], \"hoverinfo\": \"none\", \"mode\": \"lines\", \"line\": {\"width\": 2, \"color\": \"rgb(0, 0, 255)\"}}, {\"x\": [0.5, 0.375, null], \"y\": [1.0, 0.5, null], \"hoverinfo\": \"none\", \"mode\": \"lines\", \"line\": {\"width\": 2, \"color\": \"rgb(0, 0, 255)\"}}, {\"x\": [0.75, 1.0, null], \"y\": [1.0, 0.5, null], \"hoverinfo\": \"none\", \"mode\": \"lines\", \"line\": {\"width\": 2, \"color\": \"rgb(0, 0, 0)\"}}, {\"x\": [0.75, 0.75, null], \"y\": [1.0, 0.0, null], \"hoverinfo\": \"none\", \"mode\": \"lines\", \"line\": {\"width\": 2, \"color\": \"rgb(0, 0, 0)\"}}, {\"x\": [1.0, 0.75, null], \"y\": [0.5, 0.0, null], \"hoverinfo\": \"none\", \"mode\": \"lines\", \"line\": {\"width\": 2, \"color\": \"rgb(0, 0, 0)\"}}, {\"x\": [0.75, 0.5, null], \"y\": [0.0, 0.0, null], \"hoverinfo\": \"none\", \"mode\": \"lines\", \"line\": {\"width\": 2, \"color\": \"rgb(0, 0, 255)\"}}, {\"x\": [0.5, 0.25, null], \"y\": [0.0, 0.0, null], \"hoverinfo\": \"none\", \"mode\": \"lines\", \"line\": {\"width\": 2, \"color\": \"rgb(0, 0, 255)\"}}, {\"x\": [0.5, 0.375, null], \"y\": [0.0, 0.5, null], \"hoverinfo\": \"none\", \"mode\": \"lines\", \"line\": {\"width\": 2, \"color\": \"rgb(0, 0, 0)\"}}, {\"x\": [0.25, 0.375, null], \"y\": [0.0, 0.5, null], \"hoverinfo\": \"none\", \"mode\": \"lines\", \"line\": {\"width\": 2, \"color\": \"rgb(0, 0, 0)\"}}, {\"x\": [0.0], \"y\": [0.5], \"text\": [], \"textposition\": \"middle center\", \"hoverinfo\": \"none\", \"mode\": \"markers+text\", \"marker\": {\"size\": 20, \"color\": \"rgb(255, 255, 255)\", \"line\": {\"width\": 2, \"color\": \"rgb(0, 0, 0)\"}}, \"textfont\": {\"color\": \"rgb(0, 0, 0)\"}}, {\"x\": [0.25], \"y\": [1.0], \"text\": [], \"textposition\": \"middle center\", \"hoverinfo\": \"none\", \"mode\": \"markers+text\", \"marker\": {\"size\": 20, \"color\": \"rgb(255, 255, 255)\", \"line\": {\"width\": 2, \"color\": \"rgb(0, 0, 0)\"}}, \"textfont\": {\"color\": \"rgb(0, 0, 0)\"}}, {\"x\": [0.5], \"y\": [1.0], \"text\": [], \"textposition\": \"middle center\", \"hoverinfo\": \"none\", \"mode\": \"markers+text\", \"marker\": {\"size\": 20, \"color\": \"rgb(255, 255, 255)\", \"line\": {\"width\": 2, \"color\": \"rgb(0, 0, 0)\"}}, \"textfont\": {\"color\": \"rgb(0, 0, 0)\"}}, {\"x\": [0.75], \"y\": [1.0], \"text\": [], \"textposition\": \"middle center\", \"hoverinfo\": \"none\", \"mode\": \"markers+text\", \"marker\": {\"size\": 20, \"color\": \"rgb(255, 255, 255)\", \"line\": {\"width\": 2, \"color\": \"rgb(0, 0, 0)\"}}, \"textfont\": {\"color\": \"rgb(0, 0, 0)\"}}, {\"x\": [1.0], \"y\": [0.5], \"text\": [], \"textposition\": \"middle center\", \"hoverinfo\": \"none\", \"mode\": \"markers+text\", \"marker\": {\"size\": 20, \"color\": \"rgb(255, 255, 255)\", \"line\": {\"width\": 2, \"color\": \"rgb(0, 0, 0)\"}}, \"textfont\": {\"color\": \"rgb(0, 0, 0)\"}}, {\"x\": [0.75], \"y\": [0.0], \"text\": [], \"textposition\": \"middle center\", \"hoverinfo\": \"none\", \"mode\": \"markers+text\", \"marker\": {\"size\": 20, \"color\": \"rgb(255, 255, 255)\", \"line\": {\"width\": 2, \"color\": \"rgb(0, 0, 0)\"}}, \"textfont\": {\"color\": \"rgb(0, 0, 0)\"}}, {\"x\": [0.5], \"y\": [0.0], \"text\": [], \"textposition\": \"middle center\", \"hoverinfo\": \"none\", \"mode\": \"markers+text\", \"marker\": {\"size\": 20, \"color\": \"rgb(255, 255, 255)\", \"line\": {\"width\": 2, \"color\": \"rgb(0, 0, 0)\"}}, \"textfont\": {\"color\": \"rgb(0, 0, 0)\"}}, {\"x\": [0.25], \"y\": [0.0], \"text\": [], \"textposition\": \"middle center\", \"hoverinfo\": \"none\", \"mode\": \"markers+text\", \"marker\": {\"size\": 20, \"color\": \"rgb(255, 255, 255)\", \"line\": {\"width\": 2, \"color\": \"rgb(0, 0, 0)\"}}, \"textfont\": {\"color\": \"rgb(0, 0, 0)\"}}, {\"x\": [0.375], \"y\": [0.5], \"text\": [], \"textposition\": \"middle center\", \"hoverinfo\": \"none\", \"mode\": \"markers+text\", \"marker\": {\"size\": 20, \"color\": \"rgb(255, 255, 255)\", \"line\": {\"width\": 2, \"color\": \"rgb(0, 0, 0)\"}}, \"textfont\": {\"color\": \"rgb(0, 0, 0)\"}}, {\"x\": [0.08835225700681207, 0.16164774299318793, 0.375, 0.2878787878787879, 0.625, 0.6625594305323629, 0.4750594305323629, 0.911647742993188, 0.7878787878787878, 0.911647742993188, 0.625, 0.375, 0.3999405694676371, 0.2749405694676371], \"y\": [0.768323871496594, 0.268323871496594, 1.0724637681159421, 0.5, 1.0724637681159421, 0.5093898576330907, 0.7406101423669093, 0.768323871496594, 0.5, 0.23167612850340602, -0.07246376811594203, -0.07246376811594203, 0.24061014236690928, 0.2593898576330907], \"text\": [4, 8, 8, 11, 7, 4, 2, 9, 14, 10, 2, 1, 6, 7], \"textposition\": \"middle center\", \"hoverinfo\": \"none\", \"mode\": \"text\", \"textfont\": {\"color\": \"rgb(0, 0, 0)\"}}], \"name\": 12}, {\"data\": [{\"x\": [0.0, 0.25, null], \"y\": [0.5, 1.0, null], \"hoverinfo\": \"none\", \"mode\": \"lines\", \"line\": {\"width\": 2, \"color\": \"rgb(0, 0, 255)\"}}, {\"x\": [0.0, 0.25, null], \"y\": [0.5, 0.0, null], \"hoverinfo\": \"none\", \"mode\": \"lines\", \"line\": {\"width\": 2, \"color\": \"rgb(0, 0, 0)\"}}, {\"x\": [0.25, 0.5, null], \"y\": [1.0, 1.0, null], \"hoverinfo\": \"none\", \"mode\": \"lines\", \"line\": {\"width\": 2, \"color\": \"rgb(0, 0, 0)\"}}, {\"x\": [0.25, 0.25, null], \"y\": [1.0, 0.0, null], \"hoverinfo\": \"none\", \"mode\": \"lines\", \"line\": {\"width\": 2, \"color\": \"rgb(0, 0, 0)\"}}, {\"x\": [0.5, 0.75, null], \"y\": [1.0, 1.0, null], \"hoverinfo\": \"none\", \"mode\": \"lines\", \"line\": {\"width\": 2, \"color\": \"rgb(255, 0, 0)\"}}, {\"x\": [0.5, 0.75, null], \"y\": [1.0, 0.0, null], \"hoverinfo\": \"none\", \"mode\": \"lines\", \"line\": {\"width\": 2, \"color\": \"rgb(0, 0, 255)\"}}, {\"x\": [0.5, 0.375, null], \"y\": [1.0, 0.5, null], \"hoverinfo\": \"none\", \"mode\": \"lines\", \"line\": {\"width\": 2, \"color\": \"rgb(0, 0, 255)\"}}, {\"x\": [0.75, 1.0, null], \"y\": [1.0, 0.5, null], \"hoverinfo\": \"none\", \"mode\": \"lines\", \"line\": {\"width\": 2, \"color\": \"rgb(0, 0, 0)\"}}, {\"x\": [0.75, 0.75, null], \"y\": [1.0, 0.0, null], \"hoverinfo\": \"none\", \"mode\": \"lines\", \"line\": {\"width\": 2, \"color\": \"rgb(0, 0, 0)\"}}, {\"x\": [1.0, 0.75, null], \"y\": [0.5, 0.0, null], \"hoverinfo\": \"none\", \"mode\": \"lines\", \"line\": {\"width\": 2, \"color\": \"rgb(0, 0, 0)\"}}, {\"x\": [0.75, 0.5, null], \"y\": [0.0, 0.0, null], \"hoverinfo\": \"none\", \"mode\": \"lines\", \"line\": {\"width\": 2, \"color\": \"rgb(0, 0, 255)\"}}, {\"x\": [0.5, 0.25, null], \"y\": [0.0, 0.0, null], \"hoverinfo\": \"none\", \"mode\": \"lines\", \"line\": {\"width\": 2, \"color\": \"rgb(0, 0, 255)\"}}, {\"x\": [0.5, 0.375, null], \"y\": [0.0, 0.5, null], \"hoverinfo\": \"none\", \"mode\": \"lines\", \"line\": {\"width\": 2, \"color\": \"rgb(0, 0, 0)\"}}, {\"x\": [0.25, 0.375, null], \"y\": [0.0, 0.5, null], \"hoverinfo\": \"none\", \"mode\": \"lines\", \"line\": {\"width\": 2, \"color\": \"rgb(0, 0, 0)\"}}, {\"x\": [0.0], \"y\": [0.5], \"text\": [], \"textposition\": \"middle center\", \"hoverinfo\": \"none\", \"mode\": \"markers+text\", \"marker\": {\"size\": 20, \"color\": \"rgb(255, 255, 255)\", \"line\": {\"width\": 2, \"color\": \"rgb(0, 0, 0)\"}}, \"textfont\": {\"color\": \"rgb(0, 0, 0)\"}}, {\"x\": [0.25], \"y\": [1.0], \"text\": [], \"textposition\": \"middle center\", \"hoverinfo\": \"none\", \"mode\": \"markers+text\", \"marker\": {\"size\": 20, \"color\": \"rgb(255, 255, 255)\", \"line\": {\"width\": 2, \"color\": \"rgb(0, 0, 0)\"}}, \"textfont\": {\"color\": \"rgb(0, 0, 0)\"}}, {\"x\": [0.5], \"y\": [1.0], \"text\": [], \"textposition\": \"middle center\", \"hoverinfo\": \"none\", \"mode\": \"markers+text\", \"marker\": {\"size\": 20, \"color\": \"rgb(255, 255, 255)\", \"line\": {\"width\": 2, \"color\": \"rgb(0, 0, 0)\"}}, \"textfont\": {\"color\": \"rgb(0, 0, 0)\"}}, {\"x\": [0.75], \"y\": [1.0], \"text\": [], \"textposition\": \"middle center\", \"hoverinfo\": \"none\", \"mode\": \"markers+text\", \"marker\": {\"size\": 20, \"color\": \"rgb(255, 255, 255)\", \"line\": {\"width\": 2, \"color\": \"rgb(0, 0, 0)\"}}, \"textfont\": {\"color\": \"rgb(0, 0, 0)\"}}, {\"x\": [1.0], \"y\": [0.5], \"text\": [], \"textposition\": \"middle center\", \"hoverinfo\": \"none\", \"mode\": \"markers+text\", \"marker\": {\"size\": 20, \"color\": \"rgb(255, 255, 255)\", \"line\": {\"width\": 2, \"color\": \"rgb(0, 0, 0)\"}}, \"textfont\": {\"color\": \"rgb(0, 0, 0)\"}}, {\"x\": [0.75], \"y\": [0.0], \"text\": [], \"textposition\": \"middle center\", \"hoverinfo\": \"none\", \"mode\": \"markers+text\", \"marker\": {\"size\": 20, \"color\": \"rgb(255, 255, 255)\", \"line\": {\"width\": 2, \"color\": \"rgb(0, 0, 0)\"}}, \"textfont\": {\"color\": \"rgb(0, 0, 0)\"}}, {\"x\": [0.5], \"y\": [0.0], \"text\": [], \"textposition\": \"middle center\", \"hoverinfo\": \"none\", \"mode\": \"markers+text\", \"marker\": {\"size\": 20, \"color\": \"rgb(255, 255, 255)\", \"line\": {\"width\": 2, \"color\": \"rgb(0, 0, 0)\"}}, \"textfont\": {\"color\": \"rgb(0, 0, 0)\"}}, {\"x\": [0.25], \"y\": [0.0], \"text\": [], \"textposition\": \"middle center\", \"hoverinfo\": \"none\", \"mode\": \"markers+text\", \"marker\": {\"size\": 20, \"color\": \"rgb(255, 255, 255)\", \"line\": {\"width\": 2, \"color\": \"rgb(0, 0, 0)\"}}, \"textfont\": {\"color\": \"rgb(0, 0, 0)\"}}, {\"x\": [0.375], \"y\": [0.5], \"text\": [], \"textposition\": \"middle center\", \"hoverinfo\": \"none\", \"mode\": \"markers+text\", \"marker\": {\"size\": 20, \"color\": \"rgb(255, 255, 255)\", \"line\": {\"width\": 2, \"color\": \"rgb(0, 0, 0)\"}}, \"textfont\": {\"color\": \"rgb(0, 0, 0)\"}}, {\"x\": [0.08835225700681207, 0.16164774299318793, 0.375, 0.2878787878787879, 0.625, 0.6625594305323629, 0.4750594305323629, 0.911647742993188, 0.7878787878787878, 0.911647742993188, 0.625, 0.375, 0.3999405694676371, 0.2749405694676371], \"y\": [0.768323871496594, 0.268323871496594, 1.0724637681159421, 0.5, 1.0724637681159421, 0.5093898576330907, 0.7406101423669093, 0.768323871496594, 0.5, 0.23167612850340602, -0.07246376811594203, -0.07246376811594203, 0.24061014236690928, 0.2593898576330907], \"text\": [4, 8, 8, 11, 7, 4, 2, 9, 14, 10, 2, 1, 6, 7], \"textposition\": \"middle center\", \"hoverinfo\": \"none\", \"mode\": \"text\", \"textfont\": {\"color\": \"rgb(0, 0, 0)\"}}], \"name\": 13}, {\"data\": [{\"x\": [0.0, 0.25, null], \"y\": [0.5, 1.0, null], \"hoverinfo\": \"none\", \"mode\": \"lines\", \"line\": {\"width\": 2, \"color\": \"rgb(0, 0, 255)\"}}, {\"x\": [0.0, 0.25, null], \"y\": [0.5, 0.0, null], \"hoverinfo\": \"none\", \"mode\": \"lines\", \"line\": {\"width\": 2, \"color\": \"rgb(0, 0, 0)\"}}, {\"x\": [0.25, 0.5, null], \"y\": [1.0, 1.0, null], \"hoverinfo\": \"none\", \"mode\": \"lines\", \"line\": {\"width\": 2, \"color\": \"rgb(0, 0, 0)\"}}, {\"x\": [0.25, 0.25, null], \"y\": [1.0, 0.0, null], \"hoverinfo\": \"none\", \"mode\": \"lines\", \"line\": {\"width\": 2, \"color\": \"rgb(0, 0, 0)\"}}, {\"x\": [0.5, 0.75, null], \"y\": [1.0, 1.0, null], \"hoverinfo\": \"none\", \"mode\": \"lines\", \"line\": {\"width\": 2, \"color\": \"rgb(0, 0, 255)\"}}, {\"x\": [0.5, 0.75, null], \"y\": [1.0, 0.0, null], \"hoverinfo\": \"none\", \"mode\": \"lines\", \"line\": {\"width\": 2, \"color\": \"rgb(0, 0, 255)\"}}, {\"x\": [0.5, 0.375, null], \"y\": [1.0, 0.5, null], \"hoverinfo\": \"none\", \"mode\": \"lines\", \"line\": {\"width\": 2, \"color\": \"rgb(0, 0, 255)\"}}, {\"x\": [0.75, 1.0, null], \"y\": [1.0, 0.5, null], \"hoverinfo\": \"none\", \"mode\": \"lines\", \"line\": {\"width\": 2, \"color\": \"rgb(0, 0, 0)\"}}, {\"x\": [0.75, 0.75, null], \"y\": [1.0, 0.0, null], \"hoverinfo\": \"none\", \"mode\": \"lines\", \"line\": {\"width\": 2, \"color\": \"rgb(0, 0, 0)\"}}, {\"x\": [1.0, 0.75, null], \"y\": [0.5, 0.0, null], \"hoverinfo\": \"none\", \"mode\": \"lines\", \"line\": {\"width\": 2, \"color\": \"rgb(0, 0, 0)\"}}, {\"x\": [0.75, 0.5, null], \"y\": [0.0, 0.0, null], \"hoverinfo\": \"none\", \"mode\": \"lines\", \"line\": {\"width\": 2, \"color\": \"rgb(0, 0, 255)\"}}, {\"x\": [0.5, 0.25, null], \"y\": [0.0, 0.0, null], \"hoverinfo\": \"none\", \"mode\": \"lines\", \"line\": {\"width\": 2, \"color\": \"rgb(0, 0, 255)\"}}, {\"x\": [0.5, 0.375, null], \"y\": [0.0, 0.5, null], \"hoverinfo\": \"none\", \"mode\": \"lines\", \"line\": {\"width\": 2, \"color\": \"rgb(0, 0, 0)\"}}, {\"x\": [0.25, 0.375, null], \"y\": [0.0, 0.5, null], \"hoverinfo\": \"none\", \"mode\": \"lines\", \"line\": {\"width\": 2, \"color\": \"rgb(0, 0, 0)\"}}, {\"x\": [0.0], \"y\": [0.5], \"text\": [], \"textposition\": \"middle center\", \"hoverinfo\": \"none\", \"mode\": \"markers+text\", \"marker\": {\"size\": 20, \"color\": \"rgb(255, 255, 255)\", \"line\": {\"width\": 2, \"color\": \"rgb(0, 0, 0)\"}}, \"textfont\": {\"color\": \"rgb(0, 0, 0)\"}}, {\"x\": [0.25], \"y\": [1.0], \"text\": [], \"textposition\": \"middle center\", \"hoverinfo\": \"none\", \"mode\": \"markers+text\", \"marker\": {\"size\": 20, \"color\": \"rgb(255, 255, 255)\", \"line\": {\"width\": 2, \"color\": \"rgb(0, 0, 0)\"}}, \"textfont\": {\"color\": \"rgb(0, 0, 0)\"}}, {\"x\": [0.5], \"y\": [1.0], \"text\": [], \"textposition\": \"middle center\", \"hoverinfo\": \"none\", \"mode\": \"markers+text\", \"marker\": {\"size\": 20, \"color\": \"rgb(255, 255, 255)\", \"line\": {\"width\": 2, \"color\": \"rgb(0, 0, 0)\"}}, \"textfont\": {\"color\": \"rgb(0, 0, 0)\"}}, {\"x\": [0.75], \"y\": [1.0], \"text\": [], \"textposition\": \"middle center\", \"hoverinfo\": \"none\", \"mode\": \"markers+text\", \"marker\": {\"size\": 20, \"color\": \"rgb(255, 255, 255)\", \"line\": {\"width\": 2, \"color\": \"rgb(0, 0, 0)\"}}, \"textfont\": {\"color\": \"rgb(0, 0, 0)\"}}, {\"x\": [1.0], \"y\": [0.5], \"text\": [], \"textposition\": \"middle center\", \"hoverinfo\": \"none\", \"mode\": \"markers+text\", \"marker\": {\"size\": 20, \"color\": \"rgb(255, 255, 255)\", \"line\": {\"width\": 2, \"color\": \"rgb(0, 0, 0)\"}}, \"textfont\": {\"color\": \"rgb(0, 0, 0)\"}}, {\"x\": [0.75], \"y\": [0.0], \"text\": [], \"textposition\": \"middle center\", \"hoverinfo\": \"none\", \"mode\": \"markers+text\", \"marker\": {\"size\": 20, \"color\": \"rgb(255, 255, 255)\", \"line\": {\"width\": 2, \"color\": \"rgb(0, 0, 0)\"}}, \"textfont\": {\"color\": \"rgb(0, 0, 0)\"}}, {\"x\": [0.5], \"y\": [0.0], \"text\": [], \"textposition\": \"middle center\", \"hoverinfo\": \"none\", \"mode\": \"markers+text\", \"marker\": {\"size\": 20, \"color\": \"rgb(255, 255, 255)\", \"line\": {\"width\": 2, \"color\": \"rgb(0, 0, 0)\"}}, \"textfont\": {\"color\": \"rgb(0, 0, 0)\"}}, {\"x\": [0.25], \"y\": [0.0], \"text\": [], \"textposition\": \"middle center\", \"hoverinfo\": \"none\", \"mode\": \"markers+text\", \"marker\": {\"size\": 20, \"color\": \"rgb(255, 255, 255)\", \"line\": {\"width\": 2, \"color\": \"rgb(0, 0, 0)\"}}, \"textfont\": {\"color\": \"rgb(0, 0, 0)\"}}, {\"x\": [0.375], \"y\": [0.5], \"text\": [], \"textposition\": \"middle center\", \"hoverinfo\": \"none\", \"mode\": \"markers+text\", \"marker\": {\"size\": 20, \"color\": \"rgb(255, 255, 255)\", \"line\": {\"width\": 2, \"color\": \"rgb(0, 0, 0)\"}}, \"textfont\": {\"color\": \"rgb(0, 0, 0)\"}}, {\"x\": [0.08835225700681207, 0.16164774299318793, 0.375, 0.2878787878787879, 0.625, 0.6625594305323629, 0.4750594305323629, 0.911647742993188, 0.7878787878787878, 0.911647742993188, 0.625, 0.375, 0.3999405694676371, 0.2749405694676371], \"y\": [0.768323871496594, 0.268323871496594, 1.0724637681159421, 0.5, 1.0724637681159421, 0.5093898576330907, 0.7406101423669093, 0.768323871496594, 0.5, 0.23167612850340602, -0.07246376811594203, -0.07246376811594203, 0.24061014236690928, 0.2593898576330907], \"text\": [4, 8, 8, 11, 7, 4, 2, 9, 14, 10, 2, 1, 6, 7], \"textposition\": \"middle center\", \"hoverinfo\": \"none\", \"mode\": \"text\", \"textfont\": {\"color\": \"rgb(0, 0, 0)\"}}], \"name\": 14}, {\"data\": [{\"x\": [0.0, 0.25, null], \"y\": [0.5, 1.0, null], \"hoverinfo\": \"none\", \"mode\": \"lines\", \"line\": {\"width\": 2, \"color\": \"rgb(0, 0, 255)\"}}, {\"x\": [0.0, 0.25, null], \"y\": [0.5, 0.0, null], \"hoverinfo\": \"none\", \"mode\": \"lines\", \"line\": {\"width\": 2, \"color\": \"rgb(0, 0, 0)\"}}, {\"x\": [0.25, 0.5, null], \"y\": [1.0, 1.0, null], \"hoverinfo\": \"none\", \"mode\": \"lines\", \"line\": {\"width\": 2, \"color\": \"rgb(0, 0, 0)\"}}, {\"x\": [0.25, 0.25, null], \"y\": [1.0, 0.0, null], \"hoverinfo\": \"none\", \"mode\": \"lines\", \"line\": {\"width\": 2, \"color\": \"rgb(0, 0, 0)\"}}, {\"x\": [0.5, 0.75, null], \"y\": [1.0, 1.0, null], \"hoverinfo\": \"none\", \"mode\": \"lines\", \"line\": {\"width\": 2, \"color\": \"rgb(0, 0, 255)\"}}, {\"x\": [0.5, 0.75, null], \"y\": [1.0, 0.0, null], \"hoverinfo\": \"none\", \"mode\": \"lines\", \"line\": {\"width\": 2, \"color\": \"rgb(0, 0, 255)\"}}, {\"x\": [0.5, 0.375, null], \"y\": [1.0, 0.5, null], \"hoverinfo\": \"none\", \"mode\": \"lines\", \"line\": {\"width\": 2, \"color\": \"rgb(0, 0, 255)\"}}, {\"x\": [0.75, 1.0, null], \"y\": [1.0, 0.5, null], \"hoverinfo\": \"none\", \"mode\": \"lines\", \"line\": {\"width\": 2, \"color\": \"rgb(0, 0, 0)\"}}, {\"x\": [0.75, 0.75, null], \"y\": [1.0, 0.0, null], \"hoverinfo\": \"none\", \"mode\": \"lines\", \"line\": {\"width\": 2, \"color\": \"rgb(0, 0, 0)\"}}, {\"x\": [1.0, 0.75, null], \"y\": [0.5, 0.0, null], \"hoverinfo\": \"none\", \"mode\": \"lines\", \"line\": {\"width\": 2, \"color\": \"rgb(0, 0, 0)\"}}, {\"x\": [0.75, 0.5, null], \"y\": [0.0, 0.0, null], \"hoverinfo\": \"none\", \"mode\": \"lines\", \"line\": {\"width\": 2, \"color\": \"rgb(0, 0, 255)\"}}, {\"x\": [0.5, 0.25, null], \"y\": [0.0, 0.0, null], \"hoverinfo\": \"none\", \"mode\": \"lines\", \"line\": {\"width\": 2, \"color\": \"rgb(0, 0, 255)\"}}, {\"x\": [0.5, 0.375, null], \"y\": [0.0, 0.5, null], \"hoverinfo\": \"none\", \"mode\": \"lines\", \"line\": {\"width\": 2, \"color\": \"rgb(0, 0, 0)\"}}, {\"x\": [0.25, 0.375, null], \"y\": [0.0, 0.5, null], \"hoverinfo\": \"none\", \"mode\": \"lines\", \"line\": {\"width\": 2, \"color\": \"rgb(255, 0, 0)\"}}, {\"x\": [0.0], \"y\": [0.5], \"text\": [], \"textposition\": \"middle center\", \"hoverinfo\": \"none\", \"mode\": \"markers+text\", \"marker\": {\"size\": 20, \"color\": \"rgb(255, 255, 255)\", \"line\": {\"width\": 2, \"color\": \"rgb(0, 0, 0)\"}}, \"textfont\": {\"color\": \"rgb(0, 0, 0)\"}}, {\"x\": [0.25], \"y\": [1.0], \"text\": [], \"textposition\": \"middle center\", \"hoverinfo\": \"none\", \"mode\": \"markers+text\", \"marker\": {\"size\": 20, \"color\": \"rgb(255, 255, 255)\", \"line\": {\"width\": 2, \"color\": \"rgb(0, 0, 0)\"}}, \"textfont\": {\"color\": \"rgb(0, 0, 0)\"}}, {\"x\": [0.5], \"y\": [1.0], \"text\": [], \"textposition\": \"middle center\", \"hoverinfo\": \"none\", \"mode\": \"markers+text\", \"marker\": {\"size\": 20, \"color\": \"rgb(255, 255, 255)\", \"line\": {\"width\": 2, \"color\": \"rgb(0, 0, 0)\"}}, \"textfont\": {\"color\": \"rgb(0, 0, 0)\"}}, {\"x\": [0.75], \"y\": [1.0], \"text\": [], \"textposition\": \"middle center\", \"hoverinfo\": \"none\", \"mode\": \"markers+text\", \"marker\": {\"size\": 20, \"color\": \"rgb(255, 255, 255)\", \"line\": {\"width\": 2, \"color\": \"rgb(0, 0, 0)\"}}, \"textfont\": {\"color\": \"rgb(0, 0, 0)\"}}, {\"x\": [1.0], \"y\": [0.5], \"text\": [], \"textposition\": \"middle center\", \"hoverinfo\": \"none\", \"mode\": \"markers+text\", \"marker\": {\"size\": 20, \"color\": \"rgb(255, 255, 255)\", \"line\": {\"width\": 2, \"color\": \"rgb(0, 0, 0)\"}}, \"textfont\": {\"color\": \"rgb(0, 0, 0)\"}}, {\"x\": [0.75], \"y\": [0.0], \"text\": [], \"textposition\": \"middle center\", \"hoverinfo\": \"none\", \"mode\": \"markers+text\", \"marker\": {\"size\": 20, \"color\": \"rgb(255, 255, 255)\", \"line\": {\"width\": 2, \"color\": \"rgb(0, 0, 0)\"}}, \"textfont\": {\"color\": \"rgb(0, 0, 0)\"}}, {\"x\": [0.5], \"y\": [0.0], \"text\": [], \"textposition\": \"middle center\", \"hoverinfo\": \"none\", \"mode\": \"markers+text\", \"marker\": {\"size\": 20, \"color\": \"rgb(255, 255, 255)\", \"line\": {\"width\": 2, \"color\": \"rgb(0, 0, 0)\"}}, \"textfont\": {\"color\": \"rgb(0, 0, 0)\"}}, {\"x\": [0.25], \"y\": [0.0], \"text\": [], \"textposition\": \"middle center\", \"hoverinfo\": \"none\", \"mode\": \"markers+text\", \"marker\": {\"size\": 20, \"color\": \"rgb(255, 255, 255)\", \"line\": {\"width\": 2, \"color\": \"rgb(0, 0, 0)\"}}, \"textfont\": {\"color\": \"rgb(0, 0, 0)\"}}, {\"x\": [0.375], \"y\": [0.5], \"text\": [], \"textposition\": \"middle center\", \"hoverinfo\": \"none\", \"mode\": \"markers+text\", \"marker\": {\"size\": 20, \"color\": \"rgb(255, 255, 255)\", \"line\": {\"width\": 2, \"color\": \"rgb(0, 0, 0)\"}}, \"textfont\": {\"color\": \"rgb(0, 0, 0)\"}}, {\"x\": [0.08835225700681207, 0.16164774299318793, 0.375, 0.2878787878787879, 0.625, 0.6625594305323629, 0.4750594305323629, 0.911647742993188, 0.7878787878787878, 0.911647742993188, 0.625, 0.375, 0.3999405694676371, 0.2749405694676371], \"y\": [0.768323871496594, 0.268323871496594, 1.0724637681159421, 0.5, 1.0724637681159421, 0.5093898576330907, 0.7406101423669093, 0.768323871496594, 0.5, 0.23167612850340602, -0.07246376811594203, -0.07246376811594203, 0.24061014236690928, 0.2593898576330907], \"text\": [4, 8, 8, 11, 7, 4, 2, 9, 14, 10, 2, 1, 6, 7], \"textposition\": \"middle center\", \"hoverinfo\": \"none\", \"mode\": \"text\", \"textfont\": {\"color\": \"rgb(0, 0, 0)\"}}], \"name\": 15}, {\"data\": [{\"x\": [0.0, 0.25, null], \"y\": [0.5, 1.0, null], \"hoverinfo\": \"none\", \"mode\": \"lines\", \"line\": {\"width\": 2, \"color\": \"rgb(0, 0, 255)\"}}, {\"x\": [0.0, 0.25, null], \"y\": [0.5, 0.0, null], \"hoverinfo\": \"none\", \"mode\": \"lines\", \"line\": {\"width\": 2, \"color\": \"rgb(0, 0, 0)\"}}, {\"x\": [0.25, 0.5, null], \"y\": [1.0, 1.0, null], \"hoverinfo\": \"none\", \"mode\": \"lines\", \"line\": {\"width\": 2, \"color\": \"rgb(0, 0, 0)\"}}, {\"x\": [0.25, 0.25, null], \"y\": [1.0, 0.0, null], \"hoverinfo\": \"none\", \"mode\": \"lines\", \"line\": {\"width\": 2, \"color\": \"rgb(0, 0, 0)\"}}, {\"x\": [0.5, 0.75, null], \"y\": [1.0, 1.0, null], \"hoverinfo\": \"none\", \"mode\": \"lines\", \"line\": {\"width\": 2, \"color\": \"rgb(0, 0, 255)\"}}, {\"x\": [0.5, 0.75, null], \"y\": [1.0, 0.0, null], \"hoverinfo\": \"none\", \"mode\": \"lines\", \"line\": {\"width\": 2, \"color\": \"rgb(0, 0, 255)\"}}, {\"x\": [0.5, 0.375, null], \"y\": [1.0, 0.5, null], \"hoverinfo\": \"none\", \"mode\": \"lines\", \"line\": {\"width\": 2, \"color\": \"rgb(0, 0, 255)\"}}, {\"x\": [0.75, 1.0, null], \"y\": [1.0, 0.5, null], \"hoverinfo\": \"none\", \"mode\": \"lines\", \"line\": {\"width\": 2, \"color\": \"rgb(0, 0, 0)\"}}, {\"x\": [0.75, 0.75, null], \"y\": [1.0, 0.0, null], \"hoverinfo\": \"none\", \"mode\": \"lines\", \"line\": {\"width\": 2, \"color\": \"rgb(0, 0, 0)\"}}, {\"x\": [1.0, 0.75, null], \"y\": [0.5, 0.0, null], \"hoverinfo\": \"none\", \"mode\": \"lines\", \"line\": {\"width\": 2, \"color\": \"rgb(0, 0, 0)\"}}, {\"x\": [0.75, 0.5, null], \"y\": [0.0, 0.0, null], \"hoverinfo\": \"none\", \"mode\": \"lines\", \"line\": {\"width\": 2, \"color\": \"rgb(0, 0, 255)\"}}, {\"x\": [0.5, 0.25, null], \"y\": [0.0, 0.0, null], \"hoverinfo\": \"none\", \"mode\": \"lines\", \"line\": {\"width\": 2, \"color\": \"rgb(0, 0, 255)\"}}, {\"x\": [0.5, 0.375, null], \"y\": [0.0, 0.5, null], \"hoverinfo\": \"none\", \"mode\": \"lines\", \"line\": {\"width\": 2, \"color\": \"rgb(0, 0, 0)\"}}, {\"x\": [0.25, 0.375, null], \"y\": [0.0, 0.5, null], \"hoverinfo\": \"none\", \"mode\": \"lines\", \"line\": {\"width\": 2, \"color\": \"rgb(0, 0, 0)\"}}, {\"x\": [0.0], \"y\": [0.5], \"text\": [], \"textposition\": \"middle center\", \"hoverinfo\": \"none\", \"mode\": \"markers+text\", \"marker\": {\"size\": 20, \"color\": \"rgb(255, 255, 255)\", \"line\": {\"width\": 2, \"color\": \"rgb(0, 0, 0)\"}}, \"textfont\": {\"color\": \"rgb(0, 0, 0)\"}}, {\"x\": [0.25], \"y\": [1.0], \"text\": [], \"textposition\": \"middle center\", \"hoverinfo\": \"none\", \"mode\": \"markers+text\", \"marker\": {\"size\": 20, \"color\": \"rgb(255, 255, 255)\", \"line\": {\"width\": 2, \"color\": \"rgb(0, 0, 0)\"}}, \"textfont\": {\"color\": \"rgb(0, 0, 0)\"}}, {\"x\": [0.5], \"y\": [1.0], \"text\": [], \"textposition\": \"middle center\", \"hoverinfo\": \"none\", \"mode\": \"markers+text\", \"marker\": {\"size\": 20, \"color\": \"rgb(255, 255, 255)\", \"line\": {\"width\": 2, \"color\": \"rgb(0, 0, 0)\"}}, \"textfont\": {\"color\": \"rgb(0, 0, 0)\"}}, {\"x\": [0.75], \"y\": [1.0], \"text\": [], \"textposition\": \"middle center\", \"hoverinfo\": \"none\", \"mode\": \"markers+text\", \"marker\": {\"size\": 20, \"color\": \"rgb(255, 255, 255)\", \"line\": {\"width\": 2, \"color\": \"rgb(0, 0, 0)\"}}, \"textfont\": {\"color\": \"rgb(0, 0, 0)\"}}, {\"x\": [1.0], \"y\": [0.5], \"text\": [], \"textposition\": \"middle center\", \"hoverinfo\": \"none\", \"mode\": \"markers+text\", \"marker\": {\"size\": 20, \"color\": \"rgb(255, 255, 255)\", \"line\": {\"width\": 2, \"color\": \"rgb(0, 0, 0)\"}}, \"textfont\": {\"color\": \"rgb(0, 0, 0)\"}}, {\"x\": [0.75], \"y\": [0.0], \"text\": [], \"textposition\": \"middle center\", \"hoverinfo\": \"none\", \"mode\": \"markers+text\", \"marker\": {\"size\": 20, \"color\": \"rgb(255, 255, 255)\", \"line\": {\"width\": 2, \"color\": \"rgb(0, 0, 0)\"}}, \"textfont\": {\"color\": \"rgb(0, 0, 0)\"}}, {\"x\": [0.5], \"y\": [0.0], \"text\": [], \"textposition\": \"middle center\", \"hoverinfo\": \"none\", \"mode\": \"markers+text\", \"marker\": {\"size\": 20, \"color\": \"rgb(255, 255, 255)\", \"line\": {\"width\": 2, \"color\": \"rgb(0, 0, 0)\"}}, \"textfont\": {\"color\": \"rgb(0, 0, 0)\"}}, {\"x\": [0.25], \"y\": [0.0], \"text\": [], \"textposition\": \"middle center\", \"hoverinfo\": \"none\", \"mode\": \"markers+text\", \"marker\": {\"size\": 20, \"color\": \"rgb(255, 255, 255)\", \"line\": {\"width\": 2, \"color\": \"rgb(0, 0, 0)\"}}, \"textfont\": {\"color\": \"rgb(0, 0, 0)\"}}, {\"x\": [0.375], \"y\": [0.5], \"text\": [], \"textposition\": \"middle center\", \"hoverinfo\": \"none\", \"mode\": \"markers+text\", \"marker\": {\"size\": 20, \"color\": \"rgb(255, 255, 255)\", \"line\": {\"width\": 2, \"color\": \"rgb(0, 0, 0)\"}}, \"textfont\": {\"color\": \"rgb(0, 0, 0)\"}}, {\"x\": [0.08835225700681207, 0.16164774299318793, 0.375, 0.2878787878787879, 0.625, 0.6625594305323629, 0.4750594305323629, 0.911647742993188, 0.7878787878787878, 0.911647742993188, 0.625, 0.375, 0.3999405694676371, 0.2749405694676371], \"y\": [0.768323871496594, 0.268323871496594, 1.0724637681159421, 0.5, 1.0724637681159421, 0.5093898576330907, 0.7406101423669093, 0.768323871496594, 0.5, 0.23167612850340602, -0.07246376811594203, -0.07246376811594203, 0.24061014236690928, 0.2593898576330907], \"text\": [4, 8, 8, 11, 7, 4, 2, 9, 14, 10, 2, 1, 6, 7], \"textposition\": \"middle center\", \"hoverinfo\": \"none\", \"mode\": \"text\", \"textfont\": {\"color\": \"rgb(0, 0, 0)\"}}], \"name\": 16}, {\"data\": [{\"x\": [0.0, 0.25, null], \"y\": [0.5, 1.0, null], \"hoverinfo\": \"none\", \"mode\": \"lines\", \"line\": {\"width\": 2, \"color\": \"rgb(0, 0, 255)\"}}, {\"x\": [0.0, 0.25, null], \"y\": [0.5, 0.0, null], \"hoverinfo\": \"none\", \"mode\": \"lines\", \"line\": {\"width\": 2, \"color\": \"rgb(255, 0, 0)\"}}, {\"x\": [0.25, 0.5, null], \"y\": [1.0, 1.0, null], \"hoverinfo\": \"none\", \"mode\": \"lines\", \"line\": {\"width\": 2, \"color\": \"rgb(0, 0, 0)\"}}, {\"x\": [0.25, 0.25, null], \"y\": [1.0, 0.0, null], \"hoverinfo\": \"none\", \"mode\": \"lines\", \"line\": {\"width\": 2, \"color\": \"rgb(0, 0, 0)\"}}, {\"x\": [0.5, 0.75, null], \"y\": [1.0, 1.0, null], \"hoverinfo\": \"none\", \"mode\": \"lines\", \"line\": {\"width\": 2, \"color\": \"rgb(0, 0, 255)\"}}, {\"x\": [0.5, 0.75, null], \"y\": [1.0, 0.0, null], \"hoverinfo\": \"none\", \"mode\": \"lines\", \"line\": {\"width\": 2, \"color\": \"rgb(0, 0, 255)\"}}, {\"x\": [0.5, 0.375, null], \"y\": [1.0, 0.5, null], \"hoverinfo\": \"none\", \"mode\": \"lines\", \"line\": {\"width\": 2, \"color\": \"rgb(0, 0, 255)\"}}, {\"x\": [0.75, 1.0, null], \"y\": [1.0, 0.5, null], \"hoverinfo\": \"none\", \"mode\": \"lines\", \"line\": {\"width\": 2, \"color\": \"rgb(0, 0, 0)\"}}, {\"x\": [0.75, 0.75, null], \"y\": [1.0, 0.0, null], \"hoverinfo\": \"none\", \"mode\": \"lines\", \"line\": {\"width\": 2, \"color\": \"rgb(0, 0, 0)\"}}, {\"x\": [1.0, 0.75, null], \"y\": [0.5, 0.0, null], \"hoverinfo\": \"none\", \"mode\": \"lines\", \"line\": {\"width\": 2, \"color\": \"rgb(0, 0, 0)\"}}, {\"x\": [0.75, 0.5, null], \"y\": [0.0, 0.0, null], \"hoverinfo\": \"none\", \"mode\": \"lines\", \"line\": {\"width\": 2, \"color\": \"rgb(0, 0, 255)\"}}, {\"x\": [0.5, 0.25, null], \"y\": [0.0, 0.0, null], \"hoverinfo\": \"none\", \"mode\": \"lines\", \"line\": {\"width\": 2, \"color\": \"rgb(0, 0, 255)\"}}, {\"x\": [0.5, 0.375, null], \"y\": [0.0, 0.5, null], \"hoverinfo\": \"none\", \"mode\": \"lines\", \"line\": {\"width\": 2, \"color\": \"rgb(0, 0, 0)\"}}, {\"x\": [0.25, 0.375, null], \"y\": [0.0, 0.5, null], \"hoverinfo\": \"none\", \"mode\": \"lines\", \"line\": {\"width\": 2, \"color\": \"rgb(0, 0, 0)\"}}, {\"x\": [0.0], \"y\": [0.5], \"text\": [], \"textposition\": \"middle center\", \"hoverinfo\": \"none\", \"mode\": \"markers+text\", \"marker\": {\"size\": 20, \"color\": \"rgb(255, 255, 255)\", \"line\": {\"width\": 2, \"color\": \"rgb(0, 0, 0)\"}}, \"textfont\": {\"color\": \"rgb(0, 0, 0)\"}}, {\"x\": [0.25], \"y\": [1.0], \"text\": [], \"textposition\": \"middle center\", \"hoverinfo\": \"none\", \"mode\": \"markers+text\", \"marker\": {\"size\": 20, \"color\": \"rgb(255, 255, 255)\", \"line\": {\"width\": 2, \"color\": \"rgb(0, 0, 0)\"}}, \"textfont\": {\"color\": \"rgb(0, 0, 0)\"}}, {\"x\": [0.5], \"y\": [1.0], \"text\": [], \"textposition\": \"middle center\", \"hoverinfo\": \"none\", \"mode\": \"markers+text\", \"marker\": {\"size\": 20, \"color\": \"rgb(255, 255, 255)\", \"line\": {\"width\": 2, \"color\": \"rgb(0, 0, 0)\"}}, \"textfont\": {\"color\": \"rgb(0, 0, 0)\"}}, {\"x\": [0.75], \"y\": [1.0], \"text\": [], \"textposition\": \"middle center\", \"hoverinfo\": \"none\", \"mode\": \"markers+text\", \"marker\": {\"size\": 20, \"color\": \"rgb(255, 255, 255)\", \"line\": {\"width\": 2, \"color\": \"rgb(0, 0, 0)\"}}, \"textfont\": {\"color\": \"rgb(0, 0, 0)\"}}, {\"x\": [1.0], \"y\": [0.5], \"text\": [], \"textposition\": \"middle center\", \"hoverinfo\": \"none\", \"mode\": \"markers+text\", \"marker\": {\"size\": 20, \"color\": \"rgb(255, 255, 255)\", \"line\": {\"width\": 2, \"color\": \"rgb(0, 0, 0)\"}}, \"textfont\": {\"color\": \"rgb(0, 0, 0)\"}}, {\"x\": [0.75], \"y\": [0.0], \"text\": [], \"textposition\": \"middle center\", \"hoverinfo\": \"none\", \"mode\": \"markers+text\", \"marker\": {\"size\": 20, \"color\": \"rgb(255, 255, 255)\", \"line\": {\"width\": 2, \"color\": \"rgb(0, 0, 0)\"}}, \"textfont\": {\"color\": \"rgb(0, 0, 0)\"}}, {\"x\": [0.5], \"y\": [0.0], \"text\": [], \"textposition\": \"middle center\", \"hoverinfo\": \"none\", \"mode\": \"markers+text\", \"marker\": {\"size\": 20, \"color\": \"rgb(255, 255, 255)\", \"line\": {\"width\": 2, \"color\": \"rgb(0, 0, 0)\"}}, \"textfont\": {\"color\": \"rgb(0, 0, 0)\"}}, {\"x\": [0.25], \"y\": [0.0], \"text\": [], \"textposition\": \"middle center\", \"hoverinfo\": \"none\", \"mode\": \"markers+text\", \"marker\": {\"size\": 20, \"color\": \"rgb(255, 255, 255)\", \"line\": {\"width\": 2, \"color\": \"rgb(0, 0, 0)\"}}, \"textfont\": {\"color\": \"rgb(0, 0, 0)\"}}, {\"x\": [0.375], \"y\": [0.5], \"text\": [], \"textposition\": \"middle center\", \"hoverinfo\": \"none\", \"mode\": \"markers+text\", \"marker\": {\"size\": 20, \"color\": \"rgb(255, 255, 255)\", \"line\": {\"width\": 2, \"color\": \"rgb(0, 0, 0)\"}}, \"textfont\": {\"color\": \"rgb(0, 0, 0)\"}}, {\"x\": [0.08835225700681207, 0.16164774299318793, 0.375, 0.2878787878787879, 0.625, 0.6625594305323629, 0.4750594305323629, 0.911647742993188, 0.7878787878787878, 0.911647742993188, 0.625, 0.375, 0.3999405694676371, 0.2749405694676371], \"y\": [0.768323871496594, 0.268323871496594, 1.0724637681159421, 0.5, 1.0724637681159421, 0.5093898576330907, 0.7406101423669093, 0.768323871496594, 0.5, 0.23167612850340602, -0.07246376811594203, -0.07246376811594203, 0.24061014236690928, 0.2593898576330907], \"text\": [4, 8, 8, 11, 7, 4, 2, 9, 14, 10, 2, 1, 6, 7], \"textposition\": \"middle center\", \"hoverinfo\": \"none\", \"mode\": \"text\", \"textfont\": {\"color\": \"rgb(0, 0, 0)\"}}], \"name\": 17}, {\"data\": [{\"x\": [0.0, 0.25, null], \"y\": [0.5, 1.0, null], \"hoverinfo\": \"none\", \"mode\": \"lines\", \"line\": {\"width\": 2, \"color\": \"rgb(0, 0, 255)\"}}, {\"x\": [0.0, 0.25, null], \"y\": [0.5, 0.0, null], \"hoverinfo\": \"none\", \"mode\": \"lines\", \"line\": {\"width\": 2, \"color\": \"rgb(0, 0, 255)\"}}, {\"x\": [0.25, 0.5, null], \"y\": [1.0, 1.0, null], \"hoverinfo\": \"none\", \"mode\": \"lines\", \"line\": {\"width\": 2, \"color\": \"rgb(0, 0, 0)\"}}, {\"x\": [0.25, 0.25, null], \"y\": [1.0, 0.0, null], \"hoverinfo\": \"none\", \"mode\": \"lines\", \"line\": {\"width\": 2, \"color\": \"rgb(0, 0, 0)\"}}, {\"x\": [0.5, 0.75, null], \"y\": [1.0, 1.0, null], \"hoverinfo\": \"none\", \"mode\": \"lines\", \"line\": {\"width\": 2, \"color\": \"rgb(0, 0, 255)\"}}, {\"x\": [0.5, 0.75, null], \"y\": [1.0, 0.0, null], \"hoverinfo\": \"none\", \"mode\": \"lines\", \"line\": {\"width\": 2, \"color\": \"rgb(0, 0, 255)\"}}, {\"x\": [0.5, 0.375, null], \"y\": [1.0, 0.5, null], \"hoverinfo\": \"none\", \"mode\": \"lines\", \"line\": {\"width\": 2, \"color\": \"rgb(0, 0, 255)\"}}, {\"x\": [0.75, 1.0, null], \"y\": [1.0, 0.5, null], \"hoverinfo\": \"none\", \"mode\": \"lines\", \"line\": {\"width\": 2, \"color\": \"rgb(0, 0, 0)\"}}, {\"x\": [0.75, 0.75, null], \"y\": [1.0, 0.0, null], \"hoverinfo\": \"none\", \"mode\": \"lines\", \"line\": {\"width\": 2, \"color\": \"rgb(0, 0, 0)\"}}, {\"x\": [1.0, 0.75, null], \"y\": [0.5, 0.0, null], \"hoverinfo\": \"none\", \"mode\": \"lines\", \"line\": {\"width\": 2, \"color\": \"rgb(0, 0, 0)\"}}, {\"x\": [0.75, 0.5, null], \"y\": [0.0, 0.0, null], \"hoverinfo\": \"none\", \"mode\": \"lines\", \"line\": {\"width\": 2, \"color\": \"rgb(0, 0, 255)\"}}, {\"x\": [0.5, 0.25, null], \"y\": [0.0, 0.0, null], \"hoverinfo\": \"none\", \"mode\": \"lines\", \"line\": {\"width\": 2, \"color\": \"rgb(0, 0, 255)\"}}, {\"x\": [0.5, 0.375, null], \"y\": [0.0, 0.5, null], \"hoverinfo\": \"none\", \"mode\": \"lines\", \"line\": {\"width\": 2, \"color\": \"rgb(0, 0, 0)\"}}, {\"x\": [0.25, 0.375, null], \"y\": [0.0, 0.5, null], \"hoverinfo\": \"none\", \"mode\": \"lines\", \"line\": {\"width\": 2, \"color\": \"rgb(0, 0, 0)\"}}, {\"x\": [0.0], \"y\": [0.5], \"text\": [], \"textposition\": \"middle center\", \"hoverinfo\": \"none\", \"mode\": \"markers+text\", \"marker\": {\"size\": 20, \"color\": \"rgb(255, 255, 255)\", \"line\": {\"width\": 2, \"color\": \"rgb(0, 0, 0)\"}}, \"textfont\": {\"color\": \"rgb(0, 0, 0)\"}}, {\"x\": [0.25], \"y\": [1.0], \"text\": [], \"textposition\": \"middle center\", \"hoverinfo\": \"none\", \"mode\": \"markers+text\", \"marker\": {\"size\": 20, \"color\": \"rgb(255, 255, 255)\", \"line\": {\"width\": 2, \"color\": \"rgb(0, 0, 0)\"}}, \"textfont\": {\"color\": \"rgb(0, 0, 0)\"}}, {\"x\": [0.5], \"y\": [1.0], \"text\": [], \"textposition\": \"middle center\", \"hoverinfo\": \"none\", \"mode\": \"markers+text\", \"marker\": {\"size\": 20, \"color\": \"rgb(255, 255, 255)\", \"line\": {\"width\": 2, \"color\": \"rgb(0, 0, 0)\"}}, \"textfont\": {\"color\": \"rgb(0, 0, 0)\"}}, {\"x\": [0.75], \"y\": [1.0], \"text\": [], \"textposition\": \"middle center\", \"hoverinfo\": \"none\", \"mode\": \"markers+text\", \"marker\": {\"size\": 20, \"color\": \"rgb(255, 255, 255)\", \"line\": {\"width\": 2, \"color\": \"rgb(0, 0, 0)\"}}, \"textfont\": {\"color\": \"rgb(0, 0, 0)\"}}, {\"x\": [1.0], \"y\": [0.5], \"text\": [], \"textposition\": \"middle center\", \"hoverinfo\": \"none\", \"mode\": \"markers+text\", \"marker\": {\"size\": 20, \"color\": \"rgb(255, 255, 255)\", \"line\": {\"width\": 2, \"color\": \"rgb(0, 0, 0)\"}}, \"textfont\": {\"color\": \"rgb(0, 0, 0)\"}}, {\"x\": [0.75], \"y\": [0.0], \"text\": [], \"textposition\": \"middle center\", \"hoverinfo\": \"none\", \"mode\": \"markers+text\", \"marker\": {\"size\": 20, \"color\": \"rgb(255, 255, 255)\", \"line\": {\"width\": 2, \"color\": \"rgb(0, 0, 0)\"}}, \"textfont\": {\"color\": \"rgb(0, 0, 0)\"}}, {\"x\": [0.5], \"y\": [0.0], \"text\": [], \"textposition\": \"middle center\", \"hoverinfo\": \"none\", \"mode\": \"markers+text\", \"marker\": {\"size\": 20, \"color\": \"rgb(255, 255, 255)\", \"line\": {\"width\": 2, \"color\": \"rgb(0, 0, 0)\"}}, \"textfont\": {\"color\": \"rgb(0, 0, 0)\"}}, {\"x\": [0.25], \"y\": [0.0], \"text\": [], \"textposition\": \"middle center\", \"hoverinfo\": \"none\", \"mode\": \"markers+text\", \"marker\": {\"size\": 20, \"color\": \"rgb(255, 255, 255)\", \"line\": {\"width\": 2, \"color\": \"rgb(0, 0, 0)\"}}, \"textfont\": {\"color\": \"rgb(0, 0, 0)\"}}, {\"x\": [0.375], \"y\": [0.5], \"text\": [], \"textposition\": \"middle center\", \"hoverinfo\": \"none\", \"mode\": \"markers+text\", \"marker\": {\"size\": 20, \"color\": \"rgb(255, 255, 255)\", \"line\": {\"width\": 2, \"color\": \"rgb(0, 0, 0)\"}}, \"textfont\": {\"color\": \"rgb(0, 0, 0)\"}}, {\"x\": [0.08835225700681207, 0.16164774299318793, 0.375, 0.2878787878787879, 0.625, 0.6625594305323629, 0.4750594305323629, 0.911647742993188, 0.7878787878787878, 0.911647742993188, 0.625, 0.375, 0.3999405694676371, 0.2749405694676371], \"y\": [0.768323871496594, 0.268323871496594, 1.0724637681159421, 0.5, 1.0724637681159421, 0.5093898576330907, 0.7406101423669093, 0.768323871496594, 0.5, 0.23167612850340602, -0.07246376811594203, -0.07246376811594203, 0.24061014236690928, 0.2593898576330907], \"text\": [4, 8, 8, 11, 7, 4, 2, 9, 14, 10, 2, 1, 6, 7], \"textposition\": \"middle center\", \"hoverinfo\": \"none\", \"mode\": \"text\", \"textfont\": {\"color\": \"rgb(0, 0, 0)\"}}], \"name\": 18}, {\"data\": [{\"x\": [0.0, 0.25, null], \"y\": [0.5, 1.0, null], \"hoverinfo\": \"none\", \"mode\": \"lines\", \"line\": {\"width\": 2, \"color\": \"rgb(0, 0, 255)\"}}, {\"x\": [0.0, 0.25, null], \"y\": [0.5, 0.0, null], \"hoverinfo\": \"none\", \"mode\": \"lines\", \"line\": {\"width\": 2, \"color\": \"rgb(0, 0, 255)\"}}, {\"x\": [0.25, 0.5, null], \"y\": [1.0, 1.0, null], \"hoverinfo\": \"none\", \"mode\": \"lines\", \"line\": {\"width\": 2, \"color\": \"rgb(255, 0, 0)\"}}, {\"x\": [0.25, 0.25, null], \"y\": [1.0, 0.0, null], \"hoverinfo\": \"none\", \"mode\": \"lines\", \"line\": {\"width\": 2, \"color\": \"rgb(0, 0, 0)\"}}, {\"x\": [0.5, 0.75, null], \"y\": [1.0, 1.0, null], \"hoverinfo\": \"none\", \"mode\": \"lines\", \"line\": {\"width\": 2, \"color\": \"rgb(0, 0, 255)\"}}, {\"x\": [0.5, 0.75, null], \"y\": [1.0, 0.0, null], \"hoverinfo\": \"none\", \"mode\": \"lines\", \"line\": {\"width\": 2, \"color\": \"rgb(0, 0, 255)\"}}, {\"x\": [0.5, 0.375, null], \"y\": [1.0, 0.5, null], \"hoverinfo\": \"none\", \"mode\": \"lines\", \"line\": {\"width\": 2, \"color\": \"rgb(0, 0, 255)\"}}, {\"x\": [0.75, 1.0, null], \"y\": [1.0, 0.5, null], \"hoverinfo\": \"none\", \"mode\": \"lines\", \"line\": {\"width\": 2, \"color\": \"rgb(0, 0, 0)\"}}, {\"x\": [0.75, 0.75, null], \"y\": [1.0, 0.0, null], \"hoverinfo\": \"none\", \"mode\": \"lines\", \"line\": {\"width\": 2, \"color\": \"rgb(0, 0, 0)\"}}, {\"x\": [1.0, 0.75, null], \"y\": [0.5, 0.0, null], \"hoverinfo\": \"none\", \"mode\": \"lines\", \"line\": {\"width\": 2, \"color\": \"rgb(0, 0, 0)\"}}, {\"x\": [0.75, 0.5, null], \"y\": [0.0, 0.0, null], \"hoverinfo\": \"none\", \"mode\": \"lines\", \"line\": {\"width\": 2, \"color\": \"rgb(0, 0, 255)\"}}, {\"x\": [0.5, 0.25, null], \"y\": [0.0, 0.0, null], \"hoverinfo\": \"none\", \"mode\": \"lines\", \"line\": {\"width\": 2, \"color\": \"rgb(0, 0, 255)\"}}, {\"x\": [0.5, 0.375, null], \"y\": [0.0, 0.5, null], \"hoverinfo\": \"none\", \"mode\": \"lines\", \"line\": {\"width\": 2, \"color\": \"rgb(0, 0, 0)\"}}, {\"x\": [0.25, 0.375, null], \"y\": [0.0, 0.5, null], \"hoverinfo\": \"none\", \"mode\": \"lines\", \"line\": {\"width\": 2, \"color\": \"rgb(0, 0, 0)\"}}, {\"x\": [0.0], \"y\": [0.5], \"text\": [], \"textposition\": \"middle center\", \"hoverinfo\": \"none\", \"mode\": \"markers+text\", \"marker\": {\"size\": 20, \"color\": \"rgb(255, 255, 255)\", \"line\": {\"width\": 2, \"color\": \"rgb(0, 0, 0)\"}}, \"textfont\": {\"color\": \"rgb(0, 0, 0)\"}}, {\"x\": [0.25], \"y\": [1.0], \"text\": [], \"textposition\": \"middle center\", \"hoverinfo\": \"none\", \"mode\": \"markers+text\", \"marker\": {\"size\": 20, \"color\": \"rgb(255, 255, 255)\", \"line\": {\"width\": 2, \"color\": \"rgb(0, 0, 0)\"}}, \"textfont\": {\"color\": \"rgb(0, 0, 0)\"}}, {\"x\": [0.5], \"y\": [1.0], \"text\": [], \"textposition\": \"middle center\", \"hoverinfo\": \"none\", \"mode\": \"markers+text\", \"marker\": {\"size\": 20, \"color\": \"rgb(255, 255, 255)\", \"line\": {\"width\": 2, \"color\": \"rgb(0, 0, 0)\"}}, \"textfont\": {\"color\": \"rgb(0, 0, 0)\"}}, {\"x\": [0.75], \"y\": [1.0], \"text\": [], \"textposition\": \"middle center\", \"hoverinfo\": \"none\", \"mode\": \"markers+text\", \"marker\": {\"size\": 20, \"color\": \"rgb(255, 255, 255)\", \"line\": {\"width\": 2, \"color\": \"rgb(0, 0, 0)\"}}, \"textfont\": {\"color\": \"rgb(0, 0, 0)\"}}, {\"x\": [1.0], \"y\": [0.5], \"text\": [], \"textposition\": \"middle center\", \"hoverinfo\": \"none\", \"mode\": \"markers+text\", \"marker\": {\"size\": 20, \"color\": \"rgb(255, 255, 255)\", \"line\": {\"width\": 2, \"color\": \"rgb(0, 0, 0)\"}}, \"textfont\": {\"color\": \"rgb(0, 0, 0)\"}}, {\"x\": [0.75], \"y\": [0.0], \"text\": [], \"textposition\": \"middle center\", \"hoverinfo\": \"none\", \"mode\": \"markers+text\", \"marker\": {\"size\": 20, \"color\": \"rgb(255, 255, 255)\", \"line\": {\"width\": 2, \"color\": \"rgb(0, 0, 0)\"}}, \"textfont\": {\"color\": \"rgb(0, 0, 0)\"}}, {\"x\": [0.5], \"y\": [0.0], \"text\": [], \"textposition\": \"middle center\", \"hoverinfo\": \"none\", \"mode\": \"markers+text\", \"marker\": {\"size\": 20, \"color\": \"rgb(255, 255, 255)\", \"line\": {\"width\": 2, \"color\": \"rgb(0, 0, 0)\"}}, \"textfont\": {\"color\": \"rgb(0, 0, 0)\"}}, {\"x\": [0.25], \"y\": [0.0], \"text\": [], \"textposition\": \"middle center\", \"hoverinfo\": \"none\", \"mode\": \"markers+text\", \"marker\": {\"size\": 20, \"color\": \"rgb(255, 255, 255)\", \"line\": {\"width\": 2, \"color\": \"rgb(0, 0, 0)\"}}, \"textfont\": {\"color\": \"rgb(0, 0, 0)\"}}, {\"x\": [0.375], \"y\": [0.5], \"text\": [], \"textposition\": \"middle center\", \"hoverinfo\": \"none\", \"mode\": \"markers+text\", \"marker\": {\"size\": 20, \"color\": \"rgb(255, 255, 255)\", \"line\": {\"width\": 2, \"color\": \"rgb(0, 0, 0)\"}}, \"textfont\": {\"color\": \"rgb(0, 0, 0)\"}}, {\"x\": [0.08835225700681207, 0.16164774299318793, 0.375, 0.2878787878787879, 0.625, 0.6625594305323629, 0.4750594305323629, 0.911647742993188, 0.7878787878787878, 0.911647742993188, 0.625, 0.375, 0.3999405694676371, 0.2749405694676371], \"y\": [0.768323871496594, 0.268323871496594, 1.0724637681159421, 0.5, 1.0724637681159421, 0.5093898576330907, 0.7406101423669093, 0.768323871496594, 0.5, 0.23167612850340602, -0.07246376811594203, -0.07246376811594203, 0.24061014236690928, 0.2593898576330907], \"text\": [4, 8, 8, 11, 7, 4, 2, 9, 14, 10, 2, 1, 6, 7], \"textposition\": \"middle center\", \"hoverinfo\": \"none\", \"mode\": \"text\", \"textfont\": {\"color\": \"rgb(0, 0, 0)\"}}], \"name\": 19}, {\"data\": [{\"x\": [0.0, 0.25, null], \"y\": [0.5, 1.0, null], \"hoverinfo\": \"none\", \"mode\": \"lines\", \"line\": {\"width\": 2, \"color\": \"rgb(0, 0, 255)\"}}, {\"x\": [0.0, 0.25, null], \"y\": [0.5, 0.0, null], \"hoverinfo\": \"none\", \"mode\": \"lines\", \"line\": {\"width\": 2, \"color\": \"rgb(0, 0, 255)\"}}, {\"x\": [0.25, 0.5, null], \"y\": [1.0, 1.0, null], \"hoverinfo\": \"none\", \"mode\": \"lines\", \"line\": {\"width\": 2, \"color\": \"rgb(0, 0, 0)\"}}, {\"x\": [0.25, 0.25, null], \"y\": [1.0, 0.0, null], \"hoverinfo\": \"none\", \"mode\": \"lines\", \"line\": {\"width\": 2, \"color\": \"rgb(0, 0, 0)\"}}, {\"x\": [0.5, 0.75, null], \"y\": [1.0, 1.0, null], \"hoverinfo\": \"none\", \"mode\": \"lines\", \"line\": {\"width\": 2, \"color\": \"rgb(0, 0, 255)\"}}, {\"x\": [0.5, 0.75, null], \"y\": [1.0, 0.0, null], \"hoverinfo\": \"none\", \"mode\": \"lines\", \"line\": {\"width\": 2, \"color\": \"rgb(0, 0, 255)\"}}, {\"x\": [0.5, 0.375, null], \"y\": [1.0, 0.5, null], \"hoverinfo\": \"none\", \"mode\": \"lines\", \"line\": {\"width\": 2, \"color\": \"rgb(0, 0, 255)\"}}, {\"x\": [0.75, 1.0, null], \"y\": [1.0, 0.5, null], \"hoverinfo\": \"none\", \"mode\": \"lines\", \"line\": {\"width\": 2, \"color\": \"rgb(0, 0, 0)\"}}, {\"x\": [0.75, 0.75, null], \"y\": [1.0, 0.0, null], \"hoverinfo\": \"none\", \"mode\": \"lines\", \"line\": {\"width\": 2, \"color\": \"rgb(0, 0, 0)\"}}, {\"x\": [1.0, 0.75, null], \"y\": [0.5, 0.0, null], \"hoverinfo\": \"none\", \"mode\": \"lines\", \"line\": {\"width\": 2, \"color\": \"rgb(0, 0, 0)\"}}, {\"x\": [0.75, 0.5, null], \"y\": [0.0, 0.0, null], \"hoverinfo\": \"none\", \"mode\": \"lines\", \"line\": {\"width\": 2, \"color\": \"rgb(0, 0, 255)\"}}, {\"x\": [0.5, 0.25, null], \"y\": [0.0, 0.0, null], \"hoverinfo\": \"none\", \"mode\": \"lines\", \"line\": {\"width\": 2, \"color\": \"rgb(0, 0, 255)\"}}, {\"x\": [0.5, 0.375, null], \"y\": [0.0, 0.5, null], \"hoverinfo\": \"none\", \"mode\": \"lines\", \"line\": {\"width\": 2, \"color\": \"rgb(0, 0, 0)\"}}, {\"x\": [0.25, 0.375, null], \"y\": [0.0, 0.5, null], \"hoverinfo\": \"none\", \"mode\": \"lines\", \"line\": {\"width\": 2, \"color\": \"rgb(0, 0, 0)\"}}, {\"x\": [0.0], \"y\": [0.5], \"text\": [], \"textposition\": \"middle center\", \"hoverinfo\": \"none\", \"mode\": \"markers+text\", \"marker\": {\"size\": 20, \"color\": \"rgb(255, 255, 255)\", \"line\": {\"width\": 2, \"color\": \"rgb(0, 0, 0)\"}}, \"textfont\": {\"color\": \"rgb(0, 0, 0)\"}}, {\"x\": [0.25], \"y\": [1.0], \"text\": [], \"textposition\": \"middle center\", \"hoverinfo\": \"none\", \"mode\": \"markers+text\", \"marker\": {\"size\": 20, \"color\": \"rgb(255, 255, 255)\", \"line\": {\"width\": 2, \"color\": \"rgb(0, 0, 0)\"}}, \"textfont\": {\"color\": \"rgb(0, 0, 0)\"}}, {\"x\": [0.5], \"y\": [1.0], \"text\": [], \"textposition\": \"middle center\", \"hoverinfo\": \"none\", \"mode\": \"markers+text\", \"marker\": {\"size\": 20, \"color\": \"rgb(255, 255, 255)\", \"line\": {\"width\": 2, \"color\": \"rgb(0, 0, 0)\"}}, \"textfont\": {\"color\": \"rgb(0, 0, 0)\"}}, {\"x\": [0.75], \"y\": [1.0], \"text\": [], \"textposition\": \"middle center\", \"hoverinfo\": \"none\", \"mode\": \"markers+text\", \"marker\": {\"size\": 20, \"color\": \"rgb(255, 255, 255)\", \"line\": {\"width\": 2, \"color\": \"rgb(0, 0, 0)\"}}, \"textfont\": {\"color\": \"rgb(0, 0, 0)\"}}, {\"x\": [1.0], \"y\": [0.5], \"text\": [], \"textposition\": \"middle center\", \"hoverinfo\": \"none\", \"mode\": \"markers+text\", \"marker\": {\"size\": 20, \"color\": \"rgb(255, 255, 255)\", \"line\": {\"width\": 2, \"color\": \"rgb(0, 0, 0)\"}}, \"textfont\": {\"color\": \"rgb(0, 0, 0)\"}}, {\"x\": [0.75], \"y\": [0.0], \"text\": [], \"textposition\": \"middle center\", \"hoverinfo\": \"none\", \"mode\": \"markers+text\", \"marker\": {\"size\": 20, \"color\": \"rgb(255, 255, 255)\", \"line\": {\"width\": 2, \"color\": \"rgb(0, 0, 0)\"}}, \"textfont\": {\"color\": \"rgb(0, 0, 0)\"}}, {\"x\": [0.5], \"y\": [0.0], \"text\": [], \"textposition\": \"middle center\", \"hoverinfo\": \"none\", \"mode\": \"markers+text\", \"marker\": {\"size\": 20, \"color\": \"rgb(255, 255, 255)\", \"line\": {\"width\": 2, \"color\": \"rgb(0, 0, 0)\"}}, \"textfont\": {\"color\": \"rgb(0, 0, 0)\"}}, {\"x\": [0.25], \"y\": [0.0], \"text\": [], \"textposition\": \"middle center\", \"hoverinfo\": \"none\", \"mode\": \"markers+text\", \"marker\": {\"size\": 20, \"color\": \"rgb(255, 255, 255)\", \"line\": {\"width\": 2, \"color\": \"rgb(0, 0, 0)\"}}, \"textfont\": {\"color\": \"rgb(0, 0, 0)\"}}, {\"x\": [0.375], \"y\": [0.5], \"text\": [], \"textposition\": \"middle center\", \"hoverinfo\": \"none\", \"mode\": \"markers+text\", \"marker\": {\"size\": 20, \"color\": \"rgb(255, 255, 255)\", \"line\": {\"width\": 2, \"color\": \"rgb(0, 0, 0)\"}}, \"textfont\": {\"color\": \"rgb(0, 0, 0)\"}}, {\"x\": [0.08835225700681207, 0.16164774299318793, 0.375, 0.2878787878787879, 0.625, 0.6625594305323629, 0.4750594305323629, 0.911647742993188, 0.7878787878787878, 0.911647742993188, 0.625, 0.375, 0.3999405694676371, 0.2749405694676371], \"y\": [0.768323871496594, 0.268323871496594, 1.0724637681159421, 0.5, 1.0724637681159421, 0.5093898576330907, 0.7406101423669093, 0.768323871496594, 0.5, 0.23167612850340602, -0.07246376811594203, -0.07246376811594203, 0.24061014236690928, 0.2593898576330907], \"text\": [4, 8, 8, 11, 7, 4, 2, 9, 14, 10, 2, 1, 6, 7], \"textposition\": \"middle center\", \"hoverinfo\": \"none\", \"mode\": \"text\", \"textfont\": {\"color\": \"rgb(0, 0, 0)\"}}], \"name\": 20}, {\"data\": [{\"x\": [0.0, 0.25, null], \"y\": [0.5, 1.0, null], \"hoverinfo\": \"none\", \"mode\": \"lines\", \"line\": {\"width\": 2, \"color\": \"rgb(0, 0, 255)\"}}, {\"x\": [0.0, 0.25, null], \"y\": [0.5, 0.0, null], \"hoverinfo\": \"none\", \"mode\": \"lines\", \"line\": {\"width\": 2, \"color\": \"rgb(0, 0, 255)\"}}, {\"x\": [0.25, 0.5, null], \"y\": [1.0, 1.0, null], \"hoverinfo\": \"none\", \"mode\": \"lines\", \"line\": {\"width\": 2, \"color\": \"rgb(0, 0, 0)\"}}, {\"x\": [0.25, 0.25, null], \"y\": [1.0, 0.0, null], \"hoverinfo\": \"none\", \"mode\": \"lines\", \"line\": {\"width\": 2, \"color\": \"rgb(0, 0, 0)\"}}, {\"x\": [0.5, 0.75, null], \"y\": [1.0, 1.0, null], \"hoverinfo\": \"none\", \"mode\": \"lines\", \"line\": {\"width\": 2, \"color\": \"rgb(0, 0, 255)\"}}, {\"x\": [0.5, 0.75, null], \"y\": [1.0, 0.0, null], \"hoverinfo\": \"none\", \"mode\": \"lines\", \"line\": {\"width\": 2, \"color\": \"rgb(0, 0, 255)\"}}, {\"x\": [0.5, 0.375, null], \"y\": [1.0, 0.5, null], \"hoverinfo\": \"none\", \"mode\": \"lines\", \"line\": {\"width\": 2, \"color\": \"rgb(0, 0, 255)\"}}, {\"x\": [0.75, 1.0, null], \"y\": [1.0, 0.5, null], \"hoverinfo\": \"none\", \"mode\": \"lines\", \"line\": {\"width\": 2, \"color\": \"rgb(255, 0, 0)\"}}, {\"x\": [0.75, 0.75, null], \"y\": [1.0, 0.0, null], \"hoverinfo\": \"none\", \"mode\": \"lines\", \"line\": {\"width\": 2, \"color\": \"rgb(0, 0, 0)\"}}, {\"x\": [1.0, 0.75, null], \"y\": [0.5, 0.0, null], \"hoverinfo\": \"none\", \"mode\": \"lines\", \"line\": {\"width\": 2, \"color\": \"rgb(0, 0, 0)\"}}, {\"x\": [0.75, 0.5, null], \"y\": [0.0, 0.0, null], \"hoverinfo\": \"none\", \"mode\": \"lines\", \"line\": {\"width\": 2, \"color\": \"rgb(0, 0, 255)\"}}, {\"x\": [0.5, 0.25, null], \"y\": [0.0, 0.0, null], \"hoverinfo\": \"none\", \"mode\": \"lines\", \"line\": {\"width\": 2, \"color\": \"rgb(0, 0, 255)\"}}, {\"x\": [0.5, 0.375, null], \"y\": [0.0, 0.5, null], \"hoverinfo\": \"none\", \"mode\": \"lines\", \"line\": {\"width\": 2, \"color\": \"rgb(0, 0, 0)\"}}, {\"x\": [0.25, 0.375, null], \"y\": [0.0, 0.5, null], \"hoverinfo\": \"none\", \"mode\": \"lines\", \"line\": {\"width\": 2, \"color\": \"rgb(0, 0, 0)\"}}, {\"x\": [0.0], \"y\": [0.5], \"text\": [], \"textposition\": \"middle center\", \"hoverinfo\": \"none\", \"mode\": \"markers+text\", \"marker\": {\"size\": 20, \"color\": \"rgb(255, 255, 255)\", \"line\": {\"width\": 2, \"color\": \"rgb(0, 0, 0)\"}}, \"textfont\": {\"color\": \"rgb(0, 0, 0)\"}}, {\"x\": [0.25], \"y\": [1.0], \"text\": [], \"textposition\": \"middle center\", \"hoverinfo\": \"none\", \"mode\": \"markers+text\", \"marker\": {\"size\": 20, \"color\": \"rgb(255, 255, 255)\", \"line\": {\"width\": 2, \"color\": \"rgb(0, 0, 0)\"}}, \"textfont\": {\"color\": \"rgb(0, 0, 0)\"}}, {\"x\": [0.5], \"y\": [1.0], \"text\": [], \"textposition\": \"middle center\", \"hoverinfo\": \"none\", \"mode\": \"markers+text\", \"marker\": {\"size\": 20, \"color\": \"rgb(255, 255, 255)\", \"line\": {\"width\": 2, \"color\": \"rgb(0, 0, 0)\"}}, \"textfont\": {\"color\": \"rgb(0, 0, 0)\"}}, {\"x\": [0.75], \"y\": [1.0], \"text\": [], \"textposition\": \"middle center\", \"hoverinfo\": \"none\", \"mode\": \"markers+text\", \"marker\": {\"size\": 20, \"color\": \"rgb(255, 255, 255)\", \"line\": {\"width\": 2, \"color\": \"rgb(0, 0, 0)\"}}, \"textfont\": {\"color\": \"rgb(0, 0, 0)\"}}, {\"x\": [1.0], \"y\": [0.5], \"text\": [], \"textposition\": \"middle center\", \"hoverinfo\": \"none\", \"mode\": \"markers+text\", \"marker\": {\"size\": 20, \"color\": \"rgb(255, 255, 255)\", \"line\": {\"width\": 2, \"color\": \"rgb(0, 0, 0)\"}}, \"textfont\": {\"color\": \"rgb(0, 0, 0)\"}}, {\"x\": [0.75], \"y\": [0.0], \"text\": [], \"textposition\": \"middle center\", \"hoverinfo\": \"none\", \"mode\": \"markers+text\", \"marker\": {\"size\": 20, \"color\": \"rgb(255, 255, 255)\", \"line\": {\"width\": 2, \"color\": \"rgb(0, 0, 0)\"}}, \"textfont\": {\"color\": \"rgb(0, 0, 0)\"}}, {\"x\": [0.5], \"y\": [0.0], \"text\": [], \"textposition\": \"middle center\", \"hoverinfo\": \"none\", \"mode\": \"markers+text\", \"marker\": {\"size\": 20, \"color\": \"rgb(255, 255, 255)\", \"line\": {\"width\": 2, \"color\": \"rgb(0, 0, 0)\"}}, \"textfont\": {\"color\": \"rgb(0, 0, 0)\"}}, {\"x\": [0.25], \"y\": [0.0], \"text\": [], \"textposition\": \"middle center\", \"hoverinfo\": \"none\", \"mode\": \"markers+text\", \"marker\": {\"size\": 20, \"color\": \"rgb(255, 255, 255)\", \"line\": {\"width\": 2, \"color\": \"rgb(0, 0, 0)\"}}, \"textfont\": {\"color\": \"rgb(0, 0, 0)\"}}, {\"x\": [0.375], \"y\": [0.5], \"text\": [], \"textposition\": \"middle center\", \"hoverinfo\": \"none\", \"mode\": \"markers+text\", \"marker\": {\"size\": 20, \"color\": \"rgb(255, 255, 255)\", \"line\": {\"width\": 2, \"color\": \"rgb(0, 0, 0)\"}}, \"textfont\": {\"color\": \"rgb(0, 0, 0)\"}}, {\"x\": [0.08835225700681207, 0.16164774299318793, 0.375, 0.2878787878787879, 0.625, 0.6625594305323629, 0.4750594305323629, 0.911647742993188, 0.7878787878787878, 0.911647742993188, 0.625, 0.375, 0.3999405694676371, 0.2749405694676371], \"y\": [0.768323871496594, 0.268323871496594, 1.0724637681159421, 0.5, 1.0724637681159421, 0.5093898576330907, 0.7406101423669093, 0.768323871496594, 0.5, 0.23167612850340602, -0.07246376811594203, -0.07246376811594203, 0.24061014236690928, 0.2593898576330907], \"text\": [4, 8, 8, 11, 7, 4, 2, 9, 14, 10, 2, 1, 6, 7], \"textposition\": \"middle center\", \"hoverinfo\": \"none\", \"mode\": \"text\", \"textfont\": {\"color\": \"rgb(0, 0, 0)\"}}], \"name\": 21}, {\"data\": [{\"x\": [0.0, 0.25, null], \"y\": [0.5, 1.0, null], \"hoverinfo\": \"none\", \"mode\": \"lines\", \"line\": {\"width\": 2, \"color\": \"rgb(0, 0, 255)\"}}, {\"x\": [0.0, 0.25, null], \"y\": [0.5, 0.0, null], \"hoverinfo\": \"none\", \"mode\": \"lines\", \"line\": {\"width\": 2, \"color\": \"rgb(0, 0, 255)\"}}, {\"x\": [0.25, 0.5, null], \"y\": [1.0, 1.0, null], \"hoverinfo\": \"none\", \"mode\": \"lines\", \"line\": {\"width\": 2, \"color\": \"rgb(0, 0, 0)\"}}, {\"x\": [0.25, 0.25, null], \"y\": [1.0, 0.0, null], \"hoverinfo\": \"none\", \"mode\": \"lines\", \"line\": {\"width\": 2, \"color\": \"rgb(0, 0, 0)\"}}, {\"x\": [0.5, 0.75, null], \"y\": [1.0, 1.0, null], \"hoverinfo\": \"none\", \"mode\": \"lines\", \"line\": {\"width\": 2, \"color\": \"rgb(0, 0, 255)\"}}, {\"x\": [0.5, 0.75, null], \"y\": [1.0, 0.0, null], \"hoverinfo\": \"none\", \"mode\": \"lines\", \"line\": {\"width\": 2, \"color\": \"rgb(0, 0, 255)\"}}, {\"x\": [0.5, 0.375, null], \"y\": [1.0, 0.5, null], \"hoverinfo\": \"none\", \"mode\": \"lines\", \"line\": {\"width\": 2, \"color\": \"rgb(0, 0, 255)\"}}, {\"x\": [0.75, 1.0, null], \"y\": [1.0, 0.5, null], \"hoverinfo\": \"none\", \"mode\": \"lines\", \"line\": {\"width\": 2, \"color\": \"rgb(0, 0, 255)\"}}, {\"x\": [0.75, 0.75, null], \"y\": [1.0, 0.0, null], \"hoverinfo\": \"none\", \"mode\": \"lines\", \"line\": {\"width\": 2, \"color\": \"rgb(0, 0, 0)\"}}, {\"x\": [1.0, 0.75, null], \"y\": [0.5, 0.0, null], \"hoverinfo\": \"none\", \"mode\": \"lines\", \"line\": {\"width\": 2, \"color\": \"rgb(0, 0, 0)\"}}, {\"x\": [0.75, 0.5, null], \"y\": [0.0, 0.0, null], \"hoverinfo\": \"none\", \"mode\": \"lines\", \"line\": {\"width\": 2, \"color\": \"rgb(0, 0, 255)\"}}, {\"x\": [0.5, 0.25, null], \"y\": [0.0, 0.0, null], \"hoverinfo\": \"none\", \"mode\": \"lines\", \"line\": {\"width\": 2, \"color\": \"rgb(0, 0, 255)\"}}, {\"x\": [0.5, 0.375, null], \"y\": [0.0, 0.5, null], \"hoverinfo\": \"none\", \"mode\": \"lines\", \"line\": {\"width\": 2, \"color\": \"rgb(0, 0, 0)\"}}, {\"x\": [0.25, 0.375, null], \"y\": [0.0, 0.5, null], \"hoverinfo\": \"none\", \"mode\": \"lines\", \"line\": {\"width\": 2, \"color\": \"rgb(0, 0, 0)\"}}, {\"x\": [0.0], \"y\": [0.5], \"text\": [], \"textposition\": \"middle center\", \"hoverinfo\": \"none\", \"mode\": \"markers+text\", \"marker\": {\"size\": 20, \"color\": \"rgb(255, 255, 255)\", \"line\": {\"width\": 2, \"color\": \"rgb(0, 0, 0)\"}}, \"textfont\": {\"color\": \"rgb(0, 0, 0)\"}}, {\"x\": [0.25], \"y\": [1.0], \"text\": [], \"textposition\": \"middle center\", \"hoverinfo\": \"none\", \"mode\": \"markers+text\", \"marker\": {\"size\": 20, \"color\": \"rgb(255, 255, 255)\", \"line\": {\"width\": 2, \"color\": \"rgb(0, 0, 0)\"}}, \"textfont\": {\"color\": \"rgb(0, 0, 0)\"}}, {\"x\": [0.5], \"y\": [1.0], \"text\": [], \"textposition\": \"middle center\", \"hoverinfo\": \"none\", \"mode\": \"markers+text\", \"marker\": {\"size\": 20, \"color\": \"rgb(255, 255, 255)\", \"line\": {\"width\": 2, \"color\": \"rgb(0, 0, 0)\"}}, \"textfont\": {\"color\": \"rgb(0, 0, 0)\"}}, {\"x\": [0.75], \"y\": [1.0], \"text\": [], \"textposition\": \"middle center\", \"hoverinfo\": \"none\", \"mode\": \"markers+text\", \"marker\": {\"size\": 20, \"color\": \"rgb(255, 255, 255)\", \"line\": {\"width\": 2, \"color\": \"rgb(0, 0, 0)\"}}, \"textfont\": {\"color\": \"rgb(0, 0, 0)\"}}, {\"x\": [1.0], \"y\": [0.5], \"text\": [], \"textposition\": \"middle center\", \"hoverinfo\": \"none\", \"mode\": \"markers+text\", \"marker\": {\"size\": 20, \"color\": \"rgb(255, 255, 255)\", \"line\": {\"width\": 2, \"color\": \"rgb(0, 0, 0)\"}}, \"textfont\": {\"color\": \"rgb(0, 0, 0)\"}}, {\"x\": [0.75], \"y\": [0.0], \"text\": [], \"textposition\": \"middle center\", \"hoverinfo\": \"none\", \"mode\": \"markers+text\", \"marker\": {\"size\": 20, \"color\": \"rgb(255, 255, 255)\", \"line\": {\"width\": 2, \"color\": \"rgb(0, 0, 0)\"}}, \"textfont\": {\"color\": \"rgb(0, 0, 0)\"}}, {\"x\": [0.5], \"y\": [0.0], \"text\": [], \"textposition\": \"middle center\", \"hoverinfo\": \"none\", \"mode\": \"markers+text\", \"marker\": {\"size\": 20, \"color\": \"rgb(255, 255, 255)\", \"line\": {\"width\": 2, \"color\": \"rgb(0, 0, 0)\"}}, \"textfont\": {\"color\": \"rgb(0, 0, 0)\"}}, {\"x\": [0.25], \"y\": [0.0], \"text\": [], \"textposition\": \"middle center\", \"hoverinfo\": \"none\", \"mode\": \"markers+text\", \"marker\": {\"size\": 20, \"color\": \"rgb(255, 255, 255)\", \"line\": {\"width\": 2, \"color\": \"rgb(0, 0, 0)\"}}, \"textfont\": {\"color\": \"rgb(0, 0, 0)\"}}, {\"x\": [0.375], \"y\": [0.5], \"text\": [], \"textposition\": \"middle center\", \"hoverinfo\": \"none\", \"mode\": \"markers+text\", \"marker\": {\"size\": 20, \"color\": \"rgb(255, 255, 255)\", \"line\": {\"width\": 2, \"color\": \"rgb(0, 0, 0)\"}}, \"textfont\": {\"color\": \"rgb(0, 0, 0)\"}}, {\"x\": [0.08835225700681207, 0.16164774299318793, 0.375, 0.2878787878787879, 0.625, 0.6625594305323629, 0.4750594305323629, 0.911647742993188, 0.7878787878787878, 0.911647742993188, 0.625, 0.375, 0.3999405694676371, 0.2749405694676371], \"y\": [0.768323871496594, 0.268323871496594, 1.0724637681159421, 0.5, 1.0724637681159421, 0.5093898576330907, 0.7406101423669093, 0.768323871496594, 0.5, 0.23167612850340602, -0.07246376811594203, -0.07246376811594203, 0.24061014236690928, 0.2593898576330907], \"text\": [4, 8, 8, 11, 7, 4, 2, 9, 14, 10, 2, 1, 6, 7], \"textposition\": \"middle center\", \"hoverinfo\": \"none\", \"mode\": \"text\", \"textfont\": {\"color\": \"rgb(0, 0, 0)\"}}], \"name\": 22}, {\"data\": [{\"x\": [0.0, 0.25, null], \"y\": [0.5, 1.0, null], \"hoverinfo\": \"none\", \"mode\": \"lines\", \"line\": {\"width\": 2, \"color\": \"rgb(0, 0, 255)\"}}, {\"x\": [0.0, 0.25, null], \"y\": [0.5, 0.0, null], \"hoverinfo\": \"none\", \"mode\": \"lines\", \"line\": {\"width\": 2, \"color\": \"rgb(0, 0, 255)\"}}, {\"x\": [0.25, 0.5, null], \"y\": [1.0, 1.0, null], \"hoverinfo\": \"none\", \"mode\": \"lines\", \"line\": {\"width\": 2, \"color\": \"rgb(0, 0, 0)\"}}, {\"x\": [0.25, 0.25, null], \"y\": [1.0, 0.0, null], \"hoverinfo\": \"none\", \"mode\": \"lines\", \"line\": {\"width\": 2, \"color\": \"rgb(0, 0, 0)\"}}, {\"x\": [0.5, 0.75, null], \"y\": [1.0, 1.0, null], \"hoverinfo\": \"none\", \"mode\": \"lines\", \"line\": {\"width\": 2, \"color\": \"rgb(0, 0, 255)\"}}, {\"x\": [0.5, 0.75, null], \"y\": [1.0, 0.0, null], \"hoverinfo\": \"none\", \"mode\": \"lines\", \"line\": {\"width\": 2, \"color\": \"rgb(0, 0, 255)\"}}, {\"x\": [0.5, 0.375, null], \"y\": [1.0, 0.5, null], \"hoverinfo\": \"none\", \"mode\": \"lines\", \"line\": {\"width\": 2, \"color\": \"rgb(0, 0, 255)\"}}, {\"x\": [0.75, 1.0, null], \"y\": [1.0, 0.5, null], \"hoverinfo\": \"none\", \"mode\": \"lines\", \"line\": {\"width\": 2, \"color\": \"rgb(0, 0, 255)\"}}, {\"x\": [0.75, 0.75, null], \"y\": [1.0, 0.0, null], \"hoverinfo\": \"none\", \"mode\": \"lines\", \"line\": {\"width\": 2, \"color\": \"rgb(0, 0, 0)\"}}, {\"x\": [1.0, 0.75, null], \"y\": [0.5, 0.0, null], \"hoverinfo\": \"none\", \"mode\": \"lines\", \"line\": {\"width\": 2, \"color\": \"rgb(255, 0, 0)\"}}, {\"x\": [0.75, 0.5, null], \"y\": [0.0, 0.0, null], \"hoverinfo\": \"none\", \"mode\": \"lines\", \"line\": {\"width\": 2, \"color\": \"rgb(0, 0, 255)\"}}, {\"x\": [0.5, 0.25, null], \"y\": [0.0, 0.0, null], \"hoverinfo\": \"none\", \"mode\": \"lines\", \"line\": {\"width\": 2, \"color\": \"rgb(0, 0, 255)\"}}, {\"x\": [0.5, 0.375, null], \"y\": [0.0, 0.5, null], \"hoverinfo\": \"none\", \"mode\": \"lines\", \"line\": {\"width\": 2, \"color\": \"rgb(0, 0, 0)\"}}, {\"x\": [0.25, 0.375, null], \"y\": [0.0, 0.5, null], \"hoverinfo\": \"none\", \"mode\": \"lines\", \"line\": {\"width\": 2, \"color\": \"rgb(0, 0, 0)\"}}, {\"x\": [0.0], \"y\": [0.5], \"text\": [], \"textposition\": \"middle center\", \"hoverinfo\": \"none\", \"mode\": \"markers+text\", \"marker\": {\"size\": 20, \"color\": \"rgb(255, 255, 255)\", \"line\": {\"width\": 2, \"color\": \"rgb(0, 0, 0)\"}}, \"textfont\": {\"color\": \"rgb(0, 0, 0)\"}}, {\"x\": [0.25], \"y\": [1.0], \"text\": [], \"textposition\": \"middle center\", \"hoverinfo\": \"none\", \"mode\": \"markers+text\", \"marker\": {\"size\": 20, \"color\": \"rgb(255, 255, 255)\", \"line\": {\"width\": 2, \"color\": \"rgb(0, 0, 0)\"}}, \"textfont\": {\"color\": \"rgb(0, 0, 0)\"}}, {\"x\": [0.5], \"y\": [1.0], \"text\": [], \"textposition\": \"middle center\", \"hoverinfo\": \"none\", \"mode\": \"markers+text\", \"marker\": {\"size\": 20, \"color\": \"rgb(255, 255, 255)\", \"line\": {\"width\": 2, \"color\": \"rgb(0, 0, 0)\"}}, \"textfont\": {\"color\": \"rgb(0, 0, 0)\"}}, {\"x\": [0.75], \"y\": [1.0], \"text\": [], \"textposition\": \"middle center\", \"hoverinfo\": \"none\", \"mode\": \"markers+text\", \"marker\": {\"size\": 20, \"color\": \"rgb(255, 255, 255)\", \"line\": {\"width\": 2, \"color\": \"rgb(0, 0, 0)\"}}, \"textfont\": {\"color\": \"rgb(0, 0, 0)\"}}, {\"x\": [1.0], \"y\": [0.5], \"text\": [], \"textposition\": \"middle center\", \"hoverinfo\": \"none\", \"mode\": \"markers+text\", \"marker\": {\"size\": 20, \"color\": \"rgb(255, 255, 255)\", \"line\": {\"width\": 2, \"color\": \"rgb(0, 0, 0)\"}}, \"textfont\": {\"color\": \"rgb(0, 0, 0)\"}}, {\"x\": [0.75], \"y\": [0.0], \"text\": [], \"textposition\": \"middle center\", \"hoverinfo\": \"none\", \"mode\": \"markers+text\", \"marker\": {\"size\": 20, \"color\": \"rgb(255, 255, 255)\", \"line\": {\"width\": 2, \"color\": \"rgb(0, 0, 0)\"}}, \"textfont\": {\"color\": \"rgb(0, 0, 0)\"}}, {\"x\": [0.5], \"y\": [0.0], \"text\": [], \"textposition\": \"middle center\", \"hoverinfo\": \"none\", \"mode\": \"markers+text\", \"marker\": {\"size\": 20, \"color\": \"rgb(255, 255, 255)\", \"line\": {\"width\": 2, \"color\": \"rgb(0, 0, 0)\"}}, \"textfont\": {\"color\": \"rgb(0, 0, 0)\"}}, {\"x\": [0.25], \"y\": [0.0], \"text\": [], \"textposition\": \"middle center\", \"hoverinfo\": \"none\", \"mode\": \"markers+text\", \"marker\": {\"size\": 20, \"color\": \"rgb(255, 255, 255)\", \"line\": {\"width\": 2, \"color\": \"rgb(0, 0, 0)\"}}, \"textfont\": {\"color\": \"rgb(0, 0, 0)\"}}, {\"x\": [0.375], \"y\": [0.5], \"text\": [], \"textposition\": \"middle center\", \"hoverinfo\": \"none\", \"mode\": \"markers+text\", \"marker\": {\"size\": 20, \"color\": \"rgb(255, 255, 255)\", \"line\": {\"width\": 2, \"color\": \"rgb(0, 0, 0)\"}}, \"textfont\": {\"color\": \"rgb(0, 0, 0)\"}}, {\"x\": [0.08835225700681207, 0.16164774299318793, 0.375, 0.2878787878787879, 0.625, 0.6625594305323629, 0.4750594305323629, 0.911647742993188, 0.7878787878787878, 0.911647742993188, 0.625, 0.375, 0.3999405694676371, 0.2749405694676371], \"y\": [0.768323871496594, 0.268323871496594, 1.0724637681159421, 0.5, 1.0724637681159421, 0.5093898576330907, 0.7406101423669093, 0.768323871496594, 0.5, 0.23167612850340602, -0.07246376811594203, -0.07246376811594203, 0.24061014236690928, 0.2593898576330907], \"text\": [4, 8, 8, 11, 7, 4, 2, 9, 14, 10, 2, 1, 6, 7], \"textposition\": \"middle center\", \"hoverinfo\": \"none\", \"mode\": \"text\", \"textfont\": {\"color\": \"rgb(0, 0, 0)\"}}], \"name\": 23}, {\"data\": [{\"x\": [0.0, 0.25, null], \"y\": [0.5, 1.0, null], \"hoverinfo\": \"none\", \"mode\": \"lines\", \"line\": {\"width\": 2, \"color\": \"rgb(0, 0, 255)\"}}, {\"x\": [0.0, 0.25, null], \"y\": [0.5, 0.0, null], \"hoverinfo\": \"none\", \"mode\": \"lines\", \"line\": {\"width\": 2, \"color\": \"rgb(0, 0, 255)\"}}, {\"x\": [0.25, 0.5, null], \"y\": [1.0, 1.0, null], \"hoverinfo\": \"none\", \"mode\": \"lines\", \"line\": {\"width\": 2, \"color\": \"rgb(0, 0, 0)\"}}, {\"x\": [0.25, 0.25, null], \"y\": [1.0, 0.0, null], \"hoverinfo\": \"none\", \"mode\": \"lines\", \"line\": {\"width\": 2, \"color\": \"rgb(0, 0, 0)\"}}, {\"x\": [0.5, 0.75, null], \"y\": [1.0, 1.0, null], \"hoverinfo\": \"none\", \"mode\": \"lines\", \"line\": {\"width\": 2, \"color\": \"rgb(0, 0, 255)\"}}, {\"x\": [0.5, 0.75, null], \"y\": [1.0, 0.0, null], \"hoverinfo\": \"none\", \"mode\": \"lines\", \"line\": {\"width\": 2, \"color\": \"rgb(0, 0, 255)\"}}, {\"x\": [0.5, 0.375, null], \"y\": [1.0, 0.5, null], \"hoverinfo\": \"none\", \"mode\": \"lines\", \"line\": {\"width\": 2, \"color\": \"rgb(0, 0, 255)\"}}, {\"x\": [0.75, 1.0, null], \"y\": [1.0, 0.5, null], \"hoverinfo\": \"none\", \"mode\": \"lines\", \"line\": {\"width\": 2, \"color\": \"rgb(0, 0, 255)\"}}, {\"x\": [0.75, 0.75, null], \"y\": [1.0, 0.0, null], \"hoverinfo\": \"none\", \"mode\": \"lines\", \"line\": {\"width\": 2, \"color\": \"rgb(0, 0, 0)\"}}, {\"x\": [1.0, 0.75, null], \"y\": [0.5, 0.0, null], \"hoverinfo\": \"none\", \"mode\": \"lines\", \"line\": {\"width\": 2, \"color\": \"rgb(0, 0, 0)\"}}, {\"x\": [0.75, 0.5, null], \"y\": [0.0, 0.0, null], \"hoverinfo\": \"none\", \"mode\": \"lines\", \"line\": {\"width\": 2, \"color\": \"rgb(0, 0, 255)\"}}, {\"x\": [0.5, 0.25, null], \"y\": [0.0, 0.0, null], \"hoverinfo\": \"none\", \"mode\": \"lines\", \"line\": {\"width\": 2, \"color\": \"rgb(0, 0, 255)\"}}, {\"x\": [0.5, 0.375, null], \"y\": [0.0, 0.5, null], \"hoverinfo\": \"none\", \"mode\": \"lines\", \"line\": {\"width\": 2, \"color\": \"rgb(0, 0, 0)\"}}, {\"x\": [0.25, 0.375, null], \"y\": [0.0, 0.5, null], \"hoverinfo\": \"none\", \"mode\": \"lines\", \"line\": {\"width\": 2, \"color\": \"rgb(0, 0, 0)\"}}, {\"x\": [0.0], \"y\": [0.5], \"text\": [], \"textposition\": \"middle center\", \"hoverinfo\": \"none\", \"mode\": \"markers+text\", \"marker\": {\"size\": 20, \"color\": \"rgb(255, 255, 255)\", \"line\": {\"width\": 2, \"color\": \"rgb(0, 0, 0)\"}}, \"textfont\": {\"color\": \"rgb(0, 0, 0)\"}}, {\"x\": [0.25], \"y\": [1.0], \"text\": [], \"textposition\": \"middle center\", \"hoverinfo\": \"none\", \"mode\": \"markers+text\", \"marker\": {\"size\": 20, \"color\": \"rgb(255, 255, 255)\", \"line\": {\"width\": 2, \"color\": \"rgb(0, 0, 0)\"}}, \"textfont\": {\"color\": \"rgb(0, 0, 0)\"}}, {\"x\": [0.5], \"y\": [1.0], \"text\": [], \"textposition\": \"middle center\", \"hoverinfo\": \"none\", \"mode\": \"markers+text\", \"marker\": {\"size\": 20, \"color\": \"rgb(255, 255, 255)\", \"line\": {\"width\": 2, \"color\": \"rgb(0, 0, 0)\"}}, \"textfont\": {\"color\": \"rgb(0, 0, 0)\"}}, {\"x\": [0.75], \"y\": [1.0], \"text\": [], \"textposition\": \"middle center\", \"hoverinfo\": \"none\", \"mode\": \"markers+text\", \"marker\": {\"size\": 20, \"color\": \"rgb(255, 255, 255)\", \"line\": {\"width\": 2, \"color\": \"rgb(0, 0, 0)\"}}, \"textfont\": {\"color\": \"rgb(0, 0, 0)\"}}, {\"x\": [1.0], \"y\": [0.5], \"text\": [], \"textposition\": \"middle center\", \"hoverinfo\": \"none\", \"mode\": \"markers+text\", \"marker\": {\"size\": 20, \"color\": \"rgb(255, 255, 255)\", \"line\": {\"width\": 2, \"color\": \"rgb(0, 0, 0)\"}}, \"textfont\": {\"color\": \"rgb(0, 0, 0)\"}}, {\"x\": [0.75], \"y\": [0.0], \"text\": [], \"textposition\": \"middle center\", \"hoverinfo\": \"none\", \"mode\": \"markers+text\", \"marker\": {\"size\": 20, \"color\": \"rgb(255, 255, 255)\", \"line\": {\"width\": 2, \"color\": \"rgb(0, 0, 0)\"}}, \"textfont\": {\"color\": \"rgb(0, 0, 0)\"}}, {\"x\": [0.5], \"y\": [0.0], \"text\": [], \"textposition\": \"middle center\", \"hoverinfo\": \"none\", \"mode\": \"markers+text\", \"marker\": {\"size\": 20, \"color\": \"rgb(255, 255, 255)\", \"line\": {\"width\": 2, \"color\": \"rgb(0, 0, 0)\"}}, \"textfont\": {\"color\": \"rgb(0, 0, 0)\"}}, {\"x\": [0.25], \"y\": [0.0], \"text\": [], \"textposition\": \"middle center\", \"hoverinfo\": \"none\", \"mode\": \"markers+text\", \"marker\": {\"size\": 20, \"color\": \"rgb(255, 255, 255)\", \"line\": {\"width\": 2, \"color\": \"rgb(0, 0, 0)\"}}, \"textfont\": {\"color\": \"rgb(0, 0, 0)\"}}, {\"x\": [0.375], \"y\": [0.5], \"text\": [], \"textposition\": \"middle center\", \"hoverinfo\": \"none\", \"mode\": \"markers+text\", \"marker\": {\"size\": 20, \"color\": \"rgb(255, 255, 255)\", \"line\": {\"width\": 2, \"color\": \"rgb(0, 0, 0)\"}}, \"textfont\": {\"color\": \"rgb(0, 0, 0)\"}}, {\"x\": [0.08835225700681207, 0.16164774299318793, 0.375, 0.2878787878787879, 0.625, 0.6625594305323629, 0.4750594305323629, 0.911647742993188, 0.7878787878787878, 0.911647742993188, 0.625, 0.375, 0.3999405694676371, 0.2749405694676371], \"y\": [0.768323871496594, 0.268323871496594, 1.0724637681159421, 0.5, 1.0724637681159421, 0.5093898576330907, 0.7406101423669093, 0.768323871496594, 0.5, 0.23167612850340602, -0.07246376811594203, -0.07246376811594203, 0.24061014236690928, 0.2593898576330907], \"text\": [4, 8, 8, 11, 7, 4, 2, 9, 14, 10, 2, 1, 6, 7], \"textposition\": \"middle center\", \"hoverinfo\": \"none\", \"mode\": \"text\", \"textfont\": {\"color\": \"rgb(0, 0, 0)\"}}], \"name\": 24}, {\"data\": [{\"x\": [0.0, 0.25, null], \"y\": [0.5, 1.0, null], \"hoverinfo\": \"none\", \"mode\": \"lines\", \"line\": {\"width\": 2, \"color\": \"rgb(0, 0, 255)\"}}, {\"x\": [0.0, 0.25, null], \"y\": [0.5, 0.0, null], \"hoverinfo\": \"none\", \"mode\": \"lines\", \"line\": {\"width\": 2, \"color\": \"rgb(0, 0, 255)\"}}, {\"x\": [0.25, 0.5, null], \"y\": [1.0, 1.0, null], \"hoverinfo\": \"none\", \"mode\": \"lines\", \"line\": {\"width\": 2, \"color\": \"rgb(0, 0, 0)\"}}, {\"x\": [0.25, 0.25, null], \"y\": [1.0, 0.0, null], \"hoverinfo\": \"none\", \"mode\": \"lines\", \"line\": {\"width\": 2, \"color\": \"rgb(255, 0, 0)\"}}, {\"x\": [0.5, 0.75, null], \"y\": [1.0, 1.0, null], \"hoverinfo\": \"none\", \"mode\": \"lines\", \"line\": {\"width\": 2, \"color\": \"rgb(0, 0, 255)\"}}, {\"x\": [0.5, 0.75, null], \"y\": [1.0, 0.0, null], \"hoverinfo\": \"none\", \"mode\": \"lines\", \"line\": {\"width\": 2, \"color\": \"rgb(0, 0, 255)\"}}, {\"x\": [0.5, 0.375, null], \"y\": [1.0, 0.5, null], \"hoverinfo\": \"none\", \"mode\": \"lines\", \"line\": {\"width\": 2, \"color\": \"rgb(0, 0, 255)\"}}, {\"x\": [0.75, 1.0, null], \"y\": [1.0, 0.5, null], \"hoverinfo\": \"none\", \"mode\": \"lines\", \"line\": {\"width\": 2, \"color\": \"rgb(0, 0, 255)\"}}, {\"x\": [0.75, 0.75, null], \"y\": [1.0, 0.0, null], \"hoverinfo\": \"none\", \"mode\": \"lines\", \"line\": {\"width\": 2, \"color\": \"rgb(0, 0, 0)\"}}, {\"x\": [1.0, 0.75, null], \"y\": [0.5, 0.0, null], \"hoverinfo\": \"none\", \"mode\": \"lines\", \"line\": {\"width\": 2, \"color\": \"rgb(0, 0, 0)\"}}, {\"x\": [0.75, 0.5, null], \"y\": [0.0, 0.0, null], \"hoverinfo\": \"none\", \"mode\": \"lines\", \"line\": {\"width\": 2, \"color\": \"rgb(0, 0, 255)\"}}, {\"x\": [0.5, 0.25, null], \"y\": [0.0, 0.0, null], \"hoverinfo\": \"none\", \"mode\": \"lines\", \"line\": {\"width\": 2, \"color\": \"rgb(0, 0, 255)\"}}, {\"x\": [0.5, 0.375, null], \"y\": [0.0, 0.5, null], \"hoverinfo\": \"none\", \"mode\": \"lines\", \"line\": {\"width\": 2, \"color\": \"rgb(0, 0, 0)\"}}, {\"x\": [0.25, 0.375, null], \"y\": [0.0, 0.5, null], \"hoverinfo\": \"none\", \"mode\": \"lines\", \"line\": {\"width\": 2, \"color\": \"rgb(0, 0, 0)\"}}, {\"x\": [0.0], \"y\": [0.5], \"text\": [], \"textposition\": \"middle center\", \"hoverinfo\": \"none\", \"mode\": \"markers+text\", \"marker\": {\"size\": 20, \"color\": \"rgb(255, 255, 255)\", \"line\": {\"width\": 2, \"color\": \"rgb(0, 0, 0)\"}}, \"textfont\": {\"color\": \"rgb(0, 0, 0)\"}}, {\"x\": [0.25], \"y\": [1.0], \"text\": [], \"textposition\": \"middle center\", \"hoverinfo\": \"none\", \"mode\": \"markers+text\", \"marker\": {\"size\": 20, \"color\": \"rgb(255, 255, 255)\", \"line\": {\"width\": 2, \"color\": \"rgb(0, 0, 0)\"}}, \"textfont\": {\"color\": \"rgb(0, 0, 0)\"}}, {\"x\": [0.5], \"y\": [1.0], \"text\": [], \"textposition\": \"middle center\", \"hoverinfo\": \"none\", \"mode\": \"markers+text\", \"marker\": {\"size\": 20, \"color\": \"rgb(255, 255, 255)\", \"line\": {\"width\": 2, \"color\": \"rgb(0, 0, 0)\"}}, \"textfont\": {\"color\": \"rgb(0, 0, 0)\"}}, {\"x\": [0.75], \"y\": [1.0], \"text\": [], \"textposition\": \"middle center\", \"hoverinfo\": \"none\", \"mode\": \"markers+text\", \"marker\": {\"size\": 20, \"color\": \"rgb(255, 255, 255)\", \"line\": {\"width\": 2, \"color\": \"rgb(0, 0, 0)\"}}, \"textfont\": {\"color\": \"rgb(0, 0, 0)\"}}, {\"x\": [1.0], \"y\": [0.5], \"text\": [], \"textposition\": \"middle center\", \"hoverinfo\": \"none\", \"mode\": \"markers+text\", \"marker\": {\"size\": 20, \"color\": \"rgb(255, 255, 255)\", \"line\": {\"width\": 2, \"color\": \"rgb(0, 0, 0)\"}}, \"textfont\": {\"color\": \"rgb(0, 0, 0)\"}}, {\"x\": [0.75], \"y\": [0.0], \"text\": [], \"textposition\": \"middle center\", \"hoverinfo\": \"none\", \"mode\": \"markers+text\", \"marker\": {\"size\": 20, \"color\": \"rgb(255, 255, 255)\", \"line\": {\"width\": 2, \"color\": \"rgb(0, 0, 0)\"}}, \"textfont\": {\"color\": \"rgb(0, 0, 0)\"}}, {\"x\": [0.5], \"y\": [0.0], \"text\": [], \"textposition\": \"middle center\", \"hoverinfo\": \"none\", \"mode\": \"markers+text\", \"marker\": {\"size\": 20, \"color\": \"rgb(255, 255, 255)\", \"line\": {\"width\": 2, \"color\": \"rgb(0, 0, 0)\"}}, \"textfont\": {\"color\": \"rgb(0, 0, 0)\"}}, {\"x\": [0.25], \"y\": [0.0], \"text\": [], \"textposition\": \"middle center\", \"hoverinfo\": \"none\", \"mode\": \"markers+text\", \"marker\": {\"size\": 20, \"color\": \"rgb(255, 255, 255)\", \"line\": {\"width\": 2, \"color\": \"rgb(0, 0, 0)\"}}, \"textfont\": {\"color\": \"rgb(0, 0, 0)\"}}, {\"x\": [0.375], \"y\": [0.5], \"text\": [], \"textposition\": \"middle center\", \"hoverinfo\": \"none\", \"mode\": \"markers+text\", \"marker\": {\"size\": 20, \"color\": \"rgb(255, 255, 255)\", \"line\": {\"width\": 2, \"color\": \"rgb(0, 0, 0)\"}}, \"textfont\": {\"color\": \"rgb(0, 0, 0)\"}}, {\"x\": [0.08835225700681207, 0.16164774299318793, 0.375, 0.2878787878787879, 0.625, 0.6625594305323629, 0.4750594305323629, 0.911647742993188, 0.7878787878787878, 0.911647742993188, 0.625, 0.375, 0.3999405694676371, 0.2749405694676371], \"y\": [0.768323871496594, 0.268323871496594, 1.0724637681159421, 0.5, 1.0724637681159421, 0.5093898576330907, 0.7406101423669093, 0.768323871496594, 0.5, 0.23167612850340602, -0.07246376811594203, -0.07246376811594203, 0.24061014236690928, 0.2593898576330907], \"text\": [4, 8, 8, 11, 7, 4, 2, 9, 14, 10, 2, 1, 6, 7], \"textposition\": \"middle center\", \"hoverinfo\": \"none\", \"mode\": \"text\", \"textfont\": {\"color\": \"rgb(0, 0, 0)\"}}], \"name\": 25}, {\"data\": [{\"x\": [0.0, 0.25, null], \"y\": [0.5, 1.0, null], \"hoverinfo\": \"none\", \"mode\": \"lines\", \"line\": {\"width\": 2, \"color\": \"rgb(0, 0, 255)\"}}, {\"x\": [0.0, 0.25, null], \"y\": [0.5, 0.0, null], \"hoverinfo\": \"none\", \"mode\": \"lines\", \"line\": {\"width\": 2, \"color\": \"rgb(0, 0, 255)\"}}, {\"x\": [0.25, 0.5, null], \"y\": [1.0, 1.0, null], \"hoverinfo\": \"none\", \"mode\": \"lines\", \"line\": {\"width\": 2, \"color\": \"rgb(0, 0, 0)\"}}, {\"x\": [0.25, 0.25, null], \"y\": [1.0, 0.0, null], \"hoverinfo\": \"none\", \"mode\": \"lines\", \"line\": {\"width\": 2, \"color\": \"rgb(0, 0, 0)\"}}, {\"x\": [0.5, 0.75, null], \"y\": [1.0, 1.0, null], \"hoverinfo\": \"none\", \"mode\": \"lines\", \"line\": {\"width\": 2, \"color\": \"rgb(0, 0, 255)\"}}, {\"x\": [0.5, 0.75, null], \"y\": [1.0, 0.0, null], \"hoverinfo\": \"none\", \"mode\": \"lines\", \"line\": {\"width\": 2, \"color\": \"rgb(0, 0, 255)\"}}, {\"x\": [0.5, 0.375, null], \"y\": [1.0, 0.5, null], \"hoverinfo\": \"none\", \"mode\": \"lines\", \"line\": {\"width\": 2, \"color\": \"rgb(0, 0, 255)\"}}, {\"x\": [0.75, 1.0, null], \"y\": [1.0, 0.5, null], \"hoverinfo\": \"none\", \"mode\": \"lines\", \"line\": {\"width\": 2, \"color\": \"rgb(0, 0, 255)\"}}, {\"x\": [0.75, 0.75, null], \"y\": [1.0, 0.0, null], \"hoverinfo\": \"none\", \"mode\": \"lines\", \"line\": {\"width\": 2, \"color\": \"rgb(0, 0, 0)\"}}, {\"x\": [1.0, 0.75, null], \"y\": [0.5, 0.0, null], \"hoverinfo\": \"none\", \"mode\": \"lines\", \"line\": {\"width\": 2, \"color\": \"rgb(0, 0, 0)\"}}, {\"x\": [0.75, 0.5, null], \"y\": [0.0, 0.0, null], \"hoverinfo\": \"none\", \"mode\": \"lines\", \"line\": {\"width\": 2, \"color\": \"rgb(0, 0, 255)\"}}, {\"x\": [0.5, 0.25, null], \"y\": [0.0, 0.0, null], \"hoverinfo\": \"none\", \"mode\": \"lines\", \"line\": {\"width\": 2, \"color\": \"rgb(0, 0, 255)\"}}, {\"x\": [0.5, 0.375, null], \"y\": [0.0, 0.5, null], \"hoverinfo\": \"none\", \"mode\": \"lines\", \"line\": {\"width\": 2, \"color\": \"rgb(0, 0, 0)\"}}, {\"x\": [0.25, 0.375, null], \"y\": [0.0, 0.5, null], \"hoverinfo\": \"none\", \"mode\": \"lines\", \"line\": {\"width\": 2, \"color\": \"rgb(0, 0, 0)\"}}, {\"x\": [0.0], \"y\": [0.5], \"text\": [], \"textposition\": \"middle center\", \"hoverinfo\": \"none\", \"mode\": \"markers+text\", \"marker\": {\"size\": 20, \"color\": \"rgb(255, 255, 255)\", \"line\": {\"width\": 2, \"color\": \"rgb(0, 0, 0)\"}}, \"textfont\": {\"color\": \"rgb(0, 0, 0)\"}}, {\"x\": [0.25], \"y\": [1.0], \"text\": [], \"textposition\": \"middle center\", \"hoverinfo\": \"none\", \"mode\": \"markers+text\", \"marker\": {\"size\": 20, \"color\": \"rgb(255, 255, 255)\", \"line\": {\"width\": 2, \"color\": \"rgb(0, 0, 0)\"}}, \"textfont\": {\"color\": \"rgb(0, 0, 0)\"}}, {\"x\": [0.5], \"y\": [1.0], \"text\": [], \"textposition\": \"middle center\", \"hoverinfo\": \"none\", \"mode\": \"markers+text\", \"marker\": {\"size\": 20, \"color\": \"rgb(255, 255, 255)\", \"line\": {\"width\": 2, \"color\": \"rgb(0, 0, 0)\"}}, \"textfont\": {\"color\": \"rgb(0, 0, 0)\"}}, {\"x\": [0.75], \"y\": [1.0], \"text\": [], \"textposition\": \"middle center\", \"hoverinfo\": \"none\", \"mode\": \"markers+text\", \"marker\": {\"size\": 20, \"color\": \"rgb(255, 255, 255)\", \"line\": {\"width\": 2, \"color\": \"rgb(0, 0, 0)\"}}, \"textfont\": {\"color\": \"rgb(0, 0, 0)\"}}, {\"x\": [1.0], \"y\": [0.5], \"text\": [], \"textposition\": \"middle center\", \"hoverinfo\": \"none\", \"mode\": \"markers+text\", \"marker\": {\"size\": 20, \"color\": \"rgb(255, 255, 255)\", \"line\": {\"width\": 2, \"color\": \"rgb(0, 0, 0)\"}}, \"textfont\": {\"color\": \"rgb(0, 0, 0)\"}}, {\"x\": [0.75], \"y\": [0.0], \"text\": [], \"textposition\": \"middle center\", \"hoverinfo\": \"none\", \"mode\": \"markers+text\", \"marker\": {\"size\": 20, \"color\": \"rgb(255, 255, 255)\", \"line\": {\"width\": 2, \"color\": \"rgb(0, 0, 0)\"}}, \"textfont\": {\"color\": \"rgb(0, 0, 0)\"}}, {\"x\": [0.5], \"y\": [0.0], \"text\": [], \"textposition\": \"middle center\", \"hoverinfo\": \"none\", \"mode\": \"markers+text\", \"marker\": {\"size\": 20, \"color\": \"rgb(255, 255, 255)\", \"line\": {\"width\": 2, \"color\": \"rgb(0, 0, 0)\"}}, \"textfont\": {\"color\": \"rgb(0, 0, 0)\"}}, {\"x\": [0.25], \"y\": [0.0], \"text\": [], \"textposition\": \"middle center\", \"hoverinfo\": \"none\", \"mode\": \"markers+text\", \"marker\": {\"size\": 20, \"color\": \"rgb(255, 255, 255)\", \"line\": {\"width\": 2, \"color\": \"rgb(0, 0, 0)\"}}, \"textfont\": {\"color\": \"rgb(0, 0, 0)\"}}, {\"x\": [0.375], \"y\": [0.5], \"text\": [], \"textposition\": \"middle center\", \"hoverinfo\": \"none\", \"mode\": \"markers+text\", \"marker\": {\"size\": 20, \"color\": \"rgb(255, 255, 255)\", \"line\": {\"width\": 2, \"color\": \"rgb(0, 0, 0)\"}}, \"textfont\": {\"color\": \"rgb(0, 0, 0)\"}}, {\"x\": [0.08835225700681207, 0.16164774299318793, 0.375, 0.2878787878787879, 0.625, 0.6625594305323629, 0.4750594305323629, 0.911647742993188, 0.7878787878787878, 0.911647742993188, 0.625, 0.375, 0.3999405694676371, 0.2749405694676371], \"y\": [0.768323871496594, 0.268323871496594, 1.0724637681159421, 0.5, 1.0724637681159421, 0.5093898576330907, 0.7406101423669093, 0.768323871496594, 0.5, 0.23167612850340602, -0.07246376811594203, -0.07246376811594203, 0.24061014236690928, 0.2593898576330907], \"text\": [4, 8, 8, 11, 7, 4, 2, 9, 14, 10, 2, 1, 6, 7], \"textposition\": \"middle center\", \"hoverinfo\": \"none\", \"mode\": \"text\", \"textfont\": {\"color\": \"rgb(0, 0, 0)\"}}], \"name\": 26}, {\"data\": [{\"x\": [0.0, 0.25, null], \"y\": [0.5, 1.0, null], \"hoverinfo\": \"none\", \"mode\": \"lines\", \"line\": {\"width\": 2, \"color\": \"rgb(0, 0, 255)\"}}, {\"x\": [0.0, 0.25, null], \"y\": [0.5, 0.0, null], \"hoverinfo\": \"none\", \"mode\": \"lines\", \"line\": {\"width\": 2, \"color\": \"rgb(0, 0, 255)\"}}, {\"x\": [0.25, 0.5, null], \"y\": [1.0, 1.0, null], \"hoverinfo\": \"none\", \"mode\": \"lines\", \"line\": {\"width\": 2, \"color\": \"rgb(0, 0, 0)\"}}, {\"x\": [0.25, 0.25, null], \"y\": [1.0, 0.0, null], \"hoverinfo\": \"none\", \"mode\": \"lines\", \"line\": {\"width\": 2, \"color\": \"rgb(0, 0, 0)\"}}, {\"x\": [0.5, 0.75, null], \"y\": [1.0, 1.0, null], \"hoverinfo\": \"none\", \"mode\": \"lines\", \"line\": {\"width\": 2, \"color\": \"rgb(0, 0, 255)\"}}, {\"x\": [0.5, 0.75, null], \"y\": [1.0, 0.0, null], \"hoverinfo\": \"none\", \"mode\": \"lines\", \"line\": {\"width\": 2, \"color\": \"rgb(0, 0, 255)\"}}, {\"x\": [0.5, 0.375, null], \"y\": [1.0, 0.5, null], \"hoverinfo\": \"none\", \"mode\": \"lines\", \"line\": {\"width\": 2, \"color\": \"rgb(0, 0, 255)\"}}, {\"x\": [0.75, 1.0, null], \"y\": [1.0, 0.5, null], \"hoverinfo\": \"none\", \"mode\": \"lines\", \"line\": {\"width\": 2, \"color\": \"rgb(0, 0, 255)\"}}, {\"x\": [0.75, 0.75, null], \"y\": [1.0, 0.0, null], \"hoverinfo\": \"none\", \"mode\": \"lines\", \"line\": {\"width\": 2, \"color\": \"rgb(255, 0, 0)\"}}, {\"x\": [1.0, 0.75, null], \"y\": [0.5, 0.0, null], \"hoverinfo\": \"none\", \"mode\": \"lines\", \"line\": {\"width\": 2, \"color\": \"rgb(0, 0, 0)\"}}, {\"x\": [0.75, 0.5, null], \"y\": [0.0, 0.0, null], \"hoverinfo\": \"none\", \"mode\": \"lines\", \"line\": {\"width\": 2, \"color\": \"rgb(0, 0, 255)\"}}, {\"x\": [0.5, 0.25, null], \"y\": [0.0, 0.0, null], \"hoverinfo\": \"none\", \"mode\": \"lines\", \"line\": {\"width\": 2, \"color\": \"rgb(0, 0, 255)\"}}, {\"x\": [0.5, 0.375, null], \"y\": [0.0, 0.5, null], \"hoverinfo\": \"none\", \"mode\": \"lines\", \"line\": {\"width\": 2, \"color\": \"rgb(0, 0, 0)\"}}, {\"x\": [0.25, 0.375, null], \"y\": [0.0, 0.5, null], \"hoverinfo\": \"none\", \"mode\": \"lines\", \"line\": {\"width\": 2, \"color\": \"rgb(0, 0, 0)\"}}, {\"x\": [0.0], \"y\": [0.5], \"text\": [], \"textposition\": \"middle center\", \"hoverinfo\": \"none\", \"mode\": \"markers+text\", \"marker\": {\"size\": 20, \"color\": \"rgb(255, 255, 255)\", \"line\": {\"width\": 2, \"color\": \"rgb(0, 0, 0)\"}}, \"textfont\": {\"color\": \"rgb(0, 0, 0)\"}}, {\"x\": [0.25], \"y\": [1.0], \"text\": [], \"textposition\": \"middle center\", \"hoverinfo\": \"none\", \"mode\": \"markers+text\", \"marker\": {\"size\": 20, \"color\": \"rgb(255, 255, 255)\", \"line\": {\"width\": 2, \"color\": \"rgb(0, 0, 0)\"}}, \"textfont\": {\"color\": \"rgb(0, 0, 0)\"}}, {\"x\": [0.5], \"y\": [1.0], \"text\": [], \"textposition\": \"middle center\", \"hoverinfo\": \"none\", \"mode\": \"markers+text\", \"marker\": {\"size\": 20, \"color\": \"rgb(255, 255, 255)\", \"line\": {\"width\": 2, \"color\": \"rgb(0, 0, 0)\"}}, \"textfont\": {\"color\": \"rgb(0, 0, 0)\"}}, {\"x\": [0.75], \"y\": [1.0], \"text\": [], \"textposition\": \"middle center\", \"hoverinfo\": \"none\", \"mode\": \"markers+text\", \"marker\": {\"size\": 20, \"color\": \"rgb(255, 255, 255)\", \"line\": {\"width\": 2, \"color\": \"rgb(0, 0, 0)\"}}, \"textfont\": {\"color\": \"rgb(0, 0, 0)\"}}, {\"x\": [1.0], \"y\": [0.5], \"text\": [], \"textposition\": \"middle center\", \"hoverinfo\": \"none\", \"mode\": \"markers+text\", \"marker\": {\"size\": 20, \"color\": \"rgb(255, 255, 255)\", \"line\": {\"width\": 2, \"color\": \"rgb(0, 0, 0)\"}}, \"textfont\": {\"color\": \"rgb(0, 0, 0)\"}}, {\"x\": [0.75], \"y\": [0.0], \"text\": [], \"textposition\": \"middle center\", \"hoverinfo\": \"none\", \"mode\": \"markers+text\", \"marker\": {\"size\": 20, \"color\": \"rgb(255, 255, 255)\", \"line\": {\"width\": 2, \"color\": \"rgb(0, 0, 0)\"}}, \"textfont\": {\"color\": \"rgb(0, 0, 0)\"}}, {\"x\": [0.5], \"y\": [0.0], \"text\": [], \"textposition\": \"middle center\", \"hoverinfo\": \"none\", \"mode\": \"markers+text\", \"marker\": {\"size\": 20, \"color\": \"rgb(255, 255, 255)\", \"line\": {\"width\": 2, \"color\": \"rgb(0, 0, 0)\"}}, \"textfont\": {\"color\": \"rgb(0, 0, 0)\"}}, {\"x\": [0.25], \"y\": [0.0], \"text\": [], \"textposition\": \"middle center\", \"hoverinfo\": \"none\", \"mode\": \"markers+text\", \"marker\": {\"size\": 20, \"color\": \"rgb(255, 255, 255)\", \"line\": {\"width\": 2, \"color\": \"rgb(0, 0, 0)\"}}, \"textfont\": {\"color\": \"rgb(0, 0, 0)\"}}, {\"x\": [0.375], \"y\": [0.5], \"text\": [], \"textposition\": \"middle center\", \"hoverinfo\": \"none\", \"mode\": \"markers+text\", \"marker\": {\"size\": 20, \"color\": \"rgb(255, 255, 255)\", \"line\": {\"width\": 2, \"color\": \"rgb(0, 0, 0)\"}}, \"textfont\": {\"color\": \"rgb(0, 0, 0)\"}}, {\"x\": [0.08835225700681207, 0.16164774299318793, 0.375, 0.2878787878787879, 0.625, 0.6625594305323629, 0.4750594305323629, 0.911647742993188, 0.7878787878787878, 0.911647742993188, 0.625, 0.375, 0.3999405694676371, 0.2749405694676371], \"y\": [0.768323871496594, 0.268323871496594, 1.0724637681159421, 0.5, 1.0724637681159421, 0.5093898576330907, 0.7406101423669093, 0.768323871496594, 0.5, 0.23167612850340602, -0.07246376811594203, -0.07246376811594203, 0.24061014236690928, 0.2593898576330907], \"text\": [4, 8, 8, 11, 7, 4, 2, 9, 14, 10, 2, 1, 6, 7], \"textposition\": \"middle center\", \"hoverinfo\": \"none\", \"mode\": \"text\", \"textfont\": {\"color\": \"rgb(0, 0, 0)\"}}], \"name\": 27}, {\"data\": [{\"x\": [0.0, 0.25, null], \"y\": [0.5, 1.0, null], \"hoverinfo\": \"none\", \"mode\": \"lines\", \"line\": {\"width\": 2, \"color\": \"rgb(0, 0, 255)\"}}, {\"x\": [0.0, 0.25, null], \"y\": [0.5, 0.0, null], \"hoverinfo\": \"none\", \"mode\": \"lines\", \"line\": {\"width\": 2, \"color\": \"rgb(0, 0, 255)\"}}, {\"x\": [0.25, 0.5, null], \"y\": [1.0, 1.0, null], \"hoverinfo\": \"none\", \"mode\": \"lines\", \"line\": {\"width\": 2, \"color\": \"rgb(0, 0, 0)\"}}, {\"x\": [0.25, 0.25, null], \"y\": [1.0, 0.0, null], \"hoverinfo\": \"none\", \"mode\": \"lines\", \"line\": {\"width\": 2, \"color\": \"rgb(0, 0, 0)\"}}, {\"x\": [0.5, 0.75, null], \"y\": [1.0, 1.0, null], \"hoverinfo\": \"none\", \"mode\": \"lines\", \"line\": {\"width\": 2, \"color\": \"rgb(0, 0, 255)\"}}, {\"x\": [0.5, 0.75, null], \"y\": [1.0, 0.0, null], \"hoverinfo\": \"none\", \"mode\": \"lines\", \"line\": {\"width\": 2, \"color\": \"rgb(0, 0, 255)\"}}, {\"x\": [0.5, 0.375, null], \"y\": [1.0, 0.5, null], \"hoverinfo\": \"none\", \"mode\": \"lines\", \"line\": {\"width\": 2, \"color\": \"rgb(0, 0, 255)\"}}, {\"x\": [0.75, 1.0, null], \"y\": [1.0, 0.5, null], \"hoverinfo\": \"none\", \"mode\": \"lines\", \"line\": {\"width\": 2, \"color\": \"rgb(0, 0, 255)\"}}, {\"x\": [0.75, 0.75, null], \"y\": [1.0, 0.0, null], \"hoverinfo\": \"none\", \"mode\": \"lines\", \"line\": {\"width\": 2, \"color\": \"rgb(0, 0, 0)\"}}, {\"x\": [1.0, 0.75, null], \"y\": [0.5, 0.0, null], \"hoverinfo\": \"none\", \"mode\": \"lines\", \"line\": {\"width\": 2, \"color\": \"rgb(0, 0, 0)\"}}, {\"x\": [0.75, 0.5, null], \"y\": [0.0, 0.0, null], \"hoverinfo\": \"none\", \"mode\": \"lines\", \"line\": {\"width\": 2, \"color\": \"rgb(0, 0, 255)\"}}, {\"x\": [0.5, 0.25, null], \"y\": [0.0, 0.0, null], \"hoverinfo\": \"none\", \"mode\": \"lines\", \"line\": {\"width\": 2, \"color\": \"rgb(0, 0, 255)\"}}, {\"x\": [0.5, 0.375, null], \"y\": [0.0, 0.5, null], \"hoverinfo\": \"none\", \"mode\": \"lines\", \"line\": {\"width\": 2, \"color\": \"rgb(0, 0, 0)\"}}, {\"x\": [0.25, 0.375, null], \"y\": [0.0, 0.5, null], \"hoverinfo\": \"none\", \"mode\": \"lines\", \"line\": {\"width\": 2, \"color\": \"rgb(0, 0, 0)\"}}, {\"x\": [0.0], \"y\": [0.5], \"text\": [], \"textposition\": \"middle center\", \"hoverinfo\": \"none\", \"mode\": \"markers+text\", \"marker\": {\"size\": 20, \"color\": \"rgb(255, 255, 255)\", \"line\": {\"width\": 2, \"color\": \"rgb(0, 0, 0)\"}}, \"textfont\": {\"color\": \"rgb(0, 0, 0)\"}}, {\"x\": [0.25], \"y\": [1.0], \"text\": [], \"textposition\": \"middle center\", \"hoverinfo\": \"none\", \"mode\": \"markers+text\", \"marker\": {\"size\": 20, \"color\": \"rgb(255, 255, 255)\", \"line\": {\"width\": 2, \"color\": \"rgb(0, 0, 0)\"}}, \"textfont\": {\"color\": \"rgb(0, 0, 0)\"}}, {\"x\": [0.5], \"y\": [1.0], \"text\": [], \"textposition\": \"middle center\", \"hoverinfo\": \"none\", \"mode\": \"markers+text\", \"marker\": {\"size\": 20, \"color\": \"rgb(255, 255, 255)\", \"line\": {\"width\": 2, \"color\": \"rgb(0, 0, 0)\"}}, \"textfont\": {\"color\": \"rgb(0, 0, 0)\"}}, {\"x\": [0.75], \"y\": [1.0], \"text\": [], \"textposition\": \"middle center\", \"hoverinfo\": \"none\", \"mode\": \"markers+text\", \"marker\": {\"size\": 20, \"color\": \"rgb(255, 255, 255)\", \"line\": {\"width\": 2, \"color\": \"rgb(0, 0, 0)\"}}, \"textfont\": {\"color\": \"rgb(0, 0, 0)\"}}, {\"x\": [1.0], \"y\": [0.5], \"text\": [], \"textposition\": \"middle center\", \"hoverinfo\": \"none\", \"mode\": \"markers+text\", \"marker\": {\"size\": 20, \"color\": \"rgb(255, 255, 255)\", \"line\": {\"width\": 2, \"color\": \"rgb(0, 0, 0)\"}}, \"textfont\": {\"color\": \"rgb(0, 0, 0)\"}}, {\"x\": [0.75], \"y\": [0.0], \"text\": [], \"textposition\": \"middle center\", \"hoverinfo\": \"none\", \"mode\": \"markers+text\", \"marker\": {\"size\": 20, \"color\": \"rgb(255, 255, 255)\", \"line\": {\"width\": 2, \"color\": \"rgb(0, 0, 0)\"}}, \"textfont\": {\"color\": \"rgb(0, 0, 0)\"}}, {\"x\": [0.5], \"y\": [0.0], \"text\": [], \"textposition\": \"middle center\", \"hoverinfo\": \"none\", \"mode\": \"markers+text\", \"marker\": {\"size\": 20, \"color\": \"rgb(255, 255, 255)\", \"line\": {\"width\": 2, \"color\": \"rgb(0, 0, 0)\"}}, \"textfont\": {\"color\": \"rgb(0, 0, 0)\"}}, {\"x\": [0.25], \"y\": [0.0], \"text\": [], \"textposition\": \"middle center\", \"hoverinfo\": \"none\", \"mode\": \"markers+text\", \"marker\": {\"size\": 20, \"color\": \"rgb(255, 255, 255)\", \"line\": {\"width\": 2, \"color\": \"rgb(0, 0, 0)\"}}, \"textfont\": {\"color\": \"rgb(0, 0, 0)\"}}, {\"x\": [0.375], \"y\": [0.5], \"text\": [], \"textposition\": \"middle center\", \"hoverinfo\": \"none\", \"mode\": \"markers+text\", \"marker\": {\"size\": 20, \"color\": \"rgb(255, 255, 255)\", \"line\": {\"width\": 2, \"color\": \"rgb(0, 0, 0)\"}}, \"textfont\": {\"color\": \"rgb(0, 0, 0)\"}}, {\"x\": [0.08835225700681207, 0.16164774299318793, 0.375, 0.2878787878787879, 0.625, 0.6625594305323629, 0.4750594305323629, 0.911647742993188, 0.7878787878787878, 0.911647742993188, 0.625, 0.375, 0.3999405694676371, 0.2749405694676371], \"y\": [0.768323871496594, 0.268323871496594, 1.0724637681159421, 0.5, 1.0724637681159421, 0.5093898576330907, 0.7406101423669093, 0.768323871496594, 0.5, 0.23167612850340602, -0.07246376811594203, -0.07246376811594203, 0.24061014236690928, 0.2593898576330907], \"text\": [4, 8, 8, 11, 7, 4, 2, 9, 14, 10, 2, 1, 6, 7], \"textposition\": \"middle center\", \"hoverinfo\": \"none\", \"mode\": \"text\", \"textfont\": {\"color\": \"rgb(0, 0, 0)\"}}], \"name\": 28}]);}).then(function(){Plotly.animate('40724d05-1f7f-48c6-97f5-8047f3cc8dd9');})\n",
       "        });</script>"
      ]
     },
     "metadata": {},
     "output_type": "display_data"
    }
   ],
   "source": [
    "def snapshot(g, frames):\n",
    "    frame = sn.generate_frame(g, elab=True)\n",
    "\n",
    "    frames.append(frame)\n",
    "\n",
    "\n",
    "red = (255, 0, 0)\n",
    "blue = (0, 0, 255)\n",
    "frames = []\n",
    "\n",
    "f = Forest(g)\n",
    "\n",
    "sn.reset_edge_colors(g)\n",
    "snapshot(g, frames)\n",
    "\n",
    "for n, m in sorted(g.edges(), key=lambda e: g.edge[e[0]][e[1]]['c']):\n",
    "    g.edge[n][m]['color'] = red\n",
    "    snapshot(g, frames)\n",
    "\n",
    "    if f.adding_does_not_form_circuit(n, m):\n",
    "        f.add(n, m)\n",
    "\n",
    "        g.edge[n][m]['color'] = blue\n",
    "    else:\n",
    "        g.edge[n][m]['color'] = sn.edge_color\n",
    "\n",
    "    snapshot(g, frames)\n",
    "\n",
    "sn.show_animation(frames)"
   ]
  },
  {
   "cell_type": "code",
   "execution_count": null,
   "metadata": {
    "collapsed": true
   },
   "outputs": [],
   "source": []
  }
 ],
 "metadata": {
  "kernelspec": {
   "display_name": "Python 3",
   "language": "python",
   "name": "python3"
  },
  "language_info": {
   "codemirror_mode": {
    "name": "ipython",
    "version": 3
   },
   "file_extension": ".py",
   "mimetype": "text/x-python",
   "name": "python",
   "nbconvert_exporter": "python",
   "pygments_lexer": "ipython3",
   "version": "3.6.5"
  }
 },
 "nbformat": 4,
 "nbformat_minor": 1
}
