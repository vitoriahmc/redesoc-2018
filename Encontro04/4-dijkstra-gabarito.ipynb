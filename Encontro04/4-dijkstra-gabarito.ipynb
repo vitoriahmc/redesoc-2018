{
 "cells": [
  {
   "cell_type": "markdown",
   "metadata": {},
   "source": [
    "# Encontro 02, Parte 4: Algoritmo de Dijkstra\n",
    "\n",
    "Este guia foi escrito para ajudar você a atingir os seguintes objetivos:\n",
    "\n",
    "* implementar o algoritmo de Dijkstra;\n",
    "* praticar o uso da biblioteca da disciplina.\n",
    "\n",
    "Primeiramente, vamos importar a biblioteca:"
   ]
  },
  {
   "cell_type": "code",
   "execution_count": null,
   "metadata": {
    "collapsed": true
   },
   "outputs": [],
   "source": [
    "import sys\n",
    "sys.path.append('..')\n",
    "\n",
    "import socnet as sn"
   ]
  },
  {
   "cell_type": "markdown",
   "metadata": {},
   "source": [
    "A seguir, vamos configurar as propriedades visuais:"
   ]
  },
  {
   "cell_type": "code",
   "execution_count": null,
   "metadata": {
    "collapsed": true
   },
   "outputs": [],
   "source": [
    "sn.graph_width = 320\n",
    "sn.graph_height = 180"
   ]
  },
  {
   "cell_type": "markdown",
   "metadata": {},
   "source": [
    "Por fim, vamos carregar e visualizar um grafo:"
   ]
  },
  {
   "cell_type": "code",
   "execution_count": null,
   "metadata": {
    "collapsed": true
   },
   "outputs": [],
   "source": [
    "g = sn.load_graph('4-dijkstra.gml', has_pos=True)\n",
    "\n",
    "for n, m in g.edges():\n",
    "    g.edge[n][m]['label'] = g.edge[n][m]['c']\n",
    "\n",
    "sn.show_graph(g, elab=True)"
   ]
  },
  {
   "cell_type": "markdown",
   "metadata": {},
   "source": [
    "## Algoritmo de Dijkstra\n",
    "\n",
    "A ideia do algoritmo de busca em largura é usar uma fila para visitar os nós em ordem de distância. A ideia do algoritmo de Bellman-Ford é atualizar a distância ponderada de um nó quando descobrimos uma aresta através da qual podemos melhorá-la. A busca em largura é rápida, mas não considera custos. O Bellman-Ford considera custos, mas não é rápido.\n",
    "\n",
    "O **algoritmo de Dijkstra** usa um pouco de cada algoritmo para eficientemente calcular distâncias ponderadas no caso particular em que os custos são todos não-negativos. A ideia é usar uma *fila de prioridade* para visitar os nós em ordem de distância e também atualizar a distância ponderada de um nó não-visitado quando descobrimos uma aresta através da qual podemos melhorá-la. No pseudocódigo abaixo, \"`x.d`\" significa \"atributo `d` do nó `x`\".\n",
    "\n",
    "    inicialize uma fila de prioridade h, onde menor d significa maior prioridade\n",
    "\n",
    "    para cada nó n\n",
    "        n.d = ∞\n",
    "        coloque n em h\n",
    "\n",
    "    s.d = 0\n",
    "    conserte s em h, pois s.d mudou\n",
    "\n",
    "    enquanto h não está vazia\n",
    "        retire n de h, onde n é o nó com maior prioridade\n",
    "\n",
    "        para cada sucessor m de n\n",
    "            d = n.d + c(n, m)\n",
    "\n",
    "            se m.d > d\n",
    "                m.d = d\n",
    "                conserte m em h, pois m.d mudou\n",
    "\n",
    "Vamos especificar uma classe que representa a fila de prioridade necessária. Não é necessário entender todos os detalhes dela, apenas que o método `fix` deve ser usado para *consertar*, o método `put` deve ser usado para *colocar* e o método `get` deve ser usado para *retirar*. "
   ]
  },
  {
   "cell_type": "code",
   "execution_count": null,
   "metadata": {
    "collapsed": true
   },
   "outputs": [],
   "source": [
    "class Heap(object):\n",
    "    def __init__(self, g):\n",
    "        self.g = g\n",
    "        self.h = []\n",
    "        self.indices = {}\n",
    "\n",
    "    def _parent(self, i):\n",
    "        return (i - 1) // 2\n",
    "\n",
    "    def _left(self, i):\n",
    "        return 2 * i + 1\n",
    "\n",
    "    def _right(self, i):\n",
    "        return 2 * i + 2\n",
    "\n",
    "    def _key(self, i):\n",
    "        return self.g.node[self.h[i]]['d']\n",
    "\n",
    "    def _swap(self, i, j):\n",
    "        self.h[i], self.h[j] = self.h[j], self.h[i]\n",
    "        self.indices[self.h[i]] = i\n",
    "        self.indices[self.h[j]] = j\n",
    "\n",
    "    def empty(self):\n",
    "        return len(self.h) == 0\n",
    "\n",
    "    def fix(self, n):\n",
    "        i = self.indices[n]\n",
    "        p = self._parent(i)\n",
    "        while i > 0 and self._key(p) > self._key(i):\n",
    "            self._swap(i, p)\n",
    "            i = p\n",
    "            p = self._parent(i)\n",
    "\n",
    "    def put(self, n):\n",
    "        self.indices[n] = len(self.h)\n",
    "        self.h.append(n)\n",
    "        self.fix(n)\n",
    "\n",
    "    def get(self):\n",
    "        n = self.h[0]\n",
    "        self._swap(0, len(self.h) - 1)\n",
    "        del self.h[-1]\n",
    "        del self.indices[n]\n",
    "        i = 0\n",
    "        while True:\n",
    "            l = self._left(i)\n",
    "            r = self._right(i)\n",
    "            c = i\n",
    "            if l < len(self.h) and self._key(l) < self._key(c):\n",
    "                c = l\n",
    "            if r < len(self.h) and self._key(r) < self._key(c):\n",
    "                c = r\n",
    "            if i == c:\n",
    "                break\n",
    "            self._swap(i, c)\n",
    "            i = c\n",
    "        return n"
   ]
  },
  {
   "cell_type": "markdown",
   "metadata": {},
   "source": [
    "### Exercício\n",
    "\n",
    "Monte uma visualização do algoritmo de Dijkstra. Use a classe `Heap`."
   ]
  },
  {
   "cell_type": "code",
   "execution_count": null,
   "metadata": {
    "collapsed": true
   },
   "outputs": [],
   "source": [
    "from math import inf, isinf\n",
    "\n",
    "\n",
    "def snapshot(g, frames):\n",
    "    for n in g.nodes():\n",
    "        if isinf(g.node[n]['d']):\n",
    "            g.node[n]['label'] = '∞'\n",
    "        else:\n",
    "            g.node[n]['label'] = str(g.node[n]['d'])\n",
    "\n",
    "    frame = sn.generate_frame(g, nlab=True, elab=True)\n",
    "\n",
    "    frames.append(frame)\n",
    "\n",
    "\n",
    "red = (255, 0, 0)\n",
    "blue = (0, 0, 255)\n",
    "frames = []\n",
    "\n",
    "s = 0\n",
    "h = Heap(g)\n",
    "\n",
    "for n in g.nodes():\n",
    "    g.node[n]['d'] = inf\n",
    "    h.put(n)\n",
    "\n",
    "g.node[s]['d'] = 0\n",
    "h.fix(s)\n",
    "\n",
    "sn.reset_node_colors(g)\n",
    "sn.reset_edge_colors(g)\n",
    "snapshot(g, frames)\n",
    "\n",
    "while not h.empty():\n",
    "    n = h.get()\n",
    "\n",
    "    g.node[n]['color'] = red\n",
    "    snapshot(g, frames)\n",
    "\n",
    "    for m in g.successors(n):\n",
    "        g.edge[n][m]['color'] = red\n",
    "        snapshot(g, frames)\n",
    "\n",
    "        d = g.node[n]['d'] + g.edge[n][m]['c']\n",
    "\n",
    "        if g.node[m]['d'] > d:\n",
    "            g.node[m]['d'] = d\n",
    "            h.fix(m)\n",
    "\n",
    "        g.edge[n][m]['color'] = sn.edge_color\n",
    "        snapshot(g, frames)\n",
    "\n",
    "    g.node[n]['color'] = blue\n",
    "    snapshot(g, frames)\n",
    "\n",
    "sn.show_animation(frames)"
   ]
  }
 ],
 "metadata": {
  "kernelspec": {
   "display_name": "Python 3",
   "language": "python",
   "name": "python3"
  },
  "language_info": {
   "codemirror_mode": {
    "name": "ipython",
    "version": 3
   },
   "file_extension": ".py",
   "mimetype": "text/x-python",
   "name": "python",
   "nbconvert_exporter": "python",
   "pygments_lexer": "ipython3",
   "version": "3.6.5"
  }
 },
 "nbformat": 4,
 "nbformat_minor": 1
}
