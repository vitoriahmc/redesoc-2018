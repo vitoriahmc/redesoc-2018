{
 "cells": [
  {
   "cell_type": "markdown",
   "metadata": {},
   "source": [
    "# Algoritmo de Kruskal\n",
    "\n",
    "Este guia foi escrito para ajudar você a atingir os seguintes objetivos:\n",
    "\n",
    "* implementar o algoritmo de Kruskal;\n",
    "* praticar o uso da biblioteca da disciplina.\n",
    "\n",
    "Primeiramente, vamos importar a biblioteca:"
   ]
  },
  {
   "cell_type": "code",
   "execution_count": null,
   "metadata": {},
   "outputs": [],
   "source": [
    "import sys\n",
    "sys.path.append('..')\n",
    "\n",
    "import socnet as sn"
   ]
  },
  {
   "cell_type": "markdown",
   "metadata": {},
   "source": [
    "A seguir, vamos configurar as propriedades visuais:"
   ]
  },
  {
   "cell_type": "code",
   "execution_count": null,
   "metadata": {},
   "outputs": [],
   "source": [
    "sn.graph_width = 320\n",
    "sn.graph_height = 180"
   ]
  },
  {
   "cell_type": "markdown",
   "metadata": {},
   "source": [
    "Por fim, vamos carregar e visualizar um grafo:"
   ]
  },
  {
   "cell_type": "code",
   "execution_count": null,
   "metadata": {},
   "outputs": [],
   "source": [
    "g = sn.load_graph('5-kruskal.gml', has_pos=True)\n",
    "\n",
    "for e in g.edges_iter():\n",
    "    g.edges[e[0], e[1]]['label'] = g.edges[e[0], e[1]]['c']\n",
    "\n",
    "sn.show_graph(g, elab=True)"
   ]
  },
  {
   "cell_type": "markdown",
   "metadata": {},
   "source": [
    "## Árvores geradoras mínimas\n",
    "\n",
    "Dizemos que:\n",
    "* um passeio $\\langle n_0, n_1, \\ldots, n_{k-1} \\rangle$ é um **circuito** se $\\langle n_0, n_1, \\ldots, n_{k-2} \\rangle$ é um caminho e $n_0 = n_{k-1}$;\n",
    "* um conjunto de arestas $F$ é uma **floresta** se não existem circuitos no grafo $(N, F)$;\n",
    "* um grafo é **conexo** se para quaisquer nós $s$ e $t$ existe um caminho de $s$ a $t$;\n",
    "* uma floresta $T$ é uma **árvore geradora** se o grafo $(N, T)$ é conexo.\n",
    "\n",
    "O **custo** de uma árvore geradora $T$ é\n",
    "\n",
    "$\\sum_{\\{n, m\\} \\in T} c(n, m)$.\n",
    "\n",
    "Uma árvore geradora é **mínima** se não existe outra árvore geradora de custo menor. Note que podem existir múltiplas árvores geradoras mínimas.\n",
    "\n",
    "## Algoritmo de Kruskal\n",
    "\n",
    "Podemos eficientemente obter uma árvore geradora mínima usando o **algoritmo de Kruskal**. A ideia desse algoritmo é simples: inicializamos uma floresta $F$ como o conjunto vazio e verificamos todas as arestas em ordem não-decrescente de custo. Para cada aresta, adicionamos ela a $F$ se essa adição não formar circuito no grafo $(N, F)$.\n",
    "\n",
    "Vamos especificar uma classe que representa a floresta. Não é necessário entender todos os detalhes dela, apenas que o atributo `f` é o conjunto das arestas e os dois últimos métodos são auto-explicativos."
   ]
  },
  {
   "cell_type": "code",
   "execution_count": null,
   "metadata": {},
   "outputs": [],
   "source": [
    "class Forest(object):\n",
    "    def __init__(self, g):\n",
    "        self.g = g\n",
    "        self.f = set()\n",
    "        for n in g.nodes:\n",
    "            self._make_set(n)\n",
    "\n",
    "    def _make_set(self, x):\n",
    "        g.nodes[x]['p'] = x\n",
    "        g.nodes[x]['rank'] = 0\n",
    "\n",
    "    def _union(self, x, y):\n",
    "        self._link(self._find_set(x), self._find_set(y))\n",
    "\n",
    "    def _link(self, x, y):\n",
    "        if g.nodes[x]['rank'] > g.nodes[y]['rank']:\n",
    "            g.nodes[y]['p'] = x\n",
    "        else:\n",
    "            g.nodes[x]['p'] = y\n",
    "            if g.nodes[x]['rank'] == g.nodes[y]['rank']:\n",
    "                g.nodes[y]['rank'] = g.nodes[y]['rank'] + 1\n",
    "\n",
    "    def _find_set(self, x):\n",
    "        if x != g.nodes[x]['p']:\n",
    "            g.nodes[x]['p'] = self._find_set(g.nodes[x]['p'])\n",
    "        return g.nodes[x]['p']\n",
    "\n",
    "    def adding_does_not_form_circuit(self, n, m):\n",
    "        return self._find_set(n) != self._find_set(m)\n",
    "\n",
    "    def add(self, n, m):\n",
    "        self.f.add((n, m))\n",
    "        self._union(n, m)"
   ]
  },
  {
   "cell_type": "markdown",
   "metadata": {},
   "source": [
    "### Exercício\n",
    "\n",
    "Monte uma visualização do algoritmo de Kruskal. Use a classe `Forest`."
   ]
  },
  {
   "cell_type": "code",
   "execution_count": null,
   "metadata": {},
   "outputs": [],
   "source": [
    "# sua resposta"
   ]
  }
 ],
 "metadata": {
  "kernelspec": {
   "display_name": "Python 3",
   "language": "python",
   "name": "python3"
  },
  "language_info": {
   "codemirror_mode": {
    "name": "ipython",
    "version": 3
   },
   "file_extension": ".py",
   "mimetype": "text/x-python",
   "name": "python",
   "nbconvert_exporter": "python",
   "pygments_lexer": "ipython3",
   "version": "3.6.5"
  }
 },
 "nbformat": 4,
 "nbformat_minor": 1
}
