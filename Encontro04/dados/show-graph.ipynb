{
 "cells": [
  {
   "cell_type": "markdown",
   "metadata": {},
   "source": [
    "# Visualização rápida de grafos\n",
    "\n",
    "Importando a biblioteca:"
   ]
  },
  {
   "cell_type": "code",
   "execution_count": 2,
   "metadata": {},
   "outputs": [
    {
     "data": {
      "text/html": [
       "<script>requirejs.config({paths: { 'plotly': ['https://cdn.plot.ly/plotly-latest.min']},});if(!window.Plotly) {{require(['plotly'],function(plotly) {window.Plotly=plotly;});}}</script>"
      ],
      "text/vnd.plotly.v1+html": [
       "<script>requirejs.config({paths: { 'plotly': ['https://cdn.plot.ly/plotly-latest.min']},});if(!window.Plotly) {{require(['plotly'],function(plotly) {window.Plotly=plotly;});}}</script>"
      ]
     },
     "metadata": {},
     "output_type": "display_data"
    }
   ],
   "source": [
    "import sys\n",
    "sys.path.append('../..')\n",
    "\n",
    "import socnet as sn"
   ]
  },
  {
   "cell_type": "markdown",
   "metadata": {},
   "source": [
    "Carregando e visualizando o grafo:"
   ]
  },
  {
   "cell_type": "code",
   "execution_count": 3,
   "metadata": {},
   "outputs": [],
   "source": [
    "sn.node_size = 3\n",
    "sn.node_color = (0, 0, 0)\n",
    "sn.edge_width = 1\n",
    "sn.edge_color = (192, 192, 192)\n",
    "sn.node_label_position = 'hover'\n",
    "\n",
    "g = sn.load_graph('spotify.gml')\n",
    "\n",
    "#sn.show_graph(g, nlab=True)"
   ]
  },
  {
   "cell_type": "code",
   "execution_count": 7,
   "metadata": {},
   "outputs": [],
   "source": [
    "import networkx as nx\n",
    "\n",
    "#for i, p in enumerate(nx.all_shortest_paths(g, 1, 0)):\n",
    "#    print('caminho {}:'.format(i + 1))\n",
    "#    for n in p:\n",
    "#        print(' ', g.nodes[n]['label'])\n",
    "\n",
    "c = nx.algorithms.centrality.betweenness_centrality(g)"
   ]
  },
  {
   "cell_type": "markdown",
   "metadata": {},
   "source": [
    "Dependendo do tamanho, o grafo pode demorar um pouco para aparecer."
   ]
  },
  {
   "cell_type": "code",
   "execution_count": 11,
   "metadata": {},
   "outputs": [],
   "source": [
    "c2 = nx.algorithms.centrality.closeness_centrality(g)"
   ]
  },
  {
   "cell_type": "code",
   "execution_count": 17,
   "metadata": {},
   "outputs": [],
   "source": [
    "deg = list(sorted(g.nodes, key=lambda n: g.in_degree(n), reverse=True))"
   ]
  },
  {
   "cell_type": "code",
   "execution_count": 18,
   "metadata": {},
   "outputs": [],
   "source": [
    "bet = list(sorted(g.nodes, key=lambda n: c[n], reverse=True))"
   ]
  },
  {
   "cell_type": "code",
   "execution_count": 26,
   "metadata": {},
   "outputs": [],
   "source": [
    "clo = list(sorted(g.nodes, key=lambda n: c2[n], reverse=True))"
   ]
  },
  {
   "cell_type": "code",
   "execution_count": 27,
   "metadata": {},
   "outputs": [],
   "source": [
    "pop = list(sorted(g.nodes, key=lambda n: g.nodes[n]['popularity'], reverse=True))"
   ]
  },
  {
   "cell_type": "code",
   "execution_count": 21,
   "metadata": {},
   "outputs": [
    {
     "name": "stdout",
     "output_type": "stream",
     "text": [
      "Case 78\n",
      "H-Town 65\n",
      "Sutton Foster 65\n",
      "Jodeci 63\n",
      "The Emotions 61\n",
      "Ashford & Simpson 59\n",
      "Shai 59\n",
      "Bernadette Peters 59\n",
      "Stephanie Mills 58\n",
      "Sugababes 56\n"
     ]
    }
   ],
   "source": [
    "for n in deg[:10]:\n",
    "    print(g.nodes[n]['label'], g.in_degree(n))"
   ]
  },
  {
   "cell_type": "code",
   "execution_count": 24,
   "metadata": {},
   "outputs": [
    {
     "name": "stdout",
     "output_type": "stream",
     "text": [
      "Jody Watley 0.05661296064493162\n",
      "Sheena Easton 0.05644138829058915\n",
      "Karyn White 0.05603150166538517\n",
      "Taylor Dayne 0.05591548240528498\n",
      "The Jets 0.05577689192942761\n",
      "Regina Belle 0.05539928654760976\n",
      "DeBarge 0.05516727727810496\n",
      "Jeffrey Osborne 0.054797853546331945\n",
      "Pebbles 0.05473676340859913\n",
      "Melissa Manchester 0.054681344998749375\n"
     ]
    }
   ],
   "source": [
    "for n in clo[:10]:\n",
    "    print(g.nodes[n]['label'], c2[n])"
   ]
  },
  {
   "cell_type": "code",
   "execution_count": 25,
   "metadata": {},
   "outputs": [
    {
     "name": "stdout",
     "output_type": "stream",
     "text": [
      "Susan Boyle 0.0514059767304197\n",
      "Bette Midler 0.05018564461923959\n",
      "Aaron Copland 0.046372523830994564\n",
      "Libera 0.04482782741020618\n",
      "Karl Jenkins 0.04373335631323458\n",
      "Eric Whitacre 0.043560079447934934\n",
      "Barbra Streisand 0.03382127352520209\n",
      "Cher 0.03071009086474917\n",
      "Dionne Warwick 0.029600339041180913\n",
      "Liza Minnelli 0.02791985604529241\n"
     ]
    }
   ],
   "source": [
    "for n in bet[:10]:\n",
    "    print(g.nodes[n]['label'], c[n])"
   ]
  },
  {
   "cell_type": "code",
   "execution_count": 32,
   "metadata": {},
   "outputs": [
    {
     "name": "stdout",
     "output_type": "stream",
     "text": [
      "Demi Lovato 88 6332\n",
      "Anne-Marie 85 6318\n",
      "Selena Gomez 84 2279\n",
      "Bebe Rexha 84 6326\n",
      "OneRepublic 82 5772\n",
      "Jason Derulo 82 6313\n",
      "Katy Perry 81 2206\n",
      "Miguel 81 2753\n",
      "One Direction 81 6308\n",
      "Little Mix 80 5255\n"
     ]
    }
   ],
   "source": [
    "for n in pop[:10]:\n",
    "    print(g.nodes[n]['label'], g.nodes[n]['popularity'], deg[n])"
   ]
  },
  {
   "cell_type": "code",
   "execution_count": null,
   "metadata": {},
   "outputs": [],
   "source": []
  }
 ],
 "metadata": {
  "kernelspec": {
   "display_name": "Python 3",
   "language": "python",
   "name": "python3"
  },
  "language_info": {
   "codemirror_mode": {
    "name": "ipython",
    "version": 3
   },
   "file_extension": ".py",
   "mimetype": "text/x-python",
   "name": "python",
   "nbconvert_exporter": "python",
   "pygments_lexer": "ipython3",
   "version": "3.6.5"
  }
 },
 "nbformat": 4,
 "nbformat_minor": 1
}
